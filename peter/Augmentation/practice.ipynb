{
 "cells": [
  {
   "cell_type": "code",
   "execution_count": null,
   "metadata": {},
   "outputs": [],
   "source": [
    "import os\n",
    "import albumentations as A\n",
    "import albumentations.pytorch\n",
    "import albumentations.augmentations.transforms\n",
    "\n",
    "import cv2\n",
    "import pandas as pd\n",
    "from Augmentation.Datasets import AugDataSet\n",
    "from sklearn.model_selection import train_test_split\n",
    "import numpy as np\n",
    "from matplotlib import pyplot as plt\n",
    "from mpl_toolkits.axes_grid1 import ImageGrid\n",
    "\n",
    "%matplotlib inline \n",
    "\n",
    "df = pd.read_csv(\"/opt/ml/outputs/img_path.csv\")\n",
    "y = df[\"class\"]\n",
    "X = df.copy().drop([\"class\"], axis=1)"
   ]
  },
  {
   "cell_type": "code",
   "execution_count": null,
   "metadata": {},
   "outputs": [],
   "source": [
    "transform = A.Compose([\n",
    "    A.Resize(512,284),\n",
    "#     A.RandomCrop(height=512, width=284),\n",
    "#     A.HorizontalFlip(p=0.5),\n",
    "#     A.RandomBrightnessContrast(p=0.5),\n",
    "    A.RandomGridShuffle (grid=(2, 2), always_apply=False, p=0.5), # grid 랜덤 셔플\n",
    "#     A.Blur(p=1), # 흐리게\n",
    "    A.ChannelShuffle(p=0.5), # RGB 랜덤 셔플\n",
    "#    A.FancyPCA(p=1), # https://pixelatedbrian.github.io/2018-04-29-fancy_pca/ # 특정 색 강조?\n",
    "#    A.GlassBlur(p=1), # 유리 노이즈\n",
    "#   A.GridDistortion(p=1), # 특정 Grid에 왜곡을줌 이미지를 구부리는 효과? 좀쓸만해보이는듯\n",
    "    \n",
    "    A.pytorch.transforms.ToTensorV2() # 텐서로\n",
    "    \n",
    "    ])   \n",
    "\n",
    "aug_dataset = AugDataSet( \n",
    "    image_paths = list(X[\"path\"].values), \n",
    "    labels = list(y.values), \n",
    "    transform = transform\n",
    ")"
   ]
  },
  {
   "cell_type": "code",
   "execution_count": null,
   "metadata": {},
   "outputs": [],
   "source": [
    "img_arr = [np.transpose(aug_dataset[i][0],(1,2,0)) for i in range(0,128,8)]\n",
    "\n",
    "fig = plt.figure(figsize=(20., 20.))\n",
    "grid = ImageGrid(fig, 111, \n",
    "                 nrows_ncols=(4, 4),  # creates 2x2 grid of axes\n",
    "                 axes_pad=0.1,  # pad between axes\n",
    "                 )\n",
    "for ax, im in zip(grid, img_arr):\n",
    "    ax.imshow(im)\n",
    "\n",
    "plt.show()"
   ]
  }
 ],
 "metadata": {
  "language_info": {
   "name": "python"
  },
  "orig_nbformat": 4
 },
 "nbformat": 4,
 "nbformat_minor": 2
}
