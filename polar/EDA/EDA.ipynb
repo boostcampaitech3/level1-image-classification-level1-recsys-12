{
 "cells": [
  {
   "cell_type": "markdown",
   "id": "4a1fc0cf-1eb0-4dfa-8726-a86cb90a933f",
   "metadata": {},
   "source": [
    "# Introduction"
   ]
  },
  {
   "cell_type": "markdown",
   "id": "00092a7a-75a3-4a7b-ab1b-74892b1ed18b",
   "metadata": {},
   "source": [
    "<center><img src=\"https://github.com/Do-Not-12/peer-session/raw/main/boostcamp_logo.png\"/></center>"
   ]
  },
  {
   "cell_type": "markdown",
   "id": "4fc9190a-ed85-4b87-b91c-949486c3791a",
   "metadata": {},
   "source": [
    "Naver BoostCamp AI Tech 3rd의 첫번째 P Stage : Image Classifiaction - 마스크 착용 상태 분류에 오신 것을 환영합니다!  \n",
    "\n",
    "이 대회의 목적은 코로나19(COVID-19)의 확산방지를 위해 전세계적으로 마스크 착용을 필수로 하고 있는 시기에 마스크를 착용한 이미지를 분류하는 것입니다.\n",
    "\n",
    "미국 질병통제예방센터(CDC)에 따르면 COVID-19의 전파경로는 다음과 같습니다.\n",
    "\n",
    "- 바이러스가 들어있는 비말이나 작은 입자를 내뿜는 감염자 가까이에서 공기를 들이마실 때\n",
    "- 바이러스가 들어있는 비말이나 작은 입자가 다른 사람의 눈, 코, 입에 묻을 때. 특히, 기침이나 재채기를 통해 튀는 경우\n",
    "- 바이러스가 묻은 손으로 눈, 코, 입을 만질 때\n",
    "\n",
    "이렇듯 비말 감염의 형태로 전파가 되기 때문에 CDC는 무엇보다 **마스크의 착용**을 강조하고 있습니다.  \n",
    "하지만 단순히 마스크를 착용하는 것이 아닌 **제대로 마스크를 착용**하는 것이 감염예방에 중요하다고 이야기하고 있습니다.  \n",
    "아래는 CDC에서 언급한 제대로 마스크를 착용하는 방법과 올바르지 않은 착용방법입니다."
   ]
  },
  {
   "cell_type": "markdown",
   "id": "b2c06547-589f-4d2f-939c-e71e2ea18b32",
   "metadata": {},
   "source": [
    "<center><figure>\n",
    "    <img style=\"width:300px;\" src=\"https://www.cdc.gov/coronavirus/2019-ncov/images/prevent-getting-sick/group_mask_2.png?_=82290\"/>\n",
    "    <figcaption>올바른 마스크 착용</figcaption>\n",
    "</figure>\n",
    "<figure>\n",
    "    <img style=\"width:700px;\" src=\"https://www.cdc.gov/coronavirus/2019-ncov/images/prevent-getting-sick/How-Not-to-Wear-Mask-section-11.18.21.png?_=51796\"/>\n",
    "    <figcaption>올바르지 않은 마스크 착용</figcaption>\n",
    "</figure>\n",
    "</center>\n",
    "\n",
    "이미지출처 : [CDC : https://korean.cdc.gov/coronavirus/2019-ncov/prevent-getting-sick/about-face-coverings.html](https://korean.cdc.gov/coronavirus/2019-ncov/prevent-getting-sick/about-face-coverings.html)"
   ]
  },
  {
   "cell_type": "markdown",
   "id": "9e231adc-a6f5-4c92-bb56-7fc7eb8de368",
   "metadata": {},
   "source": [
    "대회소개에 따르면 공공장소의 모든 사람들이 마스크를 착용하는 것을 확인하는 과정은 많은 인적자원과 비용이 소모됩니다.  \n",
    "이를 해결하고자 각 장소의 입구에 카메라를 설치하여 **올바른 마스크 착용**을 확인하는 시스템을 적용하려고 합니다.  \n",
    "정확하고 올바른 시스템을 구축하고자 **마스크 이미지 분류** 모델을 개발해봅시다!"
   ]
  },
  {
   "cell_type": "markdown",
   "id": "2304b7ab-5568-4036-9f2e-8c4605ce4987",
   "metadata": {
    "tags": []
   },
   "source": [
    "# Import Library"
   ]
  },
  {
   "cell_type": "code",
   "execution_count": 31,
   "id": "54c0385d-2f18-4435-aedf-93d7529dd3e7",
   "metadata": {},
   "outputs": [],
   "source": [
    "import os\n",
    "from tqdm.notebook import tqdm\n",
    "\n",
    "import pandas as pd\n",
    "import numpy as np\n",
    "\n",
    "import matplotlib.pyplot as plt\n",
    "import matplotlib.image as img\n",
    "import seaborn as sns\n",
    "from PIL import Image\n",
    "import cv2\n",
    "\n",
    "from sklearn.model_selection import train_test_split\n",
    "\n",
    "import warnings"
   ]
  },
  {
   "cell_type": "code",
   "execution_count": 134,
   "id": "fdc68487-2143-4c85-880a-fb8b6e506049",
   "metadata": {},
   "outputs": [],
   "source": [
    "# ignore warnings\n",
    "warnings.filterwarnings('ignore')\n",
    "\n",
    "# tqdm apply to pandas\n",
    "tqdm.pandas()\n",
    "\n",
    "# default paleets change\n",
    "sns.set_palette('pastel')\n",
    "\n",
    "# seaborn palettes\n",
    "qualitative_colors = sns.color_palette('Set3', 10)\n",
    "sequential_colors = sns.color_palette('RdPu', 10)\n",
    "diverging_colors2 = sns.color_palette(\"RdBu\", 2)\n",
    "diverging_colors10 = sns.color_palette('RdBu', 10)\n",
    "\n",
    "%matplotlib inline"
   ]
  },
  {
   "cell_type": "code",
   "execution_count": 3,
   "id": "b409d19d-8d40-4bb3-9c08-49be45287df8",
   "metadata": {},
   "outputs": [],
   "source": [
    "TRAIN_DATA_PATH = '../input/data/train/train.csv'\n",
    "TRAIN_IMG_PATH = '../input/data/train/images/'\n",
    "SUBMISSION_PATH = '../input/data/eval/info.csv'\n",
    "EVAL_IMG_PATH = '../input/data/eval/images/'"
   ]
  },
  {
   "cell_type": "markdown",
   "id": "3da1f817-6d9f-46e0-acb1-fd3e4be3d811",
   "metadata": {},
   "source": [
    "# Data Load and Check"
   ]
  },
  {
   "cell_type": "code",
   "execution_count": 4,
   "id": "7a6e8b18-22aa-4b24-a8ae-dbca88f39688",
   "metadata": {},
   "outputs": [],
   "source": [
    "train = pd.read_csv(TRAIN_DATA_PATH)"
   ]
  },
  {
   "cell_type": "code",
   "execution_count": 5,
   "id": "cea65a94-f835-427c-84e6-28de7cafb03e",
   "metadata": {},
   "outputs": [
    {
     "data": {
      "text/html": [
       "<div>\n",
       "<style scoped>\n",
       "    .dataframe tbody tr th:only-of-type {\n",
       "        vertical-align: middle;\n",
       "    }\n",
       "\n",
       "    .dataframe tbody tr th {\n",
       "        vertical-align: top;\n",
       "    }\n",
       "\n",
       "    .dataframe thead th {\n",
       "        text-align: right;\n",
       "    }\n",
       "</style>\n",
       "<table border=\"1\" class=\"dataframe\">\n",
       "  <thead>\n",
       "    <tr style=\"text-align: right;\">\n",
       "      <th></th>\n",
       "      <th>id</th>\n",
       "      <th>gender</th>\n",
       "      <th>race</th>\n",
       "      <th>age</th>\n",
       "      <th>path</th>\n",
       "    </tr>\n",
       "  </thead>\n",
       "  <tbody>\n",
       "    <tr>\n",
       "      <th>0</th>\n",
       "      <td>000001</td>\n",
       "      <td>female</td>\n",
       "      <td>Asian</td>\n",
       "      <td>45</td>\n",
       "      <td>000001_female_Asian_45</td>\n",
       "    </tr>\n",
       "    <tr>\n",
       "      <th>1</th>\n",
       "      <td>000002</td>\n",
       "      <td>female</td>\n",
       "      <td>Asian</td>\n",
       "      <td>52</td>\n",
       "      <td>000002_female_Asian_52</td>\n",
       "    </tr>\n",
       "    <tr>\n",
       "      <th>2</th>\n",
       "      <td>000004</td>\n",
       "      <td>male</td>\n",
       "      <td>Asian</td>\n",
       "      <td>54</td>\n",
       "      <td>000004_male_Asian_54</td>\n",
       "    </tr>\n",
       "    <tr>\n",
       "      <th>3</th>\n",
       "      <td>000005</td>\n",
       "      <td>female</td>\n",
       "      <td>Asian</td>\n",
       "      <td>58</td>\n",
       "      <td>000005_female_Asian_58</td>\n",
       "    </tr>\n",
       "    <tr>\n",
       "      <th>4</th>\n",
       "      <td>000006</td>\n",
       "      <td>female</td>\n",
       "      <td>Asian</td>\n",
       "      <td>59</td>\n",
       "      <td>000006_female_Asian_59</td>\n",
       "    </tr>\n",
       "  </tbody>\n",
       "</table>\n",
       "</div>"
      ],
      "text/plain": [
       "       id  gender   race  age                    path\n",
       "0  000001  female  Asian   45  000001_female_Asian_45\n",
       "1  000002  female  Asian   52  000002_female_Asian_52\n",
       "2  000004    male  Asian   54    000004_male_Asian_54\n",
       "3  000005  female  Asian   58  000005_female_Asian_58\n",
       "4  000006  female  Asian   59  000006_female_Asian_59"
      ]
     },
     "execution_count": 5,
     "metadata": {},
     "output_type": "execute_result"
    }
   ],
   "source": [
    "train.head()"
   ]
  },
  {
   "cell_type": "code",
   "execution_count": 102,
   "id": "9151c032-c26e-4a2b-8435-bd300a449683",
   "metadata": {},
   "outputs": [
    {
     "name": "stdout",
     "output_type": "stream",
     "text": [
      "train 데이터 갯수 : 2700\n"
     ]
    }
   ],
   "source": [
    "print(f\"train 데이터 갯수 : {len(train)}\")"
   ]
  },
  {
   "cell_type": "code",
   "execution_count": 6,
   "id": "51e7982e-1499-40c8-b5df-72a12f10194c",
   "metadata": {},
   "outputs": [
    {
     "data": {
      "text/plain": [
       "id        0\n",
       "gender    0\n",
       "race      0\n",
       "age       0\n",
       "path      0\n",
       "dtype: int64"
      ]
     },
     "execution_count": 6,
     "metadata": {},
     "output_type": "execute_result"
    }
   ],
   "source": [
    "train.isnull().sum()"
   ]
  },
  {
   "cell_type": "markdown",
   "id": "8be47557-1327-4e1a-be19-3d64c262c5d2",
   "metadata": {},
   "source": [
    "`train` 데이터셋을 간단하게 살펴보면 우선 결측치는 없는 것으로 확인됩니다.  \n",
    "이미지 저장 경로도 확인할 수 있습니다. 이미지 경로 양식은 `id_gender_race_age`입니다.  "
   ]
  },
  {
   "cell_type": "markdown",
   "id": "fb1ae829-8131-492c-92c9-e5595f75fade",
   "metadata": {},
   "source": [
    "## Basic EDA"
   ]
  },
  {
   "cell_type": "markdown",
   "id": "8bc0e0b8-ce4f-4423-b410-c16f3ab6eb2d",
   "metadata": {},
   "source": [
    "<center>\n",
    "    <figure>\n",
    "        <img style=\"height:500px;\" src=\"https://s3-ap-northeast-2.amazonaws.com/aistages-public-junyeop/app/Users/00000025/files/56bd7d05-4eb8-4e3e-884d-18bd74dc4864..png\">\n",
    "        <figcaption>이미지 출처 : AI Stages</figcaption>\n",
    "    </figure>\n",
    "</center>"
   ]
  },
  {
   "cell_type": "markdown",
   "id": "680fdb4a-64ce-4b05-ad64-c77c77b54dc2",
   "metadata": {},
   "source": [
    "우리가 분류할 클래스는 **마스크 착용여부**, **연령**, **성별**을 고려한 총 18개입니다.  \n",
    "간단한 마스크 착용/미착용이 아닌 연령과 성별에 맞춰 분류도 진행해야합니다."
   ]
  },
  {
   "cell_type": "markdown",
   "id": "e9e97e97-6bc7-414a-b0a0-27514748a181",
   "metadata": {},
   "source": [
    "`train` 데이터셋에는 총 5개의 컬럼이 존재합니다.\n",
    "\n",
    "- `id`\n",
    "- `gender` : 남성/여성\n",
    "- `race` : 인종\n",
    "- `age` : 분류 기준 - 30세 미만, 30세 이상 60세 미만, 60세 이상\n",
    "- `path`\n",
    "\n",
    "이미지를 직접 확인하기 전에 전반적인 이미지의 개수를 확인하고자 각 경로에 몇 개의 사진들이 존재하는지 가져와서 `train` 데이터프레임에 추가하겠습니다.  "
   ]
  },
  {
   "cell_type": "code",
   "execution_count": 71,
   "id": "b25ee13b-683c-404c-8b3e-d5f0320493d2",
   "metadata": {},
   "outputs": [],
   "source": [
    "def get_img_list(path):\n",
    "    img_list = os.listdir(TRAIN_IMG_PATH+path)\n",
    "    ret = [img for img in img_list if '._' not in img]\n",
    "    return ret"
   ]
  },
  {
   "cell_type": "code",
   "execution_count": 72,
   "id": "cff03469-73dd-458e-a3cc-aff78dbeb6c0",
   "metadata": {},
   "outputs": [],
   "source": [
    "train['img_count'] = train['path'].apply(lambda x: len(get_img_list(x)))"
   ]
  },
  {
   "cell_type": "code",
   "execution_count": 46,
   "id": "e93dde35-84d2-4d5d-8fdd-add99f665979",
   "metadata": {},
   "outputs": [
    {
     "data": {
      "text/html": [
       "<div>\n",
       "<style scoped>\n",
       "    .dataframe tbody tr th:only-of-type {\n",
       "        vertical-align: middle;\n",
       "    }\n",
       "\n",
       "    .dataframe tbody tr th {\n",
       "        vertical-align: top;\n",
       "    }\n",
       "\n",
       "    .dataframe thead th {\n",
       "        text-align: right;\n",
       "    }\n",
       "</style>\n",
       "<table border=\"1\" class=\"dataframe\">\n",
       "  <thead>\n",
       "    <tr style=\"text-align: right;\">\n",
       "      <th></th>\n",
       "      <th>age</th>\n",
       "      <th>img_count</th>\n",
       "    </tr>\n",
       "  </thead>\n",
       "  <tbody>\n",
       "    <tr>\n",
       "      <th>count</th>\n",
       "      <td>2700.000000</td>\n",
       "      <td>2700.0</td>\n",
       "    </tr>\n",
       "    <tr>\n",
       "      <th>mean</th>\n",
       "      <td>37.708148</td>\n",
       "      <td>7.0</td>\n",
       "    </tr>\n",
       "    <tr>\n",
       "      <th>std</th>\n",
       "      <td>16.985904</td>\n",
       "      <td>0.0</td>\n",
       "    </tr>\n",
       "    <tr>\n",
       "      <th>min</th>\n",
       "      <td>18.000000</td>\n",
       "      <td>7.0</td>\n",
       "    </tr>\n",
       "    <tr>\n",
       "      <th>25%</th>\n",
       "      <td>20.000000</td>\n",
       "      <td>7.0</td>\n",
       "    </tr>\n",
       "    <tr>\n",
       "      <th>50%</th>\n",
       "      <td>36.000000</td>\n",
       "      <td>7.0</td>\n",
       "    </tr>\n",
       "    <tr>\n",
       "      <th>75%</th>\n",
       "      <td>55.000000</td>\n",
       "      <td>7.0</td>\n",
       "    </tr>\n",
       "    <tr>\n",
       "      <th>max</th>\n",
       "      <td>60.000000</td>\n",
       "      <td>7.0</td>\n",
       "    </tr>\n",
       "  </tbody>\n",
       "</table>\n",
       "</div>"
      ],
      "text/plain": [
       "               age  img_count\n",
       "count  2700.000000     2700.0\n",
       "mean     37.708148        7.0\n",
       "std      16.985904        0.0\n",
       "min      18.000000        7.0\n",
       "25%      20.000000        7.0\n",
       "50%      36.000000        7.0\n",
       "75%      55.000000        7.0\n",
       "max      60.000000        7.0"
      ]
     },
     "execution_count": 46,
     "metadata": {},
     "output_type": "execute_result"
    }
   ],
   "source": [
    "train.describe()"
   ]
  },
  {
   "cell_type": "markdown",
   "id": "82dfc649-13e5-4c5a-a730-866758d6916f",
   "metadata": {},
   "source": [
    "실제 파일 경로를 `os.listdir(path)`로 찍어보면 14개로 나옵니다.  \n",
    "하지만 이 중 7개의 데이터는 사진이 아닌 데이터이므로 전처리 진행 후 실제 이미지로 기록된 파일만 받아오겠습니다.  \n",
    "모든 경로의 이미지가 7장인 것을 알 수 있습니다. 다행히 별 특이한 것은 크게 없네요.  \n",
    "대회의 데이터 소개 페이지에 따르면 모든 클래스에 대해 **5장의 마스크 착용, 1개의 미착용, 1개의 비정상 착용**으로 고르게 있다고 합니다.  \n",
    "\n",
    "하지만 다르게 말하면 **마스크 착용과 미착용, 비정상 착용의 불균형**이 존재한다는 의미입니다.  \n",
    "총 2700명의 사진 중 5개가 마스크 착용이고 1개가 미착용, 1개가 비정상 착용이면 **전체 데이터의 70%가 마스크 착용 비율**이 됩니다.  \n",
    "자세한 내용은 아래에서 설명하겠습니다.\n",
    "\n",
    "그렇다면 **연령대, 성별에 대한 불균형이 존재**하는지 확인하고자 `train` 데이터셋의 간단한 분석을 진행하겠습니다."
   ]
  },
  {
   "cell_type": "markdown",
   "id": "9ec00779-7266-4dde-8bbb-d34e4d34a17f",
   "metadata": {
    "tags": []
   },
   "source": [
    "### Age"
   ]
  },
  {
   "cell_type": "markdown",
   "id": "6f61113f-ae2d-497e-8a84-747bc717b8f5",
   "metadata": {},
   "source": [
    "실제 나이의 분포를 확인하기 전에 대회에서 요구하는 연령대로 구분한 컬럼을 추가하겠습니다."
   ]
  },
  {
   "cell_type": "code",
   "execution_count": 74,
   "id": "feccba26-7f01-4437-afba-eb3a1774eac5",
   "metadata": {},
   "outputs": [],
   "source": [
    "def get_age_range(age):\n",
    "    if age < 30:\n",
    "        return \"< 30\"\n",
    "    elif age >= 30 and age < 60:\n",
    "        return \">= 30 and < 60\"\n",
    "    elif age >= 60:\n",
    "        return \">= 60\""
   ]
  },
  {
   "cell_type": "code",
   "execution_count": 76,
   "id": "fc3029ee-9848-4ff2-9d9e-c4c1fad7be9c",
   "metadata": {},
   "outputs": [],
   "source": [
    "train['age_range'] = train['age'].apply(lambda x : get_age_range(x))"
   ]
  },
  {
   "cell_type": "code",
   "execution_count": 135,
   "id": "868980fd-cf4c-476f-96c4-c19b32961f7d",
   "metadata": {},
   "outputs": [
    {
     "data": {
      "image/png": "[encoded data removed]",
      "text/plain": [
       "<Figure size 1152x432 with 2 Axes>"
      ]
     },
     "metadata": {
      "needs_background": "light"
     },
     "output_type": "display_data"
    }
   ],
   "source": [
    "fig, ax = plt.subplots(1, 2, figsize=(16, 6))\n",
    "\n",
    "g1 = sns.kdeplot(data=train, x='age', fill=True, alpha=0.3, ax=ax[0])\n",
    "ax[0].axvline(30, c='red')\n",
    "ax[0].axvline(60, c='red')\n",
    "g2 = sns.countplot(data=train, x='age_range', ax=ax[1], order=['< 30', '>= 30 and < 60', '>= 60'])\n",
    "\n",
    "ax[0].set_xticklabels(g1.get_xticks(), fontsize=12)\n",
    "ax[0].set_xlabel(g1.get_xlabel(), fontsize=12)\n",
    "ax[0].set_ylabel(g1.get_ylabel(), fontsize=12)\n",
    "ax[0].set_title('Age range distribution')\n",
    "\n",
    "ax[1].set_xticklabels(g2.get_xticklabels(), fontsize=12)\n",
    "ax[1].set_xlabel(g2.get_xlabel(), fontsize=12)\n",
    "ax[1].set_ylabel(g2.get_ylabel(), fontsize=12)\n",
    "ax[1].set_title('Age range distribution')\n",
    "plt.show()"
   ]
  },
  {
   "cell_type": "markdown",
   "id": "6c92ec80-ede3-46ee-9ebf-c32f1a57bdc0",
   "metadata": {},
   "source": [
    "예상대로 30세 미만과 60세 미만의 데이터는 충분하지만 60세 이상의 데이터가 상당히 불균형한 것을 볼 수 있습니다. 이 부분에 대해 data augmentation이 필요할 것 같습니다.  \n",
    "특이한 점은 30대 ~ 약 45세 구간의 데이터의 분포가 떨어지는 것을 알 수 있습니다.  \n",
    "`>= 30 and < 60`의 분포에서 많은 수는 50 ~ 60세로 추정되므로 30, 40대의 data augmentation이 필요할 것으로 보입니다.  \n",
    "연령대에 대한 data augmentation을 처리하는게 이번 대회 성능의 key로 작용할 수 있을 것으로 보입니다."
   ]
  },
  {
   "cell_type": "markdown",
   "id": "025ad3ba-c2a7-462e-8760-8c06abb53c33",
   "metadata": {},
   "source": [
    "### Gender"
   ]
  },
  {
   "cell_type": "markdown",
   "id": "8e62691e-46f4-4c73-a256-c2048795b24b",
   "metadata": {},
   "source": [
    "이번에는 성별과 관련된 데이터의 분포를 확인하겠습니다."
   ]
  },
  {
   "cell_type": "code",
   "execution_count": 136,
   "id": "f1096067-4402-4495-887f-d6eb11c1fc40",
   "metadata": {},
   "outputs": [
    {
     "data": {
      "image/png": "[encoded data removed]",
      "text/plain": [
       "<Figure size 864x504 with 1 Axes>"
      ]
     },
     "metadata": {
      "needs_background": "light"
     },
     "output_type": "display_data"
    }
   ],
   "source": [
    "fig, ax = plt.subplots(1, 1, figsize=(12, 7))\n",
    "\n",
    "g = sns.countplot(data=train, x='gender', ax=ax)\n",
    "\n",
    "for p in g.patches:\n",
    "    g.annotate(f\"{p.get_height()} ({(p.get_height()/len(train)):.2g})\", (p.get_x()+p.get_width()/2., (p.get_height()+0.01)*0.95),\n",
    "                  ha='center', va='center', fontsize=15)\n",
    "\n",
    "ax.set_xticklabels(g.get_xticklabels(), fontsize=12)\n",
    "ax.set_xlabel(g.get_xlabel(), fontsize=12)\n",
    "ax.set_ylabel(g.get_ylabel(), fontsize=12) \n",
    "plt.show()"
   ]
  },
  {
   "cell_type": "markdown",
   "id": "bc8d6084-324d-4698-b96f-ec333929d2ce",
   "metadata": {},
   "source": [
    "연령에 비해 불균형이 심한 편은 아니지만 그래도 여성이 남성보다 1.5배 정도 많은 수의 데이터를 갖고 있습니다.  \n",
    "성능의 추가적인 개선을 필요로 할 때 고려해볼 수도 있습니다.  \n",
    "문제는 연령대 분포가 많이 불균형했었습니다. 이를 고려해서 데이터 증강을 할 수 있지 않을까요?  \n",
    "\n",
    "이번에는 연령대별 성별 분포도 확인하겠습니다."
   ]
  },
  {
   "cell_type": "code",
   "execution_count": 151,
   "id": "a9e58883-ab38-4870-8f07-09d8a82ef21a",
   "metadata": {},
   "outputs": [
    {
     "data": {
      "image/png": "[encoded data removed]",
      "text/plain": [
       "<Figure size 1296x504 with 2 Axes>"
      ]
     },
     "metadata": {
      "needs_background": "light"
     },
     "output_type": "display_data"
    }
   ],
   "source": [
    "fig, ax = plt.subplots(1, 2, figsize=(18, 7))\n",
    "\n",
    "g1 = sns.kdeplot(data=train, x='age', hue='gender', fill=True, ax=ax[0])\n",
    "g2 = sns.countplot(data=train, x='age_range', hue='gender', order=['< 30', '>= 30 and < 60', '>= 60'], ax=ax[1])\n",
    "\n",
    "ax[0].set_xticklabels(g1.get_xticks(), fontsize=12)\n",
    "ax[0].set_xlabel(g1.get_xlabel(), fontsize=12)\n",
    "ax[0].set_ylabel(g1.get_ylabel(), fontsize=12)\n",
    "ax[0].set_title('Age-Gender distribution')\n",
    "\n",
    "ax[1].set_xticklabels(g2.get_xticklabels(), fontsize=12)\n",
    "ax[1].set_xlabel(g2.get_xlabel(), fontsize=12)\n",
    "ax[1].set_ylabel(g2.get_ylabel(), fontsize=12)\n",
    "ax[1].set_title('Age_range-Gender distribution')\n",
    "\n",
    "plt.show()"
   ]
  },
  {
   "cell_type": "markdown",
   "id": "b6b07b0c-8018-43e7-b846-c53736264800",
   "metadata": {},
   "source": [
    "그나마...? 다행이라고 볼 수 있는 점은 연령에 따른 성별의 분포의 형태가 다르지 않다는 것입니다.  \n",
    "물론..... 여전히 중간 부분에 불균형이 존재하지만 전반적인 두 분포는 형태가 비슷해 보입니다.  \n",
    "하지만 그래도 `>= 30 and < 60` 구간은 약 2배정도의 데이터 불균형이 있습니다."
   ]
  },
  {
   "cell_type": "markdown",
   "id": "9442deb0-7555-4f45-910a-f02e1814422f",
   "metadata": {},
   "source": [
    "### Class Imbalance"
   ]
  },
  {
   "cell_type": "markdown",
   "id": "d0a90586-a68e-4f92-9a57-dc6bc8b25c04",
   "metadata": {},
   "source": [
    "데이터 소개에 따르면 데이터의 정보는 다음과 같습니다. \n",
    "\n",
    "```\n",
    "마스크를 착용하는 건 COIVD-19의 확산을 방지하는데 중요한 역할을 합니다. 제공되는 이 데이터셋은 사람이 마스크를 착용하였는지 판별하는 모델을 학습할 수 있게 해줍니다. 모든 데이터셋은 아시아인 남녀로 구성되어 있고 나이는 20대부터 70대까지 다양하게 분포하고 있습니다. 간략한 통계는 다음과 같습니다.\n",
    "\n",
    "- 전체 사람 명 수 : 4,500\n",
    "- 한 사람당 사진의 개수: 7 [마스크 착용 5장, 이상하게 착용(코스크, 턱스크) 1장, 미착용 1장]\n",
    "- 이미지 크기: (384, 512)\n",
    "- 전체 데이터셋 중 60%(2700명)는 학습셋으로 사용됩니다.\n",
    "```\n",
    "\n",
    "문제는 우리가 분류해야 할 **클래스의 분류가 매우 불균형하다는 것** 입니다."
   ]
  },
  {
   "cell_type": "code",
   "execution_count": 137,
   "id": "d3fc23e7-939e-4e45-a3bd-48e7a78cb708",
   "metadata": {},
   "outputs": [
    {
     "data": {
      "image/png": "[encoded data removed]",
      "text/plain": [
       "<Figure size 504x504 with 1 Axes>"
      ]
     },
     "metadata": {
      "needs_background": "light"
     },
     "output_type": "display_data"
    }
   ],
   "source": [
    "total = len(train) * 7\n",
    "labels = ['mask', 'incorrect_mask', 'normal']\n",
    "val = [(len(train)*5), (len(train)*1), (len(train)*1)]\n",
    "\n",
    "fig, ax = plt.subplots(1, 1, figsize=(7, 7))\n",
    "\n",
    "g = sns.barplot(x=labels, y=val)\n",
    "\n",
    "ax.set_xlabel('class' , fontsize=15)\n",
    "ax.set_ylabel('count', fontsize=15)\n",
    "ax.set_title('class distribution', fontsize=15)\n",
    "plt.show()"
   ]
  },
  {
   "cell_type": "markdown",
   "id": "060bce72-94f2-4af1-8461-34a395295b18",
   "metadata": {},
   "source": [
    "이 경우 다양한 방법을 통해 **마스크 착용이 아닌 데이터**의 증강을 고려해볼 필요는 반드시 있습니다."
   ]
  },
  {
   "cell_type": "markdown",
   "id": "d603c4cb-e13a-4ca7-9ed8-90b06c4837b7",
   "metadata": {
    "tags": []
   },
   "source": [
    "### Data Preview"
   ]
  },
  {
   "cell_type": "markdown",
   "id": "b6e04bc6-ab79-4380-a318-78dec9565378",
   "metadata": {},
   "source": [
    "### Data Sample Preview"
   ]
  },
  {
   "cell_type": "markdown",
   "id": "bbea999e-a2e8-4802-8ec6-5f25eccf5b44",
   "metadata": {},
   "source": [
    "대표적인 샘플 이미지 1개를 가져와서 확인해보겠습니다."
   ]
  },
  {
   "cell_type": "markdown",
   "id": "32612d5e-5716-486d-8995-79c3977059f7",
   "metadata": {},
   "source": [
    "전반적인 이미지의 클래스는 총 7개로 다음과 같이 분류됩니다.\n",
    "\n",
    "- 비정상적 마스크 착용\n",
    "    - `incorrect_mask` : 코스크 또는 턱스크\n",
    "- 정상 마스크 착용\n",
    "    - `mask1`\n",
    "    - `mask2`\n",
    "    - `mask3`\n",
    "    - `mask4`\n",
    "    - `mask5`\n",
    "- 마스크 미착용\n",
    "    - `normal`: 마스크를 착용하지 않은 상태"
   ]
  },
  {
   "cell_type": "code",
   "execution_count": 138,
   "id": "12189113-6e32-4c72-9d6b-364e0ac7fea3",
   "metadata": {},
   "outputs": [],
   "source": [
    "# get sample train data\n",
    "sample = train.sample()"
   ]
  },
  {
   "cell_type": "code",
   "execution_count": 139,
   "id": "f919dd05-80d2-4f3a-bc74-3dded3001b53",
   "metadata": {},
   "outputs": [],
   "source": [
    "sample_img_path = sample.path.values[0]\n",
    "sample_img_list = [img for img in os.listdir(TRAIN_IMG_PATH+sample_img_path) if '._' not in img]\n",
    "sample_img_list = sorted(sample_img_list)"
   ]
  },
  {
   "cell_type": "markdown",
   "id": "112bab74-1ddf-4998-9a38-5a6ada6119d7",
   "metadata": {},
   "source": [
    "```py\n",
    "fig = plt.figure(figsize=(18, 8))\n",
    "\n",
    "for i, filename in enumerate(sample_img_list):\n",
    "    img_path = TRAIN_IMG_PATH+'/'+sample_img_path+'/'+filename\n",
    "    img = cv2.imread(img_path)\n",
    "    ax = fig.add_subplot(2, 4, i+1)\n",
    "    ax.imshow(cv2.cvtColor(img, cv2.COLOR_BGR2RGB))\n",
    "    ax.axis('off')\n",
    "    ax.set_title(filename.split('.')[0], fontsize=15)\n",
    "    \n",
    "plt.tight_layout()\n",
    "plt.show()\n",
    "```"
   ]
  },
  {
   "cell_type": "code",
   "execution_count": 2,
   "id": "87752152",
   "metadata": {},
   "outputs": [
    {
     "name": "stdout",
     "output_type": "stream",
     "text": [
      "저작권 문제로 이미지 제거\n"
     ]
    }
   ],
   "source": [
    "print(\"저작권 문제로 이미지 제거\")"
   ]
  },
  {
   "cell_type": "markdown",
   "id": "ee264201-e469-497f-a23f-ee9f4e8460c8",
   "metadata": {},
   "source": [
    "### Class별 이미지 샘플 "
   ]
  },
  {
   "cell_type": "markdown",
   "id": "bef04e15-d205-4181-9c51-10cb7e0fa411",
   "metadata": {},
   "source": [
    "각 클래스별로 5개 샘플 이미지를 가져와서 확인해보겠습니다."
   ]
  },
  {
   "cell_type": "code",
   "execution_count": 210,
   "id": "2eb1f3b1-dd47-47dc-a4d5-5210c61c25de",
   "metadata": {},
   "outputs": [],
   "source": [
    "sample = train.sample(5)\n",
    "sample_img_path = sample.path.values\n",
    "img_list = []\n",
    "\n",
    "for img in sample_img_path:\n",
    "    lists = []\n",
    "    imgs = [img for img in os.listdir(TRAIN_IMG_PATH+img) if '._' not in img]\n",
    "    \n",
    "    for data in imgs:\n",
    "        path = TRAIN_IMG_PATH+img+'/'+data\n",
    "        img_kind = data.split('.')[0]\n",
    "        lists.append(path)\n",
    "    lists = sorted(lists)\n",
    "    img_list.append(lists)"
   ]
  },
  {
   "cell_type": "markdown",
   "id": "ca3e7e6a-de89-4229-b092-4b2d9c8f5b5d",
   "metadata": {},
   "source": [
    "```py\n",
    "fig = plt.figure(figsize=(35, 20))\n",
    "\n",
    "i=1\n",
    "\n",
    "for files in img_list:\n",
    "    for filename in files:\n",
    "        img = cv2.imread(filename)\n",
    "        ax = fig.add_subplot(5, 7, i)\n",
    "        ax.imshow(cv2.cvtColor(img, cv2.COLOR_BGR2RGB))\n",
    "        ax.axis('off')\n",
    "        \n",
    "        if i < 8:\n",
    "            ax.set_title(filename.split('/')[-1].split('.')[0], fontsize=30)\n",
    "        \n",
    "        i += 1\n",
    "\n",
    "plt.tight_layout()\n",
    "plt.show()\n",
    "```"
   ]
  },
  {
   "cell_type": "code",
   "execution_count": 1,
   "id": "ada94906",
   "metadata": {},
   "outputs": [
    {
     "name": "stdout",
     "output_type": "stream",
     "text": [
      "저작권 문제로 이미지 제거\n"
     ]
    }
   ],
   "source": [
    "print(\"저작권 문제로 이미지 제거\")"
   ]
  },
  {
   "cell_type": "markdown",
   "id": "8e0f3902-c952-4b53-8fed-011e65bdca34",
   "metadata": {},
   "source": [
    "막 특별?한 무언가는 보이지 않네요. 밝기에 대한 문제도 있고 여러가지로 전처리를 하는 게 좋을 것 같습니다."
   ]
  },
  {
   "cell_type": "markdown",
   "id": "669cce92-3593-4294-82b0-c9d7547aec11",
   "metadata": {},
   "source": [
    "# Conclusions and Discussions"
   ]
  },
  {
   "cell_type": "markdown",
   "id": "76abe684-1fcd-4de0-931d-15f5a2b8f021",
   "metadata": {},
   "source": [
    "간단하게 데이터에 대한 EDA를 진행해봤습니다.  \n",
    "제가 EDA를 잘 하는 편도 아니고 이미지 분류 EDA를 해본 게 처음이라 제대로 한건지 모르겠네요 ^^;  \n",
    "\n",
    "이번 EDA를 통해 나온 결과는 다음과 같습니다.\n",
    "\n",
    "1. 마스크 착용, 미착용, 비정상 착용의 클래스 불균형이 심하다\n",
    "2. 연령대 분포에서 30세 이상 60세 미만 데이터에서 분포가 고르지 못한 경향이 발생\n",
    "3. 60세 이상과 30~40대 데이터의 augmentation이 필요할 것으로 보임\n",
    "4. 필요에 따라서는 성별분포의 데이터 증강 측면도 고려해 볼 필요가 있어보입니다.\n",
    "\n",
    "추가적인 의견이나 피드백 있으시면 언제나 환영합니다!"
   ]
  }
 ],
 "metadata": {
  "interpreter": {
   "hash": "aee8b7b246df8f9039afb4144a1f6fd8d2ca17a180786b69acc140d282b71a49"
  },
  "kernelspec": {
   "display_name": "Python 3.9.7 64-bit",
   "language": "python",
   "name": "python3"
  },
  "language_info": {
   "codemirror_mode": {
    "name": "ipython",
    "version": 3
   },
   "file_extension": ".py",
   "mimetype": "text/x-python",
   "name": "python",
   "nbconvert_exporter": "python",
   "pygments_lexer": "ipython3",
   "version": "3.9.7"
  }
 },
 "nbformat": 4,
 "nbformat_minor": 5
}
