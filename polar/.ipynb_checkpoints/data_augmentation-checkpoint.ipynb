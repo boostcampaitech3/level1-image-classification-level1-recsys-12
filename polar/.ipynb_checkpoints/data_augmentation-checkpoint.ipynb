{
 "cells": [
  {
   "cell_type": "code",
   "execution_count": 309,
   "id": "dc50013b-3583-462d-86a6-763e912688da",
   "metadata": {
    "tags": []
   },
   "outputs": [],
   "source": [
    "import os\n",
    "import random\n",
    "\n",
    "import pandas as pd\n",
    "from torchvision import transforms\n",
    "from torchvision.utils import save_image\n",
    "from PIL import Image\n",
    "\n",
    "import numpy as np\n",
    "\n",
    "import matplotlib.pyplot as plt\n",
    "import seaborn as sns\n",
    "\n",
    "from tqdm.notebook import tqdm"
   ]
  },
  {
   "cell_type": "code",
   "execution_count": 67,
   "id": "8e5d8ca9-f8b8-4703-a616-90a31673f0a9",
   "metadata": {},
   "outputs": [],
   "source": [
    "data_dir = '/opt/ml/input/data/train/images'\n",
    "profiles = os.listdir(data_dir)"
   ]
  },
  {
   "cell_type": "code",
   "execution_count": 434,
   "id": "7e3d8051-0c1b-4e9d-8ff9-ff6165f987c4",
   "metadata": {},
   "outputs": [],
   "source": [
    "df = pd.concat([train, val], ignore_index=True)"
   ]
  },
  {
   "cell_type": "code",
   "execution_count": 156,
   "id": "b761227f-f5f3-48bb-923d-113da98015a8",
   "metadata": {},
   "outputs": [],
   "source": [
    "incorrects = df[df['mask'] == 1]"
   ]
  },
  {
   "cell_type": "code",
   "execution_count": 226,
   "id": "80d82dc1-fe2f-4bb3-a16a-dfd8ab283ca6",
   "metadata": {},
   "outputs": [
    {
     "data": {
      "text/html": [
       "<div>\n",
       "<style scoped>\n",
       "    .dataframe tbody tr th:only-of-type {\n",
       "        vertical-align: middle;\n",
       "    }\n",
       "\n",
       "    .dataframe tbody tr th {\n",
       "        vertical-align: top;\n",
       "    }\n",
       "\n",
       "    .dataframe thead th {\n",
       "        text-align: right;\n",
       "    }\n",
       "</style>\n",
       "<table border=\"1\" class=\"dataframe\">\n",
       "  <thead>\n",
       "    <tr style=\"text-align: right;\">\n",
       "      <th></th>\n",
       "      <th>gender</th>\n",
       "      <th>age</th>\n",
       "      <th>age_group</th>\n",
       "      <th>mask</th>\n",
       "      <th>class</th>\n",
       "    </tr>\n",
       "  </thead>\n",
       "  <tbody>\n",
       "    <tr>\n",
       "      <th>count</th>\n",
       "      <td>2700.000000</td>\n",
       "      <td>2700.000000</td>\n",
       "      <td>2700.000000</td>\n",
       "      <td>2700.0</td>\n",
       "      <td>2700.000000</td>\n",
       "    </tr>\n",
       "    <tr>\n",
       "      <th>mean</th>\n",
       "      <td>0.614074</td>\n",
       "      <td>37.708148</td>\n",
       "      <td>0.596667</td>\n",
       "      <td>1.0</td>\n",
       "      <td>8.438889</td>\n",
       "    </tr>\n",
       "    <tr>\n",
       "      <th>std</th>\n",
       "      <td>0.486903</td>\n",
       "      <td>16.985904</td>\n",
       "      <td>0.618886</td>\n",
       "      <td>0.0</td>\n",
       "      <td>1.618130</td>\n",
       "    </tr>\n",
       "    <tr>\n",
       "      <th>min</th>\n",
       "      <td>0.000000</td>\n",
       "      <td>18.000000</td>\n",
       "      <td>0.000000</td>\n",
       "      <td>1.0</td>\n",
       "      <td>6.000000</td>\n",
       "    </tr>\n",
       "    <tr>\n",
       "      <th>25%</th>\n",
       "      <td>0.000000</td>\n",
       "      <td>20.000000</td>\n",
       "      <td>0.000000</td>\n",
       "      <td>1.0</td>\n",
       "      <td>7.000000</td>\n",
       "    </tr>\n",
       "    <tr>\n",
       "      <th>50%</th>\n",
       "      <td>1.000000</td>\n",
       "      <td>36.000000</td>\n",
       "      <td>1.000000</td>\n",
       "      <td>1.0</td>\n",
       "      <td>9.000000</td>\n",
       "    </tr>\n",
       "    <tr>\n",
       "      <th>75%</th>\n",
       "      <td>1.000000</td>\n",
       "      <td>55.000000</td>\n",
       "      <td>1.000000</td>\n",
       "      <td>1.0</td>\n",
       "      <td>10.000000</td>\n",
       "    </tr>\n",
       "    <tr>\n",
       "      <th>max</th>\n",
       "      <td>1.000000</td>\n",
       "      <td>60.000000</td>\n",
       "      <td>2.000000</td>\n",
       "      <td>1.0</td>\n",
       "      <td>11.000000</td>\n",
       "    </tr>\n",
       "  </tbody>\n",
       "</table>\n",
       "</div>"
      ],
      "text/plain": [
       "            gender          age    age_group    mask        class\n",
       "count  2700.000000  2700.000000  2700.000000  2700.0  2700.000000\n",
       "mean      0.614074    37.708148     0.596667     1.0     8.438889\n",
       "std       0.486903    16.985904     0.618886     0.0     1.618130\n",
       "min       0.000000    18.000000     0.000000     1.0     6.000000\n",
       "25%       0.000000    20.000000     0.000000     1.0     7.000000\n",
       "50%       1.000000    36.000000     1.000000     1.0     9.000000\n",
       "75%       1.000000    55.000000     1.000000     1.0    10.000000\n",
       "max       1.000000    60.000000     2.000000     1.0    11.000000"
      ]
     },
     "execution_count": 226,
     "metadata": {},
     "output_type": "execute_result"
    }
   ],
   "source": [
    "incorrects.describe()"
   ]
  },
  {
   "cell_type": "code",
   "execution_count": 263,
   "id": "83a5ef47-bd2b-40c4-8d9e-026676b4e8b5",
   "metadata": {},
   "outputs": [],
   "source": [
    "from collections import Counter"
   ]
  },
  {
   "cell_type": "code",
   "execution_count": 284,
   "id": "8252ac6e-24f6-4e63-b81e-5aaa6df41756",
   "metadata": {},
   "outputs": [
    {
     "data": {
      "text/plain": [
       "(array([0.07111111, 0.47444444, 0.45444444]), {2: 192, 0: 1281, 1: 1227}, 2700)"
      ]
     },
     "execution_count": 284,
     "metadata": {},
     "output_type": "execute_result"
    }
   ],
   "source": [
    "d = dict(Counter(incorrects['age_group']))\n",
    "list(d.values())/np.sum(list(d.values())), d, np.sum(list(d.values()))"
   ]
  },
  {
   "cell_type": "code",
   "execution_count": 283,
   "id": "9185ea25-ef30-49dd-bdd7-87b9fbb4e776",
   "metadata": {},
   "outputs": [
    {
     "data": {
      "text/plain": [
       "array([3344., 1892., 1964.])"
      ]
     },
     "execution_count": 283,
     "metadata": {},
     "output_type": "execute_result"
    }
   ],
   "source": [
    "np.array((2700*4)/3) * (1-list(d.values())/np.sum(list(d.values())))"
   ]
  },
  {
   "cell_type": "code",
   "execution_count": 228,
   "id": "e112459e-d0ce-43a4-8967-98be1921d481",
   "metadata": {},
   "outputs": [
    {
     "data": {
      "text/plain": [
       "<matplotlib.axes._subplots.AxesSubplot at 0x7f59a5677fa0>"
      ]
     },
     "execution_count": 228,
     "metadata": {},
     "output_type": "execute_result"
    },
    {
     "data": {
      "image/png": "[encoded data removed]",
      "text/plain": [
       "<Figure size 432x288 with 1 Axes>"
      ]
     },
     "metadata": {
      "needs_background": "light"
     },
     "output_type": "display_data"
    }
   ],
   "source": [
    "sns.kdeplot(data=incorrects, x='age')"
   ]
  },
  {
   "cell_type": "code",
   "execution_count": 262,
   "id": "0fbe3e51-24ee-49d1-be1c-10ad8a9f5499",
   "metadata": {},
   "outputs": [
    {
     "data": {
      "text/plain": [
       "<matplotlib.axes._subplots.AxesSubplot at 0x7f59a5532d90>"
      ]
     },
     "execution_count": 262,
     "metadata": {},
     "output_type": "execute_result"
    },
    {
     "data": {
      "image/png": "[encoded data removed]",
      "text/plain": [
       "<Figure size 432x288 with 1 Axes>"
      ]
     },
     "metadata": {
      "needs_background": "light"
     },
     "output_type": "display_data"
    }
   ],
   "source": [
    "sns.countplot(data=incorrects, x='gender')"
   ]
  },
  {
   "cell_type": "markdown",
   "id": "64ccb257-a91a-476b-966e-f174ba168ef5",
   "metadata": {},
   "source": [
    "### Aug Function"
   ]
  },
  {
   "cell_type": "code",
   "execution_count": 299,
   "id": "dc1e24de-a5ef-4c27-9ae7-e809ffc4a6f3",
   "metadata": {},
   "outputs": [
    {
     "data": {
      "text/html": [
       "<div>\n",
       "<style scoped>\n",
       "    .dataframe tbody tr th:only-of-type {\n",
       "        vertical-align: middle;\n",
       "    }\n",
       "\n",
       "    .dataframe tbody tr th {\n",
       "        vertical-align: top;\n",
       "    }\n",
       "\n",
       "    .dataframe thead th {\n",
       "        text-align: right;\n",
       "    }\n",
       "</style>\n",
       "<table border=\"1\" class=\"dataframe\">\n",
       "  <thead>\n",
       "    <tr style=\"text-align: right;\">\n",
       "      <th></th>\n",
       "      <th>id</th>\n",
       "      <th>gender</th>\n",
       "      <th>age</th>\n",
       "      <th>age_group</th>\n",
       "      <th>mask</th>\n",
       "      <th>path</th>\n",
       "      <th>class</th>\n",
       "    </tr>\n",
       "  </thead>\n",
       "  <tbody>\n",
       "    <tr>\n",
       "      <th>0</th>\n",
       "      <td>004231</td>\n",
       "      <td>1</td>\n",
       "      <td>60</td>\n",
       "      <td>2</td>\n",
       "      <td>0</td>\n",
       "      <td>/opt/ml/input/data/train/images/004231_female_...</td>\n",
       "      <td>5</td>\n",
       "    </tr>\n",
       "    <tr>\n",
       "      <th>1</th>\n",
       "      <td>004231</td>\n",
       "      <td>1</td>\n",
       "      <td>60</td>\n",
       "      <td>2</td>\n",
       "      <td>2</td>\n",
       "      <td>/opt/ml/input/data/train/images/004231_female_...</td>\n",
       "      <td>17</td>\n",
       "    </tr>\n",
       "    <tr>\n",
       "      <th>2</th>\n",
       "      <td>004231</td>\n",
       "      <td>1</td>\n",
       "      <td>60</td>\n",
       "      <td>2</td>\n",
       "      <td>0</td>\n",
       "      <td>/opt/ml/input/data/train/images/004231_female_...</td>\n",
       "      <td>5</td>\n",
       "    </tr>\n",
       "    <tr>\n",
       "      <th>3</th>\n",
       "      <td>004231</td>\n",
       "      <td>1</td>\n",
       "      <td>60</td>\n",
       "      <td>2</td>\n",
       "      <td>0</td>\n",
       "      <td>/opt/ml/input/data/train/images/004231_female_...</td>\n",
       "      <td>5</td>\n",
       "    </tr>\n",
       "    <tr>\n",
       "      <th>4</th>\n",
       "      <td>004231</td>\n",
       "      <td>1</td>\n",
       "      <td>60</td>\n",
       "      <td>2</td>\n",
       "      <td>0</td>\n",
       "      <td>/opt/ml/input/data/train/images/004231_female_...</td>\n",
       "      <td>5</td>\n",
       "    </tr>\n",
       "  </tbody>\n",
       "</table>\n",
       "</div>"
      ],
      "text/plain": [
       "       id  gender  age  age_group  mask  \\\n",
       "0  004231       1   60          2     0   \n",
       "1  004231       1   60          2     2   \n",
       "2  004231       1   60          2     0   \n",
       "3  004231       1   60          2     0   \n",
       "4  004231       1   60          2     0   \n",
       "\n",
       "                                                path  class  \n",
       "0  /opt/ml/input/data/train/images/004231_female_...      5  \n",
       "1  /opt/ml/input/data/train/images/004231_female_...     17  \n",
       "2  /opt/ml/input/data/train/images/004231_female_...      5  \n",
       "3  /opt/ml/input/data/train/images/004231_female_...      5  \n",
       "4  /opt/ml/input/data/train/images/004231_female_...      5  "
      ]
     },
     "execution_count": 299,
     "metadata": {},
     "output_type": "execute_result"
    }
   ],
   "source": [
    "new_df.head()"
   ]
  },
  {
   "cell_type": "code",
   "execution_count": 471,
   "id": "8f1a4bd6-3cbe-47ce-9648-877e6a523297",
   "metadata": {},
   "outputs": [],
   "source": [
    "def make_new_image(img1: torch.Tensor, img2: torch.Tensor, gender: str, mask_type: str, age: int, output_dir: str = './'):\n",
    "    id = str(random.randint(1, 20000))\n",
    "    name = id+'_'+gender+f'_Asian_{age}'\n",
    "    mask = 2 if mask_type == \"normal\" else 1\n",
    "    # filename : id_gender_Asian_age/incorrect_mask.jpg\n",
    "    # filename : id_gender_Asian_age/normal.jpg\n",
    "    x1, x2 = 0, 512\n",
    "    y1, y2 = 0, 384//2\n",
    "    \n",
    "    img1[:, x1:x2, y2:384] = img2[:, x1:x2, y2:384]\n",
    "\n",
    "    if name not in os.listdir(output_dir):\n",
    "        os.mkdir(os.path.join(output_dir, name))\n",
    "    path = os.path.join(output_dir, name, mask_type+'.jpg')\n",
    "    save_image(img1, path)\n",
    "    \n",
    "    gender = 0 if gender == \"male\" else 1\n",
    "    \n",
    "    return {\"id\":id, \"gender\":gender,\"age_group\":min(2, age//30), \"mask\":mask, \"path\": path, \"class\":6*mask + 3*gender + min(2, age//30)}"
   ]
  },
  {
   "cell_type": "markdown",
   "id": "30b1a95d-ff46-4b9c-9d03-e5b1871fe966",
   "metadata": {},
   "source": [
    "## Augmentation Incorrect"
   ]
  },
  {
   "cell_type": "code",
   "execution_count": null,
   "id": "5caf95e5-9220-4b2f-9344-6e80ee5d6b66",
   "metadata": {},
   "outputs": [],
   "source": [
    "incorrects_young = incorrects[(incorrects.age < 30)]\n",
    "incorrects_mid = incorrects[(incorrects.age >= 30) & (incorrects.age <= 60)]\n",
    "incorrects_old = incorrects[(incorrects.age > 60)]"
   ]
  },
  {
   "cell_type": "code",
   "execution_count": 490,
   "id": "0bf4baed-d24b-4be5-908a-5b0d66a93786",
   "metadata": {},
   "outputs": [],
   "source": [
    "train = pd.read_csv('../outputs/train_df.csv')\n",
    "val = pd.read_csv('../outputs/valid_df.csv')\n",
    "df = pd.concat([train, val], ignore_index=True)"
   ]
  },
  {
   "cell_type": "code",
   "execution_count": 491,
   "id": "7d649fe1-7302-400b-9583-d817e8887f3b",
   "metadata": {},
   "outputs": [],
   "source": [
    "incorrects = df[df['mask'] == 1]\n",
    "incorrects_young = incorrects[incorrects.age < 30]\n",
    "incorrects_mid = incorrects[(incorrects.age >= 30) & (incorrects.age <= 50)]\n",
    "\n",
    "config = {\n",
    "    \"young\":1900,\n",
    "    \"mid\":1900,\n",
    "    \"old\":3300,\n",
    "    \"young_incorrect_mask\": incorrects_young,\n",
    "    \"mid_incorrect_mask\": incorrects_mid,\n",
    "    \"male\": 0,\n",
    "    \"female\": 1,\n",
    "    \"young_age\":22,\n",
    "    \"mid_age\":33,\n",
    "    \"old_age\":66\n",
    "}\n",
    "\n",
    "transfrom = transforms.Compose([\n",
    "    transforms.ToTensor(),\n",
    "])"
   ]
  },
  {
   "cell_type": "code",
   "execution_count": 492,
   "id": "a9ff17b3-70e4-4c43-8d9d-89211e987210",
   "metadata": {},
   "outputs": [
    {
     "data": {
      "text/plain": [
       "'/opt/ml/input/data/train/images/004231_female_Asian_60/incorrect_mask.jpg'"
      ]
     },
     "execution_count": 492,
     "metadata": {},
     "output_type": "execute_result"
    }
   ],
   "source": [
    "incorrects['path'].iloc[0]"
   ]
  },
  {
   "cell_type": "code",
   "execution_count": 493,
   "id": "42ec74fd-c9de-44f3-b423-6d5ccbe5109c",
   "metadata": {},
   "outputs": [],
   "source": [
    "new_df = pd.concat([train, val], ignore_index=True)"
   ]
  },
  {
   "cell_type": "code",
   "execution_count": 494,
   "id": "827ca43a-9c38-480e-8305-5c47890f2bf7",
   "metadata": {},
   "outputs": [
    {
     "name": "stdout",
     "output_type": "stream",
     "text": [
      "young : 1900\n"
     ]
    },
    {
     "data": {
      "application/vnd.jupyter.widget-view+json": {
       "model_id": "c04cfe8e59f84702a9a37d55df5342d6",
       "version_major": 2,
       "version_minor": 0
      },
      "text/plain": [
       "HBox(children=(HTML(value=''), FloatProgress(value=0.0, max=1900.0), HTML(value='')))"
      ]
     },
     "metadata": {},
     "output_type": "display_data"
    },
    {
     "name": "stdout",
     "output_type": "stream",
     "text": [
      "\n",
      "mid : 1900\n"
     ]
    },
    {
     "data": {
      "application/vnd.jupyter.widget-view+json": {
       "model_id": "406980fbabad42019ba6130bfb05a150",
       "version_major": 2,
       "version_minor": 0
      },
      "text/plain": [
       "HBox(children=(HTML(value=''), FloatProgress(value=0.0, max=1900.0), HTML(value='')))"
      ]
     },
     "metadata": {},
     "output_type": "display_data"
    },
    {
     "name": "stdout",
     "output_type": "stream",
     "text": [
      "\n",
      "old : 3300\n"
     ]
    },
    {
     "data": {
      "application/vnd.jupyter.widget-view+json": {
       "model_id": "d59fc5d9010541e8a3d2857361c5fa8d",
       "version_major": 2,
       "version_minor": 0
      },
      "text/plain": [
       "HBox(children=(HTML(value=''), FloatProgress(value=0.0, max=3300.0), HTML(value='')))"
      ]
     },
     "metadata": {},
     "output_type": "display_data"
    },
    {
     "name": "stdout",
     "output_type": "stream",
     "text": [
      "\n"
     ]
    }
   ],
   "source": [
    "output_dir = '/opt/ml/input/data/train/images'\n",
    "\n",
    "for phase in [\"young\", \"mid\", \"old\"]:\n",
    "    if phase != \"old\":\n",
    "        tmp = config[f\"{phase}_incorrect_mask\"]\n",
    "    elif phase == \"old\":\n",
    "        normal_old = df[(df['age_group']==2) & (df['mask'] == 2)]\n",
    "        mask_old = df[(df['age_group']==2) & (df['mask'] == 0)]\n",
    "    print(f\"{phase} : {config[phase]}\")\n",
    "    \n",
    "    for i in tqdm(range(config[phase])):\n",
    "        for gender in [\"male\", \"female\"]:\n",
    "            if phase != \"old\":\n",
    "                sample = tmp[tmp.gender == config[gender]].sample(2)\n",
    "                img1, img2 = sample.iloc[0]['path'], sample.iloc[1]['path']\n",
    "                img1, img2 = transform(Image.open(img1)), transform(Image.open(img2))\n",
    "                data = make_new_image(img1, img2, gender, \"incorrect_mask\", config[f\"{phase}_age\"], output_dir=output_dir)\n",
    "            elif phase == \"old\":\n",
    "                img1 = normal_old.sample().iloc[0]['path']\n",
    "                img2 = mask_old.sample().iloc[0]['path']\n",
    "                img1, img2 = transform(Image.open(img1)), transform(Image.open(img2))\n",
    "                data = make_new_image(img1, img2, gender, \"incorrect_mask\", config[f\"{phase}_age\"], output_dir=output_dir)\n",
    "            new_df = new_df.append(data, ignore_index=True)"
   ]
  },
  {
   "cell_type": "markdown",
   "id": "2f37da4f-3ef8-4a5a-9343-83540b68ac34",
   "metadata": {},
   "source": [
    "### Augmentation normal"
   ]
  },
  {
   "cell_type": "code",
   "execution_count": 495,
   "id": "af3f3345-b295-4a0b-8430-fff8c211153f",
   "metadata": {},
   "outputs": [],
   "source": [
    "incorrects = df[df['mask'] == 2]\n",
    "incorrects_young = incorrects[incorrects.age < 30]\n",
    "incorrects_mid = incorrects[(incorrects.age >= 30) & (incorrects.age <= 50)]\n",
    "\n",
    "config = {\n",
    "    \"young\":1700,\n",
    "    \"mid\":1700,\n",
    "    \"old\":2700,\n",
    "    \"young_incorrect_mask\": incorrects_young,\n",
    "    \"mid_incorrect_mask\": incorrects_mid,\n",
    "    \"old_incorrect_mask\": incorrects_old,\n",
    "    \"male\": 0,\n",
    "    \"female\": 1,\n",
    "    \"young_age\":22,\n",
    "    \"mid_age\":33,\n",
    "    \"old_age\":66\n",
    "}\n",
    "\n",
    "transfrom = transforms.Compose([\n",
    "    transforms.ToTensor(),\n",
    "])"
   ]
  },
  {
   "cell_type": "code",
   "execution_count": 496,
   "id": "412d3017-ed3b-4d1b-aa98-2469b80ad4ac",
   "metadata": {},
   "outputs": [
    {
     "data": {
      "text/plain": [
       "'/opt/ml/input/data/train/images/004231_female_Asian_60/normal.jpg'"
      ]
     },
     "execution_count": 496,
     "metadata": {},
     "output_type": "execute_result"
    }
   ],
   "source": [
    "incorrects['path'].iloc[0]"
   ]
  },
  {
   "cell_type": "code",
   "execution_count": 497,
   "id": "4b604697-a8ca-44f4-801c-7b398f23440d",
   "metadata": {},
   "outputs": [
    {
     "name": "stdout",
     "output_type": "stream",
     "text": [
      "young : 1700\n"
     ]
    },
    {
     "data": {
      "application/vnd.jupyter.widget-view+json": {
       "model_id": "da1097cd07b947f6afb44099454afd1d",
       "version_major": 2,
       "version_minor": 0
      },
      "text/plain": [
       "HBox(children=(HTML(value=''), FloatProgress(value=0.0, max=1700.0), HTML(value='')))"
      ]
     },
     "metadata": {},
     "output_type": "display_data"
    },
    {
     "name": "stdout",
     "output_type": "stream",
     "text": [
      "\n",
      "mid : 1700\n"
     ]
    },
    {
     "data": {
      "application/vnd.jupyter.widget-view+json": {
       "model_id": "2490515eefc14ca19de712e3ae451123",
       "version_major": 2,
       "version_minor": 0
      },
      "text/plain": [
       "HBox(children=(HTML(value=''), FloatProgress(value=0.0, max=1700.0), HTML(value='')))"
      ]
     },
     "metadata": {},
     "output_type": "display_data"
    },
    {
     "name": "stdout",
     "output_type": "stream",
     "text": [
      "\n",
      "old : 2700\n"
     ]
    },
    {
     "data": {
      "application/vnd.jupyter.widget-view+json": {
       "model_id": "77d60e2e6ea541558ef75a0dcbed222e",
       "version_major": 2,
       "version_minor": 0
      },
      "text/plain": [
       "HBox(children=(HTML(value=''), FloatProgress(value=0.0, max=2700.0), HTML(value='')))"
      ]
     },
     "metadata": {},
     "output_type": "display_data"
    },
    {
     "name": "stdout",
     "output_type": "stream",
     "text": [
      "\n"
     ]
    }
   ],
   "source": [
    "output_dir = '/opt/ml/input/data/train/images'\n",
    "\n",
    "for phase in [\"young\", \"mid\", \"old\"]:\n",
    "    if phase != \"old\":\n",
    "        tmp = config[f\"{phase}_incorrect_mask\"]\n",
    "    elif phase == \"old\":\n",
    "        mask_old = df[(df['age_group']==2) & (df['mask'] == 0)]\n",
    "    print(f\"{phase} : {config[phase]}\")\n",
    "    for i in tqdm(range(config[phase])):\n",
    "        for gender in [\"male\", \"female\"]:\n",
    "            if phase != \"old\":\n",
    "                sample = tmp[tmp.gender == config[gender]].sample(2)\n",
    "                img1, img2 = sample.iloc[0]['path'], sample.iloc[1]['path']\n",
    "                img1, img2 = transform(Image.open(img1)), transform(Image.open(img2))\n",
    "                data = make_new_image(img1, img2, gender, \"normal\", config[f\"{phase}_age\"], output_dir=output_dir)\n",
    "            elif phase == \"old\":\n",
    "                sample = normal_old[normal_old.gender == config[gender]].sample(2)\n",
    "                img1, img2 = sample.iloc[0]['path'], sample.iloc[1]['path']\n",
    "                img1, img2 = transform(Image.open(img1)), transform(Image.open(img2))\n",
    "                data = make_new_image(img1, img2, gender, \"normal\", config[f\"{phase}_age\"], output_dir=output_dir)\n",
    "            new_df = new_df.append(data, ignore_index=True)"
   ]
  },
  {
   "cell_type": "code",
   "execution_count": 498,
   "id": "19ffd430-9036-4750-9bbc-dce5a4b100d4",
   "metadata": {},
   "outputs": [
    {
     "data": {
      "text/plain": [
       "<matplotlib.axes._subplots.AxesSubplot at 0x7f59a3ec2640>"
      ]
     },
     "execution_count": 498,
     "metadata": {},
     "output_type": "execute_result"
    },
    {
     "data": {
      "image/png": "[encoded data removed]",
      "text/plain": [
       "<Figure size 432x288 with 1 Axes>"
      ]
     },
     "metadata": {
      "needs_background": "light"
     },
     "output_type": "display_data"
    }
   ],
   "source": [
    "sns.countplot(data=new_df, x='mask')"
   ]
  },
  {
   "cell_type": "code",
   "execution_count": 499,
   "id": "a22f266d-8fc4-418f-91b2-66c7bb9598e5",
   "metadata": {},
   "outputs": [
    {
     "data": {
      "text/plain": [
       "<matplotlib.axes._subplots.AxesSubplot at 0x7f59a483e190>"
      ]
     },
     "execution_count": 499,
     "metadata": {},
     "output_type": "execute_result"
    },
    {
     "data": {
      "image/png": "[encoded data removed]",
      "text/plain": [
       "<Figure size 432x288 with 1 Axes>"
      ]
     },
     "metadata": {
      "needs_background": "light"
     },
     "output_type": "display_data"
    }
   ],
   "source": [
    "sns.countplot(data=new_df, x='age_group')"
   ]
  },
  {
   "cell_type": "code",
   "execution_count": null,
   "id": "ea743c57-ea30-46ae-a7e1-e62435be1714",
   "metadata": {},
   "outputs": [],
   "source": []
  }
 ],
 "metadata": {
  "kernelspec": {
   "display_name": "Python 3 (ipykernel)",
   "language": "python",
   "name": "python3"
  },
  "language_info": {
   "codemirror_mode": {
    "name": "ipython",
    "version": 3
   },
   "file_extension": ".py",
   "mimetype": "text/x-python",
   "name": "python",
   "nbconvert_exporter": "python",
   "pygments_lexer": "ipython3",
   "version": "3.8.5"
  }
 },
 "nbformat": 4,
 "nbformat_minor": 5
}
