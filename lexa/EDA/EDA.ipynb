{
 "cells": [
  {
   "cell_type": "markdown",
   "id": "ecea717f",
   "metadata": {},
   "source": [
    "## Import 하기"
   ]
  },
  {
   "cell_type": "code",
   "execution_count": 5,
   "id": "8c8a64d2",
   "metadata": {},
   "outputs": [
    {
     "name": "stdout",
     "output_type": "stream",
     "text": [
      "Requirement already satisfied: pandas in /opt/conda/envs/venv/lib/python3.8/site-packages (1.4.1)\n",
      "Requirement already satisfied: python-dateutil>=2.8.1 in /opt/conda/envs/venv/lib/python3.8/site-packages (from pandas) (2.8.2)\n",
      "Requirement already satisfied: pytz>=2020.1 in /opt/conda/envs/venv/lib/python3.8/site-packages (from pandas) (2021.3)\n",
      "Requirement already satisfied: numpy>=1.18.5 in /opt/conda/envs/venv/lib/python3.8/site-packages (from pandas) (1.21.2)\n",
      "Requirement already satisfied: six>=1.5 in /opt/conda/envs/venv/lib/python3.8/site-packages (from python-dateutil>=2.8.1->pandas) (1.16.0)\n",
      "\u001b[33mWARNING: Running pip as the 'root' user can result in broken permissions and conflicting behaviour with the system package manager. It is recommended to use a virtual environment instead: https://pip.pypa.io/warnings/venv\u001b[0m\n",
      "Note: you may need to restart the kernel to use updated packages.\n",
      "Requirement already satisfied: opencv-python in /opt/conda/envs/venv/lib/python3.8/site-packages (4.5.5.62)\n",
      "Requirement already satisfied: numpy>=1.14.5 in /opt/conda/envs/venv/lib/python3.8/site-packages (from opencv-python) (1.21.2)\n",
      "\u001b[33mWARNING: Running pip as the 'root' user can result in broken permissions and conflicting behaviour with the system package manager. It is recommended to use a virtual environment instead: https://pip.pypa.io/warnings/venv\u001b[0m\n",
      "Note: you may need to restart the kernel to use updated packages.\n"
     ]
    }
   ],
   "source": [
    "%pip install pandas\n",
    "%pip install opencv-python\n",
    "import pandas as pd\n",
    "import os\n",
    "import cv2"
   ]
  },
  {
   "cell_type": "code",
   "execution_count": 6,
   "id": "680c8ecb",
   "metadata": {},
   "outputs": [],
   "source": [
    "TRAIN_DATA_PATH = '../../../input/data/train/train.csv'\n",
    "TRAIN_IMG_PATH = '../../../input/data/train/images/'\n",
    "SUBMISSION_PATH = '../input/data/eval/info.csv'\n",
    "EVAL_IMG_PATH = '../input/data/eval/images/'\n",
    "train = pd.read_csv(TRAIN_DATA_PATH)"
   ]
  },
  {
   "cell_type": "code",
   "execution_count": 7,
   "id": "61c8c302",
   "metadata": {},
   "outputs": [
    {
     "data": {
      "text/html": [
       "<div>\n",
       "<style scoped>\n",
       "    .dataframe tbody tr th:only-of-type {\n",
       "        vertical-align: middle;\n",
       "    }\n",
       "\n",
       "    .dataframe tbody tr th {\n",
       "        vertical-align: top;\n",
       "    }\n",
       "\n",
       "    .dataframe thead th {\n",
       "        text-align: right;\n",
       "    }\n",
       "</style>\n",
       "<table border=\"1\" class=\"dataframe\">\n",
       "  <thead>\n",
       "    <tr style=\"text-align: right;\">\n",
       "      <th></th>\n",
       "      <th>id</th>\n",
       "      <th>gender</th>\n",
       "      <th>race</th>\n",
       "      <th>age</th>\n",
       "      <th>path</th>\n",
       "    </tr>\n",
       "  </thead>\n",
       "  <tbody>\n",
       "    <tr>\n",
       "      <th>0</th>\n",
       "      <td>000001</td>\n",
       "      <td>female</td>\n",
       "      <td>Asian</td>\n",
       "      <td>45</td>\n",
       "      <td>000001_female_Asian_45</td>\n",
       "    </tr>\n",
       "    <tr>\n",
       "      <th>1</th>\n",
       "      <td>000002</td>\n",
       "      <td>female</td>\n",
       "      <td>Asian</td>\n",
       "      <td>52</td>\n",
       "      <td>000002_female_Asian_52</td>\n",
       "    </tr>\n",
       "    <tr>\n",
       "      <th>2</th>\n",
       "      <td>000004</td>\n",
       "      <td>male</td>\n",
       "      <td>Asian</td>\n",
       "      <td>54</td>\n",
       "      <td>000004_male_Asian_54</td>\n",
       "    </tr>\n",
       "    <tr>\n",
       "      <th>3</th>\n",
       "      <td>000005</td>\n",
       "      <td>female</td>\n",
       "      <td>Asian</td>\n",
       "      <td>58</td>\n",
       "      <td>000005_female_Asian_58</td>\n",
       "    </tr>\n",
       "    <tr>\n",
       "      <th>4</th>\n",
       "      <td>000006</td>\n",
       "      <td>female</td>\n",
       "      <td>Asian</td>\n",
       "      <td>59</td>\n",
       "      <td>000006_female_Asian_59</td>\n",
       "    </tr>\n",
       "  </tbody>\n",
       "</table>\n",
       "</div>"
      ],
      "text/plain": [
       "       id  gender   race  age                    path\n",
       "0  000001  female  Asian   45  000001_female_Asian_45\n",
       "1  000002  female  Asian   52  000002_female_Asian_52\n",
       "2  000004    male  Asian   54    000004_male_Asian_54\n",
       "3  000005  female  Asian   58  000005_female_Asian_58\n",
       "4  000006  female  Asian   59  000006_female_Asian_59"
      ]
     },
     "execution_count": 7,
     "metadata": {},
     "output_type": "execute_result"
    }
   ],
   "source": [
    "train.head()"
   ]
  },
  {
   "cell_type": "code",
   "execution_count": 8,
   "id": "38c4664f",
   "metadata": {},
   "outputs": [
    {
     "name": "stdout",
     "output_type": "stream",
     "text": [
      "['003014_female_Asian_20']\n",
      "['../../../input/data/train/images/incorrect_mask.jpg', '../../../input/data/train/images/mask1.jpg', '../../../input/data/train/images/mask2.jpg', '../../../input/data/train/images/mask3.jpg', '../../../input/data/train/images/mask4.jpg', '../../../input/data/train/images/mask5.jpg', '../../../input/data/train/images/normal.jpg']\n"
     ]
    }
   ],
   "source": [
    "# make sample\n",
    "sample = train.sample()\n",
    "print(sample.path.values)\n",
    "sample_img_path = sample.path.values[0]\n",
    "sample_img_list = [TRAIN_IMG_PATH +img for img in os.listdir(TRAIN_IMG_PATH+sample_img_path) if '._' not in img]\n",
    "sample_img_list = sorted(sample_img_list)\n",
    "\n",
    "print(sample_img_list)"
   ]
  },
  {
   "cell_type": "markdown",
   "id": "a5b7bcfd",
   "metadata": {},
   "source": [
    "### Data Distribution을 구경해보자."
   ]
  },
  {
   "cell_type": "markdown",
   "id": "47f883df",
   "metadata": {},
   "source": [
    "##### 밝기"
   ]
  },
  {
   "cell_type": "code",
   "execution_count": 9,
   "id": "893656fc",
   "metadata": {},
   "outputs": [],
   "source": [
    "import math\n",
    "from PIL.ImageStat import Stat\n",
    "from PIL import ImageStat\n",
    "from PIL import Image\n",
    "import cv2\n",
    "\n",
    "# def brightness(im):\n",
    "#     \"\"\" Computes brightness \"\"\"\n",
    "#     stat = ImageStat.Stat(im)\n",
    "#     r,g,b = stat.mean\n",
    "#     return math.sqrt(0.241*(r**2) + 0.691*(g**2) + 0.068*(b**2))\n",
    "\n",
    "# brightness_images = [brightness(imread(img)) for img in sample_img_list]\n",
    "\n",
    "\n",
    "# for i, filename in enumerate(sample_img_list):\n",
    "#     img_path = TRAIN_IMG_PATH+'/'+sample_img_path+'/'+filename\n",
    "#     img = cv2.imread(img_path)\n",
    "#     ax = fig.add_subplot(2, 4, i+1)\n",
    "#     ax.imshow(cv2.cvtColor(img, cv2.COLOR_BGR2RGB))\n",
    "#     ax.axis('off')\n",
    "#     ax.set_title(filename.split('.')[0], fontsize=15)\n"
   ]
  },
  {
   "cell_type": "code",
   "execution_count": 10,
   "id": "3ce39ab1",
   "metadata": {},
   "outputs": [
    {
     "ename": "NameError",
     "evalue": "name 'plt' is not defined",
     "output_type": "error",
     "traceback": [
      "\u001b[0;31m---------------------------------------------------------------------------\u001b[0m",
      "\u001b[0;31mNameError\u001b[0m                                 Traceback (most recent call last)",
      "\u001b[1;32m/opt/ml/level1-image-classification-level1-recsys-12/lexa/EDA/EDA.ipynb Cell 9'\u001b[0m in \u001b[0;36m<module>\u001b[0;34m\u001b[0m\n\u001b[1;32m      <a href='vscode-notebook-cell://ssh-remote%2B27.96.131.244/opt/ml/level1-image-classification-level1-recsys-12/lexa/EDA/EDA.ipynb#ch0000008vscode-remote?line=0'>1</a>\u001b[0m \u001b[39mimport\u001b[39;00m \u001b[39mnumpy\u001b[39;00m \u001b[39mas\u001b[39;00m \u001b[39mnp\u001b[39;00m\n\u001b[0;32m----> <a href='vscode-notebook-cell://ssh-remote%2B27.96.131.244/opt/ml/level1-image-classification-level1-recsys-12/lexa/EDA/EDA.ipynb#ch0000008vscode-remote?line=2'>3</a>\u001b[0m plt\u001b[39m.\u001b[39mhist(brightness_images,bins\u001b[39m=\u001b[39m\u001b[39mint\u001b[39m(np\u001b[39m.\u001b[39msqrt(\u001b[39mlen\u001b[39m(IMAGES))))\n\u001b[1;32m      <a href='vscode-notebook-cell://ssh-remote%2B27.96.131.244/opt/ml/level1-image-classification-level1-recsys-12/lexa/EDA/EDA.ipynb#ch0000008vscode-remote?line=3'>4</a>\u001b[0m plt\u001b[39m.\u001b[39mtitle(\u001b[39m'\u001b[39m\u001b[39mBrightness Distribution\u001b[39m\u001b[39m'\u001b[39m)\n\u001b[1;32m      <a href='vscode-notebook-cell://ssh-remote%2B27.96.131.244/opt/ml/level1-image-classification-level1-recsys-12/lexa/EDA/EDA.ipynb#ch0000008vscode-remote?line=4'>5</a>\u001b[0m plt\u001b[39m.\u001b[39mxlabel(\u001b[39m'\u001b[39m\u001b[39mBrightness\u001b[39m\u001b[39m'\u001b[39m)\n",
      "\u001b[0;31mNameError\u001b[0m: name 'plt' is not defined"
     ]
    }
   ],
   "source": [
    "import numpy as np\n",
    "\n",
    "plt.hist(brightness_images,bins=int(np.sqrt(len(IMAGES))))\n",
    "plt.title('Brightness Distribution')\n",
    "plt.xlabel('Brightness')\n",
    "plt.ylabel('Frequency')\n",
    "plt.show();\n",
    "\n",
    "print('Mean: ' + str(np.mean(brightness_images)),\n",
    "      '\\nStd : ' + str(np.std(brightness_images)))"
   ]
  },
  {
   "cell_type": "code",
   "execution_count": null,
   "id": "dc5acc33",
   "metadata": {},
   "outputs": [
    {
     "name": "stdout",
     "output_type": "stream",
     "text": [
      "Requirement already satisfied: squarify in /opt/conda/envs/venv/lib/python3.8/site-packages (0.4.3)\n",
      "\u001b[33mWARNING: Running pip as the 'root' user can result in broken permissions and conflicting behaviour with the system package manager. It is recommended to use a virtual environment instead: https://pip.pypa.io/warnings/venv\u001b[0m\n",
      "Note: you may need to restart the kernel to use updated packages.\n",
      "Requirement already satisfied: matplotlib in /opt/conda/envs/venv/lib/python3.8/site-packages (3.5.1)\n",
      "Requirement already satisfied: pyparsing>=2.2.1 in /opt/conda/envs/venv/lib/python3.8/site-packages (from matplotlib) (3.0.7)\n",
      "Requirement already satisfied: fonttools>=4.22.0 in /opt/conda/envs/venv/lib/python3.8/site-packages (from matplotlib) (4.29.1)\n",
      "Requirement already satisfied: numpy>=1.17 in /opt/conda/envs/venv/lib/python3.8/site-packages (from matplotlib) (1.21.2)\n",
      "Requirement already satisfied: pillow>=6.2.0 in /opt/conda/envs/venv/lib/python3.8/site-packages (from matplotlib) (8.4.0)\n",
      "Requirement already satisfied: packaging>=20.0 in /opt/conda/envs/venv/lib/python3.8/site-packages (from matplotlib) (21.3)\n",
      "Requirement already satisfied: kiwisolver>=1.0.1 in /opt/conda/envs/venv/lib/python3.8/site-packages (from matplotlib) (1.3.2)\n",
      "Requirement already satisfied: python-dateutil>=2.7 in /opt/conda/envs/venv/lib/python3.8/site-packages (from matplotlib) (2.8.2)\n",
      "Requirement already satisfied: cycler>=0.10 in /opt/conda/envs/venv/lib/python3.8/site-packages (from matplotlib) (0.11.0)\n",
      "Requirement already satisfied: six>=1.5 in /opt/conda/envs/venv/lib/python3.8/site-packages (from python-dateutil>=2.7->matplotlib) (1.16.0)\n",
      "\u001b[33mWARNING: Running pip as the 'root' user can result in broken permissions and conflicting behaviour with the system package manager. It is recommended to use a virtual environment instead: https://pip.pypa.io/warnings/venv\u001b[0m\n",
      "Note: you may need to restart the kernel to use updated packages.\n"
     ]
    }
   ],
   "source": [
    "%pip install squarify\n",
    "%pip install matplotlib\n",
    "import matplotlib.pyplot as plt\n",
    "import squarify"
   ]
  },
  {
   "cell_type": "code",
   "execution_count": null,
   "id": "8445e63a",
   "metadata": {},
   "outputs": [
    {
     "data": {
      "text/plain": [
       "<AxesSubplot:>"
      ]
     },
     "execution_count": 11,
     "metadata": {},
     "output_type": "execute_result"
    },
    {
     "data": {
      "image/png": "[encoded data removed]",
      "text/plain": [
       "<Figure size 432x288 with 1 Axes>"
      ]
     },
     "metadata": {
      "needs_background": "light"
     },
     "output_type": "display_data"
    }
   ],
   "source": [
    "areas = [1,2,3,4]\n",
    "squarify.plot(areas)"
   ]
  },
  {
   "cell_type": "code",
   "execution_count": null,
   "id": "69a39671",
   "metadata": {},
   "outputs": [],
   "source": []
  }
 ],
 "metadata": {
  "kernelspec": {
   "display_name": "Python 3 (ipykernel)",
   "language": "python",
   "name": "python3"
  },
  "language_info": {
   "codemirror_mode": {
    "name": "ipython",
    "version": 3
   },
   "file_extension": ".py",
   "mimetype": "text/x-python",
   "name": "python",
   "nbconvert_exporter": "python",
   "pygments_lexer": "ipython3",
   "version": "3.8.12"
  }
 },
 "nbformat": 4,
 "nbformat_minor": 5
}
