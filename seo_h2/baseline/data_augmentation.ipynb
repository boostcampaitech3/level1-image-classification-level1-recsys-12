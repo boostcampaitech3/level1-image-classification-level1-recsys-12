{
 "cells": [
  {
   "cell_type": "code",
   "execution_count": 1,
   "id": "dc50013b-3583-462d-86a6-763e912688da",
   "metadata": {
    "tags": []
   },
   "outputs": [],
   "source": [
    "import os\n",
    "import random\n",
    "\n",
    "import pandas as pd\n",
    "import torch\n",
    "from torchvision import transforms\n",
    "from torchvision.utils import save_image\n",
    "from PIL import Image\n",
    "\n",
    "import numpy as np\n",
    "\n",
    "import matplotlib.pyplot as plt\n",
    "import seaborn as sns\n",
    "\n",
    "from tqdm.notebook import tqdm\n",
    "import pickle"
   ]
  },
  {
   "cell_type": "code",
   "execution_count": 2,
   "id": "8e5d8ca9-f8b8-4703-a616-90a31673f0a9",
   "metadata": {},
   "outputs": [],
   "source": [
    "data_dir = '/opt/ml/input/data/train/images'\n",
    "profiles = os.listdir(data_dir)\n",
    "profiles = [profile for profile in profiles if not profile.startswith(\".\")]"
   ]
  },
  {
   "cell_type": "code",
   "execution_count": 5,
   "id": "a5546731-b364-459a-89fc-0bf98f39c9db",
   "metadata": {},
   "outputs": [],
   "source": [
    "with open('split_profiles_seed32.pickle', 'rb') as fr:\n",
    "   split_profiles = pickle.load(fr)\n",
    "train_idx= split_profiles['train']\n",
    "val_idx= split_profiles['val']"
   ]
  },
  {
   "cell_type": "code",
   "execution_count": 6,
   "id": "82271c57-c9dd-40af-806d-48f291318311",
   "metadata": {},
   "outputs": [
    {
     "name": "stdout",
     "output_type": "stream",
     "text": [
      "2213\n",
      "487\n"
     ]
    }
   ],
   "source": [
    "print(len(train_idx))\n",
    "print(len(val_idx))"
   ]
  },
  {
   "cell_type": "markdown",
   "id": "7ce470b0-c89e-4b9a-af1d-7a6ab12de41d",
   "metadata": {},
   "source": [
    "train 과 validation dataframe 만들기"
   ]
  },
  {
   "cell_type": "code",
   "execution_count": 7,
   "id": "9f280d24-0364-492c-ae90-8a2a4b19cd54",
   "metadata": {},
   "outputs": [],
   "source": [
    "class MaskLabels(int):\n",
    "    MASK = 0\n",
    "    INCORRECT = 1\n",
    "    NORMAL = 2\n",
    "    \n",
    "_file_names = {\n",
    "        \"mask1\": MaskLabels.MASK,\n",
    "        \"mask2\": MaskLabels.MASK,\n",
    "        \"mask3\": MaskLabels.MASK,\n",
    "        \"mask4\": MaskLabels.MASK,\n",
    "        \"mask5\": MaskLabels.MASK,\n",
    "        \"incorrect_mask\": MaskLabels.INCORRECT,\n",
    "        \"normal\": MaskLabels.NORMAL\n",
    "    }\n",
    "\n",
    "for phase, indices in split_profiles.items():\n",
    "    image_paths=[]\n",
    "    mask_labels=[]\n",
    "    gender_labels=[]\n",
    "    age_labels=[]\n",
    "    ids=[]\n",
    "    \n",
    "    for _idx in indices:\n",
    "        profile = profiles[_idx]\n",
    "        img_folder = os.path.join(data_dir, profile)\n",
    "        for file_name in os.listdir(img_folder):\n",
    "            _file_name, ext = os.path.splitext(file_name)\n",
    "            if _file_name not in _file_names:  # \".\" 로 시작하는 파일 및 invalid 한 파일들은 무시합니다\n",
    "                continue\n",
    "\n",
    "            img_path = os.path.join(data_dir, profile, file_name)  # (resized_data, 000004_male_Asian_54, mask1.jpg)\n",
    "            mask_label = _file_names[_file_name]\n",
    "\n",
    "            idd, gender, race, age = profile.split(\"_\")\n",
    "#             gender_label = GenderLabels.from_str(gender)\n",
    "#             age_label = AgeLabels.from_number(age)\n",
    "\n",
    "            ids.append(idd)\n",
    "            image_paths.append(img_path)\n",
    "            mask_labels.append(mask_label)\n",
    "            gender_labels.append(gender)\n",
    "            age_labels.append(age)\n",
    "\n",
    "    if phase == 'train':\n",
    "        train_df= pd.DataFrame({'ids':ids,'image_paths':image_paths, 'mask_labels':mask_labels, 'gender_labels':gender_labels,'age_labels':age_labels})\n",
    "    elif phase == 'val':\n",
    "        val_df= pd.DataFrame({'ids':ids,'image_paths':image_paths, 'mask_labels':mask_labels, 'gender_labels':gender_labels,'age_labels':age_labels})"
   ]
  },
  {
   "cell_type": "code",
   "execution_count": 8,
   "id": "7909ef4c-77c1-4589-bf59-de739d5790f6",
   "metadata": {},
   "outputs": [
    {
     "data": {
      "text/html": [
       "<div>\n",
       "<style scoped>\n",
       "    .dataframe tbody tr th:only-of-type {\n",
       "        vertical-align: middle;\n",
       "    }\n",
       "\n",
       "    .dataframe tbody tr th {\n",
       "        vertical-align: top;\n",
       "    }\n",
       "\n",
       "    .dataframe thead th {\n",
       "        text-align: right;\n",
       "    }\n",
       "</style>\n",
       "<table border=\"1\" class=\"dataframe\">\n",
       "  <thead>\n",
       "    <tr style=\"text-align: right;\">\n",
       "      <th></th>\n",
       "      <th>ids</th>\n",
       "      <th>image_paths</th>\n",
       "      <th>mask_labels</th>\n",
       "      <th>gender_labels</th>\n",
       "      <th>age_labels</th>\n",
       "    </tr>\n",
       "  </thead>\n",
       "  <tbody>\n",
       "    <tr>\n",
       "      <th>0</th>\n",
       "      <td>003130</td>\n",
       "      <td>/opt/ml/input/data/train/images/003130_female_...</td>\n",
       "      <td>0</td>\n",
       "      <td>female</td>\n",
       "      <td>19</td>\n",
       "    </tr>\n",
       "    <tr>\n",
       "      <th>1</th>\n",
       "      <td>003130</td>\n",
       "      <td>/opt/ml/input/data/train/images/003130_female_...</td>\n",
       "      <td>2</td>\n",
       "      <td>female</td>\n",
       "      <td>19</td>\n",
       "    </tr>\n",
       "    <tr>\n",
       "      <th>2</th>\n",
       "      <td>003130</td>\n",
       "      <td>/opt/ml/input/data/train/images/003130_female_...</td>\n",
       "      <td>0</td>\n",
       "      <td>female</td>\n",
       "      <td>19</td>\n",
       "    </tr>\n",
       "    <tr>\n",
       "      <th>3</th>\n",
       "      <td>003130</td>\n",
       "      <td>/opt/ml/input/data/train/images/003130_female_...</td>\n",
       "      <td>0</td>\n",
       "      <td>female</td>\n",
       "      <td>19</td>\n",
       "    </tr>\n",
       "    <tr>\n",
       "      <th>4</th>\n",
       "      <td>003130</td>\n",
       "      <td>/opt/ml/input/data/train/images/003130_female_...</td>\n",
       "      <td>1</td>\n",
       "      <td>female</td>\n",
       "      <td>19</td>\n",
       "    </tr>\n",
       "    <tr>\n",
       "      <th>...</th>\n",
       "      <td>...</td>\n",
       "      <td>...</td>\n",
       "      <td>...</td>\n",
       "      <td>...</td>\n",
       "      <td>...</td>\n",
       "    </tr>\n",
       "    <tr>\n",
       "      <th>15486</th>\n",
       "      <td>005523</td>\n",
       "      <td>/opt/ml/input/data/train/images/005523_male_As...</td>\n",
       "      <td>0</td>\n",
       "      <td>male</td>\n",
       "      <td>52</td>\n",
       "    </tr>\n",
       "    <tr>\n",
       "      <th>15487</th>\n",
       "      <td>005523</td>\n",
       "      <td>/opt/ml/input/data/train/images/005523_male_As...</td>\n",
       "      <td>0</td>\n",
       "      <td>male</td>\n",
       "      <td>52</td>\n",
       "    </tr>\n",
       "    <tr>\n",
       "      <th>15488</th>\n",
       "      <td>005523</td>\n",
       "      <td>/opt/ml/input/data/train/images/005523_male_As...</td>\n",
       "      <td>1</td>\n",
       "      <td>male</td>\n",
       "      <td>52</td>\n",
       "    </tr>\n",
       "    <tr>\n",
       "      <th>15489</th>\n",
       "      <td>005523</td>\n",
       "      <td>/opt/ml/input/data/train/images/005523_male_As...</td>\n",
       "      <td>0</td>\n",
       "      <td>male</td>\n",
       "      <td>52</td>\n",
       "    </tr>\n",
       "    <tr>\n",
       "      <th>15490</th>\n",
       "      <td>005523</td>\n",
       "      <td>/opt/ml/input/data/train/images/005523_male_As...</td>\n",
       "      <td>0</td>\n",
       "      <td>male</td>\n",
       "      <td>52</td>\n",
       "    </tr>\n",
       "  </tbody>\n",
       "</table>\n",
       "<p>15491 rows × 5 columns</p>\n",
       "</div>"
      ],
      "text/plain": [
       "          ids                                        image_paths  mask_labels  \\\n",
       "0      003130  /opt/ml/input/data/train/images/003130_female_...            0   \n",
       "1      003130  /opt/ml/input/data/train/images/003130_female_...            2   \n",
       "2      003130  /opt/ml/input/data/train/images/003130_female_...            0   \n",
       "3      003130  /opt/ml/input/data/train/images/003130_female_...            0   \n",
       "4      003130  /opt/ml/input/data/train/images/003130_female_...            1   \n",
       "...       ...                                                ...          ...   \n",
       "15486  005523  /opt/ml/input/data/train/images/005523_male_As...            0   \n",
       "15487  005523  /opt/ml/input/data/train/images/005523_male_As...            0   \n",
       "15488  005523  /opt/ml/input/data/train/images/005523_male_As...            1   \n",
       "15489  005523  /opt/ml/input/data/train/images/005523_male_As...            0   \n",
       "15490  005523  /opt/ml/input/data/train/images/005523_male_As...            0   \n",
       "\n",
       "      gender_labels age_labels  \n",
       "0            female         19  \n",
       "1            female         19  \n",
       "2            female         19  \n",
       "3            female         19  \n",
       "4            female         19  \n",
       "...             ...        ...  \n",
       "15486          male         52  \n",
       "15487          male         52  \n",
       "15488          male         52  \n",
       "15489          male         52  \n",
       "15490          male         52  \n",
       "\n",
       "[15491 rows x 5 columns]"
      ]
     },
     "execution_count": 8,
     "metadata": {},
     "output_type": "execute_result"
    }
   ],
   "source": [
    "train_df"
   ]
  },
  {
   "cell_type": "code",
   "execution_count": 9,
   "id": "5e419845-eba1-4c20-9592-e4e5c66c7dee",
   "metadata": {},
   "outputs": [
    {
     "data": {
      "text/html": [
       "<div>\n",
       "<style scoped>\n",
       "    .dataframe tbody tr th:only-of-type {\n",
       "        vertical-align: middle;\n",
       "    }\n",
       "\n",
       "    .dataframe tbody tr th {\n",
       "        vertical-align: top;\n",
       "    }\n",
       "\n",
       "    .dataframe thead th {\n",
       "        text-align: right;\n",
       "    }\n",
       "</style>\n",
       "<table border=\"1\" class=\"dataframe\">\n",
       "  <thead>\n",
       "    <tr style=\"text-align: right;\">\n",
       "      <th></th>\n",
       "      <th>ids</th>\n",
       "      <th>image_paths</th>\n",
       "      <th>mask_labels</th>\n",
       "      <th>gender_labels</th>\n",
       "      <th>age_labels</th>\n",
       "    </tr>\n",
       "  </thead>\n",
       "  <tbody>\n",
       "    <tr>\n",
       "      <th>0</th>\n",
       "      <td>003061</td>\n",
       "      <td>/opt/ml/input/data/train/images/003061_female_...</td>\n",
       "      <td>0</td>\n",
       "      <td>female</td>\n",
       "      <td>20</td>\n",
       "    </tr>\n",
       "    <tr>\n",
       "      <th>1</th>\n",
       "      <td>003061</td>\n",
       "      <td>/opt/ml/input/data/train/images/003061_female_...</td>\n",
       "      <td>2</td>\n",
       "      <td>female</td>\n",
       "      <td>20</td>\n",
       "    </tr>\n",
       "    <tr>\n",
       "      <th>2</th>\n",
       "      <td>003061</td>\n",
       "      <td>/opt/ml/input/data/train/images/003061_female_...</td>\n",
       "      <td>0</td>\n",
       "      <td>female</td>\n",
       "      <td>20</td>\n",
       "    </tr>\n",
       "    <tr>\n",
       "      <th>3</th>\n",
       "      <td>003061</td>\n",
       "      <td>/opt/ml/input/data/train/images/003061_female_...</td>\n",
       "      <td>0</td>\n",
       "      <td>female</td>\n",
       "      <td>20</td>\n",
       "    </tr>\n",
       "    <tr>\n",
       "      <th>4</th>\n",
       "      <td>003061</td>\n",
       "      <td>/opt/ml/input/data/train/images/003061_female_...</td>\n",
       "      <td>1</td>\n",
       "      <td>female</td>\n",
       "      <td>20</td>\n",
       "    </tr>\n",
       "    <tr>\n",
       "      <th>...</th>\n",
       "      <td>...</td>\n",
       "      <td>...</td>\n",
       "      <td>...</td>\n",
       "      <td>...</td>\n",
       "      <td>...</td>\n",
       "    </tr>\n",
       "    <tr>\n",
       "      <th>3404</th>\n",
       "      <td>001534</td>\n",
       "      <td>/opt/ml/input/data/train/images/001534_male_As...</td>\n",
       "      <td>0</td>\n",
       "      <td>male</td>\n",
       "      <td>20</td>\n",
       "    </tr>\n",
       "    <tr>\n",
       "      <th>3405</th>\n",
       "      <td>001534</td>\n",
       "      <td>/opt/ml/input/data/train/images/001534_male_As...</td>\n",
       "      <td>0</td>\n",
       "      <td>male</td>\n",
       "      <td>20</td>\n",
       "    </tr>\n",
       "    <tr>\n",
       "      <th>3406</th>\n",
       "      <td>001534</td>\n",
       "      <td>/opt/ml/input/data/train/images/001534_male_As...</td>\n",
       "      <td>1</td>\n",
       "      <td>male</td>\n",
       "      <td>20</td>\n",
       "    </tr>\n",
       "    <tr>\n",
       "      <th>3407</th>\n",
       "      <td>001534</td>\n",
       "      <td>/opt/ml/input/data/train/images/001534_male_As...</td>\n",
       "      <td>0</td>\n",
       "      <td>male</td>\n",
       "      <td>20</td>\n",
       "    </tr>\n",
       "    <tr>\n",
       "      <th>3408</th>\n",
       "      <td>001534</td>\n",
       "      <td>/opt/ml/input/data/train/images/001534_male_As...</td>\n",
       "      <td>0</td>\n",
       "      <td>male</td>\n",
       "      <td>20</td>\n",
       "    </tr>\n",
       "  </tbody>\n",
       "</table>\n",
       "<p>3409 rows × 5 columns</p>\n",
       "</div>"
      ],
      "text/plain": [
       "         ids                                        image_paths  mask_labels  \\\n",
       "0     003061  /opt/ml/input/data/train/images/003061_female_...            0   \n",
       "1     003061  /opt/ml/input/data/train/images/003061_female_...            2   \n",
       "2     003061  /opt/ml/input/data/train/images/003061_female_...            0   \n",
       "3     003061  /opt/ml/input/data/train/images/003061_female_...            0   \n",
       "4     003061  /opt/ml/input/data/train/images/003061_female_...            1   \n",
       "...      ...                                                ...          ...   \n",
       "3404  001534  /opt/ml/input/data/train/images/001534_male_As...            0   \n",
       "3405  001534  /opt/ml/input/data/train/images/001534_male_As...            0   \n",
       "3406  001534  /opt/ml/input/data/train/images/001534_male_As...            1   \n",
       "3407  001534  /opt/ml/input/data/train/images/001534_male_As...            0   \n",
       "3408  001534  /opt/ml/input/data/train/images/001534_male_As...            0   \n",
       "\n",
       "     gender_labels age_labels  \n",
       "0           female         20  \n",
       "1           female         20  \n",
       "2           female         20  \n",
       "3           female         20  \n",
       "4           female         20  \n",
       "...            ...        ...  \n",
       "3404          male         20  \n",
       "3405          male         20  \n",
       "3406          male         20  \n",
       "3407          male         20  \n",
       "3408          male         20  \n",
       "\n",
       "[3409 rows x 5 columns]"
      ]
     },
     "execution_count": 9,
     "metadata": {},
     "output_type": "execute_result"
    }
   ],
   "source": [
    "val_df"
   ]
  },
  {
   "cell_type": "code",
   "execution_count": 10,
   "id": "6c43fa29-be84-4526-a75d-889c68ef9d46",
   "metadata": {},
   "outputs": [],
   "source": [
    "train_df.age_labels= train_df.age_labels.apply(int)"
   ]
  },
  {
   "cell_type": "markdown",
   "id": "c46ae811-1025-4fb1-8ae9-2fa49e835e2e",
   "metadata": {
    "tags": []
   },
   "source": [
    "# 60세 이상인 사람들만 증강"
   ]
  },
  {
   "cell_type": "code",
   "execution_count": 11,
   "id": "26b17b84-aa52-4d59-9387-5d5b2f4c1899",
   "metadata": {},
   "outputs": [
    {
     "data": {
      "text/plain": [
       "<AxesSubplot:xlabel='age_labels', ylabel='Density'>"
      ]
     },
     "execution_count": 11,
     "metadata": {},
     "output_type": "execute_result"
    },
    {
     "data": {
      "image/png": "[encoded data removed]",
      "text/plain": [
       "<Figure size 432x288 with 1 Axes>"
      ]
     },
     "metadata": {
      "needs_background": "light"
     },
     "output_type": "display_data"
    }
   ],
   "source": [
    "# mask label 별로 age labels 시각화\n",
    "pal= sns.color_palette('deep',3)\n",
    "sns.kdeplot(data=train_df, x=train_df.age_labels, hue= train_df.mask_labels, palette=pal)"
   ]
  },
  {
   "cell_type": "markdown",
   "id": "9baeb0e1-d3bd-4ee3-a365-76c2eb86c048",
   "metadata": {},
   "source": [
    "- 마스크 쓴 사람 > 이상하게 쓴 사람 > 안쓴사람\n",
    "- 60세 이상+안쓴사람 이 제일 수가 적고 분류도 가장 못하기 때문에 60세 이상 + 마스크 안쓴 사람의 이미지를 늘리자 -> loss가 더 늘어남"
   ]
  },
  {
   "cell_type": "code",
   "execution_count": 15,
   "id": "b761227f-f5f3-48bb-923d-113da98015a8",
   "metadata": {},
   "outputs": [
    {
     "name": "stdout",
     "output_type": "stream",
     "text": [
      "2213\n",
      "11065\n",
      "2213\n"
     ]
    }
   ],
   "source": [
    "# 마스크 안쓴사람\n",
    "normal= train_df[train_df.mask_labels  == 2]\n",
    "print(len(normal))\n",
    "\n",
    "\n",
    "# 마스크 쓴사람\n",
    "wear= train_df[train_df.mask_labels  == 0]\n",
    "print(len(wear))\n",
    "\n",
    "\n",
    "# 마스크 이상하게 쓴사람\n",
    "incorrect= train_df[train_df.mask_labels  == 1]\n",
    "print(len(incorrect))"
   ]
  },
  {
   "cell_type": "code",
   "execution_count": 17,
   "id": "cb71370f-edf6-494a-840e-59cd11cbcfc6",
   "metadata": {},
   "outputs": [
    {
     "name": "stdout",
     "output_type": "stream",
     "text": [
      "156\n",
      "780\n",
      "156\n"
     ]
    }
   ],
   "source": [
    "# 60세 이상인 사람 \n",
    "normal_old= normal[normal.age_labels >= 60]\n",
    "print(len(normal_old))\n",
    "wear_old= wear[wear.age_labels >= 60]\n",
    "print(len(wear_old))\n",
    "incorrect_old= incorrect[incorrect.age_labels >= 60]\n",
    "print(len(incorrect_old))"
   ]
  },
  {
   "cell_type": "code",
   "execution_count": 19,
   "id": "ad7b3757-d1cd-491f-8313-4b495ca36b30",
   "metadata": {},
   "outputs": [
    {
     "name": "stdout",
     "output_type": "stream",
     "text": [
      "1015\n",
      "10285\n",
      "2057\n"
     ]
    }
   ],
   "source": [
    "# 30-60세인 사람\n",
    "normal_mid= normal[normal.age_labels >= 30]\n",
    "normal_mid= normal_mid[normal_mid.age_labels < 60]\n",
    "print(len(normal_mid))\n",
    "\n",
    "wear_mid= wear[wear.age_labels >= 30]\n",
    "wear_mid= wear[wear.age_labels < 60]\n",
    "print(len(wear_mid))\n",
    "\n",
    "incorrect_mid= incorrect[incorrect.age_labels >= 30]\n",
    "incorrect_mid= incorrect[incorrect.age_labels < 60]\n",
    "print(len(incorrect_mid))"
   ]
  },
  {
   "cell_type": "code",
   "execution_count": 36,
   "id": "617e1441-6954-49a1-85d8-a0c594d5b4be",
   "metadata": {},
   "outputs": [
    {
     "data": {
      "text/plain": [
       "<AxesSubplot:xlabel='age_labels', ylabel='Count'>"
      ]
     },
     "execution_count": 36,
     "metadata": {},
     "output_type": "execute_result"
    },
    {
     "data": {
      "image/png": "[encoded data removed]",
      "text/plain": [
       "<Figure size 432x288 with 1 Axes>"
      ]
     },
     "metadata": {
      "needs_background": "light"
     },
     "output_type": "display_data"
    }
   ],
   "source": [
    "sns.histplot(data=train_df, x=train_df.age_labels,  palette=pal)"
   ]
  },
  {
   "cell_type": "code",
   "execution_count": 21,
   "id": "95668b68-4f8d-4f10-8ce1-6769392f0584",
   "metadata": {},
   "outputs": [
    {
     "name": "stdout",
     "output_type": "stream",
     "text": [
      "1042\n",
      "1015\n"
     ]
    }
   ],
   "source": [
    "normal_young= normal[normal.age_labels < 30]\n",
    "print(len(normal_young))\n",
    "normal_mid= normal[normal.age_labels >= 30]\n",
    "normal_mid= normal_mid[normal_mid.age_labels < 60]\n",
    "print(len(normal_mid))"
   ]
  },
  {
   "cell_type": "code",
   "execution_count": 22,
   "id": "80d82dc1-fe2f-4bb3-a16a-dfd8ab283ca6",
   "metadata": {},
   "outputs": [
    {
     "name": "stdout",
     "output_type": "stream",
     "text": [
      "156\n"
     ]
    },
    {
     "data": {
      "text/html": [
       "<div>\n",
       "<style scoped>\n",
       "    .dataframe tbody tr th:only-of-type {\n",
       "        vertical-align: middle;\n",
       "    }\n",
       "\n",
       "    .dataframe tbody tr th {\n",
       "        vertical-align: top;\n",
       "    }\n",
       "\n",
       "    .dataframe thead th {\n",
       "        text-align: right;\n",
       "    }\n",
       "</style>\n",
       "<table border=\"1\" class=\"dataframe\">\n",
       "  <thead>\n",
       "    <tr style=\"text-align: right;\">\n",
       "      <th></th>\n",
       "      <th>ids</th>\n",
       "      <th>image_paths</th>\n",
       "      <th>mask_labels</th>\n",
       "      <th>gender_labels</th>\n",
       "      <th>age_labels</th>\n",
       "    </tr>\n",
       "  </thead>\n",
       "  <tbody>\n",
       "    <tr>\n",
       "      <th>15</th>\n",
       "      <td>001382</td>\n",
       "      <td>/opt/ml/input/data/train/images/001382_female_...</td>\n",
       "      <td>2</td>\n",
       "      <td>female</td>\n",
       "      <td>60</td>\n",
       "    </tr>\n",
       "    <tr>\n",
       "      <th>176</th>\n",
       "      <td>004354</td>\n",
       "      <td>/opt/ml/input/data/train/images/004354_male_As...</td>\n",
       "      <td>2</td>\n",
       "      <td>male</td>\n",
       "      <td>60</td>\n",
       "    </tr>\n",
       "    <tr>\n",
       "      <th>568</th>\n",
       "      <td>004312</td>\n",
       "      <td>/opt/ml/input/data/train/images/004312_female_...</td>\n",
       "      <td>2</td>\n",
       "      <td>female</td>\n",
       "      <td>60</td>\n",
       "    </tr>\n",
       "    <tr>\n",
       "      <th>701</th>\n",
       "      <td>003837</td>\n",
       "      <td>/opt/ml/input/data/train/images/003837_male_As...</td>\n",
       "      <td>2</td>\n",
       "      <td>male</td>\n",
       "      <td>60</td>\n",
       "    </tr>\n",
       "    <tr>\n",
       "      <th>1079</th>\n",
       "      <td>003528</td>\n",
       "      <td>/opt/ml/input/data/train/images/003528_male_As...</td>\n",
       "      <td>2</td>\n",
       "      <td>male</td>\n",
       "      <td>60</td>\n",
       "    </tr>\n",
       "  </tbody>\n",
       "</table>\n",
       "</div>"
      ],
      "text/plain": [
       "         ids                                        image_paths  mask_labels  \\\n",
       "15    001382  /opt/ml/input/data/train/images/001382_female_...            2   \n",
       "176   004354  /opt/ml/input/data/train/images/004354_male_As...            2   \n",
       "568   004312  /opt/ml/input/data/train/images/004312_female_...            2   \n",
       "701   003837  /opt/ml/input/data/train/images/003837_male_As...            2   \n",
       "1079  003528  /opt/ml/input/data/train/images/003528_male_As...            2   \n",
       "\n",
       "     gender_labels  age_labels  \n",
       "15          female          60  \n",
       "176           male          60  \n",
       "568         female          60  \n",
       "701           male          60  \n",
       "1079          male          60  "
      ]
     },
     "execution_count": 22,
     "metadata": {},
     "output_type": "execute_result"
    }
   ],
   "source": [
    "normal_old= normal[normal.age_labels >= 60]\n",
    "print(len(normal_old))\n",
    "normal_old.head()"
   ]
  },
  {
   "cell_type": "code",
   "execution_count": 23,
   "id": "247867bc-2c42-4825-ae0e-5f093cc0e400",
   "metadata": {},
   "outputs": [
    {
     "data": {
      "text/html": [
       "<div>\n",
       "<style scoped>\n",
       "    .dataframe tbody tr th:only-of-type {\n",
       "        vertical-align: middle;\n",
       "    }\n",
       "\n",
       "    .dataframe tbody tr th {\n",
       "        vertical-align: top;\n",
       "    }\n",
       "\n",
       "    .dataframe thead th {\n",
       "        text-align: right;\n",
       "    }\n",
       "</style>\n",
       "<table border=\"1\" class=\"dataframe\">\n",
       "  <thead>\n",
       "    <tr style=\"text-align: right;\">\n",
       "      <th></th>\n",
       "      <th>ids</th>\n",
       "      <th>image_paths</th>\n",
       "      <th>mask_labels</th>\n",
       "      <th>gender_labels</th>\n",
       "    </tr>\n",
       "    <tr>\n",
       "      <th>age_labels</th>\n",
       "      <th></th>\n",
       "      <th></th>\n",
       "      <th></th>\n",
       "      <th></th>\n",
       "    </tr>\n",
       "  </thead>\n",
       "  <tbody>\n",
       "    <tr>\n",
       "      <th>60</th>\n",
       "      <td>156</td>\n",
       "      <td>156</td>\n",
       "      <td>156</td>\n",
       "      <td>156</td>\n",
       "    </tr>\n",
       "  </tbody>\n",
       "</table>\n",
       "</div>"
      ],
      "text/plain": [
       "            ids  image_paths  mask_labels  gender_labels\n",
       "age_labels                                              \n",
       "60          156          156          156            156"
      ]
     },
     "execution_count": 23,
     "metadata": {},
     "output_type": "execute_result"
    }
   ],
   "source": [
    "normal_old.groupby('age_labels').count()"
   ]
  },
  {
   "cell_type": "markdown",
   "id": "403041a0-1b30-48ff-83a2-77952fa5930f",
   "metadata": {},
   "source": [
    "- 60세 이상인 사람들의 나이는 모두 60세이다. \n",
    "- normal_old를 6배 늘려보자 -> 972개로\n",
    "- 한 이미지 당 6개 추가로 생성 -> 60세 이상인 이미지 폴더 당 마스크 안쓴 사람의 사진이 총 7장"
   ]
  },
  {
   "cell_type": "markdown",
   "id": "64ccb257-a91a-476b-966e-f174ba168ef5",
   "metadata": {},
   "source": [
    "# Old Augmentation"
   ]
  },
  {
   "cell_type": "code",
   "execution_count": 24,
   "id": "bc5b14c2-215a-4dbb-9fcb-ae3e7c3cbb17",
   "metadata": {},
   "outputs": [
    {
     "data": {
      "text/plain": [
       "'/opt/ml/input/data/train/images2'"
      ]
     },
     "execution_count": 24,
     "metadata": {},
     "output_type": "execute_result"
    }
   ],
   "source": [
    "# import shutil\n",
    "\n",
    "# shutil.copytree(\"/opt/ml/input/data/train/images\", \"/opt/ml/input/data/train/images2\")"
   ]
  },
  {
   "cell_type": "code",
   "execution_count": 25,
   "id": "56cafaee-c80e-4364-83be-583031f2573c",
   "metadata": {},
   "outputs": [
    {
     "name": "stdout",
     "output_type": "stream",
     "text": [
      "156\n",
      "780\n",
      "156\n"
     ]
    }
   ],
   "source": [
    "normal_old_idx= list(normal_old.index)\n",
    "print(len(normal_old_idx))\n",
    "wear_old_idx= list(wear_old.index)\n",
    "print(len(wear_old_idx))\n",
    "incorrect_old_idx= list(incorrect_old.index)\n",
    "print(len(incorrect_old_idx))"
   ]
  },
  {
   "cell_type": "code",
   "execution_count": 26,
   "id": "89a4e3a2-46dc-47b2-8260-3fcc6497e59b",
   "metadata": {},
   "outputs": [],
   "source": [
    "from albumentations import *"
   ]
  },
  {
   "cell_type": "code",
   "execution_count": 27,
   "id": "f9e862a9-1f17-4118-8221-53e72ee00a03",
   "metadata": {},
   "outputs": [],
   "source": [
    "transform = Compose([\n",
    "    CenterCrop(height=256, width=192, p=0.5),\n",
    "    ColorJitter(p=0.9),\n",
    "    HorizontalFlip(p=0.7),\n",
    "    GaussNoise(p=0.9),\n",
    "    RandomBrightnessContrast(brightness_limit=(-0.4, 0.4), contrast_limit=(-0.4, 0.4),p=0.9),\n",
    "    HueSaturationValue(p=0.9),\n",
    "    Resize(512, 384,p=1)\n",
    "], p=1.0)"
   ]
  },
  {
   "cell_type": "code",
   "execution_count": 28,
   "id": "8f1a4bd6-3cbe-47ce-9648-877e6a523297",
   "metadata": {},
   "outputs": [],
   "source": [
    "def make_new_image(num:int, img, idd:str, gender: str, mask: str, age: int):\n",
    "    output_dir= '/opt/ml/input/data/train/images2'\n",
    "    if mask ==0:\n",
    "        state= 'mask'\n",
    "    elif mask == 1: \n",
    "        state= 'incorrect_mask'\n",
    "    else:\n",
    "        state= 'normal'\n",
    "        \n",
    "    name = idd+'_'+gender+f'_Asian_{age}/{state}_{num}.jpg'\n",
    "\n",
    "    path = os.path.join(output_dir, name)\n",
    "    img.save(path)\n",
    "  \n",
    "    return {\"ids\":idd, \"image_paths\": path,  \"mask_labels\":mask, \"gender_labels\":gender,\"age_labels\":age}"
   ]
  },
  {
   "cell_type": "code",
   "execution_count": 29,
   "id": "41b08179-5e4c-4465-a399-42f070315608",
   "metadata": {
    "collapsed": true,
    "jupyter": {
     "outputs_hidden": true
    },
    "tags": []
   },
   "outputs": [
    {
     "name": "stderr",
     "output_type": "stream",
     "text": [
      "/tmp/ipykernel_24298/253161635.py:9: FutureWarning: The frame.append method is deprecated and will be removed from pandas in a future version. Use pandas.concat instead.\n",
      "  new_df= new_df.append(data, ignore_index=True)\n",
      "/tmp/ipykernel_24298/253161635.py:9: FutureWarning: The frame.append method is deprecated and will be removed from pandas in a future version. Use pandas.concat instead.\n",
      "  new_df= new_df.append(data, ignore_index=True)\n",
      "/tmp/ipykernel_24298/253161635.py:9: FutureWarning: The frame.append method is deprecated and will be removed from pandas in a future version. Use pandas.concat instead.\n",
      "  new_df= new_df.append(data, ignore_index=True)\n",
      "/tmp/ipykernel_24298/253161635.py:9: FutureWarning: The frame.append method is deprecated and will be removed from pandas in a future version. Use pandas.concat instead.\n",
      "  new_df= new_df.append(data, ignore_index=True)\n",
      "/tmp/ipykernel_24298/253161635.py:9: FutureWarning: The frame.append method is deprecated and will be removed from pandas in a future version. Use pandas.concat instead.\n",
      "  new_df= new_df.append(data, ignore_index=True)\n",
      "/tmp/ipykernel_24298/253161635.py:9: FutureWarning: The frame.append method is deprecated and will be removed from pandas in a future version. Use pandas.concat instead.\n",
      "  new_df= new_df.append(data, ignore_index=True)\n",
      "/tmp/ipykernel_24298/253161635.py:9: FutureWarning: The frame.append method is deprecated and will be removed from pandas in a future version. Use pandas.concat instead.\n",
      "  new_df= new_df.append(data, ignore_index=True)\n",
      "/tmp/ipykernel_24298/253161635.py:9: FutureWarning: The frame.append method is deprecated and will be removed from pandas in a future version. Use pandas.concat instead.\n",
      "  new_df= new_df.append(data, ignore_index=True)\n",
      "/tmp/ipykernel_24298/253161635.py:9: FutureWarning: The frame.append method is deprecated and will be removed from pandas in a future version. Use pandas.concat instead.\n",
      "  new_df= new_df.append(data, ignore_index=True)\n",
      "/tmp/ipykernel_24298/253161635.py:9: FutureWarning: The frame.append method is deprecated and will be removed from pandas in a future version. Use pandas.concat instead.\n",
      "  new_df= new_df.append(data, ignore_index=True)\n",
      "/tmp/ipykernel_24298/253161635.py:9: FutureWarning: The frame.append method is deprecated and will be removed from pandas in a future version. Use pandas.concat instead.\n",
      "  new_df= new_df.append(data, ignore_index=True)\n",
      "/tmp/ipykernel_24298/253161635.py:9: FutureWarning: The frame.append method is deprecated and will be removed from pandas in a future version. Use pandas.concat instead.\n",
      "  new_df= new_df.append(data, ignore_index=True)\n",
      "/tmp/ipykernel_24298/253161635.py:9: FutureWarning: The frame.append method is deprecated and will be removed from pandas in a future version. Use pandas.concat instead.\n",
      "  new_df= new_df.append(data, ignore_index=True)\n",
      "/tmp/ipykernel_24298/253161635.py:9: FutureWarning: The frame.append method is deprecated and will be removed from pandas in a future version. Use pandas.concat instead.\n",
      "  new_df= new_df.append(data, ignore_index=True)\n",
      "/tmp/ipykernel_24298/253161635.py:9: FutureWarning: The frame.append method is deprecated and will be removed from pandas in a future version. Use pandas.concat instead.\n",
      "  new_df= new_df.append(data, ignore_index=True)\n",
      "/tmp/ipykernel_24298/253161635.py:9: FutureWarning: The frame.append method is deprecated and will be removed from pandas in a future version. Use pandas.concat instead.\n",
      "  new_df= new_df.append(data, ignore_index=True)\n",
      "/tmp/ipykernel_24298/253161635.py:9: FutureWarning: The frame.append method is deprecated and will be removed from pandas in a future version. Use pandas.concat instead.\n",
      "  new_df= new_df.append(data, ignore_index=True)\n",
      "/tmp/ipykernel_24298/253161635.py:9: FutureWarning: The frame.append method is deprecated and will be removed from pandas in a future version. Use pandas.concat instead.\n",
      "  new_df= new_df.append(data, ignore_index=True)\n",
      "/tmp/ipykernel_24298/253161635.py:9: FutureWarning: The frame.append method is deprecated and will be removed from pandas in a future version. Use pandas.concat instead.\n",
      "  new_df= new_df.append(data, ignore_index=True)\n",
      "/tmp/ipykernel_24298/253161635.py:9: FutureWarning: The frame.append method is deprecated and will be removed from pandas in a future version. Use pandas.concat instead.\n",
      "  new_df= new_df.append(data, ignore_index=True)\n",
      "/tmp/ipykernel_24298/253161635.py:9: FutureWarning: The frame.append method is deprecated and will be removed from pandas in a future version. Use pandas.concat instead.\n",
      "  new_df= new_df.append(data, ignore_index=True)\n",
      "/tmp/ipykernel_24298/253161635.py:9: FutureWarning: The frame.append method is deprecated and will be removed from pandas in a future version. Use pandas.concat instead.\n",
      "  new_df= new_df.append(data, ignore_index=True)\n",
      "/tmp/ipykernel_24298/253161635.py:9: FutureWarning: The frame.append method is deprecated and will be removed from pandas in a future version. Use pandas.concat instead.\n",
      "  new_df= new_df.append(data, ignore_index=True)\n",
      "/tmp/ipykernel_24298/253161635.py:9: FutureWarning: The frame.append method is deprecated and will be removed from pandas in a future version. Use pandas.concat instead.\n",
      "  new_df= new_df.append(data, ignore_index=True)\n",
      "/tmp/ipykernel_24298/253161635.py:9: FutureWarning: The frame.append method is deprecated and will be removed from pandas in a future version. Use pandas.concat instead.\n",
      "  new_df= new_df.append(data, ignore_index=True)\n",
      "/tmp/ipykernel_24298/253161635.py:9: FutureWarning: The frame.append method is deprecated and will be removed from pandas in a future version. Use pandas.concat instead.\n",
      "  new_df= new_df.append(data, ignore_index=True)\n",
      "/tmp/ipykernel_24298/253161635.py:9: FutureWarning: The frame.append method is deprecated and will be removed from pandas in a future version. Use pandas.concat instead.\n",
      "  new_df= new_df.append(data, ignore_index=True)\n",
      "/tmp/ipykernel_24298/253161635.py:9: FutureWarning: The frame.append method is deprecated and will be removed from pandas in a future version. Use pandas.concat instead.\n",
      "  new_df= new_df.append(data, ignore_index=True)\n",
      "/tmp/ipykernel_24298/253161635.py:9: FutureWarning: The frame.append method is deprecated and will be removed from pandas in a future version. Use pandas.concat instead.\n",
      "  new_df= new_df.append(data, ignore_index=True)\n",
      "/tmp/ipykernel_24298/253161635.py:9: FutureWarning: The frame.append method is deprecated and will be removed from pandas in a future version. Use pandas.concat instead.\n",
      "  new_df= new_df.append(data, ignore_index=True)\n",
      "/tmp/ipykernel_24298/253161635.py:9: FutureWarning: The frame.append method is deprecated and will be removed from pandas in a future version. Use pandas.concat instead.\n",
      "  new_df= new_df.append(data, ignore_index=True)\n",
      "/tmp/ipykernel_24298/253161635.py:9: FutureWarning: The frame.append method is deprecated and will be removed from pandas in a future version. Use pandas.concat instead.\n",
      "  new_df= new_df.append(data, ignore_index=True)\n",
      "/tmp/ipykernel_24298/253161635.py:9: FutureWarning: The frame.append method is deprecated and will be removed from pandas in a future version. Use pandas.concat instead.\n",
      "  new_df= new_df.append(data, ignore_index=True)\n",
      "/tmp/ipykernel_24298/253161635.py:9: FutureWarning: The frame.append method is deprecated and will be removed from pandas in a future version. Use pandas.concat instead.\n",
      "  new_df= new_df.append(data, ignore_index=True)\n",
      "/tmp/ipykernel_24298/253161635.py:9: FutureWarning: The frame.append method is deprecated and will be removed from pandas in a future version. Use pandas.concat instead.\n",
      "  new_df= new_df.append(data, ignore_index=True)\n",
      "/tmp/ipykernel_24298/253161635.py:9: FutureWarning: The frame.append method is deprecated and will be removed from pandas in a future version. Use pandas.concat instead.\n",
      "  new_df= new_df.append(data, ignore_index=True)\n",
      "/tmp/ipykernel_24298/253161635.py:9: FutureWarning: The frame.append method is deprecated and will be removed from pandas in a future version. Use pandas.concat instead.\n",
      "  new_df= new_df.append(data, ignore_index=True)\n",
      "/tmp/ipykernel_24298/253161635.py:9: FutureWarning: The frame.append method is deprecated and will be removed from pandas in a future version. Use pandas.concat instead.\n",
      "  new_df= new_df.append(data, ignore_index=True)\n",
      "/tmp/ipykernel_24298/253161635.py:9: FutureWarning: The frame.append method is deprecated and will be removed from pandas in a future version. Use pandas.concat instead.\n",
      "  new_df= new_df.append(data, ignore_index=True)\n",
      "/tmp/ipykernel_24298/253161635.py:9: FutureWarning: The frame.append method is deprecated and will be removed from pandas in a future version. Use pandas.concat instead.\n",
      "  new_df= new_df.append(data, ignore_index=True)\n",
      "/tmp/ipykernel_24298/253161635.py:9: FutureWarning: The frame.append method is deprecated and will be removed from pandas in a future version. Use pandas.concat instead.\n",
      "  new_df= new_df.append(data, ignore_index=True)\n",
      "/tmp/ipykernel_24298/253161635.py:9: FutureWarning: The frame.append method is deprecated and will be removed from pandas in a future version. Use pandas.concat instead.\n",
      "  new_df= new_df.append(data, ignore_index=True)\n",
      "/tmp/ipykernel_24298/253161635.py:9: FutureWarning: The frame.append method is deprecated and will be removed from pandas in a future version. Use pandas.concat instead.\n",
      "  new_df= new_df.append(data, ignore_index=True)\n",
      "/tmp/ipykernel_24298/253161635.py:9: FutureWarning: The frame.append method is deprecated and will be removed from pandas in a future version. Use pandas.concat instead.\n",
      "  new_df= new_df.append(data, ignore_index=True)\n",
      "/tmp/ipykernel_24298/253161635.py:9: FutureWarning: The frame.append method is deprecated and will be removed from pandas in a future version. Use pandas.concat instead.\n",
      "  new_df= new_df.append(data, ignore_index=True)\n",
      "/tmp/ipykernel_24298/253161635.py:9: FutureWarning: The frame.append method is deprecated and will be removed from pandas in a future version. Use pandas.concat instead.\n",
      "  new_df= new_df.append(data, ignore_index=True)\n",
      "/tmp/ipykernel_24298/253161635.py:9: FutureWarning: The frame.append method is deprecated and will be removed from pandas in a future version. Use pandas.concat instead.\n",
      "  new_df= new_df.append(data, ignore_index=True)\n",
      "/tmp/ipykernel_24298/253161635.py:9: FutureWarning: The frame.append method is deprecated and will be removed from pandas in a future version. Use pandas.concat instead.\n",
      "  new_df= new_df.append(data, ignore_index=True)\n",
      "/tmp/ipykernel_24298/253161635.py:9: FutureWarning: The frame.append method is deprecated and will be removed from pandas in a future version. Use pandas.concat instead.\n",
      "  new_df= new_df.append(data, ignore_index=True)\n",
      "/tmp/ipykernel_24298/253161635.py:9: FutureWarning: The frame.append method is deprecated and will be removed from pandas in a future version. Use pandas.concat instead.\n",
      "  new_df= new_df.append(data, ignore_index=True)\n",
      "/tmp/ipykernel_24298/253161635.py:9: FutureWarning: The frame.append method is deprecated and will be removed from pandas in a future version. Use pandas.concat instead.\n",
      "  new_df= new_df.append(data, ignore_index=True)\n",
      "/tmp/ipykernel_24298/253161635.py:9: FutureWarning: The frame.append method is deprecated and will be removed from pandas in a future version. Use pandas.concat instead.\n",
      "  new_df= new_df.append(data, ignore_index=True)\n",
      "/tmp/ipykernel_24298/253161635.py:9: FutureWarning: The frame.append method is deprecated and will be removed from pandas in a future version. Use pandas.concat instead.\n",
      "  new_df= new_df.append(data, ignore_index=True)\n",
      "/tmp/ipykernel_24298/253161635.py:9: FutureWarning: The frame.append method is deprecated and will be removed from pandas in a future version. Use pandas.concat instead.\n",
      "  new_df= new_df.append(data, ignore_index=True)\n",
      "/tmp/ipykernel_24298/253161635.py:9: FutureWarning: The frame.append method is deprecated and will be removed from pandas in a future version. Use pandas.concat instead.\n",
      "  new_df= new_df.append(data, ignore_index=True)\n",
      "/tmp/ipykernel_24298/253161635.py:9: FutureWarning: The frame.append method is deprecated and will be removed from pandas in a future version. Use pandas.concat instead.\n",
      "  new_df= new_df.append(data, ignore_index=True)\n",
      "/tmp/ipykernel_24298/253161635.py:9: FutureWarning: The frame.append method is deprecated and will be removed from pandas in a future version. Use pandas.concat instead.\n",
      "  new_df= new_df.append(data, ignore_index=True)\n",
      "/tmp/ipykernel_24298/253161635.py:9: FutureWarning: The frame.append method is deprecated and will be removed from pandas in a future version. Use pandas.concat instead.\n",
      "  new_df= new_df.append(data, ignore_index=True)\n",
      "/tmp/ipykernel_24298/253161635.py:9: FutureWarning: The frame.append method is deprecated and will be removed from pandas in a future version. Use pandas.concat instead.\n",
      "  new_df= new_df.append(data, ignore_index=True)\n",
      "/tmp/ipykernel_24298/253161635.py:9: FutureWarning: The frame.append method is deprecated and will be removed from pandas in a future version. Use pandas.concat instead.\n",
      "  new_df= new_df.append(data, ignore_index=True)\n",
      "/tmp/ipykernel_24298/253161635.py:9: FutureWarning: The frame.append method is deprecated and will be removed from pandas in a future version. Use pandas.concat instead.\n",
      "  new_df= new_df.append(data, ignore_index=True)\n",
      "/tmp/ipykernel_24298/253161635.py:9: FutureWarning: The frame.append method is deprecated and will be removed from pandas in a future version. Use pandas.concat instead.\n",
      "  new_df= new_df.append(data, ignore_index=True)\n",
      "/tmp/ipykernel_24298/253161635.py:9: FutureWarning: The frame.append method is deprecated and will be removed from pandas in a future version. Use pandas.concat instead.\n",
      "  new_df= new_df.append(data, ignore_index=True)\n",
      "/tmp/ipykernel_24298/253161635.py:9: FutureWarning: The frame.append method is deprecated and will be removed from pandas in a future version. Use pandas.concat instead.\n",
      "  new_df= new_df.append(data, ignore_index=True)\n",
      "/tmp/ipykernel_24298/253161635.py:9: FutureWarning: The frame.append method is deprecated and will be removed from pandas in a future version. Use pandas.concat instead.\n",
      "  new_df= new_df.append(data, ignore_index=True)\n",
      "/tmp/ipykernel_24298/253161635.py:9: FutureWarning: The frame.append method is deprecated and will be removed from pandas in a future version. Use pandas.concat instead.\n",
      "  new_df= new_df.append(data, ignore_index=True)\n",
      "/tmp/ipykernel_24298/253161635.py:9: FutureWarning: The frame.append method is deprecated and will be removed from pandas in a future version. Use pandas.concat instead.\n",
      "  new_df= new_df.append(data, ignore_index=True)\n",
      "/tmp/ipykernel_24298/253161635.py:9: FutureWarning: The frame.append method is deprecated and will be removed from pandas in a future version. Use pandas.concat instead.\n",
      "  new_df= new_df.append(data, ignore_index=True)\n",
      "/tmp/ipykernel_24298/253161635.py:9: FutureWarning: The frame.append method is deprecated and will be removed from pandas in a future version. Use pandas.concat instead.\n",
      "  new_df= new_df.append(data, ignore_index=True)\n",
      "/tmp/ipykernel_24298/253161635.py:9: FutureWarning: The frame.append method is deprecated and will be removed from pandas in a future version. Use pandas.concat instead.\n",
      "  new_df= new_df.append(data, ignore_index=True)\n",
      "/tmp/ipykernel_24298/253161635.py:9: FutureWarning: The frame.append method is deprecated and will be removed from pandas in a future version. Use pandas.concat instead.\n",
      "  new_df= new_df.append(data, ignore_index=True)\n",
      "/tmp/ipykernel_24298/253161635.py:9: FutureWarning: The frame.append method is deprecated and will be removed from pandas in a future version. Use pandas.concat instead.\n",
      "  new_df= new_df.append(data, ignore_index=True)\n",
      "/tmp/ipykernel_24298/253161635.py:9: FutureWarning: The frame.append method is deprecated and will be removed from pandas in a future version. Use pandas.concat instead.\n",
      "  new_df= new_df.append(data, ignore_index=True)\n",
      "/tmp/ipykernel_24298/253161635.py:9: FutureWarning: The frame.append method is deprecated and will be removed from pandas in a future version. Use pandas.concat instead.\n",
      "  new_df= new_df.append(data, ignore_index=True)\n",
      "/tmp/ipykernel_24298/253161635.py:9: FutureWarning: The frame.append method is deprecated and will be removed from pandas in a future version. Use pandas.concat instead.\n",
      "  new_df= new_df.append(data, ignore_index=True)\n",
      "/tmp/ipykernel_24298/253161635.py:9: FutureWarning: The frame.append method is deprecated and will be removed from pandas in a future version. Use pandas.concat instead.\n",
      "  new_df= new_df.append(data, ignore_index=True)\n",
      "/tmp/ipykernel_24298/253161635.py:9: FutureWarning: The frame.append method is deprecated and will be removed from pandas in a future version. Use pandas.concat instead.\n",
      "  new_df= new_df.append(data, ignore_index=True)\n",
      "/tmp/ipykernel_24298/253161635.py:9: FutureWarning: The frame.append method is deprecated and will be removed from pandas in a future version. Use pandas.concat instead.\n",
      "  new_df= new_df.append(data, ignore_index=True)\n",
      "/tmp/ipykernel_24298/253161635.py:9: FutureWarning: The frame.append method is deprecated and will be removed from pandas in a future version. Use pandas.concat instead.\n",
      "  new_df= new_df.append(data, ignore_index=True)\n",
      "/tmp/ipykernel_24298/253161635.py:9: FutureWarning: The frame.append method is deprecated and will be removed from pandas in a future version. Use pandas.concat instead.\n",
      "  new_df= new_df.append(data, ignore_index=True)\n",
      "/tmp/ipykernel_24298/253161635.py:9: FutureWarning: The frame.append method is deprecated and will be removed from pandas in a future version. Use pandas.concat instead.\n",
      "  new_df= new_df.append(data, ignore_index=True)\n",
      "/tmp/ipykernel_24298/253161635.py:9: FutureWarning: The frame.append method is deprecated and will be removed from pandas in a future version. Use pandas.concat instead.\n",
      "  new_df= new_df.append(data, ignore_index=True)\n",
      "/tmp/ipykernel_24298/253161635.py:9: FutureWarning: The frame.append method is deprecated and will be removed from pandas in a future version. Use pandas.concat instead.\n",
      "  new_df= new_df.append(data, ignore_index=True)\n",
      "/tmp/ipykernel_24298/253161635.py:9: FutureWarning: The frame.append method is deprecated and will be removed from pandas in a future version. Use pandas.concat instead.\n",
      "  new_df= new_df.append(data, ignore_index=True)\n",
      "/tmp/ipykernel_24298/253161635.py:9: FutureWarning: The frame.append method is deprecated and will be removed from pandas in a future version. Use pandas.concat instead.\n",
      "  new_df= new_df.append(data, ignore_index=True)\n",
      "/tmp/ipykernel_24298/253161635.py:9: FutureWarning: The frame.append method is deprecated and will be removed from pandas in a future version. Use pandas.concat instead.\n",
      "  new_df= new_df.append(data, ignore_index=True)\n",
      "/tmp/ipykernel_24298/253161635.py:9: FutureWarning: The frame.append method is deprecated and will be removed from pandas in a future version. Use pandas.concat instead.\n",
      "  new_df= new_df.append(data, ignore_index=True)\n",
      "/tmp/ipykernel_24298/253161635.py:9: FutureWarning: The frame.append method is deprecated and will be removed from pandas in a future version. Use pandas.concat instead.\n",
      "  new_df= new_df.append(data, ignore_index=True)\n",
      "/tmp/ipykernel_24298/253161635.py:9: FutureWarning: The frame.append method is deprecated and will be removed from pandas in a future version. Use pandas.concat instead.\n",
      "  new_df= new_df.append(data, ignore_index=True)\n",
      "/tmp/ipykernel_24298/253161635.py:9: FutureWarning: The frame.append method is deprecated and will be removed from pandas in a future version. Use pandas.concat instead.\n",
      "  new_df= new_df.append(data, ignore_index=True)\n",
      "/tmp/ipykernel_24298/253161635.py:9: FutureWarning: The frame.append method is deprecated and will be removed from pandas in a future version. Use pandas.concat instead.\n",
      "  new_df= new_df.append(data, ignore_index=True)\n",
      "/tmp/ipykernel_24298/253161635.py:9: FutureWarning: The frame.append method is deprecated and will be removed from pandas in a future version. Use pandas.concat instead.\n",
      "  new_df= new_df.append(data, ignore_index=True)\n",
      "/tmp/ipykernel_24298/253161635.py:9: FutureWarning: The frame.append method is deprecated and will be removed from pandas in a future version. Use pandas.concat instead.\n",
      "  new_df= new_df.append(data, ignore_index=True)\n",
      "/tmp/ipykernel_24298/253161635.py:9: FutureWarning: The frame.append method is deprecated and will be removed from pandas in a future version. Use pandas.concat instead.\n",
      "  new_df= new_df.append(data, ignore_index=True)\n",
      "/tmp/ipykernel_24298/253161635.py:9: FutureWarning: The frame.append method is deprecated and will be removed from pandas in a future version. Use pandas.concat instead.\n",
      "  new_df= new_df.append(data, ignore_index=True)\n",
      "/tmp/ipykernel_24298/253161635.py:9: FutureWarning: The frame.append method is deprecated and will be removed from pandas in a future version. Use pandas.concat instead.\n",
      "  new_df= new_df.append(data, ignore_index=True)\n",
      "/tmp/ipykernel_24298/253161635.py:9: FutureWarning: The frame.append method is deprecated and will be removed from pandas in a future version. Use pandas.concat instead.\n",
      "  new_df= new_df.append(data, ignore_index=True)\n",
      "/tmp/ipykernel_24298/253161635.py:9: FutureWarning: The frame.append method is deprecated and will be removed from pandas in a future version. Use pandas.concat instead.\n",
      "  new_df= new_df.append(data, ignore_index=True)\n",
      "/tmp/ipykernel_24298/253161635.py:9: FutureWarning: The frame.append method is deprecated and will be removed from pandas in a future version. Use pandas.concat instead.\n",
      "  new_df= new_df.append(data, ignore_index=True)\n",
      "/tmp/ipykernel_24298/253161635.py:9: FutureWarning: The frame.append method is deprecated and will be removed from pandas in a future version. Use pandas.concat instead.\n",
      "  new_df= new_df.append(data, ignore_index=True)\n",
      "/tmp/ipykernel_24298/253161635.py:9: FutureWarning: The frame.append method is deprecated and will be removed from pandas in a future version. Use pandas.concat instead.\n",
      "  new_df= new_df.append(data, ignore_index=True)\n",
      "/tmp/ipykernel_24298/253161635.py:9: FutureWarning: The frame.append method is deprecated and will be removed from pandas in a future version. Use pandas.concat instead.\n",
      "  new_df= new_df.append(data, ignore_index=True)\n",
      "/tmp/ipykernel_24298/253161635.py:9: FutureWarning: The frame.append method is deprecated and will be removed from pandas in a future version. Use pandas.concat instead.\n",
      "  new_df= new_df.append(data, ignore_index=True)\n",
      "/tmp/ipykernel_24298/253161635.py:9: FutureWarning: The frame.append method is deprecated and will be removed from pandas in a future version. Use pandas.concat instead.\n",
      "  new_df= new_df.append(data, ignore_index=True)\n",
      "/tmp/ipykernel_24298/253161635.py:9: FutureWarning: The frame.append method is deprecated and will be removed from pandas in a future version. Use pandas.concat instead.\n",
      "  new_df= new_df.append(data, ignore_index=True)\n",
      "/tmp/ipykernel_24298/253161635.py:9: FutureWarning: The frame.append method is deprecated and will be removed from pandas in a future version. Use pandas.concat instead.\n",
      "  new_df= new_df.append(data, ignore_index=True)\n",
      "/tmp/ipykernel_24298/253161635.py:9: FutureWarning: The frame.append method is deprecated and will be removed from pandas in a future version. Use pandas.concat instead.\n",
      "  new_df= new_df.append(data, ignore_index=True)\n",
      "/tmp/ipykernel_24298/253161635.py:9: FutureWarning: The frame.append method is deprecated and will be removed from pandas in a future version. Use pandas.concat instead.\n",
      "  new_df= new_df.append(data, ignore_index=True)\n",
      "/tmp/ipykernel_24298/253161635.py:9: FutureWarning: The frame.append method is deprecated and will be removed from pandas in a future version. Use pandas.concat instead.\n",
      "  new_df= new_df.append(data, ignore_index=True)\n",
      "/tmp/ipykernel_24298/253161635.py:9: FutureWarning: The frame.append method is deprecated and will be removed from pandas in a future version. Use pandas.concat instead.\n",
      "  new_df= new_df.append(data, ignore_index=True)\n",
      "/tmp/ipykernel_24298/253161635.py:9: FutureWarning: The frame.append method is deprecated and will be removed from pandas in a future version. Use pandas.concat instead.\n",
      "  new_df= new_df.append(data, ignore_index=True)\n",
      "/tmp/ipykernel_24298/253161635.py:9: FutureWarning: The frame.append method is deprecated and will be removed from pandas in a future version. Use pandas.concat instead.\n",
      "  new_df= new_df.append(data, ignore_index=True)\n",
      "/tmp/ipykernel_24298/253161635.py:9: FutureWarning: The frame.append method is deprecated and will be removed from pandas in a future version. Use pandas.concat instead.\n",
      "  new_df= new_df.append(data, ignore_index=True)\n",
      "/tmp/ipykernel_24298/253161635.py:9: FutureWarning: The frame.append method is deprecated and will be removed from pandas in a future version. Use pandas.concat instead.\n",
      "  new_df= new_df.append(data, ignore_index=True)\n",
      "/tmp/ipykernel_24298/253161635.py:9: FutureWarning: The frame.append method is deprecated and will be removed from pandas in a future version. Use pandas.concat instead.\n",
      "  new_df= new_df.append(data, ignore_index=True)\n",
      "/tmp/ipykernel_24298/253161635.py:9: FutureWarning: The frame.append method is deprecated and will be removed from pandas in a future version. Use pandas.concat instead.\n",
      "  new_df= new_df.append(data, ignore_index=True)\n",
      "/tmp/ipykernel_24298/253161635.py:9: FutureWarning: The frame.append method is deprecated and will be removed from pandas in a future version. Use pandas.concat instead.\n",
      "  new_df= new_df.append(data, ignore_index=True)\n",
      "/tmp/ipykernel_24298/253161635.py:9: FutureWarning: The frame.append method is deprecated and will be removed from pandas in a future version. Use pandas.concat instead.\n",
      "  new_df= new_df.append(data, ignore_index=True)\n",
      "/tmp/ipykernel_24298/253161635.py:9: FutureWarning: The frame.append method is deprecated and will be removed from pandas in a future version. Use pandas.concat instead.\n",
      "  new_df= new_df.append(data, ignore_index=True)\n",
      "/tmp/ipykernel_24298/253161635.py:9: FutureWarning: The frame.append method is deprecated and will be removed from pandas in a future version. Use pandas.concat instead.\n",
      "  new_df= new_df.append(data, ignore_index=True)\n",
      "/tmp/ipykernel_24298/253161635.py:9: FutureWarning: The frame.append method is deprecated and will be removed from pandas in a future version. Use pandas.concat instead.\n",
      "  new_df= new_df.append(data, ignore_index=True)\n",
      "/tmp/ipykernel_24298/253161635.py:9: FutureWarning: The frame.append method is deprecated and will be removed from pandas in a future version. Use pandas.concat instead.\n",
      "  new_df= new_df.append(data, ignore_index=True)\n",
      "/tmp/ipykernel_24298/253161635.py:9: FutureWarning: The frame.append method is deprecated and will be removed from pandas in a future version. Use pandas.concat instead.\n",
      "  new_df= new_df.append(data, ignore_index=True)\n",
      "/tmp/ipykernel_24298/253161635.py:9: FutureWarning: The frame.append method is deprecated and will be removed from pandas in a future version. Use pandas.concat instead.\n",
      "  new_df= new_df.append(data, ignore_index=True)\n",
      "/tmp/ipykernel_24298/253161635.py:9: FutureWarning: The frame.append method is deprecated and will be removed from pandas in a future version. Use pandas.concat instead.\n",
      "  new_df= new_df.append(data, ignore_index=True)\n",
      "/tmp/ipykernel_24298/253161635.py:9: FutureWarning: The frame.append method is deprecated and will be removed from pandas in a future version. Use pandas.concat instead.\n",
      "  new_df= new_df.append(data, ignore_index=True)\n",
      "/tmp/ipykernel_24298/253161635.py:9: FutureWarning: The frame.append method is deprecated and will be removed from pandas in a future version. Use pandas.concat instead.\n",
      "  new_df= new_df.append(data, ignore_index=True)\n",
      "/tmp/ipykernel_24298/253161635.py:9: FutureWarning: The frame.append method is deprecated and will be removed from pandas in a future version. Use pandas.concat instead.\n",
      "  new_df= new_df.append(data, ignore_index=True)\n",
      "/tmp/ipykernel_24298/253161635.py:9: FutureWarning: The frame.append method is deprecated and will be removed from pandas in a future version. Use pandas.concat instead.\n",
      "  new_df= new_df.append(data, ignore_index=True)\n",
      "/tmp/ipykernel_24298/253161635.py:9: FutureWarning: The frame.append method is deprecated and will be removed from pandas in a future version. Use pandas.concat instead.\n",
      "  new_df= new_df.append(data, ignore_index=True)\n",
      "/tmp/ipykernel_24298/253161635.py:9: FutureWarning: The frame.append method is deprecated and will be removed from pandas in a future version. Use pandas.concat instead.\n",
      "  new_df= new_df.append(data, ignore_index=True)\n",
      "/tmp/ipykernel_24298/253161635.py:9: FutureWarning: The frame.append method is deprecated and will be removed from pandas in a future version. Use pandas.concat instead.\n",
      "  new_df= new_df.append(data, ignore_index=True)\n",
      "/tmp/ipykernel_24298/253161635.py:9: FutureWarning: The frame.append method is deprecated and will be removed from pandas in a future version. Use pandas.concat instead.\n",
      "  new_df= new_df.append(data, ignore_index=True)\n",
      "/tmp/ipykernel_24298/253161635.py:9: FutureWarning: The frame.append method is deprecated and will be removed from pandas in a future version. Use pandas.concat instead.\n",
      "  new_df= new_df.append(data, ignore_index=True)\n",
      "/tmp/ipykernel_24298/253161635.py:9: FutureWarning: The frame.append method is deprecated and will be removed from pandas in a future version. Use pandas.concat instead.\n",
      "  new_df= new_df.append(data, ignore_index=True)\n",
      "/tmp/ipykernel_24298/253161635.py:9: FutureWarning: The frame.append method is deprecated and will be removed from pandas in a future version. Use pandas.concat instead.\n",
      "  new_df= new_df.append(data, ignore_index=True)\n",
      "/tmp/ipykernel_24298/253161635.py:9: FutureWarning: The frame.append method is deprecated and will be removed from pandas in a future version. Use pandas.concat instead.\n",
      "  new_df= new_df.append(data, ignore_index=True)\n",
      "/tmp/ipykernel_24298/253161635.py:9: FutureWarning: The frame.append method is deprecated and will be removed from pandas in a future version. Use pandas.concat instead.\n",
      "  new_df= new_df.append(data, ignore_index=True)\n",
      "/tmp/ipykernel_24298/253161635.py:9: FutureWarning: The frame.append method is deprecated and will be removed from pandas in a future version. Use pandas.concat instead.\n",
      "  new_df= new_df.append(data, ignore_index=True)\n",
      "/tmp/ipykernel_24298/253161635.py:9: FutureWarning: The frame.append method is deprecated and will be removed from pandas in a future version. Use pandas.concat instead.\n",
      "  new_df= new_df.append(data, ignore_index=True)\n",
      "/tmp/ipykernel_24298/253161635.py:9: FutureWarning: The frame.append method is deprecated and will be removed from pandas in a future version. Use pandas.concat instead.\n",
      "  new_df= new_df.append(data, ignore_index=True)\n",
      "/tmp/ipykernel_24298/253161635.py:9: FutureWarning: The frame.append method is deprecated and will be removed from pandas in a future version. Use pandas.concat instead.\n",
      "  new_df= new_df.append(data, ignore_index=True)\n",
      "/tmp/ipykernel_24298/253161635.py:9: FutureWarning: The frame.append method is deprecated and will be removed from pandas in a future version. Use pandas.concat instead.\n",
      "  new_df= new_df.append(data, ignore_index=True)\n",
      "/tmp/ipykernel_24298/253161635.py:9: FutureWarning: The frame.append method is deprecated and will be removed from pandas in a future version. Use pandas.concat instead.\n",
      "  new_df= new_df.append(data, ignore_index=True)\n",
      "/tmp/ipykernel_24298/253161635.py:9: FutureWarning: The frame.append method is deprecated and will be removed from pandas in a future version. Use pandas.concat instead.\n",
      "  new_df= new_df.append(data, ignore_index=True)\n",
      "/tmp/ipykernel_24298/253161635.py:9: FutureWarning: The frame.append method is deprecated and will be removed from pandas in a future version. Use pandas.concat instead.\n",
      "  new_df= new_df.append(data, ignore_index=True)\n",
      "/tmp/ipykernel_24298/253161635.py:9: FutureWarning: The frame.append method is deprecated and will be removed from pandas in a future version. Use pandas.concat instead.\n",
      "  new_df= new_df.append(data, ignore_index=True)\n",
      "/tmp/ipykernel_24298/253161635.py:9: FutureWarning: The frame.append method is deprecated and will be removed from pandas in a future version. Use pandas.concat instead.\n",
      "  new_df= new_df.append(data, ignore_index=True)\n",
      "/tmp/ipykernel_24298/253161635.py:9: FutureWarning: The frame.append method is deprecated and will be removed from pandas in a future version. Use pandas.concat instead.\n",
      "  new_df= new_df.append(data, ignore_index=True)\n",
      "/tmp/ipykernel_24298/253161635.py:9: FutureWarning: The frame.append method is deprecated and will be removed from pandas in a future version. Use pandas.concat instead.\n",
      "  new_df= new_df.append(data, ignore_index=True)\n",
      "/tmp/ipykernel_24298/253161635.py:9: FutureWarning: The frame.append method is deprecated and will be removed from pandas in a future version. Use pandas.concat instead.\n",
      "  new_df= new_df.append(data, ignore_index=True)\n",
      "/tmp/ipykernel_24298/253161635.py:9: FutureWarning: The frame.append method is deprecated and will be removed from pandas in a future version. Use pandas.concat instead.\n",
      "  new_df= new_df.append(data, ignore_index=True)\n",
      "/tmp/ipykernel_24298/253161635.py:9: FutureWarning: The frame.append method is deprecated and will be removed from pandas in a future version. Use pandas.concat instead.\n",
      "  new_df= new_df.append(data, ignore_index=True)\n",
      "/tmp/ipykernel_24298/253161635.py:9: FutureWarning: The frame.append method is deprecated and will be removed from pandas in a future version. Use pandas.concat instead.\n",
      "  new_df= new_df.append(data, ignore_index=True)\n",
      "/tmp/ipykernel_24298/253161635.py:9: FutureWarning: The frame.append method is deprecated and will be removed from pandas in a future version. Use pandas.concat instead.\n",
      "  new_df= new_df.append(data, ignore_index=True)\n",
      "/tmp/ipykernel_24298/253161635.py:9: FutureWarning: The frame.append method is deprecated and will be removed from pandas in a future version. Use pandas.concat instead.\n",
      "  new_df= new_df.append(data, ignore_index=True)\n",
      "/tmp/ipykernel_24298/253161635.py:9: FutureWarning: The frame.append method is deprecated and will be removed from pandas in a future version. Use pandas.concat instead.\n",
      "  new_df= new_df.append(data, ignore_index=True)\n",
      "/tmp/ipykernel_24298/253161635.py:9: FutureWarning: The frame.append method is deprecated and will be removed from pandas in a future version. Use pandas.concat instead.\n",
      "  new_df= new_df.append(data, ignore_index=True)\n",
      "/tmp/ipykernel_24298/253161635.py:9: FutureWarning: The frame.append method is deprecated and will be removed from pandas in a future version. Use pandas.concat instead.\n",
      "  new_df= new_df.append(data, ignore_index=True)\n",
      "/tmp/ipykernel_24298/253161635.py:9: FutureWarning: The frame.append method is deprecated and will be removed from pandas in a future version. Use pandas.concat instead.\n",
      "  new_df= new_df.append(data, ignore_index=True)\n",
      "/tmp/ipykernel_24298/253161635.py:9: FutureWarning: The frame.append method is deprecated and will be removed from pandas in a future version. Use pandas.concat instead.\n",
      "  new_df= new_df.append(data, ignore_index=True)\n",
      "/tmp/ipykernel_24298/253161635.py:9: FutureWarning: The frame.append method is deprecated and will be removed from pandas in a future version. Use pandas.concat instead.\n",
      "  new_df= new_df.append(data, ignore_index=True)\n",
      "/tmp/ipykernel_24298/253161635.py:9: FutureWarning: The frame.append method is deprecated and will be removed from pandas in a future version. Use pandas.concat instead.\n",
      "  new_df= new_df.append(data, ignore_index=True)\n",
      "/tmp/ipykernel_24298/253161635.py:9: FutureWarning: The frame.append method is deprecated and will be removed from pandas in a future version. Use pandas.concat instead.\n",
      "  new_df= new_df.append(data, ignore_index=True)\n",
      "/tmp/ipykernel_24298/253161635.py:9: FutureWarning: The frame.append method is deprecated and will be removed from pandas in a future version. Use pandas.concat instead.\n",
      "  new_df= new_df.append(data, ignore_index=True)\n",
      "/tmp/ipykernel_24298/253161635.py:9: FutureWarning: The frame.append method is deprecated and will be removed from pandas in a future version. Use pandas.concat instead.\n",
      "  new_df= new_df.append(data, ignore_index=True)\n",
      "/tmp/ipykernel_24298/253161635.py:9: FutureWarning: The frame.append method is deprecated and will be removed from pandas in a future version. Use pandas.concat instead.\n",
      "  new_df= new_df.append(data, ignore_index=True)\n",
      "/tmp/ipykernel_24298/253161635.py:9: FutureWarning: The frame.append method is deprecated and will be removed from pandas in a future version. Use pandas.concat instead.\n",
      "  new_df= new_df.append(data, ignore_index=True)\n",
      "/tmp/ipykernel_24298/253161635.py:9: FutureWarning: The frame.append method is deprecated and will be removed from pandas in a future version. Use pandas.concat instead.\n",
      "  new_df= new_df.append(data, ignore_index=True)\n",
      "/tmp/ipykernel_24298/253161635.py:9: FutureWarning: The frame.append method is deprecated and will be removed from pandas in a future version. Use pandas.concat instead.\n",
      "  new_df= new_df.append(data, ignore_index=True)\n",
      "/tmp/ipykernel_24298/253161635.py:9: FutureWarning: The frame.append method is deprecated and will be removed from pandas in a future version. Use pandas.concat instead.\n",
      "  new_df= new_df.append(data, ignore_index=True)\n",
      "/tmp/ipykernel_24298/253161635.py:9: FutureWarning: The frame.append method is deprecated and will be removed from pandas in a future version. Use pandas.concat instead.\n",
      "  new_df= new_df.append(data, ignore_index=True)\n",
      "/tmp/ipykernel_24298/253161635.py:9: FutureWarning: The frame.append method is deprecated and will be removed from pandas in a future version. Use pandas.concat instead.\n",
      "  new_df= new_df.append(data, ignore_index=True)\n",
      "/tmp/ipykernel_24298/253161635.py:9: FutureWarning: The frame.append method is deprecated and will be removed from pandas in a future version. Use pandas.concat instead.\n",
      "  new_df= new_df.append(data, ignore_index=True)\n",
      "/tmp/ipykernel_24298/253161635.py:9: FutureWarning: The frame.append method is deprecated and will be removed from pandas in a future version. Use pandas.concat instead.\n",
      "  new_df= new_df.append(data, ignore_index=True)\n",
      "/tmp/ipykernel_24298/253161635.py:9: FutureWarning: The frame.append method is deprecated and will be removed from pandas in a future version. Use pandas.concat instead.\n",
      "  new_df= new_df.append(data, ignore_index=True)\n",
      "/tmp/ipykernel_24298/253161635.py:9: FutureWarning: The frame.append method is deprecated and will be removed from pandas in a future version. Use pandas.concat instead.\n",
      "  new_df= new_df.append(data, ignore_index=True)\n",
      "/tmp/ipykernel_24298/253161635.py:9: FutureWarning: The frame.append method is deprecated and will be removed from pandas in a future version. Use pandas.concat instead.\n",
      "  new_df= new_df.append(data, ignore_index=True)\n",
      "/tmp/ipykernel_24298/253161635.py:9: FutureWarning: The frame.append method is deprecated and will be removed from pandas in a future version. Use pandas.concat instead.\n",
      "  new_df= new_df.append(data, ignore_index=True)\n",
      "/tmp/ipykernel_24298/253161635.py:9: FutureWarning: The frame.append method is deprecated and will be removed from pandas in a future version. Use pandas.concat instead.\n",
      "  new_df= new_df.append(data, ignore_index=True)\n",
      "/tmp/ipykernel_24298/253161635.py:9: FutureWarning: The frame.append method is deprecated and will be removed from pandas in a future version. Use pandas.concat instead.\n",
      "  new_df= new_df.append(data, ignore_index=True)\n",
      "/tmp/ipykernel_24298/253161635.py:9: FutureWarning: The frame.append method is deprecated and will be removed from pandas in a future version. Use pandas.concat instead.\n",
      "  new_df= new_df.append(data, ignore_index=True)\n",
      "/tmp/ipykernel_24298/253161635.py:9: FutureWarning: The frame.append method is deprecated and will be removed from pandas in a future version. Use pandas.concat instead.\n",
      "  new_df= new_df.append(data, ignore_index=True)\n",
      "/tmp/ipykernel_24298/253161635.py:9: FutureWarning: The frame.append method is deprecated and will be removed from pandas in a future version. Use pandas.concat instead.\n",
      "  new_df= new_df.append(data, ignore_index=True)\n",
      "/tmp/ipykernel_24298/253161635.py:9: FutureWarning: The frame.append method is deprecated and will be removed from pandas in a future version. Use pandas.concat instead.\n",
      "  new_df= new_df.append(data, ignore_index=True)\n",
      "/tmp/ipykernel_24298/253161635.py:9: FutureWarning: The frame.append method is deprecated and will be removed from pandas in a future version. Use pandas.concat instead.\n",
      "  new_df= new_df.append(data, ignore_index=True)\n",
      "/tmp/ipykernel_24298/253161635.py:9: FutureWarning: The frame.append method is deprecated and will be removed from pandas in a future version. Use pandas.concat instead.\n",
      "  new_df= new_df.append(data, ignore_index=True)\n",
      "/tmp/ipykernel_24298/253161635.py:9: FutureWarning: The frame.append method is deprecated and will be removed from pandas in a future version. Use pandas.concat instead.\n",
      "  new_df= new_df.append(data, ignore_index=True)\n",
      "/tmp/ipykernel_24298/253161635.py:9: FutureWarning: The frame.append method is deprecated and will be removed from pandas in a future version. Use pandas.concat instead.\n",
      "  new_df= new_df.append(data, ignore_index=True)\n",
      "/tmp/ipykernel_24298/253161635.py:9: FutureWarning: The frame.append method is deprecated and will be removed from pandas in a future version. Use pandas.concat instead.\n",
      "  new_df= new_df.append(data, ignore_index=True)\n",
      "/tmp/ipykernel_24298/253161635.py:9: FutureWarning: The frame.append method is deprecated and will be removed from pandas in a future version. Use pandas.concat instead.\n",
      "  new_df= new_df.append(data, ignore_index=True)\n",
      "/tmp/ipykernel_24298/253161635.py:9: FutureWarning: The frame.append method is deprecated and will be removed from pandas in a future version. Use pandas.concat instead.\n",
      "  new_df= new_df.append(data, ignore_index=True)\n",
      "/tmp/ipykernel_24298/253161635.py:9: FutureWarning: The frame.append method is deprecated and will be removed from pandas in a future version. Use pandas.concat instead.\n",
      "  new_df= new_df.append(data, ignore_index=True)\n",
      "/tmp/ipykernel_24298/253161635.py:9: FutureWarning: The frame.append method is deprecated and will be removed from pandas in a future version. Use pandas.concat instead.\n",
      "  new_df= new_df.append(data, ignore_index=True)\n",
      "/tmp/ipykernel_24298/253161635.py:9: FutureWarning: The frame.append method is deprecated and will be removed from pandas in a future version. Use pandas.concat instead.\n",
      "  new_df= new_df.append(data, ignore_index=True)\n",
      "/tmp/ipykernel_24298/253161635.py:9: FutureWarning: The frame.append method is deprecated and will be removed from pandas in a future version. Use pandas.concat instead.\n",
      "  new_df= new_df.append(data, ignore_index=True)\n",
      "/tmp/ipykernel_24298/253161635.py:9: FutureWarning: The frame.append method is deprecated and will be removed from pandas in a future version. Use pandas.concat instead.\n",
      "  new_df= new_df.append(data, ignore_index=True)\n",
      "/tmp/ipykernel_24298/253161635.py:9: FutureWarning: The frame.append method is deprecated and will be removed from pandas in a future version. Use pandas.concat instead.\n",
      "  new_df= new_df.append(data, ignore_index=True)\n",
      "/tmp/ipykernel_24298/253161635.py:9: FutureWarning: The frame.append method is deprecated and will be removed from pandas in a future version. Use pandas.concat instead.\n",
      "  new_df= new_df.append(data, ignore_index=True)\n",
      "/tmp/ipykernel_24298/253161635.py:9: FutureWarning: The frame.append method is deprecated and will be removed from pandas in a future version. Use pandas.concat instead.\n",
      "  new_df= new_df.append(data, ignore_index=True)\n",
      "/tmp/ipykernel_24298/253161635.py:9: FutureWarning: The frame.append method is deprecated and will be removed from pandas in a future version. Use pandas.concat instead.\n",
      "  new_df= new_df.append(data, ignore_index=True)\n",
      "/tmp/ipykernel_24298/253161635.py:9: FutureWarning: The frame.append method is deprecated and will be removed from pandas in a future version. Use pandas.concat instead.\n",
      "  new_df= new_df.append(data, ignore_index=True)\n",
      "/tmp/ipykernel_24298/253161635.py:9: FutureWarning: The frame.append method is deprecated and will be removed from pandas in a future version. Use pandas.concat instead.\n",
      "  new_df= new_df.append(data, ignore_index=True)\n",
      "/tmp/ipykernel_24298/253161635.py:9: FutureWarning: The frame.append method is deprecated and will be removed from pandas in a future version. Use pandas.concat instead.\n",
      "  new_df= new_df.append(data, ignore_index=True)\n",
      "/tmp/ipykernel_24298/253161635.py:9: FutureWarning: The frame.append method is deprecated and will be removed from pandas in a future version. Use pandas.concat instead.\n",
      "  new_df= new_df.append(data, ignore_index=True)\n",
      "/tmp/ipykernel_24298/253161635.py:9: FutureWarning: The frame.append method is deprecated and will be removed from pandas in a future version. Use pandas.concat instead.\n",
      "  new_df= new_df.append(data, ignore_index=True)\n",
      "/tmp/ipykernel_24298/253161635.py:9: FutureWarning: The frame.append method is deprecated and will be removed from pandas in a future version. Use pandas.concat instead.\n",
      "  new_df= new_df.append(data, ignore_index=True)\n",
      "/tmp/ipykernel_24298/253161635.py:9: FutureWarning: The frame.append method is deprecated and will be removed from pandas in a future version. Use pandas.concat instead.\n",
      "  new_df= new_df.append(data, ignore_index=True)\n",
      "/tmp/ipykernel_24298/253161635.py:9: FutureWarning: The frame.append method is deprecated and will be removed from pandas in a future version. Use pandas.concat instead.\n",
      "  new_df= new_df.append(data, ignore_index=True)\n",
      "/tmp/ipykernel_24298/253161635.py:9: FutureWarning: The frame.append method is deprecated and will be removed from pandas in a future version. Use pandas.concat instead.\n",
      "  new_df= new_df.append(data, ignore_index=True)\n",
      "/tmp/ipykernel_24298/253161635.py:9: FutureWarning: The frame.append method is deprecated and will be removed from pandas in a future version. Use pandas.concat instead.\n",
      "  new_df= new_df.append(data, ignore_index=True)\n",
      "/tmp/ipykernel_24298/253161635.py:9: FutureWarning: The frame.append method is deprecated and will be removed from pandas in a future version. Use pandas.concat instead.\n",
      "  new_df= new_df.append(data, ignore_index=True)\n",
      "/tmp/ipykernel_24298/253161635.py:9: FutureWarning: The frame.append method is deprecated and will be removed from pandas in a future version. Use pandas.concat instead.\n",
      "  new_df= new_df.append(data, ignore_index=True)\n",
      "/tmp/ipykernel_24298/253161635.py:9: FutureWarning: The frame.append method is deprecated and will be removed from pandas in a future version. Use pandas.concat instead.\n",
      "  new_df= new_df.append(data, ignore_index=True)\n",
      "/tmp/ipykernel_24298/253161635.py:9: FutureWarning: The frame.append method is deprecated and will be removed from pandas in a future version. Use pandas.concat instead.\n",
      "  new_df= new_df.append(data, ignore_index=True)\n",
      "/tmp/ipykernel_24298/253161635.py:9: FutureWarning: The frame.append method is deprecated and will be removed from pandas in a future version. Use pandas.concat instead.\n",
      "  new_df= new_df.append(data, ignore_index=True)\n",
      "/tmp/ipykernel_24298/253161635.py:9: FutureWarning: The frame.append method is deprecated and will be removed from pandas in a future version. Use pandas.concat instead.\n",
      "  new_df= new_df.append(data, ignore_index=True)\n",
      "/tmp/ipykernel_24298/253161635.py:9: FutureWarning: The frame.append method is deprecated and will be removed from pandas in a future version. Use pandas.concat instead.\n",
      "  new_df= new_df.append(data, ignore_index=True)\n",
      "/tmp/ipykernel_24298/253161635.py:9: FutureWarning: The frame.append method is deprecated and will be removed from pandas in a future version. Use pandas.concat instead.\n",
      "  new_df= new_df.append(data, ignore_index=True)\n",
      "/tmp/ipykernel_24298/253161635.py:9: FutureWarning: The frame.append method is deprecated and will be removed from pandas in a future version. Use pandas.concat instead.\n",
      "  new_df= new_df.append(data, ignore_index=True)\n",
      "/tmp/ipykernel_24298/253161635.py:9: FutureWarning: The frame.append method is deprecated and will be removed from pandas in a future version. Use pandas.concat instead.\n",
      "  new_df= new_df.append(data, ignore_index=True)\n",
      "/tmp/ipykernel_24298/253161635.py:9: FutureWarning: The frame.append method is deprecated and will be removed from pandas in a future version. Use pandas.concat instead.\n",
      "  new_df= new_df.append(data, ignore_index=True)\n",
      "/tmp/ipykernel_24298/253161635.py:9: FutureWarning: The frame.append method is deprecated and will be removed from pandas in a future version. Use pandas.concat instead.\n",
      "  new_df= new_df.append(data, ignore_index=True)\n",
      "/tmp/ipykernel_24298/253161635.py:9: FutureWarning: The frame.append method is deprecated and will be removed from pandas in a future version. Use pandas.concat instead.\n",
      "  new_df= new_df.append(data, ignore_index=True)\n",
      "/tmp/ipykernel_24298/253161635.py:9: FutureWarning: The frame.append method is deprecated and will be removed from pandas in a future version. Use pandas.concat instead.\n",
      "  new_df= new_df.append(data, ignore_index=True)\n",
      "/tmp/ipykernel_24298/253161635.py:9: FutureWarning: The frame.append method is deprecated and will be removed from pandas in a future version. Use pandas.concat instead.\n",
      "  new_df= new_df.append(data, ignore_index=True)\n",
      "/tmp/ipykernel_24298/253161635.py:9: FutureWarning: The frame.append method is deprecated and will be removed from pandas in a future version. Use pandas.concat instead.\n",
      "  new_df= new_df.append(data, ignore_index=True)\n",
      "/tmp/ipykernel_24298/253161635.py:9: FutureWarning: The frame.append method is deprecated and will be removed from pandas in a future version. Use pandas.concat instead.\n",
      "  new_df= new_df.append(data, ignore_index=True)\n",
      "/tmp/ipykernel_24298/253161635.py:9: FutureWarning: The frame.append method is deprecated and will be removed from pandas in a future version. Use pandas.concat instead.\n",
      "  new_df= new_df.append(data, ignore_index=True)\n",
      "/tmp/ipykernel_24298/253161635.py:9: FutureWarning: The frame.append method is deprecated and will be removed from pandas in a future version. Use pandas.concat instead.\n",
      "  new_df= new_df.append(data, ignore_index=True)\n",
      "/tmp/ipykernel_24298/253161635.py:9: FutureWarning: The frame.append method is deprecated and will be removed from pandas in a future version. Use pandas.concat instead.\n",
      "  new_df= new_df.append(data, ignore_index=True)\n",
      "/tmp/ipykernel_24298/253161635.py:9: FutureWarning: The frame.append method is deprecated and will be removed from pandas in a future version. Use pandas.concat instead.\n",
      "  new_df= new_df.append(data, ignore_index=True)\n",
      "/tmp/ipykernel_24298/253161635.py:9: FutureWarning: The frame.append method is deprecated and will be removed from pandas in a future version. Use pandas.concat instead.\n",
      "  new_df= new_df.append(data, ignore_index=True)\n",
      "/tmp/ipykernel_24298/253161635.py:9: FutureWarning: The frame.append method is deprecated and will be removed from pandas in a future version. Use pandas.concat instead.\n",
      "  new_df= new_df.append(data, ignore_index=True)\n",
      "/tmp/ipykernel_24298/253161635.py:9: FutureWarning: The frame.append method is deprecated and will be removed from pandas in a future version. Use pandas.concat instead.\n",
      "  new_df= new_df.append(data, ignore_index=True)\n",
      "/tmp/ipykernel_24298/253161635.py:9: FutureWarning: The frame.append method is deprecated and will be removed from pandas in a future version. Use pandas.concat instead.\n",
      "  new_df= new_df.append(data, ignore_index=True)\n",
      "/tmp/ipykernel_24298/253161635.py:9: FutureWarning: The frame.append method is deprecated and will be removed from pandas in a future version. Use pandas.concat instead.\n",
      "  new_df= new_df.append(data, ignore_index=True)\n",
      "/tmp/ipykernel_24298/253161635.py:9: FutureWarning: The frame.append method is deprecated and will be removed from pandas in a future version. Use pandas.concat instead.\n",
      "  new_df= new_df.append(data, ignore_index=True)\n",
      "/tmp/ipykernel_24298/253161635.py:9: FutureWarning: The frame.append method is deprecated and will be removed from pandas in a future version. Use pandas.concat instead.\n",
      "  new_df= new_df.append(data, ignore_index=True)\n",
      "/tmp/ipykernel_24298/253161635.py:9: FutureWarning: The frame.append method is deprecated and will be removed from pandas in a future version. Use pandas.concat instead.\n",
      "  new_df= new_df.append(data, ignore_index=True)\n",
      "/tmp/ipykernel_24298/253161635.py:9: FutureWarning: The frame.append method is deprecated and will be removed from pandas in a future version. Use pandas.concat instead.\n",
      "  new_df= new_df.append(data, ignore_index=True)\n",
      "/tmp/ipykernel_24298/253161635.py:9: FutureWarning: The frame.append method is deprecated and will be removed from pandas in a future version. Use pandas.concat instead.\n",
      "  new_df= new_df.append(data, ignore_index=True)\n",
      "/tmp/ipykernel_24298/253161635.py:9: FutureWarning: The frame.append method is deprecated and will be removed from pandas in a future version. Use pandas.concat instead.\n",
      "  new_df= new_df.append(data, ignore_index=True)\n",
      "/tmp/ipykernel_24298/253161635.py:9: FutureWarning: The frame.append method is deprecated and will be removed from pandas in a future version. Use pandas.concat instead.\n",
      "  new_df= new_df.append(data, ignore_index=True)\n",
      "/tmp/ipykernel_24298/253161635.py:9: FutureWarning: The frame.append method is deprecated and will be removed from pandas in a future version. Use pandas.concat instead.\n",
      "  new_df= new_df.append(data, ignore_index=True)\n",
      "/tmp/ipykernel_24298/253161635.py:9: FutureWarning: The frame.append method is deprecated and will be removed from pandas in a future version. Use pandas.concat instead.\n",
      "  new_df= new_df.append(data, ignore_index=True)\n",
      "/tmp/ipykernel_24298/253161635.py:9: FutureWarning: The frame.append method is deprecated and will be removed from pandas in a future version. Use pandas.concat instead.\n",
      "  new_df= new_df.append(data, ignore_index=True)\n",
      "/tmp/ipykernel_24298/253161635.py:9: FutureWarning: The frame.append method is deprecated and will be removed from pandas in a future version. Use pandas.concat instead.\n",
      "  new_df= new_df.append(data, ignore_index=True)\n",
      "/tmp/ipykernel_24298/253161635.py:9: FutureWarning: The frame.append method is deprecated and will be removed from pandas in a future version. Use pandas.concat instead.\n",
      "  new_df= new_df.append(data, ignore_index=True)\n",
      "/tmp/ipykernel_24298/253161635.py:9: FutureWarning: The frame.append method is deprecated and will be removed from pandas in a future version. Use pandas.concat instead.\n",
      "  new_df= new_df.append(data, ignore_index=True)\n",
      "/tmp/ipykernel_24298/253161635.py:9: FutureWarning: The frame.append method is deprecated and will be removed from pandas in a future version. Use pandas.concat instead.\n",
      "  new_df= new_df.append(data, ignore_index=True)\n",
      "/tmp/ipykernel_24298/253161635.py:9: FutureWarning: The frame.append method is deprecated and will be removed from pandas in a future version. Use pandas.concat instead.\n",
      "  new_df= new_df.append(data, ignore_index=True)\n",
      "/tmp/ipykernel_24298/253161635.py:9: FutureWarning: The frame.append method is deprecated and will be removed from pandas in a future version. Use pandas.concat instead.\n",
      "  new_df= new_df.append(data, ignore_index=True)\n",
      "/tmp/ipykernel_24298/253161635.py:9: FutureWarning: The frame.append method is deprecated and will be removed from pandas in a future version. Use pandas.concat instead.\n",
      "  new_df= new_df.append(data, ignore_index=True)\n",
      "/tmp/ipykernel_24298/253161635.py:9: FutureWarning: The frame.append method is deprecated and will be removed from pandas in a future version. Use pandas.concat instead.\n",
      "  new_df= new_df.append(data, ignore_index=True)\n",
      "/tmp/ipykernel_24298/253161635.py:9: FutureWarning: The frame.append method is deprecated and will be removed from pandas in a future version. Use pandas.concat instead.\n",
      "  new_df= new_df.append(data, ignore_index=True)\n",
      "/tmp/ipykernel_24298/253161635.py:9: FutureWarning: The frame.append method is deprecated and will be removed from pandas in a future version. Use pandas.concat instead.\n",
      "  new_df= new_df.append(data, ignore_index=True)\n",
      "/tmp/ipykernel_24298/253161635.py:9: FutureWarning: The frame.append method is deprecated and will be removed from pandas in a future version. Use pandas.concat instead.\n",
      "  new_df= new_df.append(data, ignore_index=True)\n",
      "/tmp/ipykernel_24298/253161635.py:9: FutureWarning: The frame.append method is deprecated and will be removed from pandas in a future version. Use pandas.concat instead.\n",
      "  new_df= new_df.append(data, ignore_index=True)\n",
      "/tmp/ipykernel_24298/253161635.py:9: FutureWarning: The frame.append method is deprecated and will be removed from pandas in a future version. Use pandas.concat instead.\n",
      "  new_df= new_df.append(data, ignore_index=True)\n",
      "/tmp/ipykernel_24298/253161635.py:9: FutureWarning: The frame.append method is deprecated and will be removed from pandas in a future version. Use pandas.concat instead.\n",
      "  new_df= new_df.append(data, ignore_index=True)\n",
      "/tmp/ipykernel_24298/253161635.py:9: FutureWarning: The frame.append method is deprecated and will be removed from pandas in a future version. Use pandas.concat instead.\n",
      "  new_df= new_df.append(data, ignore_index=True)\n",
      "/tmp/ipykernel_24298/253161635.py:9: FutureWarning: The frame.append method is deprecated and will be removed from pandas in a future version. Use pandas.concat instead.\n",
      "  new_df= new_df.append(data, ignore_index=True)\n",
      "/tmp/ipykernel_24298/253161635.py:9: FutureWarning: The frame.append method is deprecated and will be removed from pandas in a future version. Use pandas.concat instead.\n",
      "  new_df= new_df.append(data, ignore_index=True)\n",
      "/tmp/ipykernel_24298/253161635.py:9: FutureWarning: The frame.append method is deprecated and will be removed from pandas in a future version. Use pandas.concat instead.\n",
      "  new_df= new_df.append(data, ignore_index=True)\n",
      "/tmp/ipykernel_24298/253161635.py:9: FutureWarning: The frame.append method is deprecated and will be removed from pandas in a future version. Use pandas.concat instead.\n",
      "  new_df= new_df.append(data, ignore_index=True)\n",
      "/tmp/ipykernel_24298/253161635.py:9: FutureWarning: The frame.append method is deprecated and will be removed from pandas in a future version. Use pandas.concat instead.\n",
      "  new_df= new_df.append(data, ignore_index=True)\n",
      "/tmp/ipykernel_24298/253161635.py:9: FutureWarning: The frame.append method is deprecated and will be removed from pandas in a future version. Use pandas.concat instead.\n",
      "  new_df= new_df.append(data, ignore_index=True)\n",
      "/tmp/ipykernel_24298/253161635.py:9: FutureWarning: The frame.append method is deprecated and will be removed from pandas in a future version. Use pandas.concat instead.\n",
      "  new_df= new_df.append(data, ignore_index=True)\n",
      "/tmp/ipykernel_24298/253161635.py:9: FutureWarning: The frame.append method is deprecated and will be removed from pandas in a future version. Use pandas.concat instead.\n",
      "  new_df= new_df.append(data, ignore_index=True)\n",
      "/tmp/ipykernel_24298/253161635.py:9: FutureWarning: The frame.append method is deprecated and will be removed from pandas in a future version. Use pandas.concat instead.\n",
      "  new_df= new_df.append(data, ignore_index=True)\n",
      "/tmp/ipykernel_24298/253161635.py:9: FutureWarning: The frame.append method is deprecated and will be removed from pandas in a future version. Use pandas.concat instead.\n",
      "  new_df= new_df.append(data, ignore_index=True)\n",
      "/tmp/ipykernel_24298/253161635.py:9: FutureWarning: The frame.append method is deprecated and will be removed from pandas in a future version. Use pandas.concat instead.\n",
      "  new_df= new_df.append(data, ignore_index=True)\n",
      "/tmp/ipykernel_24298/253161635.py:9: FutureWarning: The frame.append method is deprecated and will be removed from pandas in a future version. Use pandas.concat instead.\n",
      "  new_df= new_df.append(data, ignore_index=True)\n",
      "/tmp/ipykernel_24298/253161635.py:9: FutureWarning: The frame.append method is deprecated and will be removed from pandas in a future version. Use pandas.concat instead.\n",
      "  new_df= new_df.append(data, ignore_index=True)\n",
      "/tmp/ipykernel_24298/253161635.py:9: FutureWarning: The frame.append method is deprecated and will be removed from pandas in a future version. Use pandas.concat instead.\n",
      "  new_df= new_df.append(data, ignore_index=True)\n",
      "/tmp/ipykernel_24298/253161635.py:9: FutureWarning: The frame.append method is deprecated and will be removed from pandas in a future version. Use pandas.concat instead.\n",
      "  new_df= new_df.append(data, ignore_index=True)\n",
      "/tmp/ipykernel_24298/253161635.py:9: FutureWarning: The frame.append method is deprecated and will be removed from pandas in a future version. Use pandas.concat instead.\n",
      "  new_df= new_df.append(data, ignore_index=True)\n",
      "/tmp/ipykernel_24298/253161635.py:9: FutureWarning: The frame.append method is deprecated and will be removed from pandas in a future version. Use pandas.concat instead.\n",
      "  new_df= new_df.append(data, ignore_index=True)\n",
      "/tmp/ipykernel_24298/253161635.py:9: FutureWarning: The frame.append method is deprecated and will be removed from pandas in a future version. Use pandas.concat instead.\n",
      "  new_df= new_df.append(data, ignore_index=True)\n",
      "/tmp/ipykernel_24298/253161635.py:9: FutureWarning: The frame.append method is deprecated and will be removed from pandas in a future version. Use pandas.concat instead.\n",
      "  new_df= new_df.append(data, ignore_index=True)\n",
      "/tmp/ipykernel_24298/253161635.py:9: FutureWarning: The frame.append method is deprecated and will be removed from pandas in a future version. Use pandas.concat instead.\n",
      "  new_df= new_df.append(data, ignore_index=True)\n",
      "/tmp/ipykernel_24298/253161635.py:9: FutureWarning: The frame.append method is deprecated and will be removed from pandas in a future version. Use pandas.concat instead.\n",
      "  new_df= new_df.append(data, ignore_index=True)\n",
      "/tmp/ipykernel_24298/253161635.py:9: FutureWarning: The frame.append method is deprecated and will be removed from pandas in a future version. Use pandas.concat instead.\n",
      "  new_df= new_df.append(data, ignore_index=True)\n",
      "/tmp/ipykernel_24298/253161635.py:9: FutureWarning: The frame.append method is deprecated and will be removed from pandas in a future version. Use pandas.concat instead.\n",
      "  new_df= new_df.append(data, ignore_index=True)\n",
      "/tmp/ipykernel_24298/253161635.py:9: FutureWarning: The frame.append method is deprecated and will be removed from pandas in a future version. Use pandas.concat instead.\n",
      "  new_df= new_df.append(data, ignore_index=True)\n",
      "/tmp/ipykernel_24298/253161635.py:9: FutureWarning: The frame.append method is deprecated and will be removed from pandas in a future version. Use pandas.concat instead.\n",
      "  new_df= new_df.append(data, ignore_index=True)\n",
      "/tmp/ipykernel_24298/253161635.py:9: FutureWarning: The frame.append method is deprecated and will be removed from pandas in a future version. Use pandas.concat instead.\n",
      "  new_df= new_df.append(data, ignore_index=True)\n",
      "/tmp/ipykernel_24298/253161635.py:9: FutureWarning: The frame.append method is deprecated and will be removed from pandas in a future version. Use pandas.concat instead.\n",
      "  new_df= new_df.append(data, ignore_index=True)\n",
      "/tmp/ipykernel_24298/253161635.py:9: FutureWarning: The frame.append method is deprecated and will be removed from pandas in a future version. Use pandas.concat instead.\n",
      "  new_df= new_df.append(data, ignore_index=True)\n",
      "/tmp/ipykernel_24298/253161635.py:9: FutureWarning: The frame.append method is deprecated and will be removed from pandas in a future version. Use pandas.concat instead.\n",
      "  new_df= new_df.append(data, ignore_index=True)\n",
      "/tmp/ipykernel_24298/253161635.py:9: FutureWarning: The frame.append method is deprecated and will be removed from pandas in a future version. Use pandas.concat instead.\n",
      "  new_df= new_df.append(data, ignore_index=True)\n",
      "/tmp/ipykernel_24298/253161635.py:9: FutureWarning: The frame.append method is deprecated and will be removed from pandas in a future version. Use pandas.concat instead.\n",
      "  new_df= new_df.append(data, ignore_index=True)\n",
      "/tmp/ipykernel_24298/253161635.py:9: FutureWarning: The frame.append method is deprecated and will be removed from pandas in a future version. Use pandas.concat instead.\n",
      "  new_df= new_df.append(data, ignore_index=True)\n",
      "/tmp/ipykernel_24298/253161635.py:9: FutureWarning: The frame.append method is deprecated and will be removed from pandas in a future version. Use pandas.concat instead.\n",
      "  new_df= new_df.append(data, ignore_index=True)\n",
      "/tmp/ipykernel_24298/253161635.py:9: FutureWarning: The frame.append method is deprecated and will be removed from pandas in a future version. Use pandas.concat instead.\n",
      "  new_df= new_df.append(data, ignore_index=True)\n",
      "/tmp/ipykernel_24298/253161635.py:9: FutureWarning: The frame.append method is deprecated and will be removed from pandas in a future version. Use pandas.concat instead.\n",
      "  new_df= new_df.append(data, ignore_index=True)\n",
      "/tmp/ipykernel_24298/253161635.py:9: FutureWarning: The frame.append method is deprecated and will be removed from pandas in a future version. Use pandas.concat instead.\n",
      "  new_df= new_df.append(data, ignore_index=True)\n",
      "/tmp/ipykernel_24298/253161635.py:9: FutureWarning: The frame.append method is deprecated and will be removed from pandas in a future version. Use pandas.concat instead.\n",
      "  new_df= new_df.append(data, ignore_index=True)\n",
      "/tmp/ipykernel_24298/253161635.py:9: FutureWarning: The frame.append method is deprecated and will be removed from pandas in a future version. Use pandas.concat instead.\n",
      "  new_df= new_df.append(data, ignore_index=True)\n",
      "/tmp/ipykernel_24298/253161635.py:9: FutureWarning: The frame.append method is deprecated and will be removed from pandas in a future version. Use pandas.concat instead.\n",
      "  new_df= new_df.append(data, ignore_index=True)\n",
      "/tmp/ipykernel_24298/253161635.py:9: FutureWarning: The frame.append method is deprecated and will be removed from pandas in a future version. Use pandas.concat instead.\n",
      "  new_df= new_df.append(data, ignore_index=True)\n",
      "/tmp/ipykernel_24298/253161635.py:9: FutureWarning: The frame.append method is deprecated and will be removed from pandas in a future version. Use pandas.concat instead.\n",
      "  new_df= new_df.append(data, ignore_index=True)\n",
      "/tmp/ipykernel_24298/253161635.py:9: FutureWarning: The frame.append method is deprecated and will be removed from pandas in a future version. Use pandas.concat instead.\n",
      "  new_df= new_df.append(data, ignore_index=True)\n",
      "/tmp/ipykernel_24298/253161635.py:9: FutureWarning: The frame.append method is deprecated and will be removed from pandas in a future version. Use pandas.concat instead.\n",
      "  new_df= new_df.append(data, ignore_index=True)\n",
      "/tmp/ipykernel_24298/253161635.py:9: FutureWarning: The frame.append method is deprecated and will be removed from pandas in a future version. Use pandas.concat instead.\n",
      "  new_df= new_df.append(data, ignore_index=True)\n",
      "/tmp/ipykernel_24298/253161635.py:9: FutureWarning: The frame.append method is deprecated and will be removed from pandas in a future version. Use pandas.concat instead.\n",
      "  new_df= new_df.append(data, ignore_index=True)\n",
      "/tmp/ipykernel_24298/253161635.py:9: FutureWarning: The frame.append method is deprecated and will be removed from pandas in a future version. Use pandas.concat instead.\n",
      "  new_df= new_df.append(data, ignore_index=True)\n",
      "/tmp/ipykernel_24298/253161635.py:9: FutureWarning: The frame.append method is deprecated and will be removed from pandas in a future version. Use pandas.concat instead.\n",
      "  new_df= new_df.append(data, ignore_index=True)\n",
      "/tmp/ipykernel_24298/253161635.py:9: FutureWarning: The frame.append method is deprecated and will be removed from pandas in a future version. Use pandas.concat instead.\n",
      "  new_df= new_df.append(data, ignore_index=True)\n",
      "/tmp/ipykernel_24298/253161635.py:9: FutureWarning: The frame.append method is deprecated and will be removed from pandas in a future version. Use pandas.concat instead.\n",
      "  new_df= new_df.append(data, ignore_index=True)\n",
      "/tmp/ipykernel_24298/253161635.py:9: FutureWarning: The frame.append method is deprecated and will be removed from pandas in a future version. Use pandas.concat instead.\n",
      "  new_df= new_df.append(data, ignore_index=True)\n",
      "/tmp/ipykernel_24298/253161635.py:9: FutureWarning: The frame.append method is deprecated and will be removed from pandas in a future version. Use pandas.concat instead.\n",
      "  new_df= new_df.append(data, ignore_index=True)\n",
      "/tmp/ipykernel_24298/253161635.py:9: FutureWarning: The frame.append method is deprecated and will be removed from pandas in a future version. Use pandas.concat instead.\n",
      "  new_df= new_df.append(data, ignore_index=True)\n",
      "/tmp/ipykernel_24298/253161635.py:9: FutureWarning: The frame.append method is deprecated and will be removed from pandas in a future version. Use pandas.concat instead.\n",
      "  new_df= new_df.append(data, ignore_index=True)\n",
      "/tmp/ipykernel_24298/253161635.py:9: FutureWarning: The frame.append method is deprecated and will be removed from pandas in a future version. Use pandas.concat instead.\n",
      "  new_df= new_df.append(data, ignore_index=True)\n",
      "/tmp/ipykernel_24298/253161635.py:9: FutureWarning: The frame.append method is deprecated and will be removed from pandas in a future version. Use pandas.concat instead.\n",
      "  new_df= new_df.append(data, ignore_index=True)\n",
      "/tmp/ipykernel_24298/253161635.py:9: FutureWarning: The frame.append method is deprecated and will be removed from pandas in a future version. Use pandas.concat instead.\n",
      "  new_df= new_df.append(data, ignore_index=True)\n",
      "/tmp/ipykernel_24298/253161635.py:9: FutureWarning: The frame.append method is deprecated and will be removed from pandas in a future version. Use pandas.concat instead.\n",
      "  new_df= new_df.append(data, ignore_index=True)\n",
      "/tmp/ipykernel_24298/253161635.py:9: FutureWarning: The frame.append method is deprecated and will be removed from pandas in a future version. Use pandas.concat instead.\n",
      "  new_df= new_df.append(data, ignore_index=True)\n",
      "/tmp/ipykernel_24298/253161635.py:9: FutureWarning: The frame.append method is deprecated and will be removed from pandas in a future version. Use pandas.concat instead.\n",
      "  new_df= new_df.append(data, ignore_index=True)\n",
      "/tmp/ipykernel_24298/253161635.py:9: FutureWarning: The frame.append method is deprecated and will be removed from pandas in a future version. Use pandas.concat instead.\n",
      "  new_df= new_df.append(data, ignore_index=True)\n",
      "/tmp/ipykernel_24298/253161635.py:9: FutureWarning: The frame.append method is deprecated and will be removed from pandas in a future version. Use pandas.concat instead.\n",
      "  new_df= new_df.append(data, ignore_index=True)\n",
      "/tmp/ipykernel_24298/253161635.py:9: FutureWarning: The frame.append method is deprecated and will be removed from pandas in a future version. Use pandas.concat instead.\n",
      "  new_df= new_df.append(data, ignore_index=True)\n",
      "/tmp/ipykernel_24298/253161635.py:9: FutureWarning: The frame.append method is deprecated and will be removed from pandas in a future version. Use pandas.concat instead.\n",
      "  new_df= new_df.append(data, ignore_index=True)\n",
      "/tmp/ipykernel_24298/253161635.py:9: FutureWarning: The frame.append method is deprecated and will be removed from pandas in a future version. Use pandas.concat instead.\n",
      "  new_df= new_df.append(data, ignore_index=True)\n",
      "/tmp/ipykernel_24298/253161635.py:9: FutureWarning: The frame.append method is deprecated and will be removed from pandas in a future version. Use pandas.concat instead.\n",
      "  new_df= new_df.append(data, ignore_index=True)\n",
      "/tmp/ipykernel_24298/253161635.py:9: FutureWarning: The frame.append method is deprecated and will be removed from pandas in a future version. Use pandas.concat instead.\n",
      "  new_df= new_df.append(data, ignore_index=True)\n",
      "/tmp/ipykernel_24298/253161635.py:9: FutureWarning: The frame.append method is deprecated and will be removed from pandas in a future version. Use pandas.concat instead.\n",
      "  new_df= new_df.append(data, ignore_index=True)\n",
      "/tmp/ipykernel_24298/253161635.py:9: FutureWarning: The frame.append method is deprecated and will be removed from pandas in a future version. Use pandas.concat instead.\n",
      "  new_df= new_df.append(data, ignore_index=True)\n",
      "/tmp/ipykernel_24298/253161635.py:9: FutureWarning: The frame.append method is deprecated and will be removed from pandas in a future version. Use pandas.concat instead.\n",
      "  new_df= new_df.append(data, ignore_index=True)\n",
      "/tmp/ipykernel_24298/253161635.py:9: FutureWarning: The frame.append method is deprecated and will be removed from pandas in a future version. Use pandas.concat instead.\n",
      "  new_df= new_df.append(data, ignore_index=True)\n",
      "/tmp/ipykernel_24298/253161635.py:9: FutureWarning: The frame.append method is deprecated and will be removed from pandas in a future version. Use pandas.concat instead.\n",
      "  new_df= new_df.append(data, ignore_index=True)\n",
      "/tmp/ipykernel_24298/253161635.py:9: FutureWarning: The frame.append method is deprecated and will be removed from pandas in a future version. Use pandas.concat instead.\n",
      "  new_df= new_df.append(data, ignore_index=True)\n",
      "/tmp/ipykernel_24298/253161635.py:9: FutureWarning: The frame.append method is deprecated and will be removed from pandas in a future version. Use pandas.concat instead.\n",
      "  new_df= new_df.append(data, ignore_index=True)\n",
      "/tmp/ipykernel_24298/253161635.py:9: FutureWarning: The frame.append method is deprecated and will be removed from pandas in a future version. Use pandas.concat instead.\n",
      "  new_df= new_df.append(data, ignore_index=True)\n",
      "/tmp/ipykernel_24298/253161635.py:9: FutureWarning: The frame.append method is deprecated and will be removed from pandas in a future version. Use pandas.concat instead.\n",
      "  new_df= new_df.append(data, ignore_index=True)\n",
      "/tmp/ipykernel_24298/253161635.py:9: FutureWarning: The frame.append method is deprecated and will be removed from pandas in a future version. Use pandas.concat instead.\n",
      "  new_df= new_df.append(data, ignore_index=True)\n",
      "/tmp/ipykernel_24298/253161635.py:9: FutureWarning: The frame.append method is deprecated and will be removed from pandas in a future version. Use pandas.concat instead.\n",
      "  new_df= new_df.append(data, ignore_index=True)\n",
      "/tmp/ipykernel_24298/253161635.py:9: FutureWarning: The frame.append method is deprecated and will be removed from pandas in a future version. Use pandas.concat instead.\n",
      "  new_df= new_df.append(data, ignore_index=True)\n",
      "/tmp/ipykernel_24298/253161635.py:9: FutureWarning: The frame.append method is deprecated and will be removed from pandas in a future version. Use pandas.concat instead.\n",
      "  new_df= new_df.append(data, ignore_index=True)\n",
      "/tmp/ipykernel_24298/253161635.py:9: FutureWarning: The frame.append method is deprecated and will be removed from pandas in a future version. Use pandas.concat instead.\n",
      "  new_df= new_df.append(data, ignore_index=True)\n",
      "/tmp/ipykernel_24298/253161635.py:9: FutureWarning: The frame.append method is deprecated and will be removed from pandas in a future version. Use pandas.concat instead.\n",
      "  new_df= new_df.append(data, ignore_index=True)\n",
      "/tmp/ipykernel_24298/253161635.py:9: FutureWarning: The frame.append method is deprecated and will be removed from pandas in a future version. Use pandas.concat instead.\n",
      "  new_df= new_df.append(data, ignore_index=True)\n",
      "/tmp/ipykernel_24298/253161635.py:9: FutureWarning: The frame.append method is deprecated and will be removed from pandas in a future version. Use pandas.concat instead.\n",
      "  new_df= new_df.append(data, ignore_index=True)\n",
      "/tmp/ipykernel_24298/253161635.py:9: FutureWarning: The frame.append method is deprecated and will be removed from pandas in a future version. Use pandas.concat instead.\n",
      "  new_df= new_df.append(data, ignore_index=True)\n",
      "/tmp/ipykernel_24298/253161635.py:9: FutureWarning: The frame.append method is deprecated and will be removed from pandas in a future version. Use pandas.concat instead.\n",
      "  new_df= new_df.append(data, ignore_index=True)\n",
      "/tmp/ipykernel_24298/253161635.py:9: FutureWarning: The frame.append method is deprecated and will be removed from pandas in a future version. Use pandas.concat instead.\n",
      "  new_df= new_df.append(data, ignore_index=True)\n",
      "/tmp/ipykernel_24298/253161635.py:9: FutureWarning: The frame.append method is deprecated and will be removed from pandas in a future version. Use pandas.concat instead.\n",
      "  new_df= new_df.append(data, ignore_index=True)\n",
      "/tmp/ipykernel_24298/253161635.py:9: FutureWarning: The frame.append method is deprecated and will be removed from pandas in a future version. Use pandas.concat instead.\n",
      "  new_df= new_df.append(data, ignore_index=True)\n",
      "/tmp/ipykernel_24298/253161635.py:9: FutureWarning: The frame.append method is deprecated and will be removed from pandas in a future version. Use pandas.concat instead.\n",
      "  new_df= new_df.append(data, ignore_index=True)\n",
      "/tmp/ipykernel_24298/253161635.py:9: FutureWarning: The frame.append method is deprecated and will be removed from pandas in a future version. Use pandas.concat instead.\n",
      "  new_df= new_df.append(data, ignore_index=True)\n",
      "/tmp/ipykernel_24298/253161635.py:9: FutureWarning: The frame.append method is deprecated and will be removed from pandas in a future version. Use pandas.concat instead.\n",
      "  new_df= new_df.append(data, ignore_index=True)\n",
      "/tmp/ipykernel_24298/253161635.py:9: FutureWarning: The frame.append method is deprecated and will be removed from pandas in a future version. Use pandas.concat instead.\n",
      "  new_df= new_df.append(data, ignore_index=True)\n",
      "/tmp/ipykernel_24298/253161635.py:9: FutureWarning: The frame.append method is deprecated and will be removed from pandas in a future version. Use pandas.concat instead.\n",
      "  new_df= new_df.append(data, ignore_index=True)\n",
      "/tmp/ipykernel_24298/253161635.py:9: FutureWarning: The frame.append method is deprecated and will be removed from pandas in a future version. Use pandas.concat instead.\n",
      "  new_df= new_df.append(data, ignore_index=True)\n",
      "/tmp/ipykernel_24298/253161635.py:9: FutureWarning: The frame.append method is deprecated and will be removed from pandas in a future version. Use pandas.concat instead.\n",
      "  new_df= new_df.append(data, ignore_index=True)\n",
      "/tmp/ipykernel_24298/253161635.py:9: FutureWarning: The frame.append method is deprecated and will be removed from pandas in a future version. Use pandas.concat instead.\n",
      "  new_df= new_df.append(data, ignore_index=True)\n",
      "/tmp/ipykernel_24298/253161635.py:9: FutureWarning: The frame.append method is deprecated and will be removed from pandas in a future version. Use pandas.concat instead.\n",
      "  new_df= new_df.append(data, ignore_index=True)\n",
      "/tmp/ipykernel_24298/253161635.py:9: FutureWarning: The frame.append method is deprecated and will be removed from pandas in a future version. Use pandas.concat instead.\n",
      "  new_df= new_df.append(data, ignore_index=True)\n",
      "/tmp/ipykernel_24298/253161635.py:9: FutureWarning: The frame.append method is deprecated and will be removed from pandas in a future version. Use pandas.concat instead.\n",
      "  new_df= new_df.append(data, ignore_index=True)\n",
      "/tmp/ipykernel_24298/253161635.py:9: FutureWarning: The frame.append method is deprecated and will be removed from pandas in a future version. Use pandas.concat instead.\n",
      "  new_df= new_df.append(data, ignore_index=True)\n",
      "/tmp/ipykernel_24298/253161635.py:9: FutureWarning: The frame.append method is deprecated and will be removed from pandas in a future version. Use pandas.concat instead.\n",
      "  new_df= new_df.append(data, ignore_index=True)\n",
      "/tmp/ipykernel_24298/253161635.py:9: FutureWarning: The frame.append method is deprecated and will be removed from pandas in a future version. Use pandas.concat instead.\n",
      "  new_df= new_df.append(data, ignore_index=True)\n",
      "/tmp/ipykernel_24298/253161635.py:9: FutureWarning: The frame.append method is deprecated and will be removed from pandas in a future version. Use pandas.concat instead.\n",
      "  new_df= new_df.append(data, ignore_index=True)\n",
      "/tmp/ipykernel_24298/253161635.py:9: FutureWarning: The frame.append method is deprecated and will be removed from pandas in a future version. Use pandas.concat instead.\n",
      "  new_df= new_df.append(data, ignore_index=True)\n",
      "/tmp/ipykernel_24298/253161635.py:9: FutureWarning: The frame.append method is deprecated and will be removed from pandas in a future version. Use pandas.concat instead.\n",
      "  new_df= new_df.append(data, ignore_index=True)\n",
      "/tmp/ipykernel_24298/253161635.py:9: FutureWarning: The frame.append method is deprecated and will be removed from pandas in a future version. Use pandas.concat instead.\n",
      "  new_df= new_df.append(data, ignore_index=True)\n",
      "/tmp/ipykernel_24298/253161635.py:9: FutureWarning: The frame.append method is deprecated and will be removed from pandas in a future version. Use pandas.concat instead.\n",
      "  new_df= new_df.append(data, ignore_index=True)\n",
      "/tmp/ipykernel_24298/253161635.py:9: FutureWarning: The frame.append method is deprecated and will be removed from pandas in a future version. Use pandas.concat instead.\n",
      "  new_df= new_df.append(data, ignore_index=True)\n",
      "/tmp/ipykernel_24298/253161635.py:9: FutureWarning: The frame.append method is deprecated and will be removed from pandas in a future version. Use pandas.concat instead.\n",
      "  new_df= new_df.append(data, ignore_index=True)\n",
      "/tmp/ipykernel_24298/253161635.py:9: FutureWarning: The frame.append method is deprecated and will be removed from pandas in a future version. Use pandas.concat instead.\n",
      "  new_df= new_df.append(data, ignore_index=True)\n",
      "/tmp/ipykernel_24298/253161635.py:9: FutureWarning: The frame.append method is deprecated and will be removed from pandas in a future version. Use pandas.concat instead.\n",
      "  new_df= new_df.append(data, ignore_index=True)\n",
      "/tmp/ipykernel_24298/253161635.py:9: FutureWarning: The frame.append method is deprecated and will be removed from pandas in a future version. Use pandas.concat instead.\n",
      "  new_df= new_df.append(data, ignore_index=True)\n",
      "/tmp/ipykernel_24298/253161635.py:9: FutureWarning: The frame.append method is deprecated and will be removed from pandas in a future version. Use pandas.concat instead.\n",
      "  new_df= new_df.append(data, ignore_index=True)\n",
      "/tmp/ipykernel_24298/253161635.py:9: FutureWarning: The frame.append method is deprecated and will be removed from pandas in a future version. Use pandas.concat instead.\n",
      "  new_df= new_df.append(data, ignore_index=True)\n",
      "/tmp/ipykernel_24298/253161635.py:9: FutureWarning: The frame.append method is deprecated and will be removed from pandas in a future version. Use pandas.concat instead.\n",
      "  new_df= new_df.append(data, ignore_index=True)\n",
      "/tmp/ipykernel_24298/253161635.py:9: FutureWarning: The frame.append method is deprecated and will be removed from pandas in a future version. Use pandas.concat instead.\n",
      "  new_df= new_df.append(data, ignore_index=True)\n",
      "/tmp/ipykernel_24298/253161635.py:9: FutureWarning: The frame.append method is deprecated and will be removed from pandas in a future version. Use pandas.concat instead.\n",
      "  new_df= new_df.append(data, ignore_index=True)\n",
      "/tmp/ipykernel_24298/253161635.py:9: FutureWarning: The frame.append method is deprecated and will be removed from pandas in a future version. Use pandas.concat instead.\n",
      "  new_df= new_df.append(data, ignore_index=True)\n",
      "/tmp/ipykernel_24298/253161635.py:9: FutureWarning: The frame.append method is deprecated and will be removed from pandas in a future version. Use pandas.concat instead.\n",
      "  new_df= new_df.append(data, ignore_index=True)\n",
      "/tmp/ipykernel_24298/253161635.py:9: FutureWarning: The frame.append method is deprecated and will be removed from pandas in a future version. Use pandas.concat instead.\n",
      "  new_df= new_df.append(data, ignore_index=True)\n",
      "/tmp/ipykernel_24298/253161635.py:9: FutureWarning: The frame.append method is deprecated and will be removed from pandas in a future version. Use pandas.concat instead.\n",
      "  new_df= new_df.append(data, ignore_index=True)\n",
      "/tmp/ipykernel_24298/253161635.py:9: FutureWarning: The frame.append method is deprecated and will be removed from pandas in a future version. Use pandas.concat instead.\n",
      "  new_df= new_df.append(data, ignore_index=True)\n",
      "/tmp/ipykernel_24298/253161635.py:9: FutureWarning: The frame.append method is deprecated and will be removed from pandas in a future version. Use pandas.concat instead.\n",
      "  new_df= new_df.append(data, ignore_index=True)\n",
      "/tmp/ipykernel_24298/253161635.py:9: FutureWarning: The frame.append method is deprecated and will be removed from pandas in a future version. Use pandas.concat instead.\n",
      "  new_df= new_df.append(data, ignore_index=True)\n",
      "/tmp/ipykernel_24298/253161635.py:9: FutureWarning: The frame.append method is deprecated and will be removed from pandas in a future version. Use pandas.concat instead.\n",
      "  new_df= new_df.append(data, ignore_index=True)\n",
      "/tmp/ipykernel_24298/253161635.py:9: FutureWarning: The frame.append method is deprecated and will be removed from pandas in a future version. Use pandas.concat instead.\n",
      "  new_df= new_df.append(data, ignore_index=True)\n",
      "/tmp/ipykernel_24298/253161635.py:9: FutureWarning: The frame.append method is deprecated and will be removed from pandas in a future version. Use pandas.concat instead.\n",
      "  new_df= new_df.append(data, ignore_index=True)\n",
      "/tmp/ipykernel_24298/253161635.py:9: FutureWarning: The frame.append method is deprecated and will be removed from pandas in a future version. Use pandas.concat instead.\n",
      "  new_df= new_df.append(data, ignore_index=True)\n",
      "/tmp/ipykernel_24298/253161635.py:9: FutureWarning: The frame.append method is deprecated and will be removed from pandas in a future version. Use pandas.concat instead.\n",
      "  new_df= new_df.append(data, ignore_index=True)\n",
      "/tmp/ipykernel_24298/253161635.py:9: FutureWarning: The frame.append method is deprecated and will be removed from pandas in a future version. Use pandas.concat instead.\n",
      "  new_df= new_df.append(data, ignore_index=True)\n",
      "/tmp/ipykernel_24298/253161635.py:9: FutureWarning: The frame.append method is deprecated and will be removed from pandas in a future version. Use pandas.concat instead.\n",
      "  new_df= new_df.append(data, ignore_index=True)\n",
      "/tmp/ipykernel_24298/253161635.py:9: FutureWarning: The frame.append method is deprecated and will be removed from pandas in a future version. Use pandas.concat instead.\n",
      "  new_df= new_df.append(data, ignore_index=True)\n",
      "/tmp/ipykernel_24298/253161635.py:9: FutureWarning: The frame.append method is deprecated and will be removed from pandas in a future version. Use pandas.concat instead.\n",
      "  new_df= new_df.append(data, ignore_index=True)\n",
      "/tmp/ipykernel_24298/253161635.py:9: FutureWarning: The frame.append method is deprecated and will be removed from pandas in a future version. Use pandas.concat instead.\n",
      "  new_df= new_df.append(data, ignore_index=True)\n",
      "/tmp/ipykernel_24298/253161635.py:9: FutureWarning: The frame.append method is deprecated and will be removed from pandas in a future version. Use pandas.concat instead.\n",
      "  new_df= new_df.append(data, ignore_index=True)\n",
      "/tmp/ipykernel_24298/253161635.py:9: FutureWarning: The frame.append method is deprecated and will be removed from pandas in a future version. Use pandas.concat instead.\n",
      "  new_df= new_df.append(data, ignore_index=True)\n",
      "/tmp/ipykernel_24298/253161635.py:9: FutureWarning: The frame.append method is deprecated and will be removed from pandas in a future version. Use pandas.concat instead.\n",
      "  new_df= new_df.append(data, ignore_index=True)\n",
      "/tmp/ipykernel_24298/253161635.py:9: FutureWarning: The frame.append method is deprecated and will be removed from pandas in a future version. Use pandas.concat instead.\n",
      "  new_df= new_df.append(data, ignore_index=True)\n",
      "/tmp/ipykernel_24298/253161635.py:9: FutureWarning: The frame.append method is deprecated and will be removed from pandas in a future version. Use pandas.concat instead.\n",
      "  new_df= new_df.append(data, ignore_index=True)\n",
      "/tmp/ipykernel_24298/253161635.py:9: FutureWarning: The frame.append method is deprecated and will be removed from pandas in a future version. Use pandas.concat instead.\n",
      "  new_df= new_df.append(data, ignore_index=True)\n",
      "/tmp/ipykernel_24298/253161635.py:9: FutureWarning: The frame.append method is deprecated and will be removed from pandas in a future version. Use pandas.concat instead.\n",
      "  new_df= new_df.append(data, ignore_index=True)\n",
      "/tmp/ipykernel_24298/253161635.py:9: FutureWarning: The frame.append method is deprecated and will be removed from pandas in a future version. Use pandas.concat instead.\n",
      "  new_df= new_df.append(data, ignore_index=True)\n",
      "/tmp/ipykernel_24298/253161635.py:9: FutureWarning: The frame.append method is deprecated and will be removed from pandas in a future version. Use pandas.concat instead.\n",
      "  new_df= new_df.append(data, ignore_index=True)\n",
      "/tmp/ipykernel_24298/253161635.py:9: FutureWarning: The frame.append method is deprecated and will be removed from pandas in a future version. Use pandas.concat instead.\n",
      "  new_df= new_df.append(data, ignore_index=True)\n",
      "/tmp/ipykernel_24298/253161635.py:9: FutureWarning: The frame.append method is deprecated and will be removed from pandas in a future version. Use pandas.concat instead.\n",
      "  new_df= new_df.append(data, ignore_index=True)\n",
      "/tmp/ipykernel_24298/253161635.py:9: FutureWarning: The frame.append method is deprecated and will be removed from pandas in a future version. Use pandas.concat instead.\n",
      "  new_df= new_df.append(data, ignore_index=True)\n",
      "/tmp/ipykernel_24298/253161635.py:9: FutureWarning: The frame.append method is deprecated and will be removed from pandas in a future version. Use pandas.concat instead.\n",
      "  new_df= new_df.append(data, ignore_index=True)\n",
      "/tmp/ipykernel_24298/253161635.py:9: FutureWarning: The frame.append method is deprecated and will be removed from pandas in a future version. Use pandas.concat instead.\n",
      "  new_df= new_df.append(data, ignore_index=True)\n",
      "/tmp/ipykernel_24298/253161635.py:9: FutureWarning: The frame.append method is deprecated and will be removed from pandas in a future version. Use pandas.concat instead.\n",
      "  new_df= new_df.append(data, ignore_index=True)\n",
      "/tmp/ipykernel_24298/253161635.py:9: FutureWarning: The frame.append method is deprecated and will be removed from pandas in a future version. Use pandas.concat instead.\n",
      "  new_df= new_df.append(data, ignore_index=True)\n",
      "/tmp/ipykernel_24298/253161635.py:9: FutureWarning: The frame.append method is deprecated and will be removed from pandas in a future version. Use pandas.concat instead.\n",
      "  new_df= new_df.append(data, ignore_index=True)\n",
      "/tmp/ipykernel_24298/253161635.py:9: FutureWarning: The frame.append method is deprecated and will be removed from pandas in a future version. Use pandas.concat instead.\n",
      "  new_df= new_df.append(data, ignore_index=True)\n",
      "/tmp/ipykernel_24298/253161635.py:9: FutureWarning: The frame.append method is deprecated and will be removed from pandas in a future version. Use pandas.concat instead.\n",
      "  new_df= new_df.append(data, ignore_index=True)\n",
      "/tmp/ipykernel_24298/253161635.py:9: FutureWarning: The frame.append method is deprecated and will be removed from pandas in a future version. Use pandas.concat instead.\n",
      "  new_df= new_df.append(data, ignore_index=True)\n",
      "/tmp/ipykernel_24298/253161635.py:9: FutureWarning: The frame.append method is deprecated and will be removed from pandas in a future version. Use pandas.concat instead.\n",
      "  new_df= new_df.append(data, ignore_index=True)\n",
      "/tmp/ipykernel_24298/253161635.py:9: FutureWarning: The frame.append method is deprecated and will be removed from pandas in a future version. Use pandas.concat instead.\n",
      "  new_df= new_df.append(data, ignore_index=True)\n",
      "/tmp/ipykernel_24298/253161635.py:9: FutureWarning: The frame.append method is deprecated and will be removed from pandas in a future version. Use pandas.concat instead.\n",
      "  new_df= new_df.append(data, ignore_index=True)\n",
      "/tmp/ipykernel_24298/253161635.py:9: FutureWarning: The frame.append method is deprecated and will be removed from pandas in a future version. Use pandas.concat instead.\n",
      "  new_df= new_df.append(data, ignore_index=True)\n",
      "/tmp/ipykernel_24298/253161635.py:9: FutureWarning: The frame.append method is deprecated and will be removed from pandas in a future version. Use pandas.concat instead.\n",
      "  new_df= new_df.append(data, ignore_index=True)\n",
      "/tmp/ipykernel_24298/253161635.py:9: FutureWarning: The frame.append method is deprecated and will be removed from pandas in a future version. Use pandas.concat instead.\n",
      "  new_df= new_df.append(data, ignore_index=True)\n",
      "/tmp/ipykernel_24298/253161635.py:9: FutureWarning: The frame.append method is deprecated and will be removed from pandas in a future version. Use pandas.concat instead.\n",
      "  new_df= new_df.append(data, ignore_index=True)\n",
      "/tmp/ipykernel_24298/253161635.py:9: FutureWarning: The frame.append method is deprecated and will be removed from pandas in a future version. Use pandas.concat instead.\n",
      "  new_df= new_df.append(data, ignore_index=True)\n",
      "/tmp/ipykernel_24298/253161635.py:9: FutureWarning: The frame.append method is deprecated and will be removed from pandas in a future version. Use pandas.concat instead.\n",
      "  new_df= new_df.append(data, ignore_index=True)\n",
      "/tmp/ipykernel_24298/253161635.py:9: FutureWarning: The frame.append method is deprecated and will be removed from pandas in a future version. Use pandas.concat instead.\n",
      "  new_df= new_df.append(data, ignore_index=True)\n",
      "/tmp/ipykernel_24298/253161635.py:9: FutureWarning: The frame.append method is deprecated and will be removed from pandas in a future version. Use pandas.concat instead.\n",
      "  new_df= new_df.append(data, ignore_index=True)\n",
      "/tmp/ipykernel_24298/253161635.py:9: FutureWarning: The frame.append method is deprecated and will be removed from pandas in a future version. Use pandas.concat instead.\n",
      "  new_df= new_df.append(data, ignore_index=True)\n",
      "/tmp/ipykernel_24298/253161635.py:9: FutureWarning: The frame.append method is deprecated and will be removed from pandas in a future version. Use pandas.concat instead.\n",
      "  new_df= new_df.append(data, ignore_index=True)\n",
      "/tmp/ipykernel_24298/253161635.py:9: FutureWarning: The frame.append method is deprecated and will be removed from pandas in a future version. Use pandas.concat instead.\n",
      "  new_df= new_df.append(data, ignore_index=True)\n",
      "/tmp/ipykernel_24298/253161635.py:9: FutureWarning: The frame.append method is deprecated and will be removed from pandas in a future version. Use pandas.concat instead.\n",
      "  new_df= new_df.append(data, ignore_index=True)\n",
      "/tmp/ipykernel_24298/253161635.py:9: FutureWarning: The frame.append method is deprecated and will be removed from pandas in a future version. Use pandas.concat instead.\n",
      "  new_df= new_df.append(data, ignore_index=True)\n",
      "/tmp/ipykernel_24298/253161635.py:9: FutureWarning: The frame.append method is deprecated and will be removed from pandas in a future version. Use pandas.concat instead.\n",
      "  new_df= new_df.append(data, ignore_index=True)\n",
      "/tmp/ipykernel_24298/253161635.py:9: FutureWarning: The frame.append method is deprecated and will be removed from pandas in a future version. Use pandas.concat instead.\n",
      "  new_df= new_df.append(data, ignore_index=True)\n",
      "/tmp/ipykernel_24298/253161635.py:9: FutureWarning: The frame.append method is deprecated and will be removed from pandas in a future version. Use pandas.concat instead.\n",
      "  new_df= new_df.append(data, ignore_index=True)\n",
      "/tmp/ipykernel_24298/253161635.py:9: FutureWarning: The frame.append method is deprecated and will be removed from pandas in a future version. Use pandas.concat instead.\n",
      "  new_df= new_df.append(data, ignore_index=True)\n",
      "/tmp/ipykernel_24298/253161635.py:9: FutureWarning: The frame.append method is deprecated and will be removed from pandas in a future version. Use pandas.concat instead.\n",
      "  new_df= new_df.append(data, ignore_index=True)\n",
      "/tmp/ipykernel_24298/253161635.py:9: FutureWarning: The frame.append method is deprecated and will be removed from pandas in a future version. Use pandas.concat instead.\n",
      "  new_df= new_df.append(data, ignore_index=True)\n",
      "/tmp/ipykernel_24298/253161635.py:9: FutureWarning: The frame.append method is deprecated and will be removed from pandas in a future version. Use pandas.concat instead.\n",
      "  new_df= new_df.append(data, ignore_index=True)\n",
      "/tmp/ipykernel_24298/253161635.py:9: FutureWarning: The frame.append method is deprecated and will be removed from pandas in a future version. Use pandas.concat instead.\n",
      "  new_df= new_df.append(data, ignore_index=True)\n",
      "/tmp/ipykernel_24298/253161635.py:9: FutureWarning: The frame.append method is deprecated and will be removed from pandas in a future version. Use pandas.concat instead.\n",
      "  new_df= new_df.append(data, ignore_index=True)\n",
      "/tmp/ipykernel_24298/253161635.py:9: FutureWarning: The frame.append method is deprecated and will be removed from pandas in a future version. Use pandas.concat instead.\n",
      "  new_df= new_df.append(data, ignore_index=True)\n",
      "/tmp/ipykernel_24298/253161635.py:9: FutureWarning: The frame.append method is deprecated and will be removed from pandas in a future version. Use pandas.concat instead.\n",
      "  new_df= new_df.append(data, ignore_index=True)\n",
      "/tmp/ipykernel_24298/253161635.py:9: FutureWarning: The frame.append method is deprecated and will be removed from pandas in a future version. Use pandas.concat instead.\n",
      "  new_df= new_df.append(data, ignore_index=True)\n",
      "/tmp/ipykernel_24298/253161635.py:9: FutureWarning: The frame.append method is deprecated and will be removed from pandas in a future version. Use pandas.concat instead.\n",
      "  new_df= new_df.append(data, ignore_index=True)\n",
      "/tmp/ipykernel_24298/253161635.py:9: FutureWarning: The frame.append method is deprecated and will be removed from pandas in a future version. Use pandas.concat instead.\n",
      "  new_df= new_df.append(data, ignore_index=True)\n",
      "/tmp/ipykernel_24298/253161635.py:9: FutureWarning: The frame.append method is deprecated and will be removed from pandas in a future version. Use pandas.concat instead.\n",
      "  new_df= new_df.append(data, ignore_index=True)\n",
      "/tmp/ipykernel_24298/253161635.py:9: FutureWarning: The frame.append method is deprecated and will be removed from pandas in a future version. Use pandas.concat instead.\n",
      "  new_df= new_df.append(data, ignore_index=True)\n",
      "/tmp/ipykernel_24298/253161635.py:9: FutureWarning: The frame.append method is deprecated and will be removed from pandas in a future version. Use pandas.concat instead.\n",
      "  new_df= new_df.append(data, ignore_index=True)\n",
      "/tmp/ipykernel_24298/253161635.py:9: FutureWarning: The frame.append method is deprecated and will be removed from pandas in a future version. Use pandas.concat instead.\n",
      "  new_df= new_df.append(data, ignore_index=True)\n",
      "/tmp/ipykernel_24298/253161635.py:9: FutureWarning: The frame.append method is deprecated and will be removed from pandas in a future version. Use pandas.concat instead.\n",
      "  new_df= new_df.append(data, ignore_index=True)\n",
      "/tmp/ipykernel_24298/253161635.py:9: FutureWarning: The frame.append method is deprecated and will be removed from pandas in a future version. Use pandas.concat instead.\n",
      "  new_df= new_df.append(data, ignore_index=True)\n",
      "/tmp/ipykernel_24298/253161635.py:9: FutureWarning: The frame.append method is deprecated and will be removed from pandas in a future version. Use pandas.concat instead.\n",
      "  new_df= new_df.append(data, ignore_index=True)\n",
      "/tmp/ipykernel_24298/253161635.py:9: FutureWarning: The frame.append method is deprecated and will be removed from pandas in a future version. Use pandas.concat instead.\n",
      "  new_df= new_df.append(data, ignore_index=True)\n",
      "/tmp/ipykernel_24298/253161635.py:9: FutureWarning: The frame.append method is deprecated and will be removed from pandas in a future version. Use pandas.concat instead.\n",
      "  new_df= new_df.append(data, ignore_index=True)\n",
      "/tmp/ipykernel_24298/253161635.py:9: FutureWarning: The frame.append method is deprecated and will be removed from pandas in a future version. Use pandas.concat instead.\n",
      "  new_df= new_df.append(data, ignore_index=True)\n",
      "/tmp/ipykernel_24298/253161635.py:9: FutureWarning: The frame.append method is deprecated and will be removed from pandas in a future version. Use pandas.concat instead.\n",
      "  new_df= new_df.append(data, ignore_index=True)\n",
      "/tmp/ipykernel_24298/253161635.py:9: FutureWarning: The frame.append method is deprecated and will be removed from pandas in a future version. Use pandas.concat instead.\n",
      "  new_df= new_df.append(data, ignore_index=True)\n",
      "/tmp/ipykernel_24298/253161635.py:9: FutureWarning: The frame.append method is deprecated and will be removed from pandas in a future version. Use pandas.concat instead.\n",
      "  new_df= new_df.append(data, ignore_index=True)\n",
      "/tmp/ipykernel_24298/253161635.py:9: FutureWarning: The frame.append method is deprecated and will be removed from pandas in a future version. Use pandas.concat instead.\n",
      "  new_df= new_df.append(data, ignore_index=True)\n",
      "/tmp/ipykernel_24298/253161635.py:9: FutureWarning: The frame.append method is deprecated and will be removed from pandas in a future version. Use pandas.concat instead.\n",
      "  new_df= new_df.append(data, ignore_index=True)\n",
      "/tmp/ipykernel_24298/253161635.py:9: FutureWarning: The frame.append method is deprecated and will be removed from pandas in a future version. Use pandas.concat instead.\n",
      "  new_df= new_df.append(data, ignore_index=True)\n",
      "/tmp/ipykernel_24298/253161635.py:9: FutureWarning: The frame.append method is deprecated and will be removed from pandas in a future version. Use pandas.concat instead.\n",
      "  new_df= new_df.append(data, ignore_index=True)\n",
      "/tmp/ipykernel_24298/253161635.py:9: FutureWarning: The frame.append method is deprecated and will be removed from pandas in a future version. Use pandas.concat instead.\n",
      "  new_df= new_df.append(data, ignore_index=True)\n",
      "/tmp/ipykernel_24298/253161635.py:9: FutureWarning: The frame.append method is deprecated and will be removed from pandas in a future version. Use pandas.concat instead.\n",
      "  new_df= new_df.append(data, ignore_index=True)\n",
      "/tmp/ipykernel_24298/253161635.py:9: FutureWarning: The frame.append method is deprecated and will be removed from pandas in a future version. Use pandas.concat instead.\n",
      "  new_df= new_df.append(data, ignore_index=True)\n",
      "/tmp/ipykernel_24298/253161635.py:9: FutureWarning: The frame.append method is deprecated and will be removed from pandas in a future version. Use pandas.concat instead.\n",
      "  new_df= new_df.append(data, ignore_index=True)\n",
      "/tmp/ipykernel_24298/253161635.py:9: FutureWarning: The frame.append method is deprecated and will be removed from pandas in a future version. Use pandas.concat instead.\n",
      "  new_df= new_df.append(data, ignore_index=True)\n",
      "/tmp/ipykernel_24298/253161635.py:9: FutureWarning: The frame.append method is deprecated and will be removed from pandas in a future version. Use pandas.concat instead.\n",
      "  new_df= new_df.append(data, ignore_index=True)\n",
      "/tmp/ipykernel_24298/253161635.py:9: FutureWarning: The frame.append method is deprecated and will be removed from pandas in a future version. Use pandas.concat instead.\n",
      "  new_df= new_df.append(data, ignore_index=True)\n",
      "/tmp/ipykernel_24298/253161635.py:9: FutureWarning: The frame.append method is deprecated and will be removed from pandas in a future version. Use pandas.concat instead.\n",
      "  new_df= new_df.append(data, ignore_index=True)\n",
      "/tmp/ipykernel_24298/253161635.py:9: FutureWarning: The frame.append method is deprecated and will be removed from pandas in a future version. Use pandas.concat instead.\n",
      "  new_df= new_df.append(data, ignore_index=True)\n",
      "/tmp/ipykernel_24298/253161635.py:9: FutureWarning: The frame.append method is deprecated and will be removed from pandas in a future version. Use pandas.concat instead.\n",
      "  new_df= new_df.append(data, ignore_index=True)\n",
      "/tmp/ipykernel_24298/253161635.py:9: FutureWarning: The frame.append method is deprecated and will be removed from pandas in a future version. Use pandas.concat instead.\n",
      "  new_df= new_df.append(data, ignore_index=True)\n",
      "/tmp/ipykernel_24298/253161635.py:9: FutureWarning: The frame.append method is deprecated and will be removed from pandas in a future version. Use pandas.concat instead.\n",
      "  new_df= new_df.append(data, ignore_index=True)\n",
      "/tmp/ipykernel_24298/253161635.py:9: FutureWarning: The frame.append method is deprecated and will be removed from pandas in a future version. Use pandas.concat instead.\n",
      "  new_df= new_df.append(data, ignore_index=True)\n",
      "/tmp/ipykernel_24298/253161635.py:9: FutureWarning: The frame.append method is deprecated and will be removed from pandas in a future version. Use pandas.concat instead.\n",
      "  new_df= new_df.append(data, ignore_index=True)\n",
      "/tmp/ipykernel_24298/253161635.py:9: FutureWarning: The frame.append method is deprecated and will be removed from pandas in a future version. Use pandas.concat instead.\n",
      "  new_df= new_df.append(data, ignore_index=True)\n",
      "/tmp/ipykernel_24298/253161635.py:9: FutureWarning: The frame.append method is deprecated and will be removed from pandas in a future version. Use pandas.concat instead.\n",
      "  new_df= new_df.append(data, ignore_index=True)\n",
      "/tmp/ipykernel_24298/253161635.py:9: FutureWarning: The frame.append method is deprecated and will be removed from pandas in a future version. Use pandas.concat instead.\n",
      "  new_df= new_df.append(data, ignore_index=True)\n",
      "/tmp/ipykernel_24298/253161635.py:9: FutureWarning: The frame.append method is deprecated and will be removed from pandas in a future version. Use pandas.concat instead.\n",
      "  new_df= new_df.append(data, ignore_index=True)\n",
      "/tmp/ipykernel_24298/253161635.py:9: FutureWarning: The frame.append method is deprecated and will be removed from pandas in a future version. Use pandas.concat instead.\n",
      "  new_df= new_df.append(data, ignore_index=True)\n",
      "/tmp/ipykernel_24298/253161635.py:9: FutureWarning: The frame.append method is deprecated and will be removed from pandas in a future version. Use pandas.concat instead.\n",
      "  new_df= new_df.append(data, ignore_index=True)\n",
      "/tmp/ipykernel_24298/253161635.py:9: FutureWarning: The frame.append method is deprecated and will be removed from pandas in a future version. Use pandas.concat instead.\n",
      "  new_df= new_df.append(data, ignore_index=True)\n",
      "/tmp/ipykernel_24298/253161635.py:9: FutureWarning: The frame.append method is deprecated and will be removed from pandas in a future version. Use pandas.concat instead.\n",
      "  new_df= new_df.append(data, ignore_index=True)\n",
      "/tmp/ipykernel_24298/253161635.py:9: FutureWarning: The frame.append method is deprecated and will be removed from pandas in a future version. Use pandas.concat instead.\n",
      "  new_df= new_df.append(data, ignore_index=True)\n",
      "/tmp/ipykernel_24298/253161635.py:9: FutureWarning: The frame.append method is deprecated and will be removed from pandas in a future version. Use pandas.concat instead.\n",
      "  new_df= new_df.append(data, ignore_index=True)\n",
      "/tmp/ipykernel_24298/253161635.py:9: FutureWarning: The frame.append method is deprecated and will be removed from pandas in a future version. Use pandas.concat instead.\n",
      "  new_df= new_df.append(data, ignore_index=True)\n",
      "/tmp/ipykernel_24298/253161635.py:9: FutureWarning: The frame.append method is deprecated and will be removed from pandas in a future version. Use pandas.concat instead.\n",
      "  new_df= new_df.append(data, ignore_index=True)\n",
      "/tmp/ipykernel_24298/253161635.py:9: FutureWarning: The frame.append method is deprecated and will be removed from pandas in a future version. Use pandas.concat instead.\n",
      "  new_df= new_df.append(data, ignore_index=True)\n",
      "/tmp/ipykernel_24298/253161635.py:9: FutureWarning: The frame.append method is deprecated and will be removed from pandas in a future version. Use pandas.concat instead.\n",
      "  new_df= new_df.append(data, ignore_index=True)\n",
      "/tmp/ipykernel_24298/253161635.py:9: FutureWarning: The frame.append method is deprecated and will be removed from pandas in a future version. Use pandas.concat instead.\n",
      "  new_df= new_df.append(data, ignore_index=True)\n",
      "/tmp/ipykernel_24298/253161635.py:9: FutureWarning: The frame.append method is deprecated and will be removed from pandas in a future version. Use pandas.concat instead.\n",
      "  new_df= new_df.append(data, ignore_index=True)\n",
      "/tmp/ipykernel_24298/253161635.py:9: FutureWarning: The frame.append method is deprecated and will be removed from pandas in a future version. Use pandas.concat instead.\n",
      "  new_df= new_df.append(data, ignore_index=True)\n",
      "/tmp/ipykernel_24298/253161635.py:9: FutureWarning: The frame.append method is deprecated and will be removed from pandas in a future version. Use pandas.concat instead.\n",
      "  new_df= new_df.append(data, ignore_index=True)\n",
      "/tmp/ipykernel_24298/253161635.py:9: FutureWarning: The frame.append method is deprecated and will be removed from pandas in a future version. Use pandas.concat instead.\n",
      "  new_df= new_df.append(data, ignore_index=True)\n",
      "/tmp/ipykernel_24298/253161635.py:9: FutureWarning: The frame.append method is deprecated and will be removed from pandas in a future version. Use pandas.concat instead.\n",
      "  new_df= new_df.append(data, ignore_index=True)\n",
      "/tmp/ipykernel_24298/253161635.py:9: FutureWarning: The frame.append method is deprecated and will be removed from pandas in a future version. Use pandas.concat instead.\n",
      "  new_df= new_df.append(data, ignore_index=True)\n",
      "/tmp/ipykernel_24298/253161635.py:9: FutureWarning: The frame.append method is deprecated and will be removed from pandas in a future version. Use pandas.concat instead.\n",
      "  new_df= new_df.append(data, ignore_index=True)\n",
      "/tmp/ipykernel_24298/253161635.py:9: FutureWarning: The frame.append method is deprecated and will be removed from pandas in a future version. Use pandas.concat instead.\n",
      "  new_df= new_df.append(data, ignore_index=True)\n",
      "/tmp/ipykernel_24298/253161635.py:9: FutureWarning: The frame.append method is deprecated and will be removed from pandas in a future version. Use pandas.concat instead.\n",
      "  new_df= new_df.append(data, ignore_index=True)\n",
      "/tmp/ipykernel_24298/253161635.py:9: FutureWarning: The frame.append method is deprecated and will be removed from pandas in a future version. Use pandas.concat instead.\n",
      "  new_df= new_df.append(data, ignore_index=True)\n",
      "/tmp/ipykernel_24298/253161635.py:9: FutureWarning: The frame.append method is deprecated and will be removed from pandas in a future version. Use pandas.concat instead.\n",
      "  new_df= new_df.append(data, ignore_index=True)\n",
      "/tmp/ipykernel_24298/253161635.py:9: FutureWarning: The frame.append method is deprecated and will be removed from pandas in a future version. Use pandas.concat instead.\n",
      "  new_df= new_df.append(data, ignore_index=True)\n",
      "/tmp/ipykernel_24298/253161635.py:9: FutureWarning: The frame.append method is deprecated and will be removed from pandas in a future version. Use pandas.concat instead.\n",
      "  new_df= new_df.append(data, ignore_index=True)\n",
      "/tmp/ipykernel_24298/253161635.py:9: FutureWarning: The frame.append method is deprecated and will be removed from pandas in a future version. Use pandas.concat instead.\n",
      "  new_df= new_df.append(data, ignore_index=True)\n",
      "/tmp/ipykernel_24298/253161635.py:9: FutureWarning: The frame.append method is deprecated and will be removed from pandas in a future version. Use pandas.concat instead.\n",
      "  new_df= new_df.append(data, ignore_index=True)\n",
      "/tmp/ipykernel_24298/253161635.py:9: FutureWarning: The frame.append method is deprecated and will be removed from pandas in a future version. Use pandas.concat instead.\n",
      "  new_df= new_df.append(data, ignore_index=True)\n",
      "/tmp/ipykernel_24298/253161635.py:9: FutureWarning: The frame.append method is deprecated and will be removed from pandas in a future version. Use pandas.concat instead.\n",
      "  new_df= new_df.append(data, ignore_index=True)\n",
      "/tmp/ipykernel_24298/253161635.py:9: FutureWarning: The frame.append method is deprecated and will be removed from pandas in a future version. Use pandas.concat instead.\n",
      "  new_df= new_df.append(data, ignore_index=True)\n",
      "/tmp/ipykernel_24298/253161635.py:9: FutureWarning: The frame.append method is deprecated and will be removed from pandas in a future version. Use pandas.concat instead.\n",
      "  new_df= new_df.append(data, ignore_index=True)\n",
      "/tmp/ipykernel_24298/253161635.py:9: FutureWarning: The frame.append method is deprecated and will be removed from pandas in a future version. Use pandas.concat instead.\n",
      "  new_df= new_df.append(data, ignore_index=True)\n",
      "/tmp/ipykernel_24298/253161635.py:9: FutureWarning: The frame.append method is deprecated and will be removed from pandas in a future version. Use pandas.concat instead.\n",
      "  new_df= new_df.append(data, ignore_index=True)\n",
      "/tmp/ipykernel_24298/253161635.py:9: FutureWarning: The frame.append method is deprecated and will be removed from pandas in a future version. Use pandas.concat instead.\n",
      "  new_df= new_df.append(data, ignore_index=True)\n",
      "/tmp/ipykernel_24298/253161635.py:9: FutureWarning: The frame.append method is deprecated and will be removed from pandas in a future version. Use pandas.concat instead.\n",
      "  new_df= new_df.append(data, ignore_index=True)\n",
      "/tmp/ipykernel_24298/253161635.py:9: FutureWarning: The frame.append method is deprecated and will be removed from pandas in a future version. Use pandas.concat instead.\n",
      "  new_df= new_df.append(data, ignore_index=True)\n",
      "/tmp/ipykernel_24298/253161635.py:9: FutureWarning: The frame.append method is deprecated and will be removed from pandas in a future version. Use pandas.concat instead.\n",
      "  new_df= new_df.append(data, ignore_index=True)\n",
      "/tmp/ipykernel_24298/253161635.py:9: FutureWarning: The frame.append method is deprecated and will be removed from pandas in a future version. Use pandas.concat instead.\n",
      "  new_df= new_df.append(data, ignore_index=True)\n",
      "/tmp/ipykernel_24298/253161635.py:9: FutureWarning: The frame.append method is deprecated and will be removed from pandas in a future version. Use pandas.concat instead.\n",
      "  new_df= new_df.append(data, ignore_index=True)\n",
      "/tmp/ipykernel_24298/253161635.py:9: FutureWarning: The frame.append method is deprecated and will be removed from pandas in a future version. Use pandas.concat instead.\n",
      "  new_df= new_df.append(data, ignore_index=True)\n",
      "/tmp/ipykernel_24298/253161635.py:9: FutureWarning: The frame.append method is deprecated and will be removed from pandas in a future version. Use pandas.concat instead.\n",
      "  new_df= new_df.append(data, ignore_index=True)\n",
      "/tmp/ipykernel_24298/253161635.py:9: FutureWarning: The frame.append method is deprecated and will be removed from pandas in a future version. Use pandas.concat instead.\n",
      "  new_df= new_df.append(data, ignore_index=True)\n",
      "/tmp/ipykernel_24298/253161635.py:9: FutureWarning: The frame.append method is deprecated and will be removed from pandas in a future version. Use pandas.concat instead.\n",
      "  new_df= new_df.append(data, ignore_index=True)\n",
      "/tmp/ipykernel_24298/253161635.py:9: FutureWarning: The frame.append method is deprecated and will be removed from pandas in a future version. Use pandas.concat instead.\n",
      "  new_df= new_df.append(data, ignore_index=True)\n",
      "/tmp/ipykernel_24298/253161635.py:9: FutureWarning: The frame.append method is deprecated and will be removed from pandas in a future version. Use pandas.concat instead.\n",
      "  new_df= new_df.append(data, ignore_index=True)\n",
      "/tmp/ipykernel_24298/253161635.py:9: FutureWarning: The frame.append method is deprecated and will be removed from pandas in a future version. Use pandas.concat instead.\n",
      "  new_df= new_df.append(data, ignore_index=True)\n",
      "/tmp/ipykernel_24298/253161635.py:9: FutureWarning: The frame.append method is deprecated and will be removed from pandas in a future version. Use pandas.concat instead.\n",
      "  new_df= new_df.append(data, ignore_index=True)\n",
      "/tmp/ipykernel_24298/253161635.py:9: FutureWarning: The frame.append method is deprecated and will be removed from pandas in a future version. Use pandas.concat instead.\n",
      "  new_df= new_df.append(data, ignore_index=True)\n",
      "/tmp/ipykernel_24298/253161635.py:9: FutureWarning: The frame.append method is deprecated and will be removed from pandas in a future version. Use pandas.concat instead.\n",
      "  new_df= new_df.append(data, ignore_index=True)\n",
      "/tmp/ipykernel_24298/253161635.py:9: FutureWarning: The frame.append method is deprecated and will be removed from pandas in a future version. Use pandas.concat instead.\n",
      "  new_df= new_df.append(data, ignore_index=True)\n",
      "/tmp/ipykernel_24298/253161635.py:9: FutureWarning: The frame.append method is deprecated and will be removed from pandas in a future version. Use pandas.concat instead.\n",
      "  new_df= new_df.append(data, ignore_index=True)\n",
      "/tmp/ipykernel_24298/253161635.py:9: FutureWarning: The frame.append method is deprecated and will be removed from pandas in a future version. Use pandas.concat instead.\n",
      "  new_df= new_df.append(data, ignore_index=True)\n",
      "/tmp/ipykernel_24298/253161635.py:9: FutureWarning: The frame.append method is deprecated and will be removed from pandas in a future version. Use pandas.concat instead.\n",
      "  new_df= new_df.append(data, ignore_index=True)\n",
      "/tmp/ipykernel_24298/253161635.py:9: FutureWarning: The frame.append method is deprecated and will be removed from pandas in a future version. Use pandas.concat instead.\n",
      "  new_df= new_df.append(data, ignore_index=True)\n",
      "/tmp/ipykernel_24298/253161635.py:9: FutureWarning: The frame.append method is deprecated and will be removed from pandas in a future version. Use pandas.concat instead.\n",
      "  new_df= new_df.append(data, ignore_index=True)\n",
      "/tmp/ipykernel_24298/253161635.py:9: FutureWarning: The frame.append method is deprecated and will be removed from pandas in a future version. Use pandas.concat instead.\n",
      "  new_df= new_df.append(data, ignore_index=True)\n",
      "/tmp/ipykernel_24298/253161635.py:9: FutureWarning: The frame.append method is deprecated and will be removed from pandas in a future version. Use pandas.concat instead.\n",
      "  new_df= new_df.append(data, ignore_index=True)\n",
      "/tmp/ipykernel_24298/253161635.py:9: FutureWarning: The frame.append method is deprecated and will be removed from pandas in a future version. Use pandas.concat instead.\n",
      "  new_df= new_df.append(data, ignore_index=True)\n",
      "/tmp/ipykernel_24298/253161635.py:9: FutureWarning: The frame.append method is deprecated and will be removed from pandas in a future version. Use pandas.concat instead.\n",
      "  new_df= new_df.append(data, ignore_index=True)\n",
      "/tmp/ipykernel_24298/253161635.py:9: FutureWarning: The frame.append method is deprecated and will be removed from pandas in a future version. Use pandas.concat instead.\n",
      "  new_df= new_df.append(data, ignore_index=True)\n",
      "/tmp/ipykernel_24298/253161635.py:9: FutureWarning: The frame.append method is deprecated and will be removed from pandas in a future version. Use pandas.concat instead.\n",
      "  new_df= new_df.append(data, ignore_index=True)\n",
      "/tmp/ipykernel_24298/253161635.py:9: FutureWarning: The frame.append method is deprecated and will be removed from pandas in a future version. Use pandas.concat instead.\n",
      "  new_df= new_df.append(data, ignore_index=True)\n",
      "/tmp/ipykernel_24298/253161635.py:9: FutureWarning: The frame.append method is deprecated and will be removed from pandas in a future version. Use pandas.concat instead.\n",
      "  new_df= new_df.append(data, ignore_index=True)\n",
      "/tmp/ipykernel_24298/253161635.py:9: FutureWarning: The frame.append method is deprecated and will be removed from pandas in a future version. Use pandas.concat instead.\n",
      "  new_df= new_df.append(data, ignore_index=True)\n",
      "/tmp/ipykernel_24298/253161635.py:9: FutureWarning: The frame.append method is deprecated and will be removed from pandas in a future version. Use pandas.concat instead.\n",
      "  new_df= new_df.append(data, ignore_index=True)\n",
      "/tmp/ipykernel_24298/253161635.py:9: FutureWarning: The frame.append method is deprecated and will be removed from pandas in a future version. Use pandas.concat instead.\n",
      "  new_df= new_df.append(data, ignore_index=True)\n",
      "/tmp/ipykernel_24298/253161635.py:9: FutureWarning: The frame.append method is deprecated and will be removed from pandas in a future version. Use pandas.concat instead.\n",
      "  new_df= new_df.append(data, ignore_index=True)\n",
      "/tmp/ipykernel_24298/253161635.py:9: FutureWarning: The frame.append method is deprecated and will be removed from pandas in a future version. Use pandas.concat instead.\n",
      "  new_df= new_df.append(data, ignore_index=True)\n",
      "/tmp/ipykernel_24298/253161635.py:9: FutureWarning: The frame.append method is deprecated and will be removed from pandas in a future version. Use pandas.concat instead.\n",
      "  new_df= new_df.append(data, ignore_index=True)\n",
      "/tmp/ipykernel_24298/253161635.py:9: FutureWarning: The frame.append method is deprecated and will be removed from pandas in a future version. Use pandas.concat instead.\n",
      "  new_df= new_df.append(data, ignore_index=True)\n",
      "/tmp/ipykernel_24298/253161635.py:9: FutureWarning: The frame.append method is deprecated and will be removed from pandas in a future version. Use pandas.concat instead.\n",
      "  new_df= new_df.append(data, ignore_index=True)\n",
      "/tmp/ipykernel_24298/253161635.py:9: FutureWarning: The frame.append method is deprecated and will be removed from pandas in a future version. Use pandas.concat instead.\n",
      "  new_df= new_df.append(data, ignore_index=True)\n",
      "/tmp/ipykernel_24298/253161635.py:9: FutureWarning: The frame.append method is deprecated and will be removed from pandas in a future version. Use pandas.concat instead.\n",
      "  new_df= new_df.append(data, ignore_index=True)\n",
      "/tmp/ipykernel_24298/253161635.py:9: FutureWarning: The frame.append method is deprecated and will be removed from pandas in a future version. Use pandas.concat instead.\n",
      "  new_df= new_df.append(data, ignore_index=True)\n",
      "/tmp/ipykernel_24298/253161635.py:9: FutureWarning: The frame.append method is deprecated and will be removed from pandas in a future version. Use pandas.concat instead.\n",
      "  new_df= new_df.append(data, ignore_index=True)\n",
      "/tmp/ipykernel_24298/253161635.py:9: FutureWarning: The frame.append method is deprecated and will be removed from pandas in a future version. Use pandas.concat instead.\n",
      "  new_df= new_df.append(data, ignore_index=True)\n",
      "/tmp/ipykernel_24298/253161635.py:9: FutureWarning: The frame.append method is deprecated and will be removed from pandas in a future version. Use pandas.concat instead.\n",
      "  new_df= new_df.append(data, ignore_index=True)\n",
      "/tmp/ipykernel_24298/253161635.py:9: FutureWarning: The frame.append method is deprecated and will be removed from pandas in a future version. Use pandas.concat instead.\n",
      "  new_df= new_df.append(data, ignore_index=True)\n",
      "/tmp/ipykernel_24298/253161635.py:9: FutureWarning: The frame.append method is deprecated and will be removed from pandas in a future version. Use pandas.concat instead.\n",
      "  new_df= new_df.append(data, ignore_index=True)\n",
      "/tmp/ipykernel_24298/253161635.py:9: FutureWarning: The frame.append method is deprecated and will be removed from pandas in a future version. Use pandas.concat instead.\n",
      "  new_df= new_df.append(data, ignore_index=True)\n",
      "/tmp/ipykernel_24298/253161635.py:9: FutureWarning: The frame.append method is deprecated and will be removed from pandas in a future version. Use pandas.concat instead.\n",
      "  new_df= new_df.append(data, ignore_index=True)\n",
      "/tmp/ipykernel_24298/253161635.py:9: FutureWarning: The frame.append method is deprecated and will be removed from pandas in a future version. Use pandas.concat instead.\n",
      "  new_df= new_df.append(data, ignore_index=True)\n",
      "/tmp/ipykernel_24298/253161635.py:9: FutureWarning: The frame.append method is deprecated and will be removed from pandas in a future version. Use pandas.concat instead.\n",
      "  new_df= new_df.append(data, ignore_index=True)\n",
      "/tmp/ipykernel_24298/253161635.py:9: FutureWarning: The frame.append method is deprecated and will be removed from pandas in a future version. Use pandas.concat instead.\n",
      "  new_df= new_df.append(data, ignore_index=True)\n",
      "/tmp/ipykernel_24298/253161635.py:9: FutureWarning: The frame.append method is deprecated and will be removed from pandas in a future version. Use pandas.concat instead.\n",
      "  new_df= new_df.append(data, ignore_index=True)\n",
      "/tmp/ipykernel_24298/253161635.py:9: FutureWarning: The frame.append method is deprecated and will be removed from pandas in a future version. Use pandas.concat instead.\n",
      "  new_df= new_df.append(data, ignore_index=True)\n",
      "/tmp/ipykernel_24298/253161635.py:9: FutureWarning: The frame.append method is deprecated and will be removed from pandas in a future version. Use pandas.concat instead.\n",
      "  new_df= new_df.append(data, ignore_index=True)\n",
      "/tmp/ipykernel_24298/253161635.py:9: FutureWarning: The frame.append method is deprecated and will be removed from pandas in a future version. Use pandas.concat instead.\n",
      "  new_df= new_df.append(data, ignore_index=True)\n",
      "/tmp/ipykernel_24298/253161635.py:9: FutureWarning: The frame.append method is deprecated and will be removed from pandas in a future version. Use pandas.concat instead.\n",
      "  new_df= new_df.append(data, ignore_index=True)\n",
      "/tmp/ipykernel_24298/253161635.py:9: FutureWarning: The frame.append method is deprecated and will be removed from pandas in a future version. Use pandas.concat instead.\n",
      "  new_df= new_df.append(data, ignore_index=True)\n",
      "/tmp/ipykernel_24298/253161635.py:9: FutureWarning: The frame.append method is deprecated and will be removed from pandas in a future version. Use pandas.concat instead.\n",
      "  new_df= new_df.append(data, ignore_index=True)\n",
      "/tmp/ipykernel_24298/253161635.py:9: FutureWarning: The frame.append method is deprecated and will be removed from pandas in a future version. Use pandas.concat instead.\n",
      "  new_df= new_df.append(data, ignore_index=True)\n",
      "/tmp/ipykernel_24298/253161635.py:9: FutureWarning: The frame.append method is deprecated and will be removed from pandas in a future version. Use pandas.concat instead.\n",
      "  new_df= new_df.append(data, ignore_index=True)\n",
      "/tmp/ipykernel_24298/253161635.py:9: FutureWarning: The frame.append method is deprecated and will be removed from pandas in a future version. Use pandas.concat instead.\n",
      "  new_df= new_df.append(data, ignore_index=True)\n",
      "/tmp/ipykernel_24298/253161635.py:9: FutureWarning: The frame.append method is deprecated and will be removed from pandas in a future version. Use pandas.concat instead.\n",
      "  new_df= new_df.append(data, ignore_index=True)\n",
      "/tmp/ipykernel_24298/253161635.py:9: FutureWarning: The frame.append method is deprecated and will be removed from pandas in a future version. Use pandas.concat instead.\n",
      "  new_df= new_df.append(data, ignore_index=True)\n",
      "/tmp/ipykernel_24298/253161635.py:9: FutureWarning: The frame.append method is deprecated and will be removed from pandas in a future version. Use pandas.concat instead.\n",
      "  new_df= new_df.append(data, ignore_index=True)\n",
      "/tmp/ipykernel_24298/253161635.py:9: FutureWarning: The frame.append method is deprecated and will be removed from pandas in a future version. Use pandas.concat instead.\n",
      "  new_df= new_df.append(data, ignore_index=True)\n",
      "/tmp/ipykernel_24298/253161635.py:9: FutureWarning: The frame.append method is deprecated and will be removed from pandas in a future version. Use pandas.concat instead.\n",
      "  new_df= new_df.append(data, ignore_index=True)\n",
      "/tmp/ipykernel_24298/253161635.py:9: FutureWarning: The frame.append method is deprecated and will be removed from pandas in a future version. Use pandas.concat instead.\n",
      "  new_df= new_df.append(data, ignore_index=True)\n",
      "/tmp/ipykernel_24298/253161635.py:9: FutureWarning: The frame.append method is deprecated and will be removed from pandas in a future version. Use pandas.concat instead.\n",
      "  new_df= new_df.append(data, ignore_index=True)\n",
      "/tmp/ipykernel_24298/253161635.py:9: FutureWarning: The frame.append method is deprecated and will be removed from pandas in a future version. Use pandas.concat instead.\n",
      "  new_df= new_df.append(data, ignore_index=True)\n",
      "/tmp/ipykernel_24298/253161635.py:9: FutureWarning: The frame.append method is deprecated and will be removed from pandas in a future version. Use pandas.concat instead.\n",
      "  new_df= new_df.append(data, ignore_index=True)\n",
      "/tmp/ipykernel_24298/253161635.py:9: FutureWarning: The frame.append method is deprecated and will be removed from pandas in a future version. Use pandas.concat instead.\n",
      "  new_df= new_df.append(data, ignore_index=True)\n",
      "/tmp/ipykernel_24298/253161635.py:9: FutureWarning: The frame.append method is deprecated and will be removed from pandas in a future version. Use pandas.concat instead.\n",
      "  new_df= new_df.append(data, ignore_index=True)\n",
      "/tmp/ipykernel_24298/253161635.py:9: FutureWarning: The frame.append method is deprecated and will be removed from pandas in a future version. Use pandas.concat instead.\n",
      "  new_df= new_df.append(data, ignore_index=True)\n",
      "/tmp/ipykernel_24298/253161635.py:9: FutureWarning: The frame.append method is deprecated and will be removed from pandas in a future version. Use pandas.concat instead.\n",
      "  new_df= new_df.append(data, ignore_index=True)\n",
      "/tmp/ipykernel_24298/253161635.py:9: FutureWarning: The frame.append method is deprecated and will be removed from pandas in a future version. Use pandas.concat instead.\n",
      "  new_df= new_df.append(data, ignore_index=True)\n",
      "/tmp/ipykernel_24298/253161635.py:9: FutureWarning: The frame.append method is deprecated and will be removed from pandas in a future version. Use pandas.concat instead.\n",
      "  new_df= new_df.append(data, ignore_index=True)\n",
      "/tmp/ipykernel_24298/253161635.py:9: FutureWarning: The frame.append method is deprecated and will be removed from pandas in a future version. Use pandas.concat instead.\n",
      "  new_df= new_df.append(data, ignore_index=True)\n",
      "/tmp/ipykernel_24298/253161635.py:9: FutureWarning: The frame.append method is deprecated and will be removed from pandas in a future version. Use pandas.concat instead.\n",
      "  new_df= new_df.append(data, ignore_index=True)\n",
      "/tmp/ipykernel_24298/253161635.py:9: FutureWarning: The frame.append method is deprecated and will be removed from pandas in a future version. Use pandas.concat instead.\n",
      "  new_df= new_df.append(data, ignore_index=True)\n",
      "/tmp/ipykernel_24298/253161635.py:9: FutureWarning: The frame.append method is deprecated and will be removed from pandas in a future version. Use pandas.concat instead.\n",
      "  new_df= new_df.append(data, ignore_index=True)\n",
      "/tmp/ipykernel_24298/253161635.py:9: FutureWarning: The frame.append method is deprecated and will be removed from pandas in a future version. Use pandas.concat instead.\n",
      "  new_df= new_df.append(data, ignore_index=True)\n",
      "/tmp/ipykernel_24298/253161635.py:9: FutureWarning: The frame.append method is deprecated and will be removed from pandas in a future version. Use pandas.concat instead.\n",
      "  new_df= new_df.append(data, ignore_index=True)\n",
      "/tmp/ipykernel_24298/253161635.py:9: FutureWarning: The frame.append method is deprecated and will be removed from pandas in a future version. Use pandas.concat instead.\n",
      "  new_df= new_df.append(data, ignore_index=True)\n",
      "/tmp/ipykernel_24298/253161635.py:9: FutureWarning: The frame.append method is deprecated and will be removed from pandas in a future version. Use pandas.concat instead.\n",
      "  new_df= new_df.append(data, ignore_index=True)\n",
      "/tmp/ipykernel_24298/253161635.py:9: FutureWarning: The frame.append method is deprecated and will be removed from pandas in a future version. Use pandas.concat instead.\n",
      "  new_df= new_df.append(data, ignore_index=True)\n",
      "/tmp/ipykernel_24298/253161635.py:9: FutureWarning: The frame.append method is deprecated and will be removed from pandas in a future version. Use pandas.concat instead.\n",
      "  new_df= new_df.append(data, ignore_index=True)\n",
      "/tmp/ipykernel_24298/253161635.py:9: FutureWarning: The frame.append method is deprecated and will be removed from pandas in a future version. Use pandas.concat instead.\n",
      "  new_df= new_df.append(data, ignore_index=True)\n",
      "/tmp/ipykernel_24298/253161635.py:9: FutureWarning: The frame.append method is deprecated and will be removed from pandas in a future version. Use pandas.concat instead.\n",
      "  new_df= new_df.append(data, ignore_index=True)\n",
      "/tmp/ipykernel_24298/253161635.py:9: FutureWarning: The frame.append method is deprecated and will be removed from pandas in a future version. Use pandas.concat instead.\n",
      "  new_df= new_df.append(data, ignore_index=True)\n",
      "/tmp/ipykernel_24298/253161635.py:9: FutureWarning: The frame.append method is deprecated and will be removed from pandas in a future version. Use pandas.concat instead.\n",
      "  new_df= new_df.append(data, ignore_index=True)\n",
      "/tmp/ipykernel_24298/253161635.py:9: FutureWarning: The frame.append method is deprecated and will be removed from pandas in a future version. Use pandas.concat instead.\n",
      "  new_df= new_df.append(data, ignore_index=True)\n",
      "/tmp/ipykernel_24298/253161635.py:9: FutureWarning: The frame.append method is deprecated and will be removed from pandas in a future version. Use pandas.concat instead.\n",
      "  new_df= new_df.append(data, ignore_index=True)\n",
      "/tmp/ipykernel_24298/253161635.py:9: FutureWarning: The frame.append method is deprecated and will be removed from pandas in a future version. Use pandas.concat instead.\n",
      "  new_df= new_df.append(data, ignore_index=True)\n",
      "/tmp/ipykernel_24298/253161635.py:9: FutureWarning: The frame.append method is deprecated and will be removed from pandas in a future version. Use pandas.concat instead.\n",
      "  new_df= new_df.append(data, ignore_index=True)\n",
      "/tmp/ipykernel_24298/253161635.py:9: FutureWarning: The frame.append method is deprecated and will be removed from pandas in a future version. Use pandas.concat instead.\n",
      "  new_df= new_df.append(data, ignore_index=True)\n",
      "/tmp/ipykernel_24298/253161635.py:9: FutureWarning: The frame.append method is deprecated and will be removed from pandas in a future version. Use pandas.concat instead.\n",
      "  new_df= new_df.append(data, ignore_index=True)\n",
      "/tmp/ipykernel_24298/253161635.py:9: FutureWarning: The frame.append method is deprecated and will be removed from pandas in a future version. Use pandas.concat instead.\n",
      "  new_df= new_df.append(data, ignore_index=True)\n",
      "/tmp/ipykernel_24298/253161635.py:9: FutureWarning: The frame.append method is deprecated and will be removed from pandas in a future version. Use pandas.concat instead.\n",
      "  new_df= new_df.append(data, ignore_index=True)\n",
      "/tmp/ipykernel_24298/253161635.py:9: FutureWarning: The frame.append method is deprecated and will be removed from pandas in a future version. Use pandas.concat instead.\n",
      "  new_df= new_df.append(data, ignore_index=True)\n",
      "/tmp/ipykernel_24298/253161635.py:9: FutureWarning: The frame.append method is deprecated and will be removed from pandas in a future version. Use pandas.concat instead.\n",
      "  new_df= new_df.append(data, ignore_index=True)\n",
      "/tmp/ipykernel_24298/253161635.py:9: FutureWarning: The frame.append method is deprecated and will be removed from pandas in a future version. Use pandas.concat instead.\n",
      "  new_df= new_df.append(data, ignore_index=True)\n",
      "/tmp/ipykernel_24298/253161635.py:9: FutureWarning: The frame.append method is deprecated and will be removed from pandas in a future version. Use pandas.concat instead.\n",
      "  new_df= new_df.append(data, ignore_index=True)\n",
      "/tmp/ipykernel_24298/253161635.py:9: FutureWarning: The frame.append method is deprecated and will be removed from pandas in a future version. Use pandas.concat instead.\n",
      "  new_df= new_df.append(data, ignore_index=True)\n",
      "/tmp/ipykernel_24298/253161635.py:9: FutureWarning: The frame.append method is deprecated and will be removed from pandas in a future version. Use pandas.concat instead.\n",
      "  new_df= new_df.append(data, ignore_index=True)\n",
      "/tmp/ipykernel_24298/253161635.py:9: FutureWarning: The frame.append method is deprecated and will be removed from pandas in a future version. Use pandas.concat instead.\n",
      "  new_df= new_df.append(data, ignore_index=True)\n",
      "/tmp/ipykernel_24298/253161635.py:9: FutureWarning: The frame.append method is deprecated and will be removed from pandas in a future version. Use pandas.concat instead.\n",
      "  new_df= new_df.append(data, ignore_index=True)\n",
      "/tmp/ipykernel_24298/253161635.py:9: FutureWarning: The frame.append method is deprecated and will be removed from pandas in a future version. Use pandas.concat instead.\n",
      "  new_df= new_df.append(data, ignore_index=True)\n",
      "/tmp/ipykernel_24298/253161635.py:9: FutureWarning: The frame.append method is deprecated and will be removed from pandas in a future version. Use pandas.concat instead.\n",
      "  new_df= new_df.append(data, ignore_index=True)\n",
      "/tmp/ipykernel_24298/253161635.py:9: FutureWarning: The frame.append method is deprecated and will be removed from pandas in a future version. Use pandas.concat instead.\n",
      "  new_df= new_df.append(data, ignore_index=True)\n",
      "/tmp/ipykernel_24298/253161635.py:9: FutureWarning: The frame.append method is deprecated and will be removed from pandas in a future version. Use pandas.concat instead.\n",
      "  new_df= new_df.append(data, ignore_index=True)\n",
      "/tmp/ipykernel_24298/253161635.py:9: FutureWarning: The frame.append method is deprecated and will be removed from pandas in a future version. Use pandas.concat instead.\n",
      "  new_df= new_df.append(data, ignore_index=True)\n",
      "/tmp/ipykernel_24298/253161635.py:9: FutureWarning: The frame.append method is deprecated and will be removed from pandas in a future version. Use pandas.concat instead.\n",
      "  new_df= new_df.append(data, ignore_index=True)\n",
      "/tmp/ipykernel_24298/253161635.py:9: FutureWarning: The frame.append method is deprecated and will be removed from pandas in a future version. Use pandas.concat instead.\n",
      "  new_df= new_df.append(data, ignore_index=True)\n",
      "/tmp/ipykernel_24298/253161635.py:9: FutureWarning: The frame.append method is deprecated and will be removed from pandas in a future version. Use pandas.concat instead.\n",
      "  new_df= new_df.append(data, ignore_index=True)\n",
      "/tmp/ipykernel_24298/253161635.py:9: FutureWarning: The frame.append method is deprecated and will be removed from pandas in a future version. Use pandas.concat instead.\n",
      "  new_df= new_df.append(data, ignore_index=True)\n",
      "/tmp/ipykernel_24298/253161635.py:9: FutureWarning: The frame.append method is deprecated and will be removed from pandas in a future version. Use pandas.concat instead.\n",
      "  new_df= new_df.append(data, ignore_index=True)\n",
      "/tmp/ipykernel_24298/253161635.py:9: FutureWarning: The frame.append method is deprecated and will be removed from pandas in a future version. Use pandas.concat instead.\n",
      "  new_df= new_df.append(data, ignore_index=True)\n",
      "/tmp/ipykernel_24298/253161635.py:9: FutureWarning: The frame.append method is deprecated and will be removed from pandas in a future version. Use pandas.concat instead.\n",
      "  new_df= new_df.append(data, ignore_index=True)\n",
      "/tmp/ipykernel_24298/253161635.py:9: FutureWarning: The frame.append method is deprecated and will be removed from pandas in a future version. Use pandas.concat instead.\n",
      "  new_df= new_df.append(data, ignore_index=True)\n",
      "/tmp/ipykernel_24298/253161635.py:9: FutureWarning: The frame.append method is deprecated and will be removed from pandas in a future version. Use pandas.concat instead.\n",
      "  new_df= new_df.append(data, ignore_index=True)\n",
      "/tmp/ipykernel_24298/253161635.py:9: FutureWarning: The frame.append method is deprecated and will be removed from pandas in a future version. Use pandas.concat instead.\n",
      "  new_df= new_df.append(data, ignore_index=True)\n",
      "/tmp/ipykernel_24298/253161635.py:9: FutureWarning: The frame.append method is deprecated and will be removed from pandas in a future version. Use pandas.concat instead.\n",
      "  new_df= new_df.append(data, ignore_index=True)\n",
      "/tmp/ipykernel_24298/253161635.py:9: FutureWarning: The frame.append method is deprecated and will be removed from pandas in a future version. Use pandas.concat instead.\n",
      "  new_df= new_df.append(data, ignore_index=True)\n",
      "/tmp/ipykernel_24298/253161635.py:9: FutureWarning: The frame.append method is deprecated and will be removed from pandas in a future version. Use pandas.concat instead.\n",
      "  new_df= new_df.append(data, ignore_index=True)\n",
      "/tmp/ipykernel_24298/253161635.py:9: FutureWarning: The frame.append method is deprecated and will be removed from pandas in a future version. Use pandas.concat instead.\n",
      "  new_df= new_df.append(data, ignore_index=True)\n",
      "/tmp/ipykernel_24298/253161635.py:9: FutureWarning: The frame.append method is deprecated and will be removed from pandas in a future version. Use pandas.concat instead.\n",
      "  new_df= new_df.append(data, ignore_index=True)\n",
      "/tmp/ipykernel_24298/253161635.py:9: FutureWarning: The frame.append method is deprecated and will be removed from pandas in a future version. Use pandas.concat instead.\n",
      "  new_df= new_df.append(data, ignore_index=True)\n",
      "/tmp/ipykernel_24298/253161635.py:9: FutureWarning: The frame.append method is deprecated and will be removed from pandas in a future version. Use pandas.concat instead.\n",
      "  new_df= new_df.append(data, ignore_index=True)\n",
      "/tmp/ipykernel_24298/253161635.py:9: FutureWarning: The frame.append method is deprecated and will be removed from pandas in a future version. Use pandas.concat instead.\n",
      "  new_df= new_df.append(data, ignore_index=True)\n",
      "/tmp/ipykernel_24298/253161635.py:9: FutureWarning: The frame.append method is deprecated and will be removed from pandas in a future version. Use pandas.concat instead.\n",
      "  new_df= new_df.append(data, ignore_index=True)\n",
      "/tmp/ipykernel_24298/253161635.py:9: FutureWarning: The frame.append method is deprecated and will be removed from pandas in a future version. Use pandas.concat instead.\n",
      "  new_df= new_df.append(data, ignore_index=True)\n",
      "/tmp/ipykernel_24298/253161635.py:9: FutureWarning: The frame.append method is deprecated and will be removed from pandas in a future version. Use pandas.concat instead.\n",
      "  new_df= new_df.append(data, ignore_index=True)\n",
      "/tmp/ipykernel_24298/253161635.py:9: FutureWarning: The frame.append method is deprecated and will be removed from pandas in a future version. Use pandas.concat instead.\n",
      "  new_df= new_df.append(data, ignore_index=True)\n",
      "/tmp/ipykernel_24298/253161635.py:9: FutureWarning: The frame.append method is deprecated and will be removed from pandas in a future version. Use pandas.concat instead.\n",
      "  new_df= new_df.append(data, ignore_index=True)\n",
      "/tmp/ipykernel_24298/253161635.py:9: FutureWarning: The frame.append method is deprecated and will be removed from pandas in a future version. Use pandas.concat instead.\n",
      "  new_df= new_df.append(data, ignore_index=True)\n",
      "/tmp/ipykernel_24298/253161635.py:9: FutureWarning: The frame.append method is deprecated and will be removed from pandas in a future version. Use pandas.concat instead.\n",
      "  new_df= new_df.append(data, ignore_index=True)\n",
      "/tmp/ipykernel_24298/253161635.py:9: FutureWarning: The frame.append method is deprecated and will be removed from pandas in a future version. Use pandas.concat instead.\n",
      "  new_df= new_df.append(data, ignore_index=True)\n",
      "/tmp/ipykernel_24298/253161635.py:9: FutureWarning: The frame.append method is deprecated and will be removed from pandas in a future version. Use pandas.concat instead.\n",
      "  new_df= new_df.append(data, ignore_index=True)\n",
      "/tmp/ipykernel_24298/253161635.py:9: FutureWarning: The frame.append method is deprecated and will be removed from pandas in a future version. Use pandas.concat instead.\n",
      "  new_df= new_df.append(data, ignore_index=True)\n",
      "/tmp/ipykernel_24298/253161635.py:9: FutureWarning: The frame.append method is deprecated and will be removed from pandas in a future version. Use pandas.concat instead.\n",
      "  new_df= new_df.append(data, ignore_index=True)\n",
      "/tmp/ipykernel_24298/253161635.py:9: FutureWarning: The frame.append method is deprecated and will be removed from pandas in a future version. Use pandas.concat instead.\n",
      "  new_df= new_df.append(data, ignore_index=True)\n",
      "/tmp/ipykernel_24298/253161635.py:9: FutureWarning: The frame.append method is deprecated and will be removed from pandas in a future version. Use pandas.concat instead.\n",
      "  new_df= new_df.append(data, ignore_index=True)\n",
      "/tmp/ipykernel_24298/253161635.py:9: FutureWarning: The frame.append method is deprecated and will be removed from pandas in a future version. Use pandas.concat instead.\n",
      "  new_df= new_df.append(data, ignore_index=True)\n",
      "/tmp/ipykernel_24298/253161635.py:9: FutureWarning: The frame.append method is deprecated and will be removed from pandas in a future version. Use pandas.concat instead.\n",
      "  new_df= new_df.append(data, ignore_index=True)\n",
      "/tmp/ipykernel_24298/253161635.py:9: FutureWarning: The frame.append method is deprecated and will be removed from pandas in a future version. Use pandas.concat instead.\n",
      "  new_df= new_df.append(data, ignore_index=True)\n",
      "/tmp/ipykernel_24298/253161635.py:9: FutureWarning: The frame.append method is deprecated and will be removed from pandas in a future version. Use pandas.concat instead.\n",
      "  new_df= new_df.append(data, ignore_index=True)\n",
      "/tmp/ipykernel_24298/253161635.py:9: FutureWarning: The frame.append method is deprecated and will be removed from pandas in a future version. Use pandas.concat instead.\n",
      "  new_df= new_df.append(data, ignore_index=True)\n",
      "/tmp/ipykernel_24298/253161635.py:9: FutureWarning: The frame.append method is deprecated and will be removed from pandas in a future version. Use pandas.concat instead.\n",
      "  new_df= new_df.append(data, ignore_index=True)\n",
      "/tmp/ipykernel_24298/253161635.py:9: FutureWarning: The frame.append method is deprecated and will be removed from pandas in a future version. Use pandas.concat instead.\n",
      "  new_df= new_df.append(data, ignore_index=True)\n",
      "/tmp/ipykernel_24298/253161635.py:9: FutureWarning: The frame.append method is deprecated and will be removed from pandas in a future version. Use pandas.concat instead.\n",
      "  new_df= new_df.append(data, ignore_index=True)\n",
      "/tmp/ipykernel_24298/253161635.py:9: FutureWarning: The frame.append method is deprecated and will be removed from pandas in a future version. Use pandas.concat instead.\n",
      "  new_df= new_df.append(data, ignore_index=True)\n",
      "/tmp/ipykernel_24298/253161635.py:9: FutureWarning: The frame.append method is deprecated and will be removed from pandas in a future version. Use pandas.concat instead.\n",
      "  new_df= new_df.append(data, ignore_index=True)\n",
      "/tmp/ipykernel_24298/253161635.py:9: FutureWarning: The frame.append method is deprecated and will be removed from pandas in a future version. Use pandas.concat instead.\n",
      "  new_df= new_df.append(data, ignore_index=True)\n",
      "/tmp/ipykernel_24298/253161635.py:9: FutureWarning: The frame.append method is deprecated and will be removed from pandas in a future version. Use pandas.concat instead.\n",
      "  new_df= new_df.append(data, ignore_index=True)\n",
      "/tmp/ipykernel_24298/253161635.py:9: FutureWarning: The frame.append method is deprecated and will be removed from pandas in a future version. Use pandas.concat instead.\n",
      "  new_df= new_df.append(data, ignore_index=True)\n",
      "/tmp/ipykernel_24298/253161635.py:9: FutureWarning: The frame.append method is deprecated and will be removed from pandas in a future version. Use pandas.concat instead.\n",
      "  new_df= new_df.append(data, ignore_index=True)\n",
      "/tmp/ipykernel_24298/253161635.py:9: FutureWarning: The frame.append method is deprecated and will be removed from pandas in a future version. Use pandas.concat instead.\n",
      "  new_df= new_df.append(data, ignore_index=True)\n",
      "/tmp/ipykernel_24298/253161635.py:9: FutureWarning: The frame.append method is deprecated and will be removed from pandas in a future version. Use pandas.concat instead.\n",
      "  new_df= new_df.append(data, ignore_index=True)\n",
      "/tmp/ipykernel_24298/253161635.py:9: FutureWarning: The frame.append method is deprecated and will be removed from pandas in a future version. Use pandas.concat instead.\n",
      "  new_df= new_df.append(data, ignore_index=True)\n",
      "/tmp/ipykernel_24298/253161635.py:9: FutureWarning: The frame.append method is deprecated and will be removed from pandas in a future version. Use pandas.concat instead.\n",
      "  new_df= new_df.append(data, ignore_index=True)\n",
      "/tmp/ipykernel_24298/253161635.py:9: FutureWarning: The frame.append method is deprecated and will be removed from pandas in a future version. Use pandas.concat instead.\n",
      "  new_df= new_df.append(data, ignore_index=True)\n",
      "/tmp/ipykernel_24298/253161635.py:9: FutureWarning: The frame.append method is deprecated and will be removed from pandas in a future version. Use pandas.concat instead.\n",
      "  new_df= new_df.append(data, ignore_index=True)\n",
      "/tmp/ipykernel_24298/253161635.py:9: FutureWarning: The frame.append method is deprecated and will be removed from pandas in a future version. Use pandas.concat instead.\n",
      "  new_df= new_df.append(data, ignore_index=True)\n",
      "/tmp/ipykernel_24298/253161635.py:9: FutureWarning: The frame.append method is deprecated and will be removed from pandas in a future version. Use pandas.concat instead.\n",
      "  new_df= new_df.append(data, ignore_index=True)\n",
      "/tmp/ipykernel_24298/253161635.py:9: FutureWarning: The frame.append method is deprecated and will be removed from pandas in a future version. Use pandas.concat instead.\n",
      "  new_df= new_df.append(data, ignore_index=True)\n",
      "/tmp/ipykernel_24298/253161635.py:9: FutureWarning: The frame.append method is deprecated and will be removed from pandas in a future version. Use pandas.concat instead.\n",
      "  new_df= new_df.append(data, ignore_index=True)\n",
      "/tmp/ipykernel_24298/253161635.py:9: FutureWarning: The frame.append method is deprecated and will be removed from pandas in a future version. Use pandas.concat instead.\n",
      "  new_df= new_df.append(data, ignore_index=True)\n",
      "/tmp/ipykernel_24298/253161635.py:9: FutureWarning: The frame.append method is deprecated and will be removed from pandas in a future version. Use pandas.concat instead.\n",
      "  new_df= new_df.append(data, ignore_index=True)\n",
      "/tmp/ipykernel_24298/253161635.py:9: FutureWarning: The frame.append method is deprecated and will be removed from pandas in a future version. Use pandas.concat instead.\n",
      "  new_df= new_df.append(data, ignore_index=True)\n",
      "/tmp/ipykernel_24298/253161635.py:9: FutureWarning: The frame.append method is deprecated and will be removed from pandas in a future version. Use pandas.concat instead.\n",
      "  new_df= new_df.append(data, ignore_index=True)\n",
      "/tmp/ipykernel_24298/253161635.py:9: FutureWarning: The frame.append method is deprecated and will be removed from pandas in a future version. Use pandas.concat instead.\n",
      "  new_df= new_df.append(data, ignore_index=True)\n",
      "/tmp/ipykernel_24298/253161635.py:9: FutureWarning: The frame.append method is deprecated and will be removed from pandas in a future version. Use pandas.concat instead.\n",
      "  new_df= new_df.append(data, ignore_index=True)\n",
      "/tmp/ipykernel_24298/253161635.py:9: FutureWarning: The frame.append method is deprecated and will be removed from pandas in a future version. Use pandas.concat instead.\n",
      "  new_df= new_df.append(data, ignore_index=True)\n",
      "/tmp/ipykernel_24298/253161635.py:9: FutureWarning: The frame.append method is deprecated and will be removed from pandas in a future version. Use pandas.concat instead.\n",
      "  new_df= new_df.append(data, ignore_index=True)\n",
      "/tmp/ipykernel_24298/253161635.py:9: FutureWarning: The frame.append method is deprecated and will be removed from pandas in a future version. Use pandas.concat instead.\n",
      "  new_df= new_df.append(data, ignore_index=True)\n",
      "/tmp/ipykernel_24298/253161635.py:9: FutureWarning: The frame.append method is deprecated and will be removed from pandas in a future version. Use pandas.concat instead.\n",
      "  new_df= new_df.append(data, ignore_index=True)\n",
      "/tmp/ipykernel_24298/253161635.py:9: FutureWarning: The frame.append method is deprecated and will be removed from pandas in a future version. Use pandas.concat instead.\n",
      "  new_df= new_df.append(data, ignore_index=True)\n",
      "/tmp/ipykernel_24298/253161635.py:9: FutureWarning: The frame.append method is deprecated and will be removed from pandas in a future version. Use pandas.concat instead.\n",
      "  new_df= new_df.append(data, ignore_index=True)\n",
      "/tmp/ipykernel_24298/253161635.py:9: FutureWarning: The frame.append method is deprecated and will be removed from pandas in a future version. Use pandas.concat instead.\n",
      "  new_df= new_df.append(data, ignore_index=True)\n",
      "/tmp/ipykernel_24298/253161635.py:9: FutureWarning: The frame.append method is deprecated and will be removed from pandas in a future version. Use pandas.concat instead.\n",
      "  new_df= new_df.append(data, ignore_index=True)\n",
      "/tmp/ipykernel_24298/253161635.py:9: FutureWarning: The frame.append method is deprecated and will be removed from pandas in a future version. Use pandas.concat instead.\n",
      "  new_df= new_df.append(data, ignore_index=True)\n",
      "/tmp/ipykernel_24298/253161635.py:9: FutureWarning: The frame.append method is deprecated and will be removed from pandas in a future version. Use pandas.concat instead.\n",
      "  new_df= new_df.append(data, ignore_index=True)\n",
      "/tmp/ipykernel_24298/253161635.py:9: FutureWarning: The frame.append method is deprecated and will be removed from pandas in a future version. Use pandas.concat instead.\n",
      "  new_df= new_df.append(data, ignore_index=True)\n",
      "/tmp/ipykernel_24298/253161635.py:9: FutureWarning: The frame.append method is deprecated and will be removed from pandas in a future version. Use pandas.concat instead.\n",
      "  new_df= new_df.append(data, ignore_index=True)\n",
      "/tmp/ipykernel_24298/253161635.py:9: FutureWarning: The frame.append method is deprecated and will be removed from pandas in a future version. Use pandas.concat instead.\n",
      "  new_df= new_df.append(data, ignore_index=True)\n",
      "/tmp/ipykernel_24298/253161635.py:9: FutureWarning: The frame.append method is deprecated and will be removed from pandas in a future version. Use pandas.concat instead.\n",
      "  new_df= new_df.append(data, ignore_index=True)\n",
      "/tmp/ipykernel_24298/253161635.py:9: FutureWarning: The frame.append method is deprecated and will be removed from pandas in a future version. Use pandas.concat instead.\n",
      "  new_df= new_df.append(data, ignore_index=True)\n",
      "/tmp/ipykernel_24298/253161635.py:9: FutureWarning: The frame.append method is deprecated and will be removed from pandas in a future version. Use pandas.concat instead.\n",
      "  new_df= new_df.append(data, ignore_index=True)\n",
      "/tmp/ipykernel_24298/253161635.py:9: FutureWarning: The frame.append method is deprecated and will be removed from pandas in a future version. Use pandas.concat instead.\n",
      "  new_df= new_df.append(data, ignore_index=True)\n",
      "/tmp/ipykernel_24298/253161635.py:9: FutureWarning: The frame.append method is deprecated and will be removed from pandas in a future version. Use pandas.concat instead.\n",
      "  new_df= new_df.append(data, ignore_index=True)\n",
      "/tmp/ipykernel_24298/253161635.py:9: FutureWarning: The frame.append method is deprecated and will be removed from pandas in a future version. Use pandas.concat instead.\n",
      "  new_df= new_df.append(data, ignore_index=True)\n",
      "/tmp/ipykernel_24298/253161635.py:9: FutureWarning: The frame.append method is deprecated and will be removed from pandas in a future version. Use pandas.concat instead.\n",
      "  new_df= new_df.append(data, ignore_index=True)\n",
      "/tmp/ipykernel_24298/253161635.py:9: FutureWarning: The frame.append method is deprecated and will be removed from pandas in a future version. Use pandas.concat instead.\n",
      "  new_df= new_df.append(data, ignore_index=True)\n",
      "/tmp/ipykernel_24298/253161635.py:9: FutureWarning: The frame.append method is deprecated and will be removed from pandas in a future version. Use pandas.concat instead.\n",
      "  new_df= new_df.append(data, ignore_index=True)\n",
      "/tmp/ipykernel_24298/253161635.py:9: FutureWarning: The frame.append method is deprecated and will be removed from pandas in a future version. Use pandas.concat instead.\n",
      "  new_df= new_df.append(data, ignore_index=True)\n",
      "/tmp/ipykernel_24298/253161635.py:9: FutureWarning: The frame.append method is deprecated and will be removed from pandas in a future version. Use pandas.concat instead.\n",
      "  new_df= new_df.append(data, ignore_index=True)\n",
      "/tmp/ipykernel_24298/253161635.py:9: FutureWarning: The frame.append method is deprecated and will be removed from pandas in a future version. Use pandas.concat instead.\n",
      "  new_df= new_df.append(data, ignore_index=True)\n",
      "/tmp/ipykernel_24298/253161635.py:9: FutureWarning: The frame.append method is deprecated and will be removed from pandas in a future version. Use pandas.concat instead.\n",
      "  new_df= new_df.append(data, ignore_index=True)\n",
      "/tmp/ipykernel_24298/253161635.py:9: FutureWarning: The frame.append method is deprecated and will be removed from pandas in a future version. Use pandas.concat instead.\n",
      "  new_df= new_df.append(data, ignore_index=True)\n",
      "/tmp/ipykernel_24298/253161635.py:9: FutureWarning: The frame.append method is deprecated and will be removed from pandas in a future version. Use pandas.concat instead.\n",
      "  new_df= new_df.append(data, ignore_index=True)\n",
      "/tmp/ipykernel_24298/253161635.py:9: FutureWarning: The frame.append method is deprecated and will be removed from pandas in a future version. Use pandas.concat instead.\n",
      "  new_df= new_df.append(data, ignore_index=True)\n",
      "/tmp/ipykernel_24298/253161635.py:9: FutureWarning: The frame.append method is deprecated and will be removed from pandas in a future version. Use pandas.concat instead.\n",
      "  new_df= new_df.append(data, ignore_index=True)\n",
      "/tmp/ipykernel_24298/253161635.py:9: FutureWarning: The frame.append method is deprecated and will be removed from pandas in a future version. Use pandas.concat instead.\n",
      "  new_df= new_df.append(data, ignore_index=True)\n",
      "/tmp/ipykernel_24298/253161635.py:9: FutureWarning: The frame.append method is deprecated and will be removed from pandas in a future version. Use pandas.concat instead.\n",
      "  new_df= new_df.append(data, ignore_index=True)\n",
      "/tmp/ipykernel_24298/253161635.py:9: FutureWarning: The frame.append method is deprecated and will be removed from pandas in a future version. Use pandas.concat instead.\n",
      "  new_df= new_df.append(data, ignore_index=True)\n",
      "/tmp/ipykernel_24298/253161635.py:9: FutureWarning: The frame.append method is deprecated and will be removed from pandas in a future version. Use pandas.concat instead.\n",
      "  new_df= new_df.append(data, ignore_index=True)\n",
      "/tmp/ipykernel_24298/253161635.py:9: FutureWarning: The frame.append method is deprecated and will be removed from pandas in a future version. Use pandas.concat instead.\n",
      "  new_df= new_df.append(data, ignore_index=True)\n",
      "/tmp/ipykernel_24298/253161635.py:9: FutureWarning: The frame.append method is deprecated and will be removed from pandas in a future version. Use pandas.concat instead.\n",
      "  new_df= new_df.append(data, ignore_index=True)\n",
      "/tmp/ipykernel_24298/253161635.py:9: FutureWarning: The frame.append method is deprecated and will be removed from pandas in a future version. Use pandas.concat instead.\n",
      "  new_df= new_df.append(data, ignore_index=True)\n",
      "/tmp/ipykernel_24298/253161635.py:9: FutureWarning: The frame.append method is deprecated and will be removed from pandas in a future version. Use pandas.concat instead.\n",
      "  new_df= new_df.append(data, ignore_index=True)\n",
      "/tmp/ipykernel_24298/253161635.py:9: FutureWarning: The frame.append method is deprecated and will be removed from pandas in a future version. Use pandas.concat instead.\n",
      "  new_df= new_df.append(data, ignore_index=True)\n",
      "/tmp/ipykernel_24298/253161635.py:9: FutureWarning: The frame.append method is deprecated and will be removed from pandas in a future version. Use pandas.concat instead.\n",
      "  new_df= new_df.append(data, ignore_index=True)\n",
      "/tmp/ipykernel_24298/253161635.py:9: FutureWarning: The frame.append method is deprecated and will be removed from pandas in a future version. Use pandas.concat instead.\n",
      "  new_df= new_df.append(data, ignore_index=True)\n",
      "/tmp/ipykernel_24298/253161635.py:9: FutureWarning: The frame.append method is deprecated and will be removed from pandas in a future version. Use pandas.concat instead.\n",
      "  new_df= new_df.append(data, ignore_index=True)\n",
      "/tmp/ipykernel_24298/253161635.py:9: FutureWarning: The frame.append method is deprecated and will be removed from pandas in a future version. Use pandas.concat instead.\n",
      "  new_df= new_df.append(data, ignore_index=True)\n",
      "/tmp/ipykernel_24298/253161635.py:9: FutureWarning: The frame.append method is deprecated and will be removed from pandas in a future version. Use pandas.concat instead.\n",
      "  new_df= new_df.append(data, ignore_index=True)\n",
      "/tmp/ipykernel_24298/253161635.py:9: FutureWarning: The frame.append method is deprecated and will be removed from pandas in a future version. Use pandas.concat instead.\n",
      "  new_df= new_df.append(data, ignore_index=True)\n",
      "/tmp/ipykernel_24298/253161635.py:9: FutureWarning: The frame.append method is deprecated and will be removed from pandas in a future version. Use pandas.concat instead.\n",
      "  new_df= new_df.append(data, ignore_index=True)\n",
      "/tmp/ipykernel_24298/253161635.py:9: FutureWarning: The frame.append method is deprecated and will be removed from pandas in a future version. Use pandas.concat instead.\n",
      "  new_df= new_df.append(data, ignore_index=True)\n",
      "/tmp/ipykernel_24298/253161635.py:9: FutureWarning: The frame.append method is deprecated and will be removed from pandas in a future version. Use pandas.concat instead.\n",
      "  new_df= new_df.append(data, ignore_index=True)\n",
      "/tmp/ipykernel_24298/253161635.py:9: FutureWarning: The frame.append method is deprecated and will be removed from pandas in a future version. Use pandas.concat instead.\n",
      "  new_df= new_df.append(data, ignore_index=True)\n",
      "/tmp/ipykernel_24298/253161635.py:9: FutureWarning: The frame.append method is deprecated and will be removed from pandas in a future version. Use pandas.concat instead.\n",
      "  new_df= new_df.append(data, ignore_index=True)\n",
      "/tmp/ipykernel_24298/253161635.py:9: FutureWarning: The frame.append method is deprecated and will be removed from pandas in a future version. Use pandas.concat instead.\n",
      "  new_df= new_df.append(data, ignore_index=True)\n",
      "/tmp/ipykernel_24298/253161635.py:9: FutureWarning: The frame.append method is deprecated and will be removed from pandas in a future version. Use pandas.concat instead.\n",
      "  new_df= new_df.append(data, ignore_index=True)\n",
      "/tmp/ipykernel_24298/253161635.py:9: FutureWarning: The frame.append method is deprecated and will be removed from pandas in a future version. Use pandas.concat instead.\n",
      "  new_df= new_df.append(data, ignore_index=True)\n",
      "/tmp/ipykernel_24298/253161635.py:9: FutureWarning: The frame.append method is deprecated and will be removed from pandas in a future version. Use pandas.concat instead.\n",
      "  new_df= new_df.append(data, ignore_index=True)\n",
      "/tmp/ipykernel_24298/253161635.py:9: FutureWarning: The frame.append method is deprecated and will be removed from pandas in a future version. Use pandas.concat instead.\n",
      "  new_df= new_df.append(data, ignore_index=True)\n",
      "/tmp/ipykernel_24298/253161635.py:9: FutureWarning: The frame.append method is deprecated and will be removed from pandas in a future version. Use pandas.concat instead.\n",
      "  new_df= new_df.append(data, ignore_index=True)\n",
      "/tmp/ipykernel_24298/253161635.py:9: FutureWarning: The frame.append method is deprecated and will be removed from pandas in a future version. Use pandas.concat instead.\n",
      "  new_df= new_df.append(data, ignore_index=True)\n",
      "/tmp/ipykernel_24298/253161635.py:9: FutureWarning: The frame.append method is deprecated and will be removed from pandas in a future version. Use pandas.concat instead.\n",
      "  new_df= new_df.append(data, ignore_index=True)\n",
      "/tmp/ipykernel_24298/253161635.py:9: FutureWarning: The frame.append method is deprecated and will be removed from pandas in a future version. Use pandas.concat instead.\n",
      "  new_df= new_df.append(data, ignore_index=True)\n",
      "/tmp/ipykernel_24298/253161635.py:9: FutureWarning: The frame.append method is deprecated and will be removed from pandas in a future version. Use pandas.concat instead.\n",
      "  new_df= new_df.append(data, ignore_index=True)\n",
      "/tmp/ipykernel_24298/253161635.py:9: FutureWarning: The frame.append method is deprecated and will be removed from pandas in a future version. Use pandas.concat instead.\n",
      "  new_df= new_df.append(data, ignore_index=True)\n",
      "/tmp/ipykernel_24298/253161635.py:9: FutureWarning: The frame.append method is deprecated and will be removed from pandas in a future version. Use pandas.concat instead.\n",
      "  new_df= new_df.append(data, ignore_index=True)\n",
      "/tmp/ipykernel_24298/253161635.py:9: FutureWarning: The frame.append method is deprecated and will be removed from pandas in a future version. Use pandas.concat instead.\n",
      "  new_df= new_df.append(data, ignore_index=True)\n",
      "/tmp/ipykernel_24298/253161635.py:9: FutureWarning: The frame.append method is deprecated and will be removed from pandas in a future version. Use pandas.concat instead.\n",
      "  new_df= new_df.append(data, ignore_index=True)\n",
      "/tmp/ipykernel_24298/253161635.py:9: FutureWarning: The frame.append method is deprecated and will be removed from pandas in a future version. Use pandas.concat instead.\n",
      "  new_df= new_df.append(data, ignore_index=True)\n",
      "/tmp/ipykernel_24298/253161635.py:9: FutureWarning: The frame.append method is deprecated and will be removed from pandas in a future version. Use pandas.concat instead.\n",
      "  new_df= new_df.append(data, ignore_index=True)\n",
      "/tmp/ipykernel_24298/253161635.py:9: FutureWarning: The frame.append method is deprecated and will be removed from pandas in a future version. Use pandas.concat instead.\n",
      "  new_df= new_df.append(data, ignore_index=True)\n",
      "/tmp/ipykernel_24298/253161635.py:9: FutureWarning: The frame.append method is deprecated and will be removed from pandas in a future version. Use pandas.concat instead.\n",
      "  new_df= new_df.append(data, ignore_index=True)\n",
      "/tmp/ipykernel_24298/253161635.py:9: FutureWarning: The frame.append method is deprecated and will be removed from pandas in a future version. Use pandas.concat instead.\n",
      "  new_df= new_df.append(data, ignore_index=True)\n",
      "/tmp/ipykernel_24298/253161635.py:9: FutureWarning: The frame.append method is deprecated and will be removed from pandas in a future version. Use pandas.concat instead.\n",
      "  new_df= new_df.append(data, ignore_index=True)\n",
      "/tmp/ipykernel_24298/253161635.py:9: FutureWarning: The frame.append method is deprecated and will be removed from pandas in a future version. Use pandas.concat instead.\n",
      "  new_df= new_df.append(data, ignore_index=True)\n",
      "/tmp/ipykernel_24298/253161635.py:9: FutureWarning: The frame.append method is deprecated and will be removed from pandas in a future version. Use pandas.concat instead.\n",
      "  new_df= new_df.append(data, ignore_index=True)\n",
      "/tmp/ipykernel_24298/253161635.py:9: FutureWarning: The frame.append method is deprecated and will be removed from pandas in a future version. Use pandas.concat instead.\n",
      "  new_df= new_df.append(data, ignore_index=True)\n",
      "/tmp/ipykernel_24298/253161635.py:9: FutureWarning: The frame.append method is deprecated and will be removed from pandas in a future version. Use pandas.concat instead.\n",
      "  new_df= new_df.append(data, ignore_index=True)\n",
      "/tmp/ipykernel_24298/253161635.py:9: FutureWarning: The frame.append method is deprecated and will be removed from pandas in a future version. Use pandas.concat instead.\n",
      "  new_df= new_df.append(data, ignore_index=True)\n",
      "/tmp/ipykernel_24298/253161635.py:9: FutureWarning: The frame.append method is deprecated and will be removed from pandas in a future version. Use pandas.concat instead.\n",
      "  new_df= new_df.append(data, ignore_index=True)\n",
      "/tmp/ipykernel_24298/253161635.py:9: FutureWarning: The frame.append method is deprecated and will be removed from pandas in a future version. Use pandas.concat instead.\n",
      "  new_df= new_df.append(data, ignore_index=True)\n",
      "/tmp/ipykernel_24298/253161635.py:9: FutureWarning: The frame.append method is deprecated and will be removed from pandas in a future version. Use pandas.concat instead.\n",
      "  new_df= new_df.append(data, ignore_index=True)\n",
      "/tmp/ipykernel_24298/253161635.py:9: FutureWarning: The frame.append method is deprecated and will be removed from pandas in a future version. Use pandas.concat instead.\n",
      "  new_df= new_df.append(data, ignore_index=True)\n",
      "/tmp/ipykernel_24298/253161635.py:9: FutureWarning: The frame.append method is deprecated and will be removed from pandas in a future version. Use pandas.concat instead.\n",
      "  new_df= new_df.append(data, ignore_index=True)\n",
      "/tmp/ipykernel_24298/253161635.py:9: FutureWarning: The frame.append method is deprecated and will be removed from pandas in a future version. Use pandas.concat instead.\n",
      "  new_df= new_df.append(data, ignore_index=True)\n",
      "/tmp/ipykernel_24298/253161635.py:9: FutureWarning: The frame.append method is deprecated and will be removed from pandas in a future version. Use pandas.concat instead.\n",
      "  new_df= new_df.append(data, ignore_index=True)\n",
      "/tmp/ipykernel_24298/253161635.py:9: FutureWarning: The frame.append method is deprecated and will be removed from pandas in a future version. Use pandas.concat instead.\n",
      "  new_df= new_df.append(data, ignore_index=True)\n",
      "/tmp/ipykernel_24298/253161635.py:9: FutureWarning: The frame.append method is deprecated and will be removed from pandas in a future version. Use pandas.concat instead.\n",
      "  new_df= new_df.append(data, ignore_index=True)\n",
      "/tmp/ipykernel_24298/253161635.py:9: FutureWarning: The frame.append method is deprecated and will be removed from pandas in a future version. Use pandas.concat instead.\n",
      "  new_df= new_df.append(data, ignore_index=True)\n",
      "/tmp/ipykernel_24298/253161635.py:9: FutureWarning: The frame.append method is deprecated and will be removed from pandas in a future version. Use pandas.concat instead.\n",
      "  new_df= new_df.append(data, ignore_index=True)\n",
      "/tmp/ipykernel_24298/253161635.py:9: FutureWarning: The frame.append method is deprecated and will be removed from pandas in a future version. Use pandas.concat instead.\n",
      "  new_df= new_df.append(data, ignore_index=True)\n",
      "/tmp/ipykernel_24298/253161635.py:9: FutureWarning: The frame.append method is deprecated and will be removed from pandas in a future version. Use pandas.concat instead.\n",
      "  new_df= new_df.append(data, ignore_index=True)\n",
      "/tmp/ipykernel_24298/253161635.py:9: FutureWarning: The frame.append method is deprecated and will be removed from pandas in a future version. Use pandas.concat instead.\n",
      "  new_df= new_df.append(data, ignore_index=True)\n",
      "/tmp/ipykernel_24298/253161635.py:9: FutureWarning: The frame.append method is deprecated and will be removed from pandas in a future version. Use pandas.concat instead.\n",
      "  new_df= new_df.append(data, ignore_index=True)\n",
      "/tmp/ipykernel_24298/253161635.py:9: FutureWarning: The frame.append method is deprecated and will be removed from pandas in a future version. Use pandas.concat instead.\n",
      "  new_df= new_df.append(data, ignore_index=True)\n",
      "/tmp/ipykernel_24298/253161635.py:9: FutureWarning: The frame.append method is deprecated and will be removed from pandas in a future version. Use pandas.concat instead.\n",
      "  new_df= new_df.append(data, ignore_index=True)\n",
      "/tmp/ipykernel_24298/253161635.py:9: FutureWarning: The frame.append method is deprecated and will be removed from pandas in a future version. Use pandas.concat instead.\n",
      "  new_df= new_df.append(data, ignore_index=True)\n",
      "/tmp/ipykernel_24298/253161635.py:9: FutureWarning: The frame.append method is deprecated and will be removed from pandas in a future version. Use pandas.concat instead.\n",
      "  new_df= new_df.append(data, ignore_index=True)\n",
      "/tmp/ipykernel_24298/253161635.py:9: FutureWarning: The frame.append method is deprecated and will be removed from pandas in a future version. Use pandas.concat instead.\n",
      "  new_df= new_df.append(data, ignore_index=True)\n",
      "/tmp/ipykernel_24298/253161635.py:9: FutureWarning: The frame.append method is deprecated and will be removed from pandas in a future version. Use pandas.concat instead.\n",
      "  new_df= new_df.append(data, ignore_index=True)\n",
      "/tmp/ipykernel_24298/253161635.py:9: FutureWarning: The frame.append method is deprecated and will be removed from pandas in a future version. Use pandas.concat instead.\n",
      "  new_df= new_df.append(data, ignore_index=True)\n",
      "/tmp/ipykernel_24298/253161635.py:9: FutureWarning: The frame.append method is deprecated and will be removed from pandas in a future version. Use pandas.concat instead.\n",
      "  new_df= new_df.append(data, ignore_index=True)\n",
      "/tmp/ipykernel_24298/253161635.py:9: FutureWarning: The frame.append method is deprecated and will be removed from pandas in a future version. Use pandas.concat instead.\n",
      "  new_df= new_df.append(data, ignore_index=True)\n",
      "/tmp/ipykernel_24298/253161635.py:9: FutureWarning: The frame.append method is deprecated and will be removed from pandas in a future version. Use pandas.concat instead.\n",
      "  new_df= new_df.append(data, ignore_index=True)\n",
      "/tmp/ipykernel_24298/253161635.py:9: FutureWarning: The frame.append method is deprecated and will be removed from pandas in a future version. Use pandas.concat instead.\n",
      "  new_df= new_df.append(data, ignore_index=True)\n",
      "/tmp/ipykernel_24298/253161635.py:9: FutureWarning: The frame.append method is deprecated and will be removed from pandas in a future version. Use pandas.concat instead.\n",
      "  new_df= new_df.append(data, ignore_index=True)\n",
      "/tmp/ipykernel_24298/253161635.py:9: FutureWarning: The frame.append method is deprecated and will be removed from pandas in a future version. Use pandas.concat instead.\n",
      "  new_df= new_df.append(data, ignore_index=True)\n",
      "/tmp/ipykernel_24298/253161635.py:9: FutureWarning: The frame.append method is deprecated and will be removed from pandas in a future version. Use pandas.concat instead.\n",
      "  new_df= new_df.append(data, ignore_index=True)\n",
      "/tmp/ipykernel_24298/253161635.py:9: FutureWarning: The frame.append method is deprecated and will be removed from pandas in a future version. Use pandas.concat instead.\n",
      "  new_df= new_df.append(data, ignore_index=True)\n",
      "/tmp/ipykernel_24298/253161635.py:9: FutureWarning: The frame.append method is deprecated and will be removed from pandas in a future version. Use pandas.concat instead.\n",
      "  new_df= new_df.append(data, ignore_index=True)\n",
      "/tmp/ipykernel_24298/253161635.py:9: FutureWarning: The frame.append method is deprecated and will be removed from pandas in a future version. Use pandas.concat instead.\n",
      "  new_df= new_df.append(data, ignore_index=True)\n",
      "/tmp/ipykernel_24298/253161635.py:9: FutureWarning: The frame.append method is deprecated and will be removed from pandas in a future version. Use pandas.concat instead.\n",
      "  new_df= new_df.append(data, ignore_index=True)\n",
      "/tmp/ipykernel_24298/253161635.py:9: FutureWarning: The frame.append method is deprecated and will be removed from pandas in a future version. Use pandas.concat instead.\n",
      "  new_df= new_df.append(data, ignore_index=True)\n",
      "/tmp/ipykernel_24298/253161635.py:9: FutureWarning: The frame.append method is deprecated and will be removed from pandas in a future version. Use pandas.concat instead.\n",
      "  new_df= new_df.append(data, ignore_index=True)\n",
      "/tmp/ipykernel_24298/253161635.py:9: FutureWarning: The frame.append method is deprecated and will be removed from pandas in a future version. Use pandas.concat instead.\n",
      "  new_df= new_df.append(data, ignore_index=True)\n",
      "/tmp/ipykernel_24298/253161635.py:9: FutureWarning: The frame.append method is deprecated and will be removed from pandas in a future version. Use pandas.concat instead.\n",
      "  new_df= new_df.append(data, ignore_index=True)\n",
      "/tmp/ipykernel_24298/253161635.py:9: FutureWarning: The frame.append method is deprecated and will be removed from pandas in a future version. Use pandas.concat instead.\n",
      "  new_df= new_df.append(data, ignore_index=True)\n",
      "/tmp/ipykernel_24298/253161635.py:9: FutureWarning: The frame.append method is deprecated and will be removed from pandas in a future version. Use pandas.concat instead.\n",
      "  new_df= new_df.append(data, ignore_index=True)\n",
      "/tmp/ipykernel_24298/253161635.py:9: FutureWarning: The frame.append method is deprecated and will be removed from pandas in a future version. Use pandas.concat instead.\n",
      "  new_df= new_df.append(data, ignore_index=True)\n",
      "/tmp/ipykernel_24298/253161635.py:9: FutureWarning: The frame.append method is deprecated and will be removed from pandas in a future version. Use pandas.concat instead.\n",
      "  new_df= new_df.append(data, ignore_index=True)\n",
      "/tmp/ipykernel_24298/253161635.py:9: FutureWarning: The frame.append method is deprecated and will be removed from pandas in a future version. Use pandas.concat instead.\n",
      "  new_df= new_df.append(data, ignore_index=True)\n",
      "/tmp/ipykernel_24298/253161635.py:9: FutureWarning: The frame.append method is deprecated and will be removed from pandas in a future version. Use pandas.concat instead.\n",
      "  new_df= new_df.append(data, ignore_index=True)\n",
      "/tmp/ipykernel_24298/253161635.py:9: FutureWarning: The frame.append method is deprecated and will be removed from pandas in a future version. Use pandas.concat instead.\n",
      "  new_df= new_df.append(data, ignore_index=True)\n",
      "/tmp/ipykernel_24298/253161635.py:9: FutureWarning: The frame.append method is deprecated and will be removed from pandas in a future version. Use pandas.concat instead.\n",
      "  new_df= new_df.append(data, ignore_index=True)\n",
      "/tmp/ipykernel_24298/253161635.py:9: FutureWarning: The frame.append method is deprecated and will be removed from pandas in a future version. Use pandas.concat instead.\n",
      "  new_df= new_df.append(data, ignore_index=True)\n",
      "/tmp/ipykernel_24298/253161635.py:9: FutureWarning: The frame.append method is deprecated and will be removed from pandas in a future version. Use pandas.concat instead.\n",
      "  new_df= new_df.append(data, ignore_index=True)\n",
      "/tmp/ipykernel_24298/253161635.py:9: FutureWarning: The frame.append method is deprecated and will be removed from pandas in a future version. Use pandas.concat instead.\n",
      "  new_df= new_df.append(data, ignore_index=True)\n",
      "/tmp/ipykernel_24298/253161635.py:9: FutureWarning: The frame.append method is deprecated and will be removed from pandas in a future version. Use pandas.concat instead.\n",
      "  new_df= new_df.append(data, ignore_index=True)\n",
      "/tmp/ipykernel_24298/253161635.py:9: FutureWarning: The frame.append method is deprecated and will be removed from pandas in a future version. Use pandas.concat instead.\n",
      "  new_df= new_df.append(data, ignore_index=True)\n",
      "/tmp/ipykernel_24298/253161635.py:9: FutureWarning: The frame.append method is deprecated and will be removed from pandas in a future version. Use pandas.concat instead.\n",
      "  new_df= new_df.append(data, ignore_index=True)\n",
      "/tmp/ipykernel_24298/253161635.py:9: FutureWarning: The frame.append method is deprecated and will be removed from pandas in a future version. Use pandas.concat instead.\n",
      "  new_df= new_df.append(data, ignore_index=True)\n",
      "/tmp/ipykernel_24298/253161635.py:9: FutureWarning: The frame.append method is deprecated and will be removed from pandas in a future version. Use pandas.concat instead.\n",
      "  new_df= new_df.append(data, ignore_index=True)\n",
      "/tmp/ipykernel_24298/253161635.py:9: FutureWarning: The frame.append method is deprecated and will be removed from pandas in a future version. Use pandas.concat instead.\n",
      "  new_df= new_df.append(data, ignore_index=True)\n",
      "/tmp/ipykernel_24298/253161635.py:9: FutureWarning: The frame.append method is deprecated and will be removed from pandas in a future version. Use pandas.concat instead.\n",
      "  new_df= new_df.append(data, ignore_index=True)\n",
      "/tmp/ipykernel_24298/253161635.py:9: FutureWarning: The frame.append method is deprecated and will be removed from pandas in a future version. Use pandas.concat instead.\n",
      "  new_df= new_df.append(data, ignore_index=True)\n",
      "/tmp/ipykernel_24298/253161635.py:9: FutureWarning: The frame.append method is deprecated and will be removed from pandas in a future version. Use pandas.concat instead.\n",
      "  new_df= new_df.append(data, ignore_index=True)\n",
      "/tmp/ipykernel_24298/253161635.py:9: FutureWarning: The frame.append method is deprecated and will be removed from pandas in a future version. Use pandas.concat instead.\n",
      "  new_df= new_df.append(data, ignore_index=True)\n",
      "/tmp/ipykernel_24298/253161635.py:9: FutureWarning: The frame.append method is deprecated and will be removed from pandas in a future version. Use pandas.concat instead.\n",
      "  new_df= new_df.append(data, ignore_index=True)\n",
      "/tmp/ipykernel_24298/253161635.py:9: FutureWarning: The frame.append method is deprecated and will be removed from pandas in a future version. Use pandas.concat instead.\n",
      "  new_df= new_df.append(data, ignore_index=True)\n",
      "/tmp/ipykernel_24298/253161635.py:9: FutureWarning: The frame.append method is deprecated and will be removed from pandas in a future version. Use pandas.concat instead.\n",
      "  new_df= new_df.append(data, ignore_index=True)\n",
      "/tmp/ipykernel_24298/253161635.py:9: FutureWarning: The frame.append method is deprecated and will be removed from pandas in a future version. Use pandas.concat instead.\n",
      "  new_df= new_df.append(data, ignore_index=True)\n",
      "/tmp/ipykernel_24298/253161635.py:9: FutureWarning: The frame.append method is deprecated and will be removed from pandas in a future version. Use pandas.concat instead.\n",
      "  new_df= new_df.append(data, ignore_index=True)\n",
      "/tmp/ipykernel_24298/253161635.py:9: FutureWarning: The frame.append method is deprecated and will be removed from pandas in a future version. Use pandas.concat instead.\n",
      "  new_df= new_df.append(data, ignore_index=True)\n",
      "/tmp/ipykernel_24298/253161635.py:9: FutureWarning: The frame.append method is deprecated and will be removed from pandas in a future version. Use pandas.concat instead.\n",
      "  new_df= new_df.append(data, ignore_index=True)\n",
      "/tmp/ipykernel_24298/253161635.py:9: FutureWarning: The frame.append method is deprecated and will be removed from pandas in a future version. Use pandas.concat instead.\n",
      "  new_df= new_df.append(data, ignore_index=True)\n",
      "/tmp/ipykernel_24298/253161635.py:9: FutureWarning: The frame.append method is deprecated and will be removed from pandas in a future version. Use pandas.concat instead.\n",
      "  new_df= new_df.append(data, ignore_index=True)\n",
      "/tmp/ipykernel_24298/253161635.py:9: FutureWarning: The frame.append method is deprecated and will be removed from pandas in a future version. Use pandas.concat instead.\n",
      "  new_df= new_df.append(data, ignore_index=True)\n",
      "/tmp/ipykernel_24298/253161635.py:9: FutureWarning: The frame.append method is deprecated and will be removed from pandas in a future version. Use pandas.concat instead.\n",
      "  new_df= new_df.append(data, ignore_index=True)\n",
      "/tmp/ipykernel_24298/253161635.py:9: FutureWarning: The frame.append method is deprecated and will be removed from pandas in a future version. Use pandas.concat instead.\n",
      "  new_df= new_df.append(data, ignore_index=True)\n",
      "/tmp/ipykernel_24298/253161635.py:9: FutureWarning: The frame.append method is deprecated and will be removed from pandas in a future version. Use pandas.concat instead.\n",
      "  new_df= new_df.append(data, ignore_index=True)\n",
      "/tmp/ipykernel_24298/253161635.py:9: FutureWarning: The frame.append method is deprecated and will be removed from pandas in a future version. Use pandas.concat instead.\n",
      "  new_df= new_df.append(data, ignore_index=True)\n",
      "/tmp/ipykernel_24298/253161635.py:9: FutureWarning: The frame.append method is deprecated and will be removed from pandas in a future version. Use pandas.concat instead.\n",
      "  new_df= new_df.append(data, ignore_index=True)\n",
      "/tmp/ipykernel_24298/253161635.py:9: FutureWarning: The frame.append method is deprecated and will be removed from pandas in a future version. Use pandas.concat instead.\n",
      "  new_df= new_df.append(data, ignore_index=True)\n",
      "/tmp/ipykernel_24298/253161635.py:9: FutureWarning: The frame.append method is deprecated and will be removed from pandas in a future version. Use pandas.concat instead.\n",
      "  new_df= new_df.append(data, ignore_index=True)\n",
      "/tmp/ipykernel_24298/253161635.py:9: FutureWarning: The frame.append method is deprecated and will be removed from pandas in a future version. Use pandas.concat instead.\n",
      "  new_df= new_df.append(data, ignore_index=True)\n",
      "/tmp/ipykernel_24298/253161635.py:9: FutureWarning: The frame.append method is deprecated and will be removed from pandas in a future version. Use pandas.concat instead.\n",
      "  new_df= new_df.append(data, ignore_index=True)\n",
      "/tmp/ipykernel_24298/253161635.py:9: FutureWarning: The frame.append method is deprecated and will be removed from pandas in a future version. Use pandas.concat instead.\n",
      "  new_df= new_df.append(data, ignore_index=True)\n",
      "/tmp/ipykernel_24298/253161635.py:9: FutureWarning: The frame.append method is deprecated and will be removed from pandas in a future version. Use pandas.concat instead.\n",
      "  new_df= new_df.append(data, ignore_index=True)\n",
      "/tmp/ipykernel_24298/253161635.py:9: FutureWarning: The frame.append method is deprecated and will be removed from pandas in a future version. Use pandas.concat instead.\n",
      "  new_df= new_df.append(data, ignore_index=True)\n",
      "/tmp/ipykernel_24298/253161635.py:9: FutureWarning: The frame.append method is deprecated and will be removed from pandas in a future version. Use pandas.concat instead.\n",
      "  new_df= new_df.append(data, ignore_index=True)\n",
      "/tmp/ipykernel_24298/253161635.py:9: FutureWarning: The frame.append method is deprecated and will be removed from pandas in a future version. Use pandas.concat instead.\n",
      "  new_df= new_df.append(data, ignore_index=True)\n",
      "/tmp/ipykernel_24298/253161635.py:9: FutureWarning: The frame.append method is deprecated and will be removed from pandas in a future version. Use pandas.concat instead.\n",
      "  new_df= new_df.append(data, ignore_index=True)\n",
      "/tmp/ipykernel_24298/253161635.py:9: FutureWarning: The frame.append method is deprecated and will be removed from pandas in a future version. Use pandas.concat instead.\n",
      "  new_df= new_df.append(data, ignore_index=True)\n",
      "/tmp/ipykernel_24298/253161635.py:9: FutureWarning: The frame.append method is deprecated and will be removed from pandas in a future version. Use pandas.concat instead.\n",
      "  new_df= new_df.append(data, ignore_index=True)\n",
      "/tmp/ipykernel_24298/253161635.py:9: FutureWarning: The frame.append method is deprecated and will be removed from pandas in a future version. Use pandas.concat instead.\n",
      "  new_df= new_df.append(data, ignore_index=True)\n",
      "/tmp/ipykernel_24298/253161635.py:9: FutureWarning: The frame.append method is deprecated and will be removed from pandas in a future version. Use pandas.concat instead.\n",
      "  new_df= new_df.append(data, ignore_index=True)\n",
      "/tmp/ipykernel_24298/253161635.py:9: FutureWarning: The frame.append method is deprecated and will be removed from pandas in a future version. Use pandas.concat instead.\n",
      "  new_df= new_df.append(data, ignore_index=True)\n",
      "/tmp/ipykernel_24298/253161635.py:9: FutureWarning: The frame.append method is deprecated and will be removed from pandas in a future version. Use pandas.concat instead.\n",
      "  new_df= new_df.append(data, ignore_index=True)\n",
      "/tmp/ipykernel_24298/253161635.py:9: FutureWarning: The frame.append method is deprecated and will be removed from pandas in a future version. Use pandas.concat instead.\n",
      "  new_df= new_df.append(data, ignore_index=True)\n",
      "/tmp/ipykernel_24298/253161635.py:9: FutureWarning: The frame.append method is deprecated and will be removed from pandas in a future version. Use pandas.concat instead.\n",
      "  new_df= new_df.append(data, ignore_index=True)\n",
      "/tmp/ipykernel_24298/253161635.py:9: FutureWarning: The frame.append method is deprecated and will be removed from pandas in a future version. Use pandas.concat instead.\n",
      "  new_df= new_df.append(data, ignore_index=True)\n",
      "/tmp/ipykernel_24298/253161635.py:9: FutureWarning: The frame.append method is deprecated and will be removed from pandas in a future version. Use pandas.concat instead.\n",
      "  new_df= new_df.append(data, ignore_index=True)\n",
      "/tmp/ipykernel_24298/253161635.py:9: FutureWarning: The frame.append method is deprecated and will be removed from pandas in a future version. Use pandas.concat instead.\n",
      "  new_df= new_df.append(data, ignore_index=True)\n",
      "/tmp/ipykernel_24298/253161635.py:9: FutureWarning: The frame.append method is deprecated and will be removed from pandas in a future version. Use pandas.concat instead.\n",
      "  new_df= new_df.append(data, ignore_index=True)\n",
      "/tmp/ipykernel_24298/253161635.py:9: FutureWarning: The frame.append method is deprecated and will be removed from pandas in a future version. Use pandas.concat instead.\n",
      "  new_df= new_df.append(data, ignore_index=True)\n",
      "/tmp/ipykernel_24298/253161635.py:9: FutureWarning: The frame.append method is deprecated and will be removed from pandas in a future version. Use pandas.concat instead.\n",
      "  new_df= new_df.append(data, ignore_index=True)\n",
      "/tmp/ipykernel_24298/253161635.py:9: FutureWarning: The frame.append method is deprecated and will be removed from pandas in a future version. Use pandas.concat instead.\n",
      "  new_df= new_df.append(data, ignore_index=True)\n",
      "/tmp/ipykernel_24298/253161635.py:9: FutureWarning: The frame.append method is deprecated and will be removed from pandas in a future version. Use pandas.concat instead.\n",
      "  new_df= new_df.append(data, ignore_index=True)\n",
      "/tmp/ipykernel_24298/253161635.py:9: FutureWarning: The frame.append method is deprecated and will be removed from pandas in a future version. Use pandas.concat instead.\n",
      "  new_df= new_df.append(data, ignore_index=True)\n",
      "/tmp/ipykernel_24298/253161635.py:9: FutureWarning: The frame.append method is deprecated and will be removed from pandas in a future version. Use pandas.concat instead.\n",
      "  new_df= new_df.append(data, ignore_index=True)\n",
      "/tmp/ipykernel_24298/253161635.py:9: FutureWarning: The frame.append method is deprecated and will be removed from pandas in a future version. Use pandas.concat instead.\n",
      "  new_df= new_df.append(data, ignore_index=True)\n",
      "/tmp/ipykernel_24298/253161635.py:9: FutureWarning: The frame.append method is deprecated and will be removed from pandas in a future version. Use pandas.concat instead.\n",
      "  new_df= new_df.append(data, ignore_index=True)\n",
      "/tmp/ipykernel_24298/253161635.py:9: FutureWarning: The frame.append method is deprecated and will be removed from pandas in a future version. Use pandas.concat instead.\n",
      "  new_df= new_df.append(data, ignore_index=True)\n",
      "/tmp/ipykernel_24298/253161635.py:9: FutureWarning: The frame.append method is deprecated and will be removed from pandas in a future version. Use pandas.concat instead.\n",
      "  new_df= new_df.append(data, ignore_index=True)\n",
      "/tmp/ipykernel_24298/253161635.py:9: FutureWarning: The frame.append method is deprecated and will be removed from pandas in a future version. Use pandas.concat instead.\n",
      "  new_df= new_df.append(data, ignore_index=True)\n",
      "/tmp/ipykernel_24298/253161635.py:9: FutureWarning: The frame.append method is deprecated and will be removed from pandas in a future version. Use pandas.concat instead.\n",
      "  new_df= new_df.append(data, ignore_index=True)\n",
      "/tmp/ipykernel_24298/253161635.py:9: FutureWarning: The frame.append method is deprecated and will be removed from pandas in a future version. Use pandas.concat instead.\n",
      "  new_df= new_df.append(data, ignore_index=True)\n",
      "/tmp/ipykernel_24298/253161635.py:9: FutureWarning: The frame.append method is deprecated and will be removed from pandas in a future version. Use pandas.concat instead.\n",
      "  new_df= new_df.append(data, ignore_index=True)\n",
      "/tmp/ipykernel_24298/253161635.py:9: FutureWarning: The frame.append method is deprecated and will be removed from pandas in a future version. Use pandas.concat instead.\n",
      "  new_df= new_df.append(data, ignore_index=True)\n",
      "/tmp/ipykernel_24298/253161635.py:9: FutureWarning: The frame.append method is deprecated and will be removed from pandas in a future version. Use pandas.concat instead.\n",
      "  new_df= new_df.append(data, ignore_index=True)\n",
      "/tmp/ipykernel_24298/253161635.py:9: FutureWarning: The frame.append method is deprecated and will be removed from pandas in a future version. Use pandas.concat instead.\n",
      "  new_df= new_df.append(data, ignore_index=True)\n",
      "/tmp/ipykernel_24298/253161635.py:9: FutureWarning: The frame.append method is deprecated and will be removed from pandas in a future version. Use pandas.concat instead.\n",
      "  new_df= new_df.append(data, ignore_index=True)\n",
      "/tmp/ipykernel_24298/253161635.py:9: FutureWarning: The frame.append method is deprecated and will be removed from pandas in a future version. Use pandas.concat instead.\n",
      "  new_df= new_df.append(data, ignore_index=True)\n",
      "/tmp/ipykernel_24298/253161635.py:9: FutureWarning: The frame.append method is deprecated and will be removed from pandas in a future version. Use pandas.concat instead.\n",
      "  new_df= new_df.append(data, ignore_index=True)\n",
      "/tmp/ipykernel_24298/253161635.py:9: FutureWarning: The frame.append method is deprecated and will be removed from pandas in a future version. Use pandas.concat instead.\n",
      "  new_df= new_df.append(data, ignore_index=True)\n",
      "/tmp/ipykernel_24298/253161635.py:9: FutureWarning: The frame.append method is deprecated and will be removed from pandas in a future version. Use pandas.concat instead.\n",
      "  new_df= new_df.append(data, ignore_index=True)\n",
      "/tmp/ipykernel_24298/253161635.py:9: FutureWarning: The frame.append method is deprecated and will be removed from pandas in a future version. Use pandas.concat instead.\n",
      "  new_df= new_df.append(data, ignore_index=True)\n",
      "/tmp/ipykernel_24298/253161635.py:9: FutureWarning: The frame.append method is deprecated and will be removed from pandas in a future version. Use pandas.concat instead.\n",
      "  new_df= new_df.append(data, ignore_index=True)\n",
      "/tmp/ipykernel_24298/253161635.py:9: FutureWarning: The frame.append method is deprecated and will be removed from pandas in a future version. Use pandas.concat instead.\n",
      "  new_df= new_df.append(data, ignore_index=True)\n",
      "/tmp/ipykernel_24298/253161635.py:9: FutureWarning: The frame.append method is deprecated and will be removed from pandas in a future version. Use pandas.concat instead.\n",
      "  new_df= new_df.append(data, ignore_index=True)\n",
      "/tmp/ipykernel_24298/253161635.py:9: FutureWarning: The frame.append method is deprecated and will be removed from pandas in a future version. Use pandas.concat instead.\n",
      "  new_df= new_df.append(data, ignore_index=True)\n",
      "/tmp/ipykernel_24298/253161635.py:9: FutureWarning: The frame.append method is deprecated and will be removed from pandas in a future version. Use pandas.concat instead.\n",
      "  new_df= new_df.append(data, ignore_index=True)\n",
      "/tmp/ipykernel_24298/253161635.py:9: FutureWarning: The frame.append method is deprecated and will be removed from pandas in a future version. Use pandas.concat instead.\n",
      "  new_df= new_df.append(data, ignore_index=True)\n",
      "/tmp/ipykernel_24298/253161635.py:9: FutureWarning: The frame.append method is deprecated and will be removed from pandas in a future version. Use pandas.concat instead.\n",
      "  new_df= new_df.append(data, ignore_index=True)\n",
      "/tmp/ipykernel_24298/253161635.py:9: FutureWarning: The frame.append method is deprecated and will be removed from pandas in a future version. Use pandas.concat instead.\n",
      "  new_df= new_df.append(data, ignore_index=True)\n",
      "/tmp/ipykernel_24298/253161635.py:9: FutureWarning: The frame.append method is deprecated and will be removed from pandas in a future version. Use pandas.concat instead.\n",
      "  new_df= new_df.append(data, ignore_index=True)\n",
      "/tmp/ipykernel_24298/253161635.py:9: FutureWarning: The frame.append method is deprecated and will be removed from pandas in a future version. Use pandas.concat instead.\n",
      "  new_df= new_df.append(data, ignore_index=True)\n",
      "/tmp/ipykernel_24298/253161635.py:9: FutureWarning: The frame.append method is deprecated and will be removed from pandas in a future version. Use pandas.concat instead.\n",
      "  new_df= new_df.append(data, ignore_index=True)\n",
      "/tmp/ipykernel_24298/253161635.py:9: FutureWarning: The frame.append method is deprecated and will be removed from pandas in a future version. Use pandas.concat instead.\n",
      "  new_df= new_df.append(data, ignore_index=True)\n",
      "/tmp/ipykernel_24298/253161635.py:9: FutureWarning: The frame.append method is deprecated and will be removed from pandas in a future version. Use pandas.concat instead.\n",
      "  new_df= new_df.append(data, ignore_index=True)\n",
      "/tmp/ipykernel_24298/253161635.py:9: FutureWarning: The frame.append method is deprecated and will be removed from pandas in a future version. Use pandas.concat instead.\n",
      "  new_df= new_df.append(data, ignore_index=True)\n",
      "/tmp/ipykernel_24298/253161635.py:9: FutureWarning: The frame.append method is deprecated and will be removed from pandas in a future version. Use pandas.concat instead.\n",
      "  new_df= new_df.append(data, ignore_index=True)\n",
      "/tmp/ipykernel_24298/253161635.py:9: FutureWarning: The frame.append method is deprecated and will be removed from pandas in a future version. Use pandas.concat instead.\n",
      "  new_df= new_df.append(data, ignore_index=True)\n",
      "/tmp/ipykernel_24298/253161635.py:9: FutureWarning: The frame.append method is deprecated and will be removed from pandas in a future version. Use pandas.concat instead.\n",
      "  new_df= new_df.append(data, ignore_index=True)\n",
      "/tmp/ipykernel_24298/253161635.py:9: FutureWarning: The frame.append method is deprecated and will be removed from pandas in a future version. Use pandas.concat instead.\n",
      "  new_df= new_df.append(data, ignore_index=True)\n",
      "/tmp/ipykernel_24298/253161635.py:9: FutureWarning: The frame.append method is deprecated and will be removed from pandas in a future version. Use pandas.concat instead.\n",
      "  new_df= new_df.append(data, ignore_index=True)\n",
      "/tmp/ipykernel_24298/253161635.py:9: FutureWarning: The frame.append method is deprecated and will be removed from pandas in a future version. Use pandas.concat instead.\n",
      "  new_df= new_df.append(data, ignore_index=True)\n",
      "/tmp/ipykernel_24298/253161635.py:9: FutureWarning: The frame.append method is deprecated and will be removed from pandas in a future version. Use pandas.concat instead.\n",
      "  new_df= new_df.append(data, ignore_index=True)\n",
      "/tmp/ipykernel_24298/253161635.py:9: FutureWarning: The frame.append method is deprecated and will be removed from pandas in a future version. Use pandas.concat instead.\n",
      "  new_df= new_df.append(data, ignore_index=True)\n",
      "/tmp/ipykernel_24298/253161635.py:9: FutureWarning: The frame.append method is deprecated and will be removed from pandas in a future version. Use pandas.concat instead.\n",
      "  new_df= new_df.append(data, ignore_index=True)\n",
      "/tmp/ipykernel_24298/253161635.py:9: FutureWarning: The frame.append method is deprecated and will be removed from pandas in a future version. Use pandas.concat instead.\n",
      "  new_df= new_df.append(data, ignore_index=True)\n",
      "/tmp/ipykernel_24298/253161635.py:9: FutureWarning: The frame.append method is deprecated and will be removed from pandas in a future version. Use pandas.concat instead.\n",
      "  new_df= new_df.append(data, ignore_index=True)\n",
      "/tmp/ipykernel_24298/253161635.py:9: FutureWarning: The frame.append method is deprecated and will be removed from pandas in a future version. Use pandas.concat instead.\n",
      "  new_df= new_df.append(data, ignore_index=True)\n",
      "/tmp/ipykernel_24298/253161635.py:9: FutureWarning: The frame.append method is deprecated and will be removed from pandas in a future version. Use pandas.concat instead.\n",
      "  new_df= new_df.append(data, ignore_index=True)\n",
      "/tmp/ipykernel_24298/253161635.py:9: FutureWarning: The frame.append method is deprecated and will be removed from pandas in a future version. Use pandas.concat instead.\n",
      "  new_df= new_df.append(data, ignore_index=True)\n",
      "/tmp/ipykernel_24298/253161635.py:9: FutureWarning: The frame.append method is deprecated and will be removed from pandas in a future version. Use pandas.concat instead.\n",
      "  new_df= new_df.append(data, ignore_index=True)\n",
      "/tmp/ipykernel_24298/253161635.py:9: FutureWarning: The frame.append method is deprecated and will be removed from pandas in a future version. Use pandas.concat instead.\n",
      "  new_df= new_df.append(data, ignore_index=True)\n",
      "/tmp/ipykernel_24298/253161635.py:9: FutureWarning: The frame.append method is deprecated and will be removed from pandas in a future version. Use pandas.concat instead.\n",
      "  new_df= new_df.append(data, ignore_index=True)\n",
      "/tmp/ipykernel_24298/253161635.py:9: FutureWarning: The frame.append method is deprecated and will be removed from pandas in a future version. Use pandas.concat instead.\n",
      "  new_df= new_df.append(data, ignore_index=True)\n",
      "/tmp/ipykernel_24298/253161635.py:9: FutureWarning: The frame.append method is deprecated and will be removed from pandas in a future version. Use pandas.concat instead.\n",
      "  new_df= new_df.append(data, ignore_index=True)\n",
      "/tmp/ipykernel_24298/253161635.py:9: FutureWarning: The frame.append method is deprecated and will be removed from pandas in a future version. Use pandas.concat instead.\n",
      "  new_df= new_df.append(data, ignore_index=True)\n",
      "/tmp/ipykernel_24298/253161635.py:9: FutureWarning: The frame.append method is deprecated and will be removed from pandas in a future version. Use pandas.concat instead.\n",
      "  new_df= new_df.append(data, ignore_index=True)\n",
      "/tmp/ipykernel_24298/253161635.py:9: FutureWarning: The frame.append method is deprecated and will be removed from pandas in a future version. Use pandas.concat instead.\n",
      "  new_df= new_df.append(data, ignore_index=True)\n",
      "/tmp/ipykernel_24298/253161635.py:9: FutureWarning: The frame.append method is deprecated and will be removed from pandas in a future version. Use pandas.concat instead.\n",
      "  new_df= new_df.append(data, ignore_index=True)\n",
      "/tmp/ipykernel_24298/253161635.py:9: FutureWarning: The frame.append method is deprecated and will be removed from pandas in a future version. Use pandas.concat instead.\n",
      "  new_df= new_df.append(data, ignore_index=True)\n",
      "/tmp/ipykernel_24298/253161635.py:9: FutureWarning: The frame.append method is deprecated and will be removed from pandas in a future version. Use pandas.concat instead.\n",
      "  new_df= new_df.append(data, ignore_index=True)\n",
      "/tmp/ipykernel_24298/253161635.py:9: FutureWarning: The frame.append method is deprecated and will be removed from pandas in a future version. Use pandas.concat instead.\n",
      "  new_df= new_df.append(data, ignore_index=True)\n",
      "/tmp/ipykernel_24298/253161635.py:9: FutureWarning: The frame.append method is deprecated and will be removed from pandas in a future version. Use pandas.concat instead.\n",
      "  new_df= new_df.append(data, ignore_index=True)\n",
      "/tmp/ipykernel_24298/253161635.py:9: FutureWarning: The frame.append method is deprecated and will be removed from pandas in a future version. Use pandas.concat instead.\n",
      "  new_df= new_df.append(data, ignore_index=True)\n",
      "/tmp/ipykernel_24298/253161635.py:9: FutureWarning: The frame.append method is deprecated and will be removed from pandas in a future version. Use pandas.concat instead.\n",
      "  new_df= new_df.append(data, ignore_index=True)\n",
      "/tmp/ipykernel_24298/253161635.py:9: FutureWarning: The frame.append method is deprecated and will be removed from pandas in a future version. Use pandas.concat instead.\n",
      "  new_df= new_df.append(data, ignore_index=True)\n",
      "/tmp/ipykernel_24298/253161635.py:9: FutureWarning: The frame.append method is deprecated and will be removed from pandas in a future version. Use pandas.concat instead.\n",
      "  new_df= new_df.append(data, ignore_index=True)\n",
      "/tmp/ipykernel_24298/253161635.py:9: FutureWarning: The frame.append method is deprecated and will be removed from pandas in a future version. Use pandas.concat instead.\n",
      "  new_df= new_df.append(data, ignore_index=True)\n",
      "/tmp/ipykernel_24298/253161635.py:9: FutureWarning: The frame.append method is deprecated and will be removed from pandas in a future version. Use pandas.concat instead.\n",
      "  new_df= new_df.append(data, ignore_index=True)\n",
      "/tmp/ipykernel_24298/253161635.py:9: FutureWarning: The frame.append method is deprecated and will be removed from pandas in a future version. Use pandas.concat instead.\n",
      "  new_df= new_df.append(data, ignore_index=True)\n",
      "/tmp/ipykernel_24298/253161635.py:9: FutureWarning: The frame.append method is deprecated and will be removed from pandas in a future version. Use pandas.concat instead.\n",
      "  new_df= new_df.append(data, ignore_index=True)\n",
      "/tmp/ipykernel_24298/253161635.py:9: FutureWarning: The frame.append method is deprecated and will be removed from pandas in a future version. Use pandas.concat instead.\n",
      "  new_df= new_df.append(data, ignore_index=True)\n",
      "/tmp/ipykernel_24298/253161635.py:9: FutureWarning: The frame.append method is deprecated and will be removed from pandas in a future version. Use pandas.concat instead.\n",
      "  new_df= new_df.append(data, ignore_index=True)\n",
      "/tmp/ipykernel_24298/253161635.py:9: FutureWarning: The frame.append method is deprecated and will be removed from pandas in a future version. Use pandas.concat instead.\n",
      "  new_df= new_df.append(data, ignore_index=True)\n",
      "/tmp/ipykernel_24298/253161635.py:9: FutureWarning: The frame.append method is deprecated and will be removed from pandas in a future version. Use pandas.concat instead.\n",
      "  new_df= new_df.append(data, ignore_index=True)\n",
      "/tmp/ipykernel_24298/253161635.py:9: FutureWarning: The frame.append method is deprecated and will be removed from pandas in a future version. Use pandas.concat instead.\n",
      "  new_df= new_df.append(data, ignore_index=True)\n",
      "/tmp/ipykernel_24298/253161635.py:9: FutureWarning: The frame.append method is deprecated and will be removed from pandas in a future version. Use pandas.concat instead.\n",
      "  new_df= new_df.append(data, ignore_index=True)\n",
      "/tmp/ipykernel_24298/253161635.py:9: FutureWarning: The frame.append method is deprecated and will be removed from pandas in a future version. Use pandas.concat instead.\n",
      "  new_df= new_df.append(data, ignore_index=True)\n",
      "/tmp/ipykernel_24298/253161635.py:9: FutureWarning: The frame.append method is deprecated and will be removed from pandas in a future version. Use pandas.concat instead.\n",
      "  new_df= new_df.append(data, ignore_index=True)\n",
      "/tmp/ipykernel_24298/253161635.py:9: FutureWarning: The frame.append method is deprecated and will be removed from pandas in a future version. Use pandas.concat instead.\n",
      "  new_df= new_df.append(data, ignore_index=True)\n"
     ]
    },
    {
     "name": "stdout",
     "output_type": "stream",
     "text": [
      "save normal_old_image 936\n",
      "save image 1\n",
      "save image 2\n",
      "save image 3\n",
      "save image 4\n",
      "save image 5\n"
     ]
    },
    {
     "name": "stderr",
     "output_type": "stream",
     "text": [
      "/tmp/ipykernel_24298/253161635.py:19: FutureWarning: The frame.append method is deprecated and will be removed from pandas in a future version. Use pandas.concat instead.\n",
      "  new_df= new_df.append(data, ignore_index=True)\n",
      "/tmp/ipykernel_24298/253161635.py:19: FutureWarning: The frame.append method is deprecated and will be removed from pandas in a future version. Use pandas.concat instead.\n",
      "  new_df= new_df.append(data, ignore_index=True)\n",
      "/tmp/ipykernel_24298/253161635.py:19: FutureWarning: The frame.append method is deprecated and will be removed from pandas in a future version. Use pandas.concat instead.\n",
      "  new_df= new_df.append(data, ignore_index=True)\n",
      "/tmp/ipykernel_24298/253161635.py:19: FutureWarning: The frame.append method is deprecated and will be removed from pandas in a future version. Use pandas.concat instead.\n",
      "  new_df= new_df.append(data, ignore_index=True)\n",
      "/tmp/ipykernel_24298/253161635.py:19: FutureWarning: The frame.append method is deprecated and will be removed from pandas in a future version. Use pandas.concat instead.\n",
      "  new_df= new_df.append(data, ignore_index=True)\n",
      "/tmp/ipykernel_24298/253161635.py:19: FutureWarning: The frame.append method is deprecated and will be removed from pandas in a future version. Use pandas.concat instead.\n",
      "  new_df= new_df.append(data, ignore_index=True)\n"
     ]
    },
    {
     "name": "stdout",
     "output_type": "stream",
     "text": [
      "save image 6\n",
      "save image 7\n",
      "save image 8\n",
      "save image 9\n"
     ]
    },
    {
     "name": "stderr",
     "output_type": "stream",
     "text": [
      "/tmp/ipykernel_24298/253161635.py:19: FutureWarning: The frame.append method is deprecated and will be removed from pandas in a future version. Use pandas.concat instead.\n",
      "  new_df= new_df.append(data, ignore_index=True)\n",
      "/tmp/ipykernel_24298/253161635.py:19: FutureWarning: The frame.append method is deprecated and will be removed from pandas in a future version. Use pandas.concat instead.\n",
      "  new_df= new_df.append(data, ignore_index=True)\n",
      "/tmp/ipykernel_24298/253161635.py:19: FutureWarning: The frame.append method is deprecated and will be removed from pandas in a future version. Use pandas.concat instead.\n",
      "  new_df= new_df.append(data, ignore_index=True)\n",
      "/tmp/ipykernel_24298/253161635.py:19: FutureWarning: The frame.append method is deprecated and will be removed from pandas in a future version. Use pandas.concat instead.\n",
      "  new_df= new_df.append(data, ignore_index=True)\n"
     ]
    },
    {
     "name": "stdout",
     "output_type": "stream",
     "text": [
      "save image 10\n",
      "save image 11\n",
      "save image 12\n",
      "save image 13\n",
      "save image 14\n"
     ]
    },
    {
     "name": "stderr",
     "output_type": "stream",
     "text": [
      "/tmp/ipykernel_24298/253161635.py:19: FutureWarning: The frame.append method is deprecated and will be removed from pandas in a future version. Use pandas.concat instead.\n",
      "  new_df= new_df.append(data, ignore_index=True)\n",
      "/tmp/ipykernel_24298/253161635.py:19: FutureWarning: The frame.append method is deprecated and will be removed from pandas in a future version. Use pandas.concat instead.\n",
      "  new_df= new_df.append(data, ignore_index=True)\n",
      "/tmp/ipykernel_24298/253161635.py:19: FutureWarning: The frame.append method is deprecated and will be removed from pandas in a future version. Use pandas.concat instead.\n",
      "  new_df= new_df.append(data, ignore_index=True)\n",
      "/tmp/ipykernel_24298/253161635.py:19: FutureWarning: The frame.append method is deprecated and will be removed from pandas in a future version. Use pandas.concat instead.\n",
      "  new_df= new_df.append(data, ignore_index=True)\n",
      "/tmp/ipykernel_24298/253161635.py:19: FutureWarning: The frame.append method is deprecated and will be removed from pandas in a future version. Use pandas.concat instead.\n",
      "  new_df= new_df.append(data, ignore_index=True)\n"
     ]
    },
    {
     "name": "stdout",
     "output_type": "stream",
     "text": [
      "save image 15\n",
      "save image 16\n",
      "save image 17\n",
      "save image 18\n",
      "save image 19\n"
     ]
    },
    {
     "name": "stderr",
     "output_type": "stream",
     "text": [
      "/tmp/ipykernel_24298/253161635.py:19: FutureWarning: The frame.append method is deprecated and will be removed from pandas in a future version. Use pandas.concat instead.\n",
      "  new_df= new_df.append(data, ignore_index=True)\n",
      "/tmp/ipykernel_24298/253161635.py:19: FutureWarning: The frame.append method is deprecated and will be removed from pandas in a future version. Use pandas.concat instead.\n",
      "  new_df= new_df.append(data, ignore_index=True)\n",
      "/tmp/ipykernel_24298/253161635.py:19: FutureWarning: The frame.append method is deprecated and will be removed from pandas in a future version. Use pandas.concat instead.\n",
      "  new_df= new_df.append(data, ignore_index=True)\n",
      "/tmp/ipykernel_24298/253161635.py:19: FutureWarning: The frame.append method is deprecated and will be removed from pandas in a future version. Use pandas.concat instead.\n",
      "  new_df= new_df.append(data, ignore_index=True)\n",
      "/tmp/ipykernel_24298/253161635.py:19: FutureWarning: The frame.append method is deprecated and will be removed from pandas in a future version. Use pandas.concat instead.\n",
      "  new_df= new_df.append(data, ignore_index=True)\n"
     ]
    },
    {
     "name": "stdout",
     "output_type": "stream",
     "text": [
      "save image 20\n",
      "save image 21\n",
      "save image 22\n",
      "save image 23\n",
      "save image 24\n"
     ]
    },
    {
     "name": "stderr",
     "output_type": "stream",
     "text": [
      "/tmp/ipykernel_24298/253161635.py:19: FutureWarning: The frame.append method is deprecated and will be removed from pandas in a future version. Use pandas.concat instead.\n",
      "  new_df= new_df.append(data, ignore_index=True)\n",
      "/tmp/ipykernel_24298/253161635.py:19: FutureWarning: The frame.append method is deprecated and will be removed from pandas in a future version. Use pandas.concat instead.\n",
      "  new_df= new_df.append(data, ignore_index=True)\n",
      "/tmp/ipykernel_24298/253161635.py:19: FutureWarning: The frame.append method is deprecated and will be removed from pandas in a future version. Use pandas.concat instead.\n",
      "  new_df= new_df.append(data, ignore_index=True)\n",
      "/tmp/ipykernel_24298/253161635.py:19: FutureWarning: The frame.append method is deprecated and will be removed from pandas in a future version. Use pandas.concat instead.\n",
      "  new_df= new_df.append(data, ignore_index=True)\n",
      "/tmp/ipykernel_24298/253161635.py:19: FutureWarning: The frame.append method is deprecated and will be removed from pandas in a future version. Use pandas.concat instead.\n",
      "  new_df= new_df.append(data, ignore_index=True)\n"
     ]
    },
    {
     "name": "stdout",
     "output_type": "stream",
     "text": [
      "save image 25\n",
      "save image 26\n",
      "save image 27\n",
      "save image 28\n",
      "save image 29\n"
     ]
    },
    {
     "name": "stderr",
     "output_type": "stream",
     "text": [
      "/tmp/ipykernel_24298/253161635.py:19: FutureWarning: The frame.append method is deprecated and will be removed from pandas in a future version. Use pandas.concat instead.\n",
      "  new_df= new_df.append(data, ignore_index=True)\n",
      "/tmp/ipykernel_24298/253161635.py:19: FutureWarning: The frame.append method is deprecated and will be removed from pandas in a future version. Use pandas.concat instead.\n",
      "  new_df= new_df.append(data, ignore_index=True)\n",
      "/tmp/ipykernel_24298/253161635.py:19: FutureWarning: The frame.append method is deprecated and will be removed from pandas in a future version. Use pandas.concat instead.\n",
      "  new_df= new_df.append(data, ignore_index=True)\n",
      "/tmp/ipykernel_24298/253161635.py:19: FutureWarning: The frame.append method is deprecated and will be removed from pandas in a future version. Use pandas.concat instead.\n",
      "  new_df= new_df.append(data, ignore_index=True)\n",
      "/tmp/ipykernel_24298/253161635.py:19: FutureWarning: The frame.append method is deprecated and will be removed from pandas in a future version. Use pandas.concat instead.\n",
      "  new_df= new_df.append(data, ignore_index=True)\n"
     ]
    },
    {
     "name": "stdout",
     "output_type": "stream",
     "text": [
      "save image 30\n",
      "save image 31\n",
      "save image 32\n",
      "save image 33\n",
      "save image 34\n"
     ]
    },
    {
     "name": "stderr",
     "output_type": "stream",
     "text": [
      "/tmp/ipykernel_24298/253161635.py:19: FutureWarning: The frame.append method is deprecated and will be removed from pandas in a future version. Use pandas.concat instead.\n",
      "  new_df= new_df.append(data, ignore_index=True)\n",
      "/tmp/ipykernel_24298/253161635.py:19: FutureWarning: The frame.append method is deprecated and will be removed from pandas in a future version. Use pandas.concat instead.\n",
      "  new_df= new_df.append(data, ignore_index=True)\n",
      "/tmp/ipykernel_24298/253161635.py:19: FutureWarning: The frame.append method is deprecated and will be removed from pandas in a future version. Use pandas.concat instead.\n",
      "  new_df= new_df.append(data, ignore_index=True)\n",
      "/tmp/ipykernel_24298/253161635.py:19: FutureWarning: The frame.append method is deprecated and will be removed from pandas in a future version. Use pandas.concat instead.\n",
      "  new_df= new_df.append(data, ignore_index=True)\n",
      "/tmp/ipykernel_24298/253161635.py:19: FutureWarning: The frame.append method is deprecated and will be removed from pandas in a future version. Use pandas.concat instead.\n",
      "  new_df= new_df.append(data, ignore_index=True)\n",
      "/tmp/ipykernel_24298/253161635.py:19: FutureWarning: The frame.append method is deprecated and will be removed from pandas in a future version. Use pandas.concat instead.\n",
      "  new_df= new_df.append(data, ignore_index=True)\n"
     ]
    },
    {
     "name": "stdout",
     "output_type": "stream",
     "text": [
      "save image 35\n",
      "save image 36\n",
      "save image 37\n",
      "save image 38\n",
      "save image 39\n",
      "save image 40\n",
      "save image 41\n"
     ]
    },
    {
     "name": "stderr",
     "output_type": "stream",
     "text": [
      "/tmp/ipykernel_24298/253161635.py:19: FutureWarning: The frame.append method is deprecated and will be removed from pandas in a future version. Use pandas.concat instead.\n",
      "  new_df= new_df.append(data, ignore_index=True)\n",
      "/tmp/ipykernel_24298/253161635.py:19: FutureWarning: The frame.append method is deprecated and will be removed from pandas in a future version. Use pandas.concat instead.\n",
      "  new_df= new_df.append(data, ignore_index=True)\n",
      "/tmp/ipykernel_24298/253161635.py:19: FutureWarning: The frame.append method is deprecated and will be removed from pandas in a future version. Use pandas.concat instead.\n",
      "  new_df= new_df.append(data, ignore_index=True)\n",
      "/tmp/ipykernel_24298/253161635.py:19: FutureWarning: The frame.append method is deprecated and will be removed from pandas in a future version. Use pandas.concat instead.\n",
      "  new_df= new_df.append(data, ignore_index=True)\n",
      "/tmp/ipykernel_24298/253161635.py:19: FutureWarning: The frame.append method is deprecated and will be removed from pandas in a future version. Use pandas.concat instead.\n",
      "  new_df= new_df.append(data, ignore_index=True)\n",
      "/tmp/ipykernel_24298/253161635.py:19: FutureWarning: The frame.append method is deprecated and will be removed from pandas in a future version. Use pandas.concat instead.\n",
      "  new_df= new_df.append(data, ignore_index=True)\n",
      "/tmp/ipykernel_24298/253161635.py:19: FutureWarning: The frame.append method is deprecated and will be removed from pandas in a future version. Use pandas.concat instead.\n",
      "  new_df= new_df.append(data, ignore_index=True)\n",
      "/tmp/ipykernel_24298/253161635.py:19: FutureWarning: The frame.append method is deprecated and will be removed from pandas in a future version. Use pandas.concat instead.\n",
      "  new_df= new_df.append(data, ignore_index=True)\n",
      "/tmp/ipykernel_24298/253161635.py:19: FutureWarning: The frame.append method is deprecated and will be removed from pandas in a future version. Use pandas.concat instead.\n",
      "  new_df= new_df.append(data, ignore_index=True)\n",
      "/tmp/ipykernel_24298/253161635.py:19: FutureWarning: The frame.append method is deprecated and will be removed from pandas in a future version. Use pandas.concat instead.\n",
      "  new_df= new_df.append(data, ignore_index=True)\n"
     ]
    },
    {
     "name": "stdout",
     "output_type": "stream",
     "text": [
      "save image 42\n",
      "save image 43\n",
      "save image 44\n",
      "save image 45\n",
      "save image 46\n"
     ]
    },
    {
     "name": "stderr",
     "output_type": "stream",
     "text": [
      "/tmp/ipykernel_24298/253161635.py:19: FutureWarning: The frame.append method is deprecated and will be removed from pandas in a future version. Use pandas.concat instead.\n",
      "  new_df= new_df.append(data, ignore_index=True)\n",
      "/tmp/ipykernel_24298/253161635.py:19: FutureWarning: The frame.append method is deprecated and will be removed from pandas in a future version. Use pandas.concat instead.\n",
      "  new_df= new_df.append(data, ignore_index=True)\n",
      "/tmp/ipykernel_24298/253161635.py:19: FutureWarning: The frame.append method is deprecated and will be removed from pandas in a future version. Use pandas.concat instead.\n",
      "  new_df= new_df.append(data, ignore_index=True)\n",
      "/tmp/ipykernel_24298/253161635.py:19: FutureWarning: The frame.append method is deprecated and will be removed from pandas in a future version. Use pandas.concat instead.\n",
      "  new_df= new_df.append(data, ignore_index=True)\n",
      "/tmp/ipykernel_24298/253161635.py:19: FutureWarning: The frame.append method is deprecated and will be removed from pandas in a future version. Use pandas.concat instead.\n",
      "  new_df= new_df.append(data, ignore_index=True)\n"
     ]
    },
    {
     "name": "stdout",
     "output_type": "stream",
     "text": [
      "save image 47\n",
      "save image 48\n",
      "save image 49\n",
      "save image 50\n",
      "save image 51\n"
     ]
    },
    {
     "name": "stderr",
     "output_type": "stream",
     "text": [
      "/tmp/ipykernel_24298/253161635.py:19: FutureWarning: The frame.append method is deprecated and will be removed from pandas in a future version. Use pandas.concat instead.\n",
      "  new_df= new_df.append(data, ignore_index=True)\n",
      "/tmp/ipykernel_24298/253161635.py:19: FutureWarning: The frame.append method is deprecated and will be removed from pandas in a future version. Use pandas.concat instead.\n",
      "  new_df= new_df.append(data, ignore_index=True)\n",
      "/tmp/ipykernel_24298/253161635.py:19: FutureWarning: The frame.append method is deprecated and will be removed from pandas in a future version. Use pandas.concat instead.\n",
      "  new_df= new_df.append(data, ignore_index=True)\n",
      "/tmp/ipykernel_24298/253161635.py:19: FutureWarning: The frame.append method is deprecated and will be removed from pandas in a future version. Use pandas.concat instead.\n",
      "  new_df= new_df.append(data, ignore_index=True)\n"
     ]
    },
    {
     "name": "stdout",
     "output_type": "stream",
     "text": [
      "save image 52\n",
      "save image 53\n",
      "save image 54\n",
      "save image 55\n"
     ]
    },
    {
     "name": "stderr",
     "output_type": "stream",
     "text": [
      "/tmp/ipykernel_24298/253161635.py:19: FutureWarning: The frame.append method is deprecated and will be removed from pandas in a future version. Use pandas.concat instead.\n",
      "  new_df= new_df.append(data, ignore_index=True)\n",
      "/tmp/ipykernel_24298/253161635.py:19: FutureWarning: The frame.append method is deprecated and will be removed from pandas in a future version. Use pandas.concat instead.\n",
      "  new_df= new_df.append(data, ignore_index=True)\n",
      "/tmp/ipykernel_24298/253161635.py:19: FutureWarning: The frame.append method is deprecated and will be removed from pandas in a future version. Use pandas.concat instead.\n",
      "  new_df= new_df.append(data, ignore_index=True)\n",
      "/tmp/ipykernel_24298/253161635.py:19: FutureWarning: The frame.append method is deprecated and will be removed from pandas in a future version. Use pandas.concat instead.\n",
      "  new_df= new_df.append(data, ignore_index=True)\n"
     ]
    },
    {
     "name": "stdout",
     "output_type": "stream",
     "text": [
      "save image 56\n",
      "save image 57\n",
      "save image 58\n",
      "save image 59\n"
     ]
    },
    {
     "name": "stderr",
     "output_type": "stream",
     "text": [
      "/tmp/ipykernel_24298/253161635.py:19: FutureWarning: The frame.append method is deprecated and will be removed from pandas in a future version. Use pandas.concat instead.\n",
      "  new_df= new_df.append(data, ignore_index=True)\n",
      "/tmp/ipykernel_24298/253161635.py:19: FutureWarning: The frame.append method is deprecated and will be removed from pandas in a future version. Use pandas.concat instead.\n",
      "  new_df= new_df.append(data, ignore_index=True)\n",
      "/tmp/ipykernel_24298/253161635.py:19: FutureWarning: The frame.append method is deprecated and will be removed from pandas in a future version. Use pandas.concat instead.\n",
      "  new_df= new_df.append(data, ignore_index=True)\n",
      "/tmp/ipykernel_24298/253161635.py:19: FutureWarning: The frame.append method is deprecated and will be removed from pandas in a future version. Use pandas.concat instead.\n",
      "  new_df= new_df.append(data, ignore_index=True)\n",
      "/tmp/ipykernel_24298/253161635.py:19: FutureWarning: The frame.append method is deprecated and will be removed from pandas in a future version. Use pandas.concat instead.\n",
      "  new_df= new_df.append(data, ignore_index=True)\n",
      "/tmp/ipykernel_24298/253161635.py:19: FutureWarning: The frame.append method is deprecated and will be removed from pandas in a future version. Use pandas.concat instead.\n",
      "  new_df= new_df.append(data, ignore_index=True)\n"
     ]
    },
    {
     "name": "stdout",
     "output_type": "stream",
     "text": [
      "save image 60\n",
      "save image 61\n",
      "save image 62\n",
      "save image 63\n",
      "save image 64\n",
      "save image 65\n"
     ]
    },
    {
     "name": "stderr",
     "output_type": "stream",
     "text": [
      "/tmp/ipykernel_24298/253161635.py:19: FutureWarning: The frame.append method is deprecated and will be removed from pandas in a future version. Use pandas.concat instead.\n",
      "  new_df= new_df.append(data, ignore_index=True)\n",
      "/tmp/ipykernel_24298/253161635.py:19: FutureWarning: The frame.append method is deprecated and will be removed from pandas in a future version. Use pandas.concat instead.\n",
      "  new_df= new_df.append(data, ignore_index=True)\n",
      "/tmp/ipykernel_24298/253161635.py:19: FutureWarning: The frame.append method is deprecated and will be removed from pandas in a future version. Use pandas.concat instead.\n",
      "  new_df= new_df.append(data, ignore_index=True)\n",
      "/tmp/ipykernel_24298/253161635.py:19: FutureWarning: The frame.append method is deprecated and will be removed from pandas in a future version. Use pandas.concat instead.\n",
      "  new_df= new_df.append(data, ignore_index=True)\n",
      "/tmp/ipykernel_24298/253161635.py:19: FutureWarning: The frame.append method is deprecated and will be removed from pandas in a future version. Use pandas.concat instead.\n",
      "  new_df= new_df.append(data, ignore_index=True)\n"
     ]
    },
    {
     "name": "stdout",
     "output_type": "stream",
     "text": [
      "save image 66\n",
      "save image 67\n",
      "save image 68\n",
      "save image 69\n",
      "save image 70\n"
     ]
    },
    {
     "name": "stderr",
     "output_type": "stream",
     "text": [
      "/tmp/ipykernel_24298/253161635.py:19: FutureWarning: The frame.append method is deprecated and will be removed from pandas in a future version. Use pandas.concat instead.\n",
      "  new_df= new_df.append(data, ignore_index=True)\n",
      "/tmp/ipykernel_24298/253161635.py:19: FutureWarning: The frame.append method is deprecated and will be removed from pandas in a future version. Use pandas.concat instead.\n",
      "  new_df= new_df.append(data, ignore_index=True)\n",
      "/tmp/ipykernel_24298/253161635.py:19: FutureWarning: The frame.append method is deprecated and will be removed from pandas in a future version. Use pandas.concat instead.\n",
      "  new_df= new_df.append(data, ignore_index=True)\n",
      "/tmp/ipykernel_24298/253161635.py:19: FutureWarning: The frame.append method is deprecated and will be removed from pandas in a future version. Use pandas.concat instead.\n",
      "  new_df= new_df.append(data, ignore_index=True)\n",
      "/tmp/ipykernel_24298/253161635.py:19: FutureWarning: The frame.append method is deprecated and will be removed from pandas in a future version. Use pandas.concat instead.\n",
      "  new_df= new_df.append(data, ignore_index=True)\n"
     ]
    },
    {
     "name": "stdout",
     "output_type": "stream",
     "text": [
      "save image 71\n",
      "save image 72\n",
      "save image 73\n",
      "save image 74\n",
      "save image 75\n"
     ]
    },
    {
     "name": "stderr",
     "output_type": "stream",
     "text": [
      "/tmp/ipykernel_24298/253161635.py:19: FutureWarning: The frame.append method is deprecated and will be removed from pandas in a future version. Use pandas.concat instead.\n",
      "  new_df= new_df.append(data, ignore_index=True)\n",
      "/tmp/ipykernel_24298/253161635.py:19: FutureWarning: The frame.append method is deprecated and will be removed from pandas in a future version. Use pandas.concat instead.\n",
      "  new_df= new_df.append(data, ignore_index=True)\n",
      "/tmp/ipykernel_24298/253161635.py:19: FutureWarning: The frame.append method is deprecated and will be removed from pandas in a future version. Use pandas.concat instead.\n",
      "  new_df= new_df.append(data, ignore_index=True)\n",
      "/tmp/ipykernel_24298/253161635.py:19: FutureWarning: The frame.append method is deprecated and will be removed from pandas in a future version. Use pandas.concat instead.\n",
      "  new_df= new_df.append(data, ignore_index=True)\n",
      "/tmp/ipykernel_24298/253161635.py:19: FutureWarning: The frame.append method is deprecated and will be removed from pandas in a future version. Use pandas.concat instead.\n",
      "  new_df= new_df.append(data, ignore_index=True)\n"
     ]
    },
    {
     "name": "stdout",
     "output_type": "stream",
     "text": [
      "save image 76\n",
      "save image 77\n",
      "save image 78\n",
      "save image 79\n",
      "save image 80\n"
     ]
    },
    {
     "name": "stderr",
     "output_type": "stream",
     "text": [
      "/tmp/ipykernel_24298/253161635.py:19: FutureWarning: The frame.append method is deprecated and will be removed from pandas in a future version. Use pandas.concat instead.\n",
      "  new_df= new_df.append(data, ignore_index=True)\n",
      "/tmp/ipykernel_24298/253161635.py:19: FutureWarning: The frame.append method is deprecated and will be removed from pandas in a future version. Use pandas.concat instead.\n",
      "  new_df= new_df.append(data, ignore_index=True)\n",
      "/tmp/ipykernel_24298/253161635.py:19: FutureWarning: The frame.append method is deprecated and will be removed from pandas in a future version. Use pandas.concat instead.\n",
      "  new_df= new_df.append(data, ignore_index=True)\n",
      "/tmp/ipykernel_24298/253161635.py:19: FutureWarning: The frame.append method is deprecated and will be removed from pandas in a future version. Use pandas.concat instead.\n",
      "  new_df= new_df.append(data, ignore_index=True)\n",
      "/tmp/ipykernel_24298/253161635.py:19: FutureWarning: The frame.append method is deprecated and will be removed from pandas in a future version. Use pandas.concat instead.\n",
      "  new_df= new_df.append(data, ignore_index=True)\n"
     ]
    },
    {
     "name": "stdout",
     "output_type": "stream",
     "text": [
      "save image 81\n",
      "save image 82\n",
      "save image 83\n",
      "save image 84\n",
      "save image 85\n"
     ]
    },
    {
     "name": "stderr",
     "output_type": "stream",
     "text": [
      "/tmp/ipykernel_24298/253161635.py:19: FutureWarning: The frame.append method is deprecated and will be removed from pandas in a future version. Use pandas.concat instead.\n",
      "  new_df= new_df.append(data, ignore_index=True)\n",
      "/tmp/ipykernel_24298/253161635.py:19: FutureWarning: The frame.append method is deprecated and will be removed from pandas in a future version. Use pandas.concat instead.\n",
      "  new_df= new_df.append(data, ignore_index=True)\n",
      "/tmp/ipykernel_24298/253161635.py:19: FutureWarning: The frame.append method is deprecated and will be removed from pandas in a future version. Use pandas.concat instead.\n",
      "  new_df= new_df.append(data, ignore_index=True)\n",
      "/tmp/ipykernel_24298/253161635.py:19: FutureWarning: The frame.append method is deprecated and will be removed from pandas in a future version. Use pandas.concat instead.\n",
      "  new_df= new_df.append(data, ignore_index=True)\n",
      "/tmp/ipykernel_24298/253161635.py:19: FutureWarning: The frame.append method is deprecated and will be removed from pandas in a future version. Use pandas.concat instead.\n",
      "  new_df= new_df.append(data, ignore_index=True)\n",
      "/tmp/ipykernel_24298/253161635.py:19: FutureWarning: The frame.append method is deprecated and will be removed from pandas in a future version. Use pandas.concat instead.\n",
      "  new_df= new_df.append(data, ignore_index=True)\n"
     ]
    },
    {
     "name": "stdout",
     "output_type": "stream",
     "text": [
      "save image 86\n",
      "save image 87\n",
      "save image 88\n",
      "save image 89\n",
      "save image 90\n",
      "save image 91\n"
     ]
    },
    {
     "name": "stderr",
     "output_type": "stream",
     "text": [
      "/tmp/ipykernel_24298/253161635.py:19: FutureWarning: The frame.append method is deprecated and will be removed from pandas in a future version. Use pandas.concat instead.\n",
      "  new_df= new_df.append(data, ignore_index=True)\n",
      "/tmp/ipykernel_24298/253161635.py:19: FutureWarning: The frame.append method is deprecated and will be removed from pandas in a future version. Use pandas.concat instead.\n",
      "  new_df= new_df.append(data, ignore_index=True)\n",
      "/tmp/ipykernel_24298/253161635.py:19: FutureWarning: The frame.append method is deprecated and will be removed from pandas in a future version. Use pandas.concat instead.\n",
      "  new_df= new_df.append(data, ignore_index=True)\n",
      "/tmp/ipykernel_24298/253161635.py:19: FutureWarning: The frame.append method is deprecated and will be removed from pandas in a future version. Use pandas.concat instead.\n",
      "  new_df= new_df.append(data, ignore_index=True)\n",
      "/tmp/ipykernel_24298/253161635.py:19: FutureWarning: The frame.append method is deprecated and will be removed from pandas in a future version. Use pandas.concat instead.\n",
      "  new_df= new_df.append(data, ignore_index=True)\n",
      "/tmp/ipykernel_24298/253161635.py:19: FutureWarning: The frame.append method is deprecated and will be removed from pandas in a future version. Use pandas.concat instead.\n",
      "  new_df= new_df.append(data, ignore_index=True)\n"
     ]
    },
    {
     "name": "stdout",
     "output_type": "stream",
     "text": [
      "save image 92\n",
      "save image 93\n",
      "save image 94\n",
      "save image 95\n",
      "save image 96\n",
      "save image 97\n"
     ]
    },
    {
     "name": "stderr",
     "output_type": "stream",
     "text": [
      "/tmp/ipykernel_24298/253161635.py:19: FutureWarning: The frame.append method is deprecated and will be removed from pandas in a future version. Use pandas.concat instead.\n",
      "  new_df= new_df.append(data, ignore_index=True)\n",
      "/tmp/ipykernel_24298/253161635.py:19: FutureWarning: The frame.append method is deprecated and will be removed from pandas in a future version. Use pandas.concat instead.\n",
      "  new_df= new_df.append(data, ignore_index=True)\n",
      "/tmp/ipykernel_24298/253161635.py:19: FutureWarning: The frame.append method is deprecated and will be removed from pandas in a future version. Use pandas.concat instead.\n",
      "  new_df= new_df.append(data, ignore_index=True)\n",
      "/tmp/ipykernel_24298/253161635.py:19: FutureWarning: The frame.append method is deprecated and will be removed from pandas in a future version. Use pandas.concat instead.\n",
      "  new_df= new_df.append(data, ignore_index=True)\n"
     ]
    },
    {
     "name": "stdout",
     "output_type": "stream",
     "text": [
      "save image 98\n",
      "save image 99\n",
      "save image 100\n",
      "save image 101\n"
     ]
    },
    {
     "name": "stderr",
     "output_type": "stream",
     "text": [
      "/tmp/ipykernel_24298/253161635.py:19: FutureWarning: The frame.append method is deprecated and will be removed from pandas in a future version. Use pandas.concat instead.\n",
      "  new_df= new_df.append(data, ignore_index=True)\n",
      "/tmp/ipykernel_24298/253161635.py:19: FutureWarning: The frame.append method is deprecated and will be removed from pandas in a future version. Use pandas.concat instead.\n",
      "  new_df= new_df.append(data, ignore_index=True)\n",
      "/tmp/ipykernel_24298/253161635.py:19: FutureWarning: The frame.append method is deprecated and will be removed from pandas in a future version. Use pandas.concat instead.\n",
      "  new_df= new_df.append(data, ignore_index=True)\n",
      "/tmp/ipykernel_24298/253161635.py:19: FutureWarning: The frame.append method is deprecated and will be removed from pandas in a future version. Use pandas.concat instead.\n",
      "  new_df= new_df.append(data, ignore_index=True)\n",
      "/tmp/ipykernel_24298/253161635.py:19: FutureWarning: The frame.append method is deprecated and will be removed from pandas in a future version. Use pandas.concat instead.\n",
      "  new_df= new_df.append(data, ignore_index=True)\n"
     ]
    },
    {
     "name": "stdout",
     "output_type": "stream",
     "text": [
      "save image 102\n",
      "save image 103\n",
      "save image 104\n",
      "save image 105\n",
      "save image 106\n"
     ]
    },
    {
     "name": "stderr",
     "output_type": "stream",
     "text": [
      "/tmp/ipykernel_24298/253161635.py:19: FutureWarning: The frame.append method is deprecated and will be removed from pandas in a future version. Use pandas.concat instead.\n",
      "  new_df= new_df.append(data, ignore_index=True)\n",
      "/tmp/ipykernel_24298/253161635.py:19: FutureWarning: The frame.append method is deprecated and will be removed from pandas in a future version. Use pandas.concat instead.\n",
      "  new_df= new_df.append(data, ignore_index=True)\n",
      "/tmp/ipykernel_24298/253161635.py:19: FutureWarning: The frame.append method is deprecated and will be removed from pandas in a future version. Use pandas.concat instead.\n",
      "  new_df= new_df.append(data, ignore_index=True)\n",
      "/tmp/ipykernel_24298/253161635.py:19: FutureWarning: The frame.append method is deprecated and will be removed from pandas in a future version. Use pandas.concat instead.\n",
      "  new_df= new_df.append(data, ignore_index=True)\n",
      "/tmp/ipykernel_24298/253161635.py:19: FutureWarning: The frame.append method is deprecated and will be removed from pandas in a future version. Use pandas.concat instead.\n",
      "  new_df= new_df.append(data, ignore_index=True)\n"
     ]
    },
    {
     "name": "stdout",
     "output_type": "stream",
     "text": [
      "save image 107\n",
      "save image 108\n",
      "save image 109\n",
      "save image 110\n",
      "save image 111\n"
     ]
    },
    {
     "name": "stderr",
     "output_type": "stream",
     "text": [
      "/tmp/ipykernel_24298/253161635.py:19: FutureWarning: The frame.append method is deprecated and will be removed from pandas in a future version. Use pandas.concat instead.\n",
      "  new_df= new_df.append(data, ignore_index=True)\n",
      "/tmp/ipykernel_24298/253161635.py:19: FutureWarning: The frame.append method is deprecated and will be removed from pandas in a future version. Use pandas.concat instead.\n",
      "  new_df= new_df.append(data, ignore_index=True)\n",
      "/tmp/ipykernel_24298/253161635.py:19: FutureWarning: The frame.append method is deprecated and will be removed from pandas in a future version. Use pandas.concat instead.\n",
      "  new_df= new_df.append(data, ignore_index=True)\n",
      "/tmp/ipykernel_24298/253161635.py:19: FutureWarning: The frame.append method is deprecated and will be removed from pandas in a future version. Use pandas.concat instead.\n",
      "  new_df= new_df.append(data, ignore_index=True)\n",
      "/tmp/ipykernel_24298/253161635.py:19: FutureWarning: The frame.append method is deprecated and will be removed from pandas in a future version. Use pandas.concat instead.\n",
      "  new_df= new_df.append(data, ignore_index=True)\n"
     ]
    },
    {
     "name": "stdout",
     "output_type": "stream",
     "text": [
      "save image 112\n",
      "save image 113\n",
      "save image 114\n",
      "save image 115\n",
      "save image 116\n"
     ]
    },
    {
     "name": "stderr",
     "output_type": "stream",
     "text": [
      "/tmp/ipykernel_24298/253161635.py:19: FutureWarning: The frame.append method is deprecated and will be removed from pandas in a future version. Use pandas.concat instead.\n",
      "  new_df= new_df.append(data, ignore_index=True)\n",
      "/tmp/ipykernel_24298/253161635.py:19: FutureWarning: The frame.append method is deprecated and will be removed from pandas in a future version. Use pandas.concat instead.\n",
      "  new_df= new_df.append(data, ignore_index=True)\n",
      "/tmp/ipykernel_24298/253161635.py:19: FutureWarning: The frame.append method is deprecated and will be removed from pandas in a future version. Use pandas.concat instead.\n",
      "  new_df= new_df.append(data, ignore_index=True)\n",
      "/tmp/ipykernel_24298/253161635.py:19: FutureWarning: The frame.append method is deprecated and will be removed from pandas in a future version. Use pandas.concat instead.\n",
      "  new_df= new_df.append(data, ignore_index=True)\n"
     ]
    },
    {
     "name": "stdout",
     "output_type": "stream",
     "text": [
      "save image 117\n",
      "save image 118\n",
      "save image 119\n",
      "save image 120\n"
     ]
    },
    {
     "name": "stderr",
     "output_type": "stream",
     "text": [
      "/tmp/ipykernel_24298/253161635.py:19: FutureWarning: The frame.append method is deprecated and will be removed from pandas in a future version. Use pandas.concat instead.\n",
      "  new_df= new_df.append(data, ignore_index=True)\n",
      "/tmp/ipykernel_24298/253161635.py:19: FutureWarning: The frame.append method is deprecated and will be removed from pandas in a future version. Use pandas.concat instead.\n",
      "  new_df= new_df.append(data, ignore_index=True)\n",
      "/tmp/ipykernel_24298/253161635.py:19: FutureWarning: The frame.append method is deprecated and will be removed from pandas in a future version. Use pandas.concat instead.\n",
      "  new_df= new_df.append(data, ignore_index=True)\n",
      "/tmp/ipykernel_24298/253161635.py:19: FutureWarning: The frame.append method is deprecated and will be removed from pandas in a future version. Use pandas.concat instead.\n",
      "  new_df= new_df.append(data, ignore_index=True)\n",
      "/tmp/ipykernel_24298/253161635.py:19: FutureWarning: The frame.append method is deprecated and will be removed from pandas in a future version. Use pandas.concat instead.\n",
      "  new_df= new_df.append(data, ignore_index=True)\n"
     ]
    },
    {
     "name": "stdout",
     "output_type": "stream",
     "text": [
      "save image 121\n",
      "save image 122\n",
      "save image 123\n",
      "save image 124\n",
      "save image 125\n"
     ]
    },
    {
     "name": "stderr",
     "output_type": "stream",
     "text": [
      "/tmp/ipykernel_24298/253161635.py:19: FutureWarning: The frame.append method is deprecated and will be removed from pandas in a future version. Use pandas.concat instead.\n",
      "  new_df= new_df.append(data, ignore_index=True)\n",
      "/tmp/ipykernel_24298/253161635.py:19: FutureWarning: The frame.append method is deprecated and will be removed from pandas in a future version. Use pandas.concat instead.\n",
      "  new_df= new_df.append(data, ignore_index=True)\n",
      "/tmp/ipykernel_24298/253161635.py:19: FutureWarning: The frame.append method is deprecated and will be removed from pandas in a future version. Use pandas.concat instead.\n",
      "  new_df= new_df.append(data, ignore_index=True)\n",
      "/tmp/ipykernel_24298/253161635.py:19: FutureWarning: The frame.append method is deprecated and will be removed from pandas in a future version. Use pandas.concat instead.\n",
      "  new_df= new_df.append(data, ignore_index=True)\n",
      "/tmp/ipykernel_24298/253161635.py:19: FutureWarning: The frame.append method is deprecated and will be removed from pandas in a future version. Use pandas.concat instead.\n",
      "  new_df= new_df.append(data, ignore_index=True)\n"
     ]
    },
    {
     "name": "stdout",
     "output_type": "stream",
     "text": [
      "save image 126\n",
      "save image 127\n",
      "save image 128\n",
      "save image 129\n",
      "save image 130\n"
     ]
    },
    {
     "name": "stderr",
     "output_type": "stream",
     "text": [
      "/tmp/ipykernel_24298/253161635.py:19: FutureWarning: The frame.append method is deprecated and will be removed from pandas in a future version. Use pandas.concat instead.\n",
      "  new_df= new_df.append(data, ignore_index=True)\n",
      "/tmp/ipykernel_24298/253161635.py:19: FutureWarning: The frame.append method is deprecated and will be removed from pandas in a future version. Use pandas.concat instead.\n",
      "  new_df= new_df.append(data, ignore_index=True)\n",
      "/tmp/ipykernel_24298/253161635.py:19: FutureWarning: The frame.append method is deprecated and will be removed from pandas in a future version. Use pandas.concat instead.\n",
      "  new_df= new_df.append(data, ignore_index=True)\n",
      "/tmp/ipykernel_24298/253161635.py:19: FutureWarning: The frame.append method is deprecated and will be removed from pandas in a future version. Use pandas.concat instead.\n",
      "  new_df= new_df.append(data, ignore_index=True)\n"
     ]
    },
    {
     "name": "stdout",
     "output_type": "stream",
     "text": [
      "save image 131\n",
      "save image 132\n",
      "save image 133\n",
      "save image 134\n"
     ]
    },
    {
     "name": "stderr",
     "output_type": "stream",
     "text": [
      "/tmp/ipykernel_24298/253161635.py:19: FutureWarning: The frame.append method is deprecated and will be removed from pandas in a future version. Use pandas.concat instead.\n",
      "  new_df= new_df.append(data, ignore_index=True)\n",
      "/tmp/ipykernel_24298/253161635.py:19: FutureWarning: The frame.append method is deprecated and will be removed from pandas in a future version. Use pandas.concat instead.\n",
      "  new_df= new_df.append(data, ignore_index=True)\n",
      "/tmp/ipykernel_24298/253161635.py:19: FutureWarning: The frame.append method is deprecated and will be removed from pandas in a future version. Use pandas.concat instead.\n",
      "  new_df= new_df.append(data, ignore_index=True)\n",
      "/tmp/ipykernel_24298/253161635.py:19: FutureWarning: The frame.append method is deprecated and will be removed from pandas in a future version. Use pandas.concat instead.\n",
      "  new_df= new_df.append(data, ignore_index=True)\n",
      "/tmp/ipykernel_24298/253161635.py:19: FutureWarning: The frame.append method is deprecated and will be removed from pandas in a future version. Use pandas.concat instead.\n",
      "  new_df= new_df.append(data, ignore_index=True)\n"
     ]
    },
    {
     "name": "stdout",
     "output_type": "stream",
     "text": [
      "save image 135\n",
      "save image 136\n",
      "save image 137\n",
      "save image 138\n",
      "save image 139\n"
     ]
    },
    {
     "name": "stderr",
     "output_type": "stream",
     "text": [
      "/tmp/ipykernel_24298/253161635.py:19: FutureWarning: The frame.append method is deprecated and will be removed from pandas in a future version. Use pandas.concat instead.\n",
      "  new_df= new_df.append(data, ignore_index=True)\n",
      "/tmp/ipykernel_24298/253161635.py:19: FutureWarning: The frame.append method is deprecated and will be removed from pandas in a future version. Use pandas.concat instead.\n",
      "  new_df= new_df.append(data, ignore_index=True)\n",
      "/tmp/ipykernel_24298/253161635.py:19: FutureWarning: The frame.append method is deprecated and will be removed from pandas in a future version. Use pandas.concat instead.\n",
      "  new_df= new_df.append(data, ignore_index=True)\n",
      "/tmp/ipykernel_24298/253161635.py:19: FutureWarning: The frame.append method is deprecated and will be removed from pandas in a future version. Use pandas.concat instead.\n",
      "  new_df= new_df.append(data, ignore_index=True)\n"
     ]
    },
    {
     "name": "stdout",
     "output_type": "stream",
     "text": [
      "save image 140\n",
      "save image 141\n",
      "save image 142\n",
      "save image 143\n"
     ]
    },
    {
     "name": "stderr",
     "output_type": "stream",
     "text": [
      "/tmp/ipykernel_24298/253161635.py:19: FutureWarning: The frame.append method is deprecated and will be removed from pandas in a future version. Use pandas.concat instead.\n",
      "  new_df= new_df.append(data, ignore_index=True)\n",
      "/tmp/ipykernel_24298/253161635.py:19: FutureWarning: The frame.append method is deprecated and will be removed from pandas in a future version. Use pandas.concat instead.\n",
      "  new_df= new_df.append(data, ignore_index=True)\n",
      "/tmp/ipykernel_24298/253161635.py:19: FutureWarning: The frame.append method is deprecated and will be removed from pandas in a future version. Use pandas.concat instead.\n",
      "  new_df= new_df.append(data, ignore_index=True)\n",
      "/tmp/ipykernel_24298/253161635.py:19: FutureWarning: The frame.append method is deprecated and will be removed from pandas in a future version. Use pandas.concat instead.\n",
      "  new_df= new_df.append(data, ignore_index=True)\n"
     ]
    },
    {
     "name": "stdout",
     "output_type": "stream",
     "text": [
      "save image 144\n",
      "save image 145\n",
      "save image 146\n",
      "save image 147\n"
     ]
    },
    {
     "name": "stderr",
     "output_type": "stream",
     "text": [
      "/tmp/ipykernel_24298/253161635.py:19: FutureWarning: The frame.append method is deprecated and will be removed from pandas in a future version. Use pandas.concat instead.\n",
      "  new_df= new_df.append(data, ignore_index=True)\n",
      "/tmp/ipykernel_24298/253161635.py:19: FutureWarning: The frame.append method is deprecated and will be removed from pandas in a future version. Use pandas.concat instead.\n",
      "  new_df= new_df.append(data, ignore_index=True)\n",
      "/tmp/ipykernel_24298/253161635.py:19: FutureWarning: The frame.append method is deprecated and will be removed from pandas in a future version. Use pandas.concat instead.\n",
      "  new_df= new_df.append(data, ignore_index=True)\n",
      "/tmp/ipykernel_24298/253161635.py:19: FutureWarning: The frame.append method is deprecated and will be removed from pandas in a future version. Use pandas.concat instead.\n",
      "  new_df= new_df.append(data, ignore_index=True)\n",
      "/tmp/ipykernel_24298/253161635.py:19: FutureWarning: The frame.append method is deprecated and will be removed from pandas in a future version. Use pandas.concat instead.\n",
      "  new_df= new_df.append(data, ignore_index=True)\n",
      "/tmp/ipykernel_24298/253161635.py:19: FutureWarning: The frame.append method is deprecated and will be removed from pandas in a future version. Use pandas.concat instead.\n",
      "  new_df= new_df.append(data, ignore_index=True)\n"
     ]
    },
    {
     "name": "stdout",
     "output_type": "stream",
     "text": [
      "save image 148\n",
      "save image 149\n",
      "save image 150\n",
      "save image 151\n",
      "save image 152\n",
      "save image 153\n"
     ]
    },
    {
     "name": "stderr",
     "output_type": "stream",
     "text": [
      "/tmp/ipykernel_24298/253161635.py:19: FutureWarning: The frame.append method is deprecated and will be removed from pandas in a future version. Use pandas.concat instead.\n",
      "  new_df= new_df.append(data, ignore_index=True)\n",
      "/tmp/ipykernel_24298/253161635.py:19: FutureWarning: The frame.append method is deprecated and will be removed from pandas in a future version. Use pandas.concat instead.\n",
      "  new_df= new_df.append(data, ignore_index=True)\n",
      "/tmp/ipykernel_24298/253161635.py:19: FutureWarning: The frame.append method is deprecated and will be removed from pandas in a future version. Use pandas.concat instead.\n",
      "  new_df= new_df.append(data, ignore_index=True)\n",
      "/tmp/ipykernel_24298/253161635.py:19: FutureWarning: The frame.append method is deprecated and will be removed from pandas in a future version. Use pandas.concat instead.\n",
      "  new_df= new_df.append(data, ignore_index=True)\n",
      "/tmp/ipykernel_24298/253161635.py:19: FutureWarning: The frame.append method is deprecated and will be removed from pandas in a future version. Use pandas.concat instead.\n",
      "  new_df= new_df.append(data, ignore_index=True)\n"
     ]
    },
    {
     "name": "stdout",
     "output_type": "stream",
     "text": [
      "save image 154\n",
      "save image 155\n",
      "save image 156\n",
      "save image 157\n",
      "save image 158\n"
     ]
    },
    {
     "name": "stderr",
     "output_type": "stream",
     "text": [
      "/tmp/ipykernel_24298/253161635.py:19: FutureWarning: The frame.append method is deprecated and will be removed from pandas in a future version. Use pandas.concat instead.\n",
      "  new_df= new_df.append(data, ignore_index=True)\n",
      "/tmp/ipykernel_24298/253161635.py:19: FutureWarning: The frame.append method is deprecated and will be removed from pandas in a future version. Use pandas.concat instead.\n",
      "  new_df= new_df.append(data, ignore_index=True)\n",
      "/tmp/ipykernel_24298/253161635.py:19: FutureWarning: The frame.append method is deprecated and will be removed from pandas in a future version. Use pandas.concat instead.\n",
      "  new_df= new_df.append(data, ignore_index=True)\n",
      "/tmp/ipykernel_24298/253161635.py:19: FutureWarning: The frame.append method is deprecated and will be removed from pandas in a future version. Use pandas.concat instead.\n",
      "  new_df= new_df.append(data, ignore_index=True)\n",
      "/tmp/ipykernel_24298/253161635.py:19: FutureWarning: The frame.append method is deprecated and will be removed from pandas in a future version. Use pandas.concat instead.\n",
      "  new_df= new_df.append(data, ignore_index=True)\n"
     ]
    },
    {
     "name": "stdout",
     "output_type": "stream",
     "text": [
      "save image 159\n",
      "save image 160\n",
      "save image 161\n",
      "save image 162\n",
      "save image 163\n"
     ]
    },
    {
     "name": "stderr",
     "output_type": "stream",
     "text": [
      "/tmp/ipykernel_24298/253161635.py:19: FutureWarning: The frame.append method is deprecated and will be removed from pandas in a future version. Use pandas.concat instead.\n",
      "  new_df= new_df.append(data, ignore_index=True)\n",
      "/tmp/ipykernel_24298/253161635.py:19: FutureWarning: The frame.append method is deprecated and will be removed from pandas in a future version. Use pandas.concat instead.\n",
      "  new_df= new_df.append(data, ignore_index=True)\n",
      "/tmp/ipykernel_24298/253161635.py:19: FutureWarning: The frame.append method is deprecated and will be removed from pandas in a future version. Use pandas.concat instead.\n",
      "  new_df= new_df.append(data, ignore_index=True)\n",
      "/tmp/ipykernel_24298/253161635.py:19: FutureWarning: The frame.append method is deprecated and will be removed from pandas in a future version. Use pandas.concat instead.\n",
      "  new_df= new_df.append(data, ignore_index=True)\n",
      "/tmp/ipykernel_24298/253161635.py:19: FutureWarning: The frame.append method is deprecated and will be removed from pandas in a future version. Use pandas.concat instead.\n",
      "  new_df= new_df.append(data, ignore_index=True)\n",
      "/tmp/ipykernel_24298/253161635.py:19: FutureWarning: The frame.append method is deprecated and will be removed from pandas in a future version. Use pandas.concat instead.\n",
      "  new_df= new_df.append(data, ignore_index=True)\n"
     ]
    },
    {
     "name": "stdout",
     "output_type": "stream",
     "text": [
      "save image 164\n",
      "save image 165\n",
      "save image 166\n",
      "save image 167\n",
      "save image 168\n",
      "save image 169\n"
     ]
    },
    {
     "name": "stderr",
     "output_type": "stream",
     "text": [
      "/tmp/ipykernel_24298/253161635.py:19: FutureWarning: The frame.append method is deprecated and will be removed from pandas in a future version. Use pandas.concat instead.\n",
      "  new_df= new_df.append(data, ignore_index=True)\n",
      "/tmp/ipykernel_24298/253161635.py:19: FutureWarning: The frame.append method is deprecated and will be removed from pandas in a future version. Use pandas.concat instead.\n",
      "  new_df= new_df.append(data, ignore_index=True)\n",
      "/tmp/ipykernel_24298/253161635.py:19: FutureWarning: The frame.append method is deprecated and will be removed from pandas in a future version. Use pandas.concat instead.\n",
      "  new_df= new_df.append(data, ignore_index=True)\n",
      "/tmp/ipykernel_24298/253161635.py:19: FutureWarning: The frame.append method is deprecated and will be removed from pandas in a future version. Use pandas.concat instead.\n",
      "  new_df= new_df.append(data, ignore_index=True)\n",
      "/tmp/ipykernel_24298/253161635.py:19: FutureWarning: The frame.append method is deprecated and will be removed from pandas in a future version. Use pandas.concat instead.\n",
      "  new_df= new_df.append(data, ignore_index=True)\n",
      "/tmp/ipykernel_24298/253161635.py:19: FutureWarning: The frame.append method is deprecated and will be removed from pandas in a future version. Use pandas.concat instead.\n",
      "  new_df= new_df.append(data, ignore_index=True)\n"
     ]
    },
    {
     "name": "stdout",
     "output_type": "stream",
     "text": [
      "save image 170\n",
      "save image 171\n",
      "save image 172\n",
      "save image 173\n",
      "save image 174\n",
      "save image 175\n"
     ]
    },
    {
     "name": "stderr",
     "output_type": "stream",
     "text": [
      "/tmp/ipykernel_24298/253161635.py:19: FutureWarning: The frame.append method is deprecated and will be removed from pandas in a future version. Use pandas.concat instead.\n",
      "  new_df= new_df.append(data, ignore_index=True)\n",
      "/tmp/ipykernel_24298/253161635.py:19: FutureWarning: The frame.append method is deprecated and will be removed from pandas in a future version. Use pandas.concat instead.\n",
      "  new_df= new_df.append(data, ignore_index=True)\n",
      "/tmp/ipykernel_24298/253161635.py:19: FutureWarning: The frame.append method is deprecated and will be removed from pandas in a future version. Use pandas.concat instead.\n",
      "  new_df= new_df.append(data, ignore_index=True)\n",
      "/tmp/ipykernel_24298/253161635.py:19: FutureWarning: The frame.append method is deprecated and will be removed from pandas in a future version. Use pandas.concat instead.\n",
      "  new_df= new_df.append(data, ignore_index=True)\n",
      "/tmp/ipykernel_24298/253161635.py:19: FutureWarning: The frame.append method is deprecated and will be removed from pandas in a future version. Use pandas.concat instead.\n",
      "  new_df= new_df.append(data, ignore_index=True)\n"
     ]
    },
    {
     "name": "stdout",
     "output_type": "stream",
     "text": [
      "save image 176\n",
      "save image 177\n",
      "save image 178\n",
      "save image 179\n",
      "save image 180\n"
     ]
    },
    {
     "name": "stderr",
     "output_type": "stream",
     "text": [
      "/tmp/ipykernel_24298/253161635.py:19: FutureWarning: The frame.append method is deprecated and will be removed from pandas in a future version. Use pandas.concat instead.\n",
      "  new_df= new_df.append(data, ignore_index=True)\n",
      "/tmp/ipykernel_24298/253161635.py:19: FutureWarning: The frame.append method is deprecated and will be removed from pandas in a future version. Use pandas.concat instead.\n",
      "  new_df= new_df.append(data, ignore_index=True)\n",
      "/tmp/ipykernel_24298/253161635.py:19: FutureWarning: The frame.append method is deprecated and will be removed from pandas in a future version. Use pandas.concat instead.\n",
      "  new_df= new_df.append(data, ignore_index=True)\n",
      "/tmp/ipykernel_24298/253161635.py:19: FutureWarning: The frame.append method is deprecated and will be removed from pandas in a future version. Use pandas.concat instead.\n",
      "  new_df= new_df.append(data, ignore_index=True)\n",
      "/tmp/ipykernel_24298/253161635.py:19: FutureWarning: The frame.append method is deprecated and will be removed from pandas in a future version. Use pandas.concat instead.\n",
      "  new_df= new_df.append(data, ignore_index=True)\n",
      "/tmp/ipykernel_24298/253161635.py:19: FutureWarning: The frame.append method is deprecated and will be removed from pandas in a future version. Use pandas.concat instead.\n",
      "  new_df= new_df.append(data, ignore_index=True)\n"
     ]
    },
    {
     "name": "stdout",
     "output_type": "stream",
     "text": [
      "save image 181\n",
      "save image 182\n",
      "save image 183\n",
      "save image 184\n",
      "save image 185\n",
      "save image 186\n"
     ]
    },
    {
     "name": "stderr",
     "output_type": "stream",
     "text": [
      "/tmp/ipykernel_24298/253161635.py:19: FutureWarning: The frame.append method is deprecated and will be removed from pandas in a future version. Use pandas.concat instead.\n",
      "  new_df= new_df.append(data, ignore_index=True)\n",
      "/tmp/ipykernel_24298/253161635.py:19: FutureWarning: The frame.append method is deprecated and will be removed from pandas in a future version. Use pandas.concat instead.\n",
      "  new_df= new_df.append(data, ignore_index=True)\n",
      "/tmp/ipykernel_24298/253161635.py:19: FutureWarning: The frame.append method is deprecated and will be removed from pandas in a future version. Use pandas.concat instead.\n",
      "  new_df= new_df.append(data, ignore_index=True)\n",
      "/tmp/ipykernel_24298/253161635.py:19: FutureWarning: The frame.append method is deprecated and will be removed from pandas in a future version. Use pandas.concat instead.\n",
      "  new_df= new_df.append(data, ignore_index=True)\n",
      "/tmp/ipykernel_24298/253161635.py:19: FutureWarning: The frame.append method is deprecated and will be removed from pandas in a future version. Use pandas.concat instead.\n",
      "  new_df= new_df.append(data, ignore_index=True)\n",
      "/tmp/ipykernel_24298/253161635.py:19: FutureWarning: The frame.append method is deprecated and will be removed from pandas in a future version. Use pandas.concat instead.\n",
      "  new_df= new_df.append(data, ignore_index=True)\n"
     ]
    },
    {
     "name": "stdout",
     "output_type": "stream",
     "text": [
      "save image 187\n",
      "save image 188\n",
      "save image 189\n",
      "save image 190\n",
      "save image 191\n",
      "save image 192\n"
     ]
    },
    {
     "name": "stderr",
     "output_type": "stream",
     "text": [
      "/tmp/ipykernel_24298/253161635.py:19: FutureWarning: The frame.append method is deprecated and will be removed from pandas in a future version. Use pandas.concat instead.\n",
      "  new_df= new_df.append(data, ignore_index=True)\n",
      "/tmp/ipykernel_24298/253161635.py:19: FutureWarning: The frame.append method is deprecated and will be removed from pandas in a future version. Use pandas.concat instead.\n",
      "  new_df= new_df.append(data, ignore_index=True)\n",
      "/tmp/ipykernel_24298/253161635.py:19: FutureWarning: The frame.append method is deprecated and will be removed from pandas in a future version. Use pandas.concat instead.\n",
      "  new_df= new_df.append(data, ignore_index=True)\n",
      "/tmp/ipykernel_24298/253161635.py:19: FutureWarning: The frame.append method is deprecated and will be removed from pandas in a future version. Use pandas.concat instead.\n",
      "  new_df= new_df.append(data, ignore_index=True)\n",
      "/tmp/ipykernel_24298/253161635.py:19: FutureWarning: The frame.append method is deprecated and will be removed from pandas in a future version. Use pandas.concat instead.\n",
      "  new_df= new_df.append(data, ignore_index=True)\n",
      "/tmp/ipykernel_24298/253161635.py:19: FutureWarning: The frame.append method is deprecated and will be removed from pandas in a future version. Use pandas.concat instead.\n",
      "  new_df= new_df.append(data, ignore_index=True)\n"
     ]
    },
    {
     "name": "stdout",
     "output_type": "stream",
     "text": [
      "save image 193\n",
      "save image 194\n",
      "save image 195\n",
      "save image 196\n",
      "save image 197\n",
      "save image 198\n"
     ]
    },
    {
     "name": "stderr",
     "output_type": "stream",
     "text": [
      "/tmp/ipykernel_24298/253161635.py:19: FutureWarning: The frame.append method is deprecated and will be removed from pandas in a future version. Use pandas.concat instead.\n",
      "  new_df= new_df.append(data, ignore_index=True)\n",
      "/tmp/ipykernel_24298/253161635.py:19: FutureWarning: The frame.append method is deprecated and will be removed from pandas in a future version. Use pandas.concat instead.\n",
      "  new_df= new_df.append(data, ignore_index=True)\n",
      "/tmp/ipykernel_24298/253161635.py:19: FutureWarning: The frame.append method is deprecated and will be removed from pandas in a future version. Use pandas.concat instead.\n",
      "  new_df= new_df.append(data, ignore_index=True)\n",
      "/tmp/ipykernel_24298/253161635.py:19: FutureWarning: The frame.append method is deprecated and will be removed from pandas in a future version. Use pandas.concat instead.\n",
      "  new_df= new_df.append(data, ignore_index=True)\n",
      "/tmp/ipykernel_24298/253161635.py:19: FutureWarning: The frame.append method is deprecated and will be removed from pandas in a future version. Use pandas.concat instead.\n",
      "  new_df= new_df.append(data, ignore_index=True)\n"
     ]
    },
    {
     "name": "stdout",
     "output_type": "stream",
     "text": [
      "save image 199\n",
      "save image 200\n",
      "save image 201\n",
      "save image 202\n",
      "save image 203\n"
     ]
    },
    {
     "name": "stderr",
     "output_type": "stream",
     "text": [
      "/tmp/ipykernel_24298/253161635.py:19: FutureWarning: The frame.append method is deprecated and will be removed from pandas in a future version. Use pandas.concat instead.\n",
      "  new_df= new_df.append(data, ignore_index=True)\n",
      "/tmp/ipykernel_24298/253161635.py:19: FutureWarning: The frame.append method is deprecated and will be removed from pandas in a future version. Use pandas.concat instead.\n",
      "  new_df= new_df.append(data, ignore_index=True)\n",
      "/tmp/ipykernel_24298/253161635.py:19: FutureWarning: The frame.append method is deprecated and will be removed from pandas in a future version. Use pandas.concat instead.\n",
      "  new_df= new_df.append(data, ignore_index=True)\n",
      "/tmp/ipykernel_24298/253161635.py:19: FutureWarning: The frame.append method is deprecated and will be removed from pandas in a future version. Use pandas.concat instead.\n",
      "  new_df= new_df.append(data, ignore_index=True)\n",
      "/tmp/ipykernel_24298/253161635.py:19: FutureWarning: The frame.append method is deprecated and will be removed from pandas in a future version. Use pandas.concat instead.\n",
      "  new_df= new_df.append(data, ignore_index=True)\n",
      "/tmp/ipykernel_24298/253161635.py:19: FutureWarning: The frame.append method is deprecated and will be removed from pandas in a future version. Use pandas.concat instead.\n",
      "  new_df= new_df.append(data, ignore_index=True)\n"
     ]
    },
    {
     "name": "stdout",
     "output_type": "stream",
     "text": [
      "save image 204\n",
      "save image 205\n",
      "save image 206\n",
      "save image 207\n",
      "save image 208\n",
      "save image 209\n"
     ]
    },
    {
     "name": "stderr",
     "output_type": "stream",
     "text": [
      "/tmp/ipykernel_24298/253161635.py:19: FutureWarning: The frame.append method is deprecated and will be removed from pandas in a future version. Use pandas.concat instead.\n",
      "  new_df= new_df.append(data, ignore_index=True)\n",
      "/tmp/ipykernel_24298/253161635.py:19: FutureWarning: The frame.append method is deprecated and will be removed from pandas in a future version. Use pandas.concat instead.\n",
      "  new_df= new_df.append(data, ignore_index=True)\n",
      "/tmp/ipykernel_24298/253161635.py:19: FutureWarning: The frame.append method is deprecated and will be removed from pandas in a future version. Use pandas.concat instead.\n",
      "  new_df= new_df.append(data, ignore_index=True)\n",
      "/tmp/ipykernel_24298/253161635.py:19: FutureWarning: The frame.append method is deprecated and will be removed from pandas in a future version. Use pandas.concat instead.\n",
      "  new_df= new_df.append(data, ignore_index=True)\n",
      "/tmp/ipykernel_24298/253161635.py:19: FutureWarning: The frame.append method is deprecated and will be removed from pandas in a future version. Use pandas.concat instead.\n",
      "  new_df= new_df.append(data, ignore_index=True)\n"
     ]
    },
    {
     "name": "stdout",
     "output_type": "stream",
     "text": [
      "save image 210\n",
      "save image 211\n",
      "save image 212\n",
      "save image 213\n",
      "save image 214\n"
     ]
    },
    {
     "name": "stderr",
     "output_type": "stream",
     "text": [
      "/tmp/ipykernel_24298/253161635.py:19: FutureWarning: The frame.append method is deprecated and will be removed from pandas in a future version. Use pandas.concat instead.\n",
      "  new_df= new_df.append(data, ignore_index=True)\n",
      "/tmp/ipykernel_24298/253161635.py:19: FutureWarning: The frame.append method is deprecated and will be removed from pandas in a future version. Use pandas.concat instead.\n",
      "  new_df= new_df.append(data, ignore_index=True)\n",
      "/tmp/ipykernel_24298/253161635.py:19: FutureWarning: The frame.append method is deprecated and will be removed from pandas in a future version. Use pandas.concat instead.\n",
      "  new_df= new_df.append(data, ignore_index=True)\n",
      "/tmp/ipykernel_24298/253161635.py:19: FutureWarning: The frame.append method is deprecated and will be removed from pandas in a future version. Use pandas.concat instead.\n",
      "  new_df= new_df.append(data, ignore_index=True)\n"
     ]
    },
    {
     "name": "stdout",
     "output_type": "stream",
     "text": [
      "save image 215\n",
      "save image 216\n",
      "save image 217\n",
      "save image 218\n"
     ]
    },
    {
     "name": "stderr",
     "output_type": "stream",
     "text": [
      "/tmp/ipykernel_24298/253161635.py:19: FutureWarning: The frame.append method is deprecated and will be removed from pandas in a future version. Use pandas.concat instead.\n",
      "  new_df= new_df.append(data, ignore_index=True)\n",
      "/tmp/ipykernel_24298/253161635.py:19: FutureWarning: The frame.append method is deprecated and will be removed from pandas in a future version. Use pandas.concat instead.\n",
      "  new_df= new_df.append(data, ignore_index=True)\n",
      "/tmp/ipykernel_24298/253161635.py:19: FutureWarning: The frame.append method is deprecated and will be removed from pandas in a future version. Use pandas.concat instead.\n",
      "  new_df= new_df.append(data, ignore_index=True)\n",
      "/tmp/ipykernel_24298/253161635.py:19: FutureWarning: The frame.append method is deprecated and will be removed from pandas in a future version. Use pandas.concat instead.\n",
      "  new_df= new_df.append(data, ignore_index=True)\n",
      "/tmp/ipykernel_24298/253161635.py:19: FutureWarning: The frame.append method is deprecated and will be removed from pandas in a future version. Use pandas.concat instead.\n",
      "  new_df= new_df.append(data, ignore_index=True)\n"
     ]
    },
    {
     "name": "stdout",
     "output_type": "stream",
     "text": [
      "save image 219\n",
      "save image 220\n",
      "save image 221\n",
      "save image 222\n",
      "save image 223\n"
     ]
    },
    {
     "name": "stderr",
     "output_type": "stream",
     "text": [
      "/tmp/ipykernel_24298/253161635.py:19: FutureWarning: The frame.append method is deprecated and will be removed from pandas in a future version. Use pandas.concat instead.\n",
      "  new_df= new_df.append(data, ignore_index=True)\n",
      "/tmp/ipykernel_24298/253161635.py:19: FutureWarning: The frame.append method is deprecated and will be removed from pandas in a future version. Use pandas.concat instead.\n",
      "  new_df= new_df.append(data, ignore_index=True)\n",
      "/tmp/ipykernel_24298/253161635.py:19: FutureWarning: The frame.append method is deprecated and will be removed from pandas in a future version. Use pandas.concat instead.\n",
      "  new_df= new_df.append(data, ignore_index=True)\n",
      "/tmp/ipykernel_24298/253161635.py:19: FutureWarning: The frame.append method is deprecated and will be removed from pandas in a future version. Use pandas.concat instead.\n",
      "  new_df= new_df.append(data, ignore_index=True)\n",
      "/tmp/ipykernel_24298/253161635.py:19: FutureWarning: The frame.append method is deprecated and will be removed from pandas in a future version. Use pandas.concat instead.\n",
      "  new_df= new_df.append(data, ignore_index=True)\n"
     ]
    },
    {
     "name": "stdout",
     "output_type": "stream",
     "text": [
      "save image 224\n",
      "save image 225\n",
      "save image 226\n",
      "save image 227\n",
      "save image 228\n"
     ]
    },
    {
     "name": "stderr",
     "output_type": "stream",
     "text": [
      "/tmp/ipykernel_24298/253161635.py:19: FutureWarning: The frame.append method is deprecated and will be removed from pandas in a future version. Use pandas.concat instead.\n",
      "  new_df= new_df.append(data, ignore_index=True)\n",
      "/tmp/ipykernel_24298/253161635.py:19: FutureWarning: The frame.append method is deprecated and will be removed from pandas in a future version. Use pandas.concat instead.\n",
      "  new_df= new_df.append(data, ignore_index=True)\n",
      "/tmp/ipykernel_24298/253161635.py:19: FutureWarning: The frame.append method is deprecated and will be removed from pandas in a future version. Use pandas.concat instead.\n",
      "  new_df= new_df.append(data, ignore_index=True)\n",
      "/tmp/ipykernel_24298/253161635.py:19: FutureWarning: The frame.append method is deprecated and will be removed from pandas in a future version. Use pandas.concat instead.\n",
      "  new_df= new_df.append(data, ignore_index=True)\n",
      "/tmp/ipykernel_24298/253161635.py:19: FutureWarning: The frame.append method is deprecated and will be removed from pandas in a future version. Use pandas.concat instead.\n",
      "  new_df= new_df.append(data, ignore_index=True)\n"
     ]
    },
    {
     "name": "stdout",
     "output_type": "stream",
     "text": [
      "save image 229\n",
      "save image 230\n",
      "save image 231\n",
      "save image 232\n",
      "save image 233\n"
     ]
    },
    {
     "name": "stderr",
     "output_type": "stream",
     "text": [
      "/tmp/ipykernel_24298/253161635.py:19: FutureWarning: The frame.append method is deprecated and will be removed from pandas in a future version. Use pandas.concat instead.\n",
      "  new_df= new_df.append(data, ignore_index=True)\n",
      "/tmp/ipykernel_24298/253161635.py:19: FutureWarning: The frame.append method is deprecated and will be removed from pandas in a future version. Use pandas.concat instead.\n",
      "  new_df= new_df.append(data, ignore_index=True)\n",
      "/tmp/ipykernel_24298/253161635.py:19: FutureWarning: The frame.append method is deprecated and will be removed from pandas in a future version. Use pandas.concat instead.\n",
      "  new_df= new_df.append(data, ignore_index=True)\n",
      "/tmp/ipykernel_24298/253161635.py:19: FutureWarning: The frame.append method is deprecated and will be removed from pandas in a future version. Use pandas.concat instead.\n",
      "  new_df= new_df.append(data, ignore_index=True)\n",
      "/tmp/ipykernel_24298/253161635.py:19: FutureWarning: The frame.append method is deprecated and will be removed from pandas in a future version. Use pandas.concat instead.\n",
      "  new_df= new_df.append(data, ignore_index=True)\n",
      "/tmp/ipykernel_24298/253161635.py:19: FutureWarning: The frame.append method is deprecated and will be removed from pandas in a future version. Use pandas.concat instead.\n",
      "  new_df= new_df.append(data, ignore_index=True)\n",
      "/tmp/ipykernel_24298/253161635.py:19: FutureWarning: The frame.append method is deprecated and will be removed from pandas in a future version. Use pandas.concat instead.\n",
      "  new_df= new_df.append(data, ignore_index=True)\n"
     ]
    },
    {
     "name": "stdout",
     "output_type": "stream",
     "text": [
      "save image 234\n",
      "save image 235\n",
      "save image 236\n",
      "save image 237\n",
      "save image 238\n",
      "save image 239\n",
      "save image 240\n"
     ]
    },
    {
     "name": "stderr",
     "output_type": "stream",
     "text": [
      "/tmp/ipykernel_24298/253161635.py:19: FutureWarning: The frame.append method is deprecated and will be removed from pandas in a future version. Use pandas.concat instead.\n",
      "  new_df= new_df.append(data, ignore_index=True)\n",
      "/tmp/ipykernel_24298/253161635.py:19: FutureWarning: The frame.append method is deprecated and will be removed from pandas in a future version. Use pandas.concat instead.\n",
      "  new_df= new_df.append(data, ignore_index=True)\n",
      "/tmp/ipykernel_24298/253161635.py:19: FutureWarning: The frame.append method is deprecated and will be removed from pandas in a future version. Use pandas.concat instead.\n",
      "  new_df= new_df.append(data, ignore_index=True)\n",
      "/tmp/ipykernel_24298/253161635.py:19: FutureWarning: The frame.append method is deprecated and will be removed from pandas in a future version. Use pandas.concat instead.\n",
      "  new_df= new_df.append(data, ignore_index=True)\n"
     ]
    },
    {
     "name": "stdout",
     "output_type": "stream",
     "text": [
      "save image 241\n",
      "save image 242\n",
      "save image 243\n",
      "save image 244\n"
     ]
    },
    {
     "name": "stderr",
     "output_type": "stream",
     "text": [
      "/tmp/ipykernel_24298/253161635.py:19: FutureWarning: The frame.append method is deprecated and will be removed from pandas in a future version. Use pandas.concat instead.\n",
      "  new_df= new_df.append(data, ignore_index=True)\n",
      "/tmp/ipykernel_24298/253161635.py:19: FutureWarning: The frame.append method is deprecated and will be removed from pandas in a future version. Use pandas.concat instead.\n",
      "  new_df= new_df.append(data, ignore_index=True)\n",
      "/tmp/ipykernel_24298/253161635.py:19: FutureWarning: The frame.append method is deprecated and will be removed from pandas in a future version. Use pandas.concat instead.\n",
      "  new_df= new_df.append(data, ignore_index=True)\n",
      "/tmp/ipykernel_24298/253161635.py:19: FutureWarning: The frame.append method is deprecated and will be removed from pandas in a future version. Use pandas.concat instead.\n",
      "  new_df= new_df.append(data, ignore_index=True)\n",
      "/tmp/ipykernel_24298/253161635.py:19: FutureWarning: The frame.append method is deprecated and will be removed from pandas in a future version. Use pandas.concat instead.\n",
      "  new_df= new_df.append(data, ignore_index=True)\n"
     ]
    },
    {
     "name": "stdout",
     "output_type": "stream",
     "text": [
      "save image 245\n",
      "save image 246\n",
      "save image 247\n",
      "save image 248\n",
      "save image 249\n"
     ]
    },
    {
     "name": "stderr",
     "output_type": "stream",
     "text": [
      "/tmp/ipykernel_24298/253161635.py:19: FutureWarning: The frame.append method is deprecated and will be removed from pandas in a future version. Use pandas.concat instead.\n",
      "  new_df= new_df.append(data, ignore_index=True)\n",
      "/tmp/ipykernel_24298/253161635.py:19: FutureWarning: The frame.append method is deprecated and will be removed from pandas in a future version. Use pandas.concat instead.\n",
      "  new_df= new_df.append(data, ignore_index=True)\n",
      "/tmp/ipykernel_24298/253161635.py:19: FutureWarning: The frame.append method is deprecated and will be removed from pandas in a future version. Use pandas.concat instead.\n",
      "  new_df= new_df.append(data, ignore_index=True)\n",
      "/tmp/ipykernel_24298/253161635.py:19: FutureWarning: The frame.append method is deprecated and will be removed from pandas in a future version. Use pandas.concat instead.\n",
      "  new_df= new_df.append(data, ignore_index=True)\n",
      "/tmp/ipykernel_24298/253161635.py:19: FutureWarning: The frame.append method is deprecated and will be removed from pandas in a future version. Use pandas.concat instead.\n",
      "  new_df= new_df.append(data, ignore_index=True)\n",
      "/tmp/ipykernel_24298/253161635.py:19: FutureWarning: The frame.append method is deprecated and will be removed from pandas in a future version. Use pandas.concat instead.\n",
      "  new_df= new_df.append(data, ignore_index=True)\n"
     ]
    },
    {
     "name": "stdout",
     "output_type": "stream",
     "text": [
      "save image 250\n",
      "save image 251\n",
      "save image 252\n",
      "save image 253\n",
      "save image 254\n",
      "save image 255\n"
     ]
    },
    {
     "name": "stderr",
     "output_type": "stream",
     "text": [
      "/tmp/ipykernel_24298/253161635.py:19: FutureWarning: The frame.append method is deprecated and will be removed from pandas in a future version. Use pandas.concat instead.\n",
      "  new_df= new_df.append(data, ignore_index=True)\n",
      "/tmp/ipykernel_24298/253161635.py:19: FutureWarning: The frame.append method is deprecated and will be removed from pandas in a future version. Use pandas.concat instead.\n",
      "  new_df= new_df.append(data, ignore_index=True)\n",
      "/tmp/ipykernel_24298/253161635.py:19: FutureWarning: The frame.append method is deprecated and will be removed from pandas in a future version. Use pandas.concat instead.\n",
      "  new_df= new_df.append(data, ignore_index=True)\n",
      "/tmp/ipykernel_24298/253161635.py:19: FutureWarning: The frame.append method is deprecated and will be removed from pandas in a future version. Use pandas.concat instead.\n",
      "  new_df= new_df.append(data, ignore_index=True)\n"
     ]
    },
    {
     "name": "stdout",
     "output_type": "stream",
     "text": [
      "save image 256\n",
      "save image 257\n",
      "save image 258\n",
      "save image 259\n"
     ]
    },
    {
     "name": "stderr",
     "output_type": "stream",
     "text": [
      "/tmp/ipykernel_24298/253161635.py:19: FutureWarning: The frame.append method is deprecated and will be removed from pandas in a future version. Use pandas.concat instead.\n",
      "  new_df= new_df.append(data, ignore_index=True)\n",
      "/tmp/ipykernel_24298/253161635.py:19: FutureWarning: The frame.append method is deprecated and will be removed from pandas in a future version. Use pandas.concat instead.\n",
      "  new_df= new_df.append(data, ignore_index=True)\n",
      "/tmp/ipykernel_24298/253161635.py:19: FutureWarning: The frame.append method is deprecated and will be removed from pandas in a future version. Use pandas.concat instead.\n",
      "  new_df= new_df.append(data, ignore_index=True)\n",
      "/tmp/ipykernel_24298/253161635.py:19: FutureWarning: The frame.append method is deprecated and will be removed from pandas in a future version. Use pandas.concat instead.\n",
      "  new_df= new_df.append(data, ignore_index=True)\n"
     ]
    },
    {
     "name": "stdout",
     "output_type": "stream",
     "text": [
      "save image 260\n",
      "save image 261\n",
      "save image 262\n",
      "save image 263\n"
     ]
    },
    {
     "name": "stderr",
     "output_type": "stream",
     "text": [
      "/tmp/ipykernel_24298/253161635.py:19: FutureWarning: The frame.append method is deprecated and will be removed from pandas in a future version. Use pandas.concat instead.\n",
      "  new_df= new_df.append(data, ignore_index=True)\n",
      "/tmp/ipykernel_24298/253161635.py:19: FutureWarning: The frame.append method is deprecated and will be removed from pandas in a future version. Use pandas.concat instead.\n",
      "  new_df= new_df.append(data, ignore_index=True)\n",
      "/tmp/ipykernel_24298/253161635.py:19: FutureWarning: The frame.append method is deprecated and will be removed from pandas in a future version. Use pandas.concat instead.\n",
      "  new_df= new_df.append(data, ignore_index=True)\n",
      "/tmp/ipykernel_24298/253161635.py:19: FutureWarning: The frame.append method is deprecated and will be removed from pandas in a future version. Use pandas.concat instead.\n",
      "  new_df= new_df.append(data, ignore_index=True)\n",
      "/tmp/ipykernel_24298/253161635.py:19: FutureWarning: The frame.append method is deprecated and will be removed from pandas in a future version. Use pandas.concat instead.\n",
      "  new_df= new_df.append(data, ignore_index=True)\n"
     ]
    },
    {
     "name": "stdout",
     "output_type": "stream",
     "text": [
      "save image 264\n",
      "save image 265\n",
      "save image 266\n",
      "save image 267\n",
      "save image 268\n"
     ]
    },
    {
     "name": "stderr",
     "output_type": "stream",
     "text": [
      "/tmp/ipykernel_24298/253161635.py:19: FutureWarning: The frame.append method is deprecated and will be removed from pandas in a future version. Use pandas.concat instead.\n",
      "  new_df= new_df.append(data, ignore_index=True)\n",
      "/tmp/ipykernel_24298/253161635.py:19: FutureWarning: The frame.append method is deprecated and will be removed from pandas in a future version. Use pandas.concat instead.\n",
      "  new_df= new_df.append(data, ignore_index=True)\n",
      "/tmp/ipykernel_24298/253161635.py:19: FutureWarning: The frame.append method is deprecated and will be removed from pandas in a future version. Use pandas.concat instead.\n",
      "  new_df= new_df.append(data, ignore_index=True)\n",
      "/tmp/ipykernel_24298/253161635.py:19: FutureWarning: The frame.append method is deprecated and will be removed from pandas in a future version. Use pandas.concat instead.\n",
      "  new_df= new_df.append(data, ignore_index=True)\n",
      "/tmp/ipykernel_24298/253161635.py:19: FutureWarning: The frame.append method is deprecated and will be removed from pandas in a future version. Use pandas.concat instead.\n",
      "  new_df= new_df.append(data, ignore_index=True)\n"
     ]
    },
    {
     "name": "stdout",
     "output_type": "stream",
     "text": [
      "save image 269\n",
      "save image 270\n",
      "save image 271\n",
      "save image 272\n",
      "save image 273\n"
     ]
    },
    {
     "name": "stderr",
     "output_type": "stream",
     "text": [
      "/tmp/ipykernel_24298/253161635.py:19: FutureWarning: The frame.append method is deprecated and will be removed from pandas in a future version. Use pandas.concat instead.\n",
      "  new_df= new_df.append(data, ignore_index=True)\n",
      "/tmp/ipykernel_24298/253161635.py:19: FutureWarning: The frame.append method is deprecated and will be removed from pandas in a future version. Use pandas.concat instead.\n",
      "  new_df= new_df.append(data, ignore_index=True)\n",
      "/tmp/ipykernel_24298/253161635.py:19: FutureWarning: The frame.append method is deprecated and will be removed from pandas in a future version. Use pandas.concat instead.\n",
      "  new_df= new_df.append(data, ignore_index=True)\n",
      "/tmp/ipykernel_24298/253161635.py:19: FutureWarning: The frame.append method is deprecated and will be removed from pandas in a future version. Use pandas.concat instead.\n",
      "  new_df= new_df.append(data, ignore_index=True)\n"
     ]
    },
    {
     "name": "stdout",
     "output_type": "stream",
     "text": [
      "save image 274\n",
      "save image 275\n",
      "save image 276\n",
      "save image 277\n"
     ]
    },
    {
     "name": "stderr",
     "output_type": "stream",
     "text": [
      "/tmp/ipykernel_24298/253161635.py:19: FutureWarning: The frame.append method is deprecated and will be removed from pandas in a future version. Use pandas.concat instead.\n",
      "  new_df= new_df.append(data, ignore_index=True)\n",
      "/tmp/ipykernel_24298/253161635.py:19: FutureWarning: The frame.append method is deprecated and will be removed from pandas in a future version. Use pandas.concat instead.\n",
      "  new_df= new_df.append(data, ignore_index=True)\n",
      "/tmp/ipykernel_24298/253161635.py:19: FutureWarning: The frame.append method is deprecated and will be removed from pandas in a future version. Use pandas.concat instead.\n",
      "  new_df= new_df.append(data, ignore_index=True)\n",
      "/tmp/ipykernel_24298/253161635.py:19: FutureWarning: The frame.append method is deprecated and will be removed from pandas in a future version. Use pandas.concat instead.\n",
      "  new_df= new_df.append(data, ignore_index=True)\n",
      "/tmp/ipykernel_24298/253161635.py:19: FutureWarning: The frame.append method is deprecated and will be removed from pandas in a future version. Use pandas.concat instead.\n",
      "  new_df= new_df.append(data, ignore_index=True)\n"
     ]
    },
    {
     "name": "stdout",
     "output_type": "stream",
     "text": [
      "save image 278\n",
      "save image 279\n",
      "save image 280\n",
      "save image 281\n",
      "save image 282\n"
     ]
    },
    {
     "name": "stderr",
     "output_type": "stream",
     "text": [
      "/tmp/ipykernel_24298/253161635.py:19: FutureWarning: The frame.append method is deprecated and will be removed from pandas in a future version. Use pandas.concat instead.\n",
      "  new_df= new_df.append(data, ignore_index=True)\n",
      "/tmp/ipykernel_24298/253161635.py:19: FutureWarning: The frame.append method is deprecated and will be removed from pandas in a future version. Use pandas.concat instead.\n",
      "  new_df= new_df.append(data, ignore_index=True)\n",
      "/tmp/ipykernel_24298/253161635.py:19: FutureWarning: The frame.append method is deprecated and will be removed from pandas in a future version. Use pandas.concat instead.\n",
      "  new_df= new_df.append(data, ignore_index=True)\n",
      "/tmp/ipykernel_24298/253161635.py:19: FutureWarning: The frame.append method is deprecated and will be removed from pandas in a future version. Use pandas.concat instead.\n",
      "  new_df= new_df.append(data, ignore_index=True)\n"
     ]
    },
    {
     "name": "stdout",
     "output_type": "stream",
     "text": [
      "save image 283\n",
      "save image 284\n",
      "save image 285\n",
      "save image 286\n"
     ]
    },
    {
     "name": "stderr",
     "output_type": "stream",
     "text": [
      "/tmp/ipykernel_24298/253161635.py:19: FutureWarning: The frame.append method is deprecated and will be removed from pandas in a future version. Use pandas.concat instead.\n",
      "  new_df= new_df.append(data, ignore_index=True)\n",
      "/tmp/ipykernel_24298/253161635.py:19: FutureWarning: The frame.append method is deprecated and will be removed from pandas in a future version. Use pandas.concat instead.\n",
      "  new_df= new_df.append(data, ignore_index=True)\n",
      "/tmp/ipykernel_24298/253161635.py:19: FutureWarning: The frame.append method is deprecated and will be removed from pandas in a future version. Use pandas.concat instead.\n",
      "  new_df= new_df.append(data, ignore_index=True)\n",
      "/tmp/ipykernel_24298/253161635.py:19: FutureWarning: The frame.append method is deprecated and will be removed from pandas in a future version. Use pandas.concat instead.\n",
      "  new_df= new_df.append(data, ignore_index=True)\n",
      "/tmp/ipykernel_24298/253161635.py:19: FutureWarning: The frame.append method is deprecated and will be removed from pandas in a future version. Use pandas.concat instead.\n",
      "  new_df= new_df.append(data, ignore_index=True)\n",
      "/tmp/ipykernel_24298/253161635.py:19: FutureWarning: The frame.append method is deprecated and will be removed from pandas in a future version. Use pandas.concat instead.\n",
      "  new_df= new_df.append(data, ignore_index=True)\n"
     ]
    },
    {
     "name": "stdout",
     "output_type": "stream",
     "text": [
      "save image 287\n",
      "save image 288\n",
      "save image 289\n",
      "save image 290\n",
      "save image 291\n",
      "save image 292\n"
     ]
    },
    {
     "name": "stderr",
     "output_type": "stream",
     "text": [
      "/tmp/ipykernel_24298/253161635.py:19: FutureWarning: The frame.append method is deprecated and will be removed from pandas in a future version. Use pandas.concat instead.\n",
      "  new_df= new_df.append(data, ignore_index=True)\n",
      "/tmp/ipykernel_24298/253161635.py:19: FutureWarning: The frame.append method is deprecated and will be removed from pandas in a future version. Use pandas.concat instead.\n",
      "  new_df= new_df.append(data, ignore_index=True)\n",
      "/tmp/ipykernel_24298/253161635.py:19: FutureWarning: The frame.append method is deprecated and will be removed from pandas in a future version. Use pandas.concat instead.\n",
      "  new_df= new_df.append(data, ignore_index=True)\n",
      "/tmp/ipykernel_24298/253161635.py:19: FutureWarning: The frame.append method is deprecated and will be removed from pandas in a future version. Use pandas.concat instead.\n",
      "  new_df= new_df.append(data, ignore_index=True)\n",
      "/tmp/ipykernel_24298/253161635.py:19: FutureWarning: The frame.append method is deprecated and will be removed from pandas in a future version. Use pandas.concat instead.\n",
      "  new_df= new_df.append(data, ignore_index=True)\n",
      "/tmp/ipykernel_24298/253161635.py:19: FutureWarning: The frame.append method is deprecated and will be removed from pandas in a future version. Use pandas.concat instead.\n",
      "  new_df= new_df.append(data, ignore_index=True)\n"
     ]
    },
    {
     "name": "stdout",
     "output_type": "stream",
     "text": [
      "save image 293\n",
      "save image 294\n",
      "save image 295\n",
      "save image 296\n",
      "save image 297\n",
      "save image 298\n"
     ]
    },
    {
     "name": "stderr",
     "output_type": "stream",
     "text": [
      "/tmp/ipykernel_24298/253161635.py:19: FutureWarning: The frame.append method is deprecated and will be removed from pandas in a future version. Use pandas.concat instead.\n",
      "  new_df= new_df.append(data, ignore_index=True)\n",
      "/tmp/ipykernel_24298/253161635.py:19: FutureWarning: The frame.append method is deprecated and will be removed from pandas in a future version. Use pandas.concat instead.\n",
      "  new_df= new_df.append(data, ignore_index=True)\n",
      "/tmp/ipykernel_24298/253161635.py:19: FutureWarning: The frame.append method is deprecated and will be removed from pandas in a future version. Use pandas.concat instead.\n",
      "  new_df= new_df.append(data, ignore_index=True)\n",
      "/tmp/ipykernel_24298/253161635.py:19: FutureWarning: The frame.append method is deprecated and will be removed from pandas in a future version. Use pandas.concat instead.\n",
      "  new_df= new_df.append(data, ignore_index=True)\n",
      "/tmp/ipykernel_24298/253161635.py:19: FutureWarning: The frame.append method is deprecated and will be removed from pandas in a future version. Use pandas.concat instead.\n",
      "  new_df= new_df.append(data, ignore_index=True)\n",
      "/tmp/ipykernel_24298/253161635.py:19: FutureWarning: The frame.append method is deprecated and will be removed from pandas in a future version. Use pandas.concat instead.\n",
      "  new_df= new_df.append(data, ignore_index=True)\n"
     ]
    },
    {
     "name": "stdout",
     "output_type": "stream",
     "text": [
      "save image 299\n",
      "save image 300\n",
      "save image 301\n",
      "save image 302\n",
      "save image 303\n",
      "save image 304\n"
     ]
    },
    {
     "name": "stderr",
     "output_type": "stream",
     "text": [
      "/tmp/ipykernel_24298/253161635.py:19: FutureWarning: The frame.append method is deprecated and will be removed from pandas in a future version. Use pandas.concat instead.\n",
      "  new_df= new_df.append(data, ignore_index=True)\n",
      "/tmp/ipykernel_24298/253161635.py:19: FutureWarning: The frame.append method is deprecated and will be removed from pandas in a future version. Use pandas.concat instead.\n",
      "  new_df= new_df.append(data, ignore_index=True)\n",
      "/tmp/ipykernel_24298/253161635.py:19: FutureWarning: The frame.append method is deprecated and will be removed from pandas in a future version. Use pandas.concat instead.\n",
      "  new_df= new_df.append(data, ignore_index=True)\n",
      "/tmp/ipykernel_24298/253161635.py:19: FutureWarning: The frame.append method is deprecated and will be removed from pandas in a future version. Use pandas.concat instead.\n",
      "  new_df= new_df.append(data, ignore_index=True)\n",
      "/tmp/ipykernel_24298/253161635.py:19: FutureWarning: The frame.append method is deprecated and will be removed from pandas in a future version. Use pandas.concat instead.\n",
      "  new_df= new_df.append(data, ignore_index=True)\n"
     ]
    },
    {
     "name": "stdout",
     "output_type": "stream",
     "text": [
      "save image 305\n",
      "save image 306\n",
      "save image 307\n",
      "save image 308\n",
      "save image 309\n"
     ]
    },
    {
     "name": "stderr",
     "output_type": "stream",
     "text": [
      "/tmp/ipykernel_24298/253161635.py:19: FutureWarning: The frame.append method is deprecated and will be removed from pandas in a future version. Use pandas.concat instead.\n",
      "  new_df= new_df.append(data, ignore_index=True)\n",
      "/tmp/ipykernel_24298/253161635.py:19: FutureWarning: The frame.append method is deprecated and will be removed from pandas in a future version. Use pandas.concat instead.\n",
      "  new_df= new_df.append(data, ignore_index=True)\n",
      "/tmp/ipykernel_24298/253161635.py:19: FutureWarning: The frame.append method is deprecated and will be removed from pandas in a future version. Use pandas.concat instead.\n",
      "  new_df= new_df.append(data, ignore_index=True)\n",
      "/tmp/ipykernel_24298/253161635.py:19: FutureWarning: The frame.append method is deprecated and will be removed from pandas in a future version. Use pandas.concat instead.\n",
      "  new_df= new_df.append(data, ignore_index=True)\n",
      "/tmp/ipykernel_24298/253161635.py:19: FutureWarning: The frame.append method is deprecated and will be removed from pandas in a future version. Use pandas.concat instead.\n",
      "  new_df= new_df.append(data, ignore_index=True)\n",
      "/tmp/ipykernel_24298/253161635.py:19: FutureWarning: The frame.append method is deprecated and will be removed from pandas in a future version. Use pandas.concat instead.\n",
      "  new_df= new_df.append(data, ignore_index=True)\n"
     ]
    },
    {
     "name": "stdout",
     "output_type": "stream",
     "text": [
      "save image 310\n",
      "save image 311\n",
      "save image 312\n",
      "save image 313\n",
      "save image 314\n",
      "save image 315\n"
     ]
    },
    {
     "name": "stderr",
     "output_type": "stream",
     "text": [
      "/tmp/ipykernel_24298/253161635.py:19: FutureWarning: The frame.append method is deprecated and will be removed from pandas in a future version. Use pandas.concat instead.\n",
      "  new_df= new_df.append(data, ignore_index=True)\n",
      "/tmp/ipykernel_24298/253161635.py:19: FutureWarning: The frame.append method is deprecated and will be removed from pandas in a future version. Use pandas.concat instead.\n",
      "  new_df= new_df.append(data, ignore_index=True)\n",
      "/tmp/ipykernel_24298/253161635.py:19: FutureWarning: The frame.append method is deprecated and will be removed from pandas in a future version. Use pandas.concat instead.\n",
      "  new_df= new_df.append(data, ignore_index=True)\n",
      "/tmp/ipykernel_24298/253161635.py:19: FutureWarning: The frame.append method is deprecated and will be removed from pandas in a future version. Use pandas.concat instead.\n",
      "  new_df= new_df.append(data, ignore_index=True)\n",
      "/tmp/ipykernel_24298/253161635.py:19: FutureWarning: The frame.append method is deprecated and will be removed from pandas in a future version. Use pandas.concat instead.\n",
      "  new_df= new_df.append(data, ignore_index=True)\n"
     ]
    },
    {
     "name": "stdout",
     "output_type": "stream",
     "text": [
      "save image 316\n",
      "save image 317\n",
      "save image 318\n",
      "save image 319\n",
      "save image 320\n"
     ]
    },
    {
     "name": "stderr",
     "output_type": "stream",
     "text": [
      "/tmp/ipykernel_24298/253161635.py:19: FutureWarning: The frame.append method is deprecated and will be removed from pandas in a future version. Use pandas.concat instead.\n",
      "  new_df= new_df.append(data, ignore_index=True)\n",
      "/tmp/ipykernel_24298/253161635.py:19: FutureWarning: The frame.append method is deprecated and will be removed from pandas in a future version. Use pandas.concat instead.\n",
      "  new_df= new_df.append(data, ignore_index=True)\n",
      "/tmp/ipykernel_24298/253161635.py:19: FutureWarning: The frame.append method is deprecated and will be removed from pandas in a future version. Use pandas.concat instead.\n",
      "  new_df= new_df.append(data, ignore_index=True)\n",
      "/tmp/ipykernel_24298/253161635.py:19: FutureWarning: The frame.append method is deprecated and will be removed from pandas in a future version. Use pandas.concat instead.\n",
      "  new_df= new_df.append(data, ignore_index=True)\n"
     ]
    },
    {
     "name": "stdout",
     "output_type": "stream",
     "text": [
      "save image 321\n",
      "save image 322\n",
      "save image 323\n",
      "save image 324\n"
     ]
    },
    {
     "name": "stderr",
     "output_type": "stream",
     "text": [
      "/tmp/ipykernel_24298/253161635.py:19: FutureWarning: The frame.append method is deprecated and will be removed from pandas in a future version. Use pandas.concat instead.\n",
      "  new_df= new_df.append(data, ignore_index=True)\n",
      "/tmp/ipykernel_24298/253161635.py:19: FutureWarning: The frame.append method is deprecated and will be removed from pandas in a future version. Use pandas.concat instead.\n",
      "  new_df= new_df.append(data, ignore_index=True)\n",
      "/tmp/ipykernel_24298/253161635.py:19: FutureWarning: The frame.append method is deprecated and will be removed from pandas in a future version. Use pandas.concat instead.\n",
      "  new_df= new_df.append(data, ignore_index=True)\n",
      "/tmp/ipykernel_24298/253161635.py:19: FutureWarning: The frame.append method is deprecated and will be removed from pandas in a future version. Use pandas.concat instead.\n",
      "  new_df= new_df.append(data, ignore_index=True)\n",
      "/tmp/ipykernel_24298/253161635.py:19: FutureWarning: The frame.append method is deprecated and will be removed from pandas in a future version. Use pandas.concat instead.\n",
      "  new_df= new_df.append(data, ignore_index=True)\n"
     ]
    },
    {
     "name": "stdout",
     "output_type": "stream",
     "text": [
      "save image 325\n",
      "save image 326\n",
      "save image 327\n",
      "save image 328\n",
      "save image 329\n"
     ]
    },
    {
     "name": "stderr",
     "output_type": "stream",
     "text": [
      "/tmp/ipykernel_24298/253161635.py:19: FutureWarning: The frame.append method is deprecated and will be removed from pandas in a future version. Use pandas.concat instead.\n",
      "  new_df= new_df.append(data, ignore_index=True)\n",
      "/tmp/ipykernel_24298/253161635.py:19: FutureWarning: The frame.append method is deprecated and will be removed from pandas in a future version. Use pandas.concat instead.\n",
      "  new_df= new_df.append(data, ignore_index=True)\n",
      "/tmp/ipykernel_24298/253161635.py:19: FutureWarning: The frame.append method is deprecated and will be removed from pandas in a future version. Use pandas.concat instead.\n",
      "  new_df= new_df.append(data, ignore_index=True)\n",
      "/tmp/ipykernel_24298/253161635.py:19: FutureWarning: The frame.append method is deprecated and will be removed from pandas in a future version. Use pandas.concat instead.\n",
      "  new_df= new_df.append(data, ignore_index=True)\n",
      "/tmp/ipykernel_24298/253161635.py:19: FutureWarning: The frame.append method is deprecated and will be removed from pandas in a future version. Use pandas.concat instead.\n",
      "  new_df= new_df.append(data, ignore_index=True)\n"
     ]
    },
    {
     "name": "stdout",
     "output_type": "stream",
     "text": [
      "save image 330\n",
      "save image 331\n",
      "save image 332\n",
      "save image 333\n",
      "save image 334\n"
     ]
    },
    {
     "name": "stderr",
     "output_type": "stream",
     "text": [
      "/tmp/ipykernel_24298/253161635.py:19: FutureWarning: The frame.append method is deprecated and will be removed from pandas in a future version. Use pandas.concat instead.\n",
      "  new_df= new_df.append(data, ignore_index=True)\n",
      "/tmp/ipykernel_24298/253161635.py:19: FutureWarning: The frame.append method is deprecated and will be removed from pandas in a future version. Use pandas.concat instead.\n",
      "  new_df= new_df.append(data, ignore_index=True)\n",
      "/tmp/ipykernel_24298/253161635.py:19: FutureWarning: The frame.append method is deprecated and will be removed from pandas in a future version. Use pandas.concat instead.\n",
      "  new_df= new_df.append(data, ignore_index=True)\n",
      "/tmp/ipykernel_24298/253161635.py:19: FutureWarning: The frame.append method is deprecated and will be removed from pandas in a future version. Use pandas.concat instead.\n",
      "  new_df= new_df.append(data, ignore_index=True)\n",
      "/tmp/ipykernel_24298/253161635.py:19: FutureWarning: The frame.append method is deprecated and will be removed from pandas in a future version. Use pandas.concat instead.\n",
      "  new_df= new_df.append(data, ignore_index=True)\n"
     ]
    },
    {
     "name": "stdout",
     "output_type": "stream",
     "text": [
      "save image 335\n",
      "save image 336\n",
      "save image 337\n",
      "save image 338\n",
      "save image 339\n"
     ]
    },
    {
     "name": "stderr",
     "output_type": "stream",
     "text": [
      "/tmp/ipykernel_24298/253161635.py:19: FutureWarning: The frame.append method is deprecated and will be removed from pandas in a future version. Use pandas.concat instead.\n",
      "  new_df= new_df.append(data, ignore_index=True)\n",
      "/tmp/ipykernel_24298/253161635.py:19: FutureWarning: The frame.append method is deprecated and will be removed from pandas in a future version. Use pandas.concat instead.\n",
      "  new_df= new_df.append(data, ignore_index=True)\n",
      "/tmp/ipykernel_24298/253161635.py:19: FutureWarning: The frame.append method is deprecated and will be removed from pandas in a future version. Use pandas.concat instead.\n",
      "  new_df= new_df.append(data, ignore_index=True)\n",
      "/tmp/ipykernel_24298/253161635.py:19: FutureWarning: The frame.append method is deprecated and will be removed from pandas in a future version. Use pandas.concat instead.\n",
      "  new_df= new_df.append(data, ignore_index=True)\n",
      "/tmp/ipykernel_24298/253161635.py:19: FutureWarning: The frame.append method is deprecated and will be removed from pandas in a future version. Use pandas.concat instead.\n",
      "  new_df= new_df.append(data, ignore_index=True)\n"
     ]
    },
    {
     "name": "stdout",
     "output_type": "stream",
     "text": [
      "save image 340\n",
      "save image 341\n",
      "save image 342\n",
      "save image 343\n",
      "save image 344\n"
     ]
    },
    {
     "name": "stderr",
     "output_type": "stream",
     "text": [
      "/tmp/ipykernel_24298/253161635.py:19: FutureWarning: The frame.append method is deprecated and will be removed from pandas in a future version. Use pandas.concat instead.\n",
      "  new_df= new_df.append(data, ignore_index=True)\n",
      "/tmp/ipykernel_24298/253161635.py:19: FutureWarning: The frame.append method is deprecated and will be removed from pandas in a future version. Use pandas.concat instead.\n",
      "  new_df= new_df.append(data, ignore_index=True)\n",
      "/tmp/ipykernel_24298/253161635.py:19: FutureWarning: The frame.append method is deprecated and will be removed from pandas in a future version. Use pandas.concat instead.\n",
      "  new_df= new_df.append(data, ignore_index=True)\n",
      "/tmp/ipykernel_24298/253161635.py:19: FutureWarning: The frame.append method is deprecated and will be removed from pandas in a future version. Use pandas.concat instead.\n",
      "  new_df= new_df.append(data, ignore_index=True)\n",
      "/tmp/ipykernel_24298/253161635.py:19: FutureWarning: The frame.append method is deprecated and will be removed from pandas in a future version. Use pandas.concat instead.\n",
      "  new_df= new_df.append(data, ignore_index=True)\n"
     ]
    },
    {
     "name": "stdout",
     "output_type": "stream",
     "text": [
      "save image 345\n",
      "save image 346\n",
      "save image 347\n",
      "save image 348\n",
      "save image 349\n"
     ]
    },
    {
     "name": "stderr",
     "output_type": "stream",
     "text": [
      "/tmp/ipykernel_24298/253161635.py:19: FutureWarning: The frame.append method is deprecated and will be removed from pandas in a future version. Use pandas.concat instead.\n",
      "  new_df= new_df.append(data, ignore_index=True)\n",
      "/tmp/ipykernel_24298/253161635.py:19: FutureWarning: The frame.append method is deprecated and will be removed from pandas in a future version. Use pandas.concat instead.\n",
      "  new_df= new_df.append(data, ignore_index=True)\n",
      "/tmp/ipykernel_24298/253161635.py:19: FutureWarning: The frame.append method is deprecated and will be removed from pandas in a future version. Use pandas.concat instead.\n",
      "  new_df= new_df.append(data, ignore_index=True)\n",
      "/tmp/ipykernel_24298/253161635.py:19: FutureWarning: The frame.append method is deprecated and will be removed from pandas in a future version. Use pandas.concat instead.\n",
      "  new_df= new_df.append(data, ignore_index=True)\n",
      "/tmp/ipykernel_24298/253161635.py:19: FutureWarning: The frame.append method is deprecated and will be removed from pandas in a future version. Use pandas.concat instead.\n",
      "  new_df= new_df.append(data, ignore_index=True)\n"
     ]
    },
    {
     "name": "stdout",
     "output_type": "stream",
     "text": [
      "save image 350\n",
      "save image 351\n",
      "save image 352\n",
      "save image 353\n",
      "save image 354\n"
     ]
    },
    {
     "name": "stderr",
     "output_type": "stream",
     "text": [
      "/tmp/ipykernel_24298/253161635.py:19: FutureWarning: The frame.append method is deprecated and will be removed from pandas in a future version. Use pandas.concat instead.\n",
      "  new_df= new_df.append(data, ignore_index=True)\n",
      "/tmp/ipykernel_24298/253161635.py:19: FutureWarning: The frame.append method is deprecated and will be removed from pandas in a future version. Use pandas.concat instead.\n",
      "  new_df= new_df.append(data, ignore_index=True)\n",
      "/tmp/ipykernel_24298/253161635.py:19: FutureWarning: The frame.append method is deprecated and will be removed from pandas in a future version. Use pandas.concat instead.\n",
      "  new_df= new_df.append(data, ignore_index=True)\n",
      "/tmp/ipykernel_24298/253161635.py:19: FutureWarning: The frame.append method is deprecated and will be removed from pandas in a future version. Use pandas.concat instead.\n",
      "  new_df= new_df.append(data, ignore_index=True)\n",
      "/tmp/ipykernel_24298/253161635.py:19: FutureWarning: The frame.append method is deprecated and will be removed from pandas in a future version. Use pandas.concat instead.\n",
      "  new_df= new_df.append(data, ignore_index=True)\n"
     ]
    },
    {
     "name": "stdout",
     "output_type": "stream",
     "text": [
      "save image 355\n",
      "save image 356\n",
      "save image 357\n",
      "save image 358\n",
      "save image 359\n"
     ]
    },
    {
     "name": "stderr",
     "output_type": "stream",
     "text": [
      "/tmp/ipykernel_24298/253161635.py:19: FutureWarning: The frame.append method is deprecated and will be removed from pandas in a future version. Use pandas.concat instead.\n",
      "  new_df= new_df.append(data, ignore_index=True)\n",
      "/tmp/ipykernel_24298/253161635.py:19: FutureWarning: The frame.append method is deprecated and will be removed from pandas in a future version. Use pandas.concat instead.\n",
      "  new_df= new_df.append(data, ignore_index=True)\n",
      "/tmp/ipykernel_24298/253161635.py:19: FutureWarning: The frame.append method is deprecated and will be removed from pandas in a future version. Use pandas.concat instead.\n",
      "  new_df= new_df.append(data, ignore_index=True)\n",
      "/tmp/ipykernel_24298/253161635.py:19: FutureWarning: The frame.append method is deprecated and will be removed from pandas in a future version. Use pandas.concat instead.\n",
      "  new_df= new_df.append(data, ignore_index=True)\n",
      "/tmp/ipykernel_24298/253161635.py:19: FutureWarning: The frame.append method is deprecated and will be removed from pandas in a future version. Use pandas.concat instead.\n",
      "  new_df= new_df.append(data, ignore_index=True)\n"
     ]
    },
    {
     "name": "stdout",
     "output_type": "stream",
     "text": [
      "save image 360\n",
      "save image 361\n",
      "save image 362\n",
      "save image 363\n",
      "save image 364\n"
     ]
    },
    {
     "name": "stderr",
     "output_type": "stream",
     "text": [
      "/tmp/ipykernel_24298/253161635.py:19: FutureWarning: The frame.append method is deprecated and will be removed from pandas in a future version. Use pandas.concat instead.\n",
      "  new_df= new_df.append(data, ignore_index=True)\n",
      "/tmp/ipykernel_24298/253161635.py:19: FutureWarning: The frame.append method is deprecated and will be removed from pandas in a future version. Use pandas.concat instead.\n",
      "  new_df= new_df.append(data, ignore_index=True)\n",
      "/tmp/ipykernel_24298/253161635.py:19: FutureWarning: The frame.append method is deprecated and will be removed from pandas in a future version. Use pandas.concat instead.\n",
      "  new_df= new_df.append(data, ignore_index=True)\n",
      "/tmp/ipykernel_24298/253161635.py:19: FutureWarning: The frame.append method is deprecated and will be removed from pandas in a future version. Use pandas.concat instead.\n",
      "  new_df= new_df.append(data, ignore_index=True)\n",
      "/tmp/ipykernel_24298/253161635.py:19: FutureWarning: The frame.append method is deprecated and will be removed from pandas in a future version. Use pandas.concat instead.\n",
      "  new_df= new_df.append(data, ignore_index=True)\n"
     ]
    },
    {
     "name": "stdout",
     "output_type": "stream",
     "text": [
      "save image 365\n",
      "save image 366\n",
      "save image 367\n",
      "save image 368\n",
      "save image 369\n"
     ]
    },
    {
     "name": "stderr",
     "output_type": "stream",
     "text": [
      "/tmp/ipykernel_24298/253161635.py:19: FutureWarning: The frame.append method is deprecated and will be removed from pandas in a future version. Use pandas.concat instead.\n",
      "  new_df= new_df.append(data, ignore_index=True)\n",
      "/tmp/ipykernel_24298/253161635.py:19: FutureWarning: The frame.append method is deprecated and will be removed from pandas in a future version. Use pandas.concat instead.\n",
      "  new_df= new_df.append(data, ignore_index=True)\n",
      "/tmp/ipykernel_24298/253161635.py:19: FutureWarning: The frame.append method is deprecated and will be removed from pandas in a future version. Use pandas.concat instead.\n",
      "  new_df= new_df.append(data, ignore_index=True)\n",
      "/tmp/ipykernel_24298/253161635.py:19: FutureWarning: The frame.append method is deprecated and will be removed from pandas in a future version. Use pandas.concat instead.\n",
      "  new_df= new_df.append(data, ignore_index=True)\n",
      "/tmp/ipykernel_24298/253161635.py:19: FutureWarning: The frame.append method is deprecated and will be removed from pandas in a future version. Use pandas.concat instead.\n",
      "  new_df= new_df.append(data, ignore_index=True)\n",
      "/tmp/ipykernel_24298/253161635.py:19: FutureWarning: The frame.append method is deprecated and will be removed from pandas in a future version. Use pandas.concat instead.\n",
      "  new_df= new_df.append(data, ignore_index=True)\n"
     ]
    },
    {
     "name": "stdout",
     "output_type": "stream",
     "text": [
      "save image 370\n",
      "save image 371\n",
      "save image 372\n",
      "save image 373\n",
      "save image 374\n",
      "save image 375\n"
     ]
    },
    {
     "name": "stderr",
     "output_type": "stream",
     "text": [
      "/tmp/ipykernel_24298/253161635.py:19: FutureWarning: The frame.append method is deprecated and will be removed from pandas in a future version. Use pandas.concat instead.\n",
      "  new_df= new_df.append(data, ignore_index=True)\n",
      "/tmp/ipykernel_24298/253161635.py:19: FutureWarning: The frame.append method is deprecated and will be removed from pandas in a future version. Use pandas.concat instead.\n",
      "  new_df= new_df.append(data, ignore_index=True)\n",
      "/tmp/ipykernel_24298/253161635.py:19: FutureWarning: The frame.append method is deprecated and will be removed from pandas in a future version. Use pandas.concat instead.\n",
      "  new_df= new_df.append(data, ignore_index=True)\n",
      "/tmp/ipykernel_24298/253161635.py:19: FutureWarning: The frame.append method is deprecated and will be removed from pandas in a future version. Use pandas.concat instead.\n",
      "  new_df= new_df.append(data, ignore_index=True)\n"
     ]
    },
    {
     "name": "stdout",
     "output_type": "stream",
     "text": [
      "save image 376\n",
      "save image 377\n",
      "save image 378\n",
      "save image 379\n"
     ]
    },
    {
     "name": "stderr",
     "output_type": "stream",
     "text": [
      "/tmp/ipykernel_24298/253161635.py:19: FutureWarning: The frame.append method is deprecated and will be removed from pandas in a future version. Use pandas.concat instead.\n",
      "  new_df= new_df.append(data, ignore_index=True)\n",
      "/tmp/ipykernel_24298/253161635.py:19: FutureWarning: The frame.append method is deprecated and will be removed from pandas in a future version. Use pandas.concat instead.\n",
      "  new_df= new_df.append(data, ignore_index=True)\n",
      "/tmp/ipykernel_24298/253161635.py:19: FutureWarning: The frame.append method is deprecated and will be removed from pandas in a future version. Use pandas.concat instead.\n",
      "  new_df= new_df.append(data, ignore_index=True)\n",
      "/tmp/ipykernel_24298/253161635.py:19: FutureWarning: The frame.append method is deprecated and will be removed from pandas in a future version. Use pandas.concat instead.\n",
      "  new_df= new_df.append(data, ignore_index=True)\n",
      "/tmp/ipykernel_24298/253161635.py:19: FutureWarning: The frame.append method is deprecated and will be removed from pandas in a future version. Use pandas.concat instead.\n",
      "  new_df= new_df.append(data, ignore_index=True)\n"
     ]
    },
    {
     "name": "stdout",
     "output_type": "stream",
     "text": [
      "save image 380\n",
      "save image 381\n",
      "save image 382\n",
      "save image 383\n",
      "save image 384\n"
     ]
    },
    {
     "name": "stderr",
     "output_type": "stream",
     "text": [
      "/tmp/ipykernel_24298/253161635.py:19: FutureWarning: The frame.append method is deprecated and will be removed from pandas in a future version. Use pandas.concat instead.\n",
      "  new_df= new_df.append(data, ignore_index=True)\n",
      "/tmp/ipykernel_24298/253161635.py:19: FutureWarning: The frame.append method is deprecated and will be removed from pandas in a future version. Use pandas.concat instead.\n",
      "  new_df= new_df.append(data, ignore_index=True)\n",
      "/tmp/ipykernel_24298/253161635.py:19: FutureWarning: The frame.append method is deprecated and will be removed from pandas in a future version. Use pandas.concat instead.\n",
      "  new_df= new_df.append(data, ignore_index=True)\n",
      "/tmp/ipykernel_24298/253161635.py:19: FutureWarning: The frame.append method is deprecated and will be removed from pandas in a future version. Use pandas.concat instead.\n",
      "  new_df= new_df.append(data, ignore_index=True)\n",
      "/tmp/ipykernel_24298/253161635.py:19: FutureWarning: The frame.append method is deprecated and will be removed from pandas in a future version. Use pandas.concat instead.\n",
      "  new_df= new_df.append(data, ignore_index=True)\n",
      "/tmp/ipykernel_24298/253161635.py:19: FutureWarning: The frame.append method is deprecated and will be removed from pandas in a future version. Use pandas.concat instead.\n",
      "  new_df= new_df.append(data, ignore_index=True)\n"
     ]
    },
    {
     "name": "stdout",
     "output_type": "stream",
     "text": [
      "save image 385\n",
      "save image 386\n",
      "save image 387\n",
      "save image 388\n",
      "save image 389\n",
      "save image 390\n"
     ]
    },
    {
     "name": "stderr",
     "output_type": "stream",
     "text": [
      "/tmp/ipykernel_24298/253161635.py:19: FutureWarning: The frame.append method is deprecated and will be removed from pandas in a future version. Use pandas.concat instead.\n",
      "  new_df= new_df.append(data, ignore_index=True)\n",
      "/tmp/ipykernel_24298/253161635.py:19: FutureWarning: The frame.append method is deprecated and will be removed from pandas in a future version. Use pandas.concat instead.\n",
      "  new_df= new_df.append(data, ignore_index=True)\n",
      "/tmp/ipykernel_24298/253161635.py:19: FutureWarning: The frame.append method is deprecated and will be removed from pandas in a future version. Use pandas.concat instead.\n",
      "  new_df= new_df.append(data, ignore_index=True)\n",
      "/tmp/ipykernel_24298/253161635.py:19: FutureWarning: The frame.append method is deprecated and will be removed from pandas in a future version. Use pandas.concat instead.\n",
      "  new_df= new_df.append(data, ignore_index=True)\n"
     ]
    },
    {
     "name": "stdout",
     "output_type": "stream",
     "text": [
      "save image 391\n",
      "save image 392\n",
      "save image 393\n",
      "save image 394\n"
     ]
    },
    {
     "name": "stderr",
     "output_type": "stream",
     "text": [
      "/tmp/ipykernel_24298/253161635.py:19: FutureWarning: The frame.append method is deprecated and will be removed from pandas in a future version. Use pandas.concat instead.\n",
      "  new_df= new_df.append(data, ignore_index=True)\n",
      "/tmp/ipykernel_24298/253161635.py:19: FutureWarning: The frame.append method is deprecated and will be removed from pandas in a future version. Use pandas.concat instead.\n",
      "  new_df= new_df.append(data, ignore_index=True)\n",
      "/tmp/ipykernel_24298/253161635.py:19: FutureWarning: The frame.append method is deprecated and will be removed from pandas in a future version. Use pandas.concat instead.\n",
      "  new_df= new_df.append(data, ignore_index=True)\n",
      "/tmp/ipykernel_24298/253161635.py:19: FutureWarning: The frame.append method is deprecated and will be removed from pandas in a future version. Use pandas.concat instead.\n",
      "  new_df= new_df.append(data, ignore_index=True)\n",
      "/tmp/ipykernel_24298/253161635.py:19: FutureWarning: The frame.append method is deprecated and will be removed from pandas in a future version. Use pandas.concat instead.\n",
      "  new_df= new_df.append(data, ignore_index=True)\n",
      "/tmp/ipykernel_24298/253161635.py:19: FutureWarning: The frame.append method is deprecated and will be removed from pandas in a future version. Use pandas.concat instead.\n",
      "  new_df= new_df.append(data, ignore_index=True)\n"
     ]
    },
    {
     "name": "stdout",
     "output_type": "stream",
     "text": [
      "save image 395\n",
      "save image 396\n",
      "save image 397\n",
      "save image 398\n",
      "save image 399\n",
      "save image 400\n"
     ]
    },
    {
     "name": "stderr",
     "output_type": "stream",
     "text": [
      "/tmp/ipykernel_24298/253161635.py:19: FutureWarning: The frame.append method is deprecated and will be removed from pandas in a future version. Use pandas.concat instead.\n",
      "  new_df= new_df.append(data, ignore_index=True)\n",
      "/tmp/ipykernel_24298/253161635.py:19: FutureWarning: The frame.append method is deprecated and will be removed from pandas in a future version. Use pandas.concat instead.\n",
      "  new_df= new_df.append(data, ignore_index=True)\n",
      "/tmp/ipykernel_24298/253161635.py:19: FutureWarning: The frame.append method is deprecated and will be removed from pandas in a future version. Use pandas.concat instead.\n",
      "  new_df= new_df.append(data, ignore_index=True)\n",
      "/tmp/ipykernel_24298/253161635.py:19: FutureWarning: The frame.append method is deprecated and will be removed from pandas in a future version. Use pandas.concat instead.\n",
      "  new_df= new_df.append(data, ignore_index=True)\n",
      "/tmp/ipykernel_24298/253161635.py:19: FutureWarning: The frame.append method is deprecated and will be removed from pandas in a future version. Use pandas.concat instead.\n",
      "  new_df= new_df.append(data, ignore_index=True)\n",
      "/tmp/ipykernel_24298/253161635.py:19: FutureWarning: The frame.append method is deprecated and will be removed from pandas in a future version. Use pandas.concat instead.\n",
      "  new_df= new_df.append(data, ignore_index=True)\n"
     ]
    },
    {
     "name": "stdout",
     "output_type": "stream",
     "text": [
      "save image 401\n",
      "save image 402\n",
      "save image 403\n",
      "save image 404\n",
      "save image 405\n",
      "save image 406\n"
     ]
    },
    {
     "name": "stderr",
     "output_type": "stream",
     "text": [
      "/tmp/ipykernel_24298/253161635.py:19: FutureWarning: The frame.append method is deprecated and will be removed from pandas in a future version. Use pandas.concat instead.\n",
      "  new_df= new_df.append(data, ignore_index=True)\n",
      "/tmp/ipykernel_24298/253161635.py:19: FutureWarning: The frame.append method is deprecated and will be removed from pandas in a future version. Use pandas.concat instead.\n",
      "  new_df= new_df.append(data, ignore_index=True)\n",
      "/tmp/ipykernel_24298/253161635.py:19: FutureWarning: The frame.append method is deprecated and will be removed from pandas in a future version. Use pandas.concat instead.\n",
      "  new_df= new_df.append(data, ignore_index=True)\n",
      "/tmp/ipykernel_24298/253161635.py:19: FutureWarning: The frame.append method is deprecated and will be removed from pandas in a future version. Use pandas.concat instead.\n",
      "  new_df= new_df.append(data, ignore_index=True)\n",
      "/tmp/ipykernel_24298/253161635.py:19: FutureWarning: The frame.append method is deprecated and will be removed from pandas in a future version. Use pandas.concat instead.\n",
      "  new_df= new_df.append(data, ignore_index=True)\n"
     ]
    },
    {
     "name": "stdout",
     "output_type": "stream",
     "text": [
      "save image 407\n",
      "save image 408\n",
      "save image 409\n",
      "save image 410\n",
      "save image 411\n"
     ]
    },
    {
     "name": "stderr",
     "output_type": "stream",
     "text": [
      "/tmp/ipykernel_24298/253161635.py:19: FutureWarning: The frame.append method is deprecated and will be removed from pandas in a future version. Use pandas.concat instead.\n",
      "  new_df= new_df.append(data, ignore_index=True)\n",
      "/tmp/ipykernel_24298/253161635.py:19: FutureWarning: The frame.append method is deprecated and will be removed from pandas in a future version. Use pandas.concat instead.\n",
      "  new_df= new_df.append(data, ignore_index=True)\n",
      "/tmp/ipykernel_24298/253161635.py:19: FutureWarning: The frame.append method is deprecated and will be removed from pandas in a future version. Use pandas.concat instead.\n",
      "  new_df= new_df.append(data, ignore_index=True)\n",
      "/tmp/ipykernel_24298/253161635.py:19: FutureWarning: The frame.append method is deprecated and will be removed from pandas in a future version. Use pandas.concat instead.\n",
      "  new_df= new_df.append(data, ignore_index=True)\n",
      "/tmp/ipykernel_24298/253161635.py:19: FutureWarning: The frame.append method is deprecated and will be removed from pandas in a future version. Use pandas.concat instead.\n",
      "  new_df= new_df.append(data, ignore_index=True)\n",
      "/tmp/ipykernel_24298/253161635.py:19: FutureWarning: The frame.append method is deprecated and will be removed from pandas in a future version. Use pandas.concat instead.\n",
      "  new_df= new_df.append(data, ignore_index=True)\n"
     ]
    },
    {
     "name": "stdout",
     "output_type": "stream",
     "text": [
      "save image 412\n",
      "save image 413\n",
      "save image 414\n",
      "save image 415\n",
      "save image 416\n",
      "save image 417\n"
     ]
    },
    {
     "name": "stderr",
     "output_type": "stream",
     "text": [
      "/tmp/ipykernel_24298/253161635.py:19: FutureWarning: The frame.append method is deprecated and will be removed from pandas in a future version. Use pandas.concat instead.\n",
      "  new_df= new_df.append(data, ignore_index=True)\n",
      "/tmp/ipykernel_24298/253161635.py:19: FutureWarning: The frame.append method is deprecated and will be removed from pandas in a future version. Use pandas.concat instead.\n",
      "  new_df= new_df.append(data, ignore_index=True)\n",
      "/tmp/ipykernel_24298/253161635.py:19: FutureWarning: The frame.append method is deprecated and will be removed from pandas in a future version. Use pandas.concat instead.\n",
      "  new_df= new_df.append(data, ignore_index=True)\n",
      "/tmp/ipykernel_24298/253161635.py:19: FutureWarning: The frame.append method is deprecated and will be removed from pandas in a future version. Use pandas.concat instead.\n",
      "  new_df= new_df.append(data, ignore_index=True)\n",
      "/tmp/ipykernel_24298/253161635.py:19: FutureWarning: The frame.append method is deprecated and will be removed from pandas in a future version. Use pandas.concat instead.\n",
      "  new_df= new_df.append(data, ignore_index=True)\n"
     ]
    },
    {
     "name": "stdout",
     "output_type": "stream",
     "text": [
      "save image 418\n",
      "save image 419\n",
      "save image 420\n",
      "save image 421\n",
      "save image 422\n"
     ]
    },
    {
     "name": "stderr",
     "output_type": "stream",
     "text": [
      "/tmp/ipykernel_24298/253161635.py:19: FutureWarning: The frame.append method is deprecated and will be removed from pandas in a future version. Use pandas.concat instead.\n",
      "  new_df= new_df.append(data, ignore_index=True)\n",
      "/tmp/ipykernel_24298/253161635.py:19: FutureWarning: The frame.append method is deprecated and will be removed from pandas in a future version. Use pandas.concat instead.\n",
      "  new_df= new_df.append(data, ignore_index=True)\n",
      "/tmp/ipykernel_24298/253161635.py:19: FutureWarning: The frame.append method is deprecated and will be removed from pandas in a future version. Use pandas.concat instead.\n",
      "  new_df= new_df.append(data, ignore_index=True)\n",
      "/tmp/ipykernel_24298/253161635.py:19: FutureWarning: The frame.append method is deprecated and will be removed from pandas in a future version. Use pandas.concat instead.\n",
      "  new_df= new_df.append(data, ignore_index=True)\n",
      "/tmp/ipykernel_24298/253161635.py:19: FutureWarning: The frame.append method is deprecated and will be removed from pandas in a future version. Use pandas.concat instead.\n",
      "  new_df= new_df.append(data, ignore_index=True)\n"
     ]
    },
    {
     "name": "stdout",
     "output_type": "stream",
     "text": [
      "save image 423\n",
      "save image 424\n",
      "save image 425\n",
      "save image 426\n",
      "save image 427\n"
     ]
    },
    {
     "name": "stderr",
     "output_type": "stream",
     "text": [
      "/tmp/ipykernel_24298/253161635.py:19: FutureWarning: The frame.append method is deprecated and will be removed from pandas in a future version. Use pandas.concat instead.\n",
      "  new_df= new_df.append(data, ignore_index=True)\n",
      "/tmp/ipykernel_24298/253161635.py:19: FutureWarning: The frame.append method is deprecated and will be removed from pandas in a future version. Use pandas.concat instead.\n",
      "  new_df= new_df.append(data, ignore_index=True)\n",
      "/tmp/ipykernel_24298/253161635.py:19: FutureWarning: The frame.append method is deprecated and will be removed from pandas in a future version. Use pandas.concat instead.\n",
      "  new_df= new_df.append(data, ignore_index=True)\n",
      "/tmp/ipykernel_24298/253161635.py:19: FutureWarning: The frame.append method is deprecated and will be removed from pandas in a future version. Use pandas.concat instead.\n",
      "  new_df= new_df.append(data, ignore_index=True)\n",
      "/tmp/ipykernel_24298/253161635.py:19: FutureWarning: The frame.append method is deprecated and will be removed from pandas in a future version. Use pandas.concat instead.\n",
      "  new_df= new_df.append(data, ignore_index=True)\n"
     ]
    },
    {
     "name": "stdout",
     "output_type": "stream",
     "text": [
      "save image 428\n",
      "save image 429\n",
      "save image 430\n",
      "save image 431\n",
      "save image 432\n"
     ]
    },
    {
     "name": "stderr",
     "output_type": "stream",
     "text": [
      "/tmp/ipykernel_24298/253161635.py:19: FutureWarning: The frame.append method is deprecated and will be removed from pandas in a future version. Use pandas.concat instead.\n",
      "  new_df= new_df.append(data, ignore_index=True)\n",
      "/tmp/ipykernel_24298/253161635.py:19: FutureWarning: The frame.append method is deprecated and will be removed from pandas in a future version. Use pandas.concat instead.\n",
      "  new_df= new_df.append(data, ignore_index=True)\n",
      "/tmp/ipykernel_24298/253161635.py:19: FutureWarning: The frame.append method is deprecated and will be removed from pandas in a future version. Use pandas.concat instead.\n",
      "  new_df= new_df.append(data, ignore_index=True)\n",
      "/tmp/ipykernel_24298/253161635.py:19: FutureWarning: The frame.append method is deprecated and will be removed from pandas in a future version. Use pandas.concat instead.\n",
      "  new_df= new_df.append(data, ignore_index=True)\n",
      "/tmp/ipykernel_24298/253161635.py:19: FutureWarning: The frame.append method is deprecated and will be removed from pandas in a future version. Use pandas.concat instead.\n",
      "  new_df= new_df.append(data, ignore_index=True)\n"
     ]
    },
    {
     "name": "stdout",
     "output_type": "stream",
     "text": [
      "save image 433\n",
      "save image 434\n",
      "save image 435\n",
      "save image 436\n",
      "save image 437\n"
     ]
    },
    {
     "name": "stderr",
     "output_type": "stream",
     "text": [
      "/tmp/ipykernel_24298/253161635.py:19: FutureWarning: The frame.append method is deprecated and will be removed from pandas in a future version. Use pandas.concat instead.\n",
      "  new_df= new_df.append(data, ignore_index=True)\n",
      "/tmp/ipykernel_24298/253161635.py:19: FutureWarning: The frame.append method is deprecated and will be removed from pandas in a future version. Use pandas.concat instead.\n",
      "  new_df= new_df.append(data, ignore_index=True)\n",
      "/tmp/ipykernel_24298/253161635.py:19: FutureWarning: The frame.append method is deprecated and will be removed from pandas in a future version. Use pandas.concat instead.\n",
      "  new_df= new_df.append(data, ignore_index=True)\n",
      "/tmp/ipykernel_24298/253161635.py:19: FutureWarning: The frame.append method is deprecated and will be removed from pandas in a future version. Use pandas.concat instead.\n",
      "  new_df= new_df.append(data, ignore_index=True)\n"
     ]
    },
    {
     "name": "stdout",
     "output_type": "stream",
     "text": [
      "save image 438\n",
      "save image 439\n",
      "save image 440\n",
      "save image 441\n"
     ]
    },
    {
     "name": "stderr",
     "output_type": "stream",
     "text": [
      "/tmp/ipykernel_24298/253161635.py:19: FutureWarning: The frame.append method is deprecated and will be removed from pandas in a future version. Use pandas.concat instead.\n",
      "  new_df= new_df.append(data, ignore_index=True)\n",
      "/tmp/ipykernel_24298/253161635.py:19: FutureWarning: The frame.append method is deprecated and will be removed from pandas in a future version. Use pandas.concat instead.\n",
      "  new_df= new_df.append(data, ignore_index=True)\n",
      "/tmp/ipykernel_24298/253161635.py:19: FutureWarning: The frame.append method is deprecated and will be removed from pandas in a future version. Use pandas.concat instead.\n",
      "  new_df= new_df.append(data, ignore_index=True)\n",
      "/tmp/ipykernel_24298/253161635.py:19: FutureWarning: The frame.append method is deprecated and will be removed from pandas in a future version. Use pandas.concat instead.\n",
      "  new_df= new_df.append(data, ignore_index=True)\n",
      "/tmp/ipykernel_24298/253161635.py:19: FutureWarning: The frame.append method is deprecated and will be removed from pandas in a future version. Use pandas.concat instead.\n",
      "  new_df= new_df.append(data, ignore_index=True)\n"
     ]
    },
    {
     "name": "stdout",
     "output_type": "stream",
     "text": [
      "save image 442\n",
      "save image 443\n",
      "save image 444\n",
      "save image 445\n",
      "save image 446\n"
     ]
    },
    {
     "name": "stderr",
     "output_type": "stream",
     "text": [
      "/tmp/ipykernel_24298/253161635.py:19: FutureWarning: The frame.append method is deprecated and will be removed from pandas in a future version. Use pandas.concat instead.\n",
      "  new_df= new_df.append(data, ignore_index=True)\n",
      "/tmp/ipykernel_24298/253161635.py:19: FutureWarning: The frame.append method is deprecated and will be removed from pandas in a future version. Use pandas.concat instead.\n",
      "  new_df= new_df.append(data, ignore_index=True)\n",
      "/tmp/ipykernel_24298/253161635.py:19: FutureWarning: The frame.append method is deprecated and will be removed from pandas in a future version. Use pandas.concat instead.\n",
      "  new_df= new_df.append(data, ignore_index=True)\n",
      "/tmp/ipykernel_24298/253161635.py:19: FutureWarning: The frame.append method is deprecated and will be removed from pandas in a future version. Use pandas.concat instead.\n",
      "  new_df= new_df.append(data, ignore_index=True)\n",
      "/tmp/ipykernel_24298/253161635.py:19: FutureWarning: The frame.append method is deprecated and will be removed from pandas in a future version. Use pandas.concat instead.\n",
      "  new_df= new_df.append(data, ignore_index=True)\n"
     ]
    },
    {
     "name": "stdout",
     "output_type": "stream",
     "text": [
      "save image 447\n",
      "save image 448\n",
      "save image 449\n",
      "save image 450\n",
      "save image 451\n"
     ]
    },
    {
     "name": "stderr",
     "output_type": "stream",
     "text": [
      "/tmp/ipykernel_24298/253161635.py:19: FutureWarning: The frame.append method is deprecated and will be removed from pandas in a future version. Use pandas.concat instead.\n",
      "  new_df= new_df.append(data, ignore_index=True)\n",
      "/tmp/ipykernel_24298/253161635.py:19: FutureWarning: The frame.append method is deprecated and will be removed from pandas in a future version. Use pandas.concat instead.\n",
      "  new_df= new_df.append(data, ignore_index=True)\n",
      "/tmp/ipykernel_24298/253161635.py:19: FutureWarning: The frame.append method is deprecated and will be removed from pandas in a future version. Use pandas.concat instead.\n",
      "  new_df= new_df.append(data, ignore_index=True)\n",
      "/tmp/ipykernel_24298/253161635.py:19: FutureWarning: The frame.append method is deprecated and will be removed from pandas in a future version. Use pandas.concat instead.\n",
      "  new_df= new_df.append(data, ignore_index=True)\n",
      "/tmp/ipykernel_24298/253161635.py:19: FutureWarning: The frame.append method is deprecated and will be removed from pandas in a future version. Use pandas.concat instead.\n",
      "  new_df= new_df.append(data, ignore_index=True)\n",
      "/tmp/ipykernel_24298/253161635.py:19: FutureWarning: The frame.append method is deprecated and will be removed from pandas in a future version. Use pandas.concat instead.\n",
      "  new_df= new_df.append(data, ignore_index=True)\n"
     ]
    },
    {
     "name": "stdout",
     "output_type": "stream",
     "text": [
      "save image 452\n",
      "save image 453\n",
      "save image 454\n",
      "save image 455\n",
      "save image 456\n",
      "save image 457\n"
     ]
    },
    {
     "name": "stderr",
     "output_type": "stream",
     "text": [
      "/tmp/ipykernel_24298/253161635.py:19: FutureWarning: The frame.append method is deprecated and will be removed from pandas in a future version. Use pandas.concat instead.\n",
      "  new_df= new_df.append(data, ignore_index=True)\n",
      "/tmp/ipykernel_24298/253161635.py:19: FutureWarning: The frame.append method is deprecated and will be removed from pandas in a future version. Use pandas.concat instead.\n",
      "  new_df= new_df.append(data, ignore_index=True)\n",
      "/tmp/ipykernel_24298/253161635.py:19: FutureWarning: The frame.append method is deprecated and will be removed from pandas in a future version. Use pandas.concat instead.\n",
      "  new_df= new_df.append(data, ignore_index=True)\n",
      "/tmp/ipykernel_24298/253161635.py:19: FutureWarning: The frame.append method is deprecated and will be removed from pandas in a future version. Use pandas.concat instead.\n",
      "  new_df= new_df.append(data, ignore_index=True)\n"
     ]
    },
    {
     "name": "stdout",
     "output_type": "stream",
     "text": [
      "save image 458\n",
      "save image 459\n",
      "save image 460\n",
      "save image 461\n"
     ]
    },
    {
     "name": "stderr",
     "output_type": "stream",
     "text": [
      "/tmp/ipykernel_24298/253161635.py:19: FutureWarning: The frame.append method is deprecated and will be removed from pandas in a future version. Use pandas.concat instead.\n",
      "  new_df= new_df.append(data, ignore_index=True)\n",
      "/tmp/ipykernel_24298/253161635.py:19: FutureWarning: The frame.append method is deprecated and will be removed from pandas in a future version. Use pandas.concat instead.\n",
      "  new_df= new_df.append(data, ignore_index=True)\n",
      "/tmp/ipykernel_24298/253161635.py:19: FutureWarning: The frame.append method is deprecated and will be removed from pandas in a future version. Use pandas.concat instead.\n",
      "  new_df= new_df.append(data, ignore_index=True)\n",
      "/tmp/ipykernel_24298/253161635.py:19: FutureWarning: The frame.append method is deprecated and will be removed from pandas in a future version. Use pandas.concat instead.\n",
      "  new_df= new_df.append(data, ignore_index=True)\n",
      "/tmp/ipykernel_24298/253161635.py:19: FutureWarning: The frame.append method is deprecated and will be removed from pandas in a future version. Use pandas.concat instead.\n",
      "  new_df= new_df.append(data, ignore_index=True)\n"
     ]
    },
    {
     "name": "stdout",
     "output_type": "stream",
     "text": [
      "save image 462\n",
      "save image 463\n",
      "save image 464\n",
      "save image 465\n",
      "save image 466\n"
     ]
    },
    {
     "name": "stderr",
     "output_type": "stream",
     "text": [
      "/tmp/ipykernel_24298/253161635.py:19: FutureWarning: The frame.append method is deprecated and will be removed from pandas in a future version. Use pandas.concat instead.\n",
      "  new_df= new_df.append(data, ignore_index=True)\n",
      "/tmp/ipykernel_24298/253161635.py:19: FutureWarning: The frame.append method is deprecated and will be removed from pandas in a future version. Use pandas.concat instead.\n",
      "  new_df= new_df.append(data, ignore_index=True)\n",
      "/tmp/ipykernel_24298/253161635.py:19: FutureWarning: The frame.append method is deprecated and will be removed from pandas in a future version. Use pandas.concat instead.\n",
      "  new_df= new_df.append(data, ignore_index=True)\n",
      "/tmp/ipykernel_24298/253161635.py:19: FutureWarning: The frame.append method is deprecated and will be removed from pandas in a future version. Use pandas.concat instead.\n",
      "  new_df= new_df.append(data, ignore_index=True)\n",
      "/tmp/ipykernel_24298/253161635.py:19: FutureWarning: The frame.append method is deprecated and will be removed from pandas in a future version. Use pandas.concat instead.\n",
      "  new_df= new_df.append(data, ignore_index=True)\n"
     ]
    },
    {
     "name": "stdout",
     "output_type": "stream",
     "text": [
      "save image 467\n",
      "save image 468\n",
      "save image 469\n",
      "save image 470\n",
      "save image 471\n"
     ]
    },
    {
     "name": "stderr",
     "output_type": "stream",
     "text": [
      "/tmp/ipykernel_24298/253161635.py:19: FutureWarning: The frame.append method is deprecated and will be removed from pandas in a future version. Use pandas.concat instead.\n",
      "  new_df= new_df.append(data, ignore_index=True)\n",
      "/tmp/ipykernel_24298/253161635.py:19: FutureWarning: The frame.append method is deprecated and will be removed from pandas in a future version. Use pandas.concat instead.\n",
      "  new_df= new_df.append(data, ignore_index=True)\n",
      "/tmp/ipykernel_24298/253161635.py:19: FutureWarning: The frame.append method is deprecated and will be removed from pandas in a future version. Use pandas.concat instead.\n",
      "  new_df= new_df.append(data, ignore_index=True)\n",
      "/tmp/ipykernel_24298/253161635.py:19: FutureWarning: The frame.append method is deprecated and will be removed from pandas in a future version. Use pandas.concat instead.\n",
      "  new_df= new_df.append(data, ignore_index=True)\n",
      "/tmp/ipykernel_24298/253161635.py:19: FutureWarning: The frame.append method is deprecated and will be removed from pandas in a future version. Use pandas.concat instead.\n",
      "  new_df= new_df.append(data, ignore_index=True)\n"
     ]
    },
    {
     "name": "stdout",
     "output_type": "stream",
     "text": [
      "save image 472\n",
      "save image 473\n",
      "save image 474\n",
      "save image 475\n",
      "save image 476\n"
     ]
    },
    {
     "name": "stderr",
     "output_type": "stream",
     "text": [
      "/tmp/ipykernel_24298/253161635.py:19: FutureWarning: The frame.append method is deprecated and will be removed from pandas in a future version. Use pandas.concat instead.\n",
      "  new_df= new_df.append(data, ignore_index=True)\n",
      "/tmp/ipykernel_24298/253161635.py:19: FutureWarning: The frame.append method is deprecated and will be removed from pandas in a future version. Use pandas.concat instead.\n",
      "  new_df= new_df.append(data, ignore_index=True)\n",
      "/tmp/ipykernel_24298/253161635.py:19: FutureWarning: The frame.append method is deprecated and will be removed from pandas in a future version. Use pandas.concat instead.\n",
      "  new_df= new_df.append(data, ignore_index=True)\n",
      "/tmp/ipykernel_24298/253161635.py:19: FutureWarning: The frame.append method is deprecated and will be removed from pandas in a future version. Use pandas.concat instead.\n",
      "  new_df= new_df.append(data, ignore_index=True)\n",
      "/tmp/ipykernel_24298/253161635.py:19: FutureWarning: The frame.append method is deprecated and will be removed from pandas in a future version. Use pandas.concat instead.\n",
      "  new_df= new_df.append(data, ignore_index=True)\n"
     ]
    },
    {
     "name": "stdout",
     "output_type": "stream",
     "text": [
      "save image 477\n",
      "save image 478\n",
      "save image 479\n",
      "save image 480\n",
      "save image 481\n"
     ]
    },
    {
     "name": "stderr",
     "output_type": "stream",
     "text": [
      "/tmp/ipykernel_24298/253161635.py:19: FutureWarning: The frame.append method is deprecated and will be removed from pandas in a future version. Use pandas.concat instead.\n",
      "  new_df= new_df.append(data, ignore_index=True)\n",
      "/tmp/ipykernel_24298/253161635.py:19: FutureWarning: The frame.append method is deprecated and will be removed from pandas in a future version. Use pandas.concat instead.\n",
      "  new_df= new_df.append(data, ignore_index=True)\n",
      "/tmp/ipykernel_24298/253161635.py:19: FutureWarning: The frame.append method is deprecated and will be removed from pandas in a future version. Use pandas.concat instead.\n",
      "  new_df= new_df.append(data, ignore_index=True)\n",
      "/tmp/ipykernel_24298/253161635.py:19: FutureWarning: The frame.append method is deprecated and will be removed from pandas in a future version. Use pandas.concat instead.\n",
      "  new_df= new_df.append(data, ignore_index=True)\n"
     ]
    },
    {
     "name": "stdout",
     "output_type": "stream",
     "text": [
      "save image 482\n",
      "save image 483\n",
      "save image 484\n",
      "save image 485\n"
     ]
    },
    {
     "name": "stderr",
     "output_type": "stream",
     "text": [
      "/tmp/ipykernel_24298/253161635.py:19: FutureWarning: The frame.append method is deprecated and will be removed from pandas in a future version. Use pandas.concat instead.\n",
      "  new_df= new_df.append(data, ignore_index=True)\n",
      "/tmp/ipykernel_24298/253161635.py:19: FutureWarning: The frame.append method is deprecated and will be removed from pandas in a future version. Use pandas.concat instead.\n",
      "  new_df= new_df.append(data, ignore_index=True)\n",
      "/tmp/ipykernel_24298/253161635.py:19: FutureWarning: The frame.append method is deprecated and will be removed from pandas in a future version. Use pandas.concat instead.\n",
      "  new_df= new_df.append(data, ignore_index=True)\n",
      "/tmp/ipykernel_24298/253161635.py:19: FutureWarning: The frame.append method is deprecated and will be removed from pandas in a future version. Use pandas.concat instead.\n",
      "  new_df= new_df.append(data, ignore_index=True)\n",
      "/tmp/ipykernel_24298/253161635.py:19: FutureWarning: The frame.append method is deprecated and will be removed from pandas in a future version. Use pandas.concat instead.\n",
      "  new_df= new_df.append(data, ignore_index=True)\n"
     ]
    },
    {
     "name": "stdout",
     "output_type": "stream",
     "text": [
      "save image 486\n",
      "save image 487\n",
      "save image 488\n",
      "save image 489\n",
      "save image 490\n"
     ]
    },
    {
     "name": "stderr",
     "output_type": "stream",
     "text": [
      "/tmp/ipykernel_24298/253161635.py:19: FutureWarning: The frame.append method is deprecated and will be removed from pandas in a future version. Use pandas.concat instead.\n",
      "  new_df= new_df.append(data, ignore_index=True)\n",
      "/tmp/ipykernel_24298/253161635.py:19: FutureWarning: The frame.append method is deprecated and will be removed from pandas in a future version. Use pandas.concat instead.\n",
      "  new_df= new_df.append(data, ignore_index=True)\n",
      "/tmp/ipykernel_24298/253161635.py:19: FutureWarning: The frame.append method is deprecated and will be removed from pandas in a future version. Use pandas.concat instead.\n",
      "  new_df= new_df.append(data, ignore_index=True)\n",
      "/tmp/ipykernel_24298/253161635.py:19: FutureWarning: The frame.append method is deprecated and will be removed from pandas in a future version. Use pandas.concat instead.\n",
      "  new_df= new_df.append(data, ignore_index=True)\n",
      "/tmp/ipykernel_24298/253161635.py:19: FutureWarning: The frame.append method is deprecated and will be removed from pandas in a future version. Use pandas.concat instead.\n",
      "  new_df= new_df.append(data, ignore_index=True)\n",
      "/tmp/ipykernel_24298/253161635.py:19: FutureWarning: The frame.append method is deprecated and will be removed from pandas in a future version. Use pandas.concat instead.\n",
      "  new_df= new_df.append(data, ignore_index=True)\n"
     ]
    },
    {
     "name": "stdout",
     "output_type": "stream",
     "text": [
      "save image 491\n",
      "save image 492\n",
      "save image 493\n",
      "save image 494\n",
      "save image 495\n",
      "save image 496\n"
     ]
    },
    {
     "name": "stderr",
     "output_type": "stream",
     "text": [
      "/tmp/ipykernel_24298/253161635.py:19: FutureWarning: The frame.append method is deprecated and will be removed from pandas in a future version. Use pandas.concat instead.\n",
      "  new_df= new_df.append(data, ignore_index=True)\n",
      "/tmp/ipykernel_24298/253161635.py:19: FutureWarning: The frame.append method is deprecated and will be removed from pandas in a future version. Use pandas.concat instead.\n",
      "  new_df= new_df.append(data, ignore_index=True)\n",
      "/tmp/ipykernel_24298/253161635.py:19: FutureWarning: The frame.append method is deprecated and will be removed from pandas in a future version. Use pandas.concat instead.\n",
      "  new_df= new_df.append(data, ignore_index=True)\n",
      "/tmp/ipykernel_24298/253161635.py:19: FutureWarning: The frame.append method is deprecated and will be removed from pandas in a future version. Use pandas.concat instead.\n",
      "  new_df= new_df.append(data, ignore_index=True)\n",
      "/tmp/ipykernel_24298/253161635.py:19: FutureWarning: The frame.append method is deprecated and will be removed from pandas in a future version. Use pandas.concat instead.\n",
      "  new_df= new_df.append(data, ignore_index=True)\n",
      "/tmp/ipykernel_24298/253161635.py:19: FutureWarning: The frame.append method is deprecated and will be removed from pandas in a future version. Use pandas.concat instead.\n",
      "  new_df= new_df.append(data, ignore_index=True)\n"
     ]
    },
    {
     "name": "stdout",
     "output_type": "stream",
     "text": [
      "save image 497\n",
      "save image 498\n",
      "save image 499\n",
      "save image 500\n",
      "save image 501\n",
      "save image 502\n"
     ]
    },
    {
     "name": "stderr",
     "output_type": "stream",
     "text": [
      "/tmp/ipykernel_24298/253161635.py:19: FutureWarning: The frame.append method is deprecated and will be removed from pandas in a future version. Use pandas.concat instead.\n",
      "  new_df= new_df.append(data, ignore_index=True)\n",
      "/tmp/ipykernel_24298/253161635.py:19: FutureWarning: The frame.append method is deprecated and will be removed from pandas in a future version. Use pandas.concat instead.\n",
      "  new_df= new_df.append(data, ignore_index=True)\n",
      "/tmp/ipykernel_24298/253161635.py:19: FutureWarning: The frame.append method is deprecated and will be removed from pandas in a future version. Use pandas.concat instead.\n",
      "  new_df= new_df.append(data, ignore_index=True)\n",
      "/tmp/ipykernel_24298/253161635.py:19: FutureWarning: The frame.append method is deprecated and will be removed from pandas in a future version. Use pandas.concat instead.\n",
      "  new_df= new_df.append(data, ignore_index=True)\n",
      "/tmp/ipykernel_24298/253161635.py:19: FutureWarning: The frame.append method is deprecated and will be removed from pandas in a future version. Use pandas.concat instead.\n",
      "  new_df= new_df.append(data, ignore_index=True)\n",
      "/tmp/ipykernel_24298/253161635.py:19: FutureWarning: The frame.append method is deprecated and will be removed from pandas in a future version. Use pandas.concat instead.\n",
      "  new_df= new_df.append(data, ignore_index=True)\n"
     ]
    },
    {
     "name": "stdout",
     "output_type": "stream",
     "text": [
      "save image 503\n",
      "save image 504\n",
      "save image 505\n",
      "save image 506\n",
      "save image 507\n",
      "save image 508\n"
     ]
    },
    {
     "name": "stderr",
     "output_type": "stream",
     "text": [
      "/tmp/ipykernel_24298/253161635.py:19: FutureWarning: The frame.append method is deprecated and will be removed from pandas in a future version. Use pandas.concat instead.\n",
      "  new_df= new_df.append(data, ignore_index=True)\n",
      "/tmp/ipykernel_24298/253161635.py:19: FutureWarning: The frame.append method is deprecated and will be removed from pandas in a future version. Use pandas.concat instead.\n",
      "  new_df= new_df.append(data, ignore_index=True)\n",
      "/tmp/ipykernel_24298/253161635.py:19: FutureWarning: The frame.append method is deprecated and will be removed from pandas in a future version. Use pandas.concat instead.\n",
      "  new_df= new_df.append(data, ignore_index=True)\n",
      "/tmp/ipykernel_24298/253161635.py:19: FutureWarning: The frame.append method is deprecated and will be removed from pandas in a future version. Use pandas.concat instead.\n",
      "  new_df= new_df.append(data, ignore_index=True)\n"
     ]
    },
    {
     "name": "stdout",
     "output_type": "stream",
     "text": [
      "save image 509\n",
      "save image 510\n",
      "save image 511\n",
      "save image 512\n"
     ]
    },
    {
     "name": "stderr",
     "output_type": "stream",
     "text": [
      "/tmp/ipykernel_24298/253161635.py:19: FutureWarning: The frame.append method is deprecated and will be removed from pandas in a future version. Use pandas.concat instead.\n",
      "  new_df= new_df.append(data, ignore_index=True)\n",
      "/tmp/ipykernel_24298/253161635.py:19: FutureWarning: The frame.append method is deprecated and will be removed from pandas in a future version. Use pandas.concat instead.\n",
      "  new_df= new_df.append(data, ignore_index=True)\n",
      "/tmp/ipykernel_24298/253161635.py:19: FutureWarning: The frame.append method is deprecated and will be removed from pandas in a future version. Use pandas.concat instead.\n",
      "  new_df= new_df.append(data, ignore_index=True)\n",
      "/tmp/ipykernel_24298/253161635.py:19: FutureWarning: The frame.append method is deprecated and will be removed from pandas in a future version. Use pandas.concat instead.\n",
      "  new_df= new_df.append(data, ignore_index=True)\n",
      "/tmp/ipykernel_24298/253161635.py:19: FutureWarning: The frame.append method is deprecated and will be removed from pandas in a future version. Use pandas.concat instead.\n",
      "  new_df= new_df.append(data, ignore_index=True)\n"
     ]
    },
    {
     "name": "stdout",
     "output_type": "stream",
     "text": [
      "save image 513\n",
      "save image 514\n",
      "save image 515\n",
      "save image 516\n",
      "save image 517\n"
     ]
    },
    {
     "name": "stderr",
     "output_type": "stream",
     "text": [
      "/tmp/ipykernel_24298/253161635.py:19: FutureWarning: The frame.append method is deprecated and will be removed from pandas in a future version. Use pandas.concat instead.\n",
      "  new_df= new_df.append(data, ignore_index=True)\n",
      "/tmp/ipykernel_24298/253161635.py:19: FutureWarning: The frame.append method is deprecated and will be removed from pandas in a future version. Use pandas.concat instead.\n",
      "  new_df= new_df.append(data, ignore_index=True)\n",
      "/tmp/ipykernel_24298/253161635.py:19: FutureWarning: The frame.append method is deprecated and will be removed from pandas in a future version. Use pandas.concat instead.\n",
      "  new_df= new_df.append(data, ignore_index=True)\n",
      "/tmp/ipykernel_24298/253161635.py:19: FutureWarning: The frame.append method is deprecated and will be removed from pandas in a future version. Use pandas.concat instead.\n",
      "  new_df= new_df.append(data, ignore_index=True)\n"
     ]
    },
    {
     "name": "stdout",
     "output_type": "stream",
     "text": [
      "save image 518\n",
      "save image 519\n",
      "save image 520\n",
      "save image 521\n"
     ]
    },
    {
     "name": "stderr",
     "output_type": "stream",
     "text": [
      "/tmp/ipykernel_24298/253161635.py:19: FutureWarning: The frame.append method is deprecated and will be removed from pandas in a future version. Use pandas.concat instead.\n",
      "  new_df= new_df.append(data, ignore_index=True)\n",
      "/tmp/ipykernel_24298/253161635.py:19: FutureWarning: The frame.append method is deprecated and will be removed from pandas in a future version. Use pandas.concat instead.\n",
      "  new_df= new_df.append(data, ignore_index=True)\n",
      "/tmp/ipykernel_24298/253161635.py:19: FutureWarning: The frame.append method is deprecated and will be removed from pandas in a future version. Use pandas.concat instead.\n",
      "  new_df= new_df.append(data, ignore_index=True)\n",
      "/tmp/ipykernel_24298/253161635.py:19: FutureWarning: The frame.append method is deprecated and will be removed from pandas in a future version. Use pandas.concat instead.\n",
      "  new_df= new_df.append(data, ignore_index=True)\n",
      "/tmp/ipykernel_24298/253161635.py:19: FutureWarning: The frame.append method is deprecated and will be removed from pandas in a future version. Use pandas.concat instead.\n",
      "  new_df= new_df.append(data, ignore_index=True)\n",
      "/tmp/ipykernel_24298/253161635.py:19: FutureWarning: The frame.append method is deprecated and will be removed from pandas in a future version. Use pandas.concat instead.\n",
      "  new_df= new_df.append(data, ignore_index=True)\n"
     ]
    },
    {
     "name": "stdout",
     "output_type": "stream",
     "text": [
      "save image 522\n",
      "save image 523\n",
      "save image 524\n",
      "save image 525\n",
      "save image 526\n",
      "save image 527\n"
     ]
    },
    {
     "name": "stderr",
     "output_type": "stream",
     "text": [
      "/tmp/ipykernel_24298/253161635.py:19: FutureWarning: The frame.append method is deprecated and will be removed from pandas in a future version. Use pandas.concat instead.\n",
      "  new_df= new_df.append(data, ignore_index=True)\n",
      "/tmp/ipykernel_24298/253161635.py:19: FutureWarning: The frame.append method is deprecated and will be removed from pandas in a future version. Use pandas.concat instead.\n",
      "  new_df= new_df.append(data, ignore_index=True)\n",
      "/tmp/ipykernel_24298/253161635.py:19: FutureWarning: The frame.append method is deprecated and will be removed from pandas in a future version. Use pandas.concat instead.\n",
      "  new_df= new_df.append(data, ignore_index=True)\n",
      "/tmp/ipykernel_24298/253161635.py:19: FutureWarning: The frame.append method is deprecated and will be removed from pandas in a future version. Use pandas.concat instead.\n",
      "  new_df= new_df.append(data, ignore_index=True)\n",
      "/tmp/ipykernel_24298/253161635.py:19: FutureWarning: The frame.append method is deprecated and will be removed from pandas in a future version. Use pandas.concat instead.\n",
      "  new_df= new_df.append(data, ignore_index=True)\n"
     ]
    },
    {
     "name": "stdout",
     "output_type": "stream",
     "text": [
      "save image 528\n",
      "save image 529\n",
      "save image 530\n",
      "save image 531\n",
      "save image 532\n"
     ]
    },
    {
     "name": "stderr",
     "output_type": "stream",
     "text": [
      "/tmp/ipykernel_24298/253161635.py:19: FutureWarning: The frame.append method is deprecated and will be removed from pandas in a future version. Use pandas.concat instead.\n",
      "  new_df= new_df.append(data, ignore_index=True)\n",
      "/tmp/ipykernel_24298/253161635.py:19: FutureWarning: The frame.append method is deprecated and will be removed from pandas in a future version. Use pandas.concat instead.\n",
      "  new_df= new_df.append(data, ignore_index=True)\n",
      "/tmp/ipykernel_24298/253161635.py:19: FutureWarning: The frame.append method is deprecated and will be removed from pandas in a future version. Use pandas.concat instead.\n",
      "  new_df= new_df.append(data, ignore_index=True)\n",
      "/tmp/ipykernel_24298/253161635.py:19: FutureWarning: The frame.append method is deprecated and will be removed from pandas in a future version. Use pandas.concat instead.\n",
      "  new_df= new_df.append(data, ignore_index=True)\n",
      "/tmp/ipykernel_24298/253161635.py:19: FutureWarning: The frame.append method is deprecated and will be removed from pandas in a future version. Use pandas.concat instead.\n",
      "  new_df= new_df.append(data, ignore_index=True)\n",
      "/tmp/ipykernel_24298/253161635.py:19: FutureWarning: The frame.append method is deprecated and will be removed from pandas in a future version. Use pandas.concat instead.\n",
      "  new_df= new_df.append(data, ignore_index=True)\n",
      "/tmp/ipykernel_24298/253161635.py:19: FutureWarning: The frame.append method is deprecated and will be removed from pandas in a future version. Use pandas.concat instead.\n",
      "  new_df= new_df.append(data, ignore_index=True)\n"
     ]
    },
    {
     "name": "stdout",
     "output_type": "stream",
     "text": [
      "save image 533\n",
      "save image 534\n",
      "save image 535\n",
      "save image 536\n",
      "save image 537\n",
      "save image 538\n",
      "save image 539\n"
     ]
    },
    {
     "name": "stderr",
     "output_type": "stream",
     "text": [
      "/tmp/ipykernel_24298/253161635.py:19: FutureWarning: The frame.append method is deprecated and will be removed from pandas in a future version. Use pandas.concat instead.\n",
      "  new_df= new_df.append(data, ignore_index=True)\n",
      "/tmp/ipykernel_24298/253161635.py:19: FutureWarning: The frame.append method is deprecated and will be removed from pandas in a future version. Use pandas.concat instead.\n",
      "  new_df= new_df.append(data, ignore_index=True)\n",
      "/tmp/ipykernel_24298/253161635.py:19: FutureWarning: The frame.append method is deprecated and will be removed from pandas in a future version. Use pandas.concat instead.\n",
      "  new_df= new_df.append(data, ignore_index=True)\n",
      "/tmp/ipykernel_24298/253161635.py:19: FutureWarning: The frame.append method is deprecated and will be removed from pandas in a future version. Use pandas.concat instead.\n",
      "  new_df= new_df.append(data, ignore_index=True)\n",
      "/tmp/ipykernel_24298/253161635.py:19: FutureWarning: The frame.append method is deprecated and will be removed from pandas in a future version. Use pandas.concat instead.\n",
      "  new_df= new_df.append(data, ignore_index=True)\n"
     ]
    },
    {
     "name": "stdout",
     "output_type": "stream",
     "text": [
      "save image 540\n",
      "save image 541\n",
      "save image 542\n",
      "save image 543\n",
      "save image 544\n"
     ]
    },
    {
     "name": "stderr",
     "output_type": "stream",
     "text": [
      "/tmp/ipykernel_24298/253161635.py:19: FutureWarning: The frame.append method is deprecated and will be removed from pandas in a future version. Use pandas.concat instead.\n",
      "  new_df= new_df.append(data, ignore_index=True)\n",
      "/tmp/ipykernel_24298/253161635.py:19: FutureWarning: The frame.append method is deprecated and will be removed from pandas in a future version. Use pandas.concat instead.\n",
      "  new_df= new_df.append(data, ignore_index=True)\n",
      "/tmp/ipykernel_24298/253161635.py:19: FutureWarning: The frame.append method is deprecated and will be removed from pandas in a future version. Use pandas.concat instead.\n",
      "  new_df= new_df.append(data, ignore_index=True)\n",
      "/tmp/ipykernel_24298/253161635.py:19: FutureWarning: The frame.append method is deprecated and will be removed from pandas in a future version. Use pandas.concat instead.\n",
      "  new_df= new_df.append(data, ignore_index=True)\n"
     ]
    },
    {
     "name": "stdout",
     "output_type": "stream",
     "text": [
      "save image 545\n",
      "save image 546\n",
      "save image 547\n",
      "save image 548\n"
     ]
    },
    {
     "name": "stderr",
     "output_type": "stream",
     "text": [
      "/tmp/ipykernel_24298/253161635.py:19: FutureWarning: The frame.append method is deprecated and will be removed from pandas in a future version. Use pandas.concat instead.\n",
      "  new_df= new_df.append(data, ignore_index=True)\n",
      "/tmp/ipykernel_24298/253161635.py:19: FutureWarning: The frame.append method is deprecated and will be removed from pandas in a future version. Use pandas.concat instead.\n",
      "  new_df= new_df.append(data, ignore_index=True)\n",
      "/tmp/ipykernel_24298/253161635.py:19: FutureWarning: The frame.append method is deprecated and will be removed from pandas in a future version. Use pandas.concat instead.\n",
      "  new_df= new_df.append(data, ignore_index=True)\n",
      "/tmp/ipykernel_24298/253161635.py:19: FutureWarning: The frame.append method is deprecated and will be removed from pandas in a future version. Use pandas.concat instead.\n",
      "  new_df= new_df.append(data, ignore_index=True)\n"
     ]
    },
    {
     "name": "stdout",
     "output_type": "stream",
     "text": [
      "save image 549\n",
      "save image 550\n",
      "save image 551\n",
      "save image 552\n"
     ]
    },
    {
     "name": "stderr",
     "output_type": "stream",
     "text": [
      "/tmp/ipykernel_24298/253161635.py:19: FutureWarning: The frame.append method is deprecated and will be removed from pandas in a future version. Use pandas.concat instead.\n",
      "  new_df= new_df.append(data, ignore_index=True)\n",
      "/tmp/ipykernel_24298/253161635.py:19: FutureWarning: The frame.append method is deprecated and will be removed from pandas in a future version. Use pandas.concat instead.\n",
      "  new_df= new_df.append(data, ignore_index=True)\n",
      "/tmp/ipykernel_24298/253161635.py:19: FutureWarning: The frame.append method is deprecated and will be removed from pandas in a future version. Use pandas.concat instead.\n",
      "  new_df= new_df.append(data, ignore_index=True)\n",
      "/tmp/ipykernel_24298/253161635.py:19: FutureWarning: The frame.append method is deprecated and will be removed from pandas in a future version. Use pandas.concat instead.\n",
      "  new_df= new_df.append(data, ignore_index=True)\n",
      "/tmp/ipykernel_24298/253161635.py:19: FutureWarning: The frame.append method is deprecated and will be removed from pandas in a future version. Use pandas.concat instead.\n",
      "  new_df= new_df.append(data, ignore_index=True)\n"
     ]
    },
    {
     "name": "stdout",
     "output_type": "stream",
     "text": [
      "save image 553\n",
      "save image 554\n",
      "save image 555\n",
      "save image 556\n",
      "save image 557\n"
     ]
    },
    {
     "name": "stderr",
     "output_type": "stream",
     "text": [
      "/tmp/ipykernel_24298/253161635.py:19: FutureWarning: The frame.append method is deprecated and will be removed from pandas in a future version. Use pandas.concat instead.\n",
      "  new_df= new_df.append(data, ignore_index=True)\n",
      "/tmp/ipykernel_24298/253161635.py:19: FutureWarning: The frame.append method is deprecated and will be removed from pandas in a future version. Use pandas.concat instead.\n",
      "  new_df= new_df.append(data, ignore_index=True)\n",
      "/tmp/ipykernel_24298/253161635.py:19: FutureWarning: The frame.append method is deprecated and will be removed from pandas in a future version. Use pandas.concat instead.\n",
      "  new_df= new_df.append(data, ignore_index=True)\n",
      "/tmp/ipykernel_24298/253161635.py:19: FutureWarning: The frame.append method is deprecated and will be removed from pandas in a future version. Use pandas.concat instead.\n",
      "  new_df= new_df.append(data, ignore_index=True)\n",
      "/tmp/ipykernel_24298/253161635.py:19: FutureWarning: The frame.append method is deprecated and will be removed from pandas in a future version. Use pandas.concat instead.\n",
      "  new_df= new_df.append(data, ignore_index=True)\n"
     ]
    },
    {
     "name": "stdout",
     "output_type": "stream",
     "text": [
      "save image 558\n",
      "save image 559\n",
      "save image 560\n",
      "save image 561\n",
      "save image 562\n"
     ]
    },
    {
     "name": "stderr",
     "output_type": "stream",
     "text": [
      "/tmp/ipykernel_24298/253161635.py:19: FutureWarning: The frame.append method is deprecated and will be removed from pandas in a future version. Use pandas.concat instead.\n",
      "  new_df= new_df.append(data, ignore_index=True)\n",
      "/tmp/ipykernel_24298/253161635.py:19: FutureWarning: The frame.append method is deprecated and will be removed from pandas in a future version. Use pandas.concat instead.\n",
      "  new_df= new_df.append(data, ignore_index=True)\n",
      "/tmp/ipykernel_24298/253161635.py:19: FutureWarning: The frame.append method is deprecated and will be removed from pandas in a future version. Use pandas.concat instead.\n",
      "  new_df= new_df.append(data, ignore_index=True)\n",
      "/tmp/ipykernel_24298/253161635.py:19: FutureWarning: The frame.append method is deprecated and will be removed from pandas in a future version. Use pandas.concat instead.\n",
      "  new_df= new_df.append(data, ignore_index=True)\n",
      "/tmp/ipykernel_24298/253161635.py:19: FutureWarning: The frame.append method is deprecated and will be removed from pandas in a future version. Use pandas.concat instead.\n",
      "  new_df= new_df.append(data, ignore_index=True)\n"
     ]
    },
    {
     "name": "stdout",
     "output_type": "stream",
     "text": [
      "save image 563\n",
      "save image 564\n",
      "save image 565\n",
      "save image 566\n",
      "save image 567\n"
     ]
    },
    {
     "name": "stderr",
     "output_type": "stream",
     "text": [
      "/tmp/ipykernel_24298/253161635.py:19: FutureWarning: The frame.append method is deprecated and will be removed from pandas in a future version. Use pandas.concat instead.\n",
      "  new_df= new_df.append(data, ignore_index=True)\n",
      "/tmp/ipykernel_24298/253161635.py:19: FutureWarning: The frame.append method is deprecated and will be removed from pandas in a future version. Use pandas.concat instead.\n",
      "  new_df= new_df.append(data, ignore_index=True)\n",
      "/tmp/ipykernel_24298/253161635.py:19: FutureWarning: The frame.append method is deprecated and will be removed from pandas in a future version. Use pandas.concat instead.\n",
      "  new_df= new_df.append(data, ignore_index=True)\n",
      "/tmp/ipykernel_24298/253161635.py:19: FutureWarning: The frame.append method is deprecated and will be removed from pandas in a future version. Use pandas.concat instead.\n",
      "  new_df= new_df.append(data, ignore_index=True)\n"
     ]
    },
    {
     "name": "stdout",
     "output_type": "stream",
     "text": [
      "save image 568\n",
      "save image 569\n",
      "save image 570\n",
      "save image 571\n"
     ]
    },
    {
     "name": "stderr",
     "output_type": "stream",
     "text": [
      "/tmp/ipykernel_24298/253161635.py:19: FutureWarning: The frame.append method is deprecated and will be removed from pandas in a future version. Use pandas.concat instead.\n",
      "  new_df= new_df.append(data, ignore_index=True)\n",
      "/tmp/ipykernel_24298/253161635.py:19: FutureWarning: The frame.append method is deprecated and will be removed from pandas in a future version. Use pandas.concat instead.\n",
      "  new_df= new_df.append(data, ignore_index=True)\n",
      "/tmp/ipykernel_24298/253161635.py:19: FutureWarning: The frame.append method is deprecated and will be removed from pandas in a future version. Use pandas.concat instead.\n",
      "  new_df= new_df.append(data, ignore_index=True)\n",
      "/tmp/ipykernel_24298/253161635.py:19: FutureWarning: The frame.append method is deprecated and will be removed from pandas in a future version. Use pandas.concat instead.\n",
      "  new_df= new_df.append(data, ignore_index=True)\n",
      "/tmp/ipykernel_24298/253161635.py:19: FutureWarning: The frame.append method is deprecated and will be removed from pandas in a future version. Use pandas.concat instead.\n",
      "  new_df= new_df.append(data, ignore_index=True)\n",
      "/tmp/ipykernel_24298/253161635.py:19: FutureWarning: The frame.append method is deprecated and will be removed from pandas in a future version. Use pandas.concat instead.\n",
      "  new_df= new_df.append(data, ignore_index=True)\n"
     ]
    },
    {
     "name": "stdout",
     "output_type": "stream",
     "text": [
      "save image 572\n",
      "save image 573\n",
      "save image 574\n",
      "save image 575\n",
      "save image 576\n",
      "save image 577\n"
     ]
    },
    {
     "name": "stderr",
     "output_type": "stream",
     "text": [
      "/tmp/ipykernel_24298/253161635.py:19: FutureWarning: The frame.append method is deprecated and will be removed from pandas in a future version. Use pandas.concat instead.\n",
      "  new_df= new_df.append(data, ignore_index=True)\n",
      "/tmp/ipykernel_24298/253161635.py:19: FutureWarning: The frame.append method is deprecated and will be removed from pandas in a future version. Use pandas.concat instead.\n",
      "  new_df= new_df.append(data, ignore_index=True)\n",
      "/tmp/ipykernel_24298/253161635.py:19: FutureWarning: The frame.append method is deprecated and will be removed from pandas in a future version. Use pandas.concat instead.\n",
      "  new_df= new_df.append(data, ignore_index=True)\n",
      "/tmp/ipykernel_24298/253161635.py:19: FutureWarning: The frame.append method is deprecated and will be removed from pandas in a future version. Use pandas.concat instead.\n",
      "  new_df= new_df.append(data, ignore_index=True)\n",
      "/tmp/ipykernel_24298/253161635.py:19: FutureWarning: The frame.append method is deprecated and will be removed from pandas in a future version. Use pandas.concat instead.\n",
      "  new_df= new_df.append(data, ignore_index=True)\n",
      "/tmp/ipykernel_24298/253161635.py:19: FutureWarning: The frame.append method is deprecated and will be removed from pandas in a future version. Use pandas.concat instead.\n",
      "  new_df= new_df.append(data, ignore_index=True)\n"
     ]
    },
    {
     "name": "stdout",
     "output_type": "stream",
     "text": [
      "save image 578\n",
      "save image 579\n",
      "save image 580\n",
      "save image 581\n",
      "save image 582\n",
      "save image 583\n"
     ]
    },
    {
     "name": "stderr",
     "output_type": "stream",
     "text": [
      "/tmp/ipykernel_24298/253161635.py:19: FutureWarning: The frame.append method is deprecated and will be removed from pandas in a future version. Use pandas.concat instead.\n",
      "  new_df= new_df.append(data, ignore_index=True)\n",
      "/tmp/ipykernel_24298/253161635.py:19: FutureWarning: The frame.append method is deprecated and will be removed from pandas in a future version. Use pandas.concat instead.\n",
      "  new_df= new_df.append(data, ignore_index=True)\n",
      "/tmp/ipykernel_24298/253161635.py:19: FutureWarning: The frame.append method is deprecated and will be removed from pandas in a future version. Use pandas.concat instead.\n",
      "  new_df= new_df.append(data, ignore_index=True)\n",
      "/tmp/ipykernel_24298/253161635.py:19: FutureWarning: The frame.append method is deprecated and will be removed from pandas in a future version. Use pandas.concat instead.\n",
      "  new_df= new_df.append(data, ignore_index=True)\n",
      "/tmp/ipykernel_24298/253161635.py:19: FutureWarning: The frame.append method is deprecated and will be removed from pandas in a future version. Use pandas.concat instead.\n",
      "  new_df= new_df.append(data, ignore_index=True)\n"
     ]
    },
    {
     "name": "stdout",
     "output_type": "stream",
     "text": [
      "save image 584\n",
      "save image 585\n",
      "save image 586\n",
      "save image 587\n",
      "save image 588\n"
     ]
    },
    {
     "name": "stderr",
     "output_type": "stream",
     "text": [
      "/tmp/ipykernel_24298/253161635.py:19: FutureWarning: The frame.append method is deprecated and will be removed from pandas in a future version. Use pandas.concat instead.\n",
      "  new_df= new_df.append(data, ignore_index=True)\n",
      "/tmp/ipykernel_24298/253161635.py:19: FutureWarning: The frame.append method is deprecated and will be removed from pandas in a future version. Use pandas.concat instead.\n",
      "  new_df= new_df.append(data, ignore_index=True)\n",
      "/tmp/ipykernel_24298/253161635.py:19: FutureWarning: The frame.append method is deprecated and will be removed from pandas in a future version. Use pandas.concat instead.\n",
      "  new_df= new_df.append(data, ignore_index=True)\n",
      "/tmp/ipykernel_24298/253161635.py:19: FutureWarning: The frame.append method is deprecated and will be removed from pandas in a future version. Use pandas.concat instead.\n",
      "  new_df= new_df.append(data, ignore_index=True)\n"
     ]
    },
    {
     "name": "stdout",
     "output_type": "stream",
     "text": [
      "save image 589\n",
      "save image 590\n",
      "save image 591\n",
      "save image 592\n"
     ]
    },
    {
     "name": "stderr",
     "output_type": "stream",
     "text": [
      "/tmp/ipykernel_24298/253161635.py:19: FutureWarning: The frame.append method is deprecated and will be removed from pandas in a future version. Use pandas.concat instead.\n",
      "  new_df= new_df.append(data, ignore_index=True)\n",
      "/tmp/ipykernel_24298/253161635.py:19: FutureWarning: The frame.append method is deprecated and will be removed from pandas in a future version. Use pandas.concat instead.\n",
      "  new_df= new_df.append(data, ignore_index=True)\n",
      "/tmp/ipykernel_24298/253161635.py:19: FutureWarning: The frame.append method is deprecated and will be removed from pandas in a future version. Use pandas.concat instead.\n",
      "  new_df= new_df.append(data, ignore_index=True)\n",
      "/tmp/ipykernel_24298/253161635.py:19: FutureWarning: The frame.append method is deprecated and will be removed from pandas in a future version. Use pandas.concat instead.\n",
      "  new_df= new_df.append(data, ignore_index=True)\n",
      "/tmp/ipykernel_24298/253161635.py:19: FutureWarning: The frame.append method is deprecated and will be removed from pandas in a future version. Use pandas.concat instead.\n",
      "  new_df= new_df.append(data, ignore_index=True)\n",
      "/tmp/ipykernel_24298/253161635.py:19: FutureWarning: The frame.append method is deprecated and will be removed from pandas in a future version. Use pandas.concat instead.\n",
      "  new_df= new_df.append(data, ignore_index=True)\n"
     ]
    },
    {
     "name": "stdout",
     "output_type": "stream",
     "text": [
      "save image 593\n",
      "save image 594\n",
      "save image 595\n",
      "save image 596\n",
      "save image 597\n",
      "save image 598\n"
     ]
    },
    {
     "name": "stderr",
     "output_type": "stream",
     "text": [
      "/tmp/ipykernel_24298/253161635.py:19: FutureWarning: The frame.append method is deprecated and will be removed from pandas in a future version. Use pandas.concat instead.\n",
      "  new_df= new_df.append(data, ignore_index=True)\n",
      "/tmp/ipykernel_24298/253161635.py:19: FutureWarning: The frame.append method is deprecated and will be removed from pandas in a future version. Use pandas.concat instead.\n",
      "  new_df= new_df.append(data, ignore_index=True)\n",
      "/tmp/ipykernel_24298/253161635.py:19: FutureWarning: The frame.append method is deprecated and will be removed from pandas in a future version. Use pandas.concat instead.\n",
      "  new_df= new_df.append(data, ignore_index=True)\n",
      "/tmp/ipykernel_24298/253161635.py:19: FutureWarning: The frame.append method is deprecated and will be removed from pandas in a future version. Use pandas.concat instead.\n",
      "  new_df= new_df.append(data, ignore_index=True)\n",
      "/tmp/ipykernel_24298/253161635.py:19: FutureWarning: The frame.append method is deprecated and will be removed from pandas in a future version. Use pandas.concat instead.\n",
      "  new_df= new_df.append(data, ignore_index=True)\n"
     ]
    },
    {
     "name": "stdout",
     "output_type": "stream",
     "text": [
      "save image 599\n",
      "save image 600\n",
      "save image 601\n",
      "save image 602\n",
      "save image 603\n"
     ]
    },
    {
     "name": "stderr",
     "output_type": "stream",
     "text": [
      "/tmp/ipykernel_24298/253161635.py:19: FutureWarning: The frame.append method is deprecated and will be removed from pandas in a future version. Use pandas.concat instead.\n",
      "  new_df= new_df.append(data, ignore_index=True)\n",
      "/tmp/ipykernel_24298/253161635.py:19: FutureWarning: The frame.append method is deprecated and will be removed from pandas in a future version. Use pandas.concat instead.\n",
      "  new_df= new_df.append(data, ignore_index=True)\n",
      "/tmp/ipykernel_24298/253161635.py:19: FutureWarning: The frame.append method is deprecated and will be removed from pandas in a future version. Use pandas.concat instead.\n",
      "  new_df= new_df.append(data, ignore_index=True)\n",
      "/tmp/ipykernel_24298/253161635.py:19: FutureWarning: The frame.append method is deprecated and will be removed from pandas in a future version. Use pandas.concat instead.\n",
      "  new_df= new_df.append(data, ignore_index=True)\n",
      "/tmp/ipykernel_24298/253161635.py:19: FutureWarning: The frame.append method is deprecated and will be removed from pandas in a future version. Use pandas.concat instead.\n",
      "  new_df= new_df.append(data, ignore_index=True)\n",
      "/tmp/ipykernel_24298/253161635.py:19: FutureWarning: The frame.append method is deprecated and will be removed from pandas in a future version. Use pandas.concat instead.\n",
      "  new_df= new_df.append(data, ignore_index=True)\n",
      "/tmp/ipykernel_24298/253161635.py:19: FutureWarning: The frame.append method is deprecated and will be removed from pandas in a future version. Use pandas.concat instead.\n",
      "  new_df= new_df.append(data, ignore_index=True)\n"
     ]
    },
    {
     "name": "stdout",
     "output_type": "stream",
     "text": [
      "save image 604\n",
      "save image 605\n",
      "save image 606\n",
      "save image 607\n",
      "save image 608\n",
      "save image 609\n",
      "save image 610\n"
     ]
    },
    {
     "name": "stderr",
     "output_type": "stream",
     "text": [
      "/tmp/ipykernel_24298/253161635.py:19: FutureWarning: The frame.append method is deprecated and will be removed from pandas in a future version. Use pandas.concat instead.\n",
      "  new_df= new_df.append(data, ignore_index=True)\n",
      "/tmp/ipykernel_24298/253161635.py:19: FutureWarning: The frame.append method is deprecated and will be removed from pandas in a future version. Use pandas.concat instead.\n",
      "  new_df= new_df.append(data, ignore_index=True)\n",
      "/tmp/ipykernel_24298/253161635.py:19: FutureWarning: The frame.append method is deprecated and will be removed from pandas in a future version. Use pandas.concat instead.\n",
      "  new_df= new_df.append(data, ignore_index=True)\n",
      "/tmp/ipykernel_24298/253161635.py:19: FutureWarning: The frame.append method is deprecated and will be removed from pandas in a future version. Use pandas.concat instead.\n",
      "  new_df= new_df.append(data, ignore_index=True)\n"
     ]
    },
    {
     "name": "stdout",
     "output_type": "stream",
     "text": [
      "save image 611\n",
      "save image 612\n",
      "save image 613\n",
      "save image 614\n"
     ]
    },
    {
     "name": "stderr",
     "output_type": "stream",
     "text": [
      "/tmp/ipykernel_24298/253161635.py:19: FutureWarning: The frame.append method is deprecated and will be removed from pandas in a future version. Use pandas.concat instead.\n",
      "  new_df= new_df.append(data, ignore_index=True)\n",
      "/tmp/ipykernel_24298/253161635.py:19: FutureWarning: The frame.append method is deprecated and will be removed from pandas in a future version. Use pandas.concat instead.\n",
      "  new_df= new_df.append(data, ignore_index=True)\n",
      "/tmp/ipykernel_24298/253161635.py:19: FutureWarning: The frame.append method is deprecated and will be removed from pandas in a future version. Use pandas.concat instead.\n",
      "  new_df= new_df.append(data, ignore_index=True)\n",
      "/tmp/ipykernel_24298/253161635.py:19: FutureWarning: The frame.append method is deprecated and will be removed from pandas in a future version. Use pandas.concat instead.\n",
      "  new_df= new_df.append(data, ignore_index=True)\n"
     ]
    },
    {
     "name": "stdout",
     "output_type": "stream",
     "text": [
      "save image 615\n",
      "save image 616\n",
      "save image 617\n",
      "save image 618\n"
     ]
    },
    {
     "name": "stderr",
     "output_type": "stream",
     "text": [
      "/tmp/ipykernel_24298/253161635.py:19: FutureWarning: The frame.append method is deprecated and will be removed from pandas in a future version. Use pandas.concat instead.\n",
      "  new_df= new_df.append(data, ignore_index=True)\n",
      "/tmp/ipykernel_24298/253161635.py:19: FutureWarning: The frame.append method is deprecated and will be removed from pandas in a future version. Use pandas.concat instead.\n",
      "  new_df= new_df.append(data, ignore_index=True)\n",
      "/tmp/ipykernel_24298/253161635.py:19: FutureWarning: The frame.append method is deprecated and will be removed from pandas in a future version. Use pandas.concat instead.\n",
      "  new_df= new_df.append(data, ignore_index=True)\n",
      "/tmp/ipykernel_24298/253161635.py:19: FutureWarning: The frame.append method is deprecated and will be removed from pandas in a future version. Use pandas.concat instead.\n",
      "  new_df= new_df.append(data, ignore_index=True)\n"
     ]
    },
    {
     "name": "stdout",
     "output_type": "stream",
     "text": [
      "save image 619\n",
      "save image 620\n",
      "save image 621\n",
      "save image 622\n"
     ]
    },
    {
     "name": "stderr",
     "output_type": "stream",
     "text": [
      "/tmp/ipykernel_24298/253161635.py:19: FutureWarning: The frame.append method is deprecated and will be removed from pandas in a future version. Use pandas.concat instead.\n",
      "  new_df= new_df.append(data, ignore_index=True)\n",
      "/tmp/ipykernel_24298/253161635.py:19: FutureWarning: The frame.append method is deprecated and will be removed from pandas in a future version. Use pandas.concat instead.\n",
      "  new_df= new_df.append(data, ignore_index=True)\n",
      "/tmp/ipykernel_24298/253161635.py:19: FutureWarning: The frame.append method is deprecated and will be removed from pandas in a future version. Use pandas.concat instead.\n",
      "  new_df= new_df.append(data, ignore_index=True)\n",
      "/tmp/ipykernel_24298/253161635.py:19: FutureWarning: The frame.append method is deprecated and will be removed from pandas in a future version. Use pandas.concat instead.\n",
      "  new_df= new_df.append(data, ignore_index=True)\n",
      "/tmp/ipykernel_24298/253161635.py:19: FutureWarning: The frame.append method is deprecated and will be removed from pandas in a future version. Use pandas.concat instead.\n",
      "  new_df= new_df.append(data, ignore_index=True)\n"
     ]
    },
    {
     "name": "stdout",
     "output_type": "stream",
     "text": [
      "save image 623\n",
      "save image 624\n",
      "save image 625\n",
      "save image 626\n",
      "save image 627\n"
     ]
    },
    {
     "name": "stderr",
     "output_type": "stream",
     "text": [
      "/tmp/ipykernel_24298/253161635.py:19: FutureWarning: The frame.append method is deprecated and will be removed from pandas in a future version. Use pandas.concat instead.\n",
      "  new_df= new_df.append(data, ignore_index=True)\n",
      "/tmp/ipykernel_24298/253161635.py:19: FutureWarning: The frame.append method is deprecated and will be removed from pandas in a future version. Use pandas.concat instead.\n",
      "  new_df= new_df.append(data, ignore_index=True)\n",
      "/tmp/ipykernel_24298/253161635.py:19: FutureWarning: The frame.append method is deprecated and will be removed from pandas in a future version. Use pandas.concat instead.\n",
      "  new_df= new_df.append(data, ignore_index=True)\n",
      "/tmp/ipykernel_24298/253161635.py:19: FutureWarning: The frame.append method is deprecated and will be removed from pandas in a future version. Use pandas.concat instead.\n",
      "  new_df= new_df.append(data, ignore_index=True)\n",
      "/tmp/ipykernel_24298/253161635.py:19: FutureWarning: The frame.append method is deprecated and will be removed from pandas in a future version. Use pandas.concat instead.\n",
      "  new_df= new_df.append(data, ignore_index=True)\n"
     ]
    },
    {
     "name": "stdout",
     "output_type": "stream",
     "text": [
      "save image 628\n",
      "save image 629\n",
      "save image 630\n",
      "save image 631\n",
      "save image 632\n"
     ]
    },
    {
     "name": "stderr",
     "output_type": "stream",
     "text": [
      "/tmp/ipykernel_24298/253161635.py:19: FutureWarning: The frame.append method is deprecated and will be removed from pandas in a future version. Use pandas.concat instead.\n",
      "  new_df= new_df.append(data, ignore_index=True)\n",
      "/tmp/ipykernel_24298/253161635.py:19: FutureWarning: The frame.append method is deprecated and will be removed from pandas in a future version. Use pandas.concat instead.\n",
      "  new_df= new_df.append(data, ignore_index=True)\n",
      "/tmp/ipykernel_24298/253161635.py:19: FutureWarning: The frame.append method is deprecated and will be removed from pandas in a future version. Use pandas.concat instead.\n",
      "  new_df= new_df.append(data, ignore_index=True)\n",
      "/tmp/ipykernel_24298/253161635.py:19: FutureWarning: The frame.append method is deprecated and will be removed from pandas in a future version. Use pandas.concat instead.\n",
      "  new_df= new_df.append(data, ignore_index=True)\n"
     ]
    },
    {
     "name": "stdout",
     "output_type": "stream",
     "text": [
      "save image 633\n",
      "save image 634\n",
      "save image 635\n",
      "save image 636\n"
     ]
    },
    {
     "name": "stderr",
     "output_type": "stream",
     "text": [
      "/tmp/ipykernel_24298/253161635.py:19: FutureWarning: The frame.append method is deprecated and will be removed from pandas in a future version. Use pandas.concat instead.\n",
      "  new_df= new_df.append(data, ignore_index=True)\n",
      "/tmp/ipykernel_24298/253161635.py:19: FutureWarning: The frame.append method is deprecated and will be removed from pandas in a future version. Use pandas.concat instead.\n",
      "  new_df= new_df.append(data, ignore_index=True)\n",
      "/tmp/ipykernel_24298/253161635.py:19: FutureWarning: The frame.append method is deprecated and will be removed from pandas in a future version. Use pandas.concat instead.\n",
      "  new_df= new_df.append(data, ignore_index=True)\n",
      "/tmp/ipykernel_24298/253161635.py:19: FutureWarning: The frame.append method is deprecated and will be removed from pandas in a future version. Use pandas.concat instead.\n",
      "  new_df= new_df.append(data, ignore_index=True)\n",
      "/tmp/ipykernel_24298/253161635.py:19: FutureWarning: The frame.append method is deprecated and will be removed from pandas in a future version. Use pandas.concat instead.\n",
      "  new_df= new_df.append(data, ignore_index=True)\n",
      "/tmp/ipykernel_24298/253161635.py:19: FutureWarning: The frame.append method is deprecated and will be removed from pandas in a future version. Use pandas.concat instead.\n",
      "  new_df= new_df.append(data, ignore_index=True)\n"
     ]
    },
    {
     "name": "stdout",
     "output_type": "stream",
     "text": [
      "save image 637\n",
      "save image 638\n",
      "save image 639\n",
      "save image 640\n",
      "save image 641\n",
      "save image 642\n"
     ]
    },
    {
     "name": "stderr",
     "output_type": "stream",
     "text": [
      "/tmp/ipykernel_24298/253161635.py:19: FutureWarning: The frame.append method is deprecated and will be removed from pandas in a future version. Use pandas.concat instead.\n",
      "  new_df= new_df.append(data, ignore_index=True)\n",
      "/tmp/ipykernel_24298/253161635.py:19: FutureWarning: The frame.append method is deprecated and will be removed from pandas in a future version. Use pandas.concat instead.\n",
      "  new_df= new_df.append(data, ignore_index=True)\n",
      "/tmp/ipykernel_24298/253161635.py:19: FutureWarning: The frame.append method is deprecated and will be removed from pandas in a future version. Use pandas.concat instead.\n",
      "  new_df= new_df.append(data, ignore_index=True)\n",
      "/tmp/ipykernel_24298/253161635.py:19: FutureWarning: The frame.append method is deprecated and will be removed from pandas in a future version. Use pandas.concat instead.\n",
      "  new_df= new_df.append(data, ignore_index=True)\n",
      "/tmp/ipykernel_24298/253161635.py:19: FutureWarning: The frame.append method is deprecated and will be removed from pandas in a future version. Use pandas.concat instead.\n",
      "  new_df= new_df.append(data, ignore_index=True)\n"
     ]
    },
    {
     "name": "stdout",
     "output_type": "stream",
     "text": [
      "save image 643\n",
      "save image 644\n",
      "save image 645\n",
      "save image 646\n",
      "save image 647\n"
     ]
    },
    {
     "name": "stderr",
     "output_type": "stream",
     "text": [
      "/tmp/ipykernel_24298/253161635.py:19: FutureWarning: The frame.append method is deprecated and will be removed from pandas in a future version. Use pandas.concat instead.\n",
      "  new_df= new_df.append(data, ignore_index=True)\n",
      "/tmp/ipykernel_24298/253161635.py:19: FutureWarning: The frame.append method is deprecated and will be removed from pandas in a future version. Use pandas.concat instead.\n",
      "  new_df= new_df.append(data, ignore_index=True)\n",
      "/tmp/ipykernel_24298/253161635.py:19: FutureWarning: The frame.append method is deprecated and will be removed from pandas in a future version. Use pandas.concat instead.\n",
      "  new_df= new_df.append(data, ignore_index=True)\n",
      "/tmp/ipykernel_24298/253161635.py:19: FutureWarning: The frame.append method is deprecated and will be removed from pandas in a future version. Use pandas.concat instead.\n",
      "  new_df= new_df.append(data, ignore_index=True)\n",
      "/tmp/ipykernel_24298/253161635.py:19: FutureWarning: The frame.append method is deprecated and will be removed from pandas in a future version. Use pandas.concat instead.\n",
      "  new_df= new_df.append(data, ignore_index=True)\n"
     ]
    },
    {
     "name": "stdout",
     "output_type": "stream",
     "text": [
      "save image 648\n",
      "save image 649\n",
      "save image 650\n",
      "save image 651\n",
      "save image 652\n"
     ]
    },
    {
     "name": "stderr",
     "output_type": "stream",
     "text": [
      "/tmp/ipykernel_24298/253161635.py:19: FutureWarning: The frame.append method is deprecated and will be removed from pandas in a future version. Use pandas.concat instead.\n",
      "  new_df= new_df.append(data, ignore_index=True)\n",
      "/tmp/ipykernel_24298/253161635.py:19: FutureWarning: The frame.append method is deprecated and will be removed from pandas in a future version. Use pandas.concat instead.\n",
      "  new_df= new_df.append(data, ignore_index=True)\n",
      "/tmp/ipykernel_24298/253161635.py:19: FutureWarning: The frame.append method is deprecated and will be removed from pandas in a future version. Use pandas.concat instead.\n",
      "  new_df= new_df.append(data, ignore_index=True)\n",
      "/tmp/ipykernel_24298/253161635.py:19: FutureWarning: The frame.append method is deprecated and will be removed from pandas in a future version. Use pandas.concat instead.\n",
      "  new_df= new_df.append(data, ignore_index=True)\n",
      "/tmp/ipykernel_24298/253161635.py:19: FutureWarning: The frame.append method is deprecated and will be removed from pandas in a future version. Use pandas.concat instead.\n",
      "  new_df= new_df.append(data, ignore_index=True)\n"
     ]
    },
    {
     "name": "stdout",
     "output_type": "stream",
     "text": [
      "save image 653\n",
      "save image 654\n",
      "save image 655\n",
      "save image 656\n",
      "save image 657\n"
     ]
    },
    {
     "name": "stderr",
     "output_type": "stream",
     "text": [
      "/tmp/ipykernel_24298/253161635.py:19: FutureWarning: The frame.append method is deprecated and will be removed from pandas in a future version. Use pandas.concat instead.\n",
      "  new_df= new_df.append(data, ignore_index=True)\n",
      "/tmp/ipykernel_24298/253161635.py:19: FutureWarning: The frame.append method is deprecated and will be removed from pandas in a future version. Use pandas.concat instead.\n",
      "  new_df= new_df.append(data, ignore_index=True)\n",
      "/tmp/ipykernel_24298/253161635.py:19: FutureWarning: The frame.append method is deprecated and will be removed from pandas in a future version. Use pandas.concat instead.\n",
      "  new_df= new_df.append(data, ignore_index=True)\n",
      "/tmp/ipykernel_24298/253161635.py:19: FutureWarning: The frame.append method is deprecated and will be removed from pandas in a future version. Use pandas.concat instead.\n",
      "  new_df= new_df.append(data, ignore_index=True)\n",
      "/tmp/ipykernel_24298/253161635.py:19: FutureWarning: The frame.append method is deprecated and will be removed from pandas in a future version. Use pandas.concat instead.\n",
      "  new_df= new_df.append(data, ignore_index=True)\n"
     ]
    },
    {
     "name": "stdout",
     "output_type": "stream",
     "text": [
      "save image 658\n",
      "save image 659\n",
      "save image 660\n",
      "save image 661\n",
      "save image 662\n"
     ]
    },
    {
     "name": "stderr",
     "output_type": "stream",
     "text": [
      "/tmp/ipykernel_24298/253161635.py:19: FutureWarning: The frame.append method is deprecated and will be removed from pandas in a future version. Use pandas.concat instead.\n",
      "  new_df= new_df.append(data, ignore_index=True)\n",
      "/tmp/ipykernel_24298/253161635.py:19: FutureWarning: The frame.append method is deprecated and will be removed from pandas in a future version. Use pandas.concat instead.\n",
      "  new_df= new_df.append(data, ignore_index=True)\n",
      "/tmp/ipykernel_24298/253161635.py:19: FutureWarning: The frame.append method is deprecated and will be removed from pandas in a future version. Use pandas.concat instead.\n",
      "  new_df= new_df.append(data, ignore_index=True)\n",
      "/tmp/ipykernel_24298/253161635.py:19: FutureWarning: The frame.append method is deprecated and will be removed from pandas in a future version. Use pandas.concat instead.\n",
      "  new_df= new_df.append(data, ignore_index=True)\n"
     ]
    },
    {
     "name": "stdout",
     "output_type": "stream",
     "text": [
      "save image 663\n",
      "save image 664\n",
      "save image 665\n",
      "save image 666\n"
     ]
    },
    {
     "name": "stderr",
     "output_type": "stream",
     "text": [
      "/tmp/ipykernel_24298/253161635.py:19: FutureWarning: The frame.append method is deprecated and will be removed from pandas in a future version. Use pandas.concat instead.\n",
      "  new_df= new_df.append(data, ignore_index=True)\n",
      "/tmp/ipykernel_24298/253161635.py:19: FutureWarning: The frame.append method is deprecated and will be removed from pandas in a future version. Use pandas.concat instead.\n",
      "  new_df= new_df.append(data, ignore_index=True)\n",
      "/tmp/ipykernel_24298/253161635.py:19: FutureWarning: The frame.append method is deprecated and will be removed from pandas in a future version. Use pandas.concat instead.\n",
      "  new_df= new_df.append(data, ignore_index=True)\n",
      "/tmp/ipykernel_24298/253161635.py:19: FutureWarning: The frame.append method is deprecated and will be removed from pandas in a future version. Use pandas.concat instead.\n",
      "  new_df= new_df.append(data, ignore_index=True)\n",
      "/tmp/ipykernel_24298/253161635.py:19: FutureWarning: The frame.append method is deprecated and will be removed from pandas in a future version. Use pandas.concat instead.\n",
      "  new_df= new_df.append(data, ignore_index=True)\n"
     ]
    },
    {
     "name": "stdout",
     "output_type": "stream",
     "text": [
      "save image 667\n",
      "save image 668\n",
      "save image 669\n",
      "save image 670\n",
      "save image 671\n"
     ]
    },
    {
     "name": "stderr",
     "output_type": "stream",
     "text": [
      "/tmp/ipykernel_24298/253161635.py:19: FutureWarning: The frame.append method is deprecated and will be removed from pandas in a future version. Use pandas.concat instead.\n",
      "  new_df= new_df.append(data, ignore_index=True)\n",
      "/tmp/ipykernel_24298/253161635.py:19: FutureWarning: The frame.append method is deprecated and will be removed from pandas in a future version. Use pandas.concat instead.\n",
      "  new_df= new_df.append(data, ignore_index=True)\n",
      "/tmp/ipykernel_24298/253161635.py:19: FutureWarning: The frame.append method is deprecated and will be removed from pandas in a future version. Use pandas.concat instead.\n",
      "  new_df= new_df.append(data, ignore_index=True)\n",
      "/tmp/ipykernel_24298/253161635.py:19: FutureWarning: The frame.append method is deprecated and will be removed from pandas in a future version. Use pandas.concat instead.\n",
      "  new_df= new_df.append(data, ignore_index=True)\n",
      "/tmp/ipykernel_24298/253161635.py:19: FutureWarning: The frame.append method is deprecated and will be removed from pandas in a future version. Use pandas.concat instead.\n",
      "  new_df= new_df.append(data, ignore_index=True)\n"
     ]
    },
    {
     "name": "stdout",
     "output_type": "stream",
     "text": [
      "save image 672\n",
      "save image 673\n",
      "save image 674\n",
      "save image 675\n",
      "save image 676\n"
     ]
    },
    {
     "name": "stderr",
     "output_type": "stream",
     "text": [
      "/tmp/ipykernel_24298/253161635.py:19: FutureWarning: The frame.append method is deprecated and will be removed from pandas in a future version. Use pandas.concat instead.\n",
      "  new_df= new_df.append(data, ignore_index=True)\n",
      "/tmp/ipykernel_24298/253161635.py:19: FutureWarning: The frame.append method is deprecated and will be removed from pandas in a future version. Use pandas.concat instead.\n",
      "  new_df= new_df.append(data, ignore_index=True)\n",
      "/tmp/ipykernel_24298/253161635.py:19: FutureWarning: The frame.append method is deprecated and will be removed from pandas in a future version. Use pandas.concat instead.\n",
      "  new_df= new_df.append(data, ignore_index=True)\n",
      "/tmp/ipykernel_24298/253161635.py:19: FutureWarning: The frame.append method is deprecated and will be removed from pandas in a future version. Use pandas.concat instead.\n",
      "  new_df= new_df.append(data, ignore_index=True)\n",
      "/tmp/ipykernel_24298/253161635.py:19: FutureWarning: The frame.append method is deprecated and will be removed from pandas in a future version. Use pandas.concat instead.\n",
      "  new_df= new_df.append(data, ignore_index=True)\n",
      "/tmp/ipykernel_24298/253161635.py:19: FutureWarning: The frame.append method is deprecated and will be removed from pandas in a future version. Use pandas.concat instead.\n",
      "  new_df= new_df.append(data, ignore_index=True)\n"
     ]
    },
    {
     "name": "stdout",
     "output_type": "stream",
     "text": [
      "save image 677\n",
      "save image 678\n",
      "save image 679\n",
      "save image 680\n",
      "save image 681\n",
      "save image 682\n"
     ]
    },
    {
     "name": "stderr",
     "output_type": "stream",
     "text": [
      "/tmp/ipykernel_24298/253161635.py:19: FutureWarning: The frame.append method is deprecated and will be removed from pandas in a future version. Use pandas.concat instead.\n",
      "  new_df= new_df.append(data, ignore_index=True)\n",
      "/tmp/ipykernel_24298/253161635.py:19: FutureWarning: The frame.append method is deprecated and will be removed from pandas in a future version. Use pandas.concat instead.\n",
      "  new_df= new_df.append(data, ignore_index=True)\n",
      "/tmp/ipykernel_24298/253161635.py:19: FutureWarning: The frame.append method is deprecated and will be removed from pandas in a future version. Use pandas.concat instead.\n",
      "  new_df= new_df.append(data, ignore_index=True)\n",
      "/tmp/ipykernel_24298/253161635.py:19: FutureWarning: The frame.append method is deprecated and will be removed from pandas in a future version. Use pandas.concat instead.\n",
      "  new_df= new_df.append(data, ignore_index=True)\n",
      "/tmp/ipykernel_24298/253161635.py:19: FutureWarning: The frame.append method is deprecated and will be removed from pandas in a future version. Use pandas.concat instead.\n",
      "  new_df= new_df.append(data, ignore_index=True)\n"
     ]
    },
    {
     "name": "stdout",
     "output_type": "stream",
     "text": [
      "save image 683\n",
      "save image 684\n",
      "save image 685\n",
      "save image 686\n",
      "save image 687\n"
     ]
    },
    {
     "name": "stderr",
     "output_type": "stream",
     "text": [
      "/tmp/ipykernel_24298/253161635.py:19: FutureWarning: The frame.append method is deprecated and will be removed from pandas in a future version. Use pandas.concat instead.\n",
      "  new_df= new_df.append(data, ignore_index=True)\n",
      "/tmp/ipykernel_24298/253161635.py:19: FutureWarning: The frame.append method is deprecated and will be removed from pandas in a future version. Use pandas.concat instead.\n",
      "  new_df= new_df.append(data, ignore_index=True)\n",
      "/tmp/ipykernel_24298/253161635.py:19: FutureWarning: The frame.append method is deprecated and will be removed from pandas in a future version. Use pandas.concat instead.\n",
      "  new_df= new_df.append(data, ignore_index=True)\n",
      "/tmp/ipykernel_24298/253161635.py:19: FutureWarning: The frame.append method is deprecated and will be removed from pandas in a future version. Use pandas.concat instead.\n",
      "  new_df= new_df.append(data, ignore_index=True)\n"
     ]
    },
    {
     "name": "stdout",
     "output_type": "stream",
     "text": [
      "save image 688\n",
      "save image 689\n",
      "save image 690\n",
      "save image 691\n"
     ]
    },
    {
     "name": "stderr",
     "output_type": "stream",
     "text": [
      "/tmp/ipykernel_24298/253161635.py:19: FutureWarning: The frame.append method is deprecated and will be removed from pandas in a future version. Use pandas.concat instead.\n",
      "  new_df= new_df.append(data, ignore_index=True)\n",
      "/tmp/ipykernel_24298/253161635.py:19: FutureWarning: The frame.append method is deprecated and will be removed from pandas in a future version. Use pandas.concat instead.\n",
      "  new_df= new_df.append(data, ignore_index=True)\n",
      "/tmp/ipykernel_24298/253161635.py:19: FutureWarning: The frame.append method is deprecated and will be removed from pandas in a future version. Use pandas.concat instead.\n",
      "  new_df= new_df.append(data, ignore_index=True)\n",
      "/tmp/ipykernel_24298/253161635.py:19: FutureWarning: The frame.append method is deprecated and will be removed from pandas in a future version. Use pandas.concat instead.\n",
      "  new_df= new_df.append(data, ignore_index=True)\n",
      "/tmp/ipykernel_24298/253161635.py:19: FutureWarning: The frame.append method is deprecated and will be removed from pandas in a future version. Use pandas.concat instead.\n",
      "  new_df= new_df.append(data, ignore_index=True)\n",
      "/tmp/ipykernel_24298/253161635.py:19: FutureWarning: The frame.append method is deprecated and will be removed from pandas in a future version. Use pandas.concat instead.\n",
      "  new_df= new_df.append(data, ignore_index=True)\n"
     ]
    },
    {
     "name": "stdout",
     "output_type": "stream",
     "text": [
      "save image 692\n",
      "save image 693\n",
      "save image 694\n",
      "save image 695\n",
      "save image 696\n",
      "save image 697\n"
     ]
    },
    {
     "name": "stderr",
     "output_type": "stream",
     "text": [
      "/tmp/ipykernel_24298/253161635.py:19: FutureWarning: The frame.append method is deprecated and will be removed from pandas in a future version. Use pandas.concat instead.\n",
      "  new_df= new_df.append(data, ignore_index=True)\n",
      "/tmp/ipykernel_24298/253161635.py:19: FutureWarning: The frame.append method is deprecated and will be removed from pandas in a future version. Use pandas.concat instead.\n",
      "  new_df= new_df.append(data, ignore_index=True)\n",
      "/tmp/ipykernel_24298/253161635.py:19: FutureWarning: The frame.append method is deprecated and will be removed from pandas in a future version. Use pandas.concat instead.\n",
      "  new_df= new_df.append(data, ignore_index=True)\n",
      "/tmp/ipykernel_24298/253161635.py:19: FutureWarning: The frame.append method is deprecated and will be removed from pandas in a future version. Use pandas.concat instead.\n",
      "  new_df= new_df.append(data, ignore_index=True)\n"
     ]
    },
    {
     "name": "stdout",
     "output_type": "stream",
     "text": [
      "save image 698\n",
      "save image 699\n",
      "save image 700\n",
      "save image 701\n"
     ]
    },
    {
     "name": "stderr",
     "output_type": "stream",
     "text": [
      "/tmp/ipykernel_24298/253161635.py:19: FutureWarning: The frame.append method is deprecated and will be removed from pandas in a future version. Use pandas.concat instead.\n",
      "  new_df= new_df.append(data, ignore_index=True)\n",
      "/tmp/ipykernel_24298/253161635.py:19: FutureWarning: The frame.append method is deprecated and will be removed from pandas in a future version. Use pandas.concat instead.\n",
      "  new_df= new_df.append(data, ignore_index=True)\n",
      "/tmp/ipykernel_24298/253161635.py:19: FutureWarning: The frame.append method is deprecated and will be removed from pandas in a future version. Use pandas.concat instead.\n",
      "  new_df= new_df.append(data, ignore_index=True)\n",
      "/tmp/ipykernel_24298/253161635.py:19: FutureWarning: The frame.append method is deprecated and will be removed from pandas in a future version. Use pandas.concat instead.\n",
      "  new_df= new_df.append(data, ignore_index=True)\n",
      "/tmp/ipykernel_24298/253161635.py:19: FutureWarning: The frame.append method is deprecated and will be removed from pandas in a future version. Use pandas.concat instead.\n",
      "  new_df= new_df.append(data, ignore_index=True)\n",
      "/tmp/ipykernel_24298/253161635.py:19: FutureWarning: The frame.append method is deprecated and will be removed from pandas in a future version. Use pandas.concat instead.\n",
      "  new_df= new_df.append(data, ignore_index=True)\n"
     ]
    },
    {
     "name": "stdout",
     "output_type": "stream",
     "text": [
      "save image 702\n",
      "save image 703\n",
      "save image 704\n",
      "save image 705\n",
      "save image 706\n",
      "save image 707\n"
     ]
    },
    {
     "name": "stderr",
     "output_type": "stream",
     "text": [
      "/tmp/ipykernel_24298/253161635.py:19: FutureWarning: The frame.append method is deprecated and will be removed from pandas in a future version. Use pandas.concat instead.\n",
      "  new_df= new_df.append(data, ignore_index=True)\n",
      "/tmp/ipykernel_24298/253161635.py:19: FutureWarning: The frame.append method is deprecated and will be removed from pandas in a future version. Use pandas.concat instead.\n",
      "  new_df= new_df.append(data, ignore_index=True)\n",
      "/tmp/ipykernel_24298/253161635.py:19: FutureWarning: The frame.append method is deprecated and will be removed from pandas in a future version. Use pandas.concat instead.\n",
      "  new_df= new_df.append(data, ignore_index=True)\n",
      "/tmp/ipykernel_24298/253161635.py:19: FutureWarning: The frame.append method is deprecated and will be removed from pandas in a future version. Use pandas.concat instead.\n",
      "  new_df= new_df.append(data, ignore_index=True)\n",
      "/tmp/ipykernel_24298/253161635.py:19: FutureWarning: The frame.append method is deprecated and will be removed from pandas in a future version. Use pandas.concat instead.\n",
      "  new_df= new_df.append(data, ignore_index=True)\n"
     ]
    },
    {
     "name": "stdout",
     "output_type": "stream",
     "text": [
      "save image 708\n",
      "save image 709\n",
      "save image 710\n",
      "save image 711\n",
      "save image 712\n"
     ]
    },
    {
     "name": "stderr",
     "output_type": "stream",
     "text": [
      "/tmp/ipykernel_24298/253161635.py:19: FutureWarning: The frame.append method is deprecated and will be removed from pandas in a future version. Use pandas.concat instead.\n",
      "  new_df= new_df.append(data, ignore_index=True)\n",
      "/tmp/ipykernel_24298/253161635.py:19: FutureWarning: The frame.append method is deprecated and will be removed from pandas in a future version. Use pandas.concat instead.\n",
      "  new_df= new_df.append(data, ignore_index=True)\n",
      "/tmp/ipykernel_24298/253161635.py:19: FutureWarning: The frame.append method is deprecated and will be removed from pandas in a future version. Use pandas.concat instead.\n",
      "  new_df= new_df.append(data, ignore_index=True)\n",
      "/tmp/ipykernel_24298/253161635.py:19: FutureWarning: The frame.append method is deprecated and will be removed from pandas in a future version. Use pandas.concat instead.\n",
      "  new_df= new_df.append(data, ignore_index=True)\n",
      "/tmp/ipykernel_24298/253161635.py:19: FutureWarning: The frame.append method is deprecated and will be removed from pandas in a future version. Use pandas.concat instead.\n",
      "  new_df= new_df.append(data, ignore_index=True)\n"
     ]
    },
    {
     "name": "stdout",
     "output_type": "stream",
     "text": [
      "save image 713\n",
      "save image 714\n",
      "save image 715\n",
      "save image 716\n",
      "save image 717\n"
     ]
    },
    {
     "name": "stderr",
     "output_type": "stream",
     "text": [
      "/tmp/ipykernel_24298/253161635.py:19: FutureWarning: The frame.append method is deprecated and will be removed from pandas in a future version. Use pandas.concat instead.\n",
      "  new_df= new_df.append(data, ignore_index=True)\n",
      "/tmp/ipykernel_24298/253161635.py:19: FutureWarning: The frame.append method is deprecated and will be removed from pandas in a future version. Use pandas.concat instead.\n",
      "  new_df= new_df.append(data, ignore_index=True)\n",
      "/tmp/ipykernel_24298/253161635.py:19: FutureWarning: The frame.append method is deprecated and will be removed from pandas in a future version. Use pandas.concat instead.\n",
      "  new_df= new_df.append(data, ignore_index=True)\n",
      "/tmp/ipykernel_24298/253161635.py:19: FutureWarning: The frame.append method is deprecated and will be removed from pandas in a future version. Use pandas.concat instead.\n",
      "  new_df= new_df.append(data, ignore_index=True)\n",
      "/tmp/ipykernel_24298/253161635.py:19: FutureWarning: The frame.append method is deprecated and will be removed from pandas in a future version. Use pandas.concat instead.\n",
      "  new_df= new_df.append(data, ignore_index=True)\n",
      "/tmp/ipykernel_24298/253161635.py:19: FutureWarning: The frame.append method is deprecated and will be removed from pandas in a future version. Use pandas.concat instead.\n",
      "  new_df= new_df.append(data, ignore_index=True)\n"
     ]
    },
    {
     "name": "stdout",
     "output_type": "stream",
     "text": [
      "save image 718\n",
      "save image 719\n",
      "save image 720\n",
      "save image 721\n",
      "save image 722\n",
      "save image 723\n"
     ]
    },
    {
     "name": "stderr",
     "output_type": "stream",
     "text": [
      "/tmp/ipykernel_24298/253161635.py:19: FutureWarning: The frame.append method is deprecated and will be removed from pandas in a future version. Use pandas.concat instead.\n",
      "  new_df= new_df.append(data, ignore_index=True)\n",
      "/tmp/ipykernel_24298/253161635.py:19: FutureWarning: The frame.append method is deprecated and will be removed from pandas in a future version. Use pandas.concat instead.\n",
      "  new_df= new_df.append(data, ignore_index=True)\n",
      "/tmp/ipykernel_24298/253161635.py:19: FutureWarning: The frame.append method is deprecated and will be removed from pandas in a future version. Use pandas.concat instead.\n",
      "  new_df= new_df.append(data, ignore_index=True)\n",
      "/tmp/ipykernel_24298/253161635.py:19: FutureWarning: The frame.append method is deprecated and will be removed from pandas in a future version. Use pandas.concat instead.\n",
      "  new_df= new_df.append(data, ignore_index=True)\n",
      "/tmp/ipykernel_24298/253161635.py:19: FutureWarning: The frame.append method is deprecated and will be removed from pandas in a future version. Use pandas.concat instead.\n",
      "  new_df= new_df.append(data, ignore_index=True)\n",
      "/tmp/ipykernel_24298/253161635.py:19: FutureWarning: The frame.append method is deprecated and will be removed from pandas in a future version. Use pandas.concat instead.\n",
      "  new_df= new_df.append(data, ignore_index=True)\n"
     ]
    },
    {
     "name": "stdout",
     "output_type": "stream",
     "text": [
      "save image 724\n",
      "save image 725\n",
      "save image 726\n",
      "save image 727\n",
      "save image 728\n",
      "save image 729\n"
     ]
    },
    {
     "name": "stderr",
     "output_type": "stream",
     "text": [
      "/tmp/ipykernel_24298/253161635.py:19: FutureWarning: The frame.append method is deprecated and will be removed from pandas in a future version. Use pandas.concat instead.\n",
      "  new_df= new_df.append(data, ignore_index=True)\n",
      "/tmp/ipykernel_24298/253161635.py:19: FutureWarning: The frame.append method is deprecated and will be removed from pandas in a future version. Use pandas.concat instead.\n",
      "  new_df= new_df.append(data, ignore_index=True)\n",
      "/tmp/ipykernel_24298/253161635.py:19: FutureWarning: The frame.append method is deprecated and will be removed from pandas in a future version. Use pandas.concat instead.\n",
      "  new_df= new_df.append(data, ignore_index=True)\n",
      "/tmp/ipykernel_24298/253161635.py:19: FutureWarning: The frame.append method is deprecated and will be removed from pandas in a future version. Use pandas.concat instead.\n",
      "  new_df= new_df.append(data, ignore_index=True)\n",
      "/tmp/ipykernel_24298/253161635.py:19: FutureWarning: The frame.append method is deprecated and will be removed from pandas in a future version. Use pandas.concat instead.\n",
      "  new_df= new_df.append(data, ignore_index=True)\n",
      "/tmp/ipykernel_24298/253161635.py:19: FutureWarning: The frame.append method is deprecated and will be removed from pandas in a future version. Use pandas.concat instead.\n",
      "  new_df= new_df.append(data, ignore_index=True)\n"
     ]
    },
    {
     "name": "stdout",
     "output_type": "stream",
     "text": [
      "save image 730\n",
      "save image 731\n",
      "save image 732\n",
      "save image 733\n",
      "save image 734\n",
      "save image 735\n"
     ]
    },
    {
     "name": "stderr",
     "output_type": "stream",
     "text": [
      "/tmp/ipykernel_24298/253161635.py:19: FutureWarning: The frame.append method is deprecated and will be removed from pandas in a future version. Use pandas.concat instead.\n",
      "  new_df= new_df.append(data, ignore_index=True)\n",
      "/tmp/ipykernel_24298/253161635.py:19: FutureWarning: The frame.append method is deprecated and will be removed from pandas in a future version. Use pandas.concat instead.\n",
      "  new_df= new_df.append(data, ignore_index=True)\n",
      "/tmp/ipykernel_24298/253161635.py:19: FutureWarning: The frame.append method is deprecated and will be removed from pandas in a future version. Use pandas.concat instead.\n",
      "  new_df= new_df.append(data, ignore_index=True)\n",
      "/tmp/ipykernel_24298/253161635.py:19: FutureWarning: The frame.append method is deprecated and will be removed from pandas in a future version. Use pandas.concat instead.\n",
      "  new_df= new_df.append(data, ignore_index=True)\n",
      "/tmp/ipykernel_24298/253161635.py:19: FutureWarning: The frame.append method is deprecated and will be removed from pandas in a future version. Use pandas.concat instead.\n",
      "  new_df= new_df.append(data, ignore_index=True)\n"
     ]
    },
    {
     "name": "stdout",
     "output_type": "stream",
     "text": [
      "save image 736\n",
      "save image 737\n",
      "save image 738\n",
      "save image 739\n",
      "save image 740\n"
     ]
    },
    {
     "name": "stderr",
     "output_type": "stream",
     "text": [
      "/tmp/ipykernel_24298/253161635.py:19: FutureWarning: The frame.append method is deprecated and will be removed from pandas in a future version. Use pandas.concat instead.\n",
      "  new_df= new_df.append(data, ignore_index=True)\n",
      "/tmp/ipykernel_24298/253161635.py:19: FutureWarning: The frame.append method is deprecated and will be removed from pandas in a future version. Use pandas.concat instead.\n",
      "  new_df= new_df.append(data, ignore_index=True)\n",
      "/tmp/ipykernel_24298/253161635.py:19: FutureWarning: The frame.append method is deprecated and will be removed from pandas in a future version. Use pandas.concat instead.\n",
      "  new_df= new_df.append(data, ignore_index=True)\n",
      "/tmp/ipykernel_24298/253161635.py:19: FutureWarning: The frame.append method is deprecated and will be removed from pandas in a future version. Use pandas.concat instead.\n",
      "  new_df= new_df.append(data, ignore_index=True)\n",
      "/tmp/ipykernel_24298/253161635.py:19: FutureWarning: The frame.append method is deprecated and will be removed from pandas in a future version. Use pandas.concat instead.\n",
      "  new_df= new_df.append(data, ignore_index=True)\n",
      "/tmp/ipykernel_24298/253161635.py:19: FutureWarning: The frame.append method is deprecated and will be removed from pandas in a future version. Use pandas.concat instead.\n",
      "  new_df= new_df.append(data, ignore_index=True)\n"
     ]
    },
    {
     "name": "stdout",
     "output_type": "stream",
     "text": [
      "save image 741\n",
      "save image 742\n",
      "save image 743\n",
      "save image 744\n",
      "save image 745\n",
      "save image 746\n"
     ]
    },
    {
     "name": "stderr",
     "output_type": "stream",
     "text": [
      "/tmp/ipykernel_24298/253161635.py:19: FutureWarning: The frame.append method is deprecated and will be removed from pandas in a future version. Use pandas.concat instead.\n",
      "  new_df= new_df.append(data, ignore_index=True)\n",
      "/tmp/ipykernel_24298/253161635.py:19: FutureWarning: The frame.append method is deprecated and will be removed from pandas in a future version. Use pandas.concat instead.\n",
      "  new_df= new_df.append(data, ignore_index=True)\n",
      "/tmp/ipykernel_24298/253161635.py:19: FutureWarning: The frame.append method is deprecated and will be removed from pandas in a future version. Use pandas.concat instead.\n",
      "  new_df= new_df.append(data, ignore_index=True)\n",
      "/tmp/ipykernel_24298/253161635.py:19: FutureWarning: The frame.append method is deprecated and will be removed from pandas in a future version. Use pandas.concat instead.\n",
      "  new_df= new_df.append(data, ignore_index=True)\n",
      "/tmp/ipykernel_24298/253161635.py:19: FutureWarning: The frame.append method is deprecated and will be removed from pandas in a future version. Use pandas.concat instead.\n",
      "  new_df= new_df.append(data, ignore_index=True)\n"
     ]
    },
    {
     "name": "stdout",
     "output_type": "stream",
     "text": [
      "save image 747\n",
      "save image 748\n",
      "save image 749\n",
      "save image 750\n",
      "save image 751\n"
     ]
    },
    {
     "name": "stderr",
     "output_type": "stream",
     "text": [
      "/tmp/ipykernel_24298/253161635.py:19: FutureWarning: The frame.append method is deprecated and will be removed from pandas in a future version. Use pandas.concat instead.\n",
      "  new_df= new_df.append(data, ignore_index=True)\n",
      "/tmp/ipykernel_24298/253161635.py:19: FutureWarning: The frame.append method is deprecated and will be removed from pandas in a future version. Use pandas.concat instead.\n",
      "  new_df= new_df.append(data, ignore_index=True)\n",
      "/tmp/ipykernel_24298/253161635.py:19: FutureWarning: The frame.append method is deprecated and will be removed from pandas in a future version. Use pandas.concat instead.\n",
      "  new_df= new_df.append(data, ignore_index=True)\n",
      "/tmp/ipykernel_24298/253161635.py:19: FutureWarning: The frame.append method is deprecated and will be removed from pandas in a future version. Use pandas.concat instead.\n",
      "  new_df= new_df.append(data, ignore_index=True)\n",
      "/tmp/ipykernel_24298/253161635.py:19: FutureWarning: The frame.append method is deprecated and will be removed from pandas in a future version. Use pandas.concat instead.\n",
      "  new_df= new_df.append(data, ignore_index=True)\n",
      "/tmp/ipykernel_24298/253161635.py:19: FutureWarning: The frame.append method is deprecated and will be removed from pandas in a future version. Use pandas.concat instead.\n",
      "  new_df= new_df.append(data, ignore_index=True)\n"
     ]
    },
    {
     "name": "stdout",
     "output_type": "stream",
     "text": [
      "save image 752\n",
      "save image 753\n",
      "save image 754\n",
      "save image 755\n",
      "save image 756\n",
      "save image 757\n"
     ]
    },
    {
     "name": "stderr",
     "output_type": "stream",
     "text": [
      "/tmp/ipykernel_24298/253161635.py:19: FutureWarning: The frame.append method is deprecated and will be removed from pandas in a future version. Use pandas.concat instead.\n",
      "  new_df= new_df.append(data, ignore_index=True)\n",
      "/tmp/ipykernel_24298/253161635.py:19: FutureWarning: The frame.append method is deprecated and will be removed from pandas in a future version. Use pandas.concat instead.\n",
      "  new_df= new_df.append(data, ignore_index=True)\n",
      "/tmp/ipykernel_24298/253161635.py:19: FutureWarning: The frame.append method is deprecated and will be removed from pandas in a future version. Use pandas.concat instead.\n",
      "  new_df= new_df.append(data, ignore_index=True)\n",
      "/tmp/ipykernel_24298/253161635.py:19: FutureWarning: The frame.append method is deprecated and will be removed from pandas in a future version. Use pandas.concat instead.\n",
      "  new_df= new_df.append(data, ignore_index=True)\n"
     ]
    },
    {
     "name": "stdout",
     "output_type": "stream",
     "text": [
      "save image 758\n",
      "save image 759\n",
      "save image 760\n",
      "save image 761\n"
     ]
    },
    {
     "name": "stderr",
     "output_type": "stream",
     "text": [
      "/tmp/ipykernel_24298/253161635.py:19: FutureWarning: The frame.append method is deprecated and will be removed from pandas in a future version. Use pandas.concat instead.\n",
      "  new_df= new_df.append(data, ignore_index=True)\n",
      "/tmp/ipykernel_24298/253161635.py:19: FutureWarning: The frame.append method is deprecated and will be removed from pandas in a future version. Use pandas.concat instead.\n",
      "  new_df= new_df.append(data, ignore_index=True)\n",
      "/tmp/ipykernel_24298/253161635.py:19: FutureWarning: The frame.append method is deprecated and will be removed from pandas in a future version. Use pandas.concat instead.\n",
      "  new_df= new_df.append(data, ignore_index=True)\n",
      "/tmp/ipykernel_24298/253161635.py:19: FutureWarning: The frame.append method is deprecated and will be removed from pandas in a future version. Use pandas.concat instead.\n",
      "  new_df= new_df.append(data, ignore_index=True)\n"
     ]
    },
    {
     "name": "stdout",
     "output_type": "stream",
     "text": [
      "save image 762\n",
      "save image 763\n",
      "save image 764\n",
      "save image 765\n"
     ]
    },
    {
     "name": "stderr",
     "output_type": "stream",
     "text": [
      "/tmp/ipykernel_24298/253161635.py:19: FutureWarning: The frame.append method is deprecated and will be removed from pandas in a future version. Use pandas.concat instead.\n",
      "  new_df= new_df.append(data, ignore_index=True)\n",
      "/tmp/ipykernel_24298/253161635.py:19: FutureWarning: The frame.append method is deprecated and will be removed from pandas in a future version. Use pandas.concat instead.\n",
      "  new_df= new_df.append(data, ignore_index=True)\n",
      "/tmp/ipykernel_24298/253161635.py:19: FutureWarning: The frame.append method is deprecated and will be removed from pandas in a future version. Use pandas.concat instead.\n",
      "  new_df= new_df.append(data, ignore_index=True)\n",
      "/tmp/ipykernel_24298/253161635.py:19: FutureWarning: The frame.append method is deprecated and will be removed from pandas in a future version. Use pandas.concat instead.\n",
      "  new_df= new_df.append(data, ignore_index=True)\n",
      "/tmp/ipykernel_24298/253161635.py:19: FutureWarning: The frame.append method is deprecated and will be removed from pandas in a future version. Use pandas.concat instead.\n",
      "  new_df= new_df.append(data, ignore_index=True)\n"
     ]
    },
    {
     "name": "stdout",
     "output_type": "stream",
     "text": [
      "save image 766\n",
      "save image 767\n",
      "save image 768\n",
      "save image 769\n",
      "save image 770\n"
     ]
    },
    {
     "name": "stderr",
     "output_type": "stream",
     "text": [
      "/tmp/ipykernel_24298/253161635.py:19: FutureWarning: The frame.append method is deprecated and will be removed from pandas in a future version. Use pandas.concat instead.\n",
      "  new_df= new_df.append(data, ignore_index=True)\n",
      "/tmp/ipykernel_24298/253161635.py:19: FutureWarning: The frame.append method is deprecated and will be removed from pandas in a future version. Use pandas.concat instead.\n",
      "  new_df= new_df.append(data, ignore_index=True)\n",
      "/tmp/ipykernel_24298/253161635.py:19: FutureWarning: The frame.append method is deprecated and will be removed from pandas in a future version. Use pandas.concat instead.\n",
      "  new_df= new_df.append(data, ignore_index=True)\n",
      "/tmp/ipykernel_24298/253161635.py:19: FutureWarning: The frame.append method is deprecated and will be removed from pandas in a future version. Use pandas.concat instead.\n",
      "  new_df= new_df.append(data, ignore_index=True)\n",
      "/tmp/ipykernel_24298/253161635.py:19: FutureWarning: The frame.append method is deprecated and will be removed from pandas in a future version. Use pandas.concat instead.\n",
      "  new_df= new_df.append(data, ignore_index=True)\n",
      "/tmp/ipykernel_24298/253161635.py:19: FutureWarning: The frame.append method is deprecated and will be removed from pandas in a future version. Use pandas.concat instead.\n",
      "  new_df= new_df.append(data, ignore_index=True)\n"
     ]
    },
    {
     "name": "stdout",
     "output_type": "stream",
     "text": [
      "save image 771\n",
      "save image 772\n",
      "save image 773\n",
      "save image 774\n",
      "save image 775\n",
      "save image 776\n"
     ]
    },
    {
     "name": "stderr",
     "output_type": "stream",
     "text": [
      "/tmp/ipykernel_24298/253161635.py:19: FutureWarning: The frame.append method is deprecated and will be removed from pandas in a future version. Use pandas.concat instead.\n",
      "  new_df= new_df.append(data, ignore_index=True)\n",
      "/tmp/ipykernel_24298/253161635.py:19: FutureWarning: The frame.append method is deprecated and will be removed from pandas in a future version. Use pandas.concat instead.\n",
      "  new_df= new_df.append(data, ignore_index=True)\n",
      "/tmp/ipykernel_24298/253161635.py:19: FutureWarning: The frame.append method is deprecated and will be removed from pandas in a future version. Use pandas.concat instead.\n",
      "  new_df= new_df.append(data, ignore_index=True)\n",
      "/tmp/ipykernel_24298/253161635.py:19: FutureWarning: The frame.append method is deprecated and will be removed from pandas in a future version. Use pandas.concat instead.\n",
      "  new_df= new_df.append(data, ignore_index=True)\n",
      "/tmp/ipykernel_24298/253161635.py:30: FutureWarning: The frame.append method is deprecated and will be removed from pandas in a future version. Use pandas.concat instead.\n",
      "  new_df= new_df.append(data, ignore_index=True)\n"
     ]
    },
    {
     "name": "stdout",
     "output_type": "stream",
     "text": [
      "save image 777\n",
      "save image 778\n",
      "save image 779\n",
      "save image 780\n",
      "save wear_old_image 780\n",
      "save image 1\n"
     ]
    },
    {
     "name": "stderr",
     "output_type": "stream",
     "text": [
      "/tmp/ipykernel_24298/253161635.py:30: FutureWarning: The frame.append method is deprecated and will be removed from pandas in a future version. Use pandas.concat instead.\n",
      "  new_df= new_df.append(data, ignore_index=True)\n",
      "/tmp/ipykernel_24298/253161635.py:30: FutureWarning: The frame.append method is deprecated and will be removed from pandas in a future version. Use pandas.concat instead.\n",
      "  new_df= new_df.append(data, ignore_index=True)\n",
      "/tmp/ipykernel_24298/253161635.py:30: FutureWarning: The frame.append method is deprecated and will be removed from pandas in a future version. Use pandas.concat instead.\n",
      "  new_df= new_df.append(data, ignore_index=True)\n",
      "/tmp/ipykernel_24298/253161635.py:30: FutureWarning: The frame.append method is deprecated and will be removed from pandas in a future version. Use pandas.concat instead.\n",
      "  new_df= new_df.append(data, ignore_index=True)\n",
      "/tmp/ipykernel_24298/253161635.py:30: FutureWarning: The frame.append method is deprecated and will be removed from pandas in a future version. Use pandas.concat instead.\n",
      "  new_df= new_df.append(data, ignore_index=True)\n"
     ]
    },
    {
     "name": "stdout",
     "output_type": "stream",
     "text": [
      "save image 2\n",
      "save image 3\n",
      "save image 4\n",
      "save image 5\n",
      "save image 6\n"
     ]
    },
    {
     "name": "stderr",
     "output_type": "stream",
     "text": [
      "/tmp/ipykernel_24298/253161635.py:30: FutureWarning: The frame.append method is deprecated and will be removed from pandas in a future version. Use pandas.concat instead.\n",
      "  new_df= new_df.append(data, ignore_index=True)\n",
      "/tmp/ipykernel_24298/253161635.py:30: FutureWarning: The frame.append method is deprecated and will be removed from pandas in a future version. Use pandas.concat instead.\n",
      "  new_df= new_df.append(data, ignore_index=True)\n",
      "/tmp/ipykernel_24298/253161635.py:30: FutureWarning: The frame.append method is deprecated and will be removed from pandas in a future version. Use pandas.concat instead.\n",
      "  new_df= new_df.append(data, ignore_index=True)\n",
      "/tmp/ipykernel_24298/253161635.py:30: FutureWarning: The frame.append method is deprecated and will be removed from pandas in a future version. Use pandas.concat instead.\n",
      "  new_df= new_df.append(data, ignore_index=True)\n",
      "/tmp/ipykernel_24298/253161635.py:30: FutureWarning: The frame.append method is deprecated and will be removed from pandas in a future version. Use pandas.concat instead.\n",
      "  new_df= new_df.append(data, ignore_index=True)\n"
     ]
    },
    {
     "name": "stdout",
     "output_type": "stream",
     "text": [
      "save image 7\n",
      "save image 8\n",
      "save image 9\n",
      "save image 10\n",
      "save image 11\n"
     ]
    },
    {
     "name": "stderr",
     "output_type": "stream",
     "text": [
      "/tmp/ipykernel_24298/253161635.py:30: FutureWarning: The frame.append method is deprecated and will be removed from pandas in a future version. Use pandas.concat instead.\n",
      "  new_df= new_df.append(data, ignore_index=True)\n",
      "/tmp/ipykernel_24298/253161635.py:30: FutureWarning: The frame.append method is deprecated and will be removed from pandas in a future version. Use pandas.concat instead.\n",
      "  new_df= new_df.append(data, ignore_index=True)\n",
      "/tmp/ipykernel_24298/253161635.py:30: FutureWarning: The frame.append method is deprecated and will be removed from pandas in a future version. Use pandas.concat instead.\n",
      "  new_df= new_df.append(data, ignore_index=True)\n",
      "/tmp/ipykernel_24298/253161635.py:30: FutureWarning: The frame.append method is deprecated and will be removed from pandas in a future version. Use pandas.concat instead.\n",
      "  new_df= new_df.append(data, ignore_index=True)\n",
      "/tmp/ipykernel_24298/253161635.py:30: FutureWarning: The frame.append method is deprecated and will be removed from pandas in a future version. Use pandas.concat instead.\n",
      "  new_df= new_df.append(data, ignore_index=True)\n"
     ]
    },
    {
     "name": "stdout",
     "output_type": "stream",
     "text": [
      "save image 12\n",
      "save image 13\n",
      "save image 14\n",
      "save image 15\n",
      "save image 16\n"
     ]
    },
    {
     "name": "stderr",
     "output_type": "stream",
     "text": [
      "/tmp/ipykernel_24298/253161635.py:30: FutureWarning: The frame.append method is deprecated and will be removed from pandas in a future version. Use pandas.concat instead.\n",
      "  new_df= new_df.append(data, ignore_index=True)\n",
      "/tmp/ipykernel_24298/253161635.py:30: FutureWarning: The frame.append method is deprecated and will be removed from pandas in a future version. Use pandas.concat instead.\n",
      "  new_df= new_df.append(data, ignore_index=True)\n",
      "/tmp/ipykernel_24298/253161635.py:30: FutureWarning: The frame.append method is deprecated and will be removed from pandas in a future version. Use pandas.concat instead.\n",
      "  new_df= new_df.append(data, ignore_index=True)\n",
      "/tmp/ipykernel_24298/253161635.py:30: FutureWarning: The frame.append method is deprecated and will be removed from pandas in a future version. Use pandas.concat instead.\n",
      "  new_df= new_df.append(data, ignore_index=True)\n"
     ]
    },
    {
     "name": "stdout",
     "output_type": "stream",
     "text": [
      "save image 17\n",
      "save image 18\n",
      "save image 19\n",
      "save image 20\n"
     ]
    },
    {
     "name": "stderr",
     "output_type": "stream",
     "text": [
      "/tmp/ipykernel_24298/253161635.py:30: FutureWarning: The frame.append method is deprecated and will be removed from pandas in a future version. Use pandas.concat instead.\n",
      "  new_df= new_df.append(data, ignore_index=True)\n",
      "/tmp/ipykernel_24298/253161635.py:30: FutureWarning: The frame.append method is deprecated and will be removed from pandas in a future version. Use pandas.concat instead.\n",
      "  new_df= new_df.append(data, ignore_index=True)\n",
      "/tmp/ipykernel_24298/253161635.py:30: FutureWarning: The frame.append method is deprecated and will be removed from pandas in a future version. Use pandas.concat instead.\n",
      "  new_df= new_df.append(data, ignore_index=True)\n",
      "/tmp/ipykernel_24298/253161635.py:30: FutureWarning: The frame.append method is deprecated and will be removed from pandas in a future version. Use pandas.concat instead.\n",
      "  new_df= new_df.append(data, ignore_index=True)\n",
      "/tmp/ipykernel_24298/253161635.py:30: FutureWarning: The frame.append method is deprecated and will be removed from pandas in a future version. Use pandas.concat instead.\n",
      "  new_df= new_df.append(data, ignore_index=True)\n"
     ]
    },
    {
     "name": "stdout",
     "output_type": "stream",
     "text": [
      "save image 21\n",
      "save image 22\n",
      "save image 23\n",
      "save image 24\n",
      "save image 25\n"
     ]
    },
    {
     "name": "stderr",
     "output_type": "stream",
     "text": [
      "/tmp/ipykernel_24298/253161635.py:30: FutureWarning: The frame.append method is deprecated and will be removed from pandas in a future version. Use pandas.concat instead.\n",
      "  new_df= new_df.append(data, ignore_index=True)\n",
      "/tmp/ipykernel_24298/253161635.py:30: FutureWarning: The frame.append method is deprecated and will be removed from pandas in a future version. Use pandas.concat instead.\n",
      "  new_df= new_df.append(data, ignore_index=True)\n",
      "/tmp/ipykernel_24298/253161635.py:30: FutureWarning: The frame.append method is deprecated and will be removed from pandas in a future version. Use pandas.concat instead.\n",
      "  new_df= new_df.append(data, ignore_index=True)\n",
      "/tmp/ipykernel_24298/253161635.py:30: FutureWarning: The frame.append method is deprecated and will be removed from pandas in a future version. Use pandas.concat instead.\n",
      "  new_df= new_df.append(data, ignore_index=True)\n",
      "/tmp/ipykernel_24298/253161635.py:30: FutureWarning: The frame.append method is deprecated and will be removed from pandas in a future version. Use pandas.concat instead.\n",
      "  new_df= new_df.append(data, ignore_index=True)\n"
     ]
    },
    {
     "name": "stdout",
     "output_type": "stream",
     "text": [
      "save image 26\n",
      "save image 27\n",
      "save image 28\n",
      "save image 29\n",
      "save image 30\n"
     ]
    },
    {
     "name": "stderr",
     "output_type": "stream",
     "text": [
      "/tmp/ipykernel_24298/253161635.py:30: FutureWarning: The frame.append method is deprecated and will be removed from pandas in a future version. Use pandas.concat instead.\n",
      "  new_df= new_df.append(data, ignore_index=True)\n",
      "/tmp/ipykernel_24298/253161635.py:30: FutureWarning: The frame.append method is deprecated and will be removed from pandas in a future version. Use pandas.concat instead.\n",
      "  new_df= new_df.append(data, ignore_index=True)\n",
      "/tmp/ipykernel_24298/253161635.py:30: FutureWarning: The frame.append method is deprecated and will be removed from pandas in a future version. Use pandas.concat instead.\n",
      "  new_df= new_df.append(data, ignore_index=True)\n",
      "/tmp/ipykernel_24298/253161635.py:30: FutureWarning: The frame.append method is deprecated and will be removed from pandas in a future version. Use pandas.concat instead.\n",
      "  new_df= new_df.append(data, ignore_index=True)\n",
      "/tmp/ipykernel_24298/253161635.py:30: FutureWarning: The frame.append method is deprecated and will be removed from pandas in a future version. Use pandas.concat instead.\n",
      "  new_df= new_df.append(data, ignore_index=True)\n"
     ]
    },
    {
     "name": "stdout",
     "output_type": "stream",
     "text": [
      "save image 31\n",
      "save image 32\n",
      "save image 33\n",
      "save image 34\n",
      "save image 35\n"
     ]
    },
    {
     "name": "stderr",
     "output_type": "stream",
     "text": [
      "/tmp/ipykernel_24298/253161635.py:30: FutureWarning: The frame.append method is deprecated and will be removed from pandas in a future version. Use pandas.concat instead.\n",
      "  new_df= new_df.append(data, ignore_index=True)\n",
      "/tmp/ipykernel_24298/253161635.py:30: FutureWarning: The frame.append method is deprecated and will be removed from pandas in a future version. Use pandas.concat instead.\n",
      "  new_df= new_df.append(data, ignore_index=True)\n",
      "/tmp/ipykernel_24298/253161635.py:30: FutureWarning: The frame.append method is deprecated and will be removed from pandas in a future version. Use pandas.concat instead.\n",
      "  new_df= new_df.append(data, ignore_index=True)\n",
      "/tmp/ipykernel_24298/253161635.py:30: FutureWarning: The frame.append method is deprecated and will be removed from pandas in a future version. Use pandas.concat instead.\n",
      "  new_df= new_df.append(data, ignore_index=True)\n",
      "/tmp/ipykernel_24298/253161635.py:30: FutureWarning: The frame.append method is deprecated and will be removed from pandas in a future version. Use pandas.concat instead.\n",
      "  new_df= new_df.append(data, ignore_index=True)\n"
     ]
    },
    {
     "name": "stdout",
     "output_type": "stream",
     "text": [
      "save image 36\n",
      "save image 37\n",
      "save image 38\n",
      "save image 39\n",
      "save image 40\n"
     ]
    },
    {
     "name": "stderr",
     "output_type": "stream",
     "text": [
      "/tmp/ipykernel_24298/253161635.py:30: FutureWarning: The frame.append method is deprecated and will be removed from pandas in a future version. Use pandas.concat instead.\n",
      "  new_df= new_df.append(data, ignore_index=True)\n",
      "/tmp/ipykernel_24298/253161635.py:30: FutureWarning: The frame.append method is deprecated and will be removed from pandas in a future version. Use pandas.concat instead.\n",
      "  new_df= new_df.append(data, ignore_index=True)\n",
      "/tmp/ipykernel_24298/253161635.py:30: FutureWarning: The frame.append method is deprecated and will be removed from pandas in a future version. Use pandas.concat instead.\n",
      "  new_df= new_df.append(data, ignore_index=True)\n",
      "/tmp/ipykernel_24298/253161635.py:30: FutureWarning: The frame.append method is deprecated and will be removed from pandas in a future version. Use pandas.concat instead.\n",
      "  new_df= new_df.append(data, ignore_index=True)\n",
      "/tmp/ipykernel_24298/253161635.py:30: FutureWarning: The frame.append method is deprecated and will be removed from pandas in a future version. Use pandas.concat instead.\n",
      "  new_df= new_df.append(data, ignore_index=True)\n"
     ]
    },
    {
     "name": "stdout",
     "output_type": "stream",
     "text": [
      "save image 41\n",
      "save image 42\n",
      "save image 43\n",
      "save image 44\n",
      "save image 45\n"
     ]
    },
    {
     "name": "stderr",
     "output_type": "stream",
     "text": [
      "/tmp/ipykernel_24298/253161635.py:30: FutureWarning: The frame.append method is deprecated and will be removed from pandas in a future version. Use pandas.concat instead.\n",
      "  new_df= new_df.append(data, ignore_index=True)\n",
      "/tmp/ipykernel_24298/253161635.py:30: FutureWarning: The frame.append method is deprecated and will be removed from pandas in a future version. Use pandas.concat instead.\n",
      "  new_df= new_df.append(data, ignore_index=True)\n",
      "/tmp/ipykernel_24298/253161635.py:30: FutureWarning: The frame.append method is deprecated and will be removed from pandas in a future version. Use pandas.concat instead.\n",
      "  new_df= new_df.append(data, ignore_index=True)\n",
      "/tmp/ipykernel_24298/253161635.py:30: FutureWarning: The frame.append method is deprecated and will be removed from pandas in a future version. Use pandas.concat instead.\n",
      "  new_df= new_df.append(data, ignore_index=True)\n",
      "/tmp/ipykernel_24298/253161635.py:30: FutureWarning: The frame.append method is deprecated and will be removed from pandas in a future version. Use pandas.concat instead.\n",
      "  new_df= new_df.append(data, ignore_index=True)\n"
     ]
    },
    {
     "name": "stdout",
     "output_type": "stream",
     "text": [
      "save image 46\n",
      "save image 47\n",
      "save image 48\n",
      "save image 49\n",
      "save image 50\n"
     ]
    },
    {
     "name": "stderr",
     "output_type": "stream",
     "text": [
      "/tmp/ipykernel_24298/253161635.py:30: FutureWarning: The frame.append method is deprecated and will be removed from pandas in a future version. Use pandas.concat instead.\n",
      "  new_df= new_df.append(data, ignore_index=True)\n",
      "/tmp/ipykernel_24298/253161635.py:30: FutureWarning: The frame.append method is deprecated and will be removed from pandas in a future version. Use pandas.concat instead.\n",
      "  new_df= new_df.append(data, ignore_index=True)\n",
      "/tmp/ipykernel_24298/253161635.py:30: FutureWarning: The frame.append method is deprecated and will be removed from pandas in a future version. Use pandas.concat instead.\n",
      "  new_df= new_df.append(data, ignore_index=True)\n",
      "/tmp/ipykernel_24298/253161635.py:30: FutureWarning: The frame.append method is deprecated and will be removed from pandas in a future version. Use pandas.concat instead.\n",
      "  new_df= new_df.append(data, ignore_index=True)\n"
     ]
    },
    {
     "name": "stdout",
     "output_type": "stream",
     "text": [
      "save image 51\n",
      "save image 52\n",
      "save image 53\n",
      "save image 54\n"
     ]
    },
    {
     "name": "stderr",
     "output_type": "stream",
     "text": [
      "/tmp/ipykernel_24298/253161635.py:30: FutureWarning: The frame.append method is deprecated and will be removed from pandas in a future version. Use pandas.concat instead.\n",
      "  new_df= new_df.append(data, ignore_index=True)\n",
      "/tmp/ipykernel_24298/253161635.py:30: FutureWarning: The frame.append method is deprecated and will be removed from pandas in a future version. Use pandas.concat instead.\n",
      "  new_df= new_df.append(data, ignore_index=True)\n",
      "/tmp/ipykernel_24298/253161635.py:30: FutureWarning: The frame.append method is deprecated and will be removed from pandas in a future version. Use pandas.concat instead.\n",
      "  new_df= new_df.append(data, ignore_index=True)\n",
      "/tmp/ipykernel_24298/253161635.py:30: FutureWarning: The frame.append method is deprecated and will be removed from pandas in a future version. Use pandas.concat instead.\n",
      "  new_df= new_df.append(data, ignore_index=True)\n"
     ]
    },
    {
     "name": "stdout",
     "output_type": "stream",
     "text": [
      "save image 55\n",
      "save image 56\n",
      "save image 57\n",
      "save image 58\n"
     ]
    },
    {
     "name": "stderr",
     "output_type": "stream",
     "text": [
      "/tmp/ipykernel_24298/253161635.py:30: FutureWarning: The frame.append method is deprecated and will be removed from pandas in a future version. Use pandas.concat instead.\n",
      "  new_df= new_df.append(data, ignore_index=True)\n",
      "/tmp/ipykernel_24298/253161635.py:30: FutureWarning: The frame.append method is deprecated and will be removed from pandas in a future version. Use pandas.concat instead.\n",
      "  new_df= new_df.append(data, ignore_index=True)\n",
      "/tmp/ipykernel_24298/253161635.py:30: FutureWarning: The frame.append method is deprecated and will be removed from pandas in a future version. Use pandas.concat instead.\n",
      "  new_df= new_df.append(data, ignore_index=True)\n",
      "/tmp/ipykernel_24298/253161635.py:30: FutureWarning: The frame.append method is deprecated and will be removed from pandas in a future version. Use pandas.concat instead.\n",
      "  new_df= new_df.append(data, ignore_index=True)\n",
      "/tmp/ipykernel_24298/253161635.py:30: FutureWarning: The frame.append method is deprecated and will be removed from pandas in a future version. Use pandas.concat instead.\n",
      "  new_df= new_df.append(data, ignore_index=True)\n"
     ]
    },
    {
     "name": "stdout",
     "output_type": "stream",
     "text": [
      "save image 59\n",
      "save image 60\n",
      "save image 61\n",
      "save image 62\n",
      "save image 63\n"
     ]
    },
    {
     "name": "stderr",
     "output_type": "stream",
     "text": [
      "/tmp/ipykernel_24298/253161635.py:30: FutureWarning: The frame.append method is deprecated and will be removed from pandas in a future version. Use pandas.concat instead.\n",
      "  new_df= new_df.append(data, ignore_index=True)\n",
      "/tmp/ipykernel_24298/253161635.py:30: FutureWarning: The frame.append method is deprecated and will be removed from pandas in a future version. Use pandas.concat instead.\n",
      "  new_df= new_df.append(data, ignore_index=True)\n",
      "/tmp/ipykernel_24298/253161635.py:30: FutureWarning: The frame.append method is deprecated and will be removed from pandas in a future version. Use pandas.concat instead.\n",
      "  new_df= new_df.append(data, ignore_index=True)\n",
      "/tmp/ipykernel_24298/253161635.py:30: FutureWarning: The frame.append method is deprecated and will be removed from pandas in a future version. Use pandas.concat instead.\n",
      "  new_df= new_df.append(data, ignore_index=True)\n",
      "/tmp/ipykernel_24298/253161635.py:30: FutureWarning: The frame.append method is deprecated and will be removed from pandas in a future version. Use pandas.concat instead.\n",
      "  new_df= new_df.append(data, ignore_index=True)\n",
      "/tmp/ipykernel_24298/253161635.py:30: FutureWarning: The frame.append method is deprecated and will be removed from pandas in a future version. Use pandas.concat instead.\n",
      "  new_df= new_df.append(data, ignore_index=True)\n"
     ]
    },
    {
     "name": "stdout",
     "output_type": "stream",
     "text": [
      "save image 64\n",
      "save image 65\n",
      "save image 66\n",
      "save image 67\n",
      "save image 68\n",
      "save image 69\n"
     ]
    },
    {
     "name": "stderr",
     "output_type": "stream",
     "text": [
      "/tmp/ipykernel_24298/253161635.py:30: FutureWarning: The frame.append method is deprecated and will be removed from pandas in a future version. Use pandas.concat instead.\n",
      "  new_df= new_df.append(data, ignore_index=True)\n",
      "/tmp/ipykernel_24298/253161635.py:30: FutureWarning: The frame.append method is deprecated and will be removed from pandas in a future version. Use pandas.concat instead.\n",
      "  new_df= new_df.append(data, ignore_index=True)\n",
      "/tmp/ipykernel_24298/253161635.py:30: FutureWarning: The frame.append method is deprecated and will be removed from pandas in a future version. Use pandas.concat instead.\n",
      "  new_df= new_df.append(data, ignore_index=True)\n",
      "/tmp/ipykernel_24298/253161635.py:30: FutureWarning: The frame.append method is deprecated and will be removed from pandas in a future version. Use pandas.concat instead.\n",
      "  new_df= new_df.append(data, ignore_index=True)\n"
     ]
    },
    {
     "name": "stdout",
     "output_type": "stream",
     "text": [
      "save image 70\n",
      "save image 71\n",
      "save image 72\n",
      "save image 73\n"
     ]
    },
    {
     "name": "stderr",
     "output_type": "stream",
     "text": [
      "/tmp/ipykernel_24298/253161635.py:30: FutureWarning: The frame.append method is deprecated and will be removed from pandas in a future version. Use pandas.concat instead.\n",
      "  new_df= new_df.append(data, ignore_index=True)\n",
      "/tmp/ipykernel_24298/253161635.py:30: FutureWarning: The frame.append method is deprecated and will be removed from pandas in a future version. Use pandas.concat instead.\n",
      "  new_df= new_df.append(data, ignore_index=True)\n",
      "/tmp/ipykernel_24298/253161635.py:30: FutureWarning: The frame.append method is deprecated and will be removed from pandas in a future version. Use pandas.concat instead.\n",
      "  new_df= new_df.append(data, ignore_index=True)\n",
      "/tmp/ipykernel_24298/253161635.py:30: FutureWarning: The frame.append method is deprecated and will be removed from pandas in a future version. Use pandas.concat instead.\n",
      "  new_df= new_df.append(data, ignore_index=True)\n",
      "/tmp/ipykernel_24298/253161635.py:30: FutureWarning: The frame.append method is deprecated and will be removed from pandas in a future version. Use pandas.concat instead.\n",
      "  new_df= new_df.append(data, ignore_index=True)\n"
     ]
    },
    {
     "name": "stdout",
     "output_type": "stream",
     "text": [
      "save image 74\n",
      "save image 75\n",
      "save image 76\n",
      "save image 77\n",
      "save image 78\n"
     ]
    },
    {
     "name": "stderr",
     "output_type": "stream",
     "text": [
      "/tmp/ipykernel_24298/253161635.py:30: FutureWarning: The frame.append method is deprecated and will be removed from pandas in a future version. Use pandas.concat instead.\n",
      "  new_df= new_df.append(data, ignore_index=True)\n",
      "/tmp/ipykernel_24298/253161635.py:30: FutureWarning: The frame.append method is deprecated and will be removed from pandas in a future version. Use pandas.concat instead.\n",
      "  new_df= new_df.append(data, ignore_index=True)\n",
      "/tmp/ipykernel_24298/253161635.py:30: FutureWarning: The frame.append method is deprecated and will be removed from pandas in a future version. Use pandas.concat instead.\n",
      "  new_df= new_df.append(data, ignore_index=True)\n",
      "/tmp/ipykernel_24298/253161635.py:30: FutureWarning: The frame.append method is deprecated and will be removed from pandas in a future version. Use pandas.concat instead.\n",
      "  new_df= new_df.append(data, ignore_index=True)\n",
      "/tmp/ipykernel_24298/253161635.py:30: FutureWarning: The frame.append method is deprecated and will be removed from pandas in a future version. Use pandas.concat instead.\n",
      "  new_df= new_df.append(data, ignore_index=True)\n",
      "/tmp/ipykernel_24298/253161635.py:30: FutureWarning: The frame.append method is deprecated and will be removed from pandas in a future version. Use pandas.concat instead.\n",
      "  new_df= new_df.append(data, ignore_index=True)\n",
      "/tmp/ipykernel_24298/253161635.py:30: FutureWarning: The frame.append method is deprecated and will be removed from pandas in a future version. Use pandas.concat instead.\n",
      "  new_df= new_df.append(data, ignore_index=True)\n"
     ]
    },
    {
     "name": "stdout",
     "output_type": "stream",
     "text": [
      "save image 79\n",
      "save image 80\n",
      "save image 81\n",
      "save image 82\n",
      "save image 83\n",
      "save image 84\n",
      "save image 85\n"
     ]
    },
    {
     "name": "stderr",
     "output_type": "stream",
     "text": [
      "/tmp/ipykernel_24298/253161635.py:30: FutureWarning: The frame.append method is deprecated and will be removed from pandas in a future version. Use pandas.concat instead.\n",
      "  new_df= new_df.append(data, ignore_index=True)\n",
      "/tmp/ipykernel_24298/253161635.py:30: FutureWarning: The frame.append method is deprecated and will be removed from pandas in a future version. Use pandas.concat instead.\n",
      "  new_df= new_df.append(data, ignore_index=True)\n",
      "/tmp/ipykernel_24298/253161635.py:30: FutureWarning: The frame.append method is deprecated and will be removed from pandas in a future version. Use pandas.concat instead.\n",
      "  new_df= new_df.append(data, ignore_index=True)\n",
      "/tmp/ipykernel_24298/253161635.py:30: FutureWarning: The frame.append method is deprecated and will be removed from pandas in a future version. Use pandas.concat instead.\n",
      "  new_df= new_df.append(data, ignore_index=True)\n",
      "/tmp/ipykernel_24298/253161635.py:30: FutureWarning: The frame.append method is deprecated and will be removed from pandas in a future version. Use pandas.concat instead.\n",
      "  new_df= new_df.append(data, ignore_index=True)\n"
     ]
    },
    {
     "name": "stdout",
     "output_type": "stream",
     "text": [
      "save image 86\n",
      "save image 87\n",
      "save image 88\n",
      "save image 89\n",
      "save image 90\n"
     ]
    },
    {
     "name": "stderr",
     "output_type": "stream",
     "text": [
      "/tmp/ipykernel_24298/253161635.py:30: FutureWarning: The frame.append method is deprecated and will be removed from pandas in a future version. Use pandas.concat instead.\n",
      "  new_df= new_df.append(data, ignore_index=True)\n",
      "/tmp/ipykernel_24298/253161635.py:30: FutureWarning: The frame.append method is deprecated and will be removed from pandas in a future version. Use pandas.concat instead.\n",
      "  new_df= new_df.append(data, ignore_index=True)\n",
      "/tmp/ipykernel_24298/253161635.py:30: FutureWarning: The frame.append method is deprecated and will be removed from pandas in a future version. Use pandas.concat instead.\n",
      "  new_df= new_df.append(data, ignore_index=True)\n",
      "/tmp/ipykernel_24298/253161635.py:30: FutureWarning: The frame.append method is deprecated and will be removed from pandas in a future version. Use pandas.concat instead.\n",
      "  new_df= new_df.append(data, ignore_index=True)\n"
     ]
    },
    {
     "name": "stdout",
     "output_type": "stream",
     "text": [
      "save image 91\n",
      "save image 92\n",
      "save image 93\n",
      "save image 94\n"
     ]
    },
    {
     "name": "stderr",
     "output_type": "stream",
     "text": [
      "/tmp/ipykernel_24298/253161635.py:30: FutureWarning: The frame.append method is deprecated and will be removed from pandas in a future version. Use pandas.concat instead.\n",
      "  new_df= new_df.append(data, ignore_index=True)\n",
      "/tmp/ipykernel_24298/253161635.py:30: FutureWarning: The frame.append method is deprecated and will be removed from pandas in a future version. Use pandas.concat instead.\n",
      "  new_df= new_df.append(data, ignore_index=True)\n",
      "/tmp/ipykernel_24298/253161635.py:30: FutureWarning: The frame.append method is deprecated and will be removed from pandas in a future version. Use pandas.concat instead.\n",
      "  new_df= new_df.append(data, ignore_index=True)\n",
      "/tmp/ipykernel_24298/253161635.py:30: FutureWarning: The frame.append method is deprecated and will be removed from pandas in a future version. Use pandas.concat instead.\n",
      "  new_df= new_df.append(data, ignore_index=True)\n",
      "/tmp/ipykernel_24298/253161635.py:30: FutureWarning: The frame.append method is deprecated and will be removed from pandas in a future version. Use pandas.concat instead.\n",
      "  new_df= new_df.append(data, ignore_index=True)\n"
     ]
    },
    {
     "name": "stdout",
     "output_type": "stream",
     "text": [
      "save image 95\n",
      "save image 96\n",
      "save image 97\n",
      "save image 98\n",
      "save image 99\n"
     ]
    },
    {
     "name": "stderr",
     "output_type": "stream",
     "text": [
      "/tmp/ipykernel_24298/253161635.py:30: FutureWarning: The frame.append method is deprecated and will be removed from pandas in a future version. Use pandas.concat instead.\n",
      "  new_df= new_df.append(data, ignore_index=True)\n",
      "/tmp/ipykernel_24298/253161635.py:30: FutureWarning: The frame.append method is deprecated and will be removed from pandas in a future version. Use pandas.concat instead.\n",
      "  new_df= new_df.append(data, ignore_index=True)\n",
      "/tmp/ipykernel_24298/253161635.py:30: FutureWarning: The frame.append method is deprecated and will be removed from pandas in a future version. Use pandas.concat instead.\n",
      "  new_df= new_df.append(data, ignore_index=True)\n",
      "/tmp/ipykernel_24298/253161635.py:30: FutureWarning: The frame.append method is deprecated and will be removed from pandas in a future version. Use pandas.concat instead.\n",
      "  new_df= new_df.append(data, ignore_index=True)\n"
     ]
    },
    {
     "name": "stdout",
     "output_type": "stream",
     "text": [
      "save image 100\n",
      "save image 101\n",
      "save image 102\n",
      "save image 103\n"
     ]
    },
    {
     "name": "stderr",
     "output_type": "stream",
     "text": [
      "/tmp/ipykernel_24298/253161635.py:30: FutureWarning: The frame.append method is deprecated and will be removed from pandas in a future version. Use pandas.concat instead.\n",
      "  new_df= new_df.append(data, ignore_index=True)\n",
      "/tmp/ipykernel_24298/253161635.py:30: FutureWarning: The frame.append method is deprecated and will be removed from pandas in a future version. Use pandas.concat instead.\n",
      "  new_df= new_df.append(data, ignore_index=True)\n",
      "/tmp/ipykernel_24298/253161635.py:30: FutureWarning: The frame.append method is deprecated and will be removed from pandas in a future version. Use pandas.concat instead.\n",
      "  new_df= new_df.append(data, ignore_index=True)\n",
      "/tmp/ipykernel_24298/253161635.py:30: FutureWarning: The frame.append method is deprecated and will be removed from pandas in a future version. Use pandas.concat instead.\n",
      "  new_df= new_df.append(data, ignore_index=True)\n"
     ]
    },
    {
     "name": "stdout",
     "output_type": "stream",
     "text": [
      "save image 104\n",
      "save image 105\n",
      "save image 106\n",
      "save image 107\n"
     ]
    },
    {
     "name": "stderr",
     "output_type": "stream",
     "text": [
      "/tmp/ipykernel_24298/253161635.py:30: FutureWarning: The frame.append method is deprecated and will be removed from pandas in a future version. Use pandas.concat instead.\n",
      "  new_df= new_df.append(data, ignore_index=True)\n",
      "/tmp/ipykernel_24298/253161635.py:30: FutureWarning: The frame.append method is deprecated and will be removed from pandas in a future version. Use pandas.concat instead.\n",
      "  new_df= new_df.append(data, ignore_index=True)\n",
      "/tmp/ipykernel_24298/253161635.py:30: FutureWarning: The frame.append method is deprecated and will be removed from pandas in a future version. Use pandas.concat instead.\n",
      "  new_df= new_df.append(data, ignore_index=True)\n",
      "/tmp/ipykernel_24298/253161635.py:30: FutureWarning: The frame.append method is deprecated and will be removed from pandas in a future version. Use pandas.concat instead.\n",
      "  new_df= new_df.append(data, ignore_index=True)\n",
      "/tmp/ipykernel_24298/253161635.py:30: FutureWarning: The frame.append method is deprecated and will be removed from pandas in a future version. Use pandas.concat instead.\n",
      "  new_df= new_df.append(data, ignore_index=True)\n"
     ]
    },
    {
     "name": "stdout",
     "output_type": "stream",
     "text": [
      "save image 108\n",
      "save image 109\n",
      "save image 110\n",
      "save image 111\n",
      "save image 112\n"
     ]
    },
    {
     "name": "stderr",
     "output_type": "stream",
     "text": [
      "/tmp/ipykernel_24298/253161635.py:30: FutureWarning: The frame.append method is deprecated and will be removed from pandas in a future version. Use pandas.concat instead.\n",
      "  new_df= new_df.append(data, ignore_index=True)\n",
      "/tmp/ipykernel_24298/253161635.py:30: FutureWarning: The frame.append method is deprecated and will be removed from pandas in a future version. Use pandas.concat instead.\n",
      "  new_df= new_df.append(data, ignore_index=True)\n",
      "/tmp/ipykernel_24298/253161635.py:30: FutureWarning: The frame.append method is deprecated and will be removed from pandas in a future version. Use pandas.concat instead.\n",
      "  new_df= new_df.append(data, ignore_index=True)\n",
      "/tmp/ipykernel_24298/253161635.py:30: FutureWarning: The frame.append method is deprecated and will be removed from pandas in a future version. Use pandas.concat instead.\n",
      "  new_df= new_df.append(data, ignore_index=True)\n",
      "/tmp/ipykernel_24298/253161635.py:30: FutureWarning: The frame.append method is deprecated and will be removed from pandas in a future version. Use pandas.concat instead.\n",
      "  new_df= new_df.append(data, ignore_index=True)\n"
     ]
    },
    {
     "name": "stdout",
     "output_type": "stream",
     "text": [
      "save image 113\n",
      "save image 114\n",
      "save image 115\n",
      "save image 116\n",
      "save image 117\n"
     ]
    },
    {
     "name": "stderr",
     "output_type": "stream",
     "text": [
      "/tmp/ipykernel_24298/253161635.py:30: FutureWarning: The frame.append method is deprecated and will be removed from pandas in a future version. Use pandas.concat instead.\n",
      "  new_df= new_df.append(data, ignore_index=True)\n",
      "/tmp/ipykernel_24298/253161635.py:30: FutureWarning: The frame.append method is deprecated and will be removed from pandas in a future version. Use pandas.concat instead.\n",
      "  new_df= new_df.append(data, ignore_index=True)\n",
      "/tmp/ipykernel_24298/253161635.py:30: FutureWarning: The frame.append method is deprecated and will be removed from pandas in a future version. Use pandas.concat instead.\n",
      "  new_df= new_df.append(data, ignore_index=True)\n",
      "/tmp/ipykernel_24298/253161635.py:30: FutureWarning: The frame.append method is deprecated and will be removed from pandas in a future version. Use pandas.concat instead.\n",
      "  new_df= new_df.append(data, ignore_index=True)\n",
      "/tmp/ipykernel_24298/253161635.py:30: FutureWarning: The frame.append method is deprecated and will be removed from pandas in a future version. Use pandas.concat instead.\n",
      "  new_df= new_df.append(data, ignore_index=True)\n"
     ]
    },
    {
     "name": "stdout",
     "output_type": "stream",
     "text": [
      "save image 118\n",
      "save image 119\n",
      "save image 120\n",
      "save image 121\n",
      "save image 122\n"
     ]
    },
    {
     "name": "stderr",
     "output_type": "stream",
     "text": [
      "/tmp/ipykernel_24298/253161635.py:30: FutureWarning: The frame.append method is deprecated and will be removed from pandas in a future version. Use pandas.concat instead.\n",
      "  new_df= new_df.append(data, ignore_index=True)\n",
      "/tmp/ipykernel_24298/253161635.py:30: FutureWarning: The frame.append method is deprecated and will be removed from pandas in a future version. Use pandas.concat instead.\n",
      "  new_df= new_df.append(data, ignore_index=True)\n",
      "/tmp/ipykernel_24298/253161635.py:30: FutureWarning: The frame.append method is deprecated and will be removed from pandas in a future version. Use pandas.concat instead.\n",
      "  new_df= new_df.append(data, ignore_index=True)\n",
      "/tmp/ipykernel_24298/253161635.py:30: FutureWarning: The frame.append method is deprecated and will be removed from pandas in a future version. Use pandas.concat instead.\n",
      "  new_df= new_df.append(data, ignore_index=True)\n",
      "/tmp/ipykernel_24298/253161635.py:30: FutureWarning: The frame.append method is deprecated and will be removed from pandas in a future version. Use pandas.concat instead.\n",
      "  new_df= new_df.append(data, ignore_index=True)\n"
     ]
    },
    {
     "name": "stdout",
     "output_type": "stream",
     "text": [
      "save image 123\n",
      "save image 124\n",
      "save image 125\n",
      "save image 126\n",
      "save image 127\n"
     ]
    },
    {
     "name": "stderr",
     "output_type": "stream",
     "text": [
      "/tmp/ipykernel_24298/253161635.py:30: FutureWarning: The frame.append method is deprecated and will be removed from pandas in a future version. Use pandas.concat instead.\n",
      "  new_df= new_df.append(data, ignore_index=True)\n",
      "/tmp/ipykernel_24298/253161635.py:30: FutureWarning: The frame.append method is deprecated and will be removed from pandas in a future version. Use pandas.concat instead.\n",
      "  new_df= new_df.append(data, ignore_index=True)\n",
      "/tmp/ipykernel_24298/253161635.py:30: FutureWarning: The frame.append method is deprecated and will be removed from pandas in a future version. Use pandas.concat instead.\n",
      "  new_df= new_df.append(data, ignore_index=True)\n",
      "/tmp/ipykernel_24298/253161635.py:30: FutureWarning: The frame.append method is deprecated and will be removed from pandas in a future version. Use pandas.concat instead.\n",
      "  new_df= new_df.append(data, ignore_index=True)\n",
      "/tmp/ipykernel_24298/253161635.py:30: FutureWarning: The frame.append method is deprecated and will be removed from pandas in a future version. Use pandas.concat instead.\n",
      "  new_df= new_df.append(data, ignore_index=True)\n",
      "/tmp/ipykernel_24298/253161635.py:30: FutureWarning: The frame.append method is deprecated and will be removed from pandas in a future version. Use pandas.concat instead.\n",
      "  new_df= new_df.append(data, ignore_index=True)\n",
      "/tmp/ipykernel_24298/253161635.py:30: FutureWarning: The frame.append method is deprecated and will be removed from pandas in a future version. Use pandas.concat instead.\n",
      "  new_df= new_df.append(data, ignore_index=True)\n"
     ]
    },
    {
     "name": "stdout",
     "output_type": "stream",
     "text": [
      "save image 128\n",
      "save image 129\n",
      "save image 130\n",
      "save image 131\n",
      "save image 132\n",
      "save image 133\n",
      "save image 134\n"
     ]
    },
    {
     "name": "stderr",
     "output_type": "stream",
     "text": [
      "/tmp/ipykernel_24298/253161635.py:30: FutureWarning: The frame.append method is deprecated and will be removed from pandas in a future version. Use pandas.concat instead.\n",
      "  new_df= new_df.append(data, ignore_index=True)\n",
      "/tmp/ipykernel_24298/253161635.py:30: FutureWarning: The frame.append method is deprecated and will be removed from pandas in a future version. Use pandas.concat instead.\n",
      "  new_df= new_df.append(data, ignore_index=True)\n",
      "/tmp/ipykernel_24298/253161635.py:30: FutureWarning: The frame.append method is deprecated and will be removed from pandas in a future version. Use pandas.concat instead.\n",
      "  new_df= new_df.append(data, ignore_index=True)\n",
      "/tmp/ipykernel_24298/253161635.py:30: FutureWarning: The frame.append method is deprecated and will be removed from pandas in a future version. Use pandas.concat instead.\n",
      "  new_df= new_df.append(data, ignore_index=True)\n"
     ]
    },
    {
     "name": "stdout",
     "output_type": "stream",
     "text": [
      "save image 135\n",
      "save image 136\n",
      "save image 137\n",
      "save image 138\n"
     ]
    },
    {
     "name": "stderr",
     "output_type": "stream",
     "text": [
      "/tmp/ipykernel_24298/253161635.py:30: FutureWarning: The frame.append method is deprecated and will be removed from pandas in a future version. Use pandas.concat instead.\n",
      "  new_df= new_df.append(data, ignore_index=True)\n",
      "/tmp/ipykernel_24298/253161635.py:30: FutureWarning: The frame.append method is deprecated and will be removed from pandas in a future version. Use pandas.concat instead.\n",
      "  new_df= new_df.append(data, ignore_index=True)\n",
      "/tmp/ipykernel_24298/253161635.py:30: FutureWarning: The frame.append method is deprecated and will be removed from pandas in a future version. Use pandas.concat instead.\n",
      "  new_df= new_df.append(data, ignore_index=True)\n",
      "/tmp/ipykernel_24298/253161635.py:30: FutureWarning: The frame.append method is deprecated and will be removed from pandas in a future version. Use pandas.concat instead.\n",
      "  new_df= new_df.append(data, ignore_index=True)\n"
     ]
    },
    {
     "name": "stdout",
     "output_type": "stream",
     "text": [
      "save image 139\n",
      "save image 140\n",
      "save image 141\n",
      "save image 142\n"
     ]
    },
    {
     "name": "stderr",
     "output_type": "stream",
     "text": [
      "/tmp/ipykernel_24298/253161635.py:30: FutureWarning: The frame.append method is deprecated and will be removed from pandas in a future version. Use pandas.concat instead.\n",
      "  new_df= new_df.append(data, ignore_index=True)\n",
      "/tmp/ipykernel_24298/253161635.py:30: FutureWarning: The frame.append method is deprecated and will be removed from pandas in a future version. Use pandas.concat instead.\n",
      "  new_df= new_df.append(data, ignore_index=True)\n",
      "/tmp/ipykernel_24298/253161635.py:30: FutureWarning: The frame.append method is deprecated and will be removed from pandas in a future version. Use pandas.concat instead.\n",
      "  new_df= new_df.append(data, ignore_index=True)\n",
      "/tmp/ipykernel_24298/253161635.py:30: FutureWarning: The frame.append method is deprecated and will be removed from pandas in a future version. Use pandas.concat instead.\n",
      "  new_df= new_df.append(data, ignore_index=True)\n",
      "/tmp/ipykernel_24298/253161635.py:30: FutureWarning: The frame.append method is deprecated and will be removed from pandas in a future version. Use pandas.concat instead.\n",
      "  new_df= new_df.append(data, ignore_index=True)\n"
     ]
    },
    {
     "name": "stdout",
     "output_type": "stream",
     "text": [
      "save image 143\n",
      "save image 144\n",
      "save image 145\n",
      "save image 146\n",
      "save image 147\n"
     ]
    },
    {
     "name": "stderr",
     "output_type": "stream",
     "text": [
      "/tmp/ipykernel_24298/253161635.py:30: FutureWarning: The frame.append method is deprecated and will be removed from pandas in a future version. Use pandas.concat instead.\n",
      "  new_df= new_df.append(data, ignore_index=True)\n",
      "/tmp/ipykernel_24298/253161635.py:30: FutureWarning: The frame.append method is deprecated and will be removed from pandas in a future version. Use pandas.concat instead.\n",
      "  new_df= new_df.append(data, ignore_index=True)\n",
      "/tmp/ipykernel_24298/253161635.py:30: FutureWarning: The frame.append method is deprecated and will be removed from pandas in a future version. Use pandas.concat instead.\n",
      "  new_df= new_df.append(data, ignore_index=True)\n",
      "/tmp/ipykernel_24298/253161635.py:30: FutureWarning: The frame.append method is deprecated and will be removed from pandas in a future version. Use pandas.concat instead.\n",
      "  new_df= new_df.append(data, ignore_index=True)\n",
      "/tmp/ipykernel_24298/253161635.py:30: FutureWarning: The frame.append method is deprecated and will be removed from pandas in a future version. Use pandas.concat instead.\n",
      "  new_df= new_df.append(data, ignore_index=True)\n",
      "/tmp/ipykernel_24298/253161635.py:30: FutureWarning: The frame.append method is deprecated and will be removed from pandas in a future version. Use pandas.concat instead.\n",
      "  new_df= new_df.append(data, ignore_index=True)\n"
     ]
    },
    {
     "name": "stdout",
     "output_type": "stream",
     "text": [
      "save image 148\n",
      "save image 149\n",
      "save image 150\n",
      "save image 151\n",
      "save image 152\n",
      "save image 153\n"
     ]
    },
    {
     "name": "stderr",
     "output_type": "stream",
     "text": [
      "/tmp/ipykernel_24298/253161635.py:30: FutureWarning: The frame.append method is deprecated and will be removed from pandas in a future version. Use pandas.concat instead.\n",
      "  new_df= new_df.append(data, ignore_index=True)\n",
      "/tmp/ipykernel_24298/253161635.py:30: FutureWarning: The frame.append method is deprecated and will be removed from pandas in a future version. Use pandas.concat instead.\n",
      "  new_df= new_df.append(data, ignore_index=True)\n",
      "/tmp/ipykernel_24298/253161635.py:30: FutureWarning: The frame.append method is deprecated and will be removed from pandas in a future version. Use pandas.concat instead.\n",
      "  new_df= new_df.append(data, ignore_index=True)\n",
      "/tmp/ipykernel_24298/253161635.py:30: FutureWarning: The frame.append method is deprecated and will be removed from pandas in a future version. Use pandas.concat instead.\n",
      "  new_df= new_df.append(data, ignore_index=True)\n",
      "/tmp/ipykernel_24298/253161635.py:30: FutureWarning: The frame.append method is deprecated and will be removed from pandas in a future version. Use pandas.concat instead.\n",
      "  new_df= new_df.append(data, ignore_index=True)\n",
      "/tmp/ipykernel_24298/253161635.py:30: FutureWarning: The frame.append method is deprecated and will be removed from pandas in a future version. Use pandas.concat instead.\n",
      "  new_df= new_df.append(data, ignore_index=True)\n"
     ]
    },
    {
     "name": "stdout",
     "output_type": "stream",
     "text": [
      "save image 154\n",
      "save image 155\n",
      "save image 156\n",
      "save image 157\n",
      "save image 158\n",
      "save image 159\n"
     ]
    },
    {
     "name": "stderr",
     "output_type": "stream",
     "text": [
      "/tmp/ipykernel_24298/253161635.py:30: FutureWarning: The frame.append method is deprecated and will be removed from pandas in a future version. Use pandas.concat instead.\n",
      "  new_df= new_df.append(data, ignore_index=True)\n",
      "/tmp/ipykernel_24298/253161635.py:30: FutureWarning: The frame.append method is deprecated and will be removed from pandas in a future version. Use pandas.concat instead.\n",
      "  new_df= new_df.append(data, ignore_index=True)\n",
      "/tmp/ipykernel_24298/253161635.py:30: FutureWarning: The frame.append method is deprecated and will be removed from pandas in a future version. Use pandas.concat instead.\n",
      "  new_df= new_df.append(data, ignore_index=True)\n",
      "/tmp/ipykernel_24298/253161635.py:30: FutureWarning: The frame.append method is deprecated and will be removed from pandas in a future version. Use pandas.concat instead.\n",
      "  new_df= new_df.append(data, ignore_index=True)\n",
      "/tmp/ipykernel_24298/253161635.py:30: FutureWarning: The frame.append method is deprecated and will be removed from pandas in a future version. Use pandas.concat instead.\n",
      "  new_df= new_df.append(data, ignore_index=True)\n",
      "/tmp/ipykernel_24298/253161635.py:30: FutureWarning: The frame.append method is deprecated and will be removed from pandas in a future version. Use pandas.concat instead.\n",
      "  new_df= new_df.append(data, ignore_index=True)\n"
     ]
    },
    {
     "name": "stdout",
     "output_type": "stream",
     "text": [
      "save image 160\n",
      "save image 161\n",
      "save image 162\n",
      "save image 163\n",
      "save image 164\n",
      "save image 165\n"
     ]
    },
    {
     "name": "stderr",
     "output_type": "stream",
     "text": [
      "/tmp/ipykernel_24298/253161635.py:30: FutureWarning: The frame.append method is deprecated and will be removed from pandas in a future version. Use pandas.concat instead.\n",
      "  new_df= new_df.append(data, ignore_index=True)\n",
      "/tmp/ipykernel_24298/253161635.py:30: FutureWarning: The frame.append method is deprecated and will be removed from pandas in a future version. Use pandas.concat instead.\n",
      "  new_df= new_df.append(data, ignore_index=True)\n",
      "/tmp/ipykernel_24298/253161635.py:30: FutureWarning: The frame.append method is deprecated and will be removed from pandas in a future version. Use pandas.concat instead.\n",
      "  new_df= new_df.append(data, ignore_index=True)\n",
      "/tmp/ipykernel_24298/253161635.py:30: FutureWarning: The frame.append method is deprecated and will be removed from pandas in a future version. Use pandas.concat instead.\n",
      "  new_df= new_df.append(data, ignore_index=True)\n",
      "/tmp/ipykernel_24298/253161635.py:30: FutureWarning: The frame.append method is deprecated and will be removed from pandas in a future version. Use pandas.concat instead.\n",
      "  new_df= new_df.append(data, ignore_index=True)\n"
     ]
    },
    {
     "name": "stdout",
     "output_type": "stream",
     "text": [
      "save image 166\n",
      "save image 167\n",
      "save image 168\n",
      "save image 169\n",
      "save image 170\n"
     ]
    },
    {
     "name": "stderr",
     "output_type": "stream",
     "text": [
      "/tmp/ipykernel_24298/253161635.py:30: FutureWarning: The frame.append method is deprecated and will be removed from pandas in a future version. Use pandas.concat instead.\n",
      "  new_df= new_df.append(data, ignore_index=True)\n",
      "/tmp/ipykernel_24298/253161635.py:30: FutureWarning: The frame.append method is deprecated and will be removed from pandas in a future version. Use pandas.concat instead.\n",
      "  new_df= new_df.append(data, ignore_index=True)\n",
      "/tmp/ipykernel_24298/253161635.py:30: FutureWarning: The frame.append method is deprecated and will be removed from pandas in a future version. Use pandas.concat instead.\n",
      "  new_df= new_df.append(data, ignore_index=True)\n",
      "/tmp/ipykernel_24298/253161635.py:30: FutureWarning: The frame.append method is deprecated and will be removed from pandas in a future version. Use pandas.concat instead.\n",
      "  new_df= new_df.append(data, ignore_index=True)\n",
      "/tmp/ipykernel_24298/253161635.py:30: FutureWarning: The frame.append method is deprecated and will be removed from pandas in a future version. Use pandas.concat instead.\n",
      "  new_df= new_df.append(data, ignore_index=True)\n"
     ]
    },
    {
     "name": "stdout",
     "output_type": "stream",
     "text": [
      "save image 171\n",
      "save image 172\n",
      "save image 173\n",
      "save image 174\n",
      "save image 175\n"
     ]
    },
    {
     "name": "stderr",
     "output_type": "stream",
     "text": [
      "/tmp/ipykernel_24298/253161635.py:30: FutureWarning: The frame.append method is deprecated and will be removed from pandas in a future version. Use pandas.concat instead.\n",
      "  new_df= new_df.append(data, ignore_index=True)\n",
      "/tmp/ipykernel_24298/253161635.py:30: FutureWarning: The frame.append method is deprecated and will be removed from pandas in a future version. Use pandas.concat instead.\n",
      "  new_df= new_df.append(data, ignore_index=True)\n",
      "/tmp/ipykernel_24298/253161635.py:30: FutureWarning: The frame.append method is deprecated and will be removed from pandas in a future version. Use pandas.concat instead.\n",
      "  new_df= new_df.append(data, ignore_index=True)\n",
      "/tmp/ipykernel_24298/253161635.py:30: FutureWarning: The frame.append method is deprecated and will be removed from pandas in a future version. Use pandas.concat instead.\n",
      "  new_df= new_df.append(data, ignore_index=True)\n",
      "/tmp/ipykernel_24298/253161635.py:30: FutureWarning: The frame.append method is deprecated and will be removed from pandas in a future version. Use pandas.concat instead.\n",
      "  new_df= new_df.append(data, ignore_index=True)\n",
      "/tmp/ipykernel_24298/253161635.py:30: FutureWarning: The frame.append method is deprecated and will be removed from pandas in a future version. Use pandas.concat instead.\n",
      "  new_df= new_df.append(data, ignore_index=True)\n"
     ]
    },
    {
     "name": "stdout",
     "output_type": "stream",
     "text": [
      "save image 176\n",
      "save image 177\n",
      "save image 178\n",
      "save image 179\n",
      "save image 180\n",
      "save image 181\n"
     ]
    },
    {
     "name": "stderr",
     "output_type": "stream",
     "text": [
      "/tmp/ipykernel_24298/253161635.py:30: FutureWarning: The frame.append method is deprecated and will be removed from pandas in a future version. Use pandas.concat instead.\n",
      "  new_df= new_df.append(data, ignore_index=True)\n",
      "/tmp/ipykernel_24298/253161635.py:30: FutureWarning: The frame.append method is deprecated and will be removed from pandas in a future version. Use pandas.concat instead.\n",
      "  new_df= new_df.append(data, ignore_index=True)\n",
      "/tmp/ipykernel_24298/253161635.py:30: FutureWarning: The frame.append method is deprecated and will be removed from pandas in a future version. Use pandas.concat instead.\n",
      "  new_df= new_df.append(data, ignore_index=True)\n",
      "/tmp/ipykernel_24298/253161635.py:30: FutureWarning: The frame.append method is deprecated and will be removed from pandas in a future version. Use pandas.concat instead.\n",
      "  new_df= new_df.append(data, ignore_index=True)\n"
     ]
    },
    {
     "name": "stdout",
     "output_type": "stream",
     "text": [
      "save image 182\n",
      "save image 183\n",
      "save image 184\n",
      "save image 185\n"
     ]
    },
    {
     "name": "stderr",
     "output_type": "stream",
     "text": [
      "/tmp/ipykernel_24298/253161635.py:30: FutureWarning: The frame.append method is deprecated and will be removed from pandas in a future version. Use pandas.concat instead.\n",
      "  new_df= new_df.append(data, ignore_index=True)\n",
      "/tmp/ipykernel_24298/253161635.py:30: FutureWarning: The frame.append method is deprecated and will be removed from pandas in a future version. Use pandas.concat instead.\n",
      "  new_df= new_df.append(data, ignore_index=True)\n",
      "/tmp/ipykernel_24298/253161635.py:30: FutureWarning: The frame.append method is deprecated and will be removed from pandas in a future version. Use pandas.concat instead.\n",
      "  new_df= new_df.append(data, ignore_index=True)\n",
      "/tmp/ipykernel_24298/253161635.py:30: FutureWarning: The frame.append method is deprecated and will be removed from pandas in a future version. Use pandas.concat instead.\n",
      "  new_df= new_df.append(data, ignore_index=True)\n",
      "/tmp/ipykernel_24298/253161635.py:30: FutureWarning: The frame.append method is deprecated and will be removed from pandas in a future version. Use pandas.concat instead.\n",
      "  new_df= new_df.append(data, ignore_index=True)\n"
     ]
    },
    {
     "name": "stdout",
     "output_type": "stream",
     "text": [
      "save image 186\n",
      "save image 187\n",
      "save image 188\n",
      "save image 189\n",
      "save image 190\n"
     ]
    },
    {
     "name": "stderr",
     "output_type": "stream",
     "text": [
      "/tmp/ipykernel_24298/253161635.py:30: FutureWarning: The frame.append method is deprecated and will be removed from pandas in a future version. Use pandas.concat instead.\n",
      "  new_df= new_df.append(data, ignore_index=True)\n",
      "/tmp/ipykernel_24298/253161635.py:30: FutureWarning: The frame.append method is deprecated and will be removed from pandas in a future version. Use pandas.concat instead.\n",
      "  new_df= new_df.append(data, ignore_index=True)\n",
      "/tmp/ipykernel_24298/253161635.py:30: FutureWarning: The frame.append method is deprecated and will be removed from pandas in a future version. Use pandas.concat instead.\n",
      "  new_df= new_df.append(data, ignore_index=True)\n",
      "/tmp/ipykernel_24298/253161635.py:30: FutureWarning: The frame.append method is deprecated and will be removed from pandas in a future version. Use pandas.concat instead.\n",
      "  new_df= new_df.append(data, ignore_index=True)\n",
      "/tmp/ipykernel_24298/253161635.py:30: FutureWarning: The frame.append method is deprecated and will be removed from pandas in a future version. Use pandas.concat instead.\n",
      "  new_df= new_df.append(data, ignore_index=True)\n",
      "/tmp/ipykernel_24298/253161635.py:30: FutureWarning: The frame.append method is deprecated and will be removed from pandas in a future version. Use pandas.concat instead.\n",
      "  new_df= new_df.append(data, ignore_index=True)\n"
     ]
    },
    {
     "name": "stdout",
     "output_type": "stream",
     "text": [
      "save image 191\n",
      "save image 192\n",
      "save image 193\n",
      "save image 194\n",
      "save image 195\n",
      "save image 196\n"
     ]
    },
    {
     "name": "stderr",
     "output_type": "stream",
     "text": [
      "/tmp/ipykernel_24298/253161635.py:30: FutureWarning: The frame.append method is deprecated and will be removed from pandas in a future version. Use pandas.concat instead.\n",
      "  new_df= new_df.append(data, ignore_index=True)\n",
      "/tmp/ipykernel_24298/253161635.py:30: FutureWarning: The frame.append method is deprecated and will be removed from pandas in a future version. Use pandas.concat instead.\n",
      "  new_df= new_df.append(data, ignore_index=True)\n",
      "/tmp/ipykernel_24298/253161635.py:30: FutureWarning: The frame.append method is deprecated and will be removed from pandas in a future version. Use pandas.concat instead.\n",
      "  new_df= new_df.append(data, ignore_index=True)\n",
      "/tmp/ipykernel_24298/253161635.py:30: FutureWarning: The frame.append method is deprecated and will be removed from pandas in a future version. Use pandas.concat instead.\n",
      "  new_df= new_df.append(data, ignore_index=True)\n",
      "/tmp/ipykernel_24298/253161635.py:30: FutureWarning: The frame.append method is deprecated and will be removed from pandas in a future version. Use pandas.concat instead.\n",
      "  new_df= new_df.append(data, ignore_index=True)\n"
     ]
    },
    {
     "name": "stdout",
     "output_type": "stream",
     "text": [
      "save image 197\n",
      "save image 198\n",
      "save image 199\n",
      "save image 200\n",
      "save image 201\n"
     ]
    },
    {
     "name": "stderr",
     "output_type": "stream",
     "text": [
      "/tmp/ipykernel_24298/253161635.py:30: FutureWarning: The frame.append method is deprecated and will be removed from pandas in a future version. Use pandas.concat instead.\n",
      "  new_df= new_df.append(data, ignore_index=True)\n",
      "/tmp/ipykernel_24298/253161635.py:30: FutureWarning: The frame.append method is deprecated and will be removed from pandas in a future version. Use pandas.concat instead.\n",
      "  new_df= new_df.append(data, ignore_index=True)\n",
      "/tmp/ipykernel_24298/253161635.py:30: FutureWarning: The frame.append method is deprecated and will be removed from pandas in a future version. Use pandas.concat instead.\n",
      "  new_df= new_df.append(data, ignore_index=True)\n",
      "/tmp/ipykernel_24298/253161635.py:30: FutureWarning: The frame.append method is deprecated and will be removed from pandas in a future version. Use pandas.concat instead.\n",
      "  new_df= new_df.append(data, ignore_index=True)\n",
      "/tmp/ipykernel_24298/253161635.py:30: FutureWarning: The frame.append method is deprecated and will be removed from pandas in a future version. Use pandas.concat instead.\n",
      "  new_df= new_df.append(data, ignore_index=True)\n"
     ]
    },
    {
     "name": "stdout",
     "output_type": "stream",
     "text": [
      "save image 202\n",
      "save image 203\n",
      "save image 204\n",
      "save image 205\n",
      "save image 206\n"
     ]
    },
    {
     "name": "stderr",
     "output_type": "stream",
     "text": [
      "/tmp/ipykernel_24298/253161635.py:30: FutureWarning: The frame.append method is deprecated and will be removed from pandas in a future version. Use pandas.concat instead.\n",
      "  new_df= new_df.append(data, ignore_index=True)\n",
      "/tmp/ipykernel_24298/253161635.py:30: FutureWarning: The frame.append method is deprecated and will be removed from pandas in a future version. Use pandas.concat instead.\n",
      "  new_df= new_df.append(data, ignore_index=True)\n",
      "/tmp/ipykernel_24298/253161635.py:30: FutureWarning: The frame.append method is deprecated and will be removed from pandas in a future version. Use pandas.concat instead.\n",
      "  new_df= new_df.append(data, ignore_index=True)\n",
      "/tmp/ipykernel_24298/253161635.py:30: FutureWarning: The frame.append method is deprecated and will be removed from pandas in a future version. Use pandas.concat instead.\n",
      "  new_df= new_df.append(data, ignore_index=True)\n",
      "/tmp/ipykernel_24298/253161635.py:30: FutureWarning: The frame.append method is deprecated and will be removed from pandas in a future version. Use pandas.concat instead.\n",
      "  new_df= new_df.append(data, ignore_index=True)\n"
     ]
    },
    {
     "name": "stdout",
     "output_type": "stream",
     "text": [
      "save image 207\n",
      "save image 208\n",
      "save image 209\n",
      "save image 210\n",
      "save image 211\n"
     ]
    },
    {
     "name": "stderr",
     "output_type": "stream",
     "text": [
      "/tmp/ipykernel_24298/253161635.py:30: FutureWarning: The frame.append method is deprecated and will be removed from pandas in a future version. Use pandas.concat instead.\n",
      "  new_df= new_df.append(data, ignore_index=True)\n",
      "/tmp/ipykernel_24298/253161635.py:30: FutureWarning: The frame.append method is deprecated and will be removed from pandas in a future version. Use pandas.concat instead.\n",
      "  new_df= new_df.append(data, ignore_index=True)\n",
      "/tmp/ipykernel_24298/253161635.py:30: FutureWarning: The frame.append method is deprecated and will be removed from pandas in a future version. Use pandas.concat instead.\n",
      "  new_df= new_df.append(data, ignore_index=True)\n",
      "/tmp/ipykernel_24298/253161635.py:30: FutureWarning: The frame.append method is deprecated and will be removed from pandas in a future version. Use pandas.concat instead.\n",
      "  new_df= new_df.append(data, ignore_index=True)\n",
      "/tmp/ipykernel_24298/253161635.py:30: FutureWarning: The frame.append method is deprecated and will be removed from pandas in a future version. Use pandas.concat instead.\n",
      "  new_df= new_df.append(data, ignore_index=True)\n"
     ]
    },
    {
     "name": "stdout",
     "output_type": "stream",
     "text": [
      "save image 212\n",
      "save image 213\n",
      "save image 214\n",
      "save image 215\n",
      "save image 216\n"
     ]
    },
    {
     "name": "stderr",
     "output_type": "stream",
     "text": [
      "/tmp/ipykernel_24298/253161635.py:30: FutureWarning: The frame.append method is deprecated and will be removed from pandas in a future version. Use pandas.concat instead.\n",
      "  new_df= new_df.append(data, ignore_index=True)\n",
      "/tmp/ipykernel_24298/253161635.py:30: FutureWarning: The frame.append method is deprecated and will be removed from pandas in a future version. Use pandas.concat instead.\n",
      "  new_df= new_df.append(data, ignore_index=True)\n",
      "/tmp/ipykernel_24298/253161635.py:30: FutureWarning: The frame.append method is deprecated and will be removed from pandas in a future version. Use pandas.concat instead.\n",
      "  new_df= new_df.append(data, ignore_index=True)\n",
      "/tmp/ipykernel_24298/253161635.py:30: FutureWarning: The frame.append method is deprecated and will be removed from pandas in a future version. Use pandas.concat instead.\n",
      "  new_df= new_df.append(data, ignore_index=True)\n",
      "/tmp/ipykernel_24298/253161635.py:30: FutureWarning: The frame.append method is deprecated and will be removed from pandas in a future version. Use pandas.concat instead.\n",
      "  new_df= new_df.append(data, ignore_index=True)\n"
     ]
    },
    {
     "name": "stdout",
     "output_type": "stream",
     "text": [
      "save image 217\n",
      "save image 218\n",
      "save image 219\n",
      "save image 220\n",
      "save image 221\n"
     ]
    },
    {
     "name": "stderr",
     "output_type": "stream",
     "text": [
      "/tmp/ipykernel_24298/253161635.py:30: FutureWarning: The frame.append method is deprecated and will be removed from pandas in a future version. Use pandas.concat instead.\n",
      "  new_df= new_df.append(data, ignore_index=True)\n",
      "/tmp/ipykernel_24298/253161635.py:30: FutureWarning: The frame.append method is deprecated and will be removed from pandas in a future version. Use pandas.concat instead.\n",
      "  new_df= new_df.append(data, ignore_index=True)\n",
      "/tmp/ipykernel_24298/253161635.py:30: FutureWarning: The frame.append method is deprecated and will be removed from pandas in a future version. Use pandas.concat instead.\n",
      "  new_df= new_df.append(data, ignore_index=True)\n",
      "/tmp/ipykernel_24298/253161635.py:30: FutureWarning: The frame.append method is deprecated and will be removed from pandas in a future version. Use pandas.concat instead.\n",
      "  new_df= new_df.append(data, ignore_index=True)\n",
      "/tmp/ipykernel_24298/253161635.py:30: FutureWarning: The frame.append method is deprecated and will be removed from pandas in a future version. Use pandas.concat instead.\n",
      "  new_df= new_df.append(data, ignore_index=True)\n"
     ]
    },
    {
     "name": "stdout",
     "output_type": "stream",
     "text": [
      "save image 222\n",
      "save image 223\n",
      "save image 224\n",
      "save image 225\n",
      "save image 226\n"
     ]
    },
    {
     "name": "stderr",
     "output_type": "stream",
     "text": [
      "/tmp/ipykernel_24298/253161635.py:30: FutureWarning: The frame.append method is deprecated and will be removed from pandas in a future version. Use pandas.concat instead.\n",
      "  new_df= new_df.append(data, ignore_index=True)\n",
      "/tmp/ipykernel_24298/253161635.py:30: FutureWarning: The frame.append method is deprecated and will be removed from pandas in a future version. Use pandas.concat instead.\n",
      "  new_df= new_df.append(data, ignore_index=True)\n",
      "/tmp/ipykernel_24298/253161635.py:30: FutureWarning: The frame.append method is deprecated and will be removed from pandas in a future version. Use pandas.concat instead.\n",
      "  new_df= new_df.append(data, ignore_index=True)\n",
      "/tmp/ipykernel_24298/253161635.py:30: FutureWarning: The frame.append method is deprecated and will be removed from pandas in a future version. Use pandas.concat instead.\n",
      "  new_df= new_df.append(data, ignore_index=True)\n",
      "/tmp/ipykernel_24298/253161635.py:30: FutureWarning: The frame.append method is deprecated and will be removed from pandas in a future version. Use pandas.concat instead.\n",
      "  new_df= new_df.append(data, ignore_index=True)\n"
     ]
    },
    {
     "name": "stdout",
     "output_type": "stream",
     "text": [
      "save image 227\n",
      "save image 228\n",
      "save image 229\n",
      "save image 230\n",
      "save image 231\n"
     ]
    },
    {
     "name": "stderr",
     "output_type": "stream",
     "text": [
      "/tmp/ipykernel_24298/253161635.py:30: FutureWarning: The frame.append method is deprecated and will be removed from pandas in a future version. Use pandas.concat instead.\n",
      "  new_df= new_df.append(data, ignore_index=True)\n",
      "/tmp/ipykernel_24298/253161635.py:30: FutureWarning: The frame.append method is deprecated and will be removed from pandas in a future version. Use pandas.concat instead.\n",
      "  new_df= new_df.append(data, ignore_index=True)\n",
      "/tmp/ipykernel_24298/253161635.py:30: FutureWarning: The frame.append method is deprecated and will be removed from pandas in a future version. Use pandas.concat instead.\n",
      "  new_df= new_df.append(data, ignore_index=True)\n",
      "/tmp/ipykernel_24298/253161635.py:30: FutureWarning: The frame.append method is deprecated and will be removed from pandas in a future version. Use pandas.concat instead.\n",
      "  new_df= new_df.append(data, ignore_index=True)\n"
     ]
    },
    {
     "name": "stdout",
     "output_type": "stream",
     "text": [
      "save image 232\n",
      "save image 233\n",
      "save image 234\n",
      "save image 235\n"
     ]
    },
    {
     "name": "stderr",
     "output_type": "stream",
     "text": [
      "/tmp/ipykernel_24298/253161635.py:30: FutureWarning: The frame.append method is deprecated and will be removed from pandas in a future version. Use pandas.concat instead.\n",
      "  new_df= new_df.append(data, ignore_index=True)\n",
      "/tmp/ipykernel_24298/253161635.py:30: FutureWarning: The frame.append method is deprecated and will be removed from pandas in a future version. Use pandas.concat instead.\n",
      "  new_df= new_df.append(data, ignore_index=True)\n",
      "/tmp/ipykernel_24298/253161635.py:30: FutureWarning: The frame.append method is deprecated and will be removed from pandas in a future version. Use pandas.concat instead.\n",
      "  new_df= new_df.append(data, ignore_index=True)\n",
      "/tmp/ipykernel_24298/253161635.py:30: FutureWarning: The frame.append method is deprecated and will be removed from pandas in a future version. Use pandas.concat instead.\n",
      "  new_df= new_df.append(data, ignore_index=True)\n",
      "/tmp/ipykernel_24298/253161635.py:30: FutureWarning: The frame.append method is deprecated and will be removed from pandas in a future version. Use pandas.concat instead.\n",
      "  new_df= new_df.append(data, ignore_index=True)\n",
      "/tmp/ipykernel_24298/253161635.py:30: FutureWarning: The frame.append method is deprecated and will be removed from pandas in a future version. Use pandas.concat instead.\n",
      "  new_df= new_df.append(data, ignore_index=True)\n"
     ]
    },
    {
     "name": "stdout",
     "output_type": "stream",
     "text": [
      "save image 236\n",
      "save image 237\n",
      "save image 238\n",
      "save image 239\n",
      "save image 240\n",
      "save image 241\n"
     ]
    },
    {
     "name": "stderr",
     "output_type": "stream",
     "text": [
      "/tmp/ipykernel_24298/253161635.py:30: FutureWarning: The frame.append method is deprecated and will be removed from pandas in a future version. Use pandas.concat instead.\n",
      "  new_df= new_df.append(data, ignore_index=True)\n",
      "/tmp/ipykernel_24298/253161635.py:30: FutureWarning: The frame.append method is deprecated and will be removed from pandas in a future version. Use pandas.concat instead.\n",
      "  new_df= new_df.append(data, ignore_index=True)\n",
      "/tmp/ipykernel_24298/253161635.py:30: FutureWarning: The frame.append method is deprecated and will be removed from pandas in a future version. Use pandas.concat instead.\n",
      "  new_df= new_df.append(data, ignore_index=True)\n",
      "/tmp/ipykernel_24298/253161635.py:30: FutureWarning: The frame.append method is deprecated and will be removed from pandas in a future version. Use pandas.concat instead.\n",
      "  new_df= new_df.append(data, ignore_index=True)\n",
      "/tmp/ipykernel_24298/253161635.py:30: FutureWarning: The frame.append method is deprecated and will be removed from pandas in a future version. Use pandas.concat instead.\n",
      "  new_df= new_df.append(data, ignore_index=True)\n",
      "/tmp/ipykernel_24298/253161635.py:30: FutureWarning: The frame.append method is deprecated and will be removed from pandas in a future version. Use pandas.concat instead.\n",
      "  new_df= new_df.append(data, ignore_index=True)\n"
     ]
    },
    {
     "name": "stdout",
     "output_type": "stream",
     "text": [
      "save image 242\n",
      "save image 243\n",
      "save image 244\n",
      "save image 245\n",
      "save image 246\n",
      "save image 247\n"
     ]
    },
    {
     "name": "stderr",
     "output_type": "stream",
     "text": [
      "/tmp/ipykernel_24298/253161635.py:30: FutureWarning: The frame.append method is deprecated and will be removed from pandas in a future version. Use pandas.concat instead.\n",
      "  new_df= new_df.append(data, ignore_index=True)\n",
      "/tmp/ipykernel_24298/253161635.py:30: FutureWarning: The frame.append method is deprecated and will be removed from pandas in a future version. Use pandas.concat instead.\n",
      "  new_df= new_df.append(data, ignore_index=True)\n",
      "/tmp/ipykernel_24298/253161635.py:30: FutureWarning: The frame.append method is deprecated and will be removed from pandas in a future version. Use pandas.concat instead.\n",
      "  new_df= new_df.append(data, ignore_index=True)\n",
      "/tmp/ipykernel_24298/253161635.py:30: FutureWarning: The frame.append method is deprecated and will be removed from pandas in a future version. Use pandas.concat instead.\n",
      "  new_df= new_df.append(data, ignore_index=True)\n",
      "/tmp/ipykernel_24298/253161635.py:30: FutureWarning: The frame.append method is deprecated and will be removed from pandas in a future version. Use pandas.concat instead.\n",
      "  new_df= new_df.append(data, ignore_index=True)\n",
      "/tmp/ipykernel_24298/253161635.py:30: FutureWarning: The frame.append method is deprecated and will be removed from pandas in a future version. Use pandas.concat instead.\n",
      "  new_df= new_df.append(data, ignore_index=True)\n"
     ]
    },
    {
     "name": "stdout",
     "output_type": "stream",
     "text": [
      "save image 248\n",
      "save image 249\n",
      "save image 250\n",
      "save image 251\n",
      "save image 252\n",
      "save image 253\n"
     ]
    },
    {
     "name": "stderr",
     "output_type": "stream",
     "text": [
      "/tmp/ipykernel_24298/253161635.py:30: FutureWarning: The frame.append method is deprecated and will be removed from pandas in a future version. Use pandas.concat instead.\n",
      "  new_df= new_df.append(data, ignore_index=True)\n",
      "/tmp/ipykernel_24298/253161635.py:30: FutureWarning: The frame.append method is deprecated and will be removed from pandas in a future version. Use pandas.concat instead.\n",
      "  new_df= new_df.append(data, ignore_index=True)\n",
      "/tmp/ipykernel_24298/253161635.py:30: FutureWarning: The frame.append method is deprecated and will be removed from pandas in a future version. Use pandas.concat instead.\n",
      "  new_df= new_df.append(data, ignore_index=True)\n",
      "/tmp/ipykernel_24298/253161635.py:30: FutureWarning: The frame.append method is deprecated and will be removed from pandas in a future version. Use pandas.concat instead.\n",
      "  new_df= new_df.append(data, ignore_index=True)\n",
      "/tmp/ipykernel_24298/253161635.py:30: FutureWarning: The frame.append method is deprecated and will be removed from pandas in a future version. Use pandas.concat instead.\n",
      "  new_df= new_df.append(data, ignore_index=True)\n"
     ]
    },
    {
     "name": "stdout",
     "output_type": "stream",
     "text": [
      "save image 254\n",
      "save image 255\n",
      "save image 256\n",
      "save image 257\n",
      "save image 258\n"
     ]
    },
    {
     "name": "stderr",
     "output_type": "stream",
     "text": [
      "/tmp/ipykernel_24298/253161635.py:30: FutureWarning: The frame.append method is deprecated and will be removed from pandas in a future version. Use pandas.concat instead.\n",
      "  new_df= new_df.append(data, ignore_index=True)\n",
      "/tmp/ipykernel_24298/253161635.py:30: FutureWarning: The frame.append method is deprecated and will be removed from pandas in a future version. Use pandas.concat instead.\n",
      "  new_df= new_df.append(data, ignore_index=True)\n",
      "/tmp/ipykernel_24298/253161635.py:30: FutureWarning: The frame.append method is deprecated and will be removed from pandas in a future version. Use pandas.concat instead.\n",
      "  new_df= new_df.append(data, ignore_index=True)\n",
      "/tmp/ipykernel_24298/253161635.py:30: FutureWarning: The frame.append method is deprecated and will be removed from pandas in a future version. Use pandas.concat instead.\n",
      "  new_df= new_df.append(data, ignore_index=True)\n",
      "/tmp/ipykernel_24298/253161635.py:30: FutureWarning: The frame.append method is deprecated and will be removed from pandas in a future version. Use pandas.concat instead.\n",
      "  new_df= new_df.append(data, ignore_index=True)\n"
     ]
    },
    {
     "name": "stdout",
     "output_type": "stream",
     "text": [
      "save image 259\n",
      "save image 260\n",
      "save image 261\n",
      "save image 262\n",
      "save image 263\n"
     ]
    },
    {
     "name": "stderr",
     "output_type": "stream",
     "text": [
      "/tmp/ipykernel_24298/253161635.py:30: FutureWarning: The frame.append method is deprecated and will be removed from pandas in a future version. Use pandas.concat instead.\n",
      "  new_df= new_df.append(data, ignore_index=True)\n",
      "/tmp/ipykernel_24298/253161635.py:30: FutureWarning: The frame.append method is deprecated and will be removed from pandas in a future version. Use pandas.concat instead.\n",
      "  new_df= new_df.append(data, ignore_index=True)\n",
      "/tmp/ipykernel_24298/253161635.py:30: FutureWarning: The frame.append method is deprecated and will be removed from pandas in a future version. Use pandas.concat instead.\n",
      "  new_df= new_df.append(data, ignore_index=True)\n",
      "/tmp/ipykernel_24298/253161635.py:30: FutureWarning: The frame.append method is deprecated and will be removed from pandas in a future version. Use pandas.concat instead.\n",
      "  new_df= new_df.append(data, ignore_index=True)\n",
      "/tmp/ipykernel_24298/253161635.py:30: FutureWarning: The frame.append method is deprecated and will be removed from pandas in a future version. Use pandas.concat instead.\n",
      "  new_df= new_df.append(data, ignore_index=True)\n"
     ]
    },
    {
     "name": "stdout",
     "output_type": "stream",
     "text": [
      "save image 264\n",
      "save image 265\n",
      "save image 266\n",
      "save image 267\n",
      "save image 268\n"
     ]
    },
    {
     "name": "stderr",
     "output_type": "stream",
     "text": [
      "/tmp/ipykernel_24298/253161635.py:30: FutureWarning: The frame.append method is deprecated and will be removed from pandas in a future version. Use pandas.concat instead.\n",
      "  new_df= new_df.append(data, ignore_index=True)\n",
      "/tmp/ipykernel_24298/253161635.py:30: FutureWarning: The frame.append method is deprecated and will be removed from pandas in a future version. Use pandas.concat instead.\n",
      "  new_df= new_df.append(data, ignore_index=True)\n",
      "/tmp/ipykernel_24298/253161635.py:30: FutureWarning: The frame.append method is deprecated and will be removed from pandas in a future version. Use pandas.concat instead.\n",
      "  new_df= new_df.append(data, ignore_index=True)\n",
      "/tmp/ipykernel_24298/253161635.py:30: FutureWarning: The frame.append method is deprecated and will be removed from pandas in a future version. Use pandas.concat instead.\n",
      "  new_df= new_df.append(data, ignore_index=True)\n"
     ]
    },
    {
     "name": "stdout",
     "output_type": "stream",
     "text": [
      "save image 269\n",
      "save image 270\n",
      "save image 271\n",
      "save image 272\n"
     ]
    },
    {
     "name": "stderr",
     "output_type": "stream",
     "text": [
      "/tmp/ipykernel_24298/253161635.py:30: FutureWarning: The frame.append method is deprecated and will be removed from pandas in a future version. Use pandas.concat instead.\n",
      "  new_df= new_df.append(data, ignore_index=True)\n",
      "/tmp/ipykernel_24298/253161635.py:30: FutureWarning: The frame.append method is deprecated and will be removed from pandas in a future version. Use pandas.concat instead.\n",
      "  new_df= new_df.append(data, ignore_index=True)\n",
      "/tmp/ipykernel_24298/253161635.py:30: FutureWarning: The frame.append method is deprecated and will be removed from pandas in a future version. Use pandas.concat instead.\n",
      "  new_df= new_df.append(data, ignore_index=True)\n",
      "/tmp/ipykernel_24298/253161635.py:30: FutureWarning: The frame.append method is deprecated and will be removed from pandas in a future version. Use pandas.concat instead.\n",
      "  new_df= new_df.append(data, ignore_index=True)\n",
      "/tmp/ipykernel_24298/253161635.py:30: FutureWarning: The frame.append method is deprecated and will be removed from pandas in a future version. Use pandas.concat instead.\n",
      "  new_df= new_df.append(data, ignore_index=True)\n"
     ]
    },
    {
     "name": "stdout",
     "output_type": "stream",
     "text": [
      "save image 273\n",
      "save image 274\n",
      "save image 275\n",
      "save image 276\n",
      "save image 277\n"
     ]
    },
    {
     "name": "stderr",
     "output_type": "stream",
     "text": [
      "/tmp/ipykernel_24298/253161635.py:30: FutureWarning: The frame.append method is deprecated and will be removed from pandas in a future version. Use pandas.concat instead.\n",
      "  new_df= new_df.append(data, ignore_index=True)\n",
      "/tmp/ipykernel_24298/253161635.py:30: FutureWarning: The frame.append method is deprecated and will be removed from pandas in a future version. Use pandas.concat instead.\n",
      "  new_df= new_df.append(data, ignore_index=True)\n",
      "/tmp/ipykernel_24298/253161635.py:30: FutureWarning: The frame.append method is deprecated and will be removed from pandas in a future version. Use pandas.concat instead.\n",
      "  new_df= new_df.append(data, ignore_index=True)\n",
      "/tmp/ipykernel_24298/253161635.py:30: FutureWarning: The frame.append method is deprecated and will be removed from pandas in a future version. Use pandas.concat instead.\n",
      "  new_df= new_df.append(data, ignore_index=True)\n",
      "/tmp/ipykernel_24298/253161635.py:30: FutureWarning: The frame.append method is deprecated and will be removed from pandas in a future version. Use pandas.concat instead.\n",
      "  new_df= new_df.append(data, ignore_index=True)\n"
     ]
    },
    {
     "name": "stdout",
     "output_type": "stream",
     "text": [
      "save image 278\n",
      "save image 279\n",
      "save image 280\n",
      "save image 281\n",
      "save image 282\n"
     ]
    },
    {
     "name": "stderr",
     "output_type": "stream",
     "text": [
      "/tmp/ipykernel_24298/253161635.py:30: FutureWarning: The frame.append method is deprecated and will be removed from pandas in a future version. Use pandas.concat instead.\n",
      "  new_df= new_df.append(data, ignore_index=True)\n",
      "/tmp/ipykernel_24298/253161635.py:30: FutureWarning: The frame.append method is deprecated and will be removed from pandas in a future version. Use pandas.concat instead.\n",
      "  new_df= new_df.append(data, ignore_index=True)\n",
      "/tmp/ipykernel_24298/253161635.py:30: FutureWarning: The frame.append method is deprecated and will be removed from pandas in a future version. Use pandas.concat instead.\n",
      "  new_df= new_df.append(data, ignore_index=True)\n",
      "/tmp/ipykernel_24298/253161635.py:30: FutureWarning: The frame.append method is deprecated and will be removed from pandas in a future version. Use pandas.concat instead.\n",
      "  new_df= new_df.append(data, ignore_index=True)\n",
      "/tmp/ipykernel_24298/253161635.py:30: FutureWarning: The frame.append method is deprecated and will be removed from pandas in a future version. Use pandas.concat instead.\n",
      "  new_df= new_df.append(data, ignore_index=True)\n",
      "/tmp/ipykernel_24298/253161635.py:30: FutureWarning: The frame.append method is deprecated and will be removed from pandas in a future version. Use pandas.concat instead.\n",
      "  new_df= new_df.append(data, ignore_index=True)\n"
     ]
    },
    {
     "name": "stdout",
     "output_type": "stream",
     "text": [
      "save image 283\n",
      "save image 284\n",
      "save image 285\n",
      "save image 286\n",
      "save image 287\n",
      "save image 288\n"
     ]
    },
    {
     "name": "stderr",
     "output_type": "stream",
     "text": [
      "/tmp/ipykernel_24298/253161635.py:30: FutureWarning: The frame.append method is deprecated and will be removed from pandas in a future version. Use pandas.concat instead.\n",
      "  new_df= new_df.append(data, ignore_index=True)\n",
      "/tmp/ipykernel_24298/253161635.py:30: FutureWarning: The frame.append method is deprecated and will be removed from pandas in a future version. Use pandas.concat instead.\n",
      "  new_df= new_df.append(data, ignore_index=True)\n",
      "/tmp/ipykernel_24298/253161635.py:30: FutureWarning: The frame.append method is deprecated and will be removed from pandas in a future version. Use pandas.concat instead.\n",
      "  new_df= new_df.append(data, ignore_index=True)\n",
      "/tmp/ipykernel_24298/253161635.py:30: FutureWarning: The frame.append method is deprecated and will be removed from pandas in a future version. Use pandas.concat instead.\n",
      "  new_df= new_df.append(data, ignore_index=True)\n"
     ]
    },
    {
     "name": "stdout",
     "output_type": "stream",
     "text": [
      "save image 289\n",
      "save image 290\n",
      "save image 291\n",
      "save image 292\n"
     ]
    },
    {
     "name": "stderr",
     "output_type": "stream",
     "text": [
      "/tmp/ipykernel_24298/253161635.py:30: FutureWarning: The frame.append method is deprecated and will be removed from pandas in a future version. Use pandas.concat instead.\n",
      "  new_df= new_df.append(data, ignore_index=True)\n",
      "/tmp/ipykernel_24298/253161635.py:30: FutureWarning: The frame.append method is deprecated and will be removed from pandas in a future version. Use pandas.concat instead.\n",
      "  new_df= new_df.append(data, ignore_index=True)\n",
      "/tmp/ipykernel_24298/253161635.py:30: FutureWarning: The frame.append method is deprecated and will be removed from pandas in a future version. Use pandas.concat instead.\n",
      "  new_df= new_df.append(data, ignore_index=True)\n",
      "/tmp/ipykernel_24298/253161635.py:30: FutureWarning: The frame.append method is deprecated and will be removed from pandas in a future version. Use pandas.concat instead.\n",
      "  new_df= new_df.append(data, ignore_index=True)\n",
      "/tmp/ipykernel_24298/253161635.py:30: FutureWarning: The frame.append method is deprecated and will be removed from pandas in a future version. Use pandas.concat instead.\n",
      "  new_df= new_df.append(data, ignore_index=True)\n"
     ]
    },
    {
     "name": "stdout",
     "output_type": "stream",
     "text": [
      "save image 293\n",
      "save image 294\n",
      "save image 295\n",
      "save image 296\n",
      "save image 297\n"
     ]
    },
    {
     "name": "stderr",
     "output_type": "stream",
     "text": [
      "/tmp/ipykernel_24298/253161635.py:30: FutureWarning: The frame.append method is deprecated and will be removed from pandas in a future version. Use pandas.concat instead.\n",
      "  new_df= new_df.append(data, ignore_index=True)\n",
      "/tmp/ipykernel_24298/253161635.py:30: FutureWarning: The frame.append method is deprecated and will be removed from pandas in a future version. Use pandas.concat instead.\n",
      "  new_df= new_df.append(data, ignore_index=True)\n",
      "/tmp/ipykernel_24298/253161635.py:30: FutureWarning: The frame.append method is deprecated and will be removed from pandas in a future version. Use pandas.concat instead.\n",
      "  new_df= new_df.append(data, ignore_index=True)\n",
      "/tmp/ipykernel_24298/253161635.py:30: FutureWarning: The frame.append method is deprecated and will be removed from pandas in a future version. Use pandas.concat instead.\n",
      "  new_df= new_df.append(data, ignore_index=True)\n"
     ]
    },
    {
     "name": "stdout",
     "output_type": "stream",
     "text": [
      "save image 298\n",
      "save image 299\n",
      "save image 300\n",
      "save image 301\n"
     ]
    },
    {
     "name": "stderr",
     "output_type": "stream",
     "text": [
      "/tmp/ipykernel_24298/253161635.py:30: FutureWarning: The frame.append method is deprecated and will be removed from pandas in a future version. Use pandas.concat instead.\n",
      "  new_df= new_df.append(data, ignore_index=True)\n",
      "/tmp/ipykernel_24298/253161635.py:30: FutureWarning: The frame.append method is deprecated and will be removed from pandas in a future version. Use pandas.concat instead.\n",
      "  new_df= new_df.append(data, ignore_index=True)\n",
      "/tmp/ipykernel_24298/253161635.py:30: FutureWarning: The frame.append method is deprecated and will be removed from pandas in a future version. Use pandas.concat instead.\n",
      "  new_df= new_df.append(data, ignore_index=True)\n",
      "/tmp/ipykernel_24298/253161635.py:30: FutureWarning: The frame.append method is deprecated and will be removed from pandas in a future version. Use pandas.concat instead.\n",
      "  new_df= new_df.append(data, ignore_index=True)\n",
      "/tmp/ipykernel_24298/253161635.py:30: FutureWarning: The frame.append method is deprecated and will be removed from pandas in a future version. Use pandas.concat instead.\n",
      "  new_df= new_df.append(data, ignore_index=True)\n"
     ]
    },
    {
     "name": "stdout",
     "output_type": "stream",
     "text": [
      "save image 302\n",
      "save image 303\n",
      "save image 304\n",
      "save image 305\n",
      "save image 306\n"
     ]
    },
    {
     "name": "stderr",
     "output_type": "stream",
     "text": [
      "/tmp/ipykernel_24298/253161635.py:30: FutureWarning: The frame.append method is deprecated and will be removed from pandas in a future version. Use pandas.concat instead.\n",
      "  new_df= new_df.append(data, ignore_index=True)\n",
      "/tmp/ipykernel_24298/253161635.py:30: FutureWarning: The frame.append method is deprecated and will be removed from pandas in a future version. Use pandas.concat instead.\n",
      "  new_df= new_df.append(data, ignore_index=True)\n",
      "/tmp/ipykernel_24298/253161635.py:30: FutureWarning: The frame.append method is deprecated and will be removed from pandas in a future version. Use pandas.concat instead.\n",
      "  new_df= new_df.append(data, ignore_index=True)\n",
      "/tmp/ipykernel_24298/253161635.py:30: FutureWarning: The frame.append method is deprecated and will be removed from pandas in a future version. Use pandas.concat instead.\n",
      "  new_df= new_df.append(data, ignore_index=True)\n",
      "/tmp/ipykernel_24298/253161635.py:30: FutureWarning: The frame.append method is deprecated and will be removed from pandas in a future version. Use pandas.concat instead.\n",
      "  new_df= new_df.append(data, ignore_index=True)\n",
      "/tmp/ipykernel_24298/253161635.py:30: FutureWarning: The frame.append method is deprecated and will be removed from pandas in a future version. Use pandas.concat instead.\n",
      "  new_df= new_df.append(data, ignore_index=True)\n"
     ]
    },
    {
     "name": "stdout",
     "output_type": "stream",
     "text": [
      "save image 307\n",
      "save image 308\n",
      "save image 309\n",
      "save image 310\n",
      "save image 311\n",
      "save image 312\n"
     ]
    },
    {
     "name": "stderr",
     "output_type": "stream",
     "text": [
      "/tmp/ipykernel_24298/253161635.py:30: FutureWarning: The frame.append method is deprecated and will be removed from pandas in a future version. Use pandas.concat instead.\n",
      "  new_df= new_df.append(data, ignore_index=True)\n",
      "/tmp/ipykernel_24298/253161635.py:30: FutureWarning: The frame.append method is deprecated and will be removed from pandas in a future version. Use pandas.concat instead.\n",
      "  new_df= new_df.append(data, ignore_index=True)\n",
      "/tmp/ipykernel_24298/253161635.py:30: FutureWarning: The frame.append method is deprecated and will be removed from pandas in a future version. Use pandas.concat instead.\n",
      "  new_df= new_df.append(data, ignore_index=True)\n",
      "/tmp/ipykernel_24298/253161635.py:30: FutureWarning: The frame.append method is deprecated and will be removed from pandas in a future version. Use pandas.concat instead.\n",
      "  new_df= new_df.append(data, ignore_index=True)\n"
     ]
    },
    {
     "name": "stdout",
     "output_type": "stream",
     "text": [
      "save image 313\n",
      "save image 314\n",
      "save image 315\n",
      "save image 316\n"
     ]
    },
    {
     "name": "stderr",
     "output_type": "stream",
     "text": [
      "/tmp/ipykernel_24298/253161635.py:30: FutureWarning: The frame.append method is deprecated and will be removed from pandas in a future version. Use pandas.concat instead.\n",
      "  new_df= new_df.append(data, ignore_index=True)\n",
      "/tmp/ipykernel_24298/253161635.py:30: FutureWarning: The frame.append method is deprecated and will be removed from pandas in a future version. Use pandas.concat instead.\n",
      "  new_df= new_df.append(data, ignore_index=True)\n",
      "/tmp/ipykernel_24298/253161635.py:30: FutureWarning: The frame.append method is deprecated and will be removed from pandas in a future version. Use pandas.concat instead.\n",
      "  new_df= new_df.append(data, ignore_index=True)\n",
      "/tmp/ipykernel_24298/253161635.py:30: FutureWarning: The frame.append method is deprecated and will be removed from pandas in a future version. Use pandas.concat instead.\n",
      "  new_df= new_df.append(data, ignore_index=True)\n",
      "/tmp/ipykernel_24298/253161635.py:30: FutureWarning: The frame.append method is deprecated and will be removed from pandas in a future version. Use pandas.concat instead.\n",
      "  new_df= new_df.append(data, ignore_index=True)\n"
     ]
    },
    {
     "name": "stdout",
     "output_type": "stream",
     "text": [
      "save image 317\n",
      "save image 318\n",
      "save image 319\n",
      "save image 320\n",
      "save image 321\n"
     ]
    },
    {
     "name": "stderr",
     "output_type": "stream",
     "text": [
      "/tmp/ipykernel_24298/253161635.py:30: FutureWarning: The frame.append method is deprecated and will be removed from pandas in a future version. Use pandas.concat instead.\n",
      "  new_df= new_df.append(data, ignore_index=True)\n",
      "/tmp/ipykernel_24298/253161635.py:30: FutureWarning: The frame.append method is deprecated and will be removed from pandas in a future version. Use pandas.concat instead.\n",
      "  new_df= new_df.append(data, ignore_index=True)\n",
      "/tmp/ipykernel_24298/253161635.py:30: FutureWarning: The frame.append method is deprecated and will be removed from pandas in a future version. Use pandas.concat instead.\n",
      "  new_df= new_df.append(data, ignore_index=True)\n",
      "/tmp/ipykernel_24298/253161635.py:30: FutureWarning: The frame.append method is deprecated and will be removed from pandas in a future version. Use pandas.concat instead.\n",
      "  new_df= new_df.append(data, ignore_index=True)\n",
      "/tmp/ipykernel_24298/253161635.py:30: FutureWarning: The frame.append method is deprecated and will be removed from pandas in a future version. Use pandas.concat instead.\n",
      "  new_df= new_df.append(data, ignore_index=True)\n"
     ]
    },
    {
     "name": "stdout",
     "output_type": "stream",
     "text": [
      "save image 322\n",
      "save image 323\n",
      "save image 324\n",
      "save image 325\n",
      "save image 326\n"
     ]
    },
    {
     "name": "stderr",
     "output_type": "stream",
     "text": [
      "/tmp/ipykernel_24298/253161635.py:30: FutureWarning: The frame.append method is deprecated and will be removed from pandas in a future version. Use pandas.concat instead.\n",
      "  new_df= new_df.append(data, ignore_index=True)\n",
      "/tmp/ipykernel_24298/253161635.py:30: FutureWarning: The frame.append method is deprecated and will be removed from pandas in a future version. Use pandas.concat instead.\n",
      "  new_df= new_df.append(data, ignore_index=True)\n",
      "/tmp/ipykernel_24298/253161635.py:30: FutureWarning: The frame.append method is deprecated and will be removed from pandas in a future version. Use pandas.concat instead.\n",
      "  new_df= new_df.append(data, ignore_index=True)\n",
      "/tmp/ipykernel_24298/253161635.py:30: FutureWarning: The frame.append method is deprecated and will be removed from pandas in a future version. Use pandas.concat instead.\n",
      "  new_df= new_df.append(data, ignore_index=True)\n",
      "/tmp/ipykernel_24298/253161635.py:30: FutureWarning: The frame.append method is deprecated and will be removed from pandas in a future version. Use pandas.concat instead.\n",
      "  new_df= new_df.append(data, ignore_index=True)\n"
     ]
    },
    {
     "name": "stdout",
     "output_type": "stream",
     "text": [
      "save image 327\n",
      "save image 328\n",
      "save image 329\n",
      "save image 330\n",
      "save image 331\n"
     ]
    },
    {
     "name": "stderr",
     "output_type": "stream",
     "text": [
      "/tmp/ipykernel_24298/253161635.py:30: FutureWarning: The frame.append method is deprecated and will be removed from pandas in a future version. Use pandas.concat instead.\n",
      "  new_df= new_df.append(data, ignore_index=True)\n",
      "/tmp/ipykernel_24298/253161635.py:30: FutureWarning: The frame.append method is deprecated and will be removed from pandas in a future version. Use pandas.concat instead.\n",
      "  new_df= new_df.append(data, ignore_index=True)\n",
      "/tmp/ipykernel_24298/253161635.py:30: FutureWarning: The frame.append method is deprecated and will be removed from pandas in a future version. Use pandas.concat instead.\n",
      "  new_df= new_df.append(data, ignore_index=True)\n",
      "/tmp/ipykernel_24298/253161635.py:30: FutureWarning: The frame.append method is deprecated and will be removed from pandas in a future version. Use pandas.concat instead.\n",
      "  new_df= new_df.append(data, ignore_index=True)\n",
      "/tmp/ipykernel_24298/253161635.py:30: FutureWarning: The frame.append method is deprecated and will be removed from pandas in a future version. Use pandas.concat instead.\n",
      "  new_df= new_df.append(data, ignore_index=True)\n"
     ]
    },
    {
     "name": "stdout",
     "output_type": "stream",
     "text": [
      "save image 332\n",
      "save image 333\n",
      "save image 334\n",
      "save image 335\n",
      "save image 336\n"
     ]
    },
    {
     "name": "stderr",
     "output_type": "stream",
     "text": [
      "/tmp/ipykernel_24298/253161635.py:30: FutureWarning: The frame.append method is deprecated and will be removed from pandas in a future version. Use pandas.concat instead.\n",
      "  new_df= new_df.append(data, ignore_index=True)\n",
      "/tmp/ipykernel_24298/253161635.py:30: FutureWarning: The frame.append method is deprecated and will be removed from pandas in a future version. Use pandas.concat instead.\n",
      "  new_df= new_df.append(data, ignore_index=True)\n",
      "/tmp/ipykernel_24298/253161635.py:30: FutureWarning: The frame.append method is deprecated and will be removed from pandas in a future version. Use pandas.concat instead.\n",
      "  new_df= new_df.append(data, ignore_index=True)\n",
      "/tmp/ipykernel_24298/253161635.py:30: FutureWarning: The frame.append method is deprecated and will be removed from pandas in a future version. Use pandas.concat instead.\n",
      "  new_df= new_df.append(data, ignore_index=True)\n",
      "/tmp/ipykernel_24298/253161635.py:30: FutureWarning: The frame.append method is deprecated and will be removed from pandas in a future version. Use pandas.concat instead.\n",
      "  new_df= new_df.append(data, ignore_index=True)\n"
     ]
    },
    {
     "name": "stdout",
     "output_type": "stream",
     "text": [
      "save image 337\n",
      "save image 338\n",
      "save image 339\n",
      "save image 340\n",
      "save image 341\n"
     ]
    },
    {
     "name": "stderr",
     "output_type": "stream",
     "text": [
      "/tmp/ipykernel_24298/253161635.py:30: FutureWarning: The frame.append method is deprecated and will be removed from pandas in a future version. Use pandas.concat instead.\n",
      "  new_df= new_df.append(data, ignore_index=True)\n",
      "/tmp/ipykernel_24298/253161635.py:30: FutureWarning: The frame.append method is deprecated and will be removed from pandas in a future version. Use pandas.concat instead.\n",
      "  new_df= new_df.append(data, ignore_index=True)\n",
      "/tmp/ipykernel_24298/253161635.py:30: FutureWarning: The frame.append method is deprecated and will be removed from pandas in a future version. Use pandas.concat instead.\n",
      "  new_df= new_df.append(data, ignore_index=True)\n",
      "/tmp/ipykernel_24298/253161635.py:30: FutureWarning: The frame.append method is deprecated and will be removed from pandas in a future version. Use pandas.concat instead.\n",
      "  new_df= new_df.append(data, ignore_index=True)\n",
      "/tmp/ipykernel_24298/253161635.py:30: FutureWarning: The frame.append method is deprecated and will be removed from pandas in a future version. Use pandas.concat instead.\n",
      "  new_df= new_df.append(data, ignore_index=True)\n"
     ]
    },
    {
     "name": "stdout",
     "output_type": "stream",
     "text": [
      "save image 342\n",
      "save image 343\n",
      "save image 344\n",
      "save image 345\n",
      "save image 346\n"
     ]
    },
    {
     "name": "stderr",
     "output_type": "stream",
     "text": [
      "/tmp/ipykernel_24298/253161635.py:30: FutureWarning: The frame.append method is deprecated and will be removed from pandas in a future version. Use pandas.concat instead.\n",
      "  new_df= new_df.append(data, ignore_index=True)\n",
      "/tmp/ipykernel_24298/253161635.py:30: FutureWarning: The frame.append method is deprecated and will be removed from pandas in a future version. Use pandas.concat instead.\n",
      "  new_df= new_df.append(data, ignore_index=True)\n",
      "/tmp/ipykernel_24298/253161635.py:30: FutureWarning: The frame.append method is deprecated and will be removed from pandas in a future version. Use pandas.concat instead.\n",
      "  new_df= new_df.append(data, ignore_index=True)\n",
      "/tmp/ipykernel_24298/253161635.py:30: FutureWarning: The frame.append method is deprecated and will be removed from pandas in a future version. Use pandas.concat instead.\n",
      "  new_df= new_df.append(data, ignore_index=True)\n",
      "/tmp/ipykernel_24298/253161635.py:30: FutureWarning: The frame.append method is deprecated and will be removed from pandas in a future version. Use pandas.concat instead.\n",
      "  new_df= new_df.append(data, ignore_index=True)\n",
      "/tmp/ipykernel_24298/253161635.py:30: FutureWarning: The frame.append method is deprecated and will be removed from pandas in a future version. Use pandas.concat instead.\n",
      "  new_df= new_df.append(data, ignore_index=True)\n"
     ]
    },
    {
     "name": "stdout",
     "output_type": "stream",
     "text": [
      "save image 347\n",
      "save image 348\n",
      "save image 349\n",
      "save image 350\n",
      "save image 351\n",
      "save image 352\n"
     ]
    },
    {
     "name": "stderr",
     "output_type": "stream",
     "text": [
      "/tmp/ipykernel_24298/253161635.py:30: FutureWarning: The frame.append method is deprecated and will be removed from pandas in a future version. Use pandas.concat instead.\n",
      "  new_df= new_df.append(data, ignore_index=True)\n",
      "/tmp/ipykernel_24298/253161635.py:30: FutureWarning: The frame.append method is deprecated and will be removed from pandas in a future version. Use pandas.concat instead.\n",
      "  new_df= new_df.append(data, ignore_index=True)\n",
      "/tmp/ipykernel_24298/253161635.py:30: FutureWarning: The frame.append method is deprecated and will be removed from pandas in a future version. Use pandas.concat instead.\n",
      "  new_df= new_df.append(data, ignore_index=True)\n",
      "/tmp/ipykernel_24298/253161635.py:30: FutureWarning: The frame.append method is deprecated and will be removed from pandas in a future version. Use pandas.concat instead.\n",
      "  new_df= new_df.append(data, ignore_index=True)\n",
      "/tmp/ipykernel_24298/253161635.py:30: FutureWarning: The frame.append method is deprecated and will be removed from pandas in a future version. Use pandas.concat instead.\n",
      "  new_df= new_df.append(data, ignore_index=True)\n",
      "/tmp/ipykernel_24298/253161635.py:30: FutureWarning: The frame.append method is deprecated and will be removed from pandas in a future version. Use pandas.concat instead.\n",
      "  new_df= new_df.append(data, ignore_index=True)\n"
     ]
    },
    {
     "name": "stdout",
     "output_type": "stream",
     "text": [
      "save image 353\n",
      "save image 354\n",
      "save image 355\n",
      "save image 356\n",
      "save image 357\n",
      "save image 358\n"
     ]
    },
    {
     "name": "stderr",
     "output_type": "stream",
     "text": [
      "/tmp/ipykernel_24298/253161635.py:30: FutureWarning: The frame.append method is deprecated and will be removed from pandas in a future version. Use pandas.concat instead.\n",
      "  new_df= new_df.append(data, ignore_index=True)\n",
      "/tmp/ipykernel_24298/253161635.py:30: FutureWarning: The frame.append method is deprecated and will be removed from pandas in a future version. Use pandas.concat instead.\n",
      "  new_df= new_df.append(data, ignore_index=True)\n",
      "/tmp/ipykernel_24298/253161635.py:30: FutureWarning: The frame.append method is deprecated and will be removed from pandas in a future version. Use pandas.concat instead.\n",
      "  new_df= new_df.append(data, ignore_index=True)\n",
      "/tmp/ipykernel_24298/253161635.py:30: FutureWarning: The frame.append method is deprecated and will be removed from pandas in a future version. Use pandas.concat instead.\n",
      "  new_df= new_df.append(data, ignore_index=True)\n",
      "/tmp/ipykernel_24298/253161635.py:30: FutureWarning: The frame.append method is deprecated and will be removed from pandas in a future version. Use pandas.concat instead.\n",
      "  new_df= new_df.append(data, ignore_index=True)\n"
     ]
    },
    {
     "name": "stdout",
     "output_type": "stream",
     "text": [
      "save image 359\n",
      "save image 360\n",
      "save image 361\n",
      "save image 362\n",
      "save image 363\n"
     ]
    },
    {
     "name": "stderr",
     "output_type": "stream",
     "text": [
      "/tmp/ipykernel_24298/253161635.py:30: FutureWarning: The frame.append method is deprecated and will be removed from pandas in a future version. Use pandas.concat instead.\n",
      "  new_df= new_df.append(data, ignore_index=True)\n",
      "/tmp/ipykernel_24298/253161635.py:30: FutureWarning: The frame.append method is deprecated and will be removed from pandas in a future version. Use pandas.concat instead.\n",
      "  new_df= new_df.append(data, ignore_index=True)\n",
      "/tmp/ipykernel_24298/253161635.py:30: FutureWarning: The frame.append method is deprecated and will be removed from pandas in a future version. Use pandas.concat instead.\n",
      "  new_df= new_df.append(data, ignore_index=True)\n",
      "/tmp/ipykernel_24298/253161635.py:30: FutureWarning: The frame.append method is deprecated and will be removed from pandas in a future version. Use pandas.concat instead.\n",
      "  new_df= new_df.append(data, ignore_index=True)\n",
      "/tmp/ipykernel_24298/253161635.py:30: FutureWarning: The frame.append method is deprecated and will be removed from pandas in a future version. Use pandas.concat instead.\n",
      "  new_df= new_df.append(data, ignore_index=True)\n"
     ]
    },
    {
     "name": "stdout",
     "output_type": "stream",
     "text": [
      "save image 364\n",
      "save image 365\n",
      "save image 366\n",
      "save image 367\n",
      "save image 368\n"
     ]
    },
    {
     "name": "stderr",
     "output_type": "stream",
     "text": [
      "/tmp/ipykernel_24298/253161635.py:30: FutureWarning: The frame.append method is deprecated and will be removed from pandas in a future version. Use pandas.concat instead.\n",
      "  new_df= new_df.append(data, ignore_index=True)\n",
      "/tmp/ipykernel_24298/253161635.py:30: FutureWarning: The frame.append method is deprecated and will be removed from pandas in a future version. Use pandas.concat instead.\n",
      "  new_df= new_df.append(data, ignore_index=True)\n",
      "/tmp/ipykernel_24298/253161635.py:30: FutureWarning: The frame.append method is deprecated and will be removed from pandas in a future version. Use pandas.concat instead.\n",
      "  new_df= new_df.append(data, ignore_index=True)\n",
      "/tmp/ipykernel_24298/253161635.py:30: FutureWarning: The frame.append method is deprecated and will be removed from pandas in a future version. Use pandas.concat instead.\n",
      "  new_df= new_df.append(data, ignore_index=True)\n"
     ]
    },
    {
     "name": "stdout",
     "output_type": "stream",
     "text": [
      "save image 369\n",
      "save image 370\n",
      "save image 371\n",
      "save image 372\n"
     ]
    },
    {
     "name": "stderr",
     "output_type": "stream",
     "text": [
      "/tmp/ipykernel_24298/253161635.py:30: FutureWarning: The frame.append method is deprecated and will be removed from pandas in a future version. Use pandas.concat instead.\n",
      "  new_df= new_df.append(data, ignore_index=True)\n",
      "/tmp/ipykernel_24298/253161635.py:30: FutureWarning: The frame.append method is deprecated and will be removed from pandas in a future version. Use pandas.concat instead.\n",
      "  new_df= new_df.append(data, ignore_index=True)\n",
      "/tmp/ipykernel_24298/253161635.py:30: FutureWarning: The frame.append method is deprecated and will be removed from pandas in a future version. Use pandas.concat instead.\n",
      "  new_df= new_df.append(data, ignore_index=True)\n",
      "/tmp/ipykernel_24298/253161635.py:30: FutureWarning: The frame.append method is deprecated and will be removed from pandas in a future version. Use pandas.concat instead.\n",
      "  new_df= new_df.append(data, ignore_index=True)\n",
      "/tmp/ipykernel_24298/253161635.py:30: FutureWarning: The frame.append method is deprecated and will be removed from pandas in a future version. Use pandas.concat instead.\n",
      "  new_df= new_df.append(data, ignore_index=True)\n",
      "/tmp/ipykernel_24298/253161635.py:30: FutureWarning: The frame.append method is deprecated and will be removed from pandas in a future version. Use pandas.concat instead.\n",
      "  new_df= new_df.append(data, ignore_index=True)\n"
     ]
    },
    {
     "name": "stdout",
     "output_type": "stream",
     "text": [
      "save image 373\n",
      "save image 374\n",
      "save image 375\n",
      "save image 376\n",
      "save image 377\n",
      "save image 378\n"
     ]
    },
    {
     "name": "stderr",
     "output_type": "stream",
     "text": [
      "/tmp/ipykernel_24298/253161635.py:30: FutureWarning: The frame.append method is deprecated and will be removed from pandas in a future version. Use pandas.concat instead.\n",
      "  new_df= new_df.append(data, ignore_index=True)\n",
      "/tmp/ipykernel_24298/253161635.py:30: FutureWarning: The frame.append method is deprecated and will be removed from pandas in a future version. Use pandas.concat instead.\n",
      "  new_df= new_df.append(data, ignore_index=True)\n",
      "/tmp/ipykernel_24298/253161635.py:30: FutureWarning: The frame.append method is deprecated and will be removed from pandas in a future version. Use pandas.concat instead.\n",
      "  new_df= new_df.append(data, ignore_index=True)\n",
      "/tmp/ipykernel_24298/253161635.py:30: FutureWarning: The frame.append method is deprecated and will be removed from pandas in a future version. Use pandas.concat instead.\n",
      "  new_df= new_df.append(data, ignore_index=True)\n",
      "/tmp/ipykernel_24298/253161635.py:30: FutureWarning: The frame.append method is deprecated and will be removed from pandas in a future version. Use pandas.concat instead.\n",
      "  new_df= new_df.append(data, ignore_index=True)\n",
      "/tmp/ipykernel_24298/253161635.py:30: FutureWarning: The frame.append method is deprecated and will be removed from pandas in a future version. Use pandas.concat instead.\n",
      "  new_df= new_df.append(data, ignore_index=True)\n"
     ]
    },
    {
     "name": "stdout",
     "output_type": "stream",
     "text": [
      "save image 379\n",
      "save image 380\n",
      "save image 381\n",
      "save image 382\n",
      "save image 383\n",
      "save image 384\n"
     ]
    },
    {
     "name": "stderr",
     "output_type": "stream",
     "text": [
      "/tmp/ipykernel_24298/253161635.py:30: FutureWarning: The frame.append method is deprecated and will be removed from pandas in a future version. Use pandas.concat instead.\n",
      "  new_df= new_df.append(data, ignore_index=True)\n",
      "/tmp/ipykernel_24298/253161635.py:30: FutureWarning: The frame.append method is deprecated and will be removed from pandas in a future version. Use pandas.concat instead.\n",
      "  new_df= new_df.append(data, ignore_index=True)\n",
      "/tmp/ipykernel_24298/253161635.py:30: FutureWarning: The frame.append method is deprecated and will be removed from pandas in a future version. Use pandas.concat instead.\n",
      "  new_df= new_df.append(data, ignore_index=True)\n",
      "/tmp/ipykernel_24298/253161635.py:30: FutureWarning: The frame.append method is deprecated and will be removed from pandas in a future version. Use pandas.concat instead.\n",
      "  new_df= new_df.append(data, ignore_index=True)\n",
      "/tmp/ipykernel_24298/253161635.py:30: FutureWarning: The frame.append method is deprecated and will be removed from pandas in a future version. Use pandas.concat instead.\n",
      "  new_df= new_df.append(data, ignore_index=True)\n"
     ]
    },
    {
     "name": "stdout",
     "output_type": "stream",
     "text": [
      "save image 385\n",
      "save image 386\n",
      "save image 387\n",
      "save image 388\n",
      "save image 389\n"
     ]
    },
    {
     "name": "stderr",
     "output_type": "stream",
     "text": [
      "/tmp/ipykernel_24298/253161635.py:30: FutureWarning: The frame.append method is deprecated and will be removed from pandas in a future version. Use pandas.concat instead.\n",
      "  new_df= new_df.append(data, ignore_index=True)\n",
      "/tmp/ipykernel_24298/253161635.py:30: FutureWarning: The frame.append method is deprecated and will be removed from pandas in a future version. Use pandas.concat instead.\n",
      "  new_df= new_df.append(data, ignore_index=True)\n",
      "/tmp/ipykernel_24298/253161635.py:30: FutureWarning: The frame.append method is deprecated and will be removed from pandas in a future version. Use pandas.concat instead.\n",
      "  new_df= new_df.append(data, ignore_index=True)\n",
      "/tmp/ipykernel_24298/253161635.py:30: FutureWarning: The frame.append method is deprecated and will be removed from pandas in a future version. Use pandas.concat instead.\n",
      "  new_df= new_df.append(data, ignore_index=True)\n",
      "/tmp/ipykernel_24298/253161635.py:30: FutureWarning: The frame.append method is deprecated and will be removed from pandas in a future version. Use pandas.concat instead.\n",
      "  new_df= new_df.append(data, ignore_index=True)\n",
      "/tmp/ipykernel_24298/253161635.py:30: FutureWarning: The frame.append method is deprecated and will be removed from pandas in a future version. Use pandas.concat instead.\n",
      "  new_df= new_df.append(data, ignore_index=True)\n"
     ]
    },
    {
     "name": "stdout",
     "output_type": "stream",
     "text": [
      "save image 390\n",
      "save image 391\n",
      "save image 392\n",
      "save image 393\n",
      "save image 394\n",
      "save image 395\n"
     ]
    },
    {
     "name": "stderr",
     "output_type": "stream",
     "text": [
      "/tmp/ipykernel_24298/253161635.py:30: FutureWarning: The frame.append method is deprecated and will be removed from pandas in a future version. Use pandas.concat instead.\n",
      "  new_df= new_df.append(data, ignore_index=True)\n",
      "/tmp/ipykernel_24298/253161635.py:30: FutureWarning: The frame.append method is deprecated and will be removed from pandas in a future version. Use pandas.concat instead.\n",
      "  new_df= new_df.append(data, ignore_index=True)\n",
      "/tmp/ipykernel_24298/253161635.py:30: FutureWarning: The frame.append method is deprecated and will be removed from pandas in a future version. Use pandas.concat instead.\n",
      "  new_df= new_df.append(data, ignore_index=True)\n",
      "/tmp/ipykernel_24298/253161635.py:30: FutureWarning: The frame.append method is deprecated and will be removed from pandas in a future version. Use pandas.concat instead.\n",
      "  new_df= new_df.append(data, ignore_index=True)\n",
      "/tmp/ipykernel_24298/253161635.py:30: FutureWarning: The frame.append method is deprecated and will be removed from pandas in a future version. Use pandas.concat instead.\n",
      "  new_df= new_df.append(data, ignore_index=True)\n",
      "/tmp/ipykernel_24298/253161635.py:30: FutureWarning: The frame.append method is deprecated and will be removed from pandas in a future version. Use pandas.concat instead.\n",
      "  new_df= new_df.append(data, ignore_index=True)\n"
     ]
    },
    {
     "name": "stdout",
     "output_type": "stream",
     "text": [
      "save image 396\n",
      "save image 397\n",
      "save image 398\n",
      "save image 399\n",
      "save image 400\n",
      "save image 401\n"
     ]
    },
    {
     "name": "stderr",
     "output_type": "stream",
     "text": [
      "/tmp/ipykernel_24298/253161635.py:30: FutureWarning: The frame.append method is deprecated and will be removed from pandas in a future version. Use pandas.concat instead.\n",
      "  new_df= new_df.append(data, ignore_index=True)\n",
      "/tmp/ipykernel_24298/253161635.py:30: FutureWarning: The frame.append method is deprecated and will be removed from pandas in a future version. Use pandas.concat instead.\n",
      "  new_df= new_df.append(data, ignore_index=True)\n",
      "/tmp/ipykernel_24298/253161635.py:30: FutureWarning: The frame.append method is deprecated and will be removed from pandas in a future version. Use pandas.concat instead.\n",
      "  new_df= new_df.append(data, ignore_index=True)\n",
      "/tmp/ipykernel_24298/253161635.py:30: FutureWarning: The frame.append method is deprecated and will be removed from pandas in a future version. Use pandas.concat instead.\n",
      "  new_df= new_df.append(data, ignore_index=True)\n"
     ]
    },
    {
     "name": "stdout",
     "output_type": "stream",
     "text": [
      "save image 402\n",
      "save image 403\n",
      "save image 404\n",
      "save image 405\n"
     ]
    },
    {
     "name": "stderr",
     "output_type": "stream",
     "text": [
      "/tmp/ipykernel_24298/253161635.py:30: FutureWarning: The frame.append method is deprecated and will be removed from pandas in a future version. Use pandas.concat instead.\n",
      "  new_df= new_df.append(data, ignore_index=True)\n",
      "/tmp/ipykernel_24298/253161635.py:30: FutureWarning: The frame.append method is deprecated and will be removed from pandas in a future version. Use pandas.concat instead.\n",
      "  new_df= new_df.append(data, ignore_index=True)\n",
      "/tmp/ipykernel_24298/253161635.py:30: FutureWarning: The frame.append method is deprecated and will be removed from pandas in a future version. Use pandas.concat instead.\n",
      "  new_df= new_df.append(data, ignore_index=True)\n",
      "/tmp/ipykernel_24298/253161635.py:30: FutureWarning: The frame.append method is deprecated and will be removed from pandas in a future version. Use pandas.concat instead.\n",
      "  new_df= new_df.append(data, ignore_index=True)\n",
      "/tmp/ipykernel_24298/253161635.py:30: FutureWarning: The frame.append method is deprecated and will be removed from pandas in a future version. Use pandas.concat instead.\n",
      "  new_df= new_df.append(data, ignore_index=True)\n"
     ]
    },
    {
     "name": "stdout",
     "output_type": "stream",
     "text": [
      "save image 406\n",
      "save image 407\n",
      "save image 408\n",
      "save image 409\n",
      "save image 410\n"
     ]
    },
    {
     "name": "stderr",
     "output_type": "stream",
     "text": [
      "/tmp/ipykernel_24298/253161635.py:30: FutureWarning: The frame.append method is deprecated and will be removed from pandas in a future version. Use pandas.concat instead.\n",
      "  new_df= new_df.append(data, ignore_index=True)\n",
      "/tmp/ipykernel_24298/253161635.py:30: FutureWarning: The frame.append method is deprecated and will be removed from pandas in a future version. Use pandas.concat instead.\n",
      "  new_df= new_df.append(data, ignore_index=True)\n",
      "/tmp/ipykernel_24298/253161635.py:30: FutureWarning: The frame.append method is deprecated and will be removed from pandas in a future version. Use pandas.concat instead.\n",
      "  new_df= new_df.append(data, ignore_index=True)\n",
      "/tmp/ipykernel_24298/253161635.py:30: FutureWarning: The frame.append method is deprecated and will be removed from pandas in a future version. Use pandas.concat instead.\n",
      "  new_df= new_df.append(data, ignore_index=True)\n",
      "/tmp/ipykernel_24298/253161635.py:30: FutureWarning: The frame.append method is deprecated and will be removed from pandas in a future version. Use pandas.concat instead.\n",
      "  new_df= new_df.append(data, ignore_index=True)\n",
      "/tmp/ipykernel_24298/253161635.py:30: FutureWarning: The frame.append method is deprecated and will be removed from pandas in a future version. Use pandas.concat instead.\n",
      "  new_df= new_df.append(data, ignore_index=True)\n"
     ]
    },
    {
     "name": "stdout",
     "output_type": "stream",
     "text": [
      "save image 411\n",
      "save image 412\n",
      "save image 413\n",
      "save image 414\n",
      "save image 415\n",
      "save image 416\n"
     ]
    },
    {
     "name": "stderr",
     "output_type": "stream",
     "text": [
      "/tmp/ipykernel_24298/253161635.py:30: FutureWarning: The frame.append method is deprecated and will be removed from pandas in a future version. Use pandas.concat instead.\n",
      "  new_df= new_df.append(data, ignore_index=True)\n",
      "/tmp/ipykernel_24298/253161635.py:30: FutureWarning: The frame.append method is deprecated and will be removed from pandas in a future version. Use pandas.concat instead.\n",
      "  new_df= new_df.append(data, ignore_index=True)\n",
      "/tmp/ipykernel_24298/253161635.py:30: FutureWarning: The frame.append method is deprecated and will be removed from pandas in a future version. Use pandas.concat instead.\n",
      "  new_df= new_df.append(data, ignore_index=True)\n",
      "/tmp/ipykernel_24298/253161635.py:30: FutureWarning: The frame.append method is deprecated and will be removed from pandas in a future version. Use pandas.concat instead.\n",
      "  new_df= new_df.append(data, ignore_index=True)\n"
     ]
    },
    {
     "name": "stdout",
     "output_type": "stream",
     "text": [
      "save image 417\n",
      "save image 418\n",
      "save image 419\n",
      "save image 420\n"
     ]
    },
    {
     "name": "stderr",
     "output_type": "stream",
     "text": [
      "/tmp/ipykernel_24298/253161635.py:30: FutureWarning: The frame.append method is deprecated and will be removed from pandas in a future version. Use pandas.concat instead.\n",
      "  new_df= new_df.append(data, ignore_index=True)\n",
      "/tmp/ipykernel_24298/253161635.py:30: FutureWarning: The frame.append method is deprecated and will be removed from pandas in a future version. Use pandas.concat instead.\n",
      "  new_df= new_df.append(data, ignore_index=True)\n",
      "/tmp/ipykernel_24298/253161635.py:30: FutureWarning: The frame.append method is deprecated and will be removed from pandas in a future version. Use pandas.concat instead.\n",
      "  new_df= new_df.append(data, ignore_index=True)\n",
      "/tmp/ipykernel_24298/253161635.py:30: FutureWarning: The frame.append method is deprecated and will be removed from pandas in a future version. Use pandas.concat instead.\n",
      "  new_df= new_df.append(data, ignore_index=True)\n",
      "/tmp/ipykernel_24298/253161635.py:30: FutureWarning: The frame.append method is deprecated and will be removed from pandas in a future version. Use pandas.concat instead.\n",
      "  new_df= new_df.append(data, ignore_index=True)\n"
     ]
    },
    {
     "name": "stdout",
     "output_type": "stream",
     "text": [
      "save image 421\n",
      "save image 422\n",
      "save image 423\n",
      "save image 424\n",
      "save image 425\n"
     ]
    },
    {
     "name": "stderr",
     "output_type": "stream",
     "text": [
      "/tmp/ipykernel_24298/253161635.py:30: FutureWarning: The frame.append method is deprecated and will be removed from pandas in a future version. Use pandas.concat instead.\n",
      "  new_df= new_df.append(data, ignore_index=True)\n",
      "/tmp/ipykernel_24298/253161635.py:30: FutureWarning: The frame.append method is deprecated and will be removed from pandas in a future version. Use pandas.concat instead.\n",
      "  new_df= new_df.append(data, ignore_index=True)\n",
      "/tmp/ipykernel_24298/253161635.py:30: FutureWarning: The frame.append method is deprecated and will be removed from pandas in a future version. Use pandas.concat instead.\n",
      "  new_df= new_df.append(data, ignore_index=True)\n",
      "/tmp/ipykernel_24298/253161635.py:30: FutureWarning: The frame.append method is deprecated and will be removed from pandas in a future version. Use pandas.concat instead.\n",
      "  new_df= new_df.append(data, ignore_index=True)\n",
      "/tmp/ipykernel_24298/253161635.py:30: FutureWarning: The frame.append method is deprecated and will be removed from pandas in a future version. Use pandas.concat instead.\n",
      "  new_df= new_df.append(data, ignore_index=True)\n"
     ]
    },
    {
     "name": "stdout",
     "output_type": "stream",
     "text": [
      "save image 426\n",
      "save image 427\n",
      "save image 428\n",
      "save image 429\n",
      "save image 430\n"
     ]
    },
    {
     "name": "stderr",
     "output_type": "stream",
     "text": [
      "/tmp/ipykernel_24298/253161635.py:30: FutureWarning: The frame.append method is deprecated and will be removed from pandas in a future version. Use pandas.concat instead.\n",
      "  new_df= new_df.append(data, ignore_index=True)\n",
      "/tmp/ipykernel_24298/253161635.py:30: FutureWarning: The frame.append method is deprecated and will be removed from pandas in a future version. Use pandas.concat instead.\n",
      "  new_df= new_df.append(data, ignore_index=True)\n",
      "/tmp/ipykernel_24298/253161635.py:30: FutureWarning: The frame.append method is deprecated and will be removed from pandas in a future version. Use pandas.concat instead.\n",
      "  new_df= new_df.append(data, ignore_index=True)\n",
      "/tmp/ipykernel_24298/253161635.py:30: FutureWarning: The frame.append method is deprecated and will be removed from pandas in a future version. Use pandas.concat instead.\n",
      "  new_df= new_df.append(data, ignore_index=True)\n"
     ]
    },
    {
     "name": "stdout",
     "output_type": "stream",
     "text": [
      "save image 431\n",
      "save image 432\n",
      "save image 433\n",
      "save image 434\n"
     ]
    },
    {
     "name": "stderr",
     "output_type": "stream",
     "text": [
      "/tmp/ipykernel_24298/253161635.py:30: FutureWarning: The frame.append method is deprecated and will be removed from pandas in a future version. Use pandas.concat instead.\n",
      "  new_df= new_df.append(data, ignore_index=True)\n",
      "/tmp/ipykernel_24298/253161635.py:30: FutureWarning: The frame.append method is deprecated and will be removed from pandas in a future version. Use pandas.concat instead.\n",
      "  new_df= new_df.append(data, ignore_index=True)\n",
      "/tmp/ipykernel_24298/253161635.py:30: FutureWarning: The frame.append method is deprecated and will be removed from pandas in a future version. Use pandas.concat instead.\n",
      "  new_df= new_df.append(data, ignore_index=True)\n",
      "/tmp/ipykernel_24298/253161635.py:30: FutureWarning: The frame.append method is deprecated and will be removed from pandas in a future version. Use pandas.concat instead.\n",
      "  new_df= new_df.append(data, ignore_index=True)\n",
      "/tmp/ipykernel_24298/253161635.py:30: FutureWarning: The frame.append method is deprecated and will be removed from pandas in a future version. Use pandas.concat instead.\n",
      "  new_df= new_df.append(data, ignore_index=True)\n"
     ]
    },
    {
     "name": "stdout",
     "output_type": "stream",
     "text": [
      "save image 435\n",
      "save image 436\n",
      "save image 437\n",
      "save image 438\n",
      "save image 439\n"
     ]
    },
    {
     "name": "stderr",
     "output_type": "stream",
     "text": [
      "/tmp/ipykernel_24298/253161635.py:30: FutureWarning: The frame.append method is deprecated and will be removed from pandas in a future version. Use pandas.concat instead.\n",
      "  new_df= new_df.append(data, ignore_index=True)\n",
      "/tmp/ipykernel_24298/253161635.py:30: FutureWarning: The frame.append method is deprecated and will be removed from pandas in a future version. Use pandas.concat instead.\n",
      "  new_df= new_df.append(data, ignore_index=True)\n",
      "/tmp/ipykernel_24298/253161635.py:30: FutureWarning: The frame.append method is deprecated and will be removed from pandas in a future version. Use pandas.concat instead.\n",
      "  new_df= new_df.append(data, ignore_index=True)\n",
      "/tmp/ipykernel_24298/253161635.py:30: FutureWarning: The frame.append method is deprecated and will be removed from pandas in a future version. Use pandas.concat instead.\n",
      "  new_df= new_df.append(data, ignore_index=True)\n"
     ]
    },
    {
     "name": "stdout",
     "output_type": "stream",
     "text": [
      "save image 440\n",
      "save image 441\n",
      "save image 442\n",
      "save image 443\n"
     ]
    },
    {
     "name": "stderr",
     "output_type": "stream",
     "text": [
      "/tmp/ipykernel_24298/253161635.py:30: FutureWarning: The frame.append method is deprecated and will be removed from pandas in a future version. Use pandas.concat instead.\n",
      "  new_df= new_df.append(data, ignore_index=True)\n",
      "/tmp/ipykernel_24298/253161635.py:30: FutureWarning: The frame.append method is deprecated and will be removed from pandas in a future version. Use pandas.concat instead.\n",
      "  new_df= new_df.append(data, ignore_index=True)\n",
      "/tmp/ipykernel_24298/253161635.py:30: FutureWarning: The frame.append method is deprecated and will be removed from pandas in a future version. Use pandas.concat instead.\n",
      "  new_df= new_df.append(data, ignore_index=True)\n",
      "/tmp/ipykernel_24298/253161635.py:30: FutureWarning: The frame.append method is deprecated and will be removed from pandas in a future version. Use pandas.concat instead.\n",
      "  new_df= new_df.append(data, ignore_index=True)\n",
      "/tmp/ipykernel_24298/253161635.py:30: FutureWarning: The frame.append method is deprecated and will be removed from pandas in a future version. Use pandas.concat instead.\n",
      "  new_df= new_df.append(data, ignore_index=True)\n"
     ]
    },
    {
     "name": "stdout",
     "output_type": "stream",
     "text": [
      "save image 444\n",
      "save image 445\n",
      "save image 446\n",
      "save image 447\n",
      "save image 448\n"
     ]
    },
    {
     "name": "stderr",
     "output_type": "stream",
     "text": [
      "/tmp/ipykernel_24298/253161635.py:30: FutureWarning: The frame.append method is deprecated and will be removed from pandas in a future version. Use pandas.concat instead.\n",
      "  new_df= new_df.append(data, ignore_index=True)\n",
      "/tmp/ipykernel_24298/253161635.py:30: FutureWarning: The frame.append method is deprecated and will be removed from pandas in a future version. Use pandas.concat instead.\n",
      "  new_df= new_df.append(data, ignore_index=True)\n",
      "/tmp/ipykernel_24298/253161635.py:30: FutureWarning: The frame.append method is deprecated and will be removed from pandas in a future version. Use pandas.concat instead.\n",
      "  new_df= new_df.append(data, ignore_index=True)\n",
      "/tmp/ipykernel_24298/253161635.py:30: FutureWarning: The frame.append method is deprecated and will be removed from pandas in a future version. Use pandas.concat instead.\n",
      "  new_df= new_df.append(data, ignore_index=True)\n"
     ]
    },
    {
     "name": "stdout",
     "output_type": "stream",
     "text": [
      "save image 449\n",
      "save image 450\n",
      "save image 451\n",
      "save image 452\n"
     ]
    },
    {
     "name": "stderr",
     "output_type": "stream",
     "text": [
      "/tmp/ipykernel_24298/253161635.py:30: FutureWarning: The frame.append method is deprecated and will be removed from pandas in a future version. Use pandas.concat instead.\n",
      "  new_df= new_df.append(data, ignore_index=True)\n",
      "/tmp/ipykernel_24298/253161635.py:30: FutureWarning: The frame.append method is deprecated and will be removed from pandas in a future version. Use pandas.concat instead.\n",
      "  new_df= new_df.append(data, ignore_index=True)\n",
      "/tmp/ipykernel_24298/253161635.py:30: FutureWarning: The frame.append method is deprecated and will be removed from pandas in a future version. Use pandas.concat instead.\n",
      "  new_df= new_df.append(data, ignore_index=True)\n",
      "/tmp/ipykernel_24298/253161635.py:30: FutureWarning: The frame.append method is deprecated and will be removed from pandas in a future version. Use pandas.concat instead.\n",
      "  new_df= new_df.append(data, ignore_index=True)\n"
     ]
    },
    {
     "name": "stdout",
     "output_type": "stream",
     "text": [
      "save image 453\n",
      "save image 454\n",
      "save image 455\n",
      "save image 456\n"
     ]
    },
    {
     "name": "stderr",
     "output_type": "stream",
     "text": [
      "/tmp/ipykernel_24298/253161635.py:30: FutureWarning: The frame.append method is deprecated and will be removed from pandas in a future version. Use pandas.concat instead.\n",
      "  new_df= new_df.append(data, ignore_index=True)\n",
      "/tmp/ipykernel_24298/253161635.py:30: FutureWarning: The frame.append method is deprecated and will be removed from pandas in a future version. Use pandas.concat instead.\n",
      "  new_df= new_df.append(data, ignore_index=True)\n",
      "/tmp/ipykernel_24298/253161635.py:30: FutureWarning: The frame.append method is deprecated and will be removed from pandas in a future version. Use pandas.concat instead.\n",
      "  new_df= new_df.append(data, ignore_index=True)\n",
      "/tmp/ipykernel_24298/253161635.py:30: FutureWarning: The frame.append method is deprecated and will be removed from pandas in a future version. Use pandas.concat instead.\n",
      "  new_df= new_df.append(data, ignore_index=True)\n",
      "/tmp/ipykernel_24298/253161635.py:30: FutureWarning: The frame.append method is deprecated and will be removed from pandas in a future version. Use pandas.concat instead.\n",
      "  new_df= new_df.append(data, ignore_index=True)\n"
     ]
    },
    {
     "name": "stdout",
     "output_type": "stream",
     "text": [
      "save image 457\n",
      "save image 458\n",
      "save image 459\n",
      "save image 460\n",
      "save image 461\n"
     ]
    },
    {
     "name": "stderr",
     "output_type": "stream",
     "text": [
      "/tmp/ipykernel_24298/253161635.py:30: FutureWarning: The frame.append method is deprecated and will be removed from pandas in a future version. Use pandas.concat instead.\n",
      "  new_df= new_df.append(data, ignore_index=True)\n",
      "/tmp/ipykernel_24298/253161635.py:30: FutureWarning: The frame.append method is deprecated and will be removed from pandas in a future version. Use pandas.concat instead.\n",
      "  new_df= new_df.append(data, ignore_index=True)\n",
      "/tmp/ipykernel_24298/253161635.py:30: FutureWarning: The frame.append method is deprecated and will be removed from pandas in a future version. Use pandas.concat instead.\n",
      "  new_df= new_df.append(data, ignore_index=True)\n",
      "/tmp/ipykernel_24298/253161635.py:30: FutureWarning: The frame.append method is deprecated and will be removed from pandas in a future version. Use pandas.concat instead.\n",
      "  new_df= new_df.append(data, ignore_index=True)\n"
     ]
    },
    {
     "name": "stdout",
     "output_type": "stream",
     "text": [
      "save image 462\n",
      "save image 463\n",
      "save image 464\n",
      "save image 465\n"
     ]
    },
    {
     "name": "stderr",
     "output_type": "stream",
     "text": [
      "/tmp/ipykernel_24298/253161635.py:30: FutureWarning: The frame.append method is deprecated and will be removed from pandas in a future version. Use pandas.concat instead.\n",
      "  new_df= new_df.append(data, ignore_index=True)\n",
      "/tmp/ipykernel_24298/253161635.py:30: FutureWarning: The frame.append method is deprecated and will be removed from pandas in a future version. Use pandas.concat instead.\n",
      "  new_df= new_df.append(data, ignore_index=True)\n",
      "/tmp/ipykernel_24298/253161635.py:30: FutureWarning: The frame.append method is deprecated and will be removed from pandas in a future version. Use pandas.concat instead.\n",
      "  new_df= new_df.append(data, ignore_index=True)\n",
      "/tmp/ipykernel_24298/253161635.py:30: FutureWarning: The frame.append method is deprecated and will be removed from pandas in a future version. Use pandas.concat instead.\n",
      "  new_df= new_df.append(data, ignore_index=True)\n"
     ]
    },
    {
     "name": "stdout",
     "output_type": "stream",
     "text": [
      "save image 466\n",
      "save image 467\n",
      "save image 468\n",
      "save image 469\n"
     ]
    },
    {
     "name": "stderr",
     "output_type": "stream",
     "text": [
      "/tmp/ipykernel_24298/253161635.py:30: FutureWarning: The frame.append method is deprecated and will be removed from pandas in a future version. Use pandas.concat instead.\n",
      "  new_df= new_df.append(data, ignore_index=True)\n",
      "/tmp/ipykernel_24298/253161635.py:30: FutureWarning: The frame.append method is deprecated and will be removed from pandas in a future version. Use pandas.concat instead.\n",
      "  new_df= new_df.append(data, ignore_index=True)\n",
      "/tmp/ipykernel_24298/253161635.py:30: FutureWarning: The frame.append method is deprecated and will be removed from pandas in a future version. Use pandas.concat instead.\n",
      "  new_df= new_df.append(data, ignore_index=True)\n",
      "/tmp/ipykernel_24298/253161635.py:30: FutureWarning: The frame.append method is deprecated and will be removed from pandas in a future version. Use pandas.concat instead.\n",
      "  new_df= new_df.append(data, ignore_index=True)\n",
      "/tmp/ipykernel_24298/253161635.py:30: FutureWarning: The frame.append method is deprecated and will be removed from pandas in a future version. Use pandas.concat instead.\n",
      "  new_df= new_df.append(data, ignore_index=True)\n"
     ]
    },
    {
     "name": "stdout",
     "output_type": "stream",
     "text": [
      "save image 470\n",
      "save image 471\n",
      "save image 472\n",
      "save image 473\n",
      "save image 474\n"
     ]
    },
    {
     "name": "stderr",
     "output_type": "stream",
     "text": [
      "/tmp/ipykernel_24298/253161635.py:30: FutureWarning: The frame.append method is deprecated and will be removed from pandas in a future version. Use pandas.concat instead.\n",
      "  new_df= new_df.append(data, ignore_index=True)\n",
      "/tmp/ipykernel_24298/253161635.py:30: FutureWarning: The frame.append method is deprecated and will be removed from pandas in a future version. Use pandas.concat instead.\n",
      "  new_df= new_df.append(data, ignore_index=True)\n",
      "/tmp/ipykernel_24298/253161635.py:30: FutureWarning: The frame.append method is deprecated and will be removed from pandas in a future version. Use pandas.concat instead.\n",
      "  new_df= new_df.append(data, ignore_index=True)\n",
      "/tmp/ipykernel_24298/253161635.py:30: FutureWarning: The frame.append method is deprecated and will be removed from pandas in a future version. Use pandas.concat instead.\n",
      "  new_df= new_df.append(data, ignore_index=True)\n",
      "/tmp/ipykernel_24298/253161635.py:30: FutureWarning: The frame.append method is deprecated and will be removed from pandas in a future version. Use pandas.concat instead.\n",
      "  new_df= new_df.append(data, ignore_index=True)\n"
     ]
    },
    {
     "name": "stdout",
     "output_type": "stream",
     "text": [
      "save image 475\n",
      "save image 476\n",
      "save image 477\n",
      "save image 478\n",
      "save image 479\n"
     ]
    },
    {
     "name": "stderr",
     "output_type": "stream",
     "text": [
      "/tmp/ipykernel_24298/253161635.py:30: FutureWarning: The frame.append method is deprecated and will be removed from pandas in a future version. Use pandas.concat instead.\n",
      "  new_df= new_df.append(data, ignore_index=True)\n",
      "/tmp/ipykernel_24298/253161635.py:30: FutureWarning: The frame.append method is deprecated and will be removed from pandas in a future version. Use pandas.concat instead.\n",
      "  new_df= new_df.append(data, ignore_index=True)\n",
      "/tmp/ipykernel_24298/253161635.py:30: FutureWarning: The frame.append method is deprecated and will be removed from pandas in a future version. Use pandas.concat instead.\n",
      "  new_df= new_df.append(data, ignore_index=True)\n",
      "/tmp/ipykernel_24298/253161635.py:30: FutureWarning: The frame.append method is deprecated and will be removed from pandas in a future version. Use pandas.concat instead.\n",
      "  new_df= new_df.append(data, ignore_index=True)\n"
     ]
    },
    {
     "name": "stdout",
     "output_type": "stream",
     "text": [
      "save image 480\n",
      "save image 481\n",
      "save image 482\n",
      "save image 483\n"
     ]
    },
    {
     "name": "stderr",
     "output_type": "stream",
     "text": [
      "/tmp/ipykernel_24298/253161635.py:30: FutureWarning: The frame.append method is deprecated and will be removed from pandas in a future version. Use pandas.concat instead.\n",
      "  new_df= new_df.append(data, ignore_index=True)\n",
      "/tmp/ipykernel_24298/253161635.py:30: FutureWarning: The frame.append method is deprecated and will be removed from pandas in a future version. Use pandas.concat instead.\n",
      "  new_df= new_df.append(data, ignore_index=True)\n",
      "/tmp/ipykernel_24298/253161635.py:30: FutureWarning: The frame.append method is deprecated and will be removed from pandas in a future version. Use pandas.concat instead.\n",
      "  new_df= new_df.append(data, ignore_index=True)\n",
      "/tmp/ipykernel_24298/253161635.py:30: FutureWarning: The frame.append method is deprecated and will be removed from pandas in a future version. Use pandas.concat instead.\n",
      "  new_df= new_df.append(data, ignore_index=True)\n"
     ]
    },
    {
     "name": "stdout",
     "output_type": "stream",
     "text": [
      "save image 484\n",
      "save image 485\n",
      "save image 486\n",
      "save image 487\n"
     ]
    },
    {
     "name": "stderr",
     "output_type": "stream",
     "text": [
      "/tmp/ipykernel_24298/253161635.py:30: FutureWarning: The frame.append method is deprecated and will be removed from pandas in a future version. Use pandas.concat instead.\n",
      "  new_df= new_df.append(data, ignore_index=True)\n",
      "/tmp/ipykernel_24298/253161635.py:30: FutureWarning: The frame.append method is deprecated and will be removed from pandas in a future version. Use pandas.concat instead.\n",
      "  new_df= new_df.append(data, ignore_index=True)\n",
      "/tmp/ipykernel_24298/253161635.py:30: FutureWarning: The frame.append method is deprecated and will be removed from pandas in a future version. Use pandas.concat instead.\n",
      "  new_df= new_df.append(data, ignore_index=True)\n",
      "/tmp/ipykernel_24298/253161635.py:30: FutureWarning: The frame.append method is deprecated and will be removed from pandas in a future version. Use pandas.concat instead.\n",
      "  new_df= new_df.append(data, ignore_index=True)\n",
      "/tmp/ipykernel_24298/253161635.py:30: FutureWarning: The frame.append method is deprecated and will be removed from pandas in a future version. Use pandas.concat instead.\n",
      "  new_df= new_df.append(data, ignore_index=True)\n"
     ]
    },
    {
     "name": "stdout",
     "output_type": "stream",
     "text": [
      "save image 488\n",
      "save image 489\n",
      "save image 490\n",
      "save image 491\n",
      "save image 492\n"
     ]
    },
    {
     "name": "stderr",
     "output_type": "stream",
     "text": [
      "/tmp/ipykernel_24298/253161635.py:30: FutureWarning: The frame.append method is deprecated and will be removed from pandas in a future version. Use pandas.concat instead.\n",
      "  new_df= new_df.append(data, ignore_index=True)\n",
      "/tmp/ipykernel_24298/253161635.py:30: FutureWarning: The frame.append method is deprecated and will be removed from pandas in a future version. Use pandas.concat instead.\n",
      "  new_df= new_df.append(data, ignore_index=True)\n",
      "/tmp/ipykernel_24298/253161635.py:30: FutureWarning: The frame.append method is deprecated and will be removed from pandas in a future version. Use pandas.concat instead.\n",
      "  new_df= new_df.append(data, ignore_index=True)\n",
      "/tmp/ipykernel_24298/253161635.py:30: FutureWarning: The frame.append method is deprecated and will be removed from pandas in a future version. Use pandas.concat instead.\n",
      "  new_df= new_df.append(data, ignore_index=True)\n",
      "/tmp/ipykernel_24298/253161635.py:30: FutureWarning: The frame.append method is deprecated and will be removed from pandas in a future version. Use pandas.concat instead.\n",
      "  new_df= new_df.append(data, ignore_index=True)\n"
     ]
    },
    {
     "name": "stdout",
     "output_type": "stream",
     "text": [
      "save image 493\n",
      "save image 494\n",
      "save image 495\n",
      "save image 496\n",
      "save image 497\n"
     ]
    },
    {
     "name": "stderr",
     "output_type": "stream",
     "text": [
      "/tmp/ipykernel_24298/253161635.py:30: FutureWarning: The frame.append method is deprecated and will be removed from pandas in a future version. Use pandas.concat instead.\n",
      "  new_df= new_df.append(data, ignore_index=True)\n",
      "/tmp/ipykernel_24298/253161635.py:30: FutureWarning: The frame.append method is deprecated and will be removed from pandas in a future version. Use pandas.concat instead.\n",
      "  new_df= new_df.append(data, ignore_index=True)\n",
      "/tmp/ipykernel_24298/253161635.py:30: FutureWarning: The frame.append method is deprecated and will be removed from pandas in a future version. Use pandas.concat instead.\n",
      "  new_df= new_df.append(data, ignore_index=True)\n",
      "/tmp/ipykernel_24298/253161635.py:30: FutureWarning: The frame.append method is deprecated and will be removed from pandas in a future version. Use pandas.concat instead.\n",
      "  new_df= new_df.append(data, ignore_index=True)\n",
      "/tmp/ipykernel_24298/253161635.py:30: FutureWarning: The frame.append method is deprecated and will be removed from pandas in a future version. Use pandas.concat instead.\n",
      "  new_df= new_df.append(data, ignore_index=True)\n"
     ]
    },
    {
     "name": "stdout",
     "output_type": "stream",
     "text": [
      "save image 498\n",
      "save image 499\n",
      "save image 500\n",
      "save image 501\n",
      "save image 502\n"
     ]
    },
    {
     "name": "stderr",
     "output_type": "stream",
     "text": [
      "/tmp/ipykernel_24298/253161635.py:30: FutureWarning: The frame.append method is deprecated and will be removed from pandas in a future version. Use pandas.concat instead.\n",
      "  new_df= new_df.append(data, ignore_index=True)\n",
      "/tmp/ipykernel_24298/253161635.py:30: FutureWarning: The frame.append method is deprecated and will be removed from pandas in a future version. Use pandas.concat instead.\n",
      "  new_df= new_df.append(data, ignore_index=True)\n",
      "/tmp/ipykernel_24298/253161635.py:30: FutureWarning: The frame.append method is deprecated and will be removed from pandas in a future version. Use pandas.concat instead.\n",
      "  new_df= new_df.append(data, ignore_index=True)\n",
      "/tmp/ipykernel_24298/253161635.py:30: FutureWarning: The frame.append method is deprecated and will be removed from pandas in a future version. Use pandas.concat instead.\n",
      "  new_df= new_df.append(data, ignore_index=True)\n",
      "/tmp/ipykernel_24298/253161635.py:30: FutureWarning: The frame.append method is deprecated and will be removed from pandas in a future version. Use pandas.concat instead.\n",
      "  new_df= new_df.append(data, ignore_index=True)\n"
     ]
    },
    {
     "name": "stdout",
     "output_type": "stream",
     "text": [
      "save image 503\n",
      "save image 504\n",
      "save image 505\n",
      "save image 506\n",
      "save image 507\n"
     ]
    },
    {
     "name": "stderr",
     "output_type": "stream",
     "text": [
      "/tmp/ipykernel_24298/253161635.py:30: FutureWarning: The frame.append method is deprecated and will be removed from pandas in a future version. Use pandas.concat instead.\n",
      "  new_df= new_df.append(data, ignore_index=True)\n",
      "/tmp/ipykernel_24298/253161635.py:30: FutureWarning: The frame.append method is deprecated and will be removed from pandas in a future version. Use pandas.concat instead.\n",
      "  new_df= new_df.append(data, ignore_index=True)\n",
      "/tmp/ipykernel_24298/253161635.py:30: FutureWarning: The frame.append method is deprecated and will be removed from pandas in a future version. Use pandas.concat instead.\n",
      "  new_df= new_df.append(data, ignore_index=True)\n",
      "/tmp/ipykernel_24298/253161635.py:30: FutureWarning: The frame.append method is deprecated and will be removed from pandas in a future version. Use pandas.concat instead.\n",
      "  new_df= new_df.append(data, ignore_index=True)\n",
      "/tmp/ipykernel_24298/253161635.py:30: FutureWarning: The frame.append method is deprecated and will be removed from pandas in a future version. Use pandas.concat instead.\n",
      "  new_df= new_df.append(data, ignore_index=True)\n"
     ]
    },
    {
     "name": "stdout",
     "output_type": "stream",
     "text": [
      "save image 508\n",
      "save image 509\n",
      "save image 510\n",
      "save image 511\n",
      "save image 512\n"
     ]
    },
    {
     "name": "stderr",
     "output_type": "stream",
     "text": [
      "/tmp/ipykernel_24298/253161635.py:30: FutureWarning: The frame.append method is deprecated and will be removed from pandas in a future version. Use pandas.concat instead.\n",
      "  new_df= new_df.append(data, ignore_index=True)\n",
      "/tmp/ipykernel_24298/253161635.py:30: FutureWarning: The frame.append method is deprecated and will be removed from pandas in a future version. Use pandas.concat instead.\n",
      "  new_df= new_df.append(data, ignore_index=True)\n",
      "/tmp/ipykernel_24298/253161635.py:30: FutureWarning: The frame.append method is deprecated and will be removed from pandas in a future version. Use pandas.concat instead.\n",
      "  new_df= new_df.append(data, ignore_index=True)\n",
      "/tmp/ipykernel_24298/253161635.py:30: FutureWarning: The frame.append method is deprecated and will be removed from pandas in a future version. Use pandas.concat instead.\n",
      "  new_df= new_df.append(data, ignore_index=True)\n",
      "/tmp/ipykernel_24298/253161635.py:30: FutureWarning: The frame.append method is deprecated and will be removed from pandas in a future version. Use pandas.concat instead.\n",
      "  new_df= new_df.append(data, ignore_index=True)\n",
      "/tmp/ipykernel_24298/253161635.py:30: FutureWarning: The frame.append method is deprecated and will be removed from pandas in a future version. Use pandas.concat instead.\n",
      "  new_df= new_df.append(data, ignore_index=True)\n"
     ]
    },
    {
     "name": "stdout",
     "output_type": "stream",
     "text": [
      "save image 513\n",
      "save image 514\n",
      "save image 515\n",
      "save image 516\n",
      "save image 517\n",
      "save image 518\n"
     ]
    },
    {
     "name": "stderr",
     "output_type": "stream",
     "text": [
      "/tmp/ipykernel_24298/253161635.py:30: FutureWarning: The frame.append method is deprecated and will be removed from pandas in a future version. Use pandas.concat instead.\n",
      "  new_df= new_df.append(data, ignore_index=True)\n",
      "/tmp/ipykernel_24298/253161635.py:30: FutureWarning: The frame.append method is deprecated and will be removed from pandas in a future version. Use pandas.concat instead.\n",
      "  new_df= new_df.append(data, ignore_index=True)\n",
      "/tmp/ipykernel_24298/253161635.py:30: FutureWarning: The frame.append method is deprecated and will be removed from pandas in a future version. Use pandas.concat instead.\n",
      "  new_df= new_df.append(data, ignore_index=True)\n",
      "/tmp/ipykernel_24298/253161635.py:30: FutureWarning: The frame.append method is deprecated and will be removed from pandas in a future version. Use pandas.concat instead.\n",
      "  new_df= new_df.append(data, ignore_index=True)\n",
      "/tmp/ipykernel_24298/253161635.py:30: FutureWarning: The frame.append method is deprecated and will be removed from pandas in a future version. Use pandas.concat instead.\n",
      "  new_df= new_df.append(data, ignore_index=True)\n"
     ]
    },
    {
     "name": "stdout",
     "output_type": "stream",
     "text": [
      "save image 519\n",
      "save image 520\n",
      "save image 521\n",
      "save image 522\n",
      "save image 523\n"
     ]
    },
    {
     "name": "stderr",
     "output_type": "stream",
     "text": [
      "/tmp/ipykernel_24298/253161635.py:30: FutureWarning: The frame.append method is deprecated and will be removed from pandas in a future version. Use pandas.concat instead.\n",
      "  new_df= new_df.append(data, ignore_index=True)\n",
      "/tmp/ipykernel_24298/253161635.py:30: FutureWarning: The frame.append method is deprecated and will be removed from pandas in a future version. Use pandas.concat instead.\n",
      "  new_df= new_df.append(data, ignore_index=True)\n",
      "/tmp/ipykernel_24298/253161635.py:30: FutureWarning: The frame.append method is deprecated and will be removed from pandas in a future version. Use pandas.concat instead.\n",
      "  new_df= new_df.append(data, ignore_index=True)\n",
      "/tmp/ipykernel_24298/253161635.py:30: FutureWarning: The frame.append method is deprecated and will be removed from pandas in a future version. Use pandas.concat instead.\n",
      "  new_df= new_df.append(data, ignore_index=True)\n",
      "/tmp/ipykernel_24298/253161635.py:30: FutureWarning: The frame.append method is deprecated and will be removed from pandas in a future version. Use pandas.concat instead.\n",
      "  new_df= new_df.append(data, ignore_index=True)\n"
     ]
    },
    {
     "name": "stdout",
     "output_type": "stream",
     "text": [
      "save image 524\n",
      "save image 525\n",
      "save image 526\n",
      "save image 527\n",
      "save image 528\n"
     ]
    },
    {
     "name": "stderr",
     "output_type": "stream",
     "text": [
      "/tmp/ipykernel_24298/253161635.py:30: FutureWarning: The frame.append method is deprecated and will be removed from pandas in a future version. Use pandas.concat instead.\n",
      "  new_df= new_df.append(data, ignore_index=True)\n",
      "/tmp/ipykernel_24298/253161635.py:30: FutureWarning: The frame.append method is deprecated and will be removed from pandas in a future version. Use pandas.concat instead.\n",
      "  new_df= new_df.append(data, ignore_index=True)\n",
      "/tmp/ipykernel_24298/253161635.py:30: FutureWarning: The frame.append method is deprecated and will be removed from pandas in a future version. Use pandas.concat instead.\n",
      "  new_df= new_df.append(data, ignore_index=True)\n",
      "/tmp/ipykernel_24298/253161635.py:30: FutureWarning: The frame.append method is deprecated and will be removed from pandas in a future version. Use pandas.concat instead.\n",
      "  new_df= new_df.append(data, ignore_index=True)\n"
     ]
    },
    {
     "name": "stdout",
     "output_type": "stream",
     "text": [
      "save image 529\n",
      "save image 530\n",
      "save image 531\n",
      "save image 532\n"
     ]
    },
    {
     "name": "stderr",
     "output_type": "stream",
     "text": [
      "/tmp/ipykernel_24298/253161635.py:30: FutureWarning: The frame.append method is deprecated and will be removed from pandas in a future version. Use pandas.concat instead.\n",
      "  new_df= new_df.append(data, ignore_index=True)\n",
      "/tmp/ipykernel_24298/253161635.py:30: FutureWarning: The frame.append method is deprecated and will be removed from pandas in a future version. Use pandas.concat instead.\n",
      "  new_df= new_df.append(data, ignore_index=True)\n",
      "/tmp/ipykernel_24298/253161635.py:30: FutureWarning: The frame.append method is deprecated and will be removed from pandas in a future version. Use pandas.concat instead.\n",
      "  new_df= new_df.append(data, ignore_index=True)\n",
      "/tmp/ipykernel_24298/253161635.py:30: FutureWarning: The frame.append method is deprecated and will be removed from pandas in a future version. Use pandas.concat instead.\n",
      "  new_df= new_df.append(data, ignore_index=True)\n",
      "/tmp/ipykernel_24298/253161635.py:30: FutureWarning: The frame.append method is deprecated and will be removed from pandas in a future version. Use pandas.concat instead.\n",
      "  new_df= new_df.append(data, ignore_index=True)\n"
     ]
    },
    {
     "name": "stdout",
     "output_type": "stream",
     "text": [
      "save image 533\n",
      "save image 534\n",
      "save image 535\n",
      "save image 536\n",
      "save image 537\n"
     ]
    },
    {
     "name": "stderr",
     "output_type": "stream",
     "text": [
      "/tmp/ipykernel_24298/253161635.py:30: FutureWarning: The frame.append method is deprecated and will be removed from pandas in a future version. Use pandas.concat instead.\n",
      "  new_df= new_df.append(data, ignore_index=True)\n",
      "/tmp/ipykernel_24298/253161635.py:30: FutureWarning: The frame.append method is deprecated and will be removed from pandas in a future version. Use pandas.concat instead.\n",
      "  new_df= new_df.append(data, ignore_index=True)\n",
      "/tmp/ipykernel_24298/253161635.py:30: FutureWarning: The frame.append method is deprecated and will be removed from pandas in a future version. Use pandas.concat instead.\n",
      "  new_df= new_df.append(data, ignore_index=True)\n",
      "/tmp/ipykernel_24298/253161635.py:30: FutureWarning: The frame.append method is deprecated and will be removed from pandas in a future version. Use pandas.concat instead.\n",
      "  new_df= new_df.append(data, ignore_index=True)\n",
      "/tmp/ipykernel_24298/253161635.py:30: FutureWarning: The frame.append method is deprecated and will be removed from pandas in a future version. Use pandas.concat instead.\n",
      "  new_df= new_df.append(data, ignore_index=True)\n"
     ]
    },
    {
     "name": "stdout",
     "output_type": "stream",
     "text": [
      "save image 538\n",
      "save image 539\n",
      "save image 540\n",
      "save image 541\n",
      "save image 542\n"
     ]
    },
    {
     "name": "stderr",
     "output_type": "stream",
     "text": [
      "/tmp/ipykernel_24298/253161635.py:30: FutureWarning: The frame.append method is deprecated and will be removed from pandas in a future version. Use pandas.concat instead.\n",
      "  new_df= new_df.append(data, ignore_index=True)\n",
      "/tmp/ipykernel_24298/253161635.py:30: FutureWarning: The frame.append method is deprecated and will be removed from pandas in a future version. Use pandas.concat instead.\n",
      "  new_df= new_df.append(data, ignore_index=True)\n",
      "/tmp/ipykernel_24298/253161635.py:30: FutureWarning: The frame.append method is deprecated and will be removed from pandas in a future version. Use pandas.concat instead.\n",
      "  new_df= new_df.append(data, ignore_index=True)\n",
      "/tmp/ipykernel_24298/253161635.py:30: FutureWarning: The frame.append method is deprecated and will be removed from pandas in a future version. Use pandas.concat instead.\n",
      "  new_df= new_df.append(data, ignore_index=True)\n",
      "/tmp/ipykernel_24298/253161635.py:30: FutureWarning: The frame.append method is deprecated and will be removed from pandas in a future version. Use pandas.concat instead.\n",
      "  new_df= new_df.append(data, ignore_index=True)\n",
      "/tmp/ipykernel_24298/253161635.py:30: FutureWarning: The frame.append method is deprecated and will be removed from pandas in a future version. Use pandas.concat instead.\n",
      "  new_df= new_df.append(data, ignore_index=True)\n"
     ]
    },
    {
     "name": "stdout",
     "output_type": "stream",
     "text": [
      "save image 543\n",
      "save image 544\n",
      "save image 545\n",
      "save image 546\n",
      "save image 547\n",
      "save image 548\n"
     ]
    },
    {
     "name": "stderr",
     "output_type": "stream",
     "text": [
      "/tmp/ipykernel_24298/253161635.py:30: FutureWarning: The frame.append method is deprecated and will be removed from pandas in a future version. Use pandas.concat instead.\n",
      "  new_df= new_df.append(data, ignore_index=True)\n",
      "/tmp/ipykernel_24298/253161635.py:30: FutureWarning: The frame.append method is deprecated and will be removed from pandas in a future version. Use pandas.concat instead.\n",
      "  new_df= new_df.append(data, ignore_index=True)\n",
      "/tmp/ipykernel_24298/253161635.py:30: FutureWarning: The frame.append method is deprecated and will be removed from pandas in a future version. Use pandas.concat instead.\n",
      "  new_df= new_df.append(data, ignore_index=True)\n",
      "/tmp/ipykernel_24298/253161635.py:30: FutureWarning: The frame.append method is deprecated and will be removed from pandas in a future version. Use pandas.concat instead.\n",
      "  new_df= new_df.append(data, ignore_index=True)\n",
      "/tmp/ipykernel_24298/253161635.py:30: FutureWarning: The frame.append method is deprecated and will be removed from pandas in a future version. Use pandas.concat instead.\n",
      "  new_df= new_df.append(data, ignore_index=True)\n"
     ]
    },
    {
     "name": "stdout",
     "output_type": "stream",
     "text": [
      "save image 549\n",
      "save image 550\n",
      "save image 551\n",
      "save image 552\n",
      "save image 553\n"
     ]
    },
    {
     "name": "stderr",
     "output_type": "stream",
     "text": [
      "/tmp/ipykernel_24298/253161635.py:30: FutureWarning: The frame.append method is deprecated and will be removed from pandas in a future version. Use pandas.concat instead.\n",
      "  new_df= new_df.append(data, ignore_index=True)\n",
      "/tmp/ipykernel_24298/253161635.py:30: FutureWarning: The frame.append method is deprecated and will be removed from pandas in a future version. Use pandas.concat instead.\n",
      "  new_df= new_df.append(data, ignore_index=True)\n",
      "/tmp/ipykernel_24298/253161635.py:30: FutureWarning: The frame.append method is deprecated and will be removed from pandas in a future version. Use pandas.concat instead.\n",
      "  new_df= new_df.append(data, ignore_index=True)\n",
      "/tmp/ipykernel_24298/253161635.py:30: FutureWarning: The frame.append method is deprecated and will be removed from pandas in a future version. Use pandas.concat instead.\n",
      "  new_df= new_df.append(data, ignore_index=True)\n"
     ]
    },
    {
     "name": "stdout",
     "output_type": "stream",
     "text": [
      "save image 554\n",
      "save image 555\n",
      "save image 556\n",
      "save image 557\n"
     ]
    },
    {
     "name": "stderr",
     "output_type": "stream",
     "text": [
      "/tmp/ipykernel_24298/253161635.py:30: FutureWarning: The frame.append method is deprecated and will be removed from pandas in a future version. Use pandas.concat instead.\n",
      "  new_df= new_df.append(data, ignore_index=True)\n",
      "/tmp/ipykernel_24298/253161635.py:30: FutureWarning: The frame.append method is deprecated and will be removed from pandas in a future version. Use pandas.concat instead.\n",
      "  new_df= new_df.append(data, ignore_index=True)\n",
      "/tmp/ipykernel_24298/253161635.py:30: FutureWarning: The frame.append method is deprecated and will be removed from pandas in a future version. Use pandas.concat instead.\n",
      "  new_df= new_df.append(data, ignore_index=True)\n",
      "/tmp/ipykernel_24298/253161635.py:30: FutureWarning: The frame.append method is deprecated and will be removed from pandas in a future version. Use pandas.concat instead.\n",
      "  new_df= new_df.append(data, ignore_index=True)\n"
     ]
    },
    {
     "name": "stdout",
     "output_type": "stream",
     "text": [
      "save image 558\n",
      "save image 559\n",
      "save image 560\n",
      "save image 561\n"
     ]
    },
    {
     "name": "stderr",
     "output_type": "stream",
     "text": [
      "/tmp/ipykernel_24298/253161635.py:30: FutureWarning: The frame.append method is deprecated and will be removed from pandas in a future version. Use pandas.concat instead.\n",
      "  new_df= new_df.append(data, ignore_index=True)\n",
      "/tmp/ipykernel_24298/253161635.py:30: FutureWarning: The frame.append method is deprecated and will be removed from pandas in a future version. Use pandas.concat instead.\n",
      "  new_df= new_df.append(data, ignore_index=True)\n",
      "/tmp/ipykernel_24298/253161635.py:30: FutureWarning: The frame.append method is deprecated and will be removed from pandas in a future version. Use pandas.concat instead.\n",
      "  new_df= new_df.append(data, ignore_index=True)\n",
      "/tmp/ipykernel_24298/253161635.py:30: FutureWarning: The frame.append method is deprecated and will be removed from pandas in a future version. Use pandas.concat instead.\n",
      "  new_df= new_df.append(data, ignore_index=True)\n",
      "/tmp/ipykernel_24298/253161635.py:30: FutureWarning: The frame.append method is deprecated and will be removed from pandas in a future version. Use pandas.concat instead.\n",
      "  new_df= new_df.append(data, ignore_index=True)\n",
      "/tmp/ipykernel_24298/253161635.py:30: FutureWarning: The frame.append method is deprecated and will be removed from pandas in a future version. Use pandas.concat instead.\n",
      "  new_df= new_df.append(data, ignore_index=True)\n"
     ]
    },
    {
     "name": "stdout",
     "output_type": "stream",
     "text": [
      "save image 562\n",
      "save image 563\n",
      "save image 564\n",
      "save image 565\n",
      "save image 566\n",
      "save image 567\n"
     ]
    },
    {
     "name": "stderr",
     "output_type": "stream",
     "text": [
      "/tmp/ipykernel_24298/253161635.py:30: FutureWarning: The frame.append method is deprecated and will be removed from pandas in a future version. Use pandas.concat instead.\n",
      "  new_df= new_df.append(data, ignore_index=True)\n",
      "/tmp/ipykernel_24298/253161635.py:30: FutureWarning: The frame.append method is deprecated and will be removed from pandas in a future version. Use pandas.concat instead.\n",
      "  new_df= new_df.append(data, ignore_index=True)\n",
      "/tmp/ipykernel_24298/253161635.py:30: FutureWarning: The frame.append method is deprecated and will be removed from pandas in a future version. Use pandas.concat instead.\n",
      "  new_df= new_df.append(data, ignore_index=True)\n",
      "/tmp/ipykernel_24298/253161635.py:30: FutureWarning: The frame.append method is deprecated and will be removed from pandas in a future version. Use pandas.concat instead.\n",
      "  new_df= new_df.append(data, ignore_index=True)\n",
      "/tmp/ipykernel_24298/253161635.py:30: FutureWarning: The frame.append method is deprecated and will be removed from pandas in a future version. Use pandas.concat instead.\n",
      "  new_df= new_df.append(data, ignore_index=True)\n"
     ]
    },
    {
     "name": "stdout",
     "output_type": "stream",
     "text": [
      "save image 568\n",
      "save image 569\n",
      "save image 570\n",
      "save image 571\n",
      "save image 572\n"
     ]
    },
    {
     "name": "stderr",
     "output_type": "stream",
     "text": [
      "/tmp/ipykernel_24298/253161635.py:30: FutureWarning: The frame.append method is deprecated and will be removed from pandas in a future version. Use pandas.concat instead.\n",
      "  new_df= new_df.append(data, ignore_index=True)\n",
      "/tmp/ipykernel_24298/253161635.py:30: FutureWarning: The frame.append method is deprecated and will be removed from pandas in a future version. Use pandas.concat instead.\n",
      "  new_df= new_df.append(data, ignore_index=True)\n",
      "/tmp/ipykernel_24298/253161635.py:30: FutureWarning: The frame.append method is deprecated and will be removed from pandas in a future version. Use pandas.concat instead.\n",
      "  new_df= new_df.append(data, ignore_index=True)\n",
      "/tmp/ipykernel_24298/253161635.py:30: FutureWarning: The frame.append method is deprecated and will be removed from pandas in a future version. Use pandas.concat instead.\n",
      "  new_df= new_df.append(data, ignore_index=True)\n"
     ]
    },
    {
     "name": "stdout",
     "output_type": "stream",
     "text": [
      "save image 573\n",
      "save image 574\n",
      "save image 575\n",
      "save image 576\n"
     ]
    },
    {
     "name": "stderr",
     "output_type": "stream",
     "text": [
      "/tmp/ipykernel_24298/253161635.py:30: FutureWarning: The frame.append method is deprecated and will be removed from pandas in a future version. Use pandas.concat instead.\n",
      "  new_df= new_df.append(data, ignore_index=True)\n",
      "/tmp/ipykernel_24298/253161635.py:30: FutureWarning: The frame.append method is deprecated and will be removed from pandas in a future version. Use pandas.concat instead.\n",
      "  new_df= new_df.append(data, ignore_index=True)\n",
      "/tmp/ipykernel_24298/253161635.py:30: FutureWarning: The frame.append method is deprecated and will be removed from pandas in a future version. Use pandas.concat instead.\n",
      "  new_df= new_df.append(data, ignore_index=True)\n",
      "/tmp/ipykernel_24298/253161635.py:30: FutureWarning: The frame.append method is deprecated and will be removed from pandas in a future version. Use pandas.concat instead.\n",
      "  new_df= new_df.append(data, ignore_index=True)\n",
      "/tmp/ipykernel_24298/253161635.py:30: FutureWarning: The frame.append method is deprecated and will be removed from pandas in a future version. Use pandas.concat instead.\n",
      "  new_df= new_df.append(data, ignore_index=True)\n",
      "/tmp/ipykernel_24298/253161635.py:30: FutureWarning: The frame.append method is deprecated and will be removed from pandas in a future version. Use pandas.concat instead.\n",
      "  new_df= new_df.append(data, ignore_index=True)\n"
     ]
    },
    {
     "name": "stdout",
     "output_type": "stream",
     "text": [
      "save image 577\n",
      "save image 578\n",
      "save image 579\n",
      "save image 580\n",
      "save image 581\n",
      "save image 582\n"
     ]
    },
    {
     "name": "stderr",
     "output_type": "stream",
     "text": [
      "/tmp/ipykernel_24298/253161635.py:30: FutureWarning: The frame.append method is deprecated and will be removed from pandas in a future version. Use pandas.concat instead.\n",
      "  new_df= new_df.append(data, ignore_index=True)\n",
      "/tmp/ipykernel_24298/253161635.py:30: FutureWarning: The frame.append method is deprecated and will be removed from pandas in a future version. Use pandas.concat instead.\n",
      "  new_df= new_df.append(data, ignore_index=True)\n",
      "/tmp/ipykernel_24298/253161635.py:30: FutureWarning: The frame.append method is deprecated and will be removed from pandas in a future version. Use pandas.concat instead.\n",
      "  new_df= new_df.append(data, ignore_index=True)\n",
      "/tmp/ipykernel_24298/253161635.py:30: FutureWarning: The frame.append method is deprecated and will be removed from pandas in a future version. Use pandas.concat instead.\n",
      "  new_df= new_df.append(data, ignore_index=True)\n",
      "/tmp/ipykernel_24298/253161635.py:30: FutureWarning: The frame.append method is deprecated and will be removed from pandas in a future version. Use pandas.concat instead.\n",
      "  new_df= new_df.append(data, ignore_index=True)\n"
     ]
    },
    {
     "name": "stdout",
     "output_type": "stream",
     "text": [
      "save image 583\n",
      "save image 584\n",
      "save image 585\n",
      "save image 586\n",
      "save image 587\n"
     ]
    },
    {
     "name": "stderr",
     "output_type": "stream",
     "text": [
      "/tmp/ipykernel_24298/253161635.py:30: FutureWarning: The frame.append method is deprecated and will be removed from pandas in a future version. Use pandas.concat instead.\n",
      "  new_df= new_df.append(data, ignore_index=True)\n",
      "/tmp/ipykernel_24298/253161635.py:30: FutureWarning: The frame.append method is deprecated and will be removed from pandas in a future version. Use pandas.concat instead.\n",
      "  new_df= new_df.append(data, ignore_index=True)\n",
      "/tmp/ipykernel_24298/253161635.py:30: FutureWarning: The frame.append method is deprecated and will be removed from pandas in a future version. Use pandas.concat instead.\n",
      "  new_df= new_df.append(data, ignore_index=True)\n",
      "/tmp/ipykernel_24298/253161635.py:30: FutureWarning: The frame.append method is deprecated and will be removed from pandas in a future version. Use pandas.concat instead.\n",
      "  new_df= new_df.append(data, ignore_index=True)\n"
     ]
    },
    {
     "name": "stdout",
     "output_type": "stream",
     "text": [
      "save image 588\n",
      "save image 589\n",
      "save image 590\n",
      "save image 591\n"
     ]
    },
    {
     "name": "stderr",
     "output_type": "stream",
     "text": [
      "/tmp/ipykernel_24298/253161635.py:30: FutureWarning: The frame.append method is deprecated and will be removed from pandas in a future version. Use pandas.concat instead.\n",
      "  new_df= new_df.append(data, ignore_index=True)\n",
      "/tmp/ipykernel_24298/253161635.py:30: FutureWarning: The frame.append method is deprecated and will be removed from pandas in a future version. Use pandas.concat instead.\n",
      "  new_df= new_df.append(data, ignore_index=True)\n",
      "/tmp/ipykernel_24298/253161635.py:30: FutureWarning: The frame.append method is deprecated and will be removed from pandas in a future version. Use pandas.concat instead.\n",
      "  new_df= new_df.append(data, ignore_index=True)\n",
      "/tmp/ipykernel_24298/253161635.py:30: FutureWarning: The frame.append method is deprecated and will be removed from pandas in a future version. Use pandas.concat instead.\n",
      "  new_df= new_df.append(data, ignore_index=True)\n",
      "/tmp/ipykernel_24298/253161635.py:30: FutureWarning: The frame.append method is deprecated and will be removed from pandas in a future version. Use pandas.concat instead.\n",
      "  new_df= new_df.append(data, ignore_index=True)\n",
      "/tmp/ipykernel_24298/253161635.py:30: FutureWarning: The frame.append method is deprecated and will be removed from pandas in a future version. Use pandas.concat instead.\n",
      "  new_df= new_df.append(data, ignore_index=True)\n"
     ]
    },
    {
     "name": "stdout",
     "output_type": "stream",
     "text": [
      "save image 592\n",
      "save image 593\n",
      "save image 594\n",
      "save image 595\n",
      "save image 596\n",
      "save image 597\n"
     ]
    },
    {
     "name": "stderr",
     "output_type": "stream",
     "text": [
      "/tmp/ipykernel_24298/253161635.py:30: FutureWarning: The frame.append method is deprecated and will be removed from pandas in a future version. Use pandas.concat instead.\n",
      "  new_df= new_df.append(data, ignore_index=True)\n",
      "/tmp/ipykernel_24298/253161635.py:30: FutureWarning: The frame.append method is deprecated and will be removed from pandas in a future version. Use pandas.concat instead.\n",
      "  new_df= new_df.append(data, ignore_index=True)\n",
      "/tmp/ipykernel_24298/253161635.py:30: FutureWarning: The frame.append method is deprecated and will be removed from pandas in a future version. Use pandas.concat instead.\n",
      "  new_df= new_df.append(data, ignore_index=True)\n",
      "/tmp/ipykernel_24298/253161635.py:30: FutureWarning: The frame.append method is deprecated and will be removed from pandas in a future version. Use pandas.concat instead.\n",
      "  new_df= new_df.append(data, ignore_index=True)\n",
      "/tmp/ipykernel_24298/253161635.py:30: FutureWarning: The frame.append method is deprecated and will be removed from pandas in a future version. Use pandas.concat instead.\n",
      "  new_df= new_df.append(data, ignore_index=True)\n",
      "/tmp/ipykernel_24298/253161635.py:30: FutureWarning: The frame.append method is deprecated and will be removed from pandas in a future version. Use pandas.concat instead.\n",
      "  new_df= new_df.append(data, ignore_index=True)\n",
      "/tmp/ipykernel_24298/253161635.py:30: FutureWarning: The frame.append method is deprecated and will be removed from pandas in a future version. Use pandas.concat instead.\n",
      "  new_df= new_df.append(data, ignore_index=True)\n"
     ]
    },
    {
     "name": "stdout",
     "output_type": "stream",
     "text": [
      "save image 598\n",
      "save image 599\n",
      "save image 600\n",
      "save image 601\n",
      "save image 602\n",
      "save image 603\n",
      "save image 604\n"
     ]
    },
    {
     "name": "stderr",
     "output_type": "stream",
     "text": [
      "/tmp/ipykernel_24298/253161635.py:30: FutureWarning: The frame.append method is deprecated and will be removed from pandas in a future version. Use pandas.concat instead.\n",
      "  new_df= new_df.append(data, ignore_index=True)\n",
      "/tmp/ipykernel_24298/253161635.py:30: FutureWarning: The frame.append method is deprecated and will be removed from pandas in a future version. Use pandas.concat instead.\n",
      "  new_df= new_df.append(data, ignore_index=True)\n",
      "/tmp/ipykernel_24298/253161635.py:30: FutureWarning: The frame.append method is deprecated and will be removed from pandas in a future version. Use pandas.concat instead.\n",
      "  new_df= new_df.append(data, ignore_index=True)\n",
      "/tmp/ipykernel_24298/253161635.py:30: FutureWarning: The frame.append method is deprecated and will be removed from pandas in a future version. Use pandas.concat instead.\n",
      "  new_df= new_df.append(data, ignore_index=True)\n",
      "/tmp/ipykernel_24298/253161635.py:30: FutureWarning: The frame.append method is deprecated and will be removed from pandas in a future version. Use pandas.concat instead.\n",
      "  new_df= new_df.append(data, ignore_index=True)\n",
      "/tmp/ipykernel_24298/253161635.py:30: FutureWarning: The frame.append method is deprecated and will be removed from pandas in a future version. Use pandas.concat instead.\n",
      "  new_df= new_df.append(data, ignore_index=True)\n"
     ]
    },
    {
     "name": "stdout",
     "output_type": "stream",
     "text": [
      "save image 605\n",
      "save image 606\n",
      "save image 607\n",
      "save image 608\n",
      "save image 609\n",
      "save image 610\n"
     ]
    },
    {
     "name": "stderr",
     "output_type": "stream",
     "text": [
      "/tmp/ipykernel_24298/253161635.py:30: FutureWarning: The frame.append method is deprecated and will be removed from pandas in a future version. Use pandas.concat instead.\n",
      "  new_df= new_df.append(data, ignore_index=True)\n",
      "/tmp/ipykernel_24298/253161635.py:30: FutureWarning: The frame.append method is deprecated and will be removed from pandas in a future version. Use pandas.concat instead.\n",
      "  new_df= new_df.append(data, ignore_index=True)\n",
      "/tmp/ipykernel_24298/253161635.py:30: FutureWarning: The frame.append method is deprecated and will be removed from pandas in a future version. Use pandas.concat instead.\n",
      "  new_df= new_df.append(data, ignore_index=True)\n",
      "/tmp/ipykernel_24298/253161635.py:30: FutureWarning: The frame.append method is deprecated and will be removed from pandas in a future version. Use pandas.concat instead.\n",
      "  new_df= new_df.append(data, ignore_index=True)\n",
      "/tmp/ipykernel_24298/253161635.py:30: FutureWarning: The frame.append method is deprecated and will be removed from pandas in a future version. Use pandas.concat instead.\n",
      "  new_df= new_df.append(data, ignore_index=True)\n",
      "/tmp/ipykernel_24298/253161635.py:30: FutureWarning: The frame.append method is deprecated and will be removed from pandas in a future version. Use pandas.concat instead.\n",
      "  new_df= new_df.append(data, ignore_index=True)\n"
     ]
    },
    {
     "name": "stdout",
     "output_type": "stream",
     "text": [
      "save image 611\n",
      "save image 612\n",
      "save image 613\n",
      "save image 614\n",
      "save image 615\n",
      "save image 616\n"
     ]
    },
    {
     "name": "stderr",
     "output_type": "stream",
     "text": [
      "/tmp/ipykernel_24298/253161635.py:30: FutureWarning: The frame.append method is deprecated and will be removed from pandas in a future version. Use pandas.concat instead.\n",
      "  new_df= new_df.append(data, ignore_index=True)\n",
      "/tmp/ipykernel_24298/253161635.py:30: FutureWarning: The frame.append method is deprecated and will be removed from pandas in a future version. Use pandas.concat instead.\n",
      "  new_df= new_df.append(data, ignore_index=True)\n",
      "/tmp/ipykernel_24298/253161635.py:30: FutureWarning: The frame.append method is deprecated and will be removed from pandas in a future version. Use pandas.concat instead.\n",
      "  new_df= new_df.append(data, ignore_index=True)\n",
      "/tmp/ipykernel_24298/253161635.py:30: FutureWarning: The frame.append method is deprecated and will be removed from pandas in a future version. Use pandas.concat instead.\n",
      "  new_df= new_df.append(data, ignore_index=True)\n",
      "/tmp/ipykernel_24298/253161635.py:30: FutureWarning: The frame.append method is deprecated and will be removed from pandas in a future version. Use pandas.concat instead.\n",
      "  new_df= new_df.append(data, ignore_index=True)\n",
      "/tmp/ipykernel_24298/253161635.py:30: FutureWarning: The frame.append method is deprecated and will be removed from pandas in a future version. Use pandas.concat instead.\n",
      "  new_df= new_df.append(data, ignore_index=True)\n"
     ]
    },
    {
     "name": "stdout",
     "output_type": "stream",
     "text": [
      "save image 617\n",
      "save image 618\n",
      "save image 619\n",
      "save image 620\n",
      "save image 621\n",
      "save image 622\n"
     ]
    },
    {
     "name": "stderr",
     "output_type": "stream",
     "text": [
      "/tmp/ipykernel_24298/253161635.py:30: FutureWarning: The frame.append method is deprecated and will be removed from pandas in a future version. Use pandas.concat instead.\n",
      "  new_df= new_df.append(data, ignore_index=True)\n",
      "/tmp/ipykernel_24298/253161635.py:30: FutureWarning: The frame.append method is deprecated and will be removed from pandas in a future version. Use pandas.concat instead.\n",
      "  new_df= new_df.append(data, ignore_index=True)\n",
      "/tmp/ipykernel_24298/253161635.py:30: FutureWarning: The frame.append method is deprecated and will be removed from pandas in a future version. Use pandas.concat instead.\n",
      "  new_df= new_df.append(data, ignore_index=True)\n",
      "/tmp/ipykernel_24298/253161635.py:30: FutureWarning: The frame.append method is deprecated and will be removed from pandas in a future version. Use pandas.concat instead.\n",
      "  new_df= new_df.append(data, ignore_index=True)\n",
      "/tmp/ipykernel_24298/253161635.py:30: FutureWarning: The frame.append method is deprecated and will be removed from pandas in a future version. Use pandas.concat instead.\n",
      "  new_df= new_df.append(data, ignore_index=True)\n",
      "/tmp/ipykernel_24298/253161635.py:30: FutureWarning: The frame.append method is deprecated and will be removed from pandas in a future version. Use pandas.concat instead.\n",
      "  new_df= new_df.append(data, ignore_index=True)\n"
     ]
    },
    {
     "name": "stdout",
     "output_type": "stream",
     "text": [
      "save image 623\n",
      "save image 624\n",
      "save image 625\n",
      "save image 626\n",
      "save image 627\n",
      "save image 628\n"
     ]
    },
    {
     "name": "stderr",
     "output_type": "stream",
     "text": [
      "/tmp/ipykernel_24298/253161635.py:30: FutureWarning: The frame.append method is deprecated and will be removed from pandas in a future version. Use pandas.concat instead.\n",
      "  new_df= new_df.append(data, ignore_index=True)\n",
      "/tmp/ipykernel_24298/253161635.py:30: FutureWarning: The frame.append method is deprecated and will be removed from pandas in a future version. Use pandas.concat instead.\n",
      "  new_df= new_df.append(data, ignore_index=True)\n",
      "/tmp/ipykernel_24298/253161635.py:30: FutureWarning: The frame.append method is deprecated and will be removed from pandas in a future version. Use pandas.concat instead.\n",
      "  new_df= new_df.append(data, ignore_index=True)\n",
      "/tmp/ipykernel_24298/253161635.py:30: FutureWarning: The frame.append method is deprecated and will be removed from pandas in a future version. Use pandas.concat instead.\n",
      "  new_df= new_df.append(data, ignore_index=True)\n",
      "/tmp/ipykernel_24298/253161635.py:30: FutureWarning: The frame.append method is deprecated and will be removed from pandas in a future version. Use pandas.concat instead.\n",
      "  new_df= new_df.append(data, ignore_index=True)\n",
      "/tmp/ipykernel_24298/253161635.py:30: FutureWarning: The frame.append method is deprecated and will be removed from pandas in a future version. Use pandas.concat instead.\n",
      "  new_df= new_df.append(data, ignore_index=True)\n"
     ]
    },
    {
     "name": "stdout",
     "output_type": "stream",
     "text": [
      "save image 629\n",
      "save image 630\n",
      "save image 631\n",
      "save image 632\n",
      "save image 633\n",
      "save image 634\n"
     ]
    },
    {
     "name": "stderr",
     "output_type": "stream",
     "text": [
      "/tmp/ipykernel_24298/253161635.py:30: FutureWarning: The frame.append method is deprecated and will be removed from pandas in a future version. Use pandas.concat instead.\n",
      "  new_df= new_df.append(data, ignore_index=True)\n",
      "/tmp/ipykernel_24298/253161635.py:30: FutureWarning: The frame.append method is deprecated and will be removed from pandas in a future version. Use pandas.concat instead.\n",
      "  new_df= new_df.append(data, ignore_index=True)\n",
      "/tmp/ipykernel_24298/253161635.py:30: FutureWarning: The frame.append method is deprecated and will be removed from pandas in a future version. Use pandas.concat instead.\n",
      "  new_df= new_df.append(data, ignore_index=True)\n",
      "/tmp/ipykernel_24298/253161635.py:30: FutureWarning: The frame.append method is deprecated and will be removed from pandas in a future version. Use pandas.concat instead.\n",
      "  new_df= new_df.append(data, ignore_index=True)\n",
      "/tmp/ipykernel_24298/253161635.py:30: FutureWarning: The frame.append method is deprecated and will be removed from pandas in a future version. Use pandas.concat instead.\n",
      "  new_df= new_df.append(data, ignore_index=True)\n"
     ]
    },
    {
     "name": "stdout",
     "output_type": "stream",
     "text": [
      "save image 635\n",
      "save image 636\n",
      "save image 637\n",
      "save image 638\n",
      "save image 639\n"
     ]
    },
    {
     "name": "stderr",
     "output_type": "stream",
     "text": [
      "/tmp/ipykernel_24298/253161635.py:30: FutureWarning: The frame.append method is deprecated and will be removed from pandas in a future version. Use pandas.concat instead.\n",
      "  new_df= new_df.append(data, ignore_index=True)\n",
      "/tmp/ipykernel_24298/253161635.py:30: FutureWarning: The frame.append method is deprecated and will be removed from pandas in a future version. Use pandas.concat instead.\n",
      "  new_df= new_df.append(data, ignore_index=True)\n",
      "/tmp/ipykernel_24298/253161635.py:30: FutureWarning: The frame.append method is deprecated and will be removed from pandas in a future version. Use pandas.concat instead.\n",
      "  new_df= new_df.append(data, ignore_index=True)\n",
      "/tmp/ipykernel_24298/253161635.py:30: FutureWarning: The frame.append method is deprecated and will be removed from pandas in a future version. Use pandas.concat instead.\n",
      "  new_df= new_df.append(data, ignore_index=True)\n"
     ]
    },
    {
     "name": "stdout",
     "output_type": "stream",
     "text": [
      "save image 640\n",
      "save image 641\n",
      "save image 642\n",
      "save image 643\n"
     ]
    },
    {
     "name": "stderr",
     "output_type": "stream",
     "text": [
      "/tmp/ipykernel_24298/253161635.py:30: FutureWarning: The frame.append method is deprecated and will be removed from pandas in a future version. Use pandas.concat instead.\n",
      "  new_df= new_df.append(data, ignore_index=True)\n",
      "/tmp/ipykernel_24298/253161635.py:30: FutureWarning: The frame.append method is deprecated and will be removed from pandas in a future version. Use pandas.concat instead.\n",
      "  new_df= new_df.append(data, ignore_index=True)\n",
      "/tmp/ipykernel_24298/253161635.py:30: FutureWarning: The frame.append method is deprecated and will be removed from pandas in a future version. Use pandas.concat instead.\n",
      "  new_df= new_df.append(data, ignore_index=True)\n",
      "/tmp/ipykernel_24298/253161635.py:30: FutureWarning: The frame.append method is deprecated and will be removed from pandas in a future version. Use pandas.concat instead.\n",
      "  new_df= new_df.append(data, ignore_index=True)\n",
      "/tmp/ipykernel_24298/253161635.py:30: FutureWarning: The frame.append method is deprecated and will be removed from pandas in a future version. Use pandas.concat instead.\n",
      "  new_df= new_df.append(data, ignore_index=True)\n"
     ]
    },
    {
     "name": "stdout",
     "output_type": "stream",
     "text": [
      "save image 644\n",
      "save image 645\n",
      "save image 646\n",
      "save image 647\n",
      "save image 648\n"
     ]
    },
    {
     "name": "stderr",
     "output_type": "stream",
     "text": [
      "/tmp/ipykernel_24298/253161635.py:30: FutureWarning: The frame.append method is deprecated and will be removed from pandas in a future version. Use pandas.concat instead.\n",
      "  new_df= new_df.append(data, ignore_index=True)\n",
      "/tmp/ipykernel_24298/253161635.py:30: FutureWarning: The frame.append method is deprecated and will be removed from pandas in a future version. Use pandas.concat instead.\n",
      "  new_df= new_df.append(data, ignore_index=True)\n",
      "/tmp/ipykernel_24298/253161635.py:30: FutureWarning: The frame.append method is deprecated and will be removed from pandas in a future version. Use pandas.concat instead.\n",
      "  new_df= new_df.append(data, ignore_index=True)\n",
      "/tmp/ipykernel_24298/253161635.py:30: FutureWarning: The frame.append method is deprecated and will be removed from pandas in a future version. Use pandas.concat instead.\n",
      "  new_df= new_df.append(data, ignore_index=True)\n"
     ]
    },
    {
     "name": "stdout",
     "output_type": "stream",
     "text": [
      "save image 649\n",
      "save image 650\n",
      "save image 651\n",
      "save image 652\n"
     ]
    },
    {
     "name": "stderr",
     "output_type": "stream",
     "text": [
      "/tmp/ipykernel_24298/253161635.py:30: FutureWarning: The frame.append method is deprecated and will be removed from pandas in a future version. Use pandas.concat instead.\n",
      "  new_df= new_df.append(data, ignore_index=True)\n",
      "/tmp/ipykernel_24298/253161635.py:30: FutureWarning: The frame.append method is deprecated and will be removed from pandas in a future version. Use pandas.concat instead.\n",
      "  new_df= new_df.append(data, ignore_index=True)\n",
      "/tmp/ipykernel_24298/253161635.py:30: FutureWarning: The frame.append method is deprecated and will be removed from pandas in a future version. Use pandas.concat instead.\n",
      "  new_df= new_df.append(data, ignore_index=True)\n",
      "/tmp/ipykernel_24298/253161635.py:30: FutureWarning: The frame.append method is deprecated and will be removed from pandas in a future version. Use pandas.concat instead.\n",
      "  new_df= new_df.append(data, ignore_index=True)\n"
     ]
    },
    {
     "name": "stdout",
     "output_type": "stream",
     "text": [
      "save image 653\n",
      "save image 654\n",
      "save image 655\n",
      "save image 656\n"
     ]
    },
    {
     "name": "stderr",
     "output_type": "stream",
     "text": [
      "/tmp/ipykernel_24298/253161635.py:30: FutureWarning: The frame.append method is deprecated and will be removed from pandas in a future version. Use pandas.concat instead.\n",
      "  new_df= new_df.append(data, ignore_index=True)\n",
      "/tmp/ipykernel_24298/253161635.py:30: FutureWarning: The frame.append method is deprecated and will be removed from pandas in a future version. Use pandas.concat instead.\n",
      "  new_df= new_df.append(data, ignore_index=True)\n",
      "/tmp/ipykernel_24298/253161635.py:30: FutureWarning: The frame.append method is deprecated and will be removed from pandas in a future version. Use pandas.concat instead.\n",
      "  new_df= new_df.append(data, ignore_index=True)\n",
      "/tmp/ipykernel_24298/253161635.py:30: FutureWarning: The frame.append method is deprecated and will be removed from pandas in a future version. Use pandas.concat instead.\n",
      "  new_df= new_df.append(data, ignore_index=True)\n"
     ]
    },
    {
     "name": "stdout",
     "output_type": "stream",
     "text": [
      "save image 657\n",
      "save image 658\n",
      "save image 659\n",
      "save image 660\n"
     ]
    },
    {
     "name": "stderr",
     "output_type": "stream",
     "text": [
      "/tmp/ipykernel_24298/253161635.py:30: FutureWarning: The frame.append method is deprecated and will be removed from pandas in a future version. Use pandas.concat instead.\n",
      "  new_df= new_df.append(data, ignore_index=True)\n",
      "/tmp/ipykernel_24298/253161635.py:30: FutureWarning: The frame.append method is deprecated and will be removed from pandas in a future version. Use pandas.concat instead.\n",
      "  new_df= new_df.append(data, ignore_index=True)\n",
      "/tmp/ipykernel_24298/253161635.py:30: FutureWarning: The frame.append method is deprecated and will be removed from pandas in a future version. Use pandas.concat instead.\n",
      "  new_df= new_df.append(data, ignore_index=True)\n",
      "/tmp/ipykernel_24298/253161635.py:30: FutureWarning: The frame.append method is deprecated and will be removed from pandas in a future version. Use pandas.concat instead.\n",
      "  new_df= new_df.append(data, ignore_index=True)\n"
     ]
    },
    {
     "name": "stdout",
     "output_type": "stream",
     "text": [
      "save image 661\n",
      "save image 662\n",
      "save image 663\n",
      "save image 664\n"
     ]
    },
    {
     "name": "stderr",
     "output_type": "stream",
     "text": [
      "/tmp/ipykernel_24298/253161635.py:30: FutureWarning: The frame.append method is deprecated and will be removed from pandas in a future version. Use pandas.concat instead.\n",
      "  new_df= new_df.append(data, ignore_index=True)\n",
      "/tmp/ipykernel_24298/253161635.py:30: FutureWarning: The frame.append method is deprecated and will be removed from pandas in a future version. Use pandas.concat instead.\n",
      "  new_df= new_df.append(data, ignore_index=True)\n",
      "/tmp/ipykernel_24298/253161635.py:30: FutureWarning: The frame.append method is deprecated and will be removed from pandas in a future version. Use pandas.concat instead.\n",
      "  new_df= new_df.append(data, ignore_index=True)\n",
      "/tmp/ipykernel_24298/253161635.py:30: FutureWarning: The frame.append method is deprecated and will be removed from pandas in a future version. Use pandas.concat instead.\n",
      "  new_df= new_df.append(data, ignore_index=True)\n",
      "/tmp/ipykernel_24298/253161635.py:30: FutureWarning: The frame.append method is deprecated and will be removed from pandas in a future version. Use pandas.concat instead.\n",
      "  new_df= new_df.append(data, ignore_index=True)\n",
      "/tmp/ipykernel_24298/253161635.py:30: FutureWarning: The frame.append method is deprecated and will be removed from pandas in a future version. Use pandas.concat instead.\n",
      "  new_df= new_df.append(data, ignore_index=True)\n"
     ]
    },
    {
     "name": "stdout",
     "output_type": "stream",
     "text": [
      "save image 665\n",
      "save image 666\n",
      "save image 667\n",
      "save image 668\n",
      "save image 669\n",
      "save image 670\n"
     ]
    },
    {
     "name": "stderr",
     "output_type": "stream",
     "text": [
      "/tmp/ipykernel_24298/253161635.py:30: FutureWarning: The frame.append method is deprecated and will be removed from pandas in a future version. Use pandas.concat instead.\n",
      "  new_df= new_df.append(data, ignore_index=True)\n",
      "/tmp/ipykernel_24298/253161635.py:30: FutureWarning: The frame.append method is deprecated and will be removed from pandas in a future version. Use pandas.concat instead.\n",
      "  new_df= new_df.append(data, ignore_index=True)\n",
      "/tmp/ipykernel_24298/253161635.py:30: FutureWarning: The frame.append method is deprecated and will be removed from pandas in a future version. Use pandas.concat instead.\n",
      "  new_df= new_df.append(data, ignore_index=True)\n",
      "/tmp/ipykernel_24298/253161635.py:30: FutureWarning: The frame.append method is deprecated and will be removed from pandas in a future version. Use pandas.concat instead.\n",
      "  new_df= new_df.append(data, ignore_index=True)\n"
     ]
    },
    {
     "name": "stdout",
     "output_type": "stream",
     "text": [
      "save image 671\n",
      "save image 672\n",
      "save image 673\n",
      "save image 674\n"
     ]
    },
    {
     "name": "stderr",
     "output_type": "stream",
     "text": [
      "/tmp/ipykernel_24298/253161635.py:30: FutureWarning: The frame.append method is deprecated and will be removed from pandas in a future version. Use pandas.concat instead.\n",
      "  new_df= new_df.append(data, ignore_index=True)\n",
      "/tmp/ipykernel_24298/253161635.py:30: FutureWarning: The frame.append method is deprecated and will be removed from pandas in a future version. Use pandas.concat instead.\n",
      "  new_df= new_df.append(data, ignore_index=True)\n",
      "/tmp/ipykernel_24298/253161635.py:30: FutureWarning: The frame.append method is deprecated and will be removed from pandas in a future version. Use pandas.concat instead.\n",
      "  new_df= new_df.append(data, ignore_index=True)\n",
      "/tmp/ipykernel_24298/253161635.py:30: FutureWarning: The frame.append method is deprecated and will be removed from pandas in a future version. Use pandas.concat instead.\n",
      "  new_df= new_df.append(data, ignore_index=True)\n",
      "/tmp/ipykernel_24298/253161635.py:30: FutureWarning: The frame.append method is deprecated and will be removed from pandas in a future version. Use pandas.concat instead.\n",
      "  new_df= new_df.append(data, ignore_index=True)\n"
     ]
    },
    {
     "name": "stdout",
     "output_type": "stream",
     "text": [
      "save image 675\n",
      "save image 676\n",
      "save image 677\n",
      "save image 678\n",
      "save image 679\n"
     ]
    },
    {
     "name": "stderr",
     "output_type": "stream",
     "text": [
      "/tmp/ipykernel_24298/253161635.py:30: FutureWarning: The frame.append method is deprecated and will be removed from pandas in a future version. Use pandas.concat instead.\n",
      "  new_df= new_df.append(data, ignore_index=True)\n",
      "/tmp/ipykernel_24298/253161635.py:30: FutureWarning: The frame.append method is deprecated and will be removed from pandas in a future version. Use pandas.concat instead.\n",
      "  new_df= new_df.append(data, ignore_index=True)\n",
      "/tmp/ipykernel_24298/253161635.py:30: FutureWarning: The frame.append method is deprecated and will be removed from pandas in a future version. Use pandas.concat instead.\n",
      "  new_df= new_df.append(data, ignore_index=True)\n",
      "/tmp/ipykernel_24298/253161635.py:30: FutureWarning: The frame.append method is deprecated and will be removed from pandas in a future version. Use pandas.concat instead.\n",
      "  new_df= new_df.append(data, ignore_index=True)\n",
      "/tmp/ipykernel_24298/253161635.py:30: FutureWarning: The frame.append method is deprecated and will be removed from pandas in a future version. Use pandas.concat instead.\n",
      "  new_df= new_df.append(data, ignore_index=True)\n"
     ]
    },
    {
     "name": "stdout",
     "output_type": "stream",
     "text": [
      "save image 680\n",
      "save image 681\n",
      "save image 682\n",
      "save image 683\n",
      "save image 684\n"
     ]
    },
    {
     "name": "stderr",
     "output_type": "stream",
     "text": [
      "/tmp/ipykernel_24298/253161635.py:30: FutureWarning: The frame.append method is deprecated and will be removed from pandas in a future version. Use pandas.concat instead.\n",
      "  new_df= new_df.append(data, ignore_index=True)\n",
      "/tmp/ipykernel_24298/253161635.py:30: FutureWarning: The frame.append method is deprecated and will be removed from pandas in a future version. Use pandas.concat instead.\n",
      "  new_df= new_df.append(data, ignore_index=True)\n",
      "/tmp/ipykernel_24298/253161635.py:30: FutureWarning: The frame.append method is deprecated and will be removed from pandas in a future version. Use pandas.concat instead.\n",
      "  new_df= new_df.append(data, ignore_index=True)\n",
      "/tmp/ipykernel_24298/253161635.py:30: FutureWarning: The frame.append method is deprecated and will be removed from pandas in a future version. Use pandas.concat instead.\n",
      "  new_df= new_df.append(data, ignore_index=True)\n",
      "/tmp/ipykernel_24298/253161635.py:30: FutureWarning: The frame.append method is deprecated and will be removed from pandas in a future version. Use pandas.concat instead.\n",
      "  new_df= new_df.append(data, ignore_index=True)\n"
     ]
    },
    {
     "name": "stdout",
     "output_type": "stream",
     "text": [
      "save image 685\n",
      "save image 686\n",
      "save image 687\n",
      "save image 688\n",
      "save image 689\n"
     ]
    },
    {
     "name": "stderr",
     "output_type": "stream",
     "text": [
      "/tmp/ipykernel_24298/253161635.py:30: FutureWarning: The frame.append method is deprecated and will be removed from pandas in a future version. Use pandas.concat instead.\n",
      "  new_df= new_df.append(data, ignore_index=True)\n",
      "/tmp/ipykernel_24298/253161635.py:30: FutureWarning: The frame.append method is deprecated and will be removed from pandas in a future version. Use pandas.concat instead.\n",
      "  new_df= new_df.append(data, ignore_index=True)\n",
      "/tmp/ipykernel_24298/253161635.py:30: FutureWarning: The frame.append method is deprecated and will be removed from pandas in a future version. Use pandas.concat instead.\n",
      "  new_df= new_df.append(data, ignore_index=True)\n",
      "/tmp/ipykernel_24298/253161635.py:30: FutureWarning: The frame.append method is deprecated and will be removed from pandas in a future version. Use pandas.concat instead.\n",
      "  new_df= new_df.append(data, ignore_index=True)\n",
      "/tmp/ipykernel_24298/253161635.py:30: FutureWarning: The frame.append method is deprecated and will be removed from pandas in a future version. Use pandas.concat instead.\n",
      "  new_df= new_df.append(data, ignore_index=True)\n",
      "/tmp/ipykernel_24298/253161635.py:30: FutureWarning: The frame.append method is deprecated and will be removed from pandas in a future version. Use pandas.concat instead.\n",
      "  new_df= new_df.append(data, ignore_index=True)\n",
      "/tmp/ipykernel_24298/253161635.py:30: FutureWarning: The frame.append method is deprecated and will be removed from pandas in a future version. Use pandas.concat instead.\n",
      "  new_df= new_df.append(data, ignore_index=True)\n"
     ]
    },
    {
     "name": "stdout",
     "output_type": "stream",
     "text": [
      "save image 690\n",
      "save image 691\n",
      "save image 692\n",
      "save image 693\n",
      "save image 694\n",
      "save image 695\n",
      "save image 696\n"
     ]
    },
    {
     "name": "stderr",
     "output_type": "stream",
     "text": [
      "/tmp/ipykernel_24298/253161635.py:30: FutureWarning: The frame.append method is deprecated and will be removed from pandas in a future version. Use pandas.concat instead.\n",
      "  new_df= new_df.append(data, ignore_index=True)\n",
      "/tmp/ipykernel_24298/253161635.py:30: FutureWarning: The frame.append method is deprecated and will be removed from pandas in a future version. Use pandas.concat instead.\n",
      "  new_df= new_df.append(data, ignore_index=True)\n",
      "/tmp/ipykernel_24298/253161635.py:30: FutureWarning: The frame.append method is deprecated and will be removed from pandas in a future version. Use pandas.concat instead.\n",
      "  new_df= new_df.append(data, ignore_index=True)\n",
      "/tmp/ipykernel_24298/253161635.py:30: FutureWarning: The frame.append method is deprecated and will be removed from pandas in a future version. Use pandas.concat instead.\n",
      "  new_df= new_df.append(data, ignore_index=True)\n"
     ]
    },
    {
     "name": "stdout",
     "output_type": "stream",
     "text": [
      "save image 697\n",
      "save image 698\n",
      "save image 699\n",
      "save image 700\n"
     ]
    },
    {
     "name": "stderr",
     "output_type": "stream",
     "text": [
      "/tmp/ipykernel_24298/253161635.py:30: FutureWarning: The frame.append method is deprecated and will be removed from pandas in a future version. Use pandas.concat instead.\n",
      "  new_df= new_df.append(data, ignore_index=True)\n",
      "/tmp/ipykernel_24298/253161635.py:30: FutureWarning: The frame.append method is deprecated and will be removed from pandas in a future version. Use pandas.concat instead.\n",
      "  new_df= new_df.append(data, ignore_index=True)\n",
      "/tmp/ipykernel_24298/253161635.py:30: FutureWarning: The frame.append method is deprecated and will be removed from pandas in a future version. Use pandas.concat instead.\n",
      "  new_df= new_df.append(data, ignore_index=True)\n",
      "/tmp/ipykernel_24298/253161635.py:30: FutureWarning: The frame.append method is deprecated and will be removed from pandas in a future version. Use pandas.concat instead.\n",
      "  new_df= new_df.append(data, ignore_index=True)\n"
     ]
    },
    {
     "name": "stdout",
     "output_type": "stream",
     "text": [
      "save image 701\n",
      "save image 702\n",
      "save image 703\n",
      "save image 704\n"
     ]
    },
    {
     "name": "stderr",
     "output_type": "stream",
     "text": [
      "/tmp/ipykernel_24298/253161635.py:30: FutureWarning: The frame.append method is deprecated and will be removed from pandas in a future version. Use pandas.concat instead.\n",
      "  new_df= new_df.append(data, ignore_index=True)\n",
      "/tmp/ipykernel_24298/253161635.py:30: FutureWarning: The frame.append method is deprecated and will be removed from pandas in a future version. Use pandas.concat instead.\n",
      "  new_df= new_df.append(data, ignore_index=True)\n",
      "/tmp/ipykernel_24298/253161635.py:30: FutureWarning: The frame.append method is deprecated and will be removed from pandas in a future version. Use pandas.concat instead.\n",
      "  new_df= new_df.append(data, ignore_index=True)\n",
      "/tmp/ipykernel_24298/253161635.py:30: FutureWarning: The frame.append method is deprecated and will be removed from pandas in a future version. Use pandas.concat instead.\n",
      "  new_df= new_df.append(data, ignore_index=True)\n",
      "/tmp/ipykernel_24298/253161635.py:30: FutureWarning: The frame.append method is deprecated and will be removed from pandas in a future version. Use pandas.concat instead.\n",
      "  new_df= new_df.append(data, ignore_index=True)\n"
     ]
    },
    {
     "name": "stdout",
     "output_type": "stream",
     "text": [
      "save image 705\n",
      "save image 706\n",
      "save image 707\n",
      "save image 708\n",
      "save image 709\n"
     ]
    },
    {
     "name": "stderr",
     "output_type": "stream",
     "text": [
      "/tmp/ipykernel_24298/253161635.py:30: FutureWarning: The frame.append method is deprecated and will be removed from pandas in a future version. Use pandas.concat instead.\n",
      "  new_df= new_df.append(data, ignore_index=True)\n",
      "/tmp/ipykernel_24298/253161635.py:30: FutureWarning: The frame.append method is deprecated and will be removed from pandas in a future version. Use pandas.concat instead.\n",
      "  new_df= new_df.append(data, ignore_index=True)\n",
      "/tmp/ipykernel_24298/253161635.py:30: FutureWarning: The frame.append method is deprecated and will be removed from pandas in a future version. Use pandas.concat instead.\n",
      "  new_df= new_df.append(data, ignore_index=True)\n",
      "/tmp/ipykernel_24298/253161635.py:30: FutureWarning: The frame.append method is deprecated and will be removed from pandas in a future version. Use pandas.concat instead.\n",
      "  new_df= new_df.append(data, ignore_index=True)\n"
     ]
    },
    {
     "name": "stdout",
     "output_type": "stream",
     "text": [
      "save image 710\n",
      "save image 711\n",
      "save image 712\n",
      "save image 713\n"
     ]
    },
    {
     "name": "stderr",
     "output_type": "stream",
     "text": [
      "/tmp/ipykernel_24298/253161635.py:30: FutureWarning: The frame.append method is deprecated and will be removed from pandas in a future version. Use pandas.concat instead.\n",
      "  new_df= new_df.append(data, ignore_index=True)\n",
      "/tmp/ipykernel_24298/253161635.py:30: FutureWarning: The frame.append method is deprecated and will be removed from pandas in a future version. Use pandas.concat instead.\n",
      "  new_df= new_df.append(data, ignore_index=True)\n",
      "/tmp/ipykernel_24298/253161635.py:30: FutureWarning: The frame.append method is deprecated and will be removed from pandas in a future version. Use pandas.concat instead.\n",
      "  new_df= new_df.append(data, ignore_index=True)\n",
      "/tmp/ipykernel_24298/253161635.py:30: FutureWarning: The frame.append method is deprecated and will be removed from pandas in a future version. Use pandas.concat instead.\n",
      "  new_df= new_df.append(data, ignore_index=True)\n",
      "/tmp/ipykernel_24298/253161635.py:30: FutureWarning: The frame.append method is deprecated and will be removed from pandas in a future version. Use pandas.concat instead.\n",
      "  new_df= new_df.append(data, ignore_index=True)\n",
      "/tmp/ipykernel_24298/253161635.py:30: FutureWarning: The frame.append method is deprecated and will be removed from pandas in a future version. Use pandas.concat instead.\n",
      "  new_df= new_df.append(data, ignore_index=True)\n"
     ]
    },
    {
     "name": "stdout",
     "output_type": "stream",
     "text": [
      "save image 714\n",
      "save image 715\n",
      "save image 716\n",
      "save image 717\n",
      "save image 718\n",
      "save image 719\n"
     ]
    },
    {
     "name": "stderr",
     "output_type": "stream",
     "text": [
      "/tmp/ipykernel_24298/253161635.py:30: FutureWarning: The frame.append method is deprecated and will be removed from pandas in a future version. Use pandas.concat instead.\n",
      "  new_df= new_df.append(data, ignore_index=True)\n",
      "/tmp/ipykernel_24298/253161635.py:30: FutureWarning: The frame.append method is deprecated and will be removed from pandas in a future version. Use pandas.concat instead.\n",
      "  new_df= new_df.append(data, ignore_index=True)\n",
      "/tmp/ipykernel_24298/253161635.py:30: FutureWarning: The frame.append method is deprecated and will be removed from pandas in a future version. Use pandas.concat instead.\n",
      "  new_df= new_df.append(data, ignore_index=True)\n",
      "/tmp/ipykernel_24298/253161635.py:30: FutureWarning: The frame.append method is deprecated and will be removed from pandas in a future version. Use pandas.concat instead.\n",
      "  new_df= new_df.append(data, ignore_index=True)\n",
      "/tmp/ipykernel_24298/253161635.py:30: FutureWarning: The frame.append method is deprecated and will be removed from pandas in a future version. Use pandas.concat instead.\n",
      "  new_df= new_df.append(data, ignore_index=True)\n"
     ]
    },
    {
     "name": "stdout",
     "output_type": "stream",
     "text": [
      "save image 720\n",
      "save image 721\n",
      "save image 722\n",
      "save image 723\n",
      "save image 724\n"
     ]
    },
    {
     "name": "stderr",
     "output_type": "stream",
     "text": [
      "/tmp/ipykernel_24298/253161635.py:30: FutureWarning: The frame.append method is deprecated and will be removed from pandas in a future version. Use pandas.concat instead.\n",
      "  new_df= new_df.append(data, ignore_index=True)\n",
      "/tmp/ipykernel_24298/253161635.py:30: FutureWarning: The frame.append method is deprecated and will be removed from pandas in a future version. Use pandas.concat instead.\n",
      "  new_df= new_df.append(data, ignore_index=True)\n",
      "/tmp/ipykernel_24298/253161635.py:30: FutureWarning: The frame.append method is deprecated and will be removed from pandas in a future version. Use pandas.concat instead.\n",
      "  new_df= new_df.append(data, ignore_index=True)\n",
      "/tmp/ipykernel_24298/253161635.py:30: FutureWarning: The frame.append method is deprecated and will be removed from pandas in a future version. Use pandas.concat instead.\n",
      "  new_df= new_df.append(data, ignore_index=True)\n",
      "/tmp/ipykernel_24298/253161635.py:30: FutureWarning: The frame.append method is deprecated and will be removed from pandas in a future version. Use pandas.concat instead.\n",
      "  new_df= new_df.append(data, ignore_index=True)\n"
     ]
    },
    {
     "name": "stdout",
     "output_type": "stream",
     "text": [
      "save image 725\n",
      "save image 726\n",
      "save image 727\n",
      "save image 728\n",
      "save image 729\n"
     ]
    },
    {
     "name": "stderr",
     "output_type": "stream",
     "text": [
      "/tmp/ipykernel_24298/253161635.py:30: FutureWarning: The frame.append method is deprecated and will be removed from pandas in a future version. Use pandas.concat instead.\n",
      "  new_df= new_df.append(data, ignore_index=True)\n",
      "/tmp/ipykernel_24298/253161635.py:30: FutureWarning: The frame.append method is deprecated and will be removed from pandas in a future version. Use pandas.concat instead.\n",
      "  new_df= new_df.append(data, ignore_index=True)\n",
      "/tmp/ipykernel_24298/253161635.py:30: FutureWarning: The frame.append method is deprecated and will be removed from pandas in a future version. Use pandas.concat instead.\n",
      "  new_df= new_df.append(data, ignore_index=True)\n",
      "/tmp/ipykernel_24298/253161635.py:30: FutureWarning: The frame.append method is deprecated and will be removed from pandas in a future version. Use pandas.concat instead.\n",
      "  new_df= new_df.append(data, ignore_index=True)\n",
      "/tmp/ipykernel_24298/253161635.py:30: FutureWarning: The frame.append method is deprecated and will be removed from pandas in a future version. Use pandas.concat instead.\n",
      "  new_df= new_df.append(data, ignore_index=True)\n",
      "/tmp/ipykernel_24298/253161635.py:30: FutureWarning: The frame.append method is deprecated and will be removed from pandas in a future version. Use pandas.concat instead.\n",
      "  new_df= new_df.append(data, ignore_index=True)\n"
     ]
    },
    {
     "name": "stdout",
     "output_type": "stream",
     "text": [
      "save image 730\n",
      "save image 731\n",
      "save image 732\n",
      "save image 733\n",
      "save image 734\n",
      "save image 735\n"
     ]
    },
    {
     "name": "stderr",
     "output_type": "stream",
     "text": [
      "/tmp/ipykernel_24298/253161635.py:30: FutureWarning: The frame.append method is deprecated and will be removed from pandas in a future version. Use pandas.concat instead.\n",
      "  new_df= new_df.append(data, ignore_index=True)\n",
      "/tmp/ipykernel_24298/253161635.py:30: FutureWarning: The frame.append method is deprecated and will be removed from pandas in a future version. Use pandas.concat instead.\n",
      "  new_df= new_df.append(data, ignore_index=True)\n",
      "/tmp/ipykernel_24298/253161635.py:30: FutureWarning: The frame.append method is deprecated and will be removed from pandas in a future version. Use pandas.concat instead.\n",
      "  new_df= new_df.append(data, ignore_index=True)\n",
      "/tmp/ipykernel_24298/253161635.py:30: FutureWarning: The frame.append method is deprecated and will be removed from pandas in a future version. Use pandas.concat instead.\n",
      "  new_df= new_df.append(data, ignore_index=True)\n",
      "/tmp/ipykernel_24298/253161635.py:30: FutureWarning: The frame.append method is deprecated and will be removed from pandas in a future version. Use pandas.concat instead.\n",
      "  new_df= new_df.append(data, ignore_index=True)\n"
     ]
    },
    {
     "name": "stdout",
     "output_type": "stream",
     "text": [
      "save image 736\n",
      "save image 737\n",
      "save image 738\n",
      "save image 739\n",
      "save image 740\n"
     ]
    },
    {
     "name": "stderr",
     "output_type": "stream",
     "text": [
      "/tmp/ipykernel_24298/253161635.py:30: FutureWarning: The frame.append method is deprecated and will be removed from pandas in a future version. Use pandas.concat instead.\n",
      "  new_df= new_df.append(data, ignore_index=True)\n",
      "/tmp/ipykernel_24298/253161635.py:30: FutureWarning: The frame.append method is deprecated and will be removed from pandas in a future version. Use pandas.concat instead.\n",
      "  new_df= new_df.append(data, ignore_index=True)\n",
      "/tmp/ipykernel_24298/253161635.py:30: FutureWarning: The frame.append method is deprecated and will be removed from pandas in a future version. Use pandas.concat instead.\n",
      "  new_df= new_df.append(data, ignore_index=True)\n",
      "/tmp/ipykernel_24298/253161635.py:30: FutureWarning: The frame.append method is deprecated and will be removed from pandas in a future version. Use pandas.concat instead.\n",
      "  new_df= new_df.append(data, ignore_index=True)\n"
     ]
    },
    {
     "name": "stdout",
     "output_type": "stream",
     "text": [
      "save image 741\n",
      "save image 742\n",
      "save image 743\n",
      "save image 744\n"
     ]
    },
    {
     "name": "stderr",
     "output_type": "stream",
     "text": [
      "/tmp/ipykernel_24298/253161635.py:30: FutureWarning: The frame.append method is deprecated and will be removed from pandas in a future version. Use pandas.concat instead.\n",
      "  new_df= new_df.append(data, ignore_index=True)\n",
      "/tmp/ipykernel_24298/253161635.py:30: FutureWarning: The frame.append method is deprecated and will be removed from pandas in a future version. Use pandas.concat instead.\n",
      "  new_df= new_df.append(data, ignore_index=True)\n",
      "/tmp/ipykernel_24298/253161635.py:30: FutureWarning: The frame.append method is deprecated and will be removed from pandas in a future version. Use pandas.concat instead.\n",
      "  new_df= new_df.append(data, ignore_index=True)\n",
      "/tmp/ipykernel_24298/253161635.py:30: FutureWarning: The frame.append method is deprecated and will be removed from pandas in a future version. Use pandas.concat instead.\n",
      "  new_df= new_df.append(data, ignore_index=True)\n",
      "/tmp/ipykernel_24298/253161635.py:30: FutureWarning: The frame.append method is deprecated and will be removed from pandas in a future version. Use pandas.concat instead.\n",
      "  new_df= new_df.append(data, ignore_index=True)\n",
      "/tmp/ipykernel_24298/253161635.py:30: FutureWarning: The frame.append method is deprecated and will be removed from pandas in a future version. Use pandas.concat instead.\n",
      "  new_df= new_df.append(data, ignore_index=True)\n"
     ]
    },
    {
     "name": "stdout",
     "output_type": "stream",
     "text": [
      "save image 745\n",
      "save image 746\n",
      "save image 747\n",
      "save image 748\n",
      "save image 749\n",
      "save image 750\n"
     ]
    },
    {
     "name": "stderr",
     "output_type": "stream",
     "text": [
      "/tmp/ipykernel_24298/253161635.py:30: FutureWarning: The frame.append method is deprecated and will be removed from pandas in a future version. Use pandas.concat instead.\n",
      "  new_df= new_df.append(data, ignore_index=True)\n",
      "/tmp/ipykernel_24298/253161635.py:30: FutureWarning: The frame.append method is deprecated and will be removed from pandas in a future version. Use pandas.concat instead.\n",
      "  new_df= new_df.append(data, ignore_index=True)\n",
      "/tmp/ipykernel_24298/253161635.py:30: FutureWarning: The frame.append method is deprecated and will be removed from pandas in a future version. Use pandas.concat instead.\n",
      "  new_df= new_df.append(data, ignore_index=True)\n",
      "/tmp/ipykernel_24298/253161635.py:30: FutureWarning: The frame.append method is deprecated and will be removed from pandas in a future version. Use pandas.concat instead.\n",
      "  new_df= new_df.append(data, ignore_index=True)\n",
      "/tmp/ipykernel_24298/253161635.py:30: FutureWarning: The frame.append method is deprecated and will be removed from pandas in a future version. Use pandas.concat instead.\n",
      "  new_df= new_df.append(data, ignore_index=True)\n"
     ]
    },
    {
     "name": "stdout",
     "output_type": "stream",
     "text": [
      "save image 751\n",
      "save image 752\n",
      "save image 753\n",
      "save image 754\n",
      "save image 755\n"
     ]
    },
    {
     "name": "stderr",
     "output_type": "stream",
     "text": [
      "/tmp/ipykernel_24298/253161635.py:30: FutureWarning: The frame.append method is deprecated and will be removed from pandas in a future version. Use pandas.concat instead.\n",
      "  new_df= new_df.append(data, ignore_index=True)\n",
      "/tmp/ipykernel_24298/253161635.py:30: FutureWarning: The frame.append method is deprecated and will be removed from pandas in a future version. Use pandas.concat instead.\n",
      "  new_df= new_df.append(data, ignore_index=True)\n",
      "/tmp/ipykernel_24298/253161635.py:30: FutureWarning: The frame.append method is deprecated and will be removed from pandas in a future version. Use pandas.concat instead.\n",
      "  new_df= new_df.append(data, ignore_index=True)\n",
      "/tmp/ipykernel_24298/253161635.py:30: FutureWarning: The frame.append method is deprecated and will be removed from pandas in a future version. Use pandas.concat instead.\n",
      "  new_df= new_df.append(data, ignore_index=True)\n",
      "/tmp/ipykernel_24298/253161635.py:30: FutureWarning: The frame.append method is deprecated and will be removed from pandas in a future version. Use pandas.concat instead.\n",
      "  new_df= new_df.append(data, ignore_index=True)\n"
     ]
    },
    {
     "name": "stdout",
     "output_type": "stream",
     "text": [
      "save image 756\n",
      "save image 757\n",
      "save image 758\n",
      "save image 759\n",
      "save image 760\n"
     ]
    },
    {
     "name": "stderr",
     "output_type": "stream",
     "text": [
      "/tmp/ipykernel_24298/253161635.py:30: FutureWarning: The frame.append method is deprecated and will be removed from pandas in a future version. Use pandas.concat instead.\n",
      "  new_df= new_df.append(data, ignore_index=True)\n",
      "/tmp/ipykernel_24298/253161635.py:30: FutureWarning: The frame.append method is deprecated and will be removed from pandas in a future version. Use pandas.concat instead.\n",
      "  new_df= new_df.append(data, ignore_index=True)\n",
      "/tmp/ipykernel_24298/253161635.py:30: FutureWarning: The frame.append method is deprecated and will be removed from pandas in a future version. Use pandas.concat instead.\n",
      "  new_df= new_df.append(data, ignore_index=True)\n",
      "/tmp/ipykernel_24298/253161635.py:30: FutureWarning: The frame.append method is deprecated and will be removed from pandas in a future version. Use pandas.concat instead.\n",
      "  new_df= new_df.append(data, ignore_index=True)\n",
      "/tmp/ipykernel_24298/253161635.py:30: FutureWarning: The frame.append method is deprecated and will be removed from pandas in a future version. Use pandas.concat instead.\n",
      "  new_df= new_df.append(data, ignore_index=True)\n"
     ]
    },
    {
     "name": "stdout",
     "output_type": "stream",
     "text": [
      "save image 761\n",
      "save image 762\n",
      "save image 763\n",
      "save image 764\n",
      "save image 765\n"
     ]
    },
    {
     "name": "stderr",
     "output_type": "stream",
     "text": [
      "/tmp/ipykernel_24298/253161635.py:30: FutureWarning: The frame.append method is deprecated and will be removed from pandas in a future version. Use pandas.concat instead.\n",
      "  new_df= new_df.append(data, ignore_index=True)\n",
      "/tmp/ipykernel_24298/253161635.py:30: FutureWarning: The frame.append method is deprecated and will be removed from pandas in a future version. Use pandas.concat instead.\n",
      "  new_df= new_df.append(data, ignore_index=True)\n",
      "/tmp/ipykernel_24298/253161635.py:30: FutureWarning: The frame.append method is deprecated and will be removed from pandas in a future version. Use pandas.concat instead.\n",
      "  new_df= new_df.append(data, ignore_index=True)\n",
      "/tmp/ipykernel_24298/253161635.py:30: FutureWarning: The frame.append method is deprecated and will be removed from pandas in a future version. Use pandas.concat instead.\n",
      "  new_df= new_df.append(data, ignore_index=True)\n",
      "/tmp/ipykernel_24298/253161635.py:30: FutureWarning: The frame.append method is deprecated and will be removed from pandas in a future version. Use pandas.concat instead.\n",
      "  new_df= new_df.append(data, ignore_index=True)\n"
     ]
    },
    {
     "name": "stdout",
     "output_type": "stream",
     "text": [
      "save image 766\n",
      "save image 767\n",
      "save image 768\n",
      "save image 769\n",
      "save image 770\n"
     ]
    },
    {
     "name": "stderr",
     "output_type": "stream",
     "text": [
      "/tmp/ipykernel_24298/253161635.py:30: FutureWarning: The frame.append method is deprecated and will be removed from pandas in a future version. Use pandas.concat instead.\n",
      "  new_df= new_df.append(data, ignore_index=True)\n",
      "/tmp/ipykernel_24298/253161635.py:30: FutureWarning: The frame.append method is deprecated and will be removed from pandas in a future version. Use pandas.concat instead.\n",
      "  new_df= new_df.append(data, ignore_index=True)\n",
      "/tmp/ipykernel_24298/253161635.py:30: FutureWarning: The frame.append method is deprecated and will be removed from pandas in a future version. Use pandas.concat instead.\n",
      "  new_df= new_df.append(data, ignore_index=True)\n",
      "/tmp/ipykernel_24298/253161635.py:30: FutureWarning: The frame.append method is deprecated and will be removed from pandas in a future version. Use pandas.concat instead.\n",
      "  new_df= new_df.append(data, ignore_index=True)\n",
      "/tmp/ipykernel_24298/253161635.py:30: FutureWarning: The frame.append method is deprecated and will be removed from pandas in a future version. Use pandas.concat instead.\n",
      "  new_df= new_df.append(data, ignore_index=True)\n"
     ]
    },
    {
     "name": "stdout",
     "output_type": "stream",
     "text": [
      "save image 771\n",
      "save image 772\n",
      "save image 773\n",
      "save image 774\n",
      "save image 775\n"
     ]
    },
    {
     "name": "stderr",
     "output_type": "stream",
     "text": [
      "/tmp/ipykernel_24298/253161635.py:30: FutureWarning: The frame.append method is deprecated and will be removed from pandas in a future version. Use pandas.concat instead.\n",
      "  new_df= new_df.append(data, ignore_index=True)\n",
      "/tmp/ipykernel_24298/253161635.py:30: FutureWarning: The frame.append method is deprecated and will be removed from pandas in a future version. Use pandas.concat instead.\n",
      "  new_df= new_df.append(data, ignore_index=True)\n",
      "/tmp/ipykernel_24298/253161635.py:30: FutureWarning: The frame.append method is deprecated and will be removed from pandas in a future version. Use pandas.concat instead.\n",
      "  new_df= new_df.append(data, ignore_index=True)\n",
      "/tmp/ipykernel_24298/253161635.py:30: FutureWarning: The frame.append method is deprecated and will be removed from pandas in a future version. Use pandas.concat instead.\n",
      "  new_df= new_df.append(data, ignore_index=True)\n",
      "/tmp/ipykernel_24298/253161635.py:30: FutureWarning: The frame.append method is deprecated and will be removed from pandas in a future version. Use pandas.concat instead.\n",
      "  new_df= new_df.append(data, ignore_index=True)\n"
     ]
    },
    {
     "name": "stdout",
     "output_type": "stream",
     "text": [
      "save image 776\n",
      "save image 777\n",
      "save image 778\n",
      "save image 779\n",
      "save image 780\n"
     ]
    },
    {
     "name": "stderr",
     "output_type": "stream",
     "text": [
      "/tmp/ipykernel_24298/253161635.py:30: FutureWarning: The frame.append method is deprecated and will be removed from pandas in a future version. Use pandas.concat instead.\n",
      "  new_df= new_df.append(data, ignore_index=True)\n",
      "/tmp/ipykernel_24298/253161635.py:30: FutureWarning: The frame.append method is deprecated and will be removed from pandas in a future version. Use pandas.concat instead.\n",
      "  new_df= new_df.append(data, ignore_index=True)\n",
      "/tmp/ipykernel_24298/253161635.py:30: FutureWarning: The frame.append method is deprecated and will be removed from pandas in a future version. Use pandas.concat instead.\n",
      "  new_df= new_df.append(data, ignore_index=True)\n",
      "/tmp/ipykernel_24298/253161635.py:30: FutureWarning: The frame.append method is deprecated and will be removed from pandas in a future version. Use pandas.concat instead.\n",
      "  new_df= new_df.append(data, ignore_index=True)\n",
      "/tmp/ipykernel_24298/253161635.py:30: FutureWarning: The frame.append method is deprecated and will be removed from pandas in a future version. Use pandas.concat instead.\n",
      "  new_df= new_df.append(data, ignore_index=True)\n",
      "/tmp/ipykernel_24298/253161635.py:30: FutureWarning: The frame.append method is deprecated and will be removed from pandas in a future version. Use pandas.concat instead.\n",
      "  new_df= new_df.append(data, ignore_index=True)\n"
     ]
    },
    {
     "name": "stdout",
     "output_type": "stream",
     "text": [
      "save image 781\n",
      "save image 782\n",
      "save image 783\n",
      "save image 784\n",
      "save image 785\n",
      "save image 786\n"
     ]
    },
    {
     "name": "stderr",
     "output_type": "stream",
     "text": [
      "/tmp/ipykernel_24298/253161635.py:30: FutureWarning: The frame.append method is deprecated and will be removed from pandas in a future version. Use pandas.concat instead.\n",
      "  new_df= new_df.append(data, ignore_index=True)\n",
      "/tmp/ipykernel_24298/253161635.py:30: FutureWarning: The frame.append method is deprecated and will be removed from pandas in a future version. Use pandas.concat instead.\n",
      "  new_df= new_df.append(data, ignore_index=True)\n",
      "/tmp/ipykernel_24298/253161635.py:30: FutureWarning: The frame.append method is deprecated and will be removed from pandas in a future version. Use pandas.concat instead.\n",
      "  new_df= new_df.append(data, ignore_index=True)\n",
      "/tmp/ipykernel_24298/253161635.py:30: FutureWarning: The frame.append method is deprecated and will be removed from pandas in a future version. Use pandas.concat instead.\n",
      "  new_df= new_df.append(data, ignore_index=True)\n"
     ]
    },
    {
     "name": "stdout",
     "output_type": "stream",
     "text": [
      "save image 787\n",
      "save image 788\n",
      "save image 789\n",
      "save image 790\n"
     ]
    },
    {
     "name": "stderr",
     "output_type": "stream",
     "text": [
      "/tmp/ipykernel_24298/253161635.py:30: FutureWarning: The frame.append method is deprecated and will be removed from pandas in a future version. Use pandas.concat instead.\n",
      "  new_df= new_df.append(data, ignore_index=True)\n",
      "/tmp/ipykernel_24298/253161635.py:30: FutureWarning: The frame.append method is deprecated and will be removed from pandas in a future version. Use pandas.concat instead.\n",
      "  new_df= new_df.append(data, ignore_index=True)\n",
      "/tmp/ipykernel_24298/253161635.py:30: FutureWarning: The frame.append method is deprecated and will be removed from pandas in a future version. Use pandas.concat instead.\n",
      "  new_df= new_df.append(data, ignore_index=True)\n",
      "/tmp/ipykernel_24298/253161635.py:30: FutureWarning: The frame.append method is deprecated and will be removed from pandas in a future version. Use pandas.concat instead.\n",
      "  new_df= new_df.append(data, ignore_index=True)\n"
     ]
    },
    {
     "name": "stdout",
     "output_type": "stream",
     "text": [
      "save image 791\n",
      "save image 792\n",
      "save image 793\n",
      "save image 794\n"
     ]
    },
    {
     "name": "stderr",
     "output_type": "stream",
     "text": [
      "/tmp/ipykernel_24298/253161635.py:30: FutureWarning: The frame.append method is deprecated and will be removed from pandas in a future version. Use pandas.concat instead.\n",
      "  new_df= new_df.append(data, ignore_index=True)\n",
      "/tmp/ipykernel_24298/253161635.py:30: FutureWarning: The frame.append method is deprecated and will be removed from pandas in a future version. Use pandas.concat instead.\n",
      "  new_df= new_df.append(data, ignore_index=True)\n",
      "/tmp/ipykernel_24298/253161635.py:30: FutureWarning: The frame.append method is deprecated and will be removed from pandas in a future version. Use pandas.concat instead.\n",
      "  new_df= new_df.append(data, ignore_index=True)\n",
      "/tmp/ipykernel_24298/253161635.py:30: FutureWarning: The frame.append method is deprecated and will be removed from pandas in a future version. Use pandas.concat instead.\n",
      "  new_df= new_df.append(data, ignore_index=True)\n",
      "/tmp/ipykernel_24298/253161635.py:30: FutureWarning: The frame.append method is deprecated and will be removed from pandas in a future version. Use pandas.concat instead.\n",
      "  new_df= new_df.append(data, ignore_index=True)\n",
      "/tmp/ipykernel_24298/253161635.py:30: FutureWarning: The frame.append method is deprecated and will be removed from pandas in a future version. Use pandas.concat instead.\n",
      "  new_df= new_df.append(data, ignore_index=True)\n",
      "/tmp/ipykernel_24298/253161635.py:30: FutureWarning: The frame.append method is deprecated and will be removed from pandas in a future version. Use pandas.concat instead.\n",
      "  new_df= new_df.append(data, ignore_index=True)\n"
     ]
    },
    {
     "name": "stdout",
     "output_type": "stream",
     "text": [
      "save image 795\n",
      "save image 796\n",
      "save image 797\n",
      "save image 798\n",
      "save image 799\n",
      "save image 800\n",
      "save image 801\n"
     ]
    },
    {
     "name": "stderr",
     "output_type": "stream",
     "text": [
      "/tmp/ipykernel_24298/253161635.py:30: FutureWarning: The frame.append method is deprecated and will be removed from pandas in a future version. Use pandas.concat instead.\n",
      "  new_df= new_df.append(data, ignore_index=True)\n",
      "/tmp/ipykernel_24298/253161635.py:30: FutureWarning: The frame.append method is deprecated and will be removed from pandas in a future version. Use pandas.concat instead.\n",
      "  new_df= new_df.append(data, ignore_index=True)\n",
      "/tmp/ipykernel_24298/253161635.py:30: FutureWarning: The frame.append method is deprecated and will be removed from pandas in a future version. Use pandas.concat instead.\n",
      "  new_df= new_df.append(data, ignore_index=True)\n",
      "/tmp/ipykernel_24298/253161635.py:30: FutureWarning: The frame.append method is deprecated and will be removed from pandas in a future version. Use pandas.concat instead.\n",
      "  new_df= new_df.append(data, ignore_index=True)\n",
      "/tmp/ipykernel_24298/253161635.py:30: FutureWarning: The frame.append method is deprecated and will be removed from pandas in a future version. Use pandas.concat instead.\n",
      "  new_df= new_df.append(data, ignore_index=True)\n",
      "/tmp/ipykernel_24298/253161635.py:30: FutureWarning: The frame.append method is deprecated and will be removed from pandas in a future version. Use pandas.concat instead.\n",
      "  new_df= new_df.append(data, ignore_index=True)\n",
      "/tmp/ipykernel_24298/253161635.py:30: FutureWarning: The frame.append method is deprecated and will be removed from pandas in a future version. Use pandas.concat instead.\n",
      "  new_df= new_df.append(data, ignore_index=True)\n"
     ]
    },
    {
     "name": "stdout",
     "output_type": "stream",
     "text": [
      "save image 802\n",
      "save image 803\n",
      "save image 804\n",
      "save image 805\n",
      "save image 806\n",
      "save image 807\n",
      "save image 808\n"
     ]
    },
    {
     "name": "stderr",
     "output_type": "stream",
     "text": [
      "/tmp/ipykernel_24298/253161635.py:30: FutureWarning: The frame.append method is deprecated and will be removed from pandas in a future version. Use pandas.concat instead.\n",
      "  new_df= new_df.append(data, ignore_index=True)\n",
      "/tmp/ipykernel_24298/253161635.py:30: FutureWarning: The frame.append method is deprecated and will be removed from pandas in a future version. Use pandas.concat instead.\n",
      "  new_df= new_df.append(data, ignore_index=True)\n",
      "/tmp/ipykernel_24298/253161635.py:30: FutureWarning: The frame.append method is deprecated and will be removed from pandas in a future version. Use pandas.concat instead.\n",
      "  new_df= new_df.append(data, ignore_index=True)\n",
      "/tmp/ipykernel_24298/253161635.py:30: FutureWarning: The frame.append method is deprecated and will be removed from pandas in a future version. Use pandas.concat instead.\n",
      "  new_df= new_df.append(data, ignore_index=True)\n",
      "/tmp/ipykernel_24298/253161635.py:30: FutureWarning: The frame.append method is deprecated and will be removed from pandas in a future version. Use pandas.concat instead.\n",
      "  new_df= new_df.append(data, ignore_index=True)\n",
      "/tmp/ipykernel_24298/253161635.py:30: FutureWarning: The frame.append method is deprecated and will be removed from pandas in a future version. Use pandas.concat instead.\n",
      "  new_df= new_df.append(data, ignore_index=True)\n"
     ]
    },
    {
     "name": "stdout",
     "output_type": "stream",
     "text": [
      "save image 809\n",
      "save image 810\n",
      "save image 811\n",
      "save image 812\n",
      "save image 813\n",
      "save image 814\n"
     ]
    },
    {
     "name": "stderr",
     "output_type": "stream",
     "text": [
      "/tmp/ipykernel_24298/253161635.py:30: FutureWarning: The frame.append method is deprecated and will be removed from pandas in a future version. Use pandas.concat instead.\n",
      "  new_df= new_df.append(data, ignore_index=True)\n",
      "/tmp/ipykernel_24298/253161635.py:30: FutureWarning: The frame.append method is deprecated and will be removed from pandas in a future version. Use pandas.concat instead.\n",
      "  new_df= new_df.append(data, ignore_index=True)\n",
      "/tmp/ipykernel_24298/253161635.py:30: FutureWarning: The frame.append method is deprecated and will be removed from pandas in a future version. Use pandas.concat instead.\n",
      "  new_df= new_df.append(data, ignore_index=True)\n",
      "/tmp/ipykernel_24298/253161635.py:30: FutureWarning: The frame.append method is deprecated and will be removed from pandas in a future version. Use pandas.concat instead.\n",
      "  new_df= new_df.append(data, ignore_index=True)\n",
      "/tmp/ipykernel_24298/253161635.py:30: FutureWarning: The frame.append method is deprecated and will be removed from pandas in a future version. Use pandas.concat instead.\n",
      "  new_df= new_df.append(data, ignore_index=True)\n"
     ]
    },
    {
     "name": "stdout",
     "output_type": "stream",
     "text": [
      "save image 815\n",
      "save image 816\n",
      "save image 817\n",
      "save image 818\n",
      "save image 819\n"
     ]
    },
    {
     "name": "stderr",
     "output_type": "stream",
     "text": [
      "/tmp/ipykernel_24298/253161635.py:30: FutureWarning: The frame.append method is deprecated and will be removed from pandas in a future version. Use pandas.concat instead.\n",
      "  new_df= new_df.append(data, ignore_index=True)\n",
      "/tmp/ipykernel_24298/253161635.py:30: FutureWarning: The frame.append method is deprecated and will be removed from pandas in a future version. Use pandas.concat instead.\n",
      "  new_df= new_df.append(data, ignore_index=True)\n",
      "/tmp/ipykernel_24298/253161635.py:30: FutureWarning: The frame.append method is deprecated and will be removed from pandas in a future version. Use pandas.concat instead.\n",
      "  new_df= new_df.append(data, ignore_index=True)\n",
      "/tmp/ipykernel_24298/253161635.py:30: FutureWarning: The frame.append method is deprecated and will be removed from pandas in a future version. Use pandas.concat instead.\n",
      "  new_df= new_df.append(data, ignore_index=True)\n"
     ]
    },
    {
     "name": "stdout",
     "output_type": "stream",
     "text": [
      "save image 820\n",
      "save image 821\n",
      "save image 822\n",
      "save image 823\n"
     ]
    },
    {
     "name": "stderr",
     "output_type": "stream",
     "text": [
      "/tmp/ipykernel_24298/253161635.py:30: FutureWarning: The frame.append method is deprecated and will be removed from pandas in a future version. Use pandas.concat instead.\n",
      "  new_df= new_df.append(data, ignore_index=True)\n",
      "/tmp/ipykernel_24298/253161635.py:30: FutureWarning: The frame.append method is deprecated and will be removed from pandas in a future version. Use pandas.concat instead.\n",
      "  new_df= new_df.append(data, ignore_index=True)\n",
      "/tmp/ipykernel_24298/253161635.py:30: FutureWarning: The frame.append method is deprecated and will be removed from pandas in a future version. Use pandas.concat instead.\n",
      "  new_df= new_df.append(data, ignore_index=True)\n",
      "/tmp/ipykernel_24298/253161635.py:30: FutureWarning: The frame.append method is deprecated and will be removed from pandas in a future version. Use pandas.concat instead.\n",
      "  new_df= new_df.append(data, ignore_index=True)\n",
      "/tmp/ipykernel_24298/253161635.py:30: FutureWarning: The frame.append method is deprecated and will be removed from pandas in a future version. Use pandas.concat instead.\n",
      "  new_df= new_df.append(data, ignore_index=True)\n"
     ]
    },
    {
     "name": "stdout",
     "output_type": "stream",
     "text": [
      "save image 824\n",
      "save image 825\n",
      "save image 826\n",
      "save image 827\n",
      "save image 828\n"
     ]
    },
    {
     "name": "stderr",
     "output_type": "stream",
     "text": [
      "/tmp/ipykernel_24298/253161635.py:30: FutureWarning: The frame.append method is deprecated and will be removed from pandas in a future version. Use pandas.concat instead.\n",
      "  new_df= new_df.append(data, ignore_index=True)\n",
      "/tmp/ipykernel_24298/253161635.py:30: FutureWarning: The frame.append method is deprecated and will be removed from pandas in a future version. Use pandas.concat instead.\n",
      "  new_df= new_df.append(data, ignore_index=True)\n",
      "/tmp/ipykernel_24298/253161635.py:30: FutureWarning: The frame.append method is deprecated and will be removed from pandas in a future version. Use pandas.concat instead.\n",
      "  new_df= new_df.append(data, ignore_index=True)\n",
      "/tmp/ipykernel_24298/253161635.py:30: FutureWarning: The frame.append method is deprecated and will be removed from pandas in a future version. Use pandas.concat instead.\n",
      "  new_df= new_df.append(data, ignore_index=True)\n",
      "/tmp/ipykernel_24298/253161635.py:30: FutureWarning: The frame.append method is deprecated and will be removed from pandas in a future version. Use pandas.concat instead.\n",
      "  new_df= new_df.append(data, ignore_index=True)\n"
     ]
    },
    {
     "name": "stdout",
     "output_type": "stream",
     "text": [
      "save image 829\n",
      "save image 830\n",
      "save image 831\n",
      "save image 832\n",
      "save image 833\n"
     ]
    },
    {
     "name": "stderr",
     "output_type": "stream",
     "text": [
      "/tmp/ipykernel_24298/253161635.py:30: FutureWarning: The frame.append method is deprecated and will be removed from pandas in a future version. Use pandas.concat instead.\n",
      "  new_df= new_df.append(data, ignore_index=True)\n",
      "/tmp/ipykernel_24298/253161635.py:30: FutureWarning: The frame.append method is deprecated and will be removed from pandas in a future version. Use pandas.concat instead.\n",
      "  new_df= new_df.append(data, ignore_index=True)\n",
      "/tmp/ipykernel_24298/253161635.py:30: FutureWarning: The frame.append method is deprecated and will be removed from pandas in a future version. Use pandas.concat instead.\n",
      "  new_df= new_df.append(data, ignore_index=True)\n",
      "/tmp/ipykernel_24298/253161635.py:30: FutureWarning: The frame.append method is deprecated and will be removed from pandas in a future version. Use pandas.concat instead.\n",
      "  new_df= new_df.append(data, ignore_index=True)\n"
     ]
    },
    {
     "name": "stdout",
     "output_type": "stream",
     "text": [
      "save image 834\n",
      "save image 835\n",
      "save image 836\n",
      "save image 837\n"
     ]
    },
    {
     "name": "stderr",
     "output_type": "stream",
     "text": [
      "/tmp/ipykernel_24298/253161635.py:30: FutureWarning: The frame.append method is deprecated and will be removed from pandas in a future version. Use pandas.concat instead.\n",
      "  new_df= new_df.append(data, ignore_index=True)\n",
      "/tmp/ipykernel_24298/253161635.py:30: FutureWarning: The frame.append method is deprecated and will be removed from pandas in a future version. Use pandas.concat instead.\n",
      "  new_df= new_df.append(data, ignore_index=True)\n",
      "/tmp/ipykernel_24298/253161635.py:30: FutureWarning: The frame.append method is deprecated and will be removed from pandas in a future version. Use pandas.concat instead.\n",
      "  new_df= new_df.append(data, ignore_index=True)\n",
      "/tmp/ipykernel_24298/253161635.py:30: FutureWarning: The frame.append method is deprecated and will be removed from pandas in a future version. Use pandas.concat instead.\n",
      "  new_df= new_df.append(data, ignore_index=True)\n"
     ]
    },
    {
     "name": "stdout",
     "output_type": "stream",
     "text": [
      "save image 838\n",
      "save image 839\n",
      "save image 840\n",
      "save image 841\n"
     ]
    },
    {
     "name": "stderr",
     "output_type": "stream",
     "text": [
      "/tmp/ipykernel_24298/253161635.py:30: FutureWarning: The frame.append method is deprecated and will be removed from pandas in a future version. Use pandas.concat instead.\n",
      "  new_df= new_df.append(data, ignore_index=True)\n",
      "/tmp/ipykernel_24298/253161635.py:30: FutureWarning: The frame.append method is deprecated and will be removed from pandas in a future version. Use pandas.concat instead.\n",
      "  new_df= new_df.append(data, ignore_index=True)\n",
      "/tmp/ipykernel_24298/253161635.py:30: FutureWarning: The frame.append method is deprecated and will be removed from pandas in a future version. Use pandas.concat instead.\n",
      "  new_df= new_df.append(data, ignore_index=True)\n",
      "/tmp/ipykernel_24298/253161635.py:30: FutureWarning: The frame.append method is deprecated and will be removed from pandas in a future version. Use pandas.concat instead.\n",
      "  new_df= new_df.append(data, ignore_index=True)\n",
      "/tmp/ipykernel_24298/253161635.py:30: FutureWarning: The frame.append method is deprecated and will be removed from pandas in a future version. Use pandas.concat instead.\n",
      "  new_df= new_df.append(data, ignore_index=True)\n"
     ]
    },
    {
     "name": "stdout",
     "output_type": "stream",
     "text": [
      "save image 842\n",
      "save image 843\n",
      "save image 844\n",
      "save image 845\n",
      "save image 846\n"
     ]
    },
    {
     "name": "stderr",
     "output_type": "stream",
     "text": [
      "/tmp/ipykernel_24298/253161635.py:30: FutureWarning: The frame.append method is deprecated and will be removed from pandas in a future version. Use pandas.concat instead.\n",
      "  new_df= new_df.append(data, ignore_index=True)\n",
      "/tmp/ipykernel_24298/253161635.py:30: FutureWarning: The frame.append method is deprecated and will be removed from pandas in a future version. Use pandas.concat instead.\n",
      "  new_df= new_df.append(data, ignore_index=True)\n",
      "/tmp/ipykernel_24298/253161635.py:30: FutureWarning: The frame.append method is deprecated and will be removed from pandas in a future version. Use pandas.concat instead.\n",
      "  new_df= new_df.append(data, ignore_index=True)\n",
      "/tmp/ipykernel_24298/253161635.py:30: FutureWarning: The frame.append method is deprecated and will be removed from pandas in a future version. Use pandas.concat instead.\n",
      "  new_df= new_df.append(data, ignore_index=True)\n",
      "/tmp/ipykernel_24298/253161635.py:30: FutureWarning: The frame.append method is deprecated and will be removed from pandas in a future version. Use pandas.concat instead.\n",
      "  new_df= new_df.append(data, ignore_index=True)\n"
     ]
    },
    {
     "name": "stdout",
     "output_type": "stream",
     "text": [
      "save image 847\n",
      "save image 848\n",
      "save image 849\n",
      "save image 850\n",
      "save image 851\n"
     ]
    },
    {
     "name": "stderr",
     "output_type": "stream",
     "text": [
      "/tmp/ipykernel_24298/253161635.py:30: FutureWarning: The frame.append method is deprecated and will be removed from pandas in a future version. Use pandas.concat instead.\n",
      "  new_df= new_df.append(data, ignore_index=True)\n",
      "/tmp/ipykernel_24298/253161635.py:30: FutureWarning: The frame.append method is deprecated and will be removed from pandas in a future version. Use pandas.concat instead.\n",
      "  new_df= new_df.append(data, ignore_index=True)\n",
      "/tmp/ipykernel_24298/253161635.py:30: FutureWarning: The frame.append method is deprecated and will be removed from pandas in a future version. Use pandas.concat instead.\n",
      "  new_df= new_df.append(data, ignore_index=True)\n",
      "/tmp/ipykernel_24298/253161635.py:30: FutureWarning: The frame.append method is deprecated and will be removed from pandas in a future version. Use pandas.concat instead.\n",
      "  new_df= new_df.append(data, ignore_index=True)\n",
      "/tmp/ipykernel_24298/253161635.py:30: FutureWarning: The frame.append method is deprecated and will be removed from pandas in a future version. Use pandas.concat instead.\n",
      "  new_df= new_df.append(data, ignore_index=True)\n",
      "/tmp/ipykernel_24298/253161635.py:30: FutureWarning: The frame.append method is deprecated and will be removed from pandas in a future version. Use pandas.concat instead.\n",
      "  new_df= new_df.append(data, ignore_index=True)\n"
     ]
    },
    {
     "name": "stdout",
     "output_type": "stream",
     "text": [
      "save image 852\n",
      "save image 853\n",
      "save image 854\n",
      "save image 855\n",
      "save image 856\n",
      "save image 857\n"
     ]
    },
    {
     "name": "stderr",
     "output_type": "stream",
     "text": [
      "/tmp/ipykernel_24298/253161635.py:30: FutureWarning: The frame.append method is deprecated and will be removed from pandas in a future version. Use pandas.concat instead.\n",
      "  new_df= new_df.append(data, ignore_index=True)\n",
      "/tmp/ipykernel_24298/253161635.py:30: FutureWarning: The frame.append method is deprecated and will be removed from pandas in a future version. Use pandas.concat instead.\n",
      "  new_df= new_df.append(data, ignore_index=True)\n",
      "/tmp/ipykernel_24298/253161635.py:30: FutureWarning: The frame.append method is deprecated and will be removed from pandas in a future version. Use pandas.concat instead.\n",
      "  new_df= new_df.append(data, ignore_index=True)\n",
      "/tmp/ipykernel_24298/253161635.py:30: FutureWarning: The frame.append method is deprecated and will be removed from pandas in a future version. Use pandas.concat instead.\n",
      "  new_df= new_df.append(data, ignore_index=True)\n",
      "/tmp/ipykernel_24298/253161635.py:30: FutureWarning: The frame.append method is deprecated and will be removed from pandas in a future version. Use pandas.concat instead.\n",
      "  new_df= new_df.append(data, ignore_index=True)\n"
     ]
    },
    {
     "name": "stdout",
     "output_type": "stream",
     "text": [
      "save image 858\n",
      "save image 859\n",
      "save image 860\n",
      "save image 861\n",
      "save image 862\n"
     ]
    },
    {
     "name": "stderr",
     "output_type": "stream",
     "text": [
      "/tmp/ipykernel_24298/253161635.py:30: FutureWarning: The frame.append method is deprecated and will be removed from pandas in a future version. Use pandas.concat instead.\n",
      "  new_df= new_df.append(data, ignore_index=True)\n",
      "/tmp/ipykernel_24298/253161635.py:30: FutureWarning: The frame.append method is deprecated and will be removed from pandas in a future version. Use pandas.concat instead.\n",
      "  new_df= new_df.append(data, ignore_index=True)\n",
      "/tmp/ipykernel_24298/253161635.py:30: FutureWarning: The frame.append method is deprecated and will be removed from pandas in a future version. Use pandas.concat instead.\n",
      "  new_df= new_df.append(data, ignore_index=True)\n",
      "/tmp/ipykernel_24298/253161635.py:30: FutureWarning: The frame.append method is deprecated and will be removed from pandas in a future version. Use pandas.concat instead.\n",
      "  new_df= new_df.append(data, ignore_index=True)\n",
      "/tmp/ipykernel_24298/253161635.py:30: FutureWarning: The frame.append method is deprecated and will be removed from pandas in a future version. Use pandas.concat instead.\n",
      "  new_df= new_df.append(data, ignore_index=True)\n"
     ]
    },
    {
     "name": "stdout",
     "output_type": "stream",
     "text": [
      "save image 863\n",
      "save image 864\n",
      "save image 865\n",
      "save image 866\n",
      "save image 867\n"
     ]
    },
    {
     "name": "stderr",
     "output_type": "stream",
     "text": [
      "/tmp/ipykernel_24298/253161635.py:30: FutureWarning: The frame.append method is deprecated and will be removed from pandas in a future version. Use pandas.concat instead.\n",
      "  new_df= new_df.append(data, ignore_index=True)\n",
      "/tmp/ipykernel_24298/253161635.py:30: FutureWarning: The frame.append method is deprecated and will be removed from pandas in a future version. Use pandas.concat instead.\n",
      "  new_df= new_df.append(data, ignore_index=True)\n",
      "/tmp/ipykernel_24298/253161635.py:30: FutureWarning: The frame.append method is deprecated and will be removed from pandas in a future version. Use pandas.concat instead.\n",
      "  new_df= new_df.append(data, ignore_index=True)\n",
      "/tmp/ipykernel_24298/253161635.py:30: FutureWarning: The frame.append method is deprecated and will be removed from pandas in a future version. Use pandas.concat instead.\n",
      "  new_df= new_df.append(data, ignore_index=True)\n",
      "/tmp/ipykernel_24298/253161635.py:30: FutureWarning: The frame.append method is deprecated and will be removed from pandas in a future version. Use pandas.concat instead.\n",
      "  new_df= new_df.append(data, ignore_index=True)\n",
      "/tmp/ipykernel_24298/253161635.py:30: FutureWarning: The frame.append method is deprecated and will be removed from pandas in a future version. Use pandas.concat instead.\n",
      "  new_df= new_df.append(data, ignore_index=True)\n"
     ]
    },
    {
     "name": "stdout",
     "output_type": "stream",
     "text": [
      "save image 868\n",
      "save image 869\n",
      "save image 870\n",
      "save image 871\n",
      "save image 872\n",
      "save image 873\n",
      "save image 874\n",
      "save image 875\n",
      "save image 876\n",
      "save image 877\n",
      "save image 878\n"
     ]
    },
    {
     "name": "stderr",
     "output_type": "stream",
     "text": [
      "/tmp/ipykernel_24298/253161635.py:30: FutureWarning: The frame.append method is deprecated and will be removed from pandas in a future version. Use pandas.concat instead.\n",
      "  new_df= new_df.append(data, ignore_index=True)\n",
      "/tmp/ipykernel_24298/253161635.py:30: FutureWarning: The frame.append method is deprecated and will be removed from pandas in a future version. Use pandas.concat instead.\n",
      "  new_df= new_df.append(data, ignore_index=True)\n",
      "/tmp/ipykernel_24298/253161635.py:30: FutureWarning: The frame.append method is deprecated and will be removed from pandas in a future version. Use pandas.concat instead.\n",
      "  new_df= new_df.append(data, ignore_index=True)\n",
      "/tmp/ipykernel_24298/253161635.py:30: FutureWarning: The frame.append method is deprecated and will be removed from pandas in a future version. Use pandas.concat instead.\n",
      "  new_df= new_df.append(data, ignore_index=True)\n",
      "/tmp/ipykernel_24298/253161635.py:30: FutureWarning: The frame.append method is deprecated and will be removed from pandas in a future version. Use pandas.concat instead.\n",
      "  new_df= new_df.append(data, ignore_index=True)\n",
      "/tmp/ipykernel_24298/253161635.py:30: FutureWarning: The frame.append method is deprecated and will be removed from pandas in a future version. Use pandas.concat instead.\n",
      "  new_df= new_df.append(data, ignore_index=True)\n",
      "/tmp/ipykernel_24298/253161635.py:30: FutureWarning: The frame.append method is deprecated and will be removed from pandas in a future version. Use pandas.concat instead.\n",
      "  new_df= new_df.append(data, ignore_index=True)\n",
      "/tmp/ipykernel_24298/253161635.py:30: FutureWarning: The frame.append method is deprecated and will be removed from pandas in a future version. Use pandas.concat instead.\n",
      "  new_df= new_df.append(data, ignore_index=True)\n",
      "/tmp/ipykernel_24298/253161635.py:30: FutureWarning: The frame.append method is deprecated and will be removed from pandas in a future version. Use pandas.concat instead.\n",
      "  new_df= new_df.append(data, ignore_index=True)\n"
     ]
    },
    {
     "name": "stdout",
     "output_type": "stream",
     "text": [
      "save image 879\n",
      "save image 880\n",
      "save image 881\n",
      "save image 882\n"
     ]
    },
    {
     "name": "stderr",
     "output_type": "stream",
     "text": [
      "/tmp/ipykernel_24298/253161635.py:30: FutureWarning: The frame.append method is deprecated and will be removed from pandas in a future version. Use pandas.concat instead.\n",
      "  new_df= new_df.append(data, ignore_index=True)\n",
      "/tmp/ipykernel_24298/253161635.py:30: FutureWarning: The frame.append method is deprecated and will be removed from pandas in a future version. Use pandas.concat instead.\n",
      "  new_df= new_df.append(data, ignore_index=True)\n",
      "/tmp/ipykernel_24298/253161635.py:30: FutureWarning: The frame.append method is deprecated and will be removed from pandas in a future version. Use pandas.concat instead.\n",
      "  new_df= new_df.append(data, ignore_index=True)\n",
      "/tmp/ipykernel_24298/253161635.py:30: FutureWarning: The frame.append method is deprecated and will be removed from pandas in a future version. Use pandas.concat instead.\n",
      "  new_df= new_df.append(data, ignore_index=True)\n",
      "/tmp/ipykernel_24298/253161635.py:30: FutureWarning: The frame.append method is deprecated and will be removed from pandas in a future version. Use pandas.concat instead.\n",
      "  new_df= new_df.append(data, ignore_index=True)\n"
     ]
    },
    {
     "name": "stdout",
     "output_type": "stream",
     "text": [
      "save image 883\n",
      "save image 884\n",
      "save image 885\n",
      "save image 886\n",
      "save image 887\n"
     ]
    },
    {
     "name": "stderr",
     "output_type": "stream",
     "text": [
      "/tmp/ipykernel_24298/253161635.py:30: FutureWarning: The frame.append method is deprecated and will be removed from pandas in a future version. Use pandas.concat instead.\n",
      "  new_df= new_df.append(data, ignore_index=True)\n",
      "/tmp/ipykernel_24298/253161635.py:30: FutureWarning: The frame.append method is deprecated and will be removed from pandas in a future version. Use pandas.concat instead.\n",
      "  new_df= new_df.append(data, ignore_index=True)\n",
      "/tmp/ipykernel_24298/253161635.py:30: FutureWarning: The frame.append method is deprecated and will be removed from pandas in a future version. Use pandas.concat instead.\n",
      "  new_df= new_df.append(data, ignore_index=True)\n",
      "/tmp/ipykernel_24298/253161635.py:30: FutureWarning: The frame.append method is deprecated and will be removed from pandas in a future version. Use pandas.concat instead.\n",
      "  new_df= new_df.append(data, ignore_index=True)\n",
      "/tmp/ipykernel_24298/253161635.py:30: FutureWarning: The frame.append method is deprecated and will be removed from pandas in a future version. Use pandas.concat instead.\n",
      "  new_df= new_df.append(data, ignore_index=True)\n"
     ]
    },
    {
     "name": "stdout",
     "output_type": "stream",
     "text": [
      "save image 888\n",
      "save image 889\n",
      "save image 890\n",
      "save image 891\n",
      "save image 892\n"
     ]
    },
    {
     "name": "stderr",
     "output_type": "stream",
     "text": [
      "/tmp/ipykernel_24298/253161635.py:30: FutureWarning: The frame.append method is deprecated and will be removed from pandas in a future version. Use pandas.concat instead.\n",
      "  new_df= new_df.append(data, ignore_index=True)\n",
      "/tmp/ipykernel_24298/253161635.py:30: FutureWarning: The frame.append method is deprecated and will be removed from pandas in a future version. Use pandas.concat instead.\n",
      "  new_df= new_df.append(data, ignore_index=True)\n",
      "/tmp/ipykernel_24298/253161635.py:30: FutureWarning: The frame.append method is deprecated and will be removed from pandas in a future version. Use pandas.concat instead.\n",
      "  new_df= new_df.append(data, ignore_index=True)\n",
      "/tmp/ipykernel_24298/253161635.py:30: FutureWarning: The frame.append method is deprecated and will be removed from pandas in a future version. Use pandas.concat instead.\n",
      "  new_df= new_df.append(data, ignore_index=True)\n"
     ]
    },
    {
     "name": "stdout",
     "output_type": "stream",
     "text": [
      "save image 893\n",
      "save image 894\n",
      "save image 895\n",
      "save image 896\n"
     ]
    },
    {
     "name": "stderr",
     "output_type": "stream",
     "text": [
      "/tmp/ipykernel_24298/253161635.py:30: FutureWarning: The frame.append method is deprecated and will be removed from pandas in a future version. Use pandas.concat instead.\n",
      "  new_df= new_df.append(data, ignore_index=True)\n",
      "/tmp/ipykernel_24298/253161635.py:30: FutureWarning: The frame.append method is deprecated and will be removed from pandas in a future version. Use pandas.concat instead.\n",
      "  new_df= new_df.append(data, ignore_index=True)\n",
      "/tmp/ipykernel_24298/253161635.py:30: FutureWarning: The frame.append method is deprecated and will be removed from pandas in a future version. Use pandas.concat instead.\n",
      "  new_df= new_df.append(data, ignore_index=True)\n",
      "/tmp/ipykernel_24298/253161635.py:30: FutureWarning: The frame.append method is deprecated and will be removed from pandas in a future version. Use pandas.concat instead.\n",
      "  new_df= new_df.append(data, ignore_index=True)\n",
      "/tmp/ipykernel_24298/253161635.py:30: FutureWarning: The frame.append method is deprecated and will be removed from pandas in a future version. Use pandas.concat instead.\n",
      "  new_df= new_df.append(data, ignore_index=True)\n"
     ]
    },
    {
     "name": "stdout",
     "output_type": "stream",
     "text": [
      "save image 897\n",
      "save image 898\n",
      "save image 899\n",
      "save image 900\n",
      "save image 901\n"
     ]
    },
    {
     "name": "stderr",
     "output_type": "stream",
     "text": [
      "/tmp/ipykernel_24298/253161635.py:30: FutureWarning: The frame.append method is deprecated and will be removed from pandas in a future version. Use pandas.concat instead.\n",
      "  new_df= new_df.append(data, ignore_index=True)\n",
      "/tmp/ipykernel_24298/253161635.py:30: FutureWarning: The frame.append method is deprecated and will be removed from pandas in a future version. Use pandas.concat instead.\n",
      "  new_df= new_df.append(data, ignore_index=True)\n",
      "/tmp/ipykernel_24298/253161635.py:30: FutureWarning: The frame.append method is deprecated and will be removed from pandas in a future version. Use pandas.concat instead.\n",
      "  new_df= new_df.append(data, ignore_index=True)\n",
      "/tmp/ipykernel_24298/253161635.py:30: FutureWarning: The frame.append method is deprecated and will be removed from pandas in a future version. Use pandas.concat instead.\n",
      "  new_df= new_df.append(data, ignore_index=True)\n",
      "/tmp/ipykernel_24298/253161635.py:30: FutureWarning: The frame.append method is deprecated and will be removed from pandas in a future version. Use pandas.concat instead.\n",
      "  new_df= new_df.append(data, ignore_index=True)\n"
     ]
    },
    {
     "name": "stdout",
     "output_type": "stream",
     "text": [
      "save image 902\n",
      "save image 903\n",
      "save image 904\n",
      "save image 905\n",
      "save image 906\n"
     ]
    },
    {
     "name": "stderr",
     "output_type": "stream",
     "text": [
      "/tmp/ipykernel_24298/253161635.py:30: FutureWarning: The frame.append method is deprecated and will be removed from pandas in a future version. Use pandas.concat instead.\n",
      "  new_df= new_df.append(data, ignore_index=True)\n",
      "/tmp/ipykernel_24298/253161635.py:30: FutureWarning: The frame.append method is deprecated and will be removed from pandas in a future version. Use pandas.concat instead.\n",
      "  new_df= new_df.append(data, ignore_index=True)\n",
      "/tmp/ipykernel_24298/253161635.py:30: FutureWarning: The frame.append method is deprecated and will be removed from pandas in a future version. Use pandas.concat instead.\n",
      "  new_df= new_df.append(data, ignore_index=True)\n",
      "/tmp/ipykernel_24298/253161635.py:30: FutureWarning: The frame.append method is deprecated and will be removed from pandas in a future version. Use pandas.concat instead.\n",
      "  new_df= new_df.append(data, ignore_index=True)\n",
      "/tmp/ipykernel_24298/253161635.py:30: FutureWarning: The frame.append method is deprecated and will be removed from pandas in a future version. Use pandas.concat instead.\n",
      "  new_df= new_df.append(data, ignore_index=True)\n",
      "/tmp/ipykernel_24298/253161635.py:30: FutureWarning: The frame.append method is deprecated and will be removed from pandas in a future version. Use pandas.concat instead.\n",
      "  new_df= new_df.append(data, ignore_index=True)\n"
     ]
    },
    {
     "name": "stdout",
     "output_type": "stream",
     "text": [
      "save image 907\n",
      "save image 908\n",
      "save image 909\n",
      "save image 910\n",
      "save image 911\n",
      "save image 912\n"
     ]
    },
    {
     "name": "stderr",
     "output_type": "stream",
     "text": [
      "/tmp/ipykernel_24298/253161635.py:30: FutureWarning: The frame.append method is deprecated and will be removed from pandas in a future version. Use pandas.concat instead.\n",
      "  new_df= new_df.append(data, ignore_index=True)\n",
      "/tmp/ipykernel_24298/253161635.py:30: FutureWarning: The frame.append method is deprecated and will be removed from pandas in a future version. Use pandas.concat instead.\n",
      "  new_df= new_df.append(data, ignore_index=True)\n",
      "/tmp/ipykernel_24298/253161635.py:30: FutureWarning: The frame.append method is deprecated and will be removed from pandas in a future version. Use pandas.concat instead.\n",
      "  new_df= new_df.append(data, ignore_index=True)\n",
      "/tmp/ipykernel_24298/253161635.py:30: FutureWarning: The frame.append method is deprecated and will be removed from pandas in a future version. Use pandas.concat instead.\n",
      "  new_df= new_df.append(data, ignore_index=True)\n"
     ]
    },
    {
     "name": "stdout",
     "output_type": "stream",
     "text": [
      "save image 913\n",
      "save image 914\n",
      "save image 915\n",
      "save image 916\n"
     ]
    },
    {
     "name": "stderr",
     "output_type": "stream",
     "text": [
      "/tmp/ipykernel_24298/253161635.py:30: FutureWarning: The frame.append method is deprecated and will be removed from pandas in a future version. Use pandas.concat instead.\n",
      "  new_df= new_df.append(data, ignore_index=True)\n",
      "/tmp/ipykernel_24298/253161635.py:30: FutureWarning: The frame.append method is deprecated and will be removed from pandas in a future version. Use pandas.concat instead.\n",
      "  new_df= new_df.append(data, ignore_index=True)\n",
      "/tmp/ipykernel_24298/253161635.py:30: FutureWarning: The frame.append method is deprecated and will be removed from pandas in a future version. Use pandas.concat instead.\n",
      "  new_df= new_df.append(data, ignore_index=True)\n",
      "/tmp/ipykernel_24298/253161635.py:30: FutureWarning: The frame.append method is deprecated and will be removed from pandas in a future version. Use pandas.concat instead.\n",
      "  new_df= new_df.append(data, ignore_index=True)\n",
      "/tmp/ipykernel_24298/253161635.py:30: FutureWarning: The frame.append method is deprecated and will be removed from pandas in a future version. Use pandas.concat instead.\n",
      "  new_df= new_df.append(data, ignore_index=True)\n"
     ]
    },
    {
     "name": "stdout",
     "output_type": "stream",
     "text": [
      "save image 917\n",
      "save image 918\n",
      "save image 919\n",
      "save image 920\n",
      "save image 921\n"
     ]
    },
    {
     "name": "stderr",
     "output_type": "stream",
     "text": [
      "/tmp/ipykernel_24298/253161635.py:30: FutureWarning: The frame.append method is deprecated and will be removed from pandas in a future version. Use pandas.concat instead.\n",
      "  new_df= new_df.append(data, ignore_index=True)\n",
      "/tmp/ipykernel_24298/253161635.py:30: FutureWarning: The frame.append method is deprecated and will be removed from pandas in a future version. Use pandas.concat instead.\n",
      "  new_df= new_df.append(data, ignore_index=True)\n",
      "/tmp/ipykernel_24298/253161635.py:30: FutureWarning: The frame.append method is deprecated and will be removed from pandas in a future version. Use pandas.concat instead.\n",
      "  new_df= new_df.append(data, ignore_index=True)\n",
      "/tmp/ipykernel_24298/253161635.py:30: FutureWarning: The frame.append method is deprecated and will be removed from pandas in a future version. Use pandas.concat instead.\n",
      "  new_df= new_df.append(data, ignore_index=True)\n"
     ]
    },
    {
     "name": "stdout",
     "output_type": "stream",
     "text": [
      "save image 922\n",
      "save image 923\n",
      "save image 924\n",
      "save image 925\n"
     ]
    },
    {
     "name": "stderr",
     "output_type": "stream",
     "text": [
      "/tmp/ipykernel_24298/253161635.py:30: FutureWarning: The frame.append method is deprecated and will be removed from pandas in a future version. Use pandas.concat instead.\n",
      "  new_df= new_df.append(data, ignore_index=True)\n",
      "/tmp/ipykernel_24298/253161635.py:30: FutureWarning: The frame.append method is deprecated and will be removed from pandas in a future version. Use pandas.concat instead.\n",
      "  new_df= new_df.append(data, ignore_index=True)\n",
      "/tmp/ipykernel_24298/253161635.py:30: FutureWarning: The frame.append method is deprecated and will be removed from pandas in a future version. Use pandas.concat instead.\n",
      "  new_df= new_df.append(data, ignore_index=True)\n",
      "/tmp/ipykernel_24298/253161635.py:30: FutureWarning: The frame.append method is deprecated and will be removed from pandas in a future version. Use pandas.concat instead.\n",
      "  new_df= new_df.append(data, ignore_index=True)\n",
      "/tmp/ipykernel_24298/253161635.py:30: FutureWarning: The frame.append method is deprecated and will be removed from pandas in a future version. Use pandas.concat instead.\n",
      "  new_df= new_df.append(data, ignore_index=True)\n"
     ]
    },
    {
     "name": "stdout",
     "output_type": "stream",
     "text": [
      "save image 926\n",
      "save image 927\n",
      "save image 928\n",
      "save image 929\n",
      "save image 930\n",
      "save image 931\n",
      "save image 932\n",
      "save image 933\n",
      "save image 934\n",
      "save image 935\n",
      "save image 936\n",
      "save incorrect_old_image 936\n"
     ]
    },
    {
     "name": "stderr",
     "output_type": "stream",
     "text": [
      "/tmp/ipykernel_24298/253161635.py:30: FutureWarning: The frame.append method is deprecated and will be removed from pandas in a future version. Use pandas.concat instead.\n",
      "  new_df= new_df.append(data, ignore_index=True)\n",
      "/tmp/ipykernel_24298/253161635.py:30: FutureWarning: The frame.append method is deprecated and will be removed from pandas in a future version. Use pandas.concat instead.\n",
      "  new_df= new_df.append(data, ignore_index=True)\n",
      "/tmp/ipykernel_24298/253161635.py:30: FutureWarning: The frame.append method is deprecated and will be removed from pandas in a future version. Use pandas.concat instead.\n",
      "  new_df= new_df.append(data, ignore_index=True)\n",
      "/tmp/ipykernel_24298/253161635.py:30: FutureWarning: The frame.append method is deprecated and will be removed from pandas in a future version. Use pandas.concat instead.\n",
      "  new_df= new_df.append(data, ignore_index=True)\n",
      "/tmp/ipykernel_24298/253161635.py:30: FutureWarning: The frame.append method is deprecated and will be removed from pandas in a future version. Use pandas.concat instead.\n",
      "  new_df= new_df.append(data, ignore_index=True)\n",
      "/tmp/ipykernel_24298/253161635.py:30: FutureWarning: The frame.append method is deprecated and will be removed from pandas in a future version. Use pandas.concat instead.\n",
      "  new_df= new_df.append(data, ignore_index=True)\n"
     ]
    }
   ],
   "source": [
    "new_df= pd.DataFrame()\n",
    "amount=0\n",
    "for idx in normal_old_idx:\n",
    "    for i in range(6):\n",
    "        amount+=1\n",
    "        image= transform(image= np.array(Image.open(normal_old['image_paths'][idx])))['image']\n",
    "        image= Image.fromarray(image,'RGB')\n",
    "        data=make_new_image(num= i, img=image, idd=normal_old['ids'][idx], gender=normal_old['gender_labels'][idx], mask=normal_old['mask_labels'][idx], age=60)\n",
    "        new_df= new_df.append(data, ignore_index=True)\n",
    "print(f'save normal_old_image {amount}')\n",
    "\n",
    "amount=0\n",
    "for idx in wear_old_idx:\n",
    "    for i in range(1):\n",
    "        amount+=1\n",
    "        image= transform(image= np.array(Image.open(wear_old['image_paths'][idx])))['image']\n",
    "        image= Image.fromarray(image,'RGB')\n",
    "        data=make_new_image(num= i, img=image, idd= wear_old['ids'][idx], gender= wear_old['gender_labels'][idx], mask= wear_old['mask_labels'][idx], age= 60)\n",
    "        new_df= new_df.append(data, ignore_index=True)\n",
    "        print(f'save image {amount}')\n",
    "print(f'save wear_old_image {amount}')\n",
    "\n",
    "amount=0\n",
    "for idx in incorrect_old_idx:\n",
    "    for i in range(6):\n",
    "        amount+=1\n",
    "        image= transform(image= np.array(Image.open(incorrect_old['image_paths'][idx])))['image']\n",
    "        image= Image.fromarray(image,'RGB')\n",
    "        data=make_new_image(num= i, img=image, idd= incorrect_old['ids'][idx], gender= incorrect_old['gender_labels'][idx], mask=incorrect_old['mask_labels'][idx], age= 60)\n",
    "        new_df= new_df.append(data, ignore_index=True)\n",
    "        print(f'save image {amount}')\n",
    "print(f'save incorrect_old_image {amount}')"
   ]
  },
  {
   "cell_type": "code",
   "execution_count": 30,
   "id": "55add071-6649-43ae-9723-05fb785ad20f",
   "metadata": {},
   "outputs": [
    {
     "data": {
      "text/html": [
       "<div>\n",
       "<style scoped>\n",
       "    .dataframe tbody tr th:only-of-type {\n",
       "        vertical-align: middle;\n",
       "    }\n",
       "\n",
       "    .dataframe tbody tr th {\n",
       "        vertical-align: top;\n",
       "    }\n",
       "\n",
       "    .dataframe thead th {\n",
       "        text-align: right;\n",
       "    }\n",
       "</style>\n",
       "<table border=\"1\" class=\"dataframe\">\n",
       "  <thead>\n",
       "    <tr style=\"text-align: right;\">\n",
       "      <th></th>\n",
       "      <th>ids</th>\n",
       "      <th>image_paths</th>\n",
       "      <th>mask_labels</th>\n",
       "      <th>gender_labels</th>\n",
       "      <th>age_labels</th>\n",
       "    </tr>\n",
       "  </thead>\n",
       "  <tbody>\n",
       "    <tr>\n",
       "      <th>0</th>\n",
       "      <td>001382</td>\n",
       "      <td>/opt/ml/input/data/train/images2/001382_female...</td>\n",
       "      <td>2</td>\n",
       "      <td>female</td>\n",
       "      <td>60</td>\n",
       "    </tr>\n",
       "    <tr>\n",
       "      <th>1</th>\n",
       "      <td>001382</td>\n",
       "      <td>/opt/ml/input/data/train/images2/001382_female...</td>\n",
       "      <td>2</td>\n",
       "      <td>female</td>\n",
       "      <td>60</td>\n",
       "    </tr>\n",
       "    <tr>\n",
       "      <th>2</th>\n",
       "      <td>001382</td>\n",
       "      <td>/opt/ml/input/data/train/images2/001382_female...</td>\n",
       "      <td>2</td>\n",
       "      <td>female</td>\n",
       "      <td>60</td>\n",
       "    </tr>\n",
       "    <tr>\n",
       "      <th>3</th>\n",
       "      <td>001382</td>\n",
       "      <td>/opt/ml/input/data/train/images2/001382_female...</td>\n",
       "      <td>2</td>\n",
       "      <td>female</td>\n",
       "      <td>60</td>\n",
       "    </tr>\n",
       "    <tr>\n",
       "      <th>4</th>\n",
       "      <td>001382</td>\n",
       "      <td>/opt/ml/input/data/train/images2/001382_female...</td>\n",
       "      <td>2</td>\n",
       "      <td>female</td>\n",
       "      <td>60</td>\n",
       "    </tr>\n",
       "    <tr>\n",
       "      <th>...</th>\n",
       "      <td>...</td>\n",
       "      <td>...</td>\n",
       "      <td>...</td>\n",
       "      <td>...</td>\n",
       "      <td>...</td>\n",
       "    </tr>\n",
       "    <tr>\n",
       "      <th>2647</th>\n",
       "      <td>003729</td>\n",
       "      <td>/opt/ml/input/data/train/images2/003729_female...</td>\n",
       "      <td>1</td>\n",
       "      <td>female</td>\n",
       "      <td>60</td>\n",
       "    </tr>\n",
       "    <tr>\n",
       "      <th>2648</th>\n",
       "      <td>003729</td>\n",
       "      <td>/opt/ml/input/data/train/images2/003729_female...</td>\n",
       "      <td>1</td>\n",
       "      <td>female</td>\n",
       "      <td>60</td>\n",
       "    </tr>\n",
       "    <tr>\n",
       "      <th>2649</th>\n",
       "      <td>003729</td>\n",
       "      <td>/opt/ml/input/data/train/images2/003729_female...</td>\n",
       "      <td>1</td>\n",
       "      <td>female</td>\n",
       "      <td>60</td>\n",
       "    </tr>\n",
       "    <tr>\n",
       "      <th>2650</th>\n",
       "      <td>003729</td>\n",
       "      <td>/opt/ml/input/data/train/images2/003729_female...</td>\n",
       "      <td>1</td>\n",
       "      <td>female</td>\n",
       "      <td>60</td>\n",
       "    </tr>\n",
       "    <tr>\n",
       "      <th>2651</th>\n",
       "      <td>003729</td>\n",
       "      <td>/opt/ml/input/data/train/images2/003729_female...</td>\n",
       "      <td>1</td>\n",
       "      <td>female</td>\n",
       "      <td>60</td>\n",
       "    </tr>\n",
       "  </tbody>\n",
       "</table>\n",
       "<p>2652 rows × 5 columns</p>\n",
       "</div>"
      ],
      "text/plain": [
       "         ids                                        image_paths  mask_labels  \\\n",
       "0     001382  /opt/ml/input/data/train/images2/001382_female...            2   \n",
       "1     001382  /opt/ml/input/data/train/images2/001382_female...            2   \n",
       "2     001382  /opt/ml/input/data/train/images2/001382_female...            2   \n",
       "3     001382  /opt/ml/input/data/train/images2/001382_female...            2   \n",
       "4     001382  /opt/ml/input/data/train/images2/001382_female...            2   \n",
       "...      ...                                                ...          ...   \n",
       "2647  003729  /opt/ml/input/data/train/images2/003729_female...            1   \n",
       "2648  003729  /opt/ml/input/data/train/images2/003729_female...            1   \n",
       "2649  003729  /opt/ml/input/data/train/images2/003729_female...            1   \n",
       "2650  003729  /opt/ml/input/data/train/images2/003729_female...            1   \n",
       "2651  003729  /opt/ml/input/data/train/images2/003729_female...            1   \n",
       "\n",
       "     gender_labels  age_labels  \n",
       "0           female          60  \n",
       "1           female          60  \n",
       "2           female          60  \n",
       "3           female          60  \n",
       "4           female          60  \n",
       "...            ...         ...  \n",
       "2647        female          60  \n",
       "2648        female          60  \n",
       "2649        female          60  \n",
       "2650        female          60  \n",
       "2651        female          60  \n",
       "\n",
       "[2652 rows x 5 columns]"
      ]
     },
     "execution_count": 30,
     "metadata": {},
     "output_type": "execute_result"
    }
   ],
   "source": [
    "new_df"
   ]
  },
  {
   "cell_type": "code",
   "execution_count": 31,
   "id": "7089b213-a116-4888-9d41-8bb840cf4c67",
   "metadata": {},
   "outputs": [
    {
     "data": {
      "text/html": [
       "<div>\n",
       "<style scoped>\n",
       "    .dataframe tbody tr th:only-of-type {\n",
       "        vertical-align: middle;\n",
       "    }\n",
       "\n",
       "    .dataframe tbody tr th {\n",
       "        vertical-align: top;\n",
       "    }\n",
       "\n",
       "    .dataframe thead th {\n",
       "        text-align: right;\n",
       "    }\n",
       "</style>\n",
       "<table border=\"1\" class=\"dataframe\">\n",
       "  <thead>\n",
       "    <tr style=\"text-align: right;\">\n",
       "      <th></th>\n",
       "      <th>ids</th>\n",
       "      <th>image_paths</th>\n",
       "      <th>mask_labels</th>\n",
       "      <th>gender_labels</th>\n",
       "      <th>age_labels</th>\n",
       "    </tr>\n",
       "  </thead>\n",
       "  <tbody>\n",
       "    <tr>\n",
       "      <th>0</th>\n",
       "      <td>001382</td>\n",
       "      <td>/opt/ml/input/data/train/images2/001382_female...</td>\n",
       "      <td>2</td>\n",
       "      <td>female</td>\n",
       "      <td>60</td>\n",
       "    </tr>\n",
       "    <tr>\n",
       "      <th>1</th>\n",
       "      <td>001382</td>\n",
       "      <td>/opt/ml/input/data/train/images2/001382_female...</td>\n",
       "      <td>2</td>\n",
       "      <td>female</td>\n",
       "      <td>60</td>\n",
       "    </tr>\n",
       "    <tr>\n",
       "      <th>2</th>\n",
       "      <td>001382</td>\n",
       "      <td>/opt/ml/input/data/train/images2/001382_female...</td>\n",
       "      <td>2</td>\n",
       "      <td>female</td>\n",
       "      <td>60</td>\n",
       "    </tr>\n",
       "    <tr>\n",
       "      <th>3</th>\n",
       "      <td>001382</td>\n",
       "      <td>/opt/ml/input/data/train/images2/001382_female...</td>\n",
       "      <td>2</td>\n",
       "      <td>female</td>\n",
       "      <td>60</td>\n",
       "    </tr>\n",
       "    <tr>\n",
       "      <th>4</th>\n",
       "      <td>001382</td>\n",
       "      <td>/opt/ml/input/data/train/images2/001382_female...</td>\n",
       "      <td>2</td>\n",
       "      <td>female</td>\n",
       "      <td>60</td>\n",
       "    </tr>\n",
       "    <tr>\n",
       "      <th>5</th>\n",
       "      <td>001382</td>\n",
       "      <td>/opt/ml/input/data/train/images2/001382_female...</td>\n",
       "      <td>2</td>\n",
       "      <td>female</td>\n",
       "      <td>60</td>\n",
       "    </tr>\n",
       "    <tr>\n",
       "      <th>936</th>\n",
       "      <td>001382</td>\n",
       "      <td>/opt/ml/input/data/train/images2/001382_female...</td>\n",
       "      <td>0</td>\n",
       "      <td>female</td>\n",
       "      <td>60</td>\n",
       "    </tr>\n",
       "    <tr>\n",
       "      <th>937</th>\n",
       "      <td>001382</td>\n",
       "      <td>/opt/ml/input/data/train/images2/001382_female...</td>\n",
       "      <td>0</td>\n",
       "      <td>female</td>\n",
       "      <td>60</td>\n",
       "    </tr>\n",
       "    <tr>\n",
       "      <th>938</th>\n",
       "      <td>001382</td>\n",
       "      <td>/opt/ml/input/data/train/images2/001382_female...</td>\n",
       "      <td>0</td>\n",
       "      <td>female</td>\n",
       "      <td>60</td>\n",
       "    </tr>\n",
       "    <tr>\n",
       "      <th>939</th>\n",
       "      <td>001382</td>\n",
       "      <td>/opt/ml/input/data/train/images2/001382_female...</td>\n",
       "      <td>0</td>\n",
       "      <td>female</td>\n",
       "      <td>60</td>\n",
       "    </tr>\n",
       "    <tr>\n",
       "      <th>940</th>\n",
       "      <td>001382</td>\n",
       "      <td>/opt/ml/input/data/train/images2/001382_female...</td>\n",
       "      <td>0</td>\n",
       "      <td>female</td>\n",
       "      <td>60</td>\n",
       "    </tr>\n",
       "    <tr>\n",
       "      <th>1716</th>\n",
       "      <td>001382</td>\n",
       "      <td>/opt/ml/input/data/train/images2/001382_female...</td>\n",
       "      <td>1</td>\n",
       "      <td>female</td>\n",
       "      <td>60</td>\n",
       "    </tr>\n",
       "    <tr>\n",
       "      <th>1717</th>\n",
       "      <td>001382</td>\n",
       "      <td>/opt/ml/input/data/train/images2/001382_female...</td>\n",
       "      <td>1</td>\n",
       "      <td>female</td>\n",
       "      <td>60</td>\n",
       "    </tr>\n",
       "    <tr>\n",
       "      <th>1718</th>\n",
       "      <td>001382</td>\n",
       "      <td>/opt/ml/input/data/train/images2/001382_female...</td>\n",
       "      <td>1</td>\n",
       "      <td>female</td>\n",
       "      <td>60</td>\n",
       "    </tr>\n",
       "    <tr>\n",
       "      <th>1719</th>\n",
       "      <td>001382</td>\n",
       "      <td>/opt/ml/input/data/train/images2/001382_female...</td>\n",
       "      <td>1</td>\n",
       "      <td>female</td>\n",
       "      <td>60</td>\n",
       "    </tr>\n",
       "    <tr>\n",
       "      <th>1720</th>\n",
       "      <td>001382</td>\n",
       "      <td>/opt/ml/input/data/train/images2/001382_female...</td>\n",
       "      <td>1</td>\n",
       "      <td>female</td>\n",
       "      <td>60</td>\n",
       "    </tr>\n",
       "    <tr>\n",
       "      <th>1721</th>\n",
       "      <td>001382</td>\n",
       "      <td>/opt/ml/input/data/train/images2/001382_female...</td>\n",
       "      <td>1</td>\n",
       "      <td>female</td>\n",
       "      <td>60</td>\n",
       "    </tr>\n",
       "  </tbody>\n",
       "</table>\n",
       "</div>"
      ],
      "text/plain": [
       "         ids                                        image_paths  mask_labels  \\\n",
       "0     001382  /opt/ml/input/data/train/images2/001382_female...            2   \n",
       "1     001382  /opt/ml/input/data/train/images2/001382_female...            2   \n",
       "2     001382  /opt/ml/input/data/train/images2/001382_female...            2   \n",
       "3     001382  /opt/ml/input/data/train/images2/001382_female...            2   \n",
       "4     001382  /opt/ml/input/data/train/images2/001382_female...            2   \n",
       "5     001382  /opt/ml/input/data/train/images2/001382_female...            2   \n",
       "936   001382  /opt/ml/input/data/train/images2/001382_female...            0   \n",
       "937   001382  /opt/ml/input/data/train/images2/001382_female...            0   \n",
       "938   001382  /opt/ml/input/data/train/images2/001382_female...            0   \n",
       "939   001382  /opt/ml/input/data/train/images2/001382_female...            0   \n",
       "940   001382  /opt/ml/input/data/train/images2/001382_female...            0   \n",
       "1716  001382  /opt/ml/input/data/train/images2/001382_female...            1   \n",
       "1717  001382  /opt/ml/input/data/train/images2/001382_female...            1   \n",
       "1718  001382  /opt/ml/input/data/train/images2/001382_female...            1   \n",
       "1719  001382  /opt/ml/input/data/train/images2/001382_female...            1   \n",
       "1720  001382  /opt/ml/input/data/train/images2/001382_female...            1   \n",
       "1721  001382  /opt/ml/input/data/train/images2/001382_female...            1   \n",
       "\n",
       "     gender_labels  age_labels  \n",
       "0           female          60  \n",
       "1           female          60  \n",
       "2           female          60  \n",
       "3           female          60  \n",
       "4           female          60  \n",
       "5           female          60  \n",
       "936         female          60  \n",
       "937         female          60  \n",
       "938         female          60  \n",
       "939         female          60  \n",
       "940         female          60  \n",
       "1716        female          60  \n",
       "1717        female          60  \n",
       "1718        female          60  \n",
       "1719        female          60  \n",
       "1720        female          60  \n",
       "1721        female          60  "
      ]
     },
     "execution_count": 31,
     "metadata": {},
     "output_type": "execute_result"
    }
   ],
   "source": [
    "new_df[new_df.ids=='001382']"
   ]
  },
  {
   "cell_type": "code",
   "execution_count": 32,
   "id": "c6ba8ea8-a8cc-4606-bd61-a00d3508cc9d",
   "metadata": {},
   "outputs": [],
   "source": [
    "new_train= pd.concat([train_df, new_df])\n",
    "new_train.reset_index(inplace=True)"
   ]
  },
  {
   "cell_type": "code",
   "execution_count": 33,
   "id": "6dfb4986-ad7c-4e85-a29e-15a4220fc608",
   "metadata": {},
   "outputs": [
    {
     "data": {
      "text/html": [
       "<div>\n",
       "<style scoped>\n",
       "    .dataframe tbody tr th:only-of-type {\n",
       "        vertical-align: middle;\n",
       "    }\n",
       "\n",
       "    .dataframe tbody tr th {\n",
       "        vertical-align: top;\n",
       "    }\n",
       "\n",
       "    .dataframe thead th {\n",
       "        text-align: right;\n",
       "    }\n",
       "</style>\n",
       "<table border=\"1\" class=\"dataframe\">\n",
       "  <thead>\n",
       "    <tr style=\"text-align: right;\">\n",
       "      <th></th>\n",
       "      <th>index</th>\n",
       "      <th>ids</th>\n",
       "      <th>image_paths</th>\n",
       "      <th>mask_labels</th>\n",
       "      <th>gender_labels</th>\n",
       "      <th>age_labels</th>\n",
       "    </tr>\n",
       "  </thead>\n",
       "  <tbody>\n",
       "    <tr>\n",
       "      <th>0</th>\n",
       "      <td>0</td>\n",
       "      <td>003130</td>\n",
       "      <td>/opt/ml/input/data/train/images/003130_female_...</td>\n",
       "      <td>0</td>\n",
       "      <td>female</td>\n",
       "      <td>19</td>\n",
       "    </tr>\n",
       "    <tr>\n",
       "      <th>1</th>\n",
       "      <td>1</td>\n",
       "      <td>003130</td>\n",
       "      <td>/opt/ml/input/data/train/images/003130_female_...</td>\n",
       "      <td>2</td>\n",
       "      <td>female</td>\n",
       "      <td>19</td>\n",
       "    </tr>\n",
       "    <tr>\n",
       "      <th>2</th>\n",
       "      <td>2</td>\n",
       "      <td>003130</td>\n",
       "      <td>/opt/ml/input/data/train/images/003130_female_...</td>\n",
       "      <td>0</td>\n",
       "      <td>female</td>\n",
       "      <td>19</td>\n",
       "    </tr>\n",
       "    <tr>\n",
       "      <th>3</th>\n",
       "      <td>3</td>\n",
       "      <td>003130</td>\n",
       "      <td>/opt/ml/input/data/train/images/003130_female_...</td>\n",
       "      <td>0</td>\n",
       "      <td>female</td>\n",
       "      <td>19</td>\n",
       "    </tr>\n",
       "    <tr>\n",
       "      <th>4</th>\n",
       "      <td>4</td>\n",
       "      <td>003130</td>\n",
       "      <td>/opt/ml/input/data/train/images/003130_female_...</td>\n",
       "      <td>1</td>\n",
       "      <td>female</td>\n",
       "      <td>19</td>\n",
       "    </tr>\n",
       "    <tr>\n",
       "      <th>...</th>\n",
       "      <td>...</td>\n",
       "      <td>...</td>\n",
       "      <td>...</td>\n",
       "      <td>...</td>\n",
       "      <td>...</td>\n",
       "      <td>...</td>\n",
       "    </tr>\n",
       "    <tr>\n",
       "      <th>18138</th>\n",
       "      <td>2647</td>\n",
       "      <td>003729</td>\n",
       "      <td>/opt/ml/input/data/train/images2/003729_female...</td>\n",
       "      <td>1</td>\n",
       "      <td>female</td>\n",
       "      <td>60</td>\n",
       "    </tr>\n",
       "    <tr>\n",
       "      <th>18139</th>\n",
       "      <td>2648</td>\n",
       "      <td>003729</td>\n",
       "      <td>/opt/ml/input/data/train/images2/003729_female...</td>\n",
       "      <td>1</td>\n",
       "      <td>female</td>\n",
       "      <td>60</td>\n",
       "    </tr>\n",
       "    <tr>\n",
       "      <th>18140</th>\n",
       "      <td>2649</td>\n",
       "      <td>003729</td>\n",
       "      <td>/opt/ml/input/data/train/images2/003729_female...</td>\n",
       "      <td>1</td>\n",
       "      <td>female</td>\n",
       "      <td>60</td>\n",
       "    </tr>\n",
       "    <tr>\n",
       "      <th>18141</th>\n",
       "      <td>2650</td>\n",
       "      <td>003729</td>\n",
       "      <td>/opt/ml/input/data/train/images2/003729_female...</td>\n",
       "      <td>1</td>\n",
       "      <td>female</td>\n",
       "      <td>60</td>\n",
       "    </tr>\n",
       "    <tr>\n",
       "      <th>18142</th>\n",
       "      <td>2651</td>\n",
       "      <td>003729</td>\n",
       "      <td>/opt/ml/input/data/train/images2/003729_female...</td>\n",
       "      <td>1</td>\n",
       "      <td>female</td>\n",
       "      <td>60</td>\n",
       "    </tr>\n",
       "  </tbody>\n",
       "</table>\n",
       "<p>18143 rows × 6 columns</p>\n",
       "</div>"
      ],
      "text/plain": [
       "       index     ids                                        image_paths  \\\n",
       "0          0  003130  /opt/ml/input/data/train/images/003130_female_...   \n",
       "1          1  003130  /opt/ml/input/data/train/images/003130_female_...   \n",
       "2          2  003130  /opt/ml/input/data/train/images/003130_female_...   \n",
       "3          3  003130  /opt/ml/input/data/train/images/003130_female_...   \n",
       "4          4  003130  /opt/ml/input/data/train/images/003130_female_...   \n",
       "...      ...     ...                                                ...   \n",
       "18138   2647  003729  /opt/ml/input/data/train/images2/003729_female...   \n",
       "18139   2648  003729  /opt/ml/input/data/train/images2/003729_female...   \n",
       "18140   2649  003729  /opt/ml/input/data/train/images2/003729_female...   \n",
       "18141   2650  003729  /opt/ml/input/data/train/images2/003729_female...   \n",
       "18142   2651  003729  /opt/ml/input/data/train/images2/003729_female...   \n",
       "\n",
       "       mask_labels gender_labels  age_labels  \n",
       "0                0        female          19  \n",
       "1                2        female          19  \n",
       "2                0        female          19  \n",
       "3                0        female          19  \n",
       "4                1        female          19  \n",
       "...            ...           ...         ...  \n",
       "18138            1        female          60  \n",
       "18139            1        female          60  \n",
       "18140            1        female          60  \n",
       "18141            1        female          60  \n",
       "18142            1        female          60  \n",
       "\n",
       "[18143 rows x 6 columns]"
      ]
     },
     "execution_count": 33,
     "metadata": {},
     "output_type": "execute_result"
    }
   ],
   "source": [
    "new_train"
   ]
  },
  {
   "cell_type": "code",
   "execution_count": 35,
   "id": "07993f8b-9c5b-491f-a7ba-b3938a4c4ebd",
   "metadata": {},
   "outputs": [
    {
     "data": {
      "text/plain": [
       "<AxesSubplot:xlabel='age_labels', ylabel='Count'>"
      ]
     },
     "execution_count": 35,
     "metadata": {},
     "output_type": "execute_result"
    },
    {
     "data": {
      "image/png": "[encoded data removed]",
      "text/plain": [
       "<Figure size 432x288 with 1 Axes>"
      ]
     },
     "metadata": {
      "needs_background": "light"
     },
     "output_type": "display_data"
    }
   ],
   "source": [
    "sns.histplot(data=new_train, x=new_train.age_labels,  palette=pal)"
   ]
  },
  {
   "cell_type": "markdown",
   "id": "8269ec89-a90f-4c34-b031-fd73388fd578",
   "metadata": {},
   "source": [
    "- 30미만인 라벨 0과 라벨 수가 비슷해짐"
   ]
  },
  {
   "cell_type": "code",
   "execution_count": null,
   "id": "fc02b5c5-9d4f-47d7-803c-0069d8c8af66",
   "metadata": {},
   "outputs": [],
   "source": [
    "# 마스크 안쓴사람\n",
    "normal= train_df[train_df.mask_labels  == 2]\n",
    "print(len(normal))\n",
    "\n",
    "\n",
    "# 마스크 쓴사람\n",
    "wear= train_df[train_df.mask_labels  == 0]\n",
    "print(len(wear))\n",
    "\n",
    "\n",
    "# 마스크 이상하게 쓴사람\n",
    "incorrect= train_df[train_df.mask_labels  == 1]\n",
    "print(len(incorrect))"
   ]
  }
 ],
 "metadata": {
  "kernelspec": {
   "display_name": "venv_kernel",
   "language": "python",
   "name": "venv"
  },
  "language_info": {
   "codemirror_mode": {
    "name": "ipython",
    "version": 3
   },
   "file_extension": ".py",
   "mimetype": "text/x-python",
   "name": "python",
   "nbconvert_exporter": "python",
   "pygments_lexer": "ipython3",
   "version": "3.8.12"
  }
 },
 "nbformat": 4,
 "nbformat_minor": 5
}
